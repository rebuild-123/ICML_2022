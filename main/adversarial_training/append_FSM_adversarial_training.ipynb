{
 "cells": [
  {
   "cell_type": "code",
   "execution_count": 1,
   "id": "8211cd7b",
   "metadata": {},
   "outputs": [],
   "source": [
    "import os\n",
    "import numpy as np\n",
    "import pandas as pd\n",
    "from tqdm import tqdm\n",
    "import multiprocessing as mp\n",
    "from datetime import datetime\n",
    "from sklearn.model_selection import train_test_split\n",
    "import torch\n",
    "from torch import nn\n",
    "from torch.optim import Adam\n",
    "import torch.nn.functional as F\n",
    "from torch.utils.data import DataLoader, Dataset\n",
    "os.environ[\"CUDA_VISIBLE_DEVICES\"] = '1'"
   ]
  },
  {
   "cell_type": "code",
   "execution_count": 2,
   "id": "c56abbf7",
   "metadata": {},
   "outputs": [],
   "source": [
    "trained_model_path = '/workdir/security/home/junjiehuang2468/paper/trained_models_weight/ember/adversarial_training/append_FSM/'\n",
    "data_path = \"/workdir/security/home/junjiehuang2468/paper/data/ember2018/\"\n",
    "train_data_path = data_path + \"malwares/\" \n",
    "test_data_path = data_path + \"test_malwares/\" "
   ]
  },
  {
   "cell_type": "code",
   "execution_count": 3,
   "id": "ec03e426",
   "metadata": {},
   "outputs": [],
   "source": [
    "CUDA = True if torch.cuda.is_available() else False\n",
    "NUM_WORKERS = 24\n",
    "BATCH_SIZE = 20\n",
    "# BATCH_SIZE = 10\n",
    "LEAVE_BIT_NUMBER = 20000\n",
    "KERNEL_SIZE = 500"
   ]
  },
  {
   "cell_type": "code",
   "execution_count": 4,
   "id": "f5d7bcea",
   "metadata": {},
   "outputs": [],
   "source": [
    "trainset = pd.read_csv(data_path + 'train_dataset.csv')\n",
    "validset = pd.read_csv(data_path + 'valid_dataset.csv')\n",
    "# testset = pd.read_csv(data_path + 'test_dataset.csv')\n",
    "# testset = testset.iloc[np.argwhere(testset['labels'].values == 1).squeeze(),:]"
   ]
  },
  {
   "cell_type": "code",
   "execution_count": 5,
   "id": "851ac7dd",
   "metadata": {},
   "outputs": [],
   "source": [
    "class ExeDataset(Dataset):\n",
    "    def __init__(self, malware_names, data_path, labels, leave_bit_num):\n",
    "        self.malware_names = malware_names\n",
    "        self.data_path = data_path\n",
    "        self.labels = labels\n",
    "        self.leave_bit_num = leave_bit_num\n",
    "\n",
    "    def __len__(self):\n",
    "        return len(self.malware_names)\n",
    "\n",
    "    def __getitem__(self, idx):\n",
    "        with open(self.data_path + self.malware_names[idx] + '.txt','rb') as fp:\n",
    "            data = [bit+1 for bit in fp.read()[:self.leave_bit_num]]\n",
    "            padding = [0]*(self.leave_bit_num-len(data))\n",
    "            data = data + padding\n",
    "\n",
    "        return np.array(data), np.array([self.labels[idx]])"
   ]
  },
  {
   "cell_type": "code",
   "execution_count": 6,
   "id": "82ad1d69",
   "metadata": {},
   "outputs": [],
   "source": [
    "train_dataset = ExeDataset(\n",
    "    trainset[\"id\"].tolist(), \n",
    "    train_data_path, \n",
    "    trainset[\"labels\"].tolist(), \n",
    "    LEAVE_BIT_NUMBER\n",
    ")\n",
    "valid_dataset = ExeDataset(\n",
    "    validset[\"id\"].tolist(), \n",
    "    train_data_path, \n",
    "    validset[\"labels\"].tolist(), \n",
    "    LEAVE_BIT_NUMBER\n",
    ")\n",
    "# test_dataset = ExeDataset(\n",
    "#     testset[\"id\"].tolist(), \n",
    "#     test_data_path, \n",
    "#     testset[\"labels\"].tolist(), \n",
    "#     LEAVE_BIT_NUMBER\n",
    "# )"
   ]
  },
  {
   "cell_type": "code",
   "execution_count": 7,
   "id": "d906666e",
   "metadata": {},
   "outputs": [],
   "source": [
    "trainloader = DataLoader(\n",
    "    dataset = train_dataset,\n",
    "    batch_size = BATCH_SIZE,\n",
    "    shuffle = False,\n",
    "    num_workers = NUM_WORKERS,\n",
    "    pin_memory = True\n",
    ")\n",
    "validloader = DataLoader(\n",
    "    dataset = valid_dataset,\n",
    "    batch_size = BATCH_SIZE,\n",
    "    shuffle = False,\n",
    "    num_workers = NUM_WORKERS,\n",
    "    pin_memory = True\n",
    ")\n",
    "# testloader = DataLoader(\n",
    "#     dataset = test_dataset,\n",
    "#     batch_size = BATCH_SIZE,\n",
    "#     shuffle = False,\n",
    "#     num_workers = NUM_WORKERS,\n",
    "#     pin_memory = True\n",
    "# )"
   ]
  },
  {
   "cell_type": "code",
   "execution_count": 8,
   "id": "96535922",
   "metadata": {},
   "outputs": [],
   "source": [
    "class Model(nn.Module):\n",
    "    def __init__(self, data_length = 2e6, kernel_size = 500):\n",
    "        super().__init__()\n",
    "        self.embedding = nn.Embedding(257, 8, padding_idx=0)\n",
    "        self.conv_layer_1 = nn.Conv1d(4, 128, kernel_size, stride = kernel_size, bias = True)\n",
    "        # self.bn_1 = nn.BatchNorm1d(128)\n",
    "        self.conv_layer_2 = nn.Conv1d(4, 128, kernel_size, stride = kernel_size, bias = True)\n",
    "        self.pool_layer_2 = nn.MaxPool1d(data_length//kernel_size)\n",
    "        self.fc_layer_3 = nn.Linear(128, 128)\n",
    "        self.fc_layer_4 = nn.Linear(128, 2)\n",
    "        \n",
    "    def forward(self,x):\n",
    "        embedd_x = self.embedding(x)\n",
    "        # embedd_x.requires_grad = True\n",
    "        embedd_x.retain_grad()\n",
    "        x = embedd_x.transpose(-1,-2)\n",
    "        x_conv_1 = self.conv_layer_1(x[:,:4,:])\n",
    "        x_conv_2 = torch.sigmoid(self.conv_layer_2(x[:,4:,:]))\n",
    "        x = x_conv_1*x_conv_2\n",
    "        del x_conv_1,x_conv_2\n",
    "        x = self.pool_layer_2(x).squeeze()\n",
    "        x = self.fc_layer_3(x)\n",
    "        x = self.fc_layer_4(x)\n",
    "        return x,embedd_x"
   ]
  },
  {
   "cell_type": "code",
   "execution_count": 14,
   "id": "0d42add6",
   "metadata": {},
   "outputs": [],
   "source": [
    "def train_def(model,trainloader,loss_fn,otpim,CUDA=True):\n",
    "    model.train()\n",
    "    total_acc = []\n",
    "    # bar = tqdm(validloader)\n",
    "    bar = tqdm(trainloader)\n",
    "    for step, (batch_data,batch_label) in enumerate(bar):\n",
    "        batch_data = batch_data.cuda() if CUDA else batch_data\n",
    "        batch_label = batch_label.cuda() if CUDA else batch_label\n",
    "        batch_label = batch_label.squeeze()\n",
    "\n",
    "        mask = (batch_data == 0).float()\n",
    "        random_padding = torch.randint_like(input=mask.float(),low=1,high=257) * mask\n",
    "        batch_data += random_padding.long()\n",
    "\n",
    "        true_label = torch.zeros((len(batch_label),2)).cuda()\n",
    "        for idx,target in enumerate(batch_label.squeeze()): true_label[idx,target] = 1\n",
    "        true_label = true_label.cuda() if CUDA else true_label\n",
    "\n",
    "        pred,embedd_x = model(batch_data)\n",
    "        loss = loss_fn(pred, true_label)\n",
    "        loss.backward()\n",
    "\n",
    "        attacked_embedd_x = embedd_x + 0.5*embedd_x.grad.sign()\n",
    "        all_embedd = model.embedding(torch.arange(start=0,end=257).cuda())\n",
    "\n",
    "        shape = attacked_embedd_x.shape\n",
    "        attacked_embedd_x = attacked_embedd_x.reshape((shape[0],shape[1],1,shape[2]))\n",
    "        attacked_embedd_x = attacked_embedd_x.expand(shape[0],shape[1],257,shape[2])\n",
    "\n",
    "        results = torch.linalg.norm(attacked_embedd_x - all_embedd,ord=2,dim=-1)\n",
    "        new_batch_data = ((1-mask)*batch_data + mask*torch.argmin(results,dim=-1)).long()\n",
    "\n",
    "        pred,embedd_x = model(new_batch_data)\n",
    "\n",
    "        true_label = torch.zeros((len(batch_label),2)).cuda()\n",
    "        for idx,target in enumerate(batch_label.squeeze()): true_label[idx,target] = 1\n",
    "        true_label = true_label.cuda() if CUDA else true_label\n",
    "        optim.zero_grad()\n",
    "        loss = loss_fn(pred,true_label)\n",
    "        loss.backward()\n",
    "        optim.step()\n",
    "\n",
    "        _, predicted = torch.max(pred, 1)\n",
    "        acc = (batch_label.cpu().data.numpy() == predicted.cpu().data.numpy()).mean()\n",
    "        total_acc.append(acc)\n",
    "        bar.set_description(f'{acc:4.3},{np.mean(total_acc):.5}')\n",
    "    return model"
   ]
  },
  {
   "cell_type": "code",
   "execution_count": 15,
   "id": "dd1765f6",
   "metadata": {},
   "outputs": [],
   "source": [
    "def valid_def(model,validloader,CUDA=True):\n",
    "    model.eval()\n",
    "    total_acc = []\n",
    "    bar = tqdm(validloader)\n",
    "    # bar = tqdm(trainloader)\n",
    "    for step, (batch_data,batch_label) in enumerate(bar):\n",
    "        batch_data = batch_data.cuda() if CUDA else batch_data\n",
    "        batch_label = batch_label.cuda() if CUDA else batch_label\n",
    "        batch_label = batch_label.squeeze()\n",
    "\n",
    "        pred,embedd_x = model(batch_data)\n",
    "\n",
    "        _, predicted = torch.max(pred, 1)\n",
    "        acc = (batch_label.cpu().data.numpy() == predicted.cpu().data.numpy()).mean()\n",
    "        total_acc.append(acc)\n",
    "        bar.set_description(f'{acc:4.3},{np.mean(total_acc):.5}')\n",
    "    return model,np.mean(total_acc)"
   ]
  },
  {
   "cell_type": "code",
   "execution_count": 16,
   "id": "1da9573a",
   "metadata": {},
   "outputs": [],
   "source": [
    "model = Model(data_length=LEAVE_BIT_NUMBER,kernel_size=KERNEL_SIZE)\n",
    "\n",
    "ce_loss = nn.CrossEntropyLoss()\n",
    "optim = Adam(model.parameters())\n",
    "\n",
    "model = model.cuda() if CUDA else model\n",
    "ce_loss = ce_loss.cuda() if CUDA else ce_less"
   ]
  },
  {
   "cell_type": "code",
   "execution_count": 17,
   "id": "ba9d0add",
   "metadata": {},
   "outputs": [],
   "source": [
    "time_dir = str(datetime.now())\n",
    "time_dir = time_dir[:time_dir.rfind(':')]\n",
    "os.mkdir(f'{trained_model_path}{time_dir}')"
   ]
  },
  {
   "cell_type": "code",
   "execution_count": null,
   "id": "b9ca0e29",
   "metadata": {},
   "outputs": [],
   "source": []
  },
  {
   "cell_type": "code",
   "execution_count": null,
   "id": "70534225",
   "metadata": {},
   "outputs": [
    {
     "name": "stdout",
     "output_type": "stream",
     "text": [
      "0\n"
     ]
    },
    {
     "name": "stderr",
     "output_type": "stream",
     "text": [
      "0.95,0.8397: 100%|██████████| 24000/24000 [16:41<00:00, 23.96it/s] \n",
      "0.75,0.87458: 100%|██████████| 6000/6000 [00:40<00:00, 148.24it/s]\n"
     ]
    },
    {
     "name": "stdout",
     "output_type": "stream",
     "text": [
      "1\n"
     ]
    },
    {
     "name": "stderr",
     "output_type": "stream",
     "text": [
      "0.85,0.89587: 100%|██████████| 24000/24000 [16:40<00:00, 23.99it/s]\n",
      "0.85,0.88068: 100%|██████████| 6000/6000 [00:37<00:00, 158.19it/s]\n"
     ]
    },
    {
     "name": "stdout",
     "output_type": "stream",
     "text": [
      "2\n"
     ]
    },
    {
     "name": "stderr",
     "output_type": "stream",
     "text": [
      "0.95,0.92271: 100%|██████████| 24000/24000 [16:42<00:00, 23.94it/s]\n",
      "0.75,0.8803: 100%|██████████| 6000/6000 [00:41<00:00, 145.61it/s] \n"
     ]
    },
    {
     "name": "stdout",
     "output_type": "stream",
     "text": [
      "3\n"
     ]
    },
    {
     "name": "stderr",
     "output_type": "stream",
     "text": [
      " 0.8,0.93355:  13%|█▎        | 3182/24000 [02:10<14:03, 24.67it/s]"
     ]
    }
   ],
   "source": [
    "for i in range(20):\n",
    "    print(i)\n",
    "    model = train_def(model,trainloader,ce_loss,optim,CUDA)\n",
    "    model,test_acc = valid_def(model,validloader,CUDA)\n",
    "    save_path = f'{trained_model_path}{time_dir}/append_FSM_epoch:{i}_test_acc:{test_acc:.6f}.pt'\n",
    "    torch.save(model.state_dict(),save_path)"
   ]
  },
  {
   "cell_type": "code",
   "execution_count": null,
   "id": "7ca6031c",
   "metadata": {},
   "outputs": [],
   "source": []
  },
  {
   "cell_type": "code",
   "execution_count": null,
   "id": "53c5f306",
   "metadata": {},
   "outputs": [],
   "source": []
  }
 ],
 "metadata": {
  "kernelspec": {
   "display_name": "Python 3",
   "language": "python",
   "name": "python3"
  },
  "language_info": {
   "codemirror_mode": {
    "name": "ipython",
    "version": 3
   },
   "file_extension": ".py",
   "mimetype": "text/x-python",
   "name": "python",
   "nbconvert_exporter": "python",
   "pygments_lexer": "ipython3",
   "version": "3.6.9"
  }
 },
 "nbformat": 4,
 "nbformat_minor": 5
}
