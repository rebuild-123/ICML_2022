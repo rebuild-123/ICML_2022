{
 "cells": [
  {
   "cell_type": "code",
   "execution_count": 1,
   "id": "33090c6f",
   "metadata": {},
   "outputs": [],
   "source": [
    "import os\n",
    "import pickle\n",
    "import numpy as np\n",
    "import pandas as pd\n",
    "from tqdm import tqdm\n",
    "import multiprocessing as mp\n",
    "from datetime import datetime\n",
    "from functools import partial\n",
    "from sklearn.model_selection import train_test_split\n",
    "import torch\n",
    "from torch import nn\n",
    "from torch.optim import Adam\n",
    "import torch.nn.functional as F\n",
    "from torch.utils.data import DataLoader, Dataset\n",
    "os.environ[\"CUDA_VISIBLE_DEVICES\"] = '2'"
   ]
  },
  {
   "cell_type": "code",
   "execution_count": 2,
   "id": "55e11337",
   "metadata": {},
   "outputs": [],
   "source": [
    "trained_model_path = '/workdir/security/home/junjiehuang2468/paper/trained_models_weight/ember/adversarial_training/PGD/'\n",
    "data_path = \"/workdir/security/home/junjiehuang2468/paper/data/ember2018/\"\n",
    "train_data_path = data_path + \"malwares/\" \n",
    "test_data_path = data_path + \"test_malwares/\" "
   ]
  },
  {
   "cell_type": "code",
   "execution_count": 3,
   "id": "c476fa05",
   "metadata": {},
   "outputs": [],
   "source": [
    "CUDA = True if torch.cuda.is_available() else False\n",
    "NUM_WORKERS = 24\n",
    "BATCH_SIZE = 20\n",
    "LEAVE_BIT_NUMBER = 20000\n",
    "KERNEL_SIZE = 500"
   ]
  },
  {
   "cell_type": "code",
   "execution_count": 4,
   "id": "35e89dc5",
   "metadata": {},
   "outputs": [],
   "source": [
    "trainset = pd.read_csv(data_path + 'train_dataset.csv')\n",
    "validset = pd.read_csv(data_path + 'valid_dataset.csv')\n",
    "# testset = pd.read_csv(data_path + 'test_dataset.csv')\n",
    "# testset = testset.iloc[np.argwhere(testset['labels'].values == 1).squeeze(),:]"
   ]
  },
  {
   "cell_type": "code",
   "execution_count": 5,
   "id": "28a2d8a1",
   "metadata": {},
   "outputs": [],
   "source": [
    "class ExeDataset(Dataset): # ExeDataset不是我取的，要記得改\n",
    "    def __init__(self, malware_names, data_path, labels, leave_bit_num):\n",
    "        self.malware_names = malware_names\n",
    "        self.data_path = data_path\n",
    "        self.labels = labels\n",
    "        self.leave_bit_num = leave_bit_num\n",
    "\n",
    "    def __len__(self):\n",
    "        return len(self.malware_names)\n",
    "\n",
    "    def __getitem__(self, idx):\n",
    "        with open(self.data_path + self.malware_names[idx] + '.txt','rb') as fp:\n",
    "            data = [bit+1 for bit in fp.read()[:self.leave_bit_num]]\n",
    "            padding = [0]*(self.leave_bit_num-len(data))\n",
    "            data = data + padding\n",
    "\n",
    "        return np.array(data), np.array([self.labels[idx]])"
   ]
  },
  {
   "cell_type": "code",
   "execution_count": 6,
   "id": "6176adec",
   "metadata": {},
   "outputs": [],
   "source": [
    "train_dataset = ExeDataset(\n",
    "    trainset[\"id\"].tolist(), \n",
    "    train_data_path, \n",
    "    trainset[\"labels\"].tolist(), \n",
    "    LEAVE_BIT_NUMBER\n",
    ")\n",
    "valid_dataset = ExeDataset(\n",
    "    validset[\"id\"].tolist(), \n",
    "    train_data_path, \n",
    "    validset[\"labels\"].tolist(), \n",
    "    LEAVE_BIT_NUMBER\n",
    ")\n",
    "# test_dataset = ExeDataset(\n",
    "#     testset[\"id\"].tolist(), \n",
    "#     test_data_path, \n",
    "#     testset[\"labels\"].tolist(), \n",
    "#     LEAVE_BIT_NUMBER\n",
    "# )"
   ]
  },
  {
   "cell_type": "code",
   "execution_count": 7,
   "id": "2d6e8d87",
   "metadata": {},
   "outputs": [],
   "source": [
    "trainloader = DataLoader(\n",
    "    dataset = train_dataset,\n",
    "    batch_size = BATCH_SIZE,\n",
    "    shuffle = False,\n",
    "    num_workers = NUM_WORKERS,\n",
    "    pin_memory = True\n",
    ")\n",
    "validloader = DataLoader(\n",
    "    dataset = valid_dataset,\n",
    "    batch_size = BATCH_SIZE,\n",
    "    shuffle = False,\n",
    "    num_workers = NUM_WORKERS,\n",
    "    pin_memory = True\n",
    ")\n",
    "# testloader = DataLoader(\n",
    "#     dataset = test_dataset,\n",
    "#     batch_size = BATCH_SIZE,\n",
    "#     shuffle = False,\n",
    "#     num_workers = NUM_WORKERS,\n",
    "#     pin_memory = True\n",
    "# )"
   ]
  },
  {
   "cell_type": "code",
   "execution_count": 8,
   "id": "cd521bbb",
   "metadata": {},
   "outputs": [],
   "source": [
    "class Model(nn.Module):\n",
    "    def __init__(self, data_length = 2e6, kernel_size = 500):\n",
    "        super().__init__()\n",
    "        self.embedding = nn.Embedding(257, 8, padding_idx=0)\n",
    "        self.conv_layer_1 = nn.Conv1d(4, 128, kernel_size, stride = kernel_size, bias = True)\n",
    "        # self.bn_1 = nn.BatchNorm1d(128)\n",
    "        self.conv_layer_2 = nn.Conv1d(4, 128, kernel_size, stride = kernel_size, bias = True)\n",
    "        self.pool_layer_2 = nn.MaxPool1d(data_length//kernel_size)\n",
    "        self.fc_layer_3 = nn.Linear(128, 128)\n",
    "        self.fc_layer_4 = nn.Linear(128, 2)\n",
    "        \n",
    "    def forward(self,x):\n",
    "        embedd_x = self.embedding(x)\n",
    "        # embedd_x.requires_grad = True\n",
    "        embedd_x.retain_grad()\n",
    "        x = embedd_x.transpose(-1,-2)\n",
    "        x_conv_1 = self.conv_layer_1(x[:,:4,:])\n",
    "        x_conv_2 = torch.sigmoid(self.conv_layer_2(x[:,4:,:]))\n",
    "        x = x_conv_1*x_conv_2\n",
    "        del x_conv_1,x_conv_2\n",
    "        x = self.pool_layer_2(x).squeeze()\n",
    "        x = self.fc_layer_3(x)\n",
    "        x = self.fc_layer_4(x)\n",
    "        return x,embedd_x"
   ]
  },
  {
   "cell_type": "code",
   "execution_count": 9,
   "id": "375e3db7",
   "metadata": {},
   "outputs": [],
   "source": [
    "def train_def(model,trainloader,loss_fn,otpim,CUDA=True):\n",
    "    model.train()\n",
    "    total_acc = []\n",
    "    # bar = tqdm(validloader)\n",
    "    bar = tqdm(trainloader)\n",
    "    for step, (batch_data,batch_label) in enumerate(bar):\n",
    "        batch_data = batch_data.cuda() if CUDA else batch_data\n",
    "        batch_label = batch_label.cuda() if CUDA else batch_label\n",
    "        batch_label = batch_label.squeeze()\n",
    "\n",
    "        optim.zero_grad()\n",
    "\n",
    "        true_label = torch.zeros((len(batch_label),2)).cuda()\n",
    "        for idx,target in enumerate(batch_label.squeeze()): true_label[idx,target] = 1\n",
    "        true_label = true_label.cuda() if CUDA else true_label\n",
    "\n",
    "        temp_total_acc = []\n",
    "        pred,embedd_x = model(batch_data)\n",
    "        _, predicted = torch.max(pred, 1)\n",
    "        acc = (batch_label.cpu().data.numpy() == predicted.cpu().data.numpy()).mean()\n",
    "        temp_total_acc.append(acc)\n",
    "\n",
    "        mask = (batch_data == 0).float()\n",
    "        random_padding = torch.randint_like(input=mask.float(),low=1,high=257) * mask\n",
    "        batch_data += random_padding.long()\n",
    "\n",
    "        pred,embedd_x = model(batch_data)\n",
    "        _, predicted = torch.max(pred, 1)\n",
    "        acc = (batch_label.cpu().data.numpy() == predicted.cpu().data.numpy()).mean()\n",
    "        temp_total_acc.append(acc)\n",
    "        for _ in range(8):\n",
    "            pred,embedd_x = model(batch_data)\n",
    "            loss = loss_fn(pred, true_label)\n",
    "            loss.backward()\n",
    "\n",
    "            attacked_embedd_x = embedd_x + 0.5*embedd_x.grad.sign()\n",
    "            all_embedd = model.embedding(torch.arange(start=0,end=257).cuda())\n",
    "\n",
    "            shape = attacked_embedd_x.shape\n",
    "            attacked_embedd_x = attacked_embedd_x.reshape((shape[0],shape[1],1,shape[2]))\n",
    "            attacked_embedd_x = attacked_embedd_x.expand(shape[0],shape[1],257,shape[2])\n",
    "\n",
    "            results = torch.linalg.norm(attacked_embedd_x - all_embedd,ord=2,dim=-1)\n",
    "            batch_data = ((1-mask)*batch_data + mask*torch.argmin(results,dim=-1)).long()\n",
    "\n",
    "            pred,embedd_x = model(batch_data)\n",
    "            _, predicted = torch.max(pred, 1)\n",
    "            acc = (batch_label.cpu().data.numpy() == predicted.cpu().data.numpy()).mean()\n",
    "            temp_total_acc.append(acc)\n",
    "\n",
    "        optim.zero_grad()\n",
    "        loss = loss_fn(pred,true_label)\n",
    "        loss.backward()\n",
    "        optim.step()\n",
    "\n",
    "        total_acc.append(temp_total_acc)\n",
    "        total_acc_str = '[' + ' '.join(map(lambda x: '%.9f'%x,np.mean(total_acc,axis=0))) + ']'\n",
    "        bar.set_description(total_acc_str)\n",
    "    \n",
    "    return model"
   ]
  },
  {
   "cell_type": "code",
   "execution_count": 10,
   "id": "2f38e447",
   "metadata": {},
   "outputs": [],
   "source": [
    "def valid_def(model,validloader,CUDA=True):\n",
    "    model.eval()\n",
    "    total_acc = []\n",
    "    bar = tqdm(validloader)\n",
    "    # bar = tqdm(trainloader)\n",
    "    for step, (batch_data,batch_label) in enumerate(bar):\n",
    "        batch_data = batch_data.cuda() if CUDA else batch_data\n",
    "        batch_label = batch_label.cuda() if CUDA else batch_label\n",
    "        batch_label = batch_label.squeeze()\n",
    "\n",
    "        optim.zero_grad()\n",
    "\n",
    "        true_label = torch.zeros((len(batch_label),2)).cuda()\n",
    "        for idx,target in enumerate(batch_label.squeeze()): true_label[idx,target] = 1\n",
    "        true_label = true_label.cuda() if CUDA else true_label\n",
    "\n",
    "        temp_total_acc = []\n",
    "        pred,embedd_x = model(batch_data)\n",
    "        _, predicted = torch.max(pred, 1)\n",
    "        acc = (batch_label.cpu().data.numpy() == predicted.cpu().data.numpy()).mean()\n",
    "        temp_total_acc.append(acc)\n",
    "        \n",
    "        total_acc_str = '[' + ' '.join(map(lambda x: '%.9f'%x,np.mean(temp_total_acc))) + ']'\n",
    "        bar.set_description(f\"test：{acc:4f}, test mean: {np.mean(temp_total_acc):4f}\")\n",
    "    \n",
    "    return model,np.mean(temp_total_acc)"
   ]
  },
  {
   "cell_type": "code",
   "execution_count": 11,
   "id": "be379ecb",
   "metadata": {},
   "outputs": [],
   "source": [
    "model = Model(data_length=LEAVE_BIT_NUMBER,kernel_size=KERNEL_SIZE)\n",
    "\n",
    "ce_loss = nn.CrossEntropyLoss()\n",
    "optim = Adam(model.parameters())\n",
    "\n",
    "model = model.cuda() if CUDA else model\n",
    "ce_loss = ce_loss.cuda() if CUDA else ce_less"
   ]
  },
  {
   "cell_type": "code",
   "execution_count": 12,
   "id": "285b8208",
   "metadata": {},
   "outputs": [],
   "source": [
    "time_dir = str(datetime.now())\n",
    "time_dir = time_dir[:time_dir.rfind(':')]\n",
    "os.mkdir(f'{trained_model_path}{time_dir}')"
   ]
  },
  {
   "cell_type": "code",
   "execution_count": null,
   "id": "69856354",
   "metadata": {},
   "outputs": [
    {
     "name": "stdout",
     "output_type": "stream",
     "text": [
      "0\n"
     ]
    },
    {
     "name": "stderr",
     "output_type": "stream",
     "text": [
      "[0.764157459 0.764053867 0.755300414 0.750328039 0.746823204 0.743853591 0.741557320 0.740003453 0.738363260 0.736999309]:  12%|█▏        | 2896/24000 [13:37<1:39:10,  3.55it/s]"
     ]
    }
   ],
   "source": [
    "for i in range(20):\n",
    "    print(i)\n",
    "    model = train_def(model,trainloader,ce_loss,optim,CUDA)\n",
    "    model,test_acc = valid_def(model,validloader,CUDA)\n",
    "    save_path = f'{trained_model_path}{time_dir}/PGD_epoch:{i}_test_acc:{test_acc:.6f}.pt'\n",
    "    torch.save(model.state_dict(),save_path)"
   ]
  },
  {
   "cell_type": "code",
   "execution_count": null,
   "id": "34ba2c01",
   "metadata": {},
   "outputs": [],
   "source": []
  },
  {
   "cell_type": "code",
   "execution_count": null,
   "id": "5142943a",
   "metadata": {},
   "outputs": [],
   "source": []
  },
  {
   "cell_type": "code",
   "execution_count": null,
   "id": "6a07bdc0",
   "metadata": {},
   "outputs": [],
   "source": []
  }
 ],
 "metadata": {
  "kernelspec": {
   "display_name": "Python 3",
   "language": "python",
   "name": "python3"
  },
  "language_info": {
   "codemirror_mode": {
    "name": "ipython",
    "version": 3
   },
   "file_extension": ".py",
   "mimetype": "text/x-python",
   "name": "python",
   "nbconvert_exporter": "python",
   "pygments_lexer": "ipython3",
   "version": "3.6.9"
  }
 },
 "nbformat": 4,
 "nbformat_minor": 5
}
