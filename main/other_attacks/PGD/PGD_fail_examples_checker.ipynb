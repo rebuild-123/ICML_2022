{
 "cells": [
  {
   "cell_type": "code",
   "execution_count": 1,
   "id": "e2025350",
   "metadata": {},
   "outputs": [],
   "source": [
    "import os\n",
    "import pickle\n",
    "import numpy as np\n",
    "import pandas as pd\n",
    "from tqdm import tqdm\n",
    "import multiprocessing as mp\n",
    "from functools import partial\n",
    "from sklearn.model_selection import train_test_split\n",
    "import torch\n",
    "from torch import nn\n",
    "from torch.optim import Adam\n",
    "import torch.nn.functional as F\n",
    "from torch.utils.data import DataLoader, Dataset\n",
    "os.environ[\"CUDA_VISIBLE_DEVICES\"] = '1'"
   ]
  },
  {
   "cell_type": "code",
   "execution_count": 2,
   "id": "9d27fa0d",
   "metadata": {},
   "outputs": [],
   "source": [
    "trained_model_path = '/workdir/security/home/junjiehuang2468/paper/trained_models_weight/ember/'\n",
    "best_trained_model = '2022-01-18 14:55/2w_epoch:0_test_acc:0.890858.pt'\n",
    "data_path = \"/workdir/security/home/junjiehuang2468/paper/data/ember2018/\"\n",
    "train_data_path = data_path + \"malwares/\" \n",
    "test_data_path = data_path + \"test_malwares/\" "
   ]
  },
  {
   "cell_type": "code",
   "execution_count": 3,
   "id": "6032bc0f",
   "metadata": {},
   "outputs": [],
   "source": [
    "CUDA = True if torch.cuda.is_available() else False\n",
    "NUM_WORKERS = 24\n",
    "BATCH_SIZE = 20\n",
    "LEAVE_BIT_NUMBER = 20000\n",
    "KERNEL_SIZE = 500"
   ]
  },
  {
   "cell_type": "code",
   "execution_count": 4,
   "id": "8f2d80da",
   "metadata": {},
   "outputs": [],
   "source": [
    "LEAVE_BIT_NUMBER_DICT = {10000:'1w',20000:'2w'}"
   ]
  },
  {
   "cell_type": "code",
   "execution_count": 5,
   "id": "4812550f",
   "metadata": {},
   "outputs": [],
   "source": [
    "trainset = pd.read_csv(data_path + 'train_dataset.csv')\n",
    "validset = pd.read_csv(data_path + 'valid_dataset.csv')\n",
    "testset = pd.read_csv(data_path + 'test_dataset.csv')\n",
    "testset = testset.iloc[np.argwhere(testset['labels'].values == 1).squeeze(),:]"
   ]
  },
  {
   "cell_type": "code",
   "execution_count": 6,
   "id": "b1f2aaab",
   "metadata": {},
   "outputs": [],
   "source": [
    "class ExeDataset(Dataset): # ExeDataset不是我取的，要記得改\n",
    "    def __init__(self, malware_names, data_path, labels, leave_bit_num):\n",
    "        self.malware_names = malware_names\n",
    "        self.data_path = data_path\n",
    "        self.labels = labels\n",
    "        self.leave_bit_num = leave_bit_num\n",
    "\n",
    "    def __len__(self):\n",
    "        return len(self.malware_names)\n",
    "\n",
    "    def __getitem__(self, idx):\n",
    "        with open(self.data_path + self.malware_names[idx] + '.txt','rb') as fp:\n",
    "            data = [bit+1 for bit in fp.read()[:self.leave_bit_num]]\n",
    "            padding = [0]*(self.leave_bit_num-len(data))\n",
    "            data = data + padding\n",
    "\n",
    "        return np.array(data), np.array([self.labels[idx]])"
   ]
  },
  {
   "cell_type": "code",
   "execution_count": 7,
   "id": "19a4c347",
   "metadata": {},
   "outputs": [],
   "source": [
    "train_dataset = ExeDataset(\n",
    "    trainset[\"id\"].tolist(), \n",
    "    train_data_path, \n",
    "    trainset[\"labels\"].tolist(), \n",
    "    LEAVE_BIT_NUMBER\n",
    ")\n",
    "valid_dataset = ExeDataset(\n",
    "    validset[\"id\"].tolist(), \n",
    "    train_data_path, \n",
    "    validset[\"labels\"].tolist(), \n",
    "    LEAVE_BIT_NUMBER\n",
    ")\n",
    "test_dataset = ExeDataset(\n",
    "    testset[\"id\"].tolist(), \n",
    "    test_data_path, \n",
    "    testset[\"labels\"].tolist(), \n",
    "    LEAVE_BIT_NUMBER\n",
    ")"
   ]
  },
  {
   "cell_type": "code",
   "execution_count": 8,
   "id": "dfad3511",
   "metadata": {},
   "outputs": [],
   "source": [
    "trainloader = DataLoader(\n",
    "    dataset = train_dataset,\n",
    "    batch_size = BATCH_SIZE,\n",
    "    shuffle = False,\n",
    "    num_workers = NUM_WORKERS,\n",
    "    pin_memory = True\n",
    ")\n",
    "validloader = DataLoader(\n",
    "    dataset = valid_dataset,\n",
    "    batch_size = BATCH_SIZE,\n",
    "    shuffle = False,\n",
    "    num_workers = NUM_WORKERS,\n",
    "    pin_memory = True\n",
    ")\n",
    "testloader = DataLoader(\n",
    "    dataset = test_dataset,\n",
    "    batch_size = BATCH_SIZE,\n",
    "    shuffle = False,\n",
    "    num_workers = NUM_WORKERS,\n",
    "    pin_memory = True\n",
    ")"
   ]
  },
  {
   "cell_type": "code",
   "execution_count": 9,
   "id": "1ffa1bb9",
   "metadata": {},
   "outputs": [],
   "source": [
    "class Model(nn.Module):\n",
    "    def __init__(self, data_length = 2e6, kernel_size = 500):\n",
    "        super().__init__()\n",
    "        self.embedding = nn.Embedding(257, 8, padding_idx=0)\n",
    "        self.conv_layer_1 = nn.Conv1d(4, 128, kernel_size, stride = kernel_size, bias = True)\n",
    "        # self.bn_1 = nn.BatchNorm1d(128)\n",
    "        self.conv_layer_2 = nn.Conv1d(4, 128, kernel_size, stride = kernel_size, bias = True)\n",
    "        self.pool_layer_2 = nn.MaxPool1d(data_length//kernel_size)\n",
    "        self.fc_layer_3 = nn.Linear(128, 128)\n",
    "        self.fc_layer_4 = nn.Linear(128, 2)\n",
    "        \n",
    "    def forward(self,x):\n",
    "        embedd_x = self.embedding(x)\n",
    "        # embedd_x.requires_grad = True\n",
    "        embedd_x.retain_grad()\n",
    "        x = embedd_x.transpose(-1,-2)\n",
    "        x_conv_1 = self.conv_layer_1(x[:,:4,:])\n",
    "        x_conv_2 = torch.sigmoid(self.conv_layer_2(x[:,4:,:]))\n",
    "        x = x_conv_1*x_conv_2\n",
    "        del x_conv_1,x_conv_2\n",
    "        x = self.pool_layer_2(x).squeeze()\n",
    "        x = self.fc_layer_3(x)\n",
    "        x = self.fc_layer_4(x)\n",
    "        return x,embedd_x"
   ]
  },
  {
   "cell_type": "code",
   "execution_count": 10,
   "id": "cff272b6",
   "metadata": {},
   "outputs": [],
   "source": [
    "def mp_func(idx,one_of_all_embedd,attacked_embedd_x):\n",
    "    temp = np.linalg.norm(attacked_embedd_x - one_of_all_embedd,ord=2,axis=-1)\n",
    "    temp = np.expand_dims(temp, axis=-1)\n",
    "    return [idx,temp]"
   ]
  },
  {
   "cell_type": "code",
   "execution_count": 11,
   "id": "9d7425eb",
   "metadata": {},
   "outputs": [],
   "source": [
    "model = Model(data_length=LEAVE_BIT_NUMBER,kernel_size=KERNEL_SIZE)\n",
    "\n",
    "ce_loss = nn.CrossEntropyLoss()\n",
    "optim = Adam(model.parameters())\n",
    "\n",
    "model = model.cuda() if CUDA else model\n",
    "ce_loss = ce_loss.cuda() if CUDA else ce_less"
   ]
  },
  {
   "cell_type": "code",
   "execution_count": 12,
   "id": "72d9a69b",
   "metadata": {},
   "outputs": [
    {
     "data": {
      "text/plain": [
       "<All keys matched successfully>"
      ]
     },
     "execution_count": 12,
     "metadata": {},
     "output_type": "execute_result"
    }
   ],
   "source": [
    "model.load_state_dict(torch.load(trained_model_path + best_trained_model))"
   ]
  },
  {
   "cell_type": "code",
   "execution_count": 13,
   "id": "398ba25e",
   "metadata": {},
   "outputs": [],
   "source": [
    "from collections import defaultdict\n",
    "dic = defaultdict(list)"
   ]
  },
  {
   "cell_type": "code",
   "execution_count": null,
   "id": "36196402",
   "metadata": {
    "scrolled": true
   },
   "outputs": [
    {
     "name": "stderr",
     "output_type": "stream",
     "text": [
      "[0.873076923 0.430769231 0.003846154 0.003846154 0.003846154 0.003846154 0.003846154 0.003846154 0.003846154 0.003846154]:   0%|          | 13/5000 [00:05<21:20,  3.90it/s] "
     ]
    },
    {
     "name": "stdout",
     "output_type": "stream",
     "text": [
      "253\n",
      "0\n"
     ]
    },
    {
     "name": "stderr",
     "output_type": "stream",
     "text": [
      "[0.876190476 0.433333333 0.004761905 0.004761905 0.004761905 0.004761905 0.004761905 0.004761905 0.004761905 0.004761905]:   0%|          | 21/5000 [00:07<20:41,  4.01it/s]"
     ]
    },
    {
     "name": "stdout",
     "output_type": "stream",
     "text": [
      "400\n",
      "0\n"
     ]
    },
    {
     "name": "stderr",
     "output_type": "stream",
     "text": [
      "[0.862121212 0.443939394 0.004545455 0.004545455 0.004545455 0.004545455 0.004545455 0.004545455 0.004545455 0.004545455]:   1%|          | 33/5000 [00:10<20:44,  3.99it/s]"
     ]
    },
    {
     "name": "stdout",
     "output_type": "stream",
     "text": [
      "647\n",
      "0\n"
     ]
    },
    {
     "name": "stderr",
     "output_type": "stream",
     "text": [
      "[0.864583333 0.459375000 0.004166667 0.004166667 0.004166667 0.004166667 0.004166667 0.004166667 0.004166667 0.004166667]:   1%|          | 48/5000 [00:14<20:21,  4.05it/s]"
     ]
    },
    {
     "name": "stdout",
     "output_type": "stream",
     "text": [
      "942\n",
      "0\n"
     ]
    },
    {
     "name": "stderr",
     "output_type": "stream",
     "text": [
      "[0.869166667 0.453333333 0.004166667 0.004166667 0.004166667 0.004166667 0.004166667 0.004166667 0.004166667 0.004166667]:   1%|          | 60/5000 [00:17<20:27,  4.02it/s]"
     ]
    },
    {
     "name": "stdout",
     "output_type": "stream",
     "text": [
      "1197\n",
      "0\n"
     ]
    },
    {
     "name": "stderr",
     "output_type": "stream",
     "text": [
      "[0.857638889 0.445833333 0.004166667 0.004166667 0.004166667 0.004166667 0.004166667 0.004166667 0.004166667 0.004166667]:   1%|▏         | 72/5000 [00:20<20:21,  4.04it/s]"
     ]
    },
    {
     "name": "stdout",
     "output_type": "stream",
     "text": [
      "1423\n",
      "0\n"
     ]
    },
    {
     "name": "stderr",
     "output_type": "stream",
     "text": [
      "[0.859411765 0.444117647 0.004117647 0.004117647 0.004117647 0.004117647 0.004117647 0.004117647 0.004117647 0.004117647]:   2%|▏         | 85/5000 [00:23<20:18,  4.03it/s]"
     ]
    },
    {
     "name": "stdout",
     "output_type": "stream",
     "text": [
      "1681\n",
      "0\n"
     ]
    },
    {
     "name": "stderr",
     "output_type": "stream",
     "text": [
      "[0.859302326 0.445348837 0.004651163 0.004651163 0.004651163 0.004651163 0.004651163 0.004651163 0.004651163 0.004651163]:   2%|▏         | 86/5000 [00:23<20:19,  4.03it/s]"
     ]
    },
    {
     "name": "stdout",
     "output_type": "stream",
     "text": [
      "1700\n",
      "0\n"
     ]
    },
    {
     "name": "stderr",
     "output_type": "stream",
     "text": [
      "[0.858620690 0.444827586 0.005172414 0.005172414 0.005172414 0.005172414 0.005172414 0.005172414 0.005172414 0.005172414]:   2%|▏         | 87/5000 [00:23<20:22,  4.02it/s]"
     ]
    },
    {
     "name": "stdout",
     "output_type": "stream",
     "text": [
      "1735\n",
      "0\n"
     ]
    },
    {
     "name": "stderr",
     "output_type": "stream",
     "text": [
      "[0.860112360 0.444943820 0.005617978 0.005617978 0.005617978 0.005617978 0.005617978 0.005617978 0.005617978 0.005617978]:   2%|▏         | 89/5000 [00:24<20:24,  4.01it/s]"
     ]
    },
    {
     "name": "stdout",
     "output_type": "stream",
     "text": [
      "1770\n",
      "0\n"
     ]
    },
    {
     "name": "stderr",
     "output_type": "stream",
     "text": [
      "[0.859693878 0.447959184 0.005612245 0.005612245 0.005612245 0.005612245 0.005612245 0.005612245 0.005612245 0.005612245]:   2%|▏         | 98/5000 [00:26<20:10,  4.05it/s]"
     ]
    },
    {
     "name": "stdout",
     "output_type": "stream",
     "text": [
      "1944\n",
      "0\n"
     ]
    },
    {
     "name": "stderr",
     "output_type": "stream",
     "text": [
      "[0.860101010 0.447474747 0.006060606 0.006060606 0.006060606 0.006060606 0.006060606 0.006060606 0.006060606 0.006060606]:   2%|▏         | 99/5000 [00:26<20:17,  4.03it/s]"
     ]
    },
    {
     "name": "stdout",
     "output_type": "stream",
     "text": [
      "1964\n",
      "0\n"
     ]
    },
    {
     "name": "stderr",
     "output_type": "stream",
     "text": [
      "[0.858119658 0.444871795 0.005555556 0.005555556 0.005555556 0.005555556 0.005555556 0.005555556 0.005555556 0.005555556]:   2%|▏         | 117/5000 [00:31<20:18,  4.01it/s]"
     ]
    },
    {
     "name": "stdout",
     "output_type": "stream",
     "text": [
      "2335\n",
      "0\n"
     ]
    },
    {
     "name": "stderr",
     "output_type": "stream",
     "text": [
      "[0.858264463 0.444628099 0.005785124 0.005785124 0.005785124 0.005785124 0.005785124 0.005785124 0.005785124 0.005785124]:   2%|▏         | 121/5000 [00:32<20:16,  4.01it/s]"
     ]
    },
    {
     "name": "stdout",
     "output_type": "stream",
     "text": [
      "2408\n",
      "0\n"
     ]
    },
    {
     "name": "stderr",
     "output_type": "stream",
     "text": [
      "[0.858130081 0.445934959 0.006097561 0.006097561 0.006097561 0.006097561 0.006097561 0.006097561 0.006097561 0.006097561]:   2%|▏         | 123/5000 [00:32<20:20,  4.00it/s]"
     ]
    },
    {
     "name": "stdout",
     "output_type": "stream",
     "text": [
      "2457\n",
      "0\n"
     ]
    },
    {
     "name": "stderr",
     "output_type": "stream",
     "text": [
      "[0.857307692 0.444230769 0.006538462 0.006538462 0.006538462 0.006538462 0.006538462 0.006538462 0.006538462 0.006538462]:   3%|▎         | 130/5000 [00:34<19:48,  4.10it/s]"
     ]
    },
    {
     "name": "stdout",
     "output_type": "stream",
     "text": [
      "2586\n",
      "0\n",
      "2591\n",
      "0\n"
     ]
    },
    {
     "name": "stderr",
     "output_type": "stream",
     "text": [
      "[0.861379310 0.442413793 0.006206897 0.006206897 0.006206897 0.006206897 0.006206897 0.006206897 0.006206897 0.006206897]:   3%|▎         | 145/5000 [00:38<20:03,  4.04it/s]"
     ]
    },
    {
     "name": "stdout",
     "output_type": "stream",
     "text": [
      "2882\n",
      "0\n"
     ]
    },
    {
     "name": "stderr",
     "output_type": "stream",
     "text": [
      "[0.861250000 0.443750000 0.005937500 0.005937500 0.005937500 0.005937500 0.005937500 0.005937500 0.005937500 0.005937500]:   3%|▎         | 160/5000 [00:41<20:13,  3.99it/s]"
     ]
    },
    {
     "name": "stdout",
     "output_type": "stream",
     "text": [
      "3191\n",
      "0\n"
     ]
    },
    {
     "name": "stderr",
     "output_type": "stream",
     "text": [
      "[0.862209302 0.448255814 0.005813953 0.005813953 0.005813953 0.005813953 0.005813953 0.005813953 0.005813953 0.005813953]:   3%|▎         | 172/5000 [00:44<20:12,  3.98it/s]"
     ]
    },
    {
     "name": "stdout",
     "output_type": "stream",
     "text": [
      "3432\n",
      "0\n"
     ]
    },
    {
     "name": "stderr",
     "output_type": "stream",
     "text": [
      "[0.861781609 0.447988506 0.006034483 0.006034483 0.006034483 0.006034483 0.006034483 0.006034483 0.006034483 0.006034483]:   3%|▎         | 174/5000 [00:45<20:16,  3.97it/s]"
     ]
    },
    {
     "name": "stdout",
     "output_type": "stream",
     "text": [
      "3472\n",
      "0\n"
     ]
    },
    {
     "name": "stderr",
     "output_type": "stream",
     "text": [
      "[0.861235955 0.447752809 0.006179775 0.006179775 0.006179775 0.006179775 0.006179775 0.006179775 0.006179775 0.006179775]:   4%|▎         | 178/5000 [00:46<20:12,  3.98it/s]"
     ]
    },
    {
     "name": "stdout",
     "output_type": "stream",
     "text": [
      "3549\n",
      "0\n"
     ]
    },
    {
     "name": "stderr",
     "output_type": "stream",
     "text": [
      "[0.861780105 0.448952880 0.006020942 0.006020942 0.006020942 0.006020942 0.006020942 0.006020942 0.006020942 0.006020942]:   4%|▍         | 191/5000 [00:49<20:21,  3.94it/s]"
     ]
    },
    {
     "name": "stdout",
     "output_type": "stream",
     "text": [
      "3809\n",
      "0\n"
     ]
    },
    {
     "name": "stderr",
     "output_type": "stream",
     "text": [
      "[0.861658031 0.448704663 0.006217617 0.006217617 0.006217617 0.006217617 0.006217617 0.006217617 0.006217617 0.006217617]:   4%|▍         | 193/5000 [00:50<20:17,  3.95it/s]"
     ]
    },
    {
     "name": "stdout",
     "output_type": "stream",
     "text": [
      "3858\n",
      "0\n"
     ]
    },
    {
     "name": "stderr",
     "output_type": "stream",
     "text": [
      "[0.861675127 0.449238579 0.006345178 0.006345178 0.006345178 0.006345178 0.006345178 0.006345178 0.006345178 0.006345178]:   4%|▍         | 197/5000 [00:51<20:12,  3.96it/s]"
     ]
    },
    {
     "name": "stdout",
     "output_type": "stream",
     "text": [
      "3928\n",
      "0\n"
     ]
    },
    {
     "name": "stderr",
     "output_type": "stream",
     "text": [
      "[0.860046729 0.445327103 0.006074766 0.006074766 0.006074766 0.006074766 0.006074766 0.006074766 0.006074766 0.006074766]:   4%|▍         | 214/5000 [00:55<20:11,  3.95it/s]"
     ]
    },
    {
     "name": "stdout",
     "output_type": "stream",
     "text": [
      "4275\n",
      "0\n"
     ]
    },
    {
     "name": "stderr",
     "output_type": "stream",
     "text": [
      "[0.859677419 0.444930876 0.006221198 0.006221198 0.006221198 0.006221198 0.006221198 0.006221198 0.006221198 0.006221198]:   4%|▍         | 217/5000 [00:56<19:48,  4.02it/s]"
     ]
    },
    {
     "name": "stdout",
     "output_type": "stream",
     "text": [
      "4332\n",
      "0\n"
     ]
    },
    {
     "name": "stderr",
     "output_type": "stream",
     "text": [
      "[0.860958904 0.446118721 0.006392694 0.006392694 0.006392694 0.006392694 0.006392694 0.006392694 0.006392694 0.006392694]:   4%|▍         | 219/5000 [00:56<19:34,  4.07it/s]"
     ]
    },
    {
     "name": "stdout",
     "output_type": "stream",
     "text": [
      "4366\n",
      "0\n"
     ]
    },
    {
     "name": "stderr",
     "output_type": "stream",
     "text": [
      "[0.861486486 0.445495495 0.006531532 0.006531532 0.006531532 0.006531532 0.006531532 0.006531532 0.006531532 0.006531532]:   4%|▍         | 222/5000 [00:57<19:23,  4.11it/s]"
     ]
    },
    {
     "name": "stdout",
     "output_type": "stream",
     "text": [
      "4425\n",
      "0\n"
     ]
    },
    {
     "name": "stderr",
     "output_type": "stream",
     "text": [
      "[0.860173160 0.445238095 0.006493506 0.006493506 0.006493506 0.006493506 0.006493506 0.006493506 0.006493506 0.006493506]:   5%|▍         | 231/5000 [00:59<20:05,  3.96it/s]"
     ]
    },
    {
     "name": "stdout",
     "output_type": "stream",
     "text": [
      "4619\n",
      "0\n"
     ]
    },
    {
     "name": "stderr",
     "output_type": "stream",
     "text": [
      "[0.859336100 0.441701245 0.006431535 0.006431535 0.006431535 0.006431535 0.006431535 0.006431535 0.006431535 0.006431535]:   5%|▍         | 241/5000 [01:02<20:15,  3.92it/s]"
     ]
    },
    {
     "name": "stdout",
     "output_type": "stream",
     "text": [
      "4819\n",
      "0\n"
     ]
    },
    {
     "name": "stderr",
     "output_type": "stream",
     "text": [
      "[0.860080645 0.443346774 0.006451613 0.006451613 0.006451613 0.006451613 0.006451613 0.006451613 0.006451613 0.006451613]:   5%|▍         | 248/5000 [01:04<20:02,  3.95it/s]"
     ]
    },
    {
     "name": "stdout",
     "output_type": "stream",
     "text": [
      "4941\n",
      "0\n"
     ]
    },
    {
     "name": "stderr",
     "output_type": "stream",
     "text": [
      "[0.860756972 0.443027888 0.006573705 0.006573705 0.006573705 0.006573705 0.006573705 0.006573705 0.006573705 0.006573705]:   5%|▌         | 251/5000 [01:04<20:05,  3.94it/s]"
     ]
    },
    {
     "name": "stdout",
     "output_type": "stream",
     "text": [
      "5006\n",
      "0\n"
     ]
    },
    {
     "name": "stderr",
     "output_type": "stream",
     "text": [
      "[0.859883721 0.442248062 0.006589147 0.006589147 0.006589147 0.006589147 0.006589147 0.006589147 0.006589147 0.006589147]:   5%|▌         | 258/5000 [01:06<20:02,  3.94it/s]"
     ]
    },
    {
     "name": "stdout",
     "output_type": "stream",
     "text": [
      "5151\n",
      "0\n"
     ]
    },
    {
     "name": "stderr",
     "output_type": "stream",
     "text": [
      "[0.860795455 0.444696970 0.006628788 0.006628788 0.006628788 0.006628788 0.006628788 0.006628788 0.006628788 0.006628788]:   5%|▌         | 264/5000 [01:08<20:14,  3.90it/s]"
     ]
    },
    {
     "name": "stdout",
     "output_type": "stream",
     "text": [
      "5273\n",
      "0\n"
     ]
    },
    {
     "name": "stderr",
     "output_type": "stream",
     "text": [
      "[0.859963100 0.445756458 0.006642066 0.006642066 0.006642066 0.006642066 0.006642066 0.006642066 0.006642066 0.006642066]:   5%|▌         | 271/5000 [01:09<20:01,  3.94it/s]"
     ]
    },
    {
     "name": "stdout",
     "output_type": "stream",
     "text": [
      "5410\n",
      "0\n"
     ]
    },
    {
     "name": "stderr",
     "output_type": "stream",
     "text": [
      "[0.860070671 0.444346290 0.006537102 0.006537102 0.006537102 0.006537102 0.006537102 0.006537102 0.006537102 0.006537102]:   6%|▌         | 283/5000 [01:12<20:03,  3.92it/s]"
     ]
    },
    {
     "name": "stdout",
     "output_type": "stream",
     "text": [
      "5649\n",
      "0\n"
     ]
    },
    {
     "name": "stderr",
     "output_type": "stream",
     "text": [
      "[0.860847458 0.444745763 0.006440678 0.006440678 0.006440678 0.006440678 0.006440678 0.006440678 0.006440678 0.006440678]:   6%|▌         | 295/5000 [01:16<20:00,  3.92it/s]"
     ]
    },
    {
     "name": "stdout",
     "output_type": "stream",
     "text": [
      "5886\n",
      "0\n"
     ]
    },
    {
     "name": "stderr",
     "output_type": "stream",
     "text": [
      "[0.861317568 0.444425676 0.006587838 0.006587838 0.006587838 0.006587838 0.006587838 0.006587838 0.006587838 0.006587838]:   6%|▌         | 296/5000 [01:16<20:02,  3.91it/s]"
     ]
    },
    {
     "name": "stdout",
     "output_type": "stream",
     "text": [
      "5903\n",
      "0\n"
     ]
    },
    {
     "name": "stderr",
     "output_type": "stream",
     "text": [
      "[0.861616162 0.444949495 0.006734007 0.006734007 0.006734007 0.006734007 0.006734007 0.006734007 0.006734007 0.006734007]:   6%|▌         | 297/5000 [01:16<20:00,  3.92it/s]"
     ]
    },
    {
     "name": "stdout",
     "output_type": "stream",
     "text": [
      "5936\n",
      "0\n"
     ]
    },
    {
     "name": "stderr",
     "output_type": "stream",
     "text": [
      "[0.860738255 0.444798658 0.006879195 0.006879195 0.006879195 0.006879195 0.006879195 0.006879195 0.006879195 0.006879195]:   6%|▌         | 298/5000 [01:16<19:58,  3.92it/s]"
     ]
    },
    {
     "name": "stdout",
     "output_type": "stream",
     "text": [
      "5951\n",
      "0\n"
     ]
    },
    {
     "name": "stderr",
     "output_type": "stream",
     "text": [
      "[0.860761589 0.446026490 0.006953642 0.006953642 0.006953642 0.006953642 0.006953642 0.006953642 0.006953642 0.006953642]:   6%|▌         | 302/5000 [01:17<19:50,  3.95it/s]"
     ]
    },
    {
     "name": "stdout",
     "output_type": "stream",
     "text": [
      "6029\n",
      "0\n"
     ]
    },
    {
     "name": "stderr",
     "output_type": "stream",
     "text": [
      "[0.860967742 0.448064516 0.006935484 0.006935484 0.006935484 0.006935484 0.006935484 0.006935484 0.006935484 0.006935484]:   6%|▌         | 310/5000 [01:19<19:59,  3.91it/s]"
     ]
    },
    {
     "name": "stdout",
     "output_type": "stream",
     "text": [
      "6193\n",
      "0\n"
     ]
    },
    {
     "name": "stderr",
     "output_type": "stream",
     "text": [
      "[0.859872611 0.447611465 0.007006369 0.007006369 0.007006369 0.007006369 0.007006369 0.007006369 0.007006369 0.007006369]:   6%|▋         | 314/5000 [01:20<19:55,  3.92it/s]"
     ]
    },
    {
     "name": "stdout",
     "output_type": "stream",
     "text": [
      "6278\n",
      "0\n"
     ]
    },
    {
     "name": "stderr",
     "output_type": "stream",
     "text": [
      "[0.859305994 0.447634069 0.007097792 0.007097792 0.007097792 0.007097792 0.007097792 0.007097792 0.007097792 0.007097792]:   6%|▋         | 317/5000 [01:21<19:53,  3.92it/s]"
     ]
    },
    {
     "name": "stdout",
     "output_type": "stream",
     "text": [
      "6332\n",
      "0\n"
     ]
    },
    {
     "name": "stderr",
     "output_type": "stream",
     "text": [
      "[0.859276730 0.447641509 0.007232704 0.007232704 0.007232704 0.007232704 0.007232704 0.007232704 0.007232704 0.007232704]:   6%|▋         | 318/5000 [01:21<19:51,  3.93it/s]"
     ]
    },
    {
     "name": "stdout",
     "output_type": "stream",
     "text": [
      "6341\n",
      "0\n"
     ]
    },
    {
     "name": "stderr",
     "output_type": "stream",
     "text": [
      "[0.856119403 0.445074627 0.007014925 0.007014925 0.007014925 0.007014925 0.007014925 0.007014925 0.007014925 0.007014925]:   7%|▋         | 335/5000 [01:26<19:43,  3.94it/s]"
     ]
    },
    {
     "name": "stdout",
     "output_type": "stream",
     "text": [
      "6686\n",
      "0\n"
     ]
    },
    {
     "name": "stderr",
     "output_type": "stream",
     "text": [
      "[0.854986150 0.444875346 0.006648199 0.006648199 0.006648199 0.006648199 0.006648199 0.006648199 0.006648199 0.006648199]:   7%|▋         | 361/5000 [01:32<19:45,  3.91it/s]"
     ]
    },
    {
     "name": "stdout",
     "output_type": "stream",
     "text": [
      "7200\n",
      "0\n"
     ]
    },
    {
     "name": "stderr",
     "output_type": "stream",
     "text": [
      "[0.855994550 0.444686649 0.006675749 0.006675749 0.006675749 0.006675749 0.006675749 0.006675749 0.006675749 0.006675749]:   7%|▋         | 367/5000 [01:34<19:47,  3.90it/s]"
     ]
    },
    {
     "name": "stdout",
     "output_type": "stream",
     "text": [
      "7332\n",
      "0\n"
     ]
    },
    {
     "name": "stderr",
     "output_type": "stream",
     "text": [
      "[0.856601467 0.442298289 0.006112469 0.006112469 0.006112469 0.006112469 0.006112469 0.006112469 0.006112469 0.006112469]:   8%|▊         | 409/5000 [01:45<18:51,  4.06it/s]"
     ]
    },
    {
     "name": "stdout",
     "output_type": "stream",
     "text": [
      "8179\n",
      "0\n"
     ]
    },
    {
     "name": "stderr",
     "output_type": "stream",
     "text": [
      "[0.855747126 0.441034483 0.005862069 0.005862069 0.005862069 0.005862069 0.005862069 0.005862069 0.005862069 0.005862069]:   9%|▊         | 435/5000 [01:51<19:29,  3.90it/s]"
     ]
    },
    {
     "name": "stdout",
     "output_type": "stream",
     "text": [
      "8682\n",
      "0\n"
     ]
    },
    {
     "name": "stderr",
     "output_type": "stream",
     "text": [
      "[0.856516854 0.441011236 0.005842697 0.005842697 0.005842697 0.005842697 0.005842697 0.005842697 0.005842697 0.005842697]:   9%|▉         | 445/5000 [01:54<19:30,  3.89it/s]"
     ]
    },
    {
     "name": "stdout",
     "output_type": "stream",
     "text": [
      "8899\n",
      "0\n"
     ]
    },
    {
     "name": "stderr",
     "output_type": "stream",
     "text": [
      "[0.856856540 0.440295359 0.005590717 0.005590717 0.005590717 0.005590717 0.005590717 0.005590717 0.005590717 0.005590717]:   9%|▉         | 474/5000 [02:01<18:46,  4.02it/s]"
     ]
    },
    {
     "name": "stdout",
     "output_type": "stream",
     "text": [
      "9476\n",
      "0\n"
     ]
    },
    {
     "name": "stderr",
     "output_type": "stream",
     "text": [
      "[0.855870021 0.439937107 0.005660377 0.005660377 0.005660377 0.005660377 0.005660377 0.005660377 0.005660377 0.005660377]:  10%|▉         | 477/5000 [02:02<18:45,  4.02it/s]"
     ]
    },
    {
     "name": "stdout",
     "output_type": "stream",
     "text": [
      "9536\n",
      "0\n"
     ]
    },
    {
     "name": "stderr",
     "output_type": "stream",
     "text": [
      "[0.855949896 0.440292276 0.005741127 0.005741127 0.005741127 0.005741127 0.005741127 0.005741127 0.005741127 0.005741127]:  10%|▉         | 479/5000 [02:02<19:05,  3.95it/s]"
     ]
    },
    {
     "name": "stdout",
     "output_type": "stream",
     "text": [
      "9577\n",
      "0\n"
     ]
    },
    {
     "name": "stderr",
     "output_type": "stream",
     "text": [
      "[0.856041667 0.440937500 0.005833333 0.005833333 0.005833333 0.005833333 0.005833333 0.005833333 0.005833333 0.005833333]:  10%|▉         | 480/5000 [02:03<19:09,  3.93it/s]"
     ]
    },
    {
     "name": "stdout",
     "output_type": "stream",
     "text": [
      "9595\n",
      "0\n"
     ]
    },
    {
     "name": "stderr",
     "output_type": "stream",
     "text": [
      "[0.856301653 0.440599174 0.005888430 0.005888430 0.005888430 0.005888430 0.005888430 0.005888430 0.005888430 0.005888430]:  10%|▉         | 484/5000 [02:04<19:11,  3.92it/s]"
     ]
    },
    {
     "name": "stdout",
     "output_type": "stream",
     "text": [
      "9672\n",
      "0\n"
     ]
    },
    {
     "name": "stderr",
     "output_type": "stream",
     "text": [
      "[0.855599214 0.440373281 0.005697446 0.005697446 0.005697446 0.005697446 0.005697446 0.005697446 0.005697446 0.005697446]:  10%|█         | 509/5000 [02:10<19:13,  3.89it/s]"
     ]
    },
    {
     "name": "stdout",
     "output_type": "stream",
     "text": [
      "10172\n",
      "0\n"
     ]
    },
    {
     "name": "stderr",
     "output_type": "stream",
     "text": [
      "[0.855588235 0.440294118 0.005784314 0.005784314 0.005784314 0.005784314 0.005784314 0.005784314 0.005784314 0.005784314]:  10%|█         | 510/5000 [02:10<19:18,  3.88it/s]"
     ]
    },
    {
     "name": "stdout",
     "output_type": "stream",
     "text": [
      "10183\n",
      "0\n"
     ]
    },
    {
     "name": "stderr",
     "output_type": "stream",
     "text": [
      "[0.856298450 0.440116279 0.005813953 0.005813953 0.005813953 0.005813953 0.005813953 0.005813953 0.005813953 0.005813953]:  10%|█         | 516/5000 [02:12<19:03,  3.92it/s]"
     ]
    },
    {
     "name": "stdout",
     "output_type": "stream",
     "text": [
      "10315\n",
      "0\n"
     ]
    },
    {
     "name": "stderr",
     "output_type": "stream",
     "text": [
      "[0.856660232 0.440540541 0.005888031 0.005888031 0.005888031 0.005888031 0.005888031 0.005888031 0.005888031 0.005888031]:  10%|█         | 518/5000 [02:12<19:10,  3.90it/s]"
     ]
    },
    {
     "name": "stdout",
     "output_type": "stream",
     "text": [
      "10348\n",
      "0\n"
     ]
    },
    {
     "name": "stderr",
     "output_type": "stream",
     "text": [
      "[0.856996269 0.439645522 0.005783582 0.005783582 0.005783582 0.005783582 0.005783582 0.005783582 0.005783582 0.005783582]:  11%|█         | 536/5000 [02:17<19:15,  3.86it/s]"
     ]
    },
    {
     "name": "stdout",
     "output_type": "stream",
     "text": [
      "10712\n",
      "0\n"
     ]
    },
    {
     "name": "stderr",
     "output_type": "stream",
     "text": [
      "[0.856771800 0.439610390 0.005844156 0.005844156 0.005844156 0.005844156 0.005844156 0.005844156 0.005844156 0.005844156]:  11%|█         | 539/5000 [02:18<19:19,  3.85it/s]"
     ]
    },
    {
     "name": "stdout",
     "output_type": "stream",
     "text": [
      "10767\n",
      "0\n"
     ]
    },
    {
     "name": "stderr",
     "output_type": "stream",
     "text": [
      "[0.856759259 0.439722222 0.005925926 0.005925926 0.005925926 0.005925926 0.005925926 0.005925926 0.005925926 0.005925926]:  11%|█         | 540/5000 [02:18<19:16,  3.86it/s]"
     ]
    },
    {
     "name": "stdout",
     "output_type": "stream",
     "text": [
      "10796\n",
      "0\n"
     ]
    },
    {
     "name": "stderr",
     "output_type": "stream",
     "text": [
      "[0.856734317 0.439852399 0.005996310 0.005996310 0.005996310 0.005996310 0.005996310 0.005996310 0.005996310 0.005996310]:  11%|█         | 542/5000 [02:19<19:23,  3.83it/s]"
     ]
    },
    {
     "name": "stdout",
     "output_type": "stream",
     "text": [
      "10830\n",
      "0\n"
     ]
    },
    {
     "name": "stderr",
     "output_type": "stream",
     "text": [
      "[0.856581197 0.437606838 0.005641026 0.005641026 0.005641026 0.005641026 0.005641026 0.005641026 0.005641026 0.005641026]:  12%|█▏        | 585/5000 [02:30<19:13,  3.83it/s]"
     ]
    },
    {
     "name": "stdout",
     "output_type": "stream",
     "text": [
      "11694\n",
      "0\n"
     ]
    },
    {
     "name": "stderr",
     "output_type": "stream",
     "text": [
      "[0.856643952 0.437649063 0.005706985 0.005706985 0.005706985 0.005706985 0.005706985 0.005706985 0.005706985 0.005706985]:  12%|█▏        | 587/5000 [02:30<19:11,  3.83it/s]"
     ]
    },
    {
     "name": "stdout",
     "output_type": "stream",
     "text": [
      "11721\n",
      "0\n"
     ]
    },
    {
     "name": "stderr",
     "output_type": "stream",
     "text": [
      "[0.856547619 0.437670068 0.005782313 0.005782313 0.005782313 0.005782313 0.005782313 0.005782313 0.005782313 0.005782313]:  12%|█▏        | 588/5000 [02:31<19:22,  3.80it/s]"
     ]
    },
    {
     "name": "stdout",
     "output_type": "stream",
     "text": [
      "11759\n",
      "0\n"
     ]
    },
    {
     "name": "stderr",
     "output_type": "stream",
     "text": [
      "[0.856576728 0.437942664 0.005817875 0.005817875 0.005817875 0.005817875 0.005817875 0.005817875 0.005817875 0.005817875]:  12%|█▏        | 593/5000 [02:32<19:07,  3.84it/s]"
     ]
    },
    {
     "name": "stdout",
     "output_type": "stream",
     "text": [
      "11857\n",
      "0\n"
     ]
    },
    {
     "name": "stderr",
     "output_type": "stream",
     "text": [
      "[0.856617647 0.437990196 0.005718954 0.005718954 0.005718954 0.005718954 0.005718954 0.005718954 0.005718954 0.005718954]:  12%|█▏        | 612/5000 [02:37<19:09,  3.82it/s]"
     ]
    },
    {
     "name": "stdout",
     "output_type": "stream",
     "text": [
      "12222\n",
      "0\n"
     ]
    },
    {
     "name": "stderr",
     "output_type": "stream",
     "text": [
      "[0.857770801 0.438461538 0.005572998 0.005572998 0.005572998 0.005572998 0.005572998 0.005572998 0.005572998 0.005572998]:  13%|█▎        | 637/5000 [02:43<18:43,  3.88it/s]"
     ]
    },
    {
     "name": "stdout",
     "output_type": "stream",
     "text": [
      "12730\n",
      "0\n"
     ]
    },
    {
     "name": "stderr",
     "output_type": "stream",
     "text": [
      "[0.857788162 0.438084112 0.005607477 0.005607477 0.005607477 0.005607477 0.005607477 0.005607477 0.005607477 0.005607477]:  13%|█▎        | 642/5000 [02:44<19:05,  3.80it/s]"
     ]
    },
    {
     "name": "stdout",
     "output_type": "stream",
     "text": [
      "12821\n",
      "0\n"
     ]
    },
    {
     "name": "stderr",
     "output_type": "stream",
     "text": [
      "[0.858295282 0.438203957 0.005555556 0.005555556 0.005555556 0.005555556 0.005555556 0.005555556 0.005555556 0.005555556]:  13%|█▎        | 657/5000 [02:48<18:53,  3.83it/s]"
     ]
    },
    {
     "name": "stdout",
     "output_type": "stream",
     "text": [
      "13128\n",
      "0\n"
     ]
    },
    {
     "name": "stderr",
     "output_type": "stream",
     "text": [
      "[0.858308157 0.437688822 0.005589124 0.005589124 0.005589124 0.005589124 0.005589124 0.005589124 0.005589124 0.005589124]:  13%|█▎        | 662/5000 [02:50<18:54,  3.82it/s]"
     ]
    },
    {
     "name": "stdout",
     "output_type": "stream",
     "text": [
      "13234\n",
      "0\n"
     ]
    },
    {
     "name": "stderr",
     "output_type": "stream",
     "text": [
      "[0.858245877 0.437331334 0.005622189 0.005622189 0.005622189 0.005622189 0.005622189 0.005622189 0.005622189 0.005622189]:  13%|█▎        | 667/5000 [02:51<18:52,  3.83it/s]"
     ]
    },
    {
     "name": "stdout",
     "output_type": "stream",
     "text": [
      "13327\n",
      "0\n"
     ]
    },
    {
     "name": "stderr",
     "output_type": "stream",
     "text": [
      "[0.858284024 0.436686391 0.005621302 0.005621302 0.005621302 0.005621302 0.005621302 0.005621302 0.005621302 0.005621302]:  14%|█▎        | 676/5000 [02:53<18:45,  3.84it/s]"
     ]
    },
    {
     "name": "stdout",
     "output_type": "stream",
     "text": [
      "13511\n",
      "0\n"
     ]
    },
    {
     "name": "stderr",
     "output_type": "stream",
     "text": [
      "[0.857833089 0.436237189 0.005636896 0.005636896 0.005636896 0.005636896 0.005636896 0.005636896 0.005636896 0.005636896]:  14%|█▎        | 683/5000 [02:55<18:39,  3.86it/s]"
     ]
    },
    {
     "name": "stdout",
     "output_type": "stream",
     "text": [
      "13652\n",
      "0\n"
     ]
    },
    {
     "name": "stderr",
     "output_type": "stream",
     "text": [
      "[0.857658960 0.436199422 0.005635838 0.005635838 0.005635838 0.005635838 0.005635838 0.005635838 0.005635838 0.005635838]:  14%|█▍        | 692/5000 [02:57<17:55,  4.01it/s]"
     ]
    },
    {
     "name": "stdout",
     "output_type": "stream",
     "text": [
      "13831\n",
      "0\n"
     ]
    },
    {
     "name": "stderr",
     "output_type": "stream",
     "text": [
      "[0.857962697 0.436154950 0.005667145 0.005667145 0.005667145 0.005667145 0.005667145 0.005667145 0.005667145 0.005667145]:  14%|█▍        | 697/5000 [02:59<18:00,  3.98it/s]"
     ]
    },
    {
     "name": "stdout",
     "output_type": "stream",
     "text": [
      "13928\n",
      "0\n"
     ]
    },
    {
     "name": "stderr",
     "output_type": "stream",
     "text": [
      "[0.857857143 0.436571429 0.005714286 0.005714286 0.005714286 0.005714286 0.005714286 0.005714286 0.005714286 0.005714286]:  14%|█▍        | 700/5000 [02:59<17:59,  3.98it/s]"
     ]
    },
    {
     "name": "stdout",
     "output_type": "stream",
     "text": [
      "13989\n",
      "0\n"
     ]
    },
    {
     "name": "stderr",
     "output_type": "stream",
     "text": [
      "[0.858391123 0.436130374 0.005617198 0.005617198 0.005617198 0.005617198 0.005617198 0.005617198 0.005617198 0.005617198]:  14%|█▍        | 721/5000 [03:05<18:41,  3.82it/s]"
     ]
    },
    {
     "name": "stdout",
     "output_type": "stream",
     "text": [
      "14408\n",
      "0\n"
     ]
    },
    {
     "name": "stderr",
     "output_type": "stream",
     "text": [
      "[0.858333333 0.436432507 0.005647383 0.005647383 0.005647383 0.005647383 0.005647383 0.005647383 0.005647383 0.005647383]:  15%|█▍        | 726/5000 [03:06<19:05,  3.73it/s]"
     ]
    },
    {
     "name": "stdout",
     "output_type": "stream",
     "text": [
      "14513\n",
      "0\n"
     ]
    },
    {
     "name": "stderr",
     "output_type": "stream",
     "text": [
      "[0.858457375 0.436197564 0.005615697 0.005615697 0.005615697 0.005615697 0.005615697 0.005615697 0.005615697 0.005615697]:  15%|█▍        | 739/5000 [03:10<18:51,  3.77it/s]"
     ]
    },
    {
     "name": "stdout",
     "output_type": "stream",
     "text": [
      "14778\n",
      "0\n"
     ]
    },
    {
     "name": "stderr",
     "output_type": "stream",
     "text": [
      "[0.858233732 0.436918991 0.005577689 0.005577689 0.005577689 0.005577689 0.005577689 0.005577689 0.005577689 0.005577689]:  15%|█▌        | 753/5000 [03:13<18:36,  3.81it/s]"
     ]
    },
    {
     "name": "stdout",
     "output_type": "stream",
     "text": [
      "15055\n",
      "0\n"
     ]
    },
    {
     "name": "stderr",
     "output_type": "stream",
     "text": [
      "[0.858039216 0.435359477 0.005555556 0.005555556 0.005555556 0.005555556 0.005555556 0.005555556 0.005555556 0.005555556]:  15%|█▌        | 765/5000 [03:16<18:18,  3.86it/s]"
     ]
    },
    {
     "name": "stdout",
     "output_type": "stream",
     "text": [
      "15286\n",
      "0\n"
     ]
    },
    {
     "name": "stderr",
     "output_type": "stream",
     "text": [
      "[0.857944515 0.435876419 0.005422446 0.005422446 0.005422446 0.005422446 0.005422446 0.005422446 0.005422446 0.005422446]:  16%|█▌        | 793/5000 [03:24<18:23,  3.81it/s]"
     ]
    },
    {
     "name": "stdout",
     "output_type": "stream",
     "text": [
      "15846\n",
      "0\n"
     ]
    },
    {
     "name": "stderr",
     "output_type": "stream",
     "text": [
      "[0.858040201 0.435615578 0.005464824 0.005464824 0.005464824 0.005464824 0.005464824 0.005464824 0.005464824 0.005464824]:  16%|█▌        | 796/5000 [03:25<18:25,  3.80it/s]"
     ]
    },
    {
     "name": "stdout",
     "output_type": "stream",
     "text": [
      "15900\n",
      "0\n"
     ]
    },
    {
     "name": "stderr",
     "output_type": "stream",
     "text": [
      "[0.858060606 0.434969697 0.005333333 0.005333333 0.005333333 0.005333333 0.005333333 0.005333333 0.005333333 0.005333333]:  16%|█▋        | 825/5000 [03:32<18:24,  3.78it/s]"
     ]
    },
    {
     "name": "stdout",
     "output_type": "stream",
     "text": [
      "16486\n",
      "0\n"
     ]
    },
    {
     "name": "stderr",
     "output_type": "stream",
     "text": [
      "[0.857897862 0.434560570 0.005285036 0.005285036 0.005285036 0.005285036 0.005285036 0.005285036 0.005285036 0.005285036]:  17%|█▋        | 842/5000 [03:37<18:11,  3.81it/s]"
     ]
    },
    {
     "name": "stdout",
     "output_type": "stream",
     "text": [
      "16826\n",
      "0\n"
     ]
    },
    {
     "name": "stderr",
     "output_type": "stream",
     "text": [
      "[0.857383721 0.434418605 0.005232558 0.005232558 0.005232558 0.005232558 0.005232558 0.005232558 0.005232558 0.005232558]:  17%|█▋        | 860/5000 [03:41<18:12,  3.79it/s]"
     ]
    },
    {
     "name": "stdout",
     "output_type": "stream",
     "text": [
      "17183\n",
      "0\n"
     ]
    },
    {
     "name": "stderr",
     "output_type": "stream",
     "text": [
      "[0.856930126 0.434077892 0.005211913 0.005211913 0.005211913 0.005211913 0.005211913 0.005211913 0.005211913 0.005211913]:  17%|█▋        | 873/5000 [03:45<18:06,  3.80it/s]"
     ]
    },
    {
     "name": "stdout",
     "output_type": "stream",
     "text": [
      "17445\n",
      "0\n"
     ]
    },
    {
     "name": "stderr",
     "output_type": "stream",
     "text": [
      "[0.857247191 0.433595506 0.005168539 0.005168539 0.005168539 0.005168539 0.005168539 0.005168539 0.005168539 0.005168539]:  18%|█▊        | 890/5000 [03:49<18:05,  3.79it/s]"
     ]
    },
    {
     "name": "stdout",
     "output_type": "stream",
     "text": [
      "17797\n",
      "0\n"
     ]
    },
    {
     "name": "stderr",
     "output_type": "stream",
     "text": [
      "[0.857949561 0.433936404 0.005098684 0.005098684 0.005098684 0.005098684 0.005098684 0.005098684 0.005098684 0.005098684]:  18%|█▊        | 912/5000 [03:55<18:06,  3.76it/s]"
     ]
    },
    {
     "name": "stdout",
     "output_type": "stream",
     "text": [
      "18227\n",
      "0\n"
     ]
    },
    {
     "name": "stderr",
     "output_type": "stream",
     "text": [
      "[0.858224401 0.434368192 0.005119826 0.005119826 0.005119826 0.005119826 0.005119826 0.005119826 0.005119826 0.005119826]:  18%|█▊        | 918/5000 [03:57<17:48,  3.82it/s]"
     ]
    },
    {
     "name": "stdout",
     "output_type": "stream",
     "text": [
      "18342\n",
      "0\n"
     ]
    },
    {
     "name": "stderr",
     "output_type": "stream",
     "text": [
      "[0.858297180 0.434652928 0.005151844 0.005151844 0.005151844 0.005151844 0.005151844 0.005151844 0.005151844 0.005151844]:  18%|█▊        | 922/5000 [03:58<17:51,  3.81it/s]"
     ]
    },
    {
     "name": "stdout",
     "output_type": "stream",
     "text": [
      "18439\n",
      "0\n"
     ]
    },
    {
     "name": "stderr",
     "output_type": "stream",
     "text": [
      "[0.858234020 0.434452871 0.005200433 0.005200433 0.005200433 0.005200433 0.005200433 0.005200433 0.005200433 0.005200433]:  18%|█▊        | 923/5000 [03:58<17:53,  3.80it/s]"
     ]
    },
    {
     "name": "stdout",
     "output_type": "stream",
     "text": [
      "18457\n",
      "0\n"
     ]
    },
    {
     "name": "stderr",
     "output_type": "stream",
     "text": [
      "[0.858150470 0.433855799 0.005067921 0.005067921 0.005067921 0.005067921 0.005067921 0.005067921 0.005067921 0.005067921]:  19%|█▉        | 957/5000 [04:07<17:45,  3.80it/s]"
     ]
    },
    {
     "name": "stdout",
     "output_type": "stream",
     "text": [
      "19120\n",
      "0\n"
     ]
    },
    {
     "name": "stderr",
     "output_type": "stream",
     "text": [
      "[0.858418367 0.433877551 0.005000000 0.005000000 0.005000000 0.005000000 0.005000000 0.005000000 0.005000000 0.005000000]:  20%|█▉        | 980/5000 [04:13<17:48,  3.76it/s]"
     ]
    },
    {
     "name": "stdout",
     "output_type": "stream",
     "text": [
      "19590\n",
      "0\n"
     ]
    },
    {
     "name": "stderr",
     "output_type": "stream",
     "text": [
      "[0.858450704 0.434054326 0.004979879 0.004979879 0.004979879 0.004979879 0.004979879 0.004979879 0.004979879 0.004979879]:  20%|█▉        | 994/5000 [04:17<17:42,  3.77it/s]"
     ]
    },
    {
     "name": "stdout",
     "output_type": "stream",
     "text": [
      "19872\n",
      "0\n"
     ]
    },
    {
     "name": "stderr",
     "output_type": "stream",
     "text": [
      "[0.858166333 0.434068136 0.005010020 0.005010020 0.005010020 0.005010020 0.005010020 0.005010020 0.005010020 0.005010020]:  20%|█▉        | 998/5000 [04:18<17:31,  3.81it/s]"
     ]
    },
    {
     "name": "stdout",
     "output_type": "stream",
     "text": [
      "19945\n",
      "0\n"
     ]
    },
    {
     "name": "stderr",
     "output_type": "stream",
     "text": [
      "[0.858689176 0.434707051 0.005014896 0.005014896 0.005014896 0.005014896 0.005014896 0.005014896 0.005014896 0.005014896]:  20%|██        | 1007/5000 [04:20<17:41,  3.76it/s]"
     ]
    },
    {
     "name": "stdout",
     "output_type": "stream",
     "text": [
      "20136\n",
      "0\n"
     ]
    },
    {
     "name": "stderr",
     "output_type": "stream",
     "text": [
      "[0.859481916 0.435679374 0.004985337 0.004985337 0.004985337 0.004985337 0.004985337 0.004985337 0.004985337 0.004985337]:  20%|██        | 1023/5000 [04:24<17:34,  3.77it/s]"
     ]
    },
    {
     "name": "stdout",
     "output_type": "stream",
     "text": [
      "20448\n",
      "0\n"
     ]
    },
    {
     "name": "stderr",
     "output_type": "stream",
     "text": [
      "[0.859177820 0.434990440 0.004923518 0.004923518 0.004923518 0.004923518 0.004923518 0.004923518 0.004923518 0.004923518]:  21%|██        | 1046/5000 [04:30<17:16,  3.82it/s]"
     ]
    },
    {
     "name": "stdout",
     "output_type": "stream",
     "text": [
      "20905\n",
      "0\n"
     ]
    },
    {
     "name": "stderr",
     "output_type": "stream",
     "text": [
      "[0.858957346 0.434454976 0.004928910 0.004928910 0.004928910 0.004928910 0.004928910 0.004928910 0.004928910 0.004928910]:  21%|██        | 1055/5000 [04:33<17:31,  3.75it/s]"
     ]
    },
    {
     "name": "stdout",
     "output_type": "stream",
     "text": [
      "21095\n",
      "0\n"
     ]
    },
    {
     "name": "stderr",
     "output_type": "stream",
     "text": [
      "[0.858638498 0.434741784 0.004929577 0.004929577 0.004929577 0.004929577 0.004929577 0.004929577 0.004929577 0.004929577]:  21%|██▏       | 1065/5000 [04:35<17:02,  3.85it/s]"
     ]
    },
    {
     "name": "stdout",
     "output_type": "stream",
     "text": [
      "21280\n",
      "0\n"
     ]
    },
    {
     "name": "stderr",
     "output_type": "stream",
     "text": [
      "[0.858788159 0.435152636 0.004902868 0.004902868 0.004902868 0.004902868 0.004902868 0.004902868 0.004902868 0.004902868]:  22%|██▏       | 1081/5000 [04:40<17:23,  3.75it/s]"
     ]
    },
    {
     "name": "stdout",
     "output_type": "stream",
     "text": [
      "21619\n",
      "0\n"
     ]
    },
    {
     "name": "stderr",
     "output_type": "stream",
     "text": [
      "[0.858763838 0.434686347 0.004935424 0.004935424 0.004935424 0.004935424 0.004935424 0.004935424 0.004935424 0.004935424]:  22%|██▏       | 1084/5000 [04:40<17:01,  3.83it/s]"
     ]
    },
    {
     "name": "stdout",
     "output_type": "stream",
     "text": [
      "21660\n",
      "0\n"
     ]
    },
    {
     "name": "stderr",
     "output_type": "stream",
     "text": [
      "[0.858424408 0.434426230 0.004918033 0.004918033 0.004918033 0.004918033 0.004918033 0.004918033 0.004918033 0.004918033]:  22%|██▏       | 1098/5000 [04:44<17:06,  3.80it/s]"
     ]
    },
    {
     "name": "stdout",
     "output_type": "stream",
     "text": [
      "21942\n",
      "0\n"
     ]
    },
    {
     "name": "stderr",
     "output_type": "stream",
     "text": [
      "[0.858679928 0.435081374 0.004927667 0.004927667 0.004927667 0.004927667 0.004927667 0.004927667 0.004927667 0.004927667]:  22%|██▏       | 1106/5000 [04:46<16:47,  3.87it/s]"
     ]
    },
    {
     "name": "stdout",
     "output_type": "stream",
     "text": [
      "22105\n",
      "0\n"
     ]
    },
    {
     "name": "stderr",
     "output_type": "stream",
     "text": [
      "[0.858709386 0.435018051 0.004963899 0.004963899 0.004963899 0.004963899 0.004963899 0.004963899 0.004963899 0.004963899]:  22%|██▏       | 1108/5000 [04:47<17:01,  3.81it/s]"
     ]
    },
    {
     "name": "stdout",
     "output_type": "stream",
     "text": [
      "22157\n",
      "0\n"
     ]
    },
    {
     "name": "stderr",
     "output_type": "stream",
     "text": [
      "[0.858571429 0.435446429 0.004955357 0.004955357 0.004955357 0.004955357 0.004955357 0.004955357 0.004955357 0.004955357]:  22%|██▏       | 1120/5000 [04:50<17:02,  3.79it/s]"
     ]
    },
    {
     "name": "stdout",
     "output_type": "stream",
     "text": [
      "22384\n",
      "0\n"
     ]
    },
    {
     "name": "stderr",
     "output_type": "stream",
     "text": [
      "[0.858687943 0.435549645 0.004964539 0.004964539 0.004964539 0.004964539 0.004964539 0.004964539 0.004964539 0.004964539]:  23%|██▎       | 1128/5000 [04:52<16:52,  3.82it/s]"
     ]
    },
    {
     "name": "stdout",
     "output_type": "stream",
     "text": [
      "22557\n",
      "0\n"
     ]
    },
    {
     "name": "stderr",
     "output_type": "stream",
     "text": [
      "[0.858716814 0.435796460 0.005000000 0.005000000 0.005000000 0.005000000 0.005000000 0.005000000 0.005000000 0.005000000]:  23%|██▎       | 1130/5000 [04:52<17:09,  3.76it/s]"
     ]
    },
    {
     "name": "stdout",
     "output_type": "stream",
     "text": [
      "22597\n",
      "0\n"
     ]
    },
    {
     "name": "stderr",
     "output_type": "stream",
     "text": [
      "[0.858999122 0.436040386 0.005004390 0.005004390 0.005004390 0.005004390 0.005004390 0.005004390 0.005004390 0.005004390]:  23%|██▎       | 1139/5000 [04:55<17:00,  3.78it/s]"
     ]
    },
    {
     "name": "stdout",
     "output_type": "stream",
     "text": [
      "22777\n",
      "0\n"
     ]
    },
    {
     "name": "stderr",
     "output_type": "stream",
     "text": [
      "[0.858928571 0.436280488 0.005052265 0.005008711 0.005008711 0.005008711 0.005008711 0.005008711 0.005008711 0.005008711]:  23%|██▎       | 1148/5000 [04:57<16:43,  3.84it/s]"
     ]
    },
    {
     "name": "stdout",
     "output_type": "stream",
     "text": [
      "22950\n",
      "0\n"
     ]
    },
    {
     "name": "stderr",
     "output_type": "stream",
     "text": [
      "[0.858721934 0.435967185 0.005051813 0.005008636 0.005008636 0.005008636 0.005008636 0.005008636 0.005008636 0.005008636]:  23%|██▎       | 1158/5000 [05:00<16:54,  3.79it/s]"
     ]
    },
    {
     "name": "stdout",
     "output_type": "stream",
     "text": [
      "23146\n",
      "0\n"
     ]
    },
    {
     "name": "stderr",
     "output_type": "stream",
     "text": [
      "[0.859071550 0.436839864 0.005025554 0.004982964 0.004982964 0.004982964 0.004982964 0.004982964 0.004982964 0.004982964]:  23%|██▎       | 1174/5000 [05:04<16:44,  3.81it/s]"
     ]
    },
    {
     "name": "stdout",
     "output_type": "stream",
     "text": [
      "23462\n",
      "0\n"
     ]
    },
    {
     "name": "stderr",
     "output_type": "stream",
     "text": [
      "[0.859141156 0.436989796 0.005059524 0.005017007 0.005017007 0.005017007 0.005017007 0.005017007 0.005017007 0.005017007]:  24%|██▎       | 1176/5000 [05:05<16:47,  3.80it/s]"
     ]
    },
    {
     "name": "stdout",
     "output_type": "stream",
     "text": [
      "23513\n",
      "0\n"
     ]
    },
    {
     "name": "stderr",
     "output_type": "stream",
     "text": [
      "[0.858877722 0.436850921 0.005025126 0.004983250 0.004983250 0.004983250 0.004983250 0.004983250 0.004983250 0.004983250]:  24%|██▍       | 1194/5000 [05:09<16:49,  3.77it/s]"
     ]
    },
    {
     "name": "stdout",
     "output_type": "stream",
     "text": [
      "23869\n",
      "0\n"
     ]
    },
    {
     "name": "stderr",
     "output_type": "stream",
     "text": [
      "[0.858855472 0.437009190 0.005054302 0.005012531 0.005012531 0.005012531 0.005012531 0.005012531 0.005012531 0.005012531]:  24%|██▍       | 1197/5000 [05:10<16:43,  3.79it/s]"
     ]
    },
    {
     "name": "stdout",
     "output_type": "stream",
     "text": [
      "23931\n",
      "0\n"
     ]
    },
    {
     "name": "stderr",
     "output_type": "stream",
     "text": [
      "[0.858265139 0.436865794 0.004991817 0.004950900 0.004950900 0.004950900 0.004950900 0.004950900 0.004950900 0.004950900]:  24%|██▍       | 1222/5000 [05:17<16:35,  3.80it/s]"
     ]
    },
    {
     "name": "stdout",
     "output_type": "stream",
     "text": [
      "24424\n",
      "0\n"
     ]
    },
    {
     "name": "stderr",
     "output_type": "stream",
     "text": [
      "[0.858279221 0.437175325 0.004991883 0.004951299 0.004951299 0.004951299 0.004951299 0.004951299 0.004951299 0.004951299]:  25%|██▍       | 1232/5000 [05:19<16:40,  3.77it/s]"
     ]
    },
    {
     "name": "stdout",
     "output_type": "stream",
     "text": [
      "24632\n",
      "0\n"
     ]
    },
    {
     "name": "stderr",
     "output_type": "stream",
     "text": [
      "[0.858313156 0.437328491 0.005004036 0.004963680 0.004963680 0.004963680 0.004963680 0.004963680 0.004963680 0.004963680]:  25%|██▍       | 1239/5000 [05:21<16:36,  3.77it/s]"
     ]
    },
    {
     "name": "stdout",
     "output_type": "stream",
     "text": [
      "24764\n",
      "0\n"
     ]
    },
    {
     "name": "stderr",
     "output_type": "stream",
     "text": [
      "[0.858225806 0.437258065 0.005040323 0.005000000 0.005000000 0.005000000 0.005000000 0.005000000 0.005000000 0.005000000]:  25%|██▍       | 1240/5000 [05:21<16:35,  3.78it/s]"
     ]
    },
    {
     "name": "stdout",
     "output_type": "stream",
     "text": [
      "24791\n",
      "0\n"
     ]
    },
    {
     "name": "stderr",
     "output_type": "stream",
     "text": [
      "[0.858033573 0.436290967 0.005035971 0.004996003 0.004996003 0.004996003 0.004996003 0.004996003 0.004996003 0.004996003]:  25%|██▌       | 1251/5000 [05:24<16:28,  3.79it/s]"
     ]
    },
    {
     "name": "stdout",
     "output_type": "stream",
     "text": [
      "25007\n",
      "0\n"
     ]
    },
    {
     "name": "stderr",
     "output_type": "stream",
     "text": [
      "[0.858213716 0.436523126 0.005063796 0.005023923 0.005023923 0.005023923 0.005023923 0.005023923 0.005023923 0.005023923]:  25%|██▌       | 1254/5000 [05:25<16:25,  3.80it/s]"
     ]
    },
    {
     "name": "stdout",
     "output_type": "stream",
     "text": [
      "25062\n",
      "0\n"
     ]
    },
    {
     "name": "stderr",
     "output_type": "stream",
     "text": [
      "[0.858167331 0.436454183 0.005099602 0.005059761 0.005059761 0.005059761 0.005059761 0.005059761 0.005059761 0.005059761]:  25%|██▌       | 1255/5000 [05:25<16:22,  3.81it/s]"
     ]
    },
    {
     "name": "stdout",
     "output_type": "stream",
     "text": [
      "25086\n",
      "0\n"
     ]
    },
    {
     "name": "stderr",
     "output_type": "stream",
     "text": [
      "[0.858028617 0.436526232 0.005127186 0.005087440 0.005087440 0.005087440 0.005087440 0.005087440 0.005087440 0.005087440]:  25%|██▌       | 1258/5000 [05:26<16:26,  3.79it/s]"
     ]
    },
    {
     "name": "stdout",
     "output_type": "stream",
     "text": [
      "25151\n",
      "0\n"
     ]
    },
    {
     "name": "stderr",
     "output_type": "stream",
     "text": [
      "[0.857903098 0.436457506 0.005162828 0.005123114 0.005123114 0.005123114 0.005123114 0.005123114 0.005123114 0.005123114]:  25%|██▌       | 1259/5000 [05:26<16:27,  3.79it/s]"
     ]
    },
    {
     "name": "stdout",
     "output_type": "stream",
     "text": [
      "25163\n",
      "0\n"
     ]
    },
    {
     "name": "stderr",
     "output_type": "stream",
     "text": [
      "[0.858042789 0.436568938 0.005190174 0.005150555 0.005150555 0.005150555 0.005150555 0.005150555 0.005150555 0.005150555]:  25%|██▌       | 1262/5000 [05:27<16:25,  3.79it/s]"
     ]
    },
    {
     "name": "stdout",
     "output_type": "stream",
     "text": [
      "25235\n",
      "0\n"
     ]
    },
    {
     "name": "stderr",
     "output_type": "stream",
     "text": [
      "[0.857840820 0.436682427 0.005200946 0.005161545 0.005161545 0.005161545 0.005161545 0.005161545 0.005161545 0.005161545]:  25%|██▌       | 1269/5000 [05:29<16:23,  3.79it/s]"
     ]
    },
    {
     "name": "stdout",
     "output_type": "stream",
     "text": [
      "25376\n",
      "0\n"
     ]
    },
    {
     "name": "stderr",
     "output_type": "stream",
     "text": [
      "[0.857942097 0.436424100 0.005203443 0.005164319 0.005164319 0.005164319 0.005164319 0.005164319 0.005164319 0.005164319]:  26%|██▌       | 1278/5000 [05:31<15:55,  3.89it/s]"
     ]
    },
    {
     "name": "stdout",
     "output_type": "stream",
     "text": [
      "25551\n",
      "0\n"
     ]
    },
    {
     "name": "stderr",
     "output_type": "stream",
     "text": [
      "[0.858151326 0.436700468 0.005226209 0.005187207 0.005187207 0.005187207 0.005187207 0.005187207 0.005187207 0.005187207]:  26%|██▌       | 1282/5000 [05:32<15:37,  3.97it/s]"
     ]
    },
    {
     "name": "stdout",
     "output_type": "stream",
     "text": [
      "25630\n",
      "0\n"
     ]
    },
    {
     "name": "stderr",
     "output_type": "stream",
     "text": [
      "[0.858288358 0.436854279 0.005204318 0.005165767 0.005165767 0.005165767 0.005165767 0.005165767 0.005165767 0.005165767]:  26%|██▌       | 1297/5000 [05:36<16:26,  3.75it/s]"
     ]
    },
    {
     "name": "stdout",
     "output_type": "stream",
     "text": [
      "25926\n",
      "0\n"
     ]
    },
    {
     "name": "stderr",
     "output_type": "stream",
     "text": [
      "[0.858473926 0.437001534 0.005214724 0.005176380 0.005176380 0.005176380 0.005176380 0.005176380 0.005176380 0.005176380]:  26%|██▌       | 1304/5000 [05:38<16:22,  3.76it/s]"
     ]
    },
    {
     "name": "stdout",
     "output_type": "stream",
     "text": [
      "26063\n",
      "0\n"
     ]
    },
    {
     "name": "stderr",
     "output_type": "stream",
     "text": [
      "[0.858346037 0.437042683 0.005221037 0.005182927 0.005182927 0.005182927 0.005182927 0.005182927 0.005182927 0.005182927]:  26%|██▌       | 1312/5000 [05:40<16:12,  3.79it/s]"
     ]
    },
    {
     "name": "stdout",
     "output_type": "stream",
     "text": [
      "26236\n",
      "0\n"
     ]
    },
    {
     "name": "stderr",
     "output_type": "stream",
     "text": [
      "[0.858320669 0.436854103 0.005243161 0.005205167 0.005205167 0.005205167 0.005205167 0.005205167 0.005205167 0.005205167]:  26%|██▋       | 1316/5000 [05:41<16:08,  3.80it/s]"
     ]
    },
    {
     "name": "stdout",
     "output_type": "stream",
     "text": [
      "26304\n",
      "0\n"
     ]
    },
    {
     "name": "stderr",
     "output_type": "stream",
     "text": [
      "[0.858352316 0.436788155 0.005277145 0.005239180 0.005239180 0.005239180 0.005239180 0.005239180 0.005239180 0.005239180]:  26%|██▋       | 1317/5000 [05:42<16:13,  3.78it/s]"
     ]
    },
    {
     "name": "stdout",
     "output_type": "stream",
     "text": [
      "26327\n",
      "0\n"
     ]
    },
    {
     "name": "stderr",
     "output_type": "stream",
     "text": [
      "[0.858415094 0.437056604 0.005283019 0.005245283 0.005245283 0.005245283 0.005245283 0.005245283 0.005245283 0.005245283]:  26%|██▋       | 1325/5000 [05:44<16:12,  3.78it/s]"
     ]
    },
    {
     "name": "stdout",
     "output_type": "stream",
     "text": [
      "26487\n",
      "0\n"
     ]
    },
    {
     "name": "stderr",
     "output_type": "stream",
     "text": [
      "[0.858345865 0.437180451 0.005300752 0.005263158 0.005263158 0.005263158 0.005263158 0.005263158 0.005263158 0.005263158]:  27%|██▋       | 1330/5000 [05:45<16:09,  3.79it/s]"
     ]
    },
    {
     "name": "stdout",
     "output_type": "stream",
     "text": [
      "26581\n",
      "0\n"
     ]
    },
    {
     "name": "stderr",
     "output_type": "stream",
     "text": [
      "[0.858426132 0.437268003 0.005270973 0.005233853 0.005233853 0.005233853 0.005233853 0.005233853 0.005233853 0.005233853]:  27%|██▋       | 1347/5000 [05:50<16:02,  3.79it/s]"
     ]
    },
    {
     "name": "stdout",
     "output_type": "stream",
     "text": [
      "26930\n",
      "0\n"
     ]
    },
    {
     "name": "stderr",
     "output_type": "stream",
     "text": [
      "[0.858259587 0.437168142 0.005272861 0.005235988 0.005235988 0.005235988 0.005235988 0.005235988 0.005235988 0.005235988]:  27%|██▋       | 1356/5000 [05:52<16:04,  3.78it/s]"
     ]
    },
    {
     "name": "stdout",
     "output_type": "stream",
     "text": [
      "27118\n",
      "0\n"
     ]
    },
    {
     "name": "stderr",
     "output_type": "stream",
     "text": [
      "[0.858296623 0.437298091 0.005286344 0.005249633 0.005249633 0.005249633 0.005249633 0.005249633 0.005249633 0.005249633]:  27%|██▋       | 1362/5000 [05:53<15:54,  3.81it/s]"
     ]
    },
    {
     "name": "stdout",
     "output_type": "stream",
     "text": [
      "27222\n",
      "0\n"
     ]
    },
    {
     "name": "stderr",
     "output_type": "stream",
     "text": [
      "[0.858162518 0.437225476 0.005307467 0.005270864 0.005270864 0.005270864 0.005270864 0.005270864 0.005270864 0.005270864]:  27%|██▋       | 1366/5000 [05:55<15:52,  3.82it/s]"
     ]
    },
    {
     "name": "stdout",
     "output_type": "stream",
     "text": [
      "27310\n",
      "0\n"
     ]
    },
    {
     "name": "stderr",
     "output_type": "stream",
     "text": [
      "[0.858375089 0.437508948 0.005225483 0.005189692 0.005189692 0.005189692 0.005189692 0.005189692 0.005189692 0.005189692]:  28%|██▊       | 1397/5000 [06:03<15:47,  3.80it/s]"
     ]
    },
    {
     "name": "stdout",
     "output_type": "stream",
     "text": [
      "27931\n",
      "0\n"
     ]
    },
    {
     "name": "stderr",
     "output_type": "stream",
     "text": [
      "[0.858487874 0.437624822 0.005242511 0.005206847 0.005206847 0.005206847 0.005206847 0.005206847 0.005206847 0.005206847]:  28%|██▊       | 1402/5000 [06:04<15:38,  3.83it/s]"
     ]
    },
    {
     "name": "stdout",
     "output_type": "stream",
     "text": [
      "28031\n",
      "0\n"
     ]
    },
    {
     "name": "stderr",
     "output_type": "stream",
     "text": [
      "[0.858144476 0.436933428 0.005240793 0.005205382 0.005205382 0.005205382 0.005205382 0.005205382 0.005205382 0.005205382]:  28%|██▊       | 1412/5000 [06:07<15:38,  3.82it/s]"
     ]
    },
    {
     "name": "stdout",
     "output_type": "stream",
     "text": [
      "28220\n",
      "0\n"
     ]
    },
    {
     "name": "stderr",
     "output_type": "stream",
     "text": [
      "[0.858168317 0.436916549 0.005268741 0.005233380 0.005233380 0.005233380 0.005233380 0.005233380 0.005233380 0.005233380]:  28%|██▊       | 1414/5000 [06:07<15:36,  3.83it/s]"
     ]
    },
    {
     "name": "stdout",
     "output_type": "stream",
     "text": [
      "28278\n",
      "0\n"
     ]
    },
    {
     "name": "stderr",
     "output_type": "stream",
     "text": [
      "[0.858145275 0.436882934 0.005289140 0.005253879 0.005253879 0.005253879 0.005253879 0.005253879 0.005253879 0.005253879]:  28%|██▊       | 1418/5000 [06:08<15:36,  3.82it/s]"
     ]
    },
    {
     "name": "stdout",
     "output_type": "stream",
     "text": [
      "28350\n",
      "0\n"
     ]
    },
    {
     "name": "stderr",
     "output_type": "stream",
     "text": [
      "[0.857821229 0.436522346 0.005272346 0.005237430 0.005237430 0.005237430 0.005237430 0.005237430 0.005237430 0.005237430]:  29%|██▊       | 1432/5000 [06:12<15:46,  3.77it/s]"
     ]
    },
    {
     "name": "stdout",
     "output_type": "stream",
     "text": [
      "28626\n",
      "0\n"
     ]
    },
    {
     "name": "stderr",
     "output_type": "stream",
     "text": [
      "[0.857804878 0.436620209 0.005296167 0.005261324 0.005261324 0.005261324 0.005261324 0.005261324 0.005261324 0.005261324]:  29%|██▊       | 1435/5000 [06:13<15:37,  3.80it/s]"
     ]
    },
    {
     "name": "stdout",
     "output_type": "stream",
     "text": [
      "28688\n",
      "0\n"
     ]
    },
    {
     "name": "stderr",
     "output_type": "stream",
     "text": [
      "[0.857759221 0.436638831 0.005323591 0.005288796 0.005288796 0.005288796 0.005288796 0.005288796 0.005288796 0.005288796]:  29%|██▊       | 1437/5000 [06:13<18:24,  3.22it/s]"
     ]
    },
    {
     "name": "stdout",
     "output_type": "stream",
     "text": [
      "28723\n",
      "0\n"
     ]
    },
    {
     "name": "stderr",
     "output_type": "stream",
     "text": [
      "[0.857934858 0.436832987 0.005336105 0.005301455 0.005301455 0.005301455 0.005301455 0.005301455 0.005301455 0.005301455]:  29%|██▉       | 1443/5000 [06:15<15:59,  3.71it/s]"
     ]
    },
    {
     "name": "stdout",
     "output_type": "stream",
     "text": [
      "28853\n",
      "0\n"
     ]
    },
    {
     "name": "stderr",
     "output_type": "stream",
     "text": [
      "[0.857312119 0.436222072 0.005247123 0.005213270 0.005213270 0.005213270 0.005213270 0.005213270 0.005213270 0.005213270]:  30%|██▉       | 1477/5000 [06:24<14:47,  3.97it/s]"
     ]
    },
    {
     "name": "stdout",
     "output_type": "stream",
     "text": [
      "29527\n",
      "0\n"
     ]
    },
    {
     "name": "stderr",
     "output_type": "stream",
     "text": [
      "[0.857229730 0.436283784 0.005270270 0.005236486 0.005236486 0.005236486 0.005236486 0.005236486 0.005236486 0.005236486]:  30%|██▉       | 1480/5000 [06:24<14:46,  3.97it/s]"
     ]
    },
    {
     "name": "stdout",
     "output_type": "stream",
     "text": [
      "29591\n",
      "0\n"
     ]
    },
    {
     "name": "stderr",
     "output_type": "stream",
     "text": [
      "[0.857272118 0.436528150 0.005261394 0.005227882 0.005227882 0.005227882 0.005227882 0.005227882 0.005227882 0.005227882]:  30%|██▉       | 1492/5000 [06:27<14:46,  3.96it/s]"
     ]
    },
    {
     "name": "stdout",
     "output_type": "stream",
     "text": [
      "29820\n",
      "0\n"
     ]
    },
    {
     "name": "stderr",
     "output_type": "stream",
     "text": [
      "[0.857185629 0.436593480 0.005256154 0.005222888 0.005222888 0.005222888 0.005222888 0.005222888 0.005222888 0.005222888]:  30%|███       | 1503/5000 [06:30<14:45,  3.95it/s]"
     ]
    },
    {
     "name": "stdout",
     "output_type": "stream",
     "text": [
      "30046\n",
      "0\n"
     ]
    },
    {
     "name": "stderr",
     "output_type": "stream",
     "text": [
      "[0.857275748 0.436677741 0.005282392 0.005249169 0.005249169 0.005249169 0.005249169 0.005249169 0.005249169 0.005249169]:  30%|███       | 1505/5000 [06:31<14:42,  3.96it/s]"
     ]
    },
    {
     "name": "stdout",
     "output_type": "stream",
     "text": [
      "30081\n",
      "0\n"
     ]
    },
    {
     "name": "stderr",
     "output_type": "stream",
     "text": [
      "[0.857190192 0.436713055 0.005301524 0.005268390 0.005268390 0.005268390 0.005268390 0.005268390 0.005268390 0.005268390]:  30%|███       | 1509/5000 [06:32<14:40,  3.96it/s]"
     ]
    },
    {
     "name": "stdout",
     "output_type": "stream",
     "text": [
      "30169\n",
      "0\n"
     ]
    },
    {
     "name": "stderr",
     "output_type": "stream",
     "text": [
      "[0.857114625 0.436693017 0.005335968 0.005303030 0.005303030 0.005303030 0.005303030 0.005303030 0.005303030 0.005303030]:  30%|███       | 1518/5000 [06:34<14:46,  3.93it/s]"
     ]
    },
    {
     "name": "stdout",
     "output_type": "stream",
     "text": [
      "30355\n",
      "0\n",
      "30356\n",
      "0\n"
     ]
    },
    {
     "name": "stderr",
     "output_type": "stream",
     "text": [
      "[0.857012987 0.436071429 0.005292208 0.005259740 0.005259740 0.005259740 0.005259740 0.005259740 0.005259740 0.005259740]:  31%|███       | 1540/5000 [06:40<15:27,  3.73it/s]"
     ]
    },
    {
     "name": "stdout",
     "output_type": "stream",
     "text": [
      "30786\n",
      "0\n"
     ]
    },
    {
     "name": "stderr",
     "output_type": "stream",
     "text": [
      "[0.857119741 0.436181230 0.005307443 0.005275081 0.005275081 0.005275081 0.005275081 0.005275081 0.005275081 0.005275081]:  31%|███       | 1545/5000 [06:41<15:27,  3.73it/s]"
     ]
    },
    {
     "name": "stdout",
     "output_type": "stream",
     "text": [
      "30893\n",
      "0\n"
     ]
    },
    {
     "name": "stderr",
     "output_type": "stream",
     "text": [
      "[0.857301587 0.436761905 0.005238095 0.005206349 0.005206349 0.005206349 0.005206349 0.005206349 0.005206349 0.005206349]:  32%|███▏      | 1575/5000 [06:49<15:08,  3.77it/s]"
     ]
    },
    {
     "name": "stdout",
     "output_type": "stream",
     "text": [
      "31491\n",
      "0\n"
     ]
    },
    {
     "name": "stderr",
     "output_type": "stream",
     "text": [
      "[0.857368754 0.436875395 0.005249842 0.005218216 0.005218216 0.005218216 0.005218216 0.005218216 0.005218216 0.005218216]:  32%|███▏      | 1581/5000 [06:51<15:09,  3.76it/s]"
     ]
    },
    {
     "name": "stdout",
     "output_type": "stream",
     "text": [
      "31614\n",
      "0\n"
     ]
    },
    {
     "name": "stderr",
     "output_type": "stream",
     "text": [
      "[0.857413249 0.436876972 0.005268139 0.005236593 0.005236593 0.005236593 0.005236593 0.005236593 0.005236593 0.005236593]:  32%|███▏      | 1585/5000 [06:52<15:03,  3.78it/s]"
     ]
    },
    {
     "name": "stdout",
     "output_type": "stream",
     "text": [
      "31680\n",
      "0\n"
     ]
    },
    {
     "name": "stderr",
     "output_type": "stream",
     "text": [
      "[0.857747804 0.436856964 0.005269762 0.005238394 0.005238394 0.005238394 0.005238394 0.005238394 0.005238394 0.005238394]:  32%|███▏      | 1594/5000 [06:54<15:03,  3.77it/s]"
     ]
    },
    {
     "name": "stdout",
     "output_type": "stream",
     "text": [
      "31874\n",
      "0\n"
     ]
    },
    {
     "name": "stderr",
     "output_type": "stream",
     "text": [
      "[0.857713929 0.436914428 0.005309182 0.005277951 0.005277951 0.005277951 0.005277951 0.005277951 0.005277951 0.005277951]:  32%|███▏      | 1601/5000 [06:56<15:00,  3.77it/s]"
     ]
    },
    {
     "name": "stdout",
     "output_type": "stream",
     "text": [
      "32011\n",
      "0\n",
      "32013\n",
      "0\n"
     ]
    },
    {
     "name": "stderr",
     "output_type": "stream",
     "text": [
      "[0.857699501 0.436783042 0.005330424 0.005299252 0.005299252 0.005299252 0.005299252 0.005299252 0.005299252 0.005299252]:  32%|███▏      | 1604/5000 [06:57<14:58,  3.78it/s]"
     ]
    },
    {
     "name": "stdout",
     "output_type": "stream",
     "text": [
      "32061\n",
      "0\n"
     ]
    },
    {
     "name": "stderr",
     "output_type": "stream",
     "text": [
      "[0.858004926 0.436761084 0.005295567 0.005264778 0.005264778 0.005264778 0.005264778 0.005264778 0.005264778 0.005264778]:  32%|███▏      | 1624/5000 [07:02<14:49,  3.80it/s]"
     ]
    },
    {
     "name": "stdout",
     "output_type": "stream",
     "text": [
      "32472\n",
      "0\n"
     ]
    },
    {
     "name": "stderr",
     "output_type": "stream",
     "text": [
      "[0.857748627 0.436577181 0.005277608 0.005247102 0.005247102 0.005247102 0.005247102 0.005247102 0.005247102 0.005247102]:  33%|███▎      | 1639/5000 [07:06<14:52,  3.77it/s]"
     ]
    },
    {
     "name": "stdout",
     "output_type": "stream",
     "text": [
      "32776\n",
      "0\n"
     ]
    },
    {
     "name": "stderr",
     "output_type": "stream",
     "text": [
      "[0.857950423 0.437273277 0.005259976 0.005229746 0.005229746 0.005229746 0.005229746 0.005229746 0.005229746 0.005229746]:  33%|███▎      | 1654/5000 [07:10<14:40,  3.80it/s]"
     ]
    },
    {
     "name": "stdout",
     "output_type": "stream",
     "text": [
      "33063\n",
      "0\n"
     ]
    },
    {
     "name": "stderr",
     "output_type": "stream",
     "text": [
      "[0.858003597 0.437410072 0.005275779 0.005245803 0.005245803 0.005245803 0.005245803 0.005245803 0.005245803 0.005245803]:  33%|███▎      | 1668/5000 [07:13<14:42,  3.78it/s]"
     ]
    },
    {
     "name": "stdout",
     "output_type": "stream",
     "text": [
      "33340\n",
      "0\n",
      "33356\n",
      "0\n"
     ]
    },
    {
     "name": "stderr",
     "output_type": "stream",
     "text": [
      "[0.857979677 0.437447699 0.005289898 0.005260012 0.005260012 0.005260012 0.005260012 0.005260012 0.005260012 0.005260012]:  33%|███▎      | 1673/5000 [07:15<14:47,  3.75it/s]"
     ]
    },
    {
     "name": "stdout",
     "output_type": "stream",
     "text": [
      "33453\n",
      "0\n"
     ]
    },
    {
     "name": "stderr",
     "output_type": "stream",
     "text": [
      "[0.857990459 0.437388193 0.005307096 0.005277281 0.005277281 0.005277281 0.005277281 0.005277281 0.005277281 0.005277281]:  34%|███▎      | 1677/5000 [07:16<14:47,  3.75it/s]"
     ]
    },
    {
     "name": "stdout",
     "output_type": "stream",
     "text": [
      "33531\n",
      "0\n"
     ]
    },
    {
     "name": "stderr",
     "output_type": "stream",
     "text": [
      "[0.858215548 0.437338045 0.005270907 0.005241461 0.005241461 0.005241461 0.005241461 0.005241461 0.005241461 0.005241461]:  34%|███▍      | 1698/5000 [07:21<14:53,  3.70it/s]"
     ]
    },
    {
     "name": "stdout",
     "output_type": "stream",
     "text": [
      "33959\n",
      "0\n"
     ]
    },
    {
     "name": "stderr",
     "output_type": "stream",
     "text": [
      "[0.858396723 0.437185489 0.005266238 0.005236981 0.005236981 0.005236981 0.005236981 0.005236981 0.005236981 0.005236981]:  34%|███▍      | 1709/5000 [07:24<14:35,  3.76it/s]"
     ]
    },
    {
     "name": "stdout",
     "output_type": "stream",
     "text": [
      "34162\n",
      "0\n"
     ]
    },
    {
     "name": "stderr",
     "output_type": "stream",
     "text": [
      "[0.858492201 0.436683998 0.005228192 0.005199307 0.005199307 0.005199307 0.005199307 0.005199307 0.005199307 0.005199307]:  35%|███▍      | 1731/5000 [07:30<14:35,  3.73it/s]"
     ]
    },
    {
     "name": "stdout",
     "output_type": "stream",
     "text": [
      "34618\n",
      "0\n"
     ]
    },
    {
     "name": "stderr",
     "output_type": "stream",
     "text": [
      "[0.858587896 0.436426513 0.005244957 0.005216138 0.005216138 0.005216138 0.005216138 0.005216138 0.005216138 0.005216138]:  35%|███▍      | 1735/5000 [07:31<14:42,  3.70it/s]"
     ]
    },
    {
     "name": "stdout",
     "output_type": "stream",
     "text": [
      "34689\n",
      "0\n"
     ]
    },
    {
     "name": "stderr",
     "output_type": "stream",
     "text": [
      "[0.858582949 0.436463134 0.005299539 0.005270737 0.005270737 0.005270737 0.005270737 0.005270737 0.005270737 0.005270737]:  35%|███▍      | 1736/5000 [07:32<14:36,  3.72it/s]"
     ]
    },
    {
     "name": "stdout",
     "output_type": "stream",
     "text": [
      "34700\n",
      "0\n",
      "34706\n",
      "0\n"
     ]
    },
    {
     "name": "stderr",
     "output_type": "stream",
     "text": [
      "[0.858424382 0.436572743 0.005319149 0.005290397 0.005290397 0.005290397 0.005290397 0.005290397 0.005290397 0.005290397]:  35%|███▍      | 1739/5000 [07:32<14:30,  3.75it/s]"
     ]
    },
    {
     "name": "stdout",
     "output_type": "stream",
     "text": [
      "34769\n",
      "0\n"
     ]
    },
    {
     "name": "stderr",
     "output_type": "stream",
     "text": [
      "[0.858523375 0.436431015 0.005302166 0.005273660 0.005273660 0.005273660 0.005273660 0.005273660 0.005273660 0.005273660]:  35%|███▌      | 1754/5000 [07:36<14:17,  3.79it/s]"
     ]
    },
    {
     "name": "stdout",
     "output_type": "stream",
     "text": [
      "35078\n",
      "0\n"
     ]
    },
    {
     "name": "stderr",
     "output_type": "stream",
     "text": [
      "[0.858578709 0.436325028 0.005322763 0.005294451 0.005294451 0.005294451 0.005294451 0.005294451 0.005294451 0.005294451]:  35%|███▌      | 1766/5000 [07:40<14:24,  3.74it/s]"
     ]
    },
    {
     "name": "stdout",
     "output_type": "stream",
     "text": [
      "35303\n",
      "0\n",
      "35319\n",
      "0\n"
     ]
    },
    {
     "name": "stderr",
     "output_type": "stream",
     "text": [
      "[0.858512443 0.436340498 0.005345023 0.005316742 0.005316742 0.005316742 0.005316742 0.005316742 0.005316742 0.005316742]:  35%|███▌      | 1768/5000 [07:40<14:34,  3.70it/s]"
     ]
    },
    {
     "name": "stdout",
     "output_type": "stream",
     "text": [
      "35349\n",
      "0\n"
     ]
    },
    {
     "name": "stderr",
     "output_type": "stream",
     "text": [
      "[0.858531073 0.436440678 0.005367232 0.005338983 0.005338983 0.005338983 0.005338983 0.005338983 0.005338983 0.005338983]:  35%|███▌      | 1770/5000 [07:41<14:28,  3.72it/s]"
     ]
    },
    {
     "name": "stdout",
     "output_type": "stream",
     "text": [
      "35381\n",
      "0\n"
     ]
    },
    {
     "name": "stderr",
     "output_type": "stream",
     "text": [
      "[0.858557800 0.436531987 0.005359147 0.005331089 0.005331089 0.005331089 0.005331089 0.005331089 0.005331089 0.005331089]:  36%|███▌      | 1782/5000 [07:44<14:14,  3.77it/s]"
     ]
    },
    {
     "name": "stdout",
     "output_type": "stream",
     "text": [
      "35620\n",
      "0\n"
     ]
    },
    {
     "name": "stderr",
     "output_type": "stream",
     "text": [
      "[0.858725762 0.436426593 0.005318560 0.005290859 0.005290859 0.005290859 0.005290859 0.005290859 0.005290859 0.005290859]:  36%|███▌      | 1805/5000 [07:50<14:04,  3.78it/s]"
     ]
    },
    {
     "name": "stdout",
     "output_type": "stream",
     "text": [
      "36096\n",
      "0\n"
     ]
    },
    {
     "name": "stderr",
     "output_type": "stream",
     "text": [
      "[0.858595909 0.436484245 0.005334439 0.005306799 0.005306799 0.005306799 0.005306799 0.005306799 0.005306799 0.005306799]:  36%|███▌      | 1809/5000 [07:51<14:06,  3.77it/s]"
     ]
    },
    {
     "name": "stdout",
     "output_type": "stream",
     "text": [
      "36163\n",
      "0\n"
     ]
    },
    {
     "name": "stderr",
     "output_type": "stream",
     "text": [
      "[0.858727974 0.436563877 0.005313877 0.005286344 0.005286344 0.005286344 0.005286344 0.005286344 0.005286344 0.005286344]:  36%|███▋      | 1816/5000 [07:53<14:02,  3.78it/s]"
     ]
    }
   ],
   "source": [
    "model.eval()\n",
    "total_acc = []\n",
    "# bar = tqdm(validloader)\n",
    "bar = tqdm(testloader)\n",
    "for step, (batch_data,batch_label) in enumerate(bar):\n",
    "    batch_data = batch_data.cuda() if CUDA else batch_data\n",
    "    clone_batch_data = batch_data.detach().clone()\n",
    "    batch_label = batch_label.cuda() if CUDA else batch_label\n",
    "    batch_label = batch_label.squeeze()\n",
    "\n",
    "    optim.zero_grad()\n",
    "    temp_label = torch.zeros((len(batch_label),2)).cuda()\n",
    "    temp_label[:,0] = 1\n",
    "    temp_total_acc = []\n",
    "    pred,embedd_x = model(batch_data)\n",
    "    _, predicted = torch.max(pred, 1)\n",
    "    acc = (batch_label.cpu().data.numpy() == predicted.cpu().data.numpy()).mean()\n",
    "    temp_total_acc.append(acc)\n",
    "\n",
    "    mask = (batch_data == 0).float()\n",
    "    random_padding = torch.randint_like(input=mask.float(),low=1,high=257) * mask\n",
    "    batch_data += random_padding.long()\n",
    "\n",
    "    pred,embedd_x = model(batch_data)\n",
    "    _, predicted = torch.max(pred, 1)\n",
    "    acc = (batch_label.cpu().data.numpy() == predicted.cpu().data.numpy()).mean()\n",
    "    temp_total_acc.append(acc)\n",
    "    for _ in range(8):\n",
    "        pred,embedd_x = model(batch_data)\n",
    "        loss = ce_loss(pred, temp_label)\n",
    "        loss.backward()\n",
    "\n",
    "        attacked_embedd_x = embedd_x - 0.5*embedd_x.grad.sign()\n",
    "        all_embedd = model.embedding(torch.arange(start=0,end=257).cuda())\n",
    "\n",
    "        shape = attacked_embedd_x.shape\n",
    "        attacked_embedd_x = attacked_embedd_x.reshape((shape[0],shape[1],1,shape[2]))\n",
    "        attacked_embedd_x = attacked_embedd_x.expand(shape[0],shape[1],257,shape[2])\n",
    "\n",
    "        results = torch.linalg.norm(attacked_embedd_x - all_embedd,ord=2,dim=-1)\n",
    "        batch_data = ((1-mask)*batch_data + mask*torch.argmin(results,dim=-1)).long()\n",
    "\n",
    "        pred,embedd_x = model(batch_data)\n",
    "        _, predicted = torch.max(pred, 1)\n",
    "        acc = (batch_label.cpu().data.numpy() == predicted.cpu().data.numpy()).mean()\n",
    "        temp_total_acc.append(acc)\n",
    "\n",
    "    pred = pred.detach().cpu().numpy()\n",
    "    batch_label = batch_label.detach().cpu().numpy()\n",
    "    pred = np.argmax(pred,1)\n",
    "    temp_acc = (batch_label == pred).mean()\n",
    "    temp = batch_label == pred\n",
    "    if temp.mean() != 0:\n",
    "        idxs = np.argwhere(temp).reshape(-1)\n",
    "        for idx in idxs:\n",
    "            print(step*BATCH_SIZE+idx)\n",
    "            padding_num = (clone_batch_data[idx] == 0).sum().tolist()\n",
    "            print(padding_num)\n",
    "            dic[padding_num].append(step*BATCH_SIZE+idx)\n",
    "\n",
    "    total_acc.append(temp_total_acc)\n",
    "    total_acc_str = '[' + ' '.join(map(lambda x: '%.9f'%x,np.mean(total_acc,axis=0))) + ']'\n",
    "    bar.set_description(total_acc_str)\n"
   ]
  },
  {
   "cell_type": "code",
   "execution_count": null,
   "id": "cec5bcb3",
   "metadata": {},
   "outputs": [],
   "source": [
    "# import pickle"
   ]
  },
  {
   "cell_type": "code",
   "execution_count": 20,
   "id": "911e8f73",
   "metadata": {},
   "outputs": [],
   "source": [
    "# with open('/workdir/security/home/junjiehuang2468/paper/results/ember/XAI/my_way_dic.txt','rb') as fp:\n",
    "#     my_way_dic = pickle.load(fp)"
   ]
  },
  {
   "cell_type": "code",
   "execution_count": 17,
   "id": "b5610f46",
   "metadata": {},
   "outputs": [],
   "source": [
    "# with open('/workdir/security/home/junjiehuang2468/paper/results/ember/XAI/PGD_dic.txt','wb') as fp:\n",
    "#     pickle.dump(dic,fp)"
   ]
  }
 ],
 "metadata": {
  "kernelspec": {
   "display_name": "Python 3",
   "language": "python",
   "name": "python3"
  },
  "language_info": {
   "codemirror_mode": {
    "name": "ipython",
    "version": 3
   },
   "file_extension": ".py",
   "mimetype": "text/x-python",
   "name": "python",
   "nbconvert_exporter": "python",
   "pygments_lexer": "ipython3",
   "version": "3.6.9"
  }
 },
 "nbformat": 4,
 "nbformat_minor": 5
}
