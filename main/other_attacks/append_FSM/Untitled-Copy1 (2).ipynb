{
 "cells": [
  {
   "cell_type": "code",
   "execution_count": 1,
   "id": "e2025350",
   "metadata": {},
   "outputs": [],
   "source": [
    "import os\n",
    "import numpy as np\n",
    "import pandas as pd\n",
    "from tqdm import tqdm\n",
    "import multiprocessing as mp\n",
    "from functools import partial\n",
    "from sklearn.model_selection import train_test_split\n",
    "import torch\n",
    "from torch import nn\n",
    "from torch.optim import Adam\n",
    "import torch.nn.functional as F\n",
    "from torch.utils.data import DataLoader, Dataset\n",
    "os.environ[\"CUDA_VISIBLE_DEVICES\"] = '1'"
   ]
  },
  {
   "cell_type": "code",
   "execution_count": 2,
   "id": "9d27fa0d",
   "metadata": {},
   "outputs": [],
   "source": [
    "trained_model_path = '/workdir/security/home/junjiehuang2468/paper/trained_models_weight/ember/'\n",
    "best_trained_model = '2022-01-18 14:55/2w_epoch:13_test_acc:0.896058.pt'\n",
    "data_path = \"/workdir/security/home/junjiehuang2468/paper/data/ember2018/\"\n",
    "train_data_path = data_path + \"malwares/\" \n",
    "train_label_path = data_path + \"train_labels.csv\" "
   ]
  },
  {
   "cell_type": "code",
   "execution_count": 3,
   "id": "6032bc0f",
   "metadata": {},
   "outputs": [],
   "source": [
    "CUDA = True if torch.cuda.is_available() else False\n",
    "NUM_WORKERS = 24\n",
    "BATCH_SIZE = 100\n",
    "LEAVE_BIT_NUMBER = 20000\n",
    "KERNEL_SIZE = 500"
   ]
  },
  {
   "cell_type": "code",
   "execution_count": 4,
   "id": "8f2d80da",
   "metadata": {},
   "outputs": [],
   "source": [
    "LEAVE_BIT_NUMBER_DICT = {10000:'1w',20000:'2w'}"
   ]
  },
  {
   "cell_type": "code",
   "execution_count": 5,
   "id": "4812550f",
   "metadata": {},
   "outputs": [],
   "source": [
    "trainset = pd.read_csv(data_path + 'train_dataset.csv')\n",
    "validset = pd.read_csv(data_path + 'valid_dataset.csv')\n",
    "validset = validset.iloc[np.argwhere(validset['labels'].values == 1).squeeze(),:]"
   ]
  },
  {
   "cell_type": "code",
   "execution_count": 6,
   "id": "b1f2aaab",
   "metadata": {},
   "outputs": [],
   "source": [
    "class ExeDataset(Dataset): # ExeDataset不是我取的，要記得改\n",
    "    def __init__(self, malware_names, data_path, labels, leave_bit_num):\n",
    "        self.malware_names = malware_names\n",
    "        self.data_path = data_path\n",
    "        self.labels = labels\n",
    "        self.leave_bit_num = leave_bit_num\n",
    "\n",
    "    def __len__(self):\n",
    "        return len(self.malware_names)\n",
    "\n",
    "    def __getitem__(self, idx):\n",
    "        with open(self.data_path + self.malware_names[idx] + '.txt','rb') as fp:\n",
    "            data = [bit+1 for bit in fp.read()[:self.leave_bit_num]]\n",
    "            padding = [0]*(self.leave_bit_num-len(data))\n",
    "            data = data + padding\n",
    "\n",
    "        return np.array(data), np.array([self.labels[idx]])"
   ]
  },
  {
   "cell_type": "code",
   "execution_count": 7,
   "id": "19a4c347",
   "metadata": {},
   "outputs": [],
   "source": [
    "train_dataset = ExeDataset(\n",
    "    trainset[\"id\"].tolist(), \n",
    "    train_data_path, \n",
    "    trainset[\"labels\"].tolist(), \n",
    "    LEAVE_BIT_NUMBER\n",
    ")\n",
    "valid_dataset = ExeDataset(\n",
    "    validset[\"id\"].tolist(), \n",
    "    train_data_path, \n",
    "    validset[\"labels\"].tolist(), \n",
    "    LEAVE_BIT_NUMBER\n",
    ")"
   ]
  },
  {
   "cell_type": "code",
   "execution_count": 8,
   "id": "dfad3511",
   "metadata": {},
   "outputs": [],
   "source": [
    "trainloader = DataLoader(\n",
    "    dataset = train_dataset,\n",
    "    batch_size = BATCH_SIZE,\n",
    "    shuffle = False,\n",
    "    num_workers = NUM_WORKERS,\n",
    "    pin_memory = True\n",
    ")\n",
    "validloader = DataLoader(\n",
    "    dataset = valid_dataset,\n",
    "    batch_size = BATCH_SIZE,\n",
    "    shuffle = False,\n",
    "    num_workers = NUM_WORKERS,\n",
    "    pin_memory = True\n",
    ")"
   ]
  },
  {
   "cell_type": "code",
   "execution_count": 9,
   "id": "1ffa1bb9",
   "metadata": {},
   "outputs": [],
   "source": [
    "class Model(nn.Module):\n",
    "    def __init__(self, data_length = 2e6, kernel_size = 500):\n",
    "        super().__init__()\n",
    "        self.embedding = nn.Embedding(257, 8, padding_idx=0)\n",
    "        self.conv_layer_1 = nn.Conv1d(4, 128, kernel_size, stride = kernel_size, bias = True)\n",
    "        # self.bn_1 = nn.BatchNorm1d(128)\n",
    "        self.conv_layer_2 = nn.Conv1d(4, 128, kernel_size, stride = kernel_size, bias = True)\n",
    "        self.pool_layer_2 = nn.MaxPool1d(data_length//kernel_size)\n",
    "        self.fc_layer_3 = nn.Linear(128, 128)\n",
    "        self.fc_layer_4 = nn.Linear(128, 2)\n",
    "        \n",
    "    def forward(self,x):\n",
    "        embedd_x = self.embedding(x)\n",
    "        # embedd_x.requires_grad = True\n",
    "        embedd_x.retain_grad()\n",
    "        x = embedd_x.transpose(-1,-2)\n",
    "        x_conv_1 = self.conv_layer_1(x[:,:4,:])\n",
    "        x_conv_2 = torch.sigmoid(self.conv_layer_2(x[:,4:,:]))\n",
    "        x = x_conv_1*x_conv_2\n",
    "        del x_conv_1,x_conv_2\n",
    "        x = self.pool_layer_2(x).squeeze()\n",
    "        x = self.fc_layer_3(x)\n",
    "        x = self.fc_layer_4(x)\n",
    "        return x,embedd_x"
   ]
  },
  {
   "cell_type": "code",
   "execution_count": 10,
   "id": "9d7425eb",
   "metadata": {},
   "outputs": [],
   "source": [
    "model = Model(data_length=LEAVE_BIT_NUMBER,kernel_size=KERNEL_SIZE)\n",
    "\n",
    "ce_loss = nn.CrossEntropyLoss()\n",
    "optim = Adam(model.parameters())\n",
    "\n",
    "model = model.cuda() if CUDA else model\n",
    "ce_loss = ce_loss.cuda() if CUDA else ce_less"
   ]
  },
  {
   "cell_type": "code",
   "execution_count": 11,
   "id": "b28d8436",
   "metadata": {},
   "outputs": [
    {
     "data": {
      "text/plain": [
       "<All keys matched successfully>"
      ]
     },
     "execution_count": 11,
     "metadata": {},
     "output_type": "execute_result"
    }
   ],
   "source": [
    "model.load_state_dict(torch.load(trained_model_path + best_trained_model))"
   ]
  },
  {
   "cell_type": "code",
   "execution_count": 12,
   "id": "54b7a8e0",
   "metadata": {},
   "outputs": [
    {
     "name": "stderr",
     "output_type": "stream",
     "text": [
      "  0%|          | 0/600 [00:03<?, ?it/s]\n"
     ]
    }
   ],
   "source": [
    "model.eval()\n",
    "for step, (batch_data,batch_label) in enumerate(tqdm(validloader)):\n",
    "    break"
   ]
  },
  {
   "cell_type": "code",
   "execution_count": 13,
   "id": "1fc4d6a7",
   "metadata": {},
   "outputs": [],
   "source": [
    "mask = batch_data == 0"
   ]
  },
  {
   "cell_type": "code",
   "execution_count": 14,
   "id": "44fe7bcf",
   "metadata": {},
   "outputs": [],
   "source": [
    "random_padding = torch.randint_like(input=mask.float(),low=1,high=257) * mask"
   ]
  },
  {
   "cell_type": "code",
   "execution_count": 15,
   "id": "fc12e078",
   "metadata": {},
   "outputs": [],
   "source": [
    "batch_data += random_padding.long()"
   ]
  },
  {
   "cell_type": "code",
   "execution_count": 16,
   "id": "06592f28",
   "metadata": {},
   "outputs": [],
   "source": [
    "optim.zero_grad()\n",
    "batch_data = batch_data.cuda() if CUDA else batch_data\n",
    "batch_label = batch_label.cuda() if CUDA else batch_label\n",
    "batch_label = batch_label.squeeze()\n",
    "temp = torch.zeros((len(batch_label),2))\n",
    "for idx,target in enumerate(batch_label.squeeze()): temp[idx,target] = 1\n",
    "temp_label = temp.cuda() if CUDA else temp\n",
    "pred,embedd_x = model(batch_data)\n",
    "loss = ce_loss(pred, temp_label)\n",
    "loss.backward()"
   ]
  },
  {
   "cell_type": "code",
   "execution_count": 17,
   "id": "14c102fc",
   "metadata": {
    "scrolled": true
   },
   "outputs": [],
   "source": [
    "attacked_embedd_x = embedd_x - (embedd_x.mean()*1e-3)*(embedd_x.grad.sign())"
   ]
  },
  {
   "cell_type": "code",
   "execution_count": 18,
   "id": "327e4d59",
   "metadata": {},
   "outputs": [],
   "source": [
    "all_embedd = model.embedding(torch.arange(start=0,end=257).cuda())"
   ]
  },
  {
   "cell_type": "code",
   "execution_count": 19,
   "id": "b06579a9",
   "metadata": {},
   "outputs": [],
   "source": [
    "attacked_embedd_x = attacked_embedd_x.detach().cpu().numpy()\n",
    "all_embedd = all_embedd.detach().cpu().numpy()"
   ]
  },
  {
   "cell_type": "code",
   "execution_count": 20,
   "id": "e195d34e",
   "metadata": {},
   "outputs": [],
   "source": [
    "def mp_func(idx,one_of_all_embedd,attacked_embedd_x):\n",
    "    temp = np.linalg.norm(attacked_embedd_x - one_of_all_embedd,ord=2,axis=-1)\n",
    "    temp = np.expand_dims(temp, axis=-1)\n",
    "    return [idx,temp]"
   ]
  },
  {
   "cell_type": "code",
   "execution_count": 21,
   "id": "b8ff26c2",
   "metadata": {},
   "outputs": [],
   "source": [
    "partial_mp_func = partial(mp_func,attacked_embedd_x = attacked_embedd_x)"
   ]
  },
  {
   "cell_type": "code",
   "execution_count": 22,
   "id": "4a1f792e",
   "metadata": {},
   "outputs": [],
   "source": [
    "with mp.Pool(processes = 12) as pool:\n",
    "    results = pool.starmap(partial_mp_func,((idx,one_of_all_embedd) for idx,one_of_all_embedd in enumerate(all_embedd)))\n",
    "results = sorted(results,key=lambda x:x[0])\n",
    "two_norm_results = np.concatenate(list(results[i][1] for i in range(len(results))),axis=-1)"
   ]
  },
  {
   "cell_type": "code",
   "execution_count": 23,
   "id": "f9ff9786",
   "metadata": {},
   "outputs": [],
   "source": [
    "# for i in tqdm(range(len(all_embedd))):\n",
    "#     temp = np.linalg.norm(attacked_embedd_x - all_embedd[i],ord=2,axis=-1)\n",
    "#     temp = np.expand_dims(temp, axis=-1)\n",
    "#     if i == 0: two_norm_results = temp\n",
    "#     else: two_norm_results = np.concatenate((two_norm_results,temp),axis=-1)"
   ]
  },
  {
   "cell_type": "code",
   "execution_count": null,
   "id": "4a0c36b4",
   "metadata": {},
   "outputs": [],
   "source": []
  },
  {
   "cell_type": "code",
   "execution_count": 24,
   "id": "62426521",
   "metadata": {},
   "outputs": [],
   "source": [
    "new_batch_data = ((~mask).cuda()*batch_data).cuda() + (mask*np.argmin(two_norm_results,axis=-1)).cuda()"
   ]
  },
  {
   "cell_type": "code",
   "execution_count": 25,
   "id": "5eb56045",
   "metadata": {},
   "outputs": [],
   "source": [
    "pred,embedd_x = model(batch_data)"
   ]
  },
  {
   "cell_type": "code",
   "execution_count": 26,
   "id": "a84acb56",
   "metadata": {},
   "outputs": [
    {
     "data": {
      "text/plain": [
       "0.11"
      ]
     },
     "execution_count": 26,
     "metadata": {},
     "output_type": "execute_result"
    }
   ],
   "source": [
    "_, predicted = torch.max(pred, 1)\n",
    "(batch_label.cpu().data.numpy() == predicted.cpu().data.numpy()).mean()"
   ]
  }
 ],
 "metadata": {
  "kernelspec": {
   "display_name": "Python 3",
   "language": "python",
   "name": "python3"
  },
  "language_info": {
   "codemirror_mode": {
    "name": "ipython",
    "version": 3
   },
   "file_extension": ".py",
   "mimetype": "text/x-python",
   "name": "python",
   "nbconvert_exporter": "python",
   "pygments_lexer": "ipython3",
   "version": "3.6.9"
  }
 },
 "nbformat": 4,
 "nbformat_minor": 5
}
