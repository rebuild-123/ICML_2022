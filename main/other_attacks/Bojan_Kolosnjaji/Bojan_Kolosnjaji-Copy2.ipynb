{
 "cells": [
  {
   "cell_type": "code",
   "execution_count": 1,
   "id": "2ac8a951",
   "metadata": {},
   "outputs": [],
   "source": [
    "import os\n",
    "import numpy as np\n",
    "import pandas as pd\n",
    "from tqdm import tqdm\n",
    "import multiprocessing as mp\n",
    "from functools import partial\n",
    "from sklearn.model_selection import train_test_split\n",
    "import torch\n",
    "from torch import nn\n",
    "from torch.optim import Adam\n",
    "import torch.nn.functional as F\n",
    "from torch.utils.data import DataLoader, Dataset\n",
    "# from src.model import *\n",
    "# from src.util import *\n",
    "os.environ[\"CUDA_VISIBLE_DEVICES\"] = '1'"
   ]
  },
  {
   "cell_type": "code",
   "execution_count": 2,
   "id": "373482b5",
   "metadata": {},
   "outputs": [],
   "source": [
    "trained_model_path = '/workdir/security/home/junjiehuang2468/paper/trained_models_weight/ember/'\n",
    "best_trained_model = '2022-01-18 14:55/2w_epoch:13_test_acc:0.896058.pt'\n",
    "data_path = \"/workdir/security/home/junjiehuang2468/paper/data/ember2018/\"\n",
    "train_data_path = data_path + \"malwares/\" \n",
    "train_label_path = data_path + \"train_labels.csv\" "
   ]
  },
  {
   "cell_type": "code",
   "execution_count": 3,
   "id": "58a42012",
   "metadata": {},
   "outputs": [],
   "source": [
    "CUDA = True if torch.cuda.is_available() else False\n",
    "NUM_WORKERS = 18  # Number of cores to use for data loader\n",
    "BATCH_SIZE = 64  #\n",
    "LEAVE_BIT_NUMBER = 20000\n",
    "KERNEL_SIZE = 500  # Kernel size & stride for Malconv (defualt : 500)"
   ]
  },
  {
   "cell_type": "code",
   "execution_count": 4,
   "id": "f0179094",
   "metadata": {},
   "outputs": [],
   "source": [
    "trainset = pd.read_csv(data_path + 'train_dataset.csv')\n",
    "validset = pd.read_csv(data_path + 'valid_dataset.csv')\n",
    "validset = validset.iloc[np.argwhere(validset['labels'].values == 1).squeeze(),:]"
   ]
  },
  {
   "cell_type": "code",
   "execution_count": 5,
   "id": "1df22266",
   "metadata": {},
   "outputs": [],
   "source": [
    "class ExeDataset(Dataset):\n",
    "    def __init__(self, malware_names, data_path, labels, leave_bit_num):\n",
    "        self.malware_names = malware_names\n",
    "        self.data_path = data_path\n",
    "        self.labels = labels\n",
    "        self.leave_bit_num = leave_bit_num\n",
    "\n",
    "    def __len__(self):\n",
    "        return len(self.malware_names)\n",
    "\n",
    "    def __getitem__(self, idx):\n",
    "        with open(self.data_path + self.malware_names[idx] + '.txt','rb') as fp:\n",
    "            data = [bit+1 for bit in fp.read()[:self.leave_bit_num]]\n",
    "            padding = [0]*(self.leave_bit_num-len(data))\n",
    "            data = data + padding\n",
    "\n",
    "        return np.array(data), np.array([self.labels[idx]])"
   ]
  },
  {
   "cell_type": "code",
   "execution_count": 6,
   "id": "0dff087d",
   "metadata": {},
   "outputs": [],
   "source": [
    "train_dataset = ExeDataset(\n",
    "    trainset[\"id\"].tolist(), \n",
    "    train_data_path, \n",
    "    trainset[\"labels\"].tolist(), \n",
    "    LEAVE_BIT_NUMBER\n",
    ")\n",
    "valid_dataset = ExeDataset(\n",
    "    validset[\"id\"].tolist(), \n",
    "    train_data_path, \n",
    "    validset[\"labels\"].tolist(), \n",
    "    LEAVE_BIT_NUMBER\n",
    ")"
   ]
  },
  {
   "cell_type": "code",
   "execution_count": 7,
   "id": "4f2654e6",
   "metadata": {},
   "outputs": [],
   "source": [
    "trainloader = DataLoader(\n",
    "    dataset = train_dataset,\n",
    "    batch_size = BATCH_SIZE,\n",
    "    shuffle = False,\n",
    "    num_workers = NUM_WORKERS,\n",
    "    pin_memory = True\n",
    ")\n",
    "validloader = DataLoader(\n",
    "    dataset = valid_dataset,\n",
    "    batch_size = BATCH_SIZE,\n",
    "    shuffle = False,\n",
    "    num_workers = NUM_WORKERS,\n",
    "    pin_memory = True\n",
    ")"
   ]
  },
  {
   "cell_type": "code",
   "execution_count": null,
   "id": "c4b2e213",
   "metadata": {},
   "outputs": [],
   "source": []
  },
  {
   "cell_type": "code",
   "execution_count": 8,
   "id": "b1e78cba",
   "metadata": {},
   "outputs": [],
   "source": [
    "class Model(nn.Module):\n",
    "    def __init__(self, data_length = 2e6, kernel_size = 500):\n",
    "        super().__init__()\n",
    "        self.embedding = nn.Embedding(257, 8, padding_idx=0)\n",
    "        self.conv_layer_1 = nn.Conv1d(4, 128, kernel_size, stride = kernel_size, bias = True)\n",
    "        # self.bn_1 = nn.BatchNorm1d(128)\n",
    "        self.conv_layer_2 = nn.Conv1d(4, 128, kernel_size, stride = kernel_size, bias = True)\n",
    "        self.pool_layer_2 = nn.MaxPool1d(data_length//kernel_size)\n",
    "        self.fc_layer_3 = nn.Linear(128, 128)\n",
    "        self.fc_layer_4 = nn.Linear(128, 2)\n",
    "        \n",
    "    def forward(self,x):\n",
    "        embedd_x = self.embedding(x)\n",
    "        embedd_x.retain_grad()\n",
    "        x = embedd_x.transpose(-1,-2)\n",
    "        x_conv_1 = self.conv_layer_1(x[:,:4,:])\n",
    "        x_conv_2 = torch.sigmoid(self.conv_layer_2(x[:,4:,:]))\n",
    "        x = x_conv_1*x_conv_2\n",
    "        del x_conv_1,x_conv_2\n",
    "        x = self.pool_layer_2(x).squeeze()\n",
    "        x = self.fc_layer_3(x)\n",
    "        x = self.fc_layer_4(x)\n",
    "        return x,embedd_x"
   ]
  },
  {
   "cell_type": "code",
   "execution_count": 9,
   "id": "9764b2cf",
   "metadata": {},
   "outputs": [],
   "source": [
    "model = Model(data_length=LEAVE_BIT_NUMBER,kernel_size=KERNEL_SIZE)\n",
    "\n",
    "ce_loss = nn.CrossEntropyLoss()\n",
    "optim = Adam(model.parameters())\n",
    "\n",
    "model = model.cuda() if CUDA else model\n",
    "ce_loss = ce_loss.cuda() if CUDA else ce_less"
   ]
  },
  {
   "cell_type": "code",
   "execution_count": 10,
   "id": "f674591a",
   "metadata": {},
   "outputs": [
    {
     "data": {
      "text/plain": [
       "<All keys matched successfully>"
      ]
     },
     "execution_count": 10,
     "metadata": {},
     "output_type": "execute_result"
    }
   ],
   "source": [
    "model.load_state_dict(torch.load(trained_model_path + best_trained_model))"
   ]
  },
  {
   "cell_type": "code",
   "execution_count": 11,
   "id": "1b468dfb",
   "metadata": {},
   "outputs": [],
   "source": [
    "model_embedding_layer = model.embedding"
   ]
  },
  {
   "cell_type": "code",
   "execution_count": 12,
   "id": "dc653fb7",
   "metadata": {},
   "outputs": [
    {
     "name": "stderr",
     "output_type": "stream",
     "text": [
      "  0%|          | 0/938 [00:02<?, ?it/s]\n"
     ]
    }
   ],
   "source": [
    "total_acc = []\n",
    "bar = tqdm(validloader)\n",
    "for step, (batch_data,batch_label) in enumerate(bar):\n",
    "    optim.zero_grad()\n",
    "    batch_data = batch_data.cuda() if CUDA else batch_data\n",
    "    batch_label = batch_label.cuda() if CUDA else batch_label\n",
    "    batch_label = batch_label.squeeze()\n",
    "    temp = torch.zeros((len(batch_label),2))\n",
    "    for idx,target in enumerate(batch_label.squeeze()): temp[idx,target] = 1\n",
    "    temp_label = temp.cuda() if CUDA else temp\n",
    "    pred,embedd_x = model(batch_data)\n",
    "    loss = ce_loss(pred, temp_label)\n",
    "    loss.backward()\n",
    "    break"
   ]
  },
  {
   "cell_type": "code",
   "execution_count": 13,
   "id": "7f7dacb7",
   "metadata": {},
   "outputs": [],
   "source": [
    "mask = batch_data == 0"
   ]
  },
  {
   "cell_type": "code",
   "execution_count": 14,
   "id": "b6027a7c",
   "metadata": {},
   "outputs": [],
   "source": [
    "embedd_x_grad = embedd_x.grad.detach().cpu().numpy()"
   ]
  },
  {
   "cell_type": "code",
   "execution_count": 15,
   "id": "c5cd19d3",
   "metadata": {},
   "outputs": [],
   "source": [
    "embedd_x = embedd_x.detach().cpu().numpy()"
   ]
  },
  {
   "cell_type": "code",
   "execution_count": 16,
   "id": "3af3924c",
   "metadata": {
    "scrolled": true
   },
   "outputs": [],
   "source": [
    "all_embedd = model.embedding(torch.arange(start=0,end=257).cuda())\n",
    "all_embedd = all_embedd.detach().cpu().numpy()"
   ]
  },
  {
   "cell_type": "code",
   "execution_count": 17,
   "id": "c32d0de8",
   "metadata": {},
   "outputs": [],
   "source": [
    "del temp,temp_label,pred\n",
    "torch.cuda.empty_cache()"
   ]
  },
  {
   "cell_type": "code",
   "execution_count": 18,
   "id": "b4294686",
   "metadata": {},
   "outputs": [],
   "source": [
    "embedded_x_grad_two_norm = np.linalg.norm(embedd_x_grad,ord=2,axis=-1)\n",
    "embedded_x_grad_two_norm = np.expand_dims(embedded_x_grad_two_norm,axis=-1)\n",
    "grad = -np.divide(\n",
    "    embedd_x_grad,\n",
    "    embedded_x_grad_two_norm,\n",
    "#     out = np.full_like(embedd_x_grad,np.inf),\n",
    "    out = np.full_like(embedd_x_grad,0),\n",
    "    where = embedded_x_grad_two_norm != 0\n",
    ")"
   ]
  },
  {
   "cell_type": "code",
   "execution_count": 19,
   "id": "6a32a585",
   "metadata": {},
   "outputs": [],
   "source": [
    "def mp_func(idx,one_of_all_embedd,embedd_x,grad):\n",
    "    sb = np.sum(grad * (one_of_all_embedd - embedd_x),axis=-1)\n",
    "    sb = np.expand_dims(sb,axis=-1)\n",
    "    sb_gz = (sb > 0)*1.0\n",
    "    db = np.linalg.norm(one_of_all_embedd - (embedd_x + sb*grad),ord=1,axis=-1)\n",
    "    db = np.expand_dims(db,axis=-1)\n",
    "    return [idx,sb,db,sb_gz]"
   ]
  },
  {
   "cell_type": "code",
   "execution_count": 20,
   "id": "db109596",
   "metadata": {},
   "outputs": [],
   "source": [
    "partial_mp_func = partial(mp_func,embedd_x=embedd_x,grad=grad)"
   ]
  },
  {
   "cell_type": "code",
   "execution_count": 21,
   "id": "a8b3d778",
   "metadata": {},
   "outputs": [],
   "source": [
    "with mp.Pool(processes = 12) as pool:\n",
    "    data = [(idx,one_of_all_embedded) for idx,one_of_all_embedded in enumerate(all_embedd)]\n",
    "    results = pool.starmap(partial_mp_func,data)"
   ]
  },
  {
   "cell_type": "code",
   "execution_count": 22,
   "id": "e3edfcd8",
   "metadata": {},
   "outputs": [],
   "source": [
    "results = sorted(results,key=lambda x:x[0])"
   ]
  },
  {
   "cell_type": "code",
   "execution_count": 23,
   "id": "802fd047",
   "metadata": {},
   "outputs": [],
   "source": [
    "# total_sb = np.concatenate(np.array(list(r[1] for r in results)),axis=-1)"
   ]
  },
  {
   "cell_type": "code",
   "execution_count": null,
   "id": "fa203bfb",
   "metadata": {},
   "outputs": [],
   "source": [
    "total_db = np.concatenate(np.array(list(r[2] for r in results)),axis=-1)"
   ]
  },
  {
   "cell_type": "code",
   "execution_count": null,
   "id": "6ef09391",
   "metadata": {},
   "outputs": [],
   "source": [
    "total_sb_gz = np.concatenate(np.array(list(r[3] for r in results)),axis=-1)"
   ]
  },
  {
   "cell_type": "code",
   "execution_count": null,
   "id": "f1fa5ace",
   "metadata": {},
   "outputs": [],
   "source": [
    "# total_sb = torch.from_numpy(total_sb).cuda()\n",
    "# total_db = torch.from_numpy(total_db).cuda()\n",
    "# total_sb_gz = torch.from_numpy(total_sb_gz).cuda()"
   ]
  },
  {
   "cell_type": "code",
   "execution_count": null,
   "id": "dd99c292",
   "metadata": {},
   "outputs": [],
   "source": [
    "total = torch.from_numpy(total_sb_gz).cuda()*torch.from_numpy(total_db).cuda()"
   ]
  },
  {
   "cell_type": "code",
   "execution_count": null,
   "id": "aacf172a",
   "metadata": {},
   "outputs": [],
   "source": [
    "total += (1-torch.from_numpy(total_sb_gz).cuda())*1e5"
   ]
  },
  {
   "cell_type": "code",
   "execution_count": null,
   "id": "0c2fb605",
   "metadata": {},
   "outputs": [],
   "source": [
    "total = torch.argmin(total,dim=-1)"
   ]
  },
  {
   "cell_type": "code",
   "execution_count": null,
   "id": "920f41af",
   "metadata": {},
   "outputs": [],
   "source": [
    "batch_data.data = (~mask)*batch_data + mask*total"
   ]
  },
  {
   "cell_type": "code",
   "execution_count": null,
   "id": "0b19e73e",
   "metadata": {},
   "outputs": [],
   "source": [
    "pred,embedd_x = model(batch_data)\n",
    "_, predicted = torch.max(pred, 1)\n",
    "acc = (batch_label.cpu().data.numpy() == predicted.cpu().data.numpy()).mean()"
   ]
  },
  {
   "cell_type": "code",
   "execution_count": null,
   "id": "039f203f",
   "metadata": {},
   "outputs": [],
   "source": [
    "acc"
   ]
  }
 ],
 "metadata": {
  "kernelspec": {
   "display_name": "Python 3",
   "language": "python",
   "name": "python3"
  },
  "language_info": {
   "codemirror_mode": {
    "name": "ipython",
    "version": 3
   },
   "file_extension": ".py",
   "mimetype": "text/x-python",
   "name": "python",
   "nbconvert_exporter": "python",
   "pygments_lexer": "ipython3",
   "version": "3.6.9"
  }
 },
 "nbformat": 4,
 "nbformat_minor": 5
}
