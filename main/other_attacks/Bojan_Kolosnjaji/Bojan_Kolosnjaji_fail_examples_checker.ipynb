{
 "cells": [
  {
   "cell_type": "code",
   "execution_count": 1,
   "id": "2ac8a951",
   "metadata": {},
   "outputs": [],
   "source": [
    "import os\n",
    "import pickle\n",
    "import numpy as np\n",
    "import pandas as pd\n",
    "from tqdm import tqdm\n",
    "import multiprocessing as mp\n",
    "from functools import partial\n",
    "from sklearn.model_selection import train_test_split\n",
    "import torch\n",
    "from torch import nn\n",
    "from torch.optim import Adam\n",
    "import torch.nn.functional as F\n",
    "from torch.utils.data import DataLoader, Dataset\n",
    "# from src.model import *\n",
    "# from src.util import *\n",
    "os.environ[\"CUDA_VISIBLE_DEVICES\"] = '2'"
   ]
  },
  {
   "cell_type": "code",
   "execution_count": 2,
   "id": "373482b5",
   "metadata": {},
   "outputs": [],
   "source": [
    "trained_model_path = '/workdir/security/home/junjiehuang2468/paper/trained_models_weight/ember/'\n",
    "best_trained_model = '2022-01-18 14:55/2w_epoch:0_test_acc:0.890858.pt'\n",
    "data_path = \"/workdir/security/home/junjiehuang2468/paper/data/ember2018/\"\n",
    "train_data_path = data_path + \"malwares/\" \n",
    "test_data_path = data_path + \"test_malwares/\" "
   ]
  },
  {
   "cell_type": "code",
   "execution_count": 3,
   "id": "58a42012",
   "metadata": {},
   "outputs": [],
   "source": [
    "CUDA = True if torch.cuda.is_available() else False\n",
    "NUM_WORKERS = 18\n",
    "BATCH_SIZE = 10\n",
    "LEAVE_BIT_NUMBER = 20000\n",
    "KERNEL_SIZE = 500"
   ]
  },
  {
   "cell_type": "code",
   "execution_count": 4,
   "id": "f0179094",
   "metadata": {},
   "outputs": [],
   "source": [
    "trainset = pd.read_csv(data_path + 'train_dataset.csv')\n",
    "validset = pd.read_csv(data_path + 'valid_dataset.csv')\n",
    "testset = pd.read_csv(data_path + 'test_dataset.csv')\n",
    "testset = testset.iloc[np.argwhere(testset['labels'].values == 1).squeeze(),:]"
   ]
  },
  {
   "cell_type": "code",
   "execution_count": 5,
   "id": "1df22266",
   "metadata": {},
   "outputs": [],
   "source": [
    "class ExeDataset(Dataset):\n",
    "    def __init__(self, malware_names, data_path, labels, leave_bit_num):\n",
    "        self.malware_names = malware_names\n",
    "        self.data_path = data_path\n",
    "        self.labels = labels\n",
    "        self.leave_bit_num = leave_bit_num\n",
    "\n",
    "    def __len__(self):\n",
    "        return len(self.malware_names)\n",
    "\n",
    "    def __getitem__(self, idx):\n",
    "        with open(self.data_path + self.malware_names[idx] + '.txt','rb') as fp:\n",
    "            data = [bit+1 for bit in fp.read()[:self.leave_bit_num]]\n",
    "            padding = [0]*(self.leave_bit_num-len(data))\n",
    "            data = data + padding\n",
    "\n",
    "        return np.array(data), np.array([self.labels[idx]])"
   ]
  },
  {
   "cell_type": "code",
   "execution_count": 6,
   "id": "0dff087d",
   "metadata": {},
   "outputs": [],
   "source": [
    "train_dataset = ExeDataset(\n",
    "    trainset[\"id\"].tolist(), \n",
    "    train_data_path, \n",
    "    trainset[\"labels\"].tolist(), \n",
    "    LEAVE_BIT_NUMBER\n",
    ")\n",
    "valid_dataset = ExeDataset(\n",
    "    validset[\"id\"].tolist(), \n",
    "    train_data_path, \n",
    "    validset[\"labels\"].tolist(), \n",
    "    LEAVE_BIT_NUMBER\n",
    ")\n",
    "test_dataset = ExeDataset(\n",
    "    testset[\"id\"].tolist(), \n",
    "    test_data_path, \n",
    "    testset[\"labels\"].tolist(), \n",
    "    LEAVE_BIT_NUMBER\n",
    ")"
   ]
  },
  {
   "cell_type": "code",
   "execution_count": 7,
   "id": "4f2654e6",
   "metadata": {},
   "outputs": [],
   "source": [
    "trainloader = DataLoader(\n",
    "    dataset = train_dataset,\n",
    "    batch_size = BATCH_SIZE,\n",
    "    shuffle = False,\n",
    "    num_workers = NUM_WORKERS,\n",
    "    pin_memory = True\n",
    ")\n",
    "validloader = DataLoader(\n",
    "    dataset = valid_dataset,\n",
    "    batch_size = BATCH_SIZE,\n",
    "    shuffle = False,\n",
    "    num_workers = NUM_WORKERS,\n",
    "    pin_memory = True\n",
    ")\n",
    "testloader = DataLoader(\n",
    "    dataset = test_dataset,\n",
    "    batch_size = BATCH_SIZE,\n",
    "    shuffle = False,\n",
    "    num_workers = NUM_WORKERS,\n",
    "    pin_memory = True\n",
    ")"
   ]
  },
  {
   "cell_type": "code",
   "execution_count": null,
   "id": "c4b2e213",
   "metadata": {},
   "outputs": [],
   "source": []
  },
  {
   "cell_type": "code",
   "execution_count": 8,
   "id": "b1e78cba",
   "metadata": {},
   "outputs": [],
   "source": [
    "class Model(nn.Module):\n",
    "    def __init__(self, data_length = 2e6, kernel_size = 500):\n",
    "        super().__init__()\n",
    "        self.embedding = nn.Embedding(257, 8, padding_idx=0)\n",
    "        self.conv_layer_1 = nn.Conv1d(4, 128, kernel_size, stride = kernel_size, bias = True)\n",
    "        # self.bn_1 = nn.BatchNorm1d(128)\n",
    "        self.conv_layer_2 = nn.Conv1d(4, 128, kernel_size, stride = kernel_size, bias = True)\n",
    "        self.pool_layer_2 = nn.MaxPool1d(data_length//kernel_size)\n",
    "        self.fc_layer_3 = nn.Linear(128, 128)\n",
    "        self.fc_layer_4 = nn.Linear(128, 2)\n",
    "        \n",
    "    def forward(self,x):\n",
    "        embedd_x = self.embedding(x)\n",
    "        embedd_x.retain_grad()\n",
    "        x = embedd_x.transpose(-1,-2)\n",
    "        x_conv_1 = self.conv_layer_1(x[:,:4,:])\n",
    "        x_conv_2 = torch.sigmoid(self.conv_layer_2(x[:,4:,:]))\n",
    "        x = x_conv_1*x_conv_2\n",
    "        del x_conv_1,x_conv_2\n",
    "        x = self.pool_layer_2(x).squeeze()\n",
    "        x = self.fc_layer_3(x)\n",
    "        x = self.fc_layer_4(x)\n",
    "        return x,embedd_x"
   ]
  },
  {
   "cell_type": "code",
   "execution_count": 9,
   "id": "9764b2cf",
   "metadata": {},
   "outputs": [],
   "source": [
    "model = Model(data_length=LEAVE_BIT_NUMBER,kernel_size=KERNEL_SIZE)\n",
    "\n",
    "ce_loss = nn.CrossEntropyLoss()\n",
    "optim = Adam(model.parameters())\n",
    "\n",
    "model = model.cuda() if CUDA else model\n",
    "ce_loss = ce_loss.cuda() if CUDA else ce_less"
   ]
  },
  {
   "cell_type": "code",
   "execution_count": 10,
   "id": "f674591a",
   "metadata": {},
   "outputs": [
    {
     "data": {
      "text/plain": [
       "<All keys matched successfully>"
      ]
     },
     "execution_count": 10,
     "metadata": {},
     "output_type": "execute_result"
    }
   ],
   "source": [
    "model.load_state_dict(torch.load(trained_model_path + best_trained_model))"
   ]
  },
  {
   "cell_type": "code",
   "execution_count": 11,
   "id": "2fadb913",
   "metadata": {},
   "outputs": [],
   "source": [
    "model_embedding_layer = model.embedding"
   ]
  },
  {
   "cell_type": "code",
   "execution_count": 12,
   "id": "3e3667bb",
   "metadata": {},
   "outputs": [],
   "source": [
    "from collections import defaultdict\n",
    "dic = defaultdict(list)"
   ]
  },
  {
   "cell_type": "code",
   "execution_count": null,
   "id": "91aa1960",
   "metadata": {},
   "outputs": [
    {
     "name": "stderr",
     "output_type": "stream",
     "text": [
      "[0.8730769 0.4692308 0.0038462 0.0038462 0.0038462 0.0038462 0.0038462 0.0038462 0.0038462 0.0038462]:   0%|          | 26/10000 [00:12<1:12:45,  2.28it/s]"
     ]
    },
    {
     "name": "stdout",
     "output_type": "stream",
     "text": [
      "253\n",
      "0\n"
     ]
    },
    {
     "name": "stderr",
     "output_type": "stream",
     "text": [
      "[0.8780488 0.4756098 0.0048780 0.0048780 0.0048780 0.0048780 0.0048780 0.0048780 0.0048780 0.0048780]:   0%|          | 41/10000 [00:19<1:12:36,  2.29it/s]"
     ]
    },
    {
     "name": "stdout",
     "output_type": "stream",
     "text": [
      "400\n",
      "0\n"
     ]
    },
    {
     "name": "stderr",
     "output_type": "stream",
     "text": [
      "[0.8600000 0.4538462 0.0046154 0.0046154 0.0046154 0.0046154 0.0046154 0.0046154 0.0046154 0.0046154]:   1%|          | 65/10000 [00:29<1:13:28,  2.25it/s]"
     ]
    },
    {
     "name": "stdout",
     "output_type": "stream",
     "text": [
      "647\n",
      "0\n"
     ]
    },
    {
     "name": "stderr",
     "output_type": "stream",
     "text": [
      "[0.8652632 0.4652632 0.0042105 0.0042105 0.0042105 0.0042105 0.0042105 0.0042105 0.0042105 0.0042105]:   1%|          | 95/10000 [00:43<1:13:21,  2.25it/s]"
     ]
    },
    {
     "name": "stdout",
     "output_type": "stream",
     "text": [
      "942\n",
      "0\n"
     ]
    },
    {
     "name": "stderr",
     "output_type": "stream",
     "text": [
      "[0.8691667 0.4566667 0.0041667 0.0041667 0.0041667 0.0041667 0.0041667 0.0041667 0.0041667 0.0041667]:   1%|          | 120/10000 [00:54<1:13:15,  2.25it/s]"
     ]
    },
    {
     "name": "stdout",
     "output_type": "stream",
     "text": [
      "1197\n",
      "0\n"
     ]
    },
    {
     "name": "stderr",
     "output_type": "stream",
     "text": [
      "[0.8573427 0.4496503 0.0041958 0.0041958 0.0041958 0.0041958 0.0041958 0.0041958 0.0041958 0.0041958]:   1%|▏         | 143/10000 [01:04<1:13:20,  2.24it/s]"
     ]
    },
    {
     "name": "stdout",
     "output_type": "stream",
     "text": [
      "1423\n",
      "0\n"
     ]
    },
    {
     "name": "stderr",
     "output_type": "stream",
     "text": [
      "[0.8591716 0.4502959 0.0041420 0.0041420 0.0041420 0.0041420 0.0041420 0.0041420 0.0041420 0.0041420]:   2%|▏         | 169/10000 [01:16<1:13:06,  2.24it/s]"
     ]
    },
    {
     "name": "stdout",
     "output_type": "stream",
     "text": [
      "1681\n",
      "0\n"
     ]
    },
    {
     "name": "stderr",
     "output_type": "stream",
     "text": [
      "[0.8590643 0.4508772 0.0046784 0.0046784 0.0046784 0.0046784 0.0046784 0.0046784 0.0046784 0.0046784]:   2%|▏         | 171/10000 [01:16<1:13:06,  2.24it/s]"
     ]
    },
    {
     "name": "stdout",
     "output_type": "stream",
     "text": [
      "1700\n",
      "0\n"
     ]
    },
    {
     "name": "stderr",
     "output_type": "stream",
     "text": [
      "[0.8586207 0.4517241 0.0051724 0.0051724 0.0051724 0.0051724 0.0051724 0.0051724 0.0051724 0.0051724]:   2%|▏         | 174/10000 [01:18<1:13:14,  2.24it/s]"
     ]
    },
    {
     "name": "stdout",
     "output_type": "stream",
     "text": [
      "1735\n",
      "0\n"
     ]
    },
    {
     "name": "stderr",
     "output_type": "stream",
     "text": [
      "[0.8601124 0.4505618 0.0056180 0.0056180 0.0056180 0.0056180 0.0056180 0.0056180 0.0056180 0.0056180]:   2%|▏         | 178/10000 [01:20<1:13:05,  2.24it/s]"
     ]
    },
    {
     "name": "stdout",
     "output_type": "stream",
     "text": [
      "1770\n",
      "0\n"
     ]
    },
    {
     "name": "stderr",
     "output_type": "stream",
     "text": [
      "[0.8589744 0.4512821 0.0056410 0.0056410 0.0056410 0.0056410 0.0056410 0.0056410 0.0056410 0.0056410]:   2%|▏         | 195/10000 [01:27<1:13:00,  2.24it/s]"
     ]
    },
    {
     "name": "stdout",
     "output_type": "stream",
     "text": [
      "1944\n",
      "0\n"
     ]
    },
    {
     "name": "stderr",
     "output_type": "stream",
     "text": [
      "[0.8598985 0.4507614 0.0060914 0.0060914 0.0060914 0.0060914 0.0060914 0.0060914 0.0060914 0.0060914]:   2%|▏         | 197/10000 [01:28<1:12:56,  2.24it/s]"
     ]
    },
    {
     "name": "stdout",
     "output_type": "stream",
     "text": [
      "1964\n",
      "0\n"
     ]
    },
    {
     "name": "stderr",
     "output_type": "stream",
     "text": [
      "[0.8581197 0.4452991 0.0055556 0.0055556 0.0055556 0.0055556 0.0055556 0.0055556 0.0055556 0.0055556]:   2%|▏         | 234/10000 [01:45<1:12:32,  2.24it/s]"
     ]
    },
    {
     "name": "stdout",
     "output_type": "stream",
     "text": [
      "2335\n",
      "0\n"
     ]
    },
    {
     "name": "stderr",
     "output_type": "stream",
     "text": [
      "[0.8580913 0.4443983 0.0058091 0.0058091 0.0058091 0.0058091 0.0058091 0.0058091 0.0058091 0.0058091]:   2%|▏         | 241/10000 [01:48<1:12:39,  2.24it/s]"
     ]
    },
    {
     "name": "stdout",
     "output_type": "stream",
     "text": [
      "2408\n",
      "0\n"
     ]
    },
    {
     "name": "stderr",
     "output_type": "stream",
     "text": [
      "[0.8581301 0.4455285 0.0060976 0.0060976 0.0060976 0.0060976 0.0060976 0.0060976 0.0060976 0.0060976]:   2%|▏         | 246/10000 [01:50<1:12:43,  2.24it/s]"
     ]
    },
    {
     "name": "stdout",
     "output_type": "stream",
     "text": [
      "2457\n",
      "0\n"
     ]
    },
    {
     "name": "stderr",
     "output_type": "stream",
     "text": [
      "[0.8571429 0.4455598 0.0061776 0.0061776 0.0061776 0.0061776 0.0061776 0.0061776 0.0061776 0.0061776]:   3%|▎         | 259/10000 [01:56<1:12:15,  2.25it/s]"
     ]
    },
    {
     "name": "stdout",
     "output_type": "stream",
     "text": [
      "2586\n",
      "0\n"
     ]
    },
    {
     "name": "stderr",
     "output_type": "stream",
     "text": [
      "[0.8573077 0.4450000 0.0065385 0.0065385 0.0065385 0.0065385 0.0065385 0.0065385 0.0065385 0.0065385]:   3%|▎         | 260/10000 [01:56<1:12:21,  2.24it/s]"
     ]
    },
    {
     "name": "stdout",
     "output_type": "stream",
     "text": [
      "2591\n",
      "0\n"
     ]
    },
    {
     "name": "stderr",
     "output_type": "stream",
     "text": [
      "[0.8608997 0.4425606 0.0062284 0.0062284 0.0062284 0.0062284 0.0062284 0.0062284 0.0062284 0.0062284]:   3%|▎         | 289/10000 [02:09<1:12:26,  2.23it/s]"
     ]
    },
    {
     "name": "stdout",
     "output_type": "stream",
     "text": [
      "2882\n",
      "0\n"
     ]
    },
    {
     "name": "stderr",
     "output_type": "stream",
     "text": [
      "[0.8612500 0.4437500 0.0059375 0.0059375 0.0059375 0.0059375 0.0059375 0.0059375 0.0059375 0.0059375]:   3%|▎         | 320/10000 [02:23<1:11:59,  2.24it/s]"
     ]
    },
    {
     "name": "stdout",
     "output_type": "stream",
     "text": [
      "3191\n",
      "0\n"
     ]
    },
    {
     "name": "stderr",
     "output_type": "stream",
     "text": [
      "[0.8622093 0.4473837 0.0058140 0.0058140 0.0058140 0.0058140 0.0058140 0.0058140 0.0058140 0.0058140]:   3%|▎         | 344/10000 [02:34<1:11:41,  2.24it/s]"
     ]
    },
    {
     "name": "stdout",
     "output_type": "stream",
     "text": [
      "3432\n",
      "0\n"
     ]
    },
    {
     "name": "stderr",
     "output_type": "stream",
     "text": [
      "[0.8617816 0.4465517 0.0060345 0.0060345 0.0060345 0.0060345 0.0060345 0.0060345 0.0060345 0.0060345]:   3%|▎         | 348/10000 [02:36<1:11:29,  2.25it/s]"
     ]
    },
    {
     "name": "stdout",
     "output_type": "stream",
     "text": [
      "3472\n",
      "0\n"
     ]
    },
    {
     "name": "stderr",
     "output_type": "stream",
     "text": [
      "[0.8611268 0.4456338 0.0061972 0.0061972 0.0061972 0.0061972 0.0061972 0.0061972 0.0061972 0.0061972]:   4%|▎         | 355/10000 [02:39<1:11:32,  2.25it/s]"
     ]
    },
    {
     "name": "stdout",
     "output_type": "stream",
     "text": [
      "3549\n",
      "0\n"
     ]
    },
    {
     "name": "stderr",
     "output_type": "stream",
     "text": [
      "[0.8616798 0.4443570 0.0060367 0.0060367 0.0060367 0.0060367 0.0060367 0.0060367 0.0060367 0.0060367]:   4%|▍         | 381/10000 [02:50<1:11:38,  2.24it/s]"
     ]
    },
    {
     "name": "stdout",
     "output_type": "stream",
     "text": [
      "3809\n",
      "0\n"
     ]
    },
    {
     "name": "stderr",
     "output_type": "stream",
     "text": [
      "[0.8616580 0.4435233 0.0062176 0.0062176 0.0062176 0.0062176 0.0062176 0.0062176 0.0062176 0.0062176]:   4%|▍         | 386/10000 [02:52<1:11:22,  2.25it/s]"
     ]
    },
    {
     "name": "stdout",
     "output_type": "stream",
     "text": [
      "3858\n",
      "0\n"
     ]
    },
    {
     "name": "stderr",
     "output_type": "stream",
     "text": [
      "[0.8615776 0.4437659 0.0063613 0.0063613 0.0063613 0.0063613 0.0063613 0.0063613 0.0063613 0.0063613]:   4%|▍         | 393/10000 [02:56<1:11:10,  2.25it/s]"
     ]
    },
    {
     "name": "stdout",
     "output_type": "stream",
     "text": [
      "3928\n",
      "0\n"
     ]
    },
    {
     "name": "stderr",
     "output_type": "stream",
     "text": [
      "[0.8600467 0.4413551 0.0060748 0.0060748 0.0060748 0.0060748 0.0060748 0.0060748 0.0060748 0.0060748]:   4%|▍         | 428/10000 [03:11<1:11:04,  2.24it/s]"
     ]
    },
    {
     "name": "stdout",
     "output_type": "stream",
     "text": [
      "4275\n",
      "0\n"
     ]
    },
    {
     "name": "stderr",
     "output_type": "stream",
     "text": [
      "[0.8596774 0.4412442 0.0062212 0.0062212 0.0062212 0.0062212 0.0062212 0.0062212 0.0062212 0.0062212]:   4%|▍         | 434/10000 [03:14<1:10:37,  2.26it/s]"
     ]
    },
    {
     "name": "stdout",
     "output_type": "stream",
     "text": [
      "4332\n",
      "0\n"
     ]
    },
    {
     "name": "stderr",
     "output_type": "stream",
     "text": [
      "[0.8606407 0.4418764 0.0064073 0.0064073 0.0064073 0.0064073 0.0064073 0.0064073 0.0064073 0.0064073]:   4%|▍         | 437/10000 [03:15<1:10:44,  2.25it/s]"
     ]
    },
    {
     "name": "stdout",
     "output_type": "stream",
     "text": [
      "4366\n",
      "0\n"
     ]
    },
    {
     "name": "stderr",
     "output_type": "stream",
     "text": [
      "[0.8611738 0.4419865 0.0065463 0.0065463 0.0065463 0.0065463 0.0065463 0.0065463 0.0065463 0.0065463]:   4%|▍         | 443/10000 [03:18<1:10:48,  2.25it/s]"
     ]
    },
    {
     "name": "stdout",
     "output_type": "stream",
     "text": [
      "4425\n",
      "0\n"
     ]
    },
    {
     "name": "stderr",
     "output_type": "stream",
     "text": [
      "[0.8601732 0.4415584 0.0064935 0.0064935 0.0064935 0.0064935 0.0064935 0.0064935 0.0064935 0.0064935]:   5%|▍         | 462/10000 [03:26<1:11:07,  2.24it/s]"
     ]
    },
    {
     "name": "stdout",
     "output_type": "stream",
     "text": [
      "4619\n",
      "0\n"
     ]
    },
    {
     "name": "stderr",
     "output_type": "stream",
     "text": [
      "[0.8593361 0.4398340 0.0064315 0.0064315 0.0064315 0.0064315 0.0064315 0.0064315 0.0064315 0.0064315]:   5%|▍         | 482/10000 [03:35<1:10:18,  2.26it/s]"
     ]
    },
    {
     "name": "stdout",
     "output_type": "stream",
     "text": [
      "4819\n",
      "0\n"
     ]
    },
    {
     "name": "stderr",
     "output_type": "stream",
     "text": [
      "[0.8597980 0.4408081 0.0064646 0.0064646 0.0064646 0.0064646 0.0064646 0.0064646 0.0064646 0.0064646]:   5%|▍         | 495/10000 [03:41<1:10:29,  2.25it/s]"
     ]
    },
    {
     "name": "stdout",
     "output_type": "stream",
     "text": [
      "4941\n",
      "0\n"
     ]
    },
    {
     "name": "stderr",
     "output_type": "stream",
     "text": [
      "[0.8606786 0.4403194 0.0065868 0.0065868 0.0065868 0.0065868 0.0065868 0.0065868 0.0065868 0.0065868]:   5%|▌         | 501/10000 [03:44<1:10:25,  2.25it/s]"
     ]
    },
    {
     "name": "stdout",
     "output_type": "stream",
     "text": [
      "5006\n",
      "0\n"
     ]
    },
    {
     "name": "stderr",
     "output_type": "stream",
     "text": [
      "[0.8598837 0.4401163 0.0065891 0.0065891 0.0065891 0.0065891 0.0065891 0.0065891 0.0065891 0.0065891]:   5%|▌         | 516/10000 [03:50<1:10:08,  2.25it/s]"
     ]
    },
    {
     "name": "stdout",
     "output_type": "stream",
     "text": [
      "5151\n",
      "0\n"
     ]
    },
    {
     "name": "stderr",
     "output_type": "stream",
     "text": [
      "[0.8607955 0.4412879 0.0066288 0.0066288 0.0066288 0.0066288 0.0066288 0.0066288 0.0066288 0.0066288]:   5%|▌         | 528/10000 [03:56<1:10:19,  2.24it/s]"
     ]
    },
    {
     "name": "stdout",
     "output_type": "stream",
     "text": [
      "5273\n",
      "0\n"
     ]
    },
    {
     "name": "stderr",
     "output_type": "stream",
     "text": [
      "[0.8599631 0.4431734 0.0066421 0.0066421 0.0066421 0.0066421 0.0066421 0.0066421 0.0066421 0.0066421]:   5%|▌         | 542/10000 [04:02<1:09:59,  2.25it/s]"
     ]
    },
    {
     "name": "stdout",
     "output_type": "stream",
     "text": [
      "5410\n",
      "0\n"
     ]
    },
    {
     "name": "stderr",
     "output_type": "stream",
     "text": [
      "[0.8600000 0.4421239 0.0065487 0.0065487 0.0065487 0.0065487 0.0065487 0.0065487 0.0065487 0.0065487]:   6%|▌         | 565/10000 [04:12<1:09:58,  2.25it/s]"
     ]
    },
    {
     "name": "stdout",
     "output_type": "stream",
     "text": [
      "5649\n",
      "0\n"
     ]
    },
    {
     "name": "stderr",
     "output_type": "stream",
     "text": [
      "[0.8606112 0.4417657 0.0064516 0.0064516 0.0064516 0.0064516 0.0064516 0.0064516 0.0064516 0.0064516]:   6%|▌         | 589/10000 [04:23<1:09:54,  2.24it/s]"
     ]
    },
    {
     "name": "stdout",
     "output_type": "stream",
     "text": [
      "5886\n",
      "0\n"
     ]
    },
    {
     "name": "stderr",
     "output_type": "stream",
     "text": [
      "[0.8610829 0.4419628 0.0065990 0.0065990 0.0065990 0.0065990 0.0065990 0.0065990 0.0065990 0.0065990]:   6%|▌         | 591/10000 [04:24<1:09:54,  2.24it/s]"
     ]
    },
    {
     "name": "stdout",
     "output_type": "stream",
     "text": [
      "5903\n",
      "0\n"
     ]
    },
    {
     "name": "stderr",
     "output_type": "stream",
     "text": [
      "[0.8616162 0.4425926 0.0067340 0.0067340 0.0067340 0.0067340 0.0067340 0.0067340 0.0067340 0.0067340]:   6%|▌         | 594/10000 [04:25<1:09:49,  2.25it/s]"
     ]
    },
    {
     "name": "stdout",
     "output_type": "stream",
     "text": [
      "5936\n",
      "0\n"
     ]
    },
    {
     "name": "stderr",
     "output_type": "stream",
     "text": [
      "[0.8607383 0.4422819 0.0068792 0.0068792 0.0068792 0.0068792 0.0068792 0.0068792 0.0068792 0.0068792]:   6%|▌         | 596/10000 [04:26<1:09:52,  2.24it/s]"
     ]
    },
    {
     "name": "stdout",
     "output_type": "stream",
     "text": [
      "5951\n",
      "0\n"
     ]
    },
    {
     "name": "stderr",
     "output_type": "stream",
     "text": [
      "[0.8606965 0.4431177 0.0069652 0.0069652 0.0069652 0.0069652 0.0069652 0.0069652 0.0069652 0.0069652]:   6%|▌         | 603/10000 [04:29<1:09:48,  2.24it/s]"
     ]
    },
    {
     "name": "stdout",
     "output_type": "stream",
     "text": [
      "6029\n",
      "0\n"
     ]
    },
    {
     "name": "stderr",
     "output_type": "stream",
     "text": [
      "[0.8609677 0.4459677 0.0069355 0.0069355 0.0069355 0.0069355 0.0069355 0.0069355 0.0069355 0.0069355]:   6%|▌         | 620/10000 [04:36<1:09:29,  2.25it/s]"
     ]
    },
    {
     "name": "stdout",
     "output_type": "stream",
     "text": [
      "6193\n",
      "0\n"
     ]
    },
    {
     "name": "stderr",
     "output_type": "stream",
     "text": [
      "[0.8598726 0.4447452 0.0070064 0.0070064 0.0070064 0.0070064 0.0070064 0.0070064 0.0070064 0.0070064]:   6%|▋         | 628/10000 [04:40<1:09:24,  2.25it/s]"
     ]
    },
    {
     "name": "stdout",
     "output_type": "stream",
     "text": [
      "6278\n",
      "0\n"
     ]
    },
    {
     "name": "stderr",
     "output_type": "stream",
     "text": [
      "[0.8593060 0.4451104 0.0070978 0.0070978 0.0070978 0.0070978 0.0070978 0.0070978 0.0070978 0.0070978]:   6%|▋         | 634/10000 [04:43<1:09:30,  2.25it/s]"
     ]
    },
    {
     "name": "stdout",
     "output_type": "stream",
     "text": [
      "6332\n",
      "0\n"
     ]
    },
    {
     "name": "stderr",
     "output_type": "stream",
     "text": [
      "[0.8590551 0.4451969 0.0072441 0.0072441 0.0072441 0.0072441 0.0072441 0.0072441 0.0072441 0.0072441]:   6%|▋         | 635/10000 [04:43<1:09:26,  2.25it/s]"
     ]
    },
    {
     "name": "stdout",
     "output_type": "stream",
     "text": [
      "6341\n",
      "0\n"
     ]
    },
    {
     "name": "stderr",
     "output_type": "stream",
     "text": [
      "[0.8562033 0.4424514 0.0070254 0.0070254 0.0070254 0.0070254 0.0070254 0.0070254 0.0070254 0.0070254]:   7%|▋         | 669/10000 [04:58<1:09:03,  2.25it/s]"
     ]
    },
    {
     "name": "stdout",
     "output_type": "stream",
     "text": [
      "6686\n",
      "0\n"
     ]
    },
    {
     "name": "stderr",
     "output_type": "stream",
     "text": [
      "[0.8547850 0.4424411 0.0066574 0.0066574 0.0066574 0.0066574 0.0066574 0.0066574 0.0066574 0.0066574]:   7%|▋         | 721/10000 [05:21<1:08:57,  2.24it/s]"
     ]
    },
    {
     "name": "stdout",
     "output_type": "stream",
     "text": [
      "7200\n",
      "0\n"
     ]
    },
    {
     "name": "stderr",
     "output_type": "stream",
     "text": [
      "[0.8559946 0.4420981 0.0066757 0.0066757 0.0066757 0.0066757 0.0066757 0.0066757 0.0066757 0.0066757]:   7%|▋         | 734/10000 [05:27<1:08:40,  2.25it/s]"
     ]
    },
    {
     "name": "stdout",
     "output_type": "stream",
     "text": [
      "7332\n",
      "0\n"
     ]
    },
    {
     "name": "stderr",
     "output_type": "stream",
     "text": [
      "[0.8566015 0.4413203 0.0062347 0.0061125 0.0061125 0.0061125 0.0061125 0.0061125 0.0061125 0.0061125]:   8%|▊         | 818/10000 [06:04<1:06:02,  2.32it/s]"
     ]
    },
    {
     "name": "stdout",
     "output_type": "stream",
     "text": [
      "8179\n",
      "0\n"
     ]
    },
    {
     "name": "stderr",
     "output_type": "stream",
     "text": [
      "[0.8556962 0.4406214 0.0059839 0.0058688 0.0058688 0.0058688 0.0058688 0.0058688 0.0058688 0.0058688]:   9%|▊         | 869/10000 [06:27<1:08:04,  2.24it/s]"
     ]
    },
    {
     "name": "stdout",
     "output_type": "stream",
     "text": [
      "8682\n",
      "0\n"
     ]
    },
    {
     "name": "stderr",
     "output_type": "stream",
     "text": [
      "[0.8565169 0.4405618 0.0059551 0.0058427 0.0058427 0.0058427 0.0058427 0.0058427 0.0058427 0.0058427]:   9%|▉         | 890/10000 [06:36<1:08:05,  2.23it/s]"
     ]
    },
    {
     "name": "stdout",
     "output_type": "stream",
     "text": [
      "8899\n",
      "0\n"
     ]
    },
    {
     "name": "stderr",
     "output_type": "stream",
     "text": [
      "[0.8568565 0.4411392 0.0056962 0.0055907 0.0055907 0.0055907 0.0055907 0.0055907 0.0055907 0.0055907]:   9%|▉         | 948/10000 [07:02<1:07:34,  2.23it/s]"
     ]
    },
    {
     "name": "stdout",
     "output_type": "stream",
     "text": [
      "9476\n",
      "0\n"
     ]
    },
    {
     "name": "stderr",
     "output_type": "stream",
     "text": [
      "[0.8558700 0.4406709 0.0057652 0.0056604 0.0056604 0.0056604 0.0056604 0.0056604 0.0056604 0.0056604]:  10%|▉         | 954/10000 [07:05<1:07:24,  2.24it/s]"
     ]
    },
    {
     "name": "stdout",
     "output_type": "stream",
     "text": [
      "9536\n",
      "0\n"
     ]
    },
    {
     "name": "stderr",
     "output_type": "stream",
     "text": [
      "[0.8559499 0.4410230 0.0058455 0.0057411 0.0057411 0.0057411 0.0057411 0.0057411 0.0057411 0.0057411]:  10%|▉         | 958/10000 [07:07<1:07:12,  2.24it/s]"
     ]
    },
    {
     "name": "stdout",
     "output_type": "stream",
     "text": [
      "9577\n",
      "0\n"
     ]
    },
    {
     "name": "stderr",
     "output_type": "stream",
     "text": [
      "[0.8560417 0.4414583 0.0059375 0.0058333 0.0058333 0.0058333 0.0058333 0.0058333 0.0058333 0.0058333]:  10%|▉         | 960/10000 [07:08<1:07:13,  2.24it/s]"
     ]
    },
    {
     "name": "stdout",
     "output_type": "stream",
     "text": [
      "9595\n",
      "0\n"
     ]
    },
    {
     "name": "stderr",
     "output_type": "stream",
     "text": [
      "[0.8563017 0.4407025 0.0059917 0.0058884 0.0058884 0.0058884 0.0058884 0.0058884 0.0058884 0.0058884]:  10%|▉         | 968/10000 [07:11<1:07:27,  2.23it/s]"
     ]
    },
    {
     "name": "stdout",
     "output_type": "stream",
     "text": [
      "9672\n",
      "0\n"
     ]
    },
    {
     "name": "stderr",
     "output_type": "stream",
     "text": [
      "[0.8562628 0.4405544 0.0059548 0.0058522 0.0058522 0.0058522 0.0058522 0.0058522 0.0058522 0.0058522]:  10%|▉         | 974/10000 [07:14<1:07:14,  2.24it/s]"
     ]
    }
   ],
   "source": [
    "total_batch_acc = []\n",
    "bar = tqdm(testloader)\n",
    "# bar = tqdm(validloader)\n",
    "for step, (batch_data,batch_label) in enumerate(bar):\n",
    "    optim.zero_grad()\n",
    "    temp_total_acc = []\n",
    "    batch_data = batch_data.cuda() if CUDA else batch_data\n",
    "    clone_batch_data = batch_data.detach().clone()\n",
    "    batch_label = batch_label.cuda() if CUDA else batch_label\n",
    "    batch_label = batch_label.squeeze()\n",
    "    temp = torch.zeros((len(batch_label),2))\n",
    "    for idx,target in enumerate(batch_label.squeeze()): temp[idx,target] = 1\n",
    "    temp_label = temp.cuda() if CUDA else temp\n",
    "    mask = (batch_data == 0).float() # wrong # I forgot what's wrong here\n",
    "    pred,embedd_x = model(batch_data)\n",
    "    _, predicted = torch.max(pred, 1)\n",
    "    acc = (batch_label.cpu().data.numpy() == predicted.cpu().data.numpy()).mean()\n",
    "    temp_total_acc.append(acc)\n",
    "\n",
    "    random_padding = torch.randint_like(input=mask,low=1,high=257) * mask\n",
    "    batch_data += random_padding.long()\n",
    "    pred,embedd_x = model(batch_data)\n",
    "    _, predicted = torch.max(pred, 1)\n",
    "    acc = (batch_label.cpu().data.numpy() == predicted.cpu().data.numpy()).mean()\n",
    "    temp_total_acc.append(acc)\n",
    "\n",
    "    for time in range(8):\n",
    "        pred,embedd_x = model(batch_data)\n",
    "        pred.mean().backward()\n",
    "        all_embedd = model.embedding(torch.arange(start=0,end=257).cuda())\n",
    "        grad = torch.div(\n",
    "            input = -embedd_x.grad,\n",
    "            other = torch.linalg.norm(-embedd_x.grad,ord=2,axis=-1).unsqueeze(-1),\n",
    "        )\n",
    "        grad = grad.nan_to_num(0)\n",
    "        shape = embedd_x.shape\n",
    "        embedd_x = embedd_x.reshape((shape[0],shape[1],1,shape[2]))\n",
    "        embedd_x  = embedd_x.expand(shape[0],shape[1],257,shape[2])\n",
    "        shape = grad.shape\n",
    "        grad = grad.reshape((shape[0],shape[1],1,shape[2]))\n",
    "        grad = grad.expand(shape[0],shape[1],257,shape[2])\n",
    "        sb = torch.sum(grad*(all_embedd - embedd_x),dim=-1)\n",
    "        sb = sb.unsqueeze(-1)\n",
    "        sb_mask = (sb.squeeze() > 0).float()\n",
    "        db = torch.linalg.norm(all_embedd - (embedd_x+sb*grad),ord=1,axis=-1)\n",
    "        # print(torch.any(torch.isnan(db)))\n",
    "        result = sb_mask*db + (1-sb_mask)*(torch.max(db) + 1)\n",
    "        result = torch.argmin(result,dim=-1)\n",
    "        batch_data.data = (batch_data.data*(1-mask) + result*mask).long()\n",
    "        pred,embedd_x = model(batch_data)\n",
    "        _, predicted = torch.max(pred, 1)\n",
    "        acc = (batch_label.cpu().data.numpy() == predicted.cpu().data.numpy()).mean()\n",
    "        temp_total_acc.append(acc)\n",
    "\n",
    "    pred = pred.detach().cpu().numpy()\n",
    "    batch_label = batch_label.detach().cpu().numpy()\n",
    "    pred = np.argmax(pred,1)\n",
    "    temp_acc = (batch_label == pred).mean()\n",
    "    temp = batch_label == pred\n",
    "    if temp.mean() != 0:\n",
    "        idxs = np.argwhere(temp).reshape(-1)\n",
    "        for idx in idxs:\n",
    "            print(step*BATCH_SIZE+idx)\n",
    "            padding_num = (clone_batch_data[idx] == 0).sum().tolist()\n",
    "            print(padding_num)\n",
    "            dic[padding_num].append(step*BATCH_SIZE+idx)\n",
    "    total_batch_acc.append(temp_total_acc)\n",
    "    total_batch_acc_str = '[' + ' '.join(map(lambda x: '%.7f'%x,np.mean(total_batch_acc,axis=0))) + ']'\n",
    "    bar.set_description(f'{total_batch_acc_str}')"
   ]
  }
 ],
 "metadata": {
  "kernelspec": {
   "display_name": "Python 3",
   "language": "python",
   "name": "python3"
  },
  "language_info": {
   "codemirror_mode": {
    "name": "ipython",
    "version": 3
   },
   "file_extension": ".py",
   "mimetype": "text/x-python",
   "name": "python",
   "nbconvert_exporter": "python",
   "pygments_lexer": "ipython3",
   "version": "3.6.9"
  }
 },
 "nbformat": 4,
 "nbformat_minor": 5
}
