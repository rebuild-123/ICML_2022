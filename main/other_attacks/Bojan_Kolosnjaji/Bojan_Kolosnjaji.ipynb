{
 "cells": [
  {
   "cell_type": "code",
   "execution_count": 1,
   "id": "2ac8a951",
   "metadata": {},
   "outputs": [],
   "source": [
    "import os\n",
    "import pickle\n",
    "import numpy as np\n",
    "import pandas as pd\n",
    "from tqdm import tqdm\n",
    "import multiprocessing as mp\n",
    "from functools import partial\n",
    "from sklearn.model_selection import train_test_split\n",
    "import torch\n",
    "from torch import nn\n",
    "from torch.optim import Adam\n",
    "import torch.nn.functional as F\n",
    "from torch.utils.data import DataLoader, Dataset\n",
    "# from src.model import *\n",
    "# from src.util import *\n",
    "os.environ[\"CUDA_VISIBLE_DEVICES\"] = '2'"
   ]
  },
  {
   "cell_type": "code",
   "execution_count": 2,
   "id": "373482b5",
   "metadata": {},
   "outputs": [],
   "source": [
    "trained_model_path = '/workdir/security/home/junjiehuang2468/paper/trained_models_weight/ember/'\n",
    "best_trained_model = '2022-01-18 14:55/2w_epoch:0_test_acc:0.890858.pt'\n",
    "data_path = \"/workdir/security/home/junjiehuang2468/paper/data/ember2018/\"\n",
    "train_data_path = data_path + \"malwares/\" \n",
    "test_data_path = data_path + \"test_malwares/\" "
   ]
  },
  {
   "cell_type": "code",
   "execution_count": 3,
   "id": "58a42012",
   "metadata": {},
   "outputs": [],
   "source": [
    "CUDA = True if torch.cuda.is_available() else False\n",
    "NUM_WORKERS = 18\n",
    "BATCH_SIZE = 10\n",
    "LEAVE_BIT_NUMBER = 20000\n",
    "KERNEL_SIZE = 500"
   ]
  },
  {
   "cell_type": "code",
   "execution_count": 4,
   "id": "f0179094",
   "metadata": {},
   "outputs": [],
   "source": [
    "trainset = pd.read_csv(data_path + 'train_dataset.csv')\n",
    "validset = pd.read_csv(data_path + 'valid_dataset.csv')\n",
    "testset = pd.read_csv(data_path + 'test_dataset.csv')\n",
    "testset = testset.iloc[np.argwhere(testset['labels'].values == 1).squeeze(),:]"
   ]
  },
  {
   "cell_type": "code",
   "execution_count": 5,
   "id": "1df22266",
   "metadata": {},
   "outputs": [],
   "source": [
    "class ExeDataset(Dataset):\n",
    "    def __init__(self, malware_names, data_path, labels, leave_bit_num):\n",
    "        self.malware_names = malware_names\n",
    "        self.data_path = data_path\n",
    "        self.labels = labels\n",
    "        self.leave_bit_num = leave_bit_num\n",
    "\n",
    "    def __len__(self):\n",
    "        return len(self.malware_names)\n",
    "\n",
    "    def __getitem__(self, idx):\n",
    "        with open(self.data_path + self.malware_names[idx] + '.txt','rb') as fp:\n",
    "            data = [bit+1 for bit in fp.read()[:self.leave_bit_num]]\n",
    "            padding = [0]*(self.leave_bit_num-len(data))\n",
    "            data = data + padding\n",
    "\n",
    "        return np.array(data), np.array([self.labels[idx]])"
   ]
  },
  {
   "cell_type": "code",
   "execution_count": 6,
   "id": "0dff087d",
   "metadata": {},
   "outputs": [],
   "source": [
    "train_dataset = ExeDataset(\n",
    "    trainset[\"id\"].tolist(), \n",
    "    train_data_path, \n",
    "    trainset[\"labels\"].tolist(), \n",
    "    LEAVE_BIT_NUMBER\n",
    ")\n",
    "valid_dataset = ExeDataset(\n",
    "    validset[\"id\"].tolist(), \n",
    "    train_data_path, \n",
    "    validset[\"labels\"].tolist(), \n",
    "    LEAVE_BIT_NUMBER\n",
    ")\n",
    "test_dataset = ExeDataset(\n",
    "    testset[\"id\"].tolist(), \n",
    "    test_data_path, \n",
    "    testset[\"labels\"].tolist(), \n",
    "    LEAVE_BIT_NUMBER\n",
    ")"
   ]
  },
  {
   "cell_type": "code",
   "execution_count": 7,
   "id": "4f2654e6",
   "metadata": {},
   "outputs": [],
   "source": [
    "trainloader = DataLoader(\n",
    "    dataset = train_dataset,\n",
    "    batch_size = BATCH_SIZE,\n",
    "    shuffle = False,\n",
    "    num_workers = NUM_WORKERS,\n",
    "    pin_memory = True\n",
    ")\n",
    "validloader = DataLoader(\n",
    "    dataset = valid_dataset,\n",
    "    batch_size = BATCH_SIZE,\n",
    "    shuffle = False,\n",
    "    num_workers = NUM_WORKERS,\n",
    "    pin_memory = True\n",
    ")\n",
    "testloader = DataLoader(\n",
    "    dataset = test_dataset,\n",
    "    batch_size = BATCH_SIZE,\n",
    "    shuffle = False,\n",
    "    num_workers = NUM_WORKERS,\n",
    "    pin_memory = True\n",
    ")"
   ]
  },
  {
   "cell_type": "code",
   "execution_count": null,
   "id": "c4b2e213",
   "metadata": {},
   "outputs": [],
   "source": []
  },
  {
   "cell_type": "code",
   "execution_count": 8,
   "id": "b1e78cba",
   "metadata": {},
   "outputs": [],
   "source": [
    "class Model(nn.Module):\n",
    "    def __init__(self, data_length = 2e6, kernel_size = 500):\n",
    "        super().__init__()\n",
    "        self.embedding = nn.Embedding(257, 8, padding_idx=0)\n",
    "        self.conv_layer_1 = nn.Conv1d(4, 128, kernel_size, stride = kernel_size, bias = True)\n",
    "        # self.bn_1 = nn.BatchNorm1d(128)\n",
    "        self.conv_layer_2 = nn.Conv1d(4, 128, kernel_size, stride = kernel_size, bias = True)\n",
    "        self.pool_layer_2 = nn.MaxPool1d(data_length//kernel_size)\n",
    "        self.fc_layer_3 = nn.Linear(128, 128)\n",
    "        self.fc_layer_4 = nn.Linear(128, 2)\n",
    "        \n",
    "    def forward(self,x):\n",
    "        embedd_x = self.embedding(x)\n",
    "        embedd_x.retain_grad()\n",
    "        x = embedd_x.transpose(-1,-2)\n",
    "        x_conv_1 = self.conv_layer_1(x[:,:4,:])\n",
    "        x_conv_2 = torch.sigmoid(self.conv_layer_2(x[:,4:,:]))\n",
    "        x = x_conv_1*x_conv_2\n",
    "        del x_conv_1,x_conv_2\n",
    "        x = self.pool_layer_2(x).squeeze()\n",
    "        x = self.fc_layer_3(x)\n",
    "        x = self.fc_layer_4(x)\n",
    "        return x,embedd_x"
   ]
  },
  {
   "cell_type": "code",
   "execution_count": 9,
   "id": "9764b2cf",
   "metadata": {},
   "outputs": [],
   "source": [
    "model = Model(data_length=LEAVE_BIT_NUMBER,kernel_size=KERNEL_SIZE)\n",
    "\n",
    "ce_loss = nn.CrossEntropyLoss()\n",
    "optim = Adam(model.parameters())\n",
    "\n",
    "model = model.cuda() if CUDA else model\n",
    "ce_loss = ce_loss.cuda() if CUDA else ce_less"
   ]
  },
  {
   "cell_type": "code",
   "execution_count": 10,
   "id": "f674591a",
   "metadata": {},
   "outputs": [
    {
     "data": {
      "text/plain": [
       "<All keys matched successfully>"
      ]
     },
     "execution_count": 10,
     "metadata": {},
     "output_type": "execute_result"
    }
   ],
   "source": [
    "model.load_state_dict(torch.load(trained_model_path + best_trained_model))"
   ]
  },
  {
   "cell_type": "code",
   "execution_count": 11,
   "id": "2fadb913",
   "metadata": {},
   "outputs": [],
   "source": [
    "model_embedding_layer = model.embedding"
   ]
  },
  {
   "cell_type": "code",
   "execution_count": 12,
   "id": "3e3667bb",
   "metadata": {},
   "outputs": [],
   "source": [
    "# total_acc = []\n",
    "# bar = tqdm(validloader)\n",
    "# for step, (batch_data,batch_label) in enumerate(bar):\n",
    "#     optim.zero_grad()\n",
    "#     batch_data = batch_data.cuda() if CUDA else batch_data\n",
    "#     batch_label = batch_label.cuda() if CUDA else batch_label\n",
    "#     batch_label = batch_label.squeeze()\n",
    "#     temp = torch.zeros((len(batch_label),2))\n",
    "#     for idx,target in enumerate(batch_label.squeeze()): temp[idx,target] = 1\n",
    "#     temp_label = temp.cuda() if CUDA else temp\n",
    "#     pred,embedd_x = model(batch_data)\n",
    "#     break\n",
    "#     loss = ce_loss(pred, temp_label)\n",
    "#     loss.backward()\n",
    "#     break"
   ]
  },
  {
   "cell_type": "code",
   "execution_count": 13,
   "id": "91aa1960",
   "metadata": {},
   "outputs": [
    {
     "name": "stderr",
     "output_type": "stream",
     "text": [
      "[0.8292800 0.3793200 0.0036900 0.0036800 0.0036900 0.0036700 0.0036700 0.0036700 0.0036700 0.0036700][0.1222075 0.1627831 0.0191673 0.0191431 0.0192194 0.0191189 0.0191189 0.0191189 0.0191189 0.0191189]: 100%|██████████| 10000/10000 [1:16:47<00:00,  2.17it/s]\n",
      "[0.8292800 0.3801900 0.0037000 0.0036800 0.0036900 0.0037000 0.0036900 0.0036800 0.0036800 0.0036700][0.1222075 0.1632806 0.0191914 0.0191431 0.0191673 0.0191914 0.0191673 0.0191431 0.0191431 0.0191189]: 100%|██████████| 10000/10000 [1:16:49<00:00,  2.17it/s]\n",
      "[0.8292800 0.3797600 0.0037100 0.0037000 0.0036800 0.0036800 0.0036700 0.0036700 0.0036700 0.0036700][0.1222075 0.1640498 0.0192155 0.0191914 0.0191431 0.0191431 0.0191189 0.0191189 0.0191189 0.0191189]: 100%|██████████| 10000/10000 [1:17:05<00:00,  2.16it/s]\n",
      "[0.8292800 0.3797200 0.0037000 0.0036700 0.0036800 0.0036700 0.0036700 0.0036700 0.0036700 0.0036700][0.1222075 0.1638985 0.0191914 0.0191189 0.0191431 0.0191189 0.0191189 0.0191189 0.0191189 0.0191189]: 100%|██████████| 10000/10000 [1:18:40<00:00,  2.12it/s]\n",
      "[0.8292800 0.3795400 0.0037300 0.0037000 0.0036900 0.0036800 0.0036800 0.0036800 0.0036800 0.0036800][0.1222075 0.1629214 0.0192636 0.0191914 0.0191673 0.0191431 0.0191431 0.0191431 0.0191431 0.0191431]: 100%|██████████| 10000/10000 [1:16:52<00:00,  2.17it/s]\n",
      "[0.8292800 0.3789600 0.0037400 0.0036700 0.0036900 0.0036800 0.0036800 0.0036800 0.0036800 0.0036800][0.1222075 0.1642234 0.0193394 0.0191189 0.0191673 0.0191431 0.0191431 0.0191431 0.0191431 0.0191431]: 100%|██████████| 10000/10000 [1:16:49<00:00,  2.17it/s]\n",
      "[0.8292800 0.3787100 0.0037400 0.0036900 0.0036800 0.0036800 0.0036700 0.0036700 0.0036700 0.0036700][0.1222075 0.1633026 0.0192876 0.0191673 0.0191431 0.0191431 0.0191189 0.0191189 0.0191189 0.0191189]: 100%|██████████| 10000/10000 [1:16:48<00:00,  2.17it/s]\n",
      "[0.8292800 0.3792700 0.0037300 0.0036800 0.0036900 0.0036700 0.0036700 0.0036700 0.0036700 0.0036700][0.1222075 0.1640039 0.0193155 0.0191952 0.0192194 0.0191189 0.0191189 0.0191189 0.0191189 0.0191189]: 100%|██████████| 10000/10000 [1:16:50<00:00,  2.17it/s]\n",
      "[0.8309421 0.3827513 0.0037451 0.0037135 0.0037135 0.0037240 0.0037240 0.0037135 0.0037135 0.0037135][0.1218223 0.1629360 0.0192623 0.0191861 0.0191861 0.0192115 0.0192115 0.0191861 0.0191861 0.0191861]:  95%|█████████▍| 9479/10000 [1:12:26<03:58,  2.18it/s]\n"
     ]
    },
    {
     "ename": "KeyboardInterrupt",
     "evalue": "",
     "output_type": "error",
     "traceback": [
      "\u001b[0;31m---------------------------------------------------------------------------\u001b[0m",
      "\u001b[0;31mKeyboardInterrupt\u001b[0m                         Traceback (most recent call last)",
      "\u001b[0;32m<ipython-input-13-ba5be49cd1df>\u001b[0m in \u001b[0;36m<module>\u001b[0;34m\u001b[0m\n\u001b[1;32m     50\u001b[0m             \u001b[0mpred\u001b[0m\u001b[0;34m,\u001b[0m\u001b[0membedd_x\u001b[0m \u001b[0;34m=\u001b[0m \u001b[0mmodel\u001b[0m\u001b[0;34m(\u001b[0m\u001b[0mbatch_data\u001b[0m\u001b[0;34m)\u001b[0m\u001b[0;34m\u001b[0m\u001b[0;34m\u001b[0m\u001b[0m\n\u001b[1;32m     51\u001b[0m             \u001b[0m_\u001b[0m\u001b[0;34m,\u001b[0m \u001b[0mpredicted\u001b[0m \u001b[0;34m=\u001b[0m \u001b[0mtorch\u001b[0m\u001b[0;34m.\u001b[0m\u001b[0mmax\u001b[0m\u001b[0;34m(\u001b[0m\u001b[0mpred\u001b[0m\u001b[0;34m,\u001b[0m \u001b[0;36m1\u001b[0m\u001b[0;34m)\u001b[0m\u001b[0;34m\u001b[0m\u001b[0;34m\u001b[0m\u001b[0m\n\u001b[0;32m---> 52\u001b[0;31m             \u001b[0macc\u001b[0m \u001b[0;34m=\u001b[0m \u001b[0;34m(\u001b[0m\u001b[0mbatch_label\u001b[0m\u001b[0;34m.\u001b[0m\u001b[0mcpu\u001b[0m\u001b[0;34m(\u001b[0m\u001b[0;34m)\u001b[0m\u001b[0;34m.\u001b[0m\u001b[0mdata\u001b[0m\u001b[0;34m.\u001b[0m\u001b[0mnumpy\u001b[0m\u001b[0;34m(\u001b[0m\u001b[0;34m)\u001b[0m \u001b[0;34m==\u001b[0m \u001b[0mpredicted\u001b[0m\u001b[0;34m.\u001b[0m\u001b[0mcpu\u001b[0m\u001b[0;34m(\u001b[0m\u001b[0;34m)\u001b[0m\u001b[0;34m.\u001b[0m\u001b[0mdata\u001b[0m\u001b[0;34m.\u001b[0m\u001b[0mnumpy\u001b[0m\u001b[0;34m(\u001b[0m\u001b[0;34m)\u001b[0m\u001b[0;34m)\u001b[0m\u001b[0;34m.\u001b[0m\u001b[0mmean\u001b[0m\u001b[0;34m(\u001b[0m\u001b[0;34m)\u001b[0m\u001b[0;34m\u001b[0m\u001b[0;34m\u001b[0m\u001b[0m\n\u001b[0m\u001b[1;32m     53\u001b[0m             \u001b[0mtemp_total_acc\u001b[0m\u001b[0;34m.\u001b[0m\u001b[0mappend\u001b[0m\u001b[0;34m(\u001b[0m\u001b[0macc\u001b[0m\u001b[0;34m)\u001b[0m\u001b[0;34m\u001b[0m\u001b[0;34m\u001b[0m\u001b[0m\n\u001b[1;32m     54\u001b[0m         \u001b[0mtotal_batch_acc\u001b[0m\u001b[0;34m.\u001b[0m\u001b[0mappend\u001b[0m\u001b[0;34m(\u001b[0m\u001b[0mtemp_total_acc\u001b[0m\u001b[0;34m)\u001b[0m\u001b[0;34m\u001b[0m\u001b[0;34m\u001b[0m\u001b[0m\n",
      "\u001b[0;31mKeyboardInterrupt\u001b[0m: "
     ]
    }
   ],
   "source": [
    "for round_ in range(4,30):\n",
    "    total_batch_acc = []\n",
    "    bar = tqdm(testloader)\n",
    "    # bar = tqdm(validloader)\n",
    "    for step, (batch_data,batch_label) in enumerate(bar):\n",
    "        optim.zero_grad()\n",
    "        temp_total_acc = []\n",
    "        batch_data = batch_data.cuda() if CUDA else batch_data\n",
    "        batch_label = batch_label.cuda() if CUDA else batch_label\n",
    "        batch_label = batch_label.squeeze()\n",
    "        temp = torch.zeros((len(batch_label),2))\n",
    "        for idx,target in enumerate(batch_label.squeeze()): temp[idx,target] = 1\n",
    "        temp_label = temp.cuda() if CUDA else temp\n",
    "        mask = (batch_data == 0).float() # wrong # I forgot what's wrong here\n",
    "        pred,embedd_x = model(batch_data)\n",
    "        _, predicted = torch.max(pred, 1)\n",
    "        acc = (batch_label.cpu().data.numpy() == predicted.cpu().data.numpy()).mean()\n",
    "        temp_total_acc.append(acc)\n",
    "        \n",
    "        random_padding = torch.randint_like(input=mask,low=1,high=257) * mask\n",
    "        batch_data += random_padding.long()\n",
    "        pred,embedd_x = model(batch_data)\n",
    "        _, predicted = torch.max(pred, 1)\n",
    "        acc = (batch_label.cpu().data.numpy() == predicted.cpu().data.numpy()).mean()\n",
    "        temp_total_acc.append(acc)\n",
    "        \n",
    "        for time in range(8):\n",
    "            pred,embedd_x = model(batch_data)\n",
    "            pred.mean().backward()\n",
    "            all_embedd = model.embedding(torch.arange(start=0,end=257).cuda())\n",
    "            grad = torch.div(\n",
    "                input = -embedd_x.grad,\n",
    "                other = torch.linalg.norm(-embedd_x.grad,ord=2,axis=-1).unsqueeze(-1),\n",
    "            )\n",
    "            grad = grad.nan_to_num(0)\n",
    "            shape = embedd_x.shape\n",
    "            embedd_x = embedd_x.reshape((shape[0],shape[1],1,shape[2]))\n",
    "            embedd_x  = embedd_x.expand(shape[0],shape[1],257,shape[2])\n",
    "            shape = grad.shape\n",
    "            grad = grad.reshape((shape[0],shape[1],1,shape[2]))\n",
    "            grad = grad.expand(shape[0],shape[1],257,shape[2])\n",
    "            sb = torch.sum(grad*(all_embedd - embedd_x),dim=-1)\n",
    "            sb = sb.unsqueeze(-1)\n",
    "            sb_mask = (sb.squeeze() > 0).float()\n",
    "            db = torch.linalg.norm(all_embedd - (embedd_x+sb*grad),ord=1,axis=-1)\n",
    "            # print(torch.any(torch.isnan(db)))\n",
    "            result = sb_mask*db + (1-sb_mask)*(torch.max(db) + 1)\n",
    "            result = torch.argmin(result,dim=-1)\n",
    "            batch_data.data = (batch_data.data*(1-mask) + result*mask).long()\n",
    "            pred,embedd_x = model(batch_data)\n",
    "            _, predicted = torch.max(pred, 1)\n",
    "            acc = (batch_label.cpu().data.numpy() == predicted.cpu().data.numpy()).mean()\n",
    "            temp_total_acc.append(acc)\n",
    "        total_batch_acc.append(temp_total_acc)\n",
    "        total_batch_acc_str = '[' + ' '.join(map(lambda x: '%.7f'%x,np.mean(total_batch_acc,axis=0))) + ']'\n",
    "        total_batch_acc_std_str = '[' + ' '.join(map(lambda x: '%.7f'%x,np.std(total_batch_acc,axis=0))) + ']'\n",
    "        bar.set_description(f'{total_batch_acc_str}{total_batch_acc_std_str}')\n",
    "        \n",
    "    result_path = \"/workdir/security/home/junjiehuang2468/paper/results/ember/Bojan_Kolosnjaji/\"\n",
    "    result_name = f'acc_13iter_round_{round_}.txt'\n",
    "    with open(result_path + result_name,'wb') as fp:\n",
    "        pickle.dump(total_batch_acc,fp)"
   ]
  }
 ],
 "metadata": {
  "kernelspec": {
   "display_name": "Python 3",
   "language": "python",
   "name": "python3"
  },
  "language_info": {
   "codemirror_mode": {
    "name": "ipython",
    "version": 3
   },
   "file_extension": ".py",
   "mimetype": "text/x-python",
   "name": "python",
   "nbconvert_exporter": "python",
   "pygments_lexer": "ipython3",
   "version": "3.6.9"
  }
 },
 "nbformat": 4,
 "nbformat_minor": 5
}
