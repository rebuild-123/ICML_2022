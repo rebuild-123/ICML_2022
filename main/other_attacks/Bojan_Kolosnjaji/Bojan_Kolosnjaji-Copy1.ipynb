{
 "cells": [
  {
   "cell_type": "code",
   "execution_count": 1,
   "id": "2ac8a951",
   "metadata": {},
   "outputs": [],
   "source": [
    "import os\n",
    "import numpy as np\n",
    "import pandas as pd\n",
    "from tqdm import tqdm\n",
    "import multiprocessing as mp\n",
    "from sklearn.model_selection import train_test_split\n",
    "import torch\n",
    "from torch import nn\n",
    "from torch.optim import Adam\n",
    "import torch.nn.functional as F\n",
    "from torch.utils.data import DataLoader, Dataset\n",
    "# from src.model import *\n",
    "# from src.util import *\n",
    "os.environ[\"CUDA_VISIBLE_DEVICES\"] = '2'"
   ]
  },
  {
   "cell_type": "code",
   "execution_count": 2,
   "id": "373482b5",
   "metadata": {},
   "outputs": [],
   "source": [
    "trained_model_path = '/workdir/security/home/junjiehuang2468/paper/trained_models_weight/ember/'\n",
    "best_trained_model = '2022-01-18 13:36/1w_epoch:1_test_acc:0.890742.pt'\n",
    "data_path = \"/workdir/security/home/junjiehuang2468/paper/data/ember2018/\"\n",
    "train_data_path = data_path + \"malwares/\"  # Training data\n",
    "train_label_path = data_path + \"train_labels.csv\"  # Training label"
   ]
  },
  {
   "cell_type": "code",
   "execution_count": 3,
   "id": "58a42012",
   "metadata": {},
   "outputs": [],
   "source": [
    "CUDA = True if torch.cuda.is_available() else False\n",
    "NUM_WORKERS = 24  # Number of cores to use for data loader\n",
    "BATCH_SIZE = 256  #\n",
    "LEAVE_BIT_NUMBER = 10000\n",
    "KERNEL_SIZE = 500  # Kernel size & stride for Malconv (defualt : 500)"
   ]
  },
  {
   "cell_type": "code",
   "execution_count": 4,
   "id": "f0179094",
   "metadata": {},
   "outputs": [],
   "source": [
    "trainset = pd.read_csv(data_path + 'train_dataset.csv')\n",
    "validset = pd.read_csv(data_path + 'valid_dataset.csv')\n",
    "validset = validset.iloc[np.argwhere(validset['labels'].values == 1).squeeze(),:]"
   ]
  },
  {
   "cell_type": "code",
   "execution_count": 5,
   "id": "1df22266",
   "metadata": {},
   "outputs": [],
   "source": [
    "class ExeDataset(Dataset):\n",
    "    def __init__(self, malware_names, data_path, labels, leave_bit_num):\n",
    "        self.malware_names = malware_names\n",
    "        self.data_path = data_path\n",
    "        self.labels = labels\n",
    "        self.leave_bit_num = leave_bit_num\n",
    "\n",
    "    def __len__(self):\n",
    "        return len(self.malware_names)\n",
    "\n",
    "    def __getitem__(self, idx):\n",
    "        with open(self.data_path + self.malware_names[idx] + '.txt','rb') as fp:\n",
    "            data = [bit+1 for bit in fp.read()[:self.leave_bit_num]]\n",
    "            padding = [0]*(self.leave_bit_num-len(data))\n",
    "            data = data + padding\n",
    "\n",
    "        return np.array(data), np.array([self.labels[idx]])"
   ]
  },
  {
   "cell_type": "code",
   "execution_count": 6,
   "id": "0dff087d",
   "metadata": {},
   "outputs": [],
   "source": [
    "train_dataset = ExeDataset(\n",
    "    trainset[\"id\"].tolist(), \n",
    "    train_data_path, \n",
    "    trainset[\"labels\"].tolist(), \n",
    "    LEAVE_BIT_NUMBER\n",
    ")\n",
    "valid_dataset = ExeDataset(\n",
    "    validset[\"id\"].tolist(), \n",
    "    train_data_path, \n",
    "    validset[\"labels\"].tolist(), \n",
    "    LEAVE_BIT_NUMBER\n",
    ")"
   ]
  },
  {
   "cell_type": "code",
   "execution_count": 7,
   "id": "4f2654e6",
   "metadata": {},
   "outputs": [],
   "source": [
    "trainloader = DataLoader(\n",
    "    dataset = train_dataset,\n",
    "    batch_size = BATCH_SIZE,\n",
    "    shuffle = False,\n",
    "    num_workers = NUM_WORKERS,\n",
    "    pin_memory = True\n",
    ")\n",
    "validloader = DataLoader(\n",
    "    dataset = valid_dataset,\n",
    "    batch_size = BATCH_SIZE,\n",
    "    shuffle = False,\n",
    "    num_workers = NUM_WORKERS,\n",
    "    pin_memory = True\n",
    ")"
   ]
  },
  {
   "cell_type": "code",
   "execution_count": 8,
   "id": "b1e78cba",
   "metadata": {},
   "outputs": [],
   "source": [
    "class Model(nn.Module):\n",
    "    def __init__(self, data_length = 2e6, kernel_size = 500):\n",
    "        super().__init__()\n",
    "        self.embedding = nn.Embedding(257, 8, padding_idx=0)\n",
    "        self.conv_layer_1 = nn.Conv1d(4, 128, kernel_size, stride = kernel_size, bias = True)\n",
    "        # self.bn_1 = nn.BatchNorm1d(128)\n",
    "        self.conv_layer_2 = nn.Conv1d(4, 128, kernel_size, stride = kernel_size, bias = True)\n",
    "        self.pool_layer_2 = nn.MaxPool1d(data_length//kernel_size)\n",
    "        self.fc_layer_3 = nn.Linear(128, 128)\n",
    "        self.fc_layer_4 = nn.Linear(128, 2)\n",
    "        \n",
    "    def forward(self,input_):\n",
    "        input_ = self.embedding(input_)\n",
    "        input_.retain_grad()\n",
    "        x = input_.transpose(-1,-2)\n",
    "        x_conv_1 = self.conv_layer_1(x[:,:4,:])\n",
    "        x_conv_2 = torch.sigmoid(self.conv_layer_2(x[:,4:,:]))\n",
    "        x = x_conv_1*x_conv_2\n",
    "        del x_conv_1,x_conv_2\n",
    "        x = self.pool_layer_2(x).squeeze()\n",
    "        x = self.fc_layer_3(x)\n",
    "        x = self.fc_layer_4(x)\n",
    "        return x,input_"
   ]
  },
  {
   "cell_type": "code",
   "execution_count": 9,
   "id": "0fce960b",
   "metadata": {},
   "outputs": [],
   "source": [
    "def mp_func(batch_idx,data,embedded_data,embedded_data_grad,mis):\n",
    "    for j,(num,zj,wj) in enumerate(zip(data,embedded_data,embedded_data_grad)):\n",
    "        if num != 0: continue\n",
    "        nj = -wj/np.linalg.norm(wj,2) if np.sum(wj) != 0 else np.zeros_like(wj)\n",
    "        choose = 0\n",
    "        max_di = float('inf')\n",
    "        for i,mi in enumerate(mis):\n",
    "            si = nj.reshape(1,-1) @ (mi - zj)\n",
    "            di = np.linalg.norm(mi - (zj + si*nj),ord=2)\n",
    "            if si > 0 and di < max_di:\n",
    "                choose = i\n",
    "                max_idx = di\n",
    "        data[j] = choose\n",
    "    return [batch_idx,data]"
   ]
  },
  {
   "cell_type": "code",
   "execution_count": 10,
   "id": "9764b2cf",
   "metadata": {},
   "outputs": [],
   "source": [
    "model = Model(data_length=LEAVE_BIT_NUMBER,kernel_size=KERNEL_SIZE)\n",
    "\n",
    "ce_loss = nn.CrossEntropyLoss()\n",
    "optim = Adam(model.parameters())\n",
    "\n",
    "model = model.cuda() if CUDA else model\n",
    "ce_loss = ce_loss.cuda() if CUDA else ce_less"
   ]
  },
  {
   "cell_type": "code",
   "execution_count": 11,
   "id": "f674591a",
   "metadata": {},
   "outputs": [
    {
     "data": {
      "text/plain": [
       "<All keys matched successfully>"
      ]
     },
     "execution_count": 11,
     "metadata": {},
     "output_type": "execute_result"
    }
   ],
   "source": [
    "model.load_state_dict(torch.load(trained_model_path + best_trained_model))"
   ]
  },
  {
   "cell_type": "code",
   "execution_count": 12,
   "id": "dcbbbe69",
   "metadata": {},
   "outputs": [],
   "source": [
    "model_embedding_layer = model.embedding"
   ]
  },
  {
   "cell_type": "code",
   "execution_count": null,
   "id": "e27a9837",
   "metadata": {},
   "outputs": [
    {
     "name": "stderr",
     "output_type": "stream",
     "text": [
      "  0%|          | 0/235 [00:00<?, ?it/s]\n",
      "  0%|          | 0/5 [00:00<?, ?it/s]\u001b[A\n",
      "acc: 0.72656:   0%|          | 0/5 [06:29<?, ?it/s]\u001b[A\n",
      "acc: 0.72656:  20%|██        | 1/5 [06:29<25:59, 389.75s/it]\u001b[A\n",
      "acc: 0.67188:  20%|██        | 1/5 [12:07<25:59, 389.75s/it]\u001b[A\n",
      "acc: 0.67188:  40%|████      | 2/5 [12:07<17:57, 359.26s/it]\u001b[A\n",
      "acc: 0.67188:  40%|████      | 2/5 [17:13<17:57, 359.26s/it]\u001b[A\n",
      "acc: 0.67188:  60%|██████    | 3/5 [17:13<11:09, 334.64s/it]\u001b[A"
     ]
    }
   ],
   "source": [
    "model.eval()\n",
    "results = {}\n",
    "\n",
    "for step, (batch_data,batch_label) in enumerate(tqdm(validloader)):\n",
    "    batch_data = batch_data.cuda() if CUDA else batch_data\n",
    "    batch_label = batch_label.cuda() if CUDA else batch_label\n",
    "    ls = []\n",
    "    bar = tqdm(range(5))\n",
    "    for run in bar:\n",
    "        pred,embedded_batch_data = model(batch_data)\n",
    "        temp_label = torch.zeros((len(batch_label),2))\n",
    "        for idx,target in enumerate(batch_label.squeeze()): temp_label[idx,target] = 1\n",
    "        temp_label = temp_label.cuda() if CUDA else temp_label\n",
    "        loss = ce_loss(pred,temp_label)\n",
    "        loss.backward()\n",
    "        \n",
    "        miss = torch.LongTensor([list(range(257))]).cuda() if CUDA else torch.LongTensor([list(range(257))])\n",
    "        miss = model_embedding_layer(miss).squeeze()\n",
    "        miss = miss.detach().cpu().numpy()\n",
    "\n",
    "        zip_data = zip(\n",
    "            batch_data.detach().cpu().numpy(),\n",
    "            embedded_batch_data.detach().cpu().numpy(),\n",
    "            embedded_batch_data.grad.detach().cpu().numpy(),\n",
    "            np.expand_dims(miss,axis=0).repeat(len(batch_data),axis=0)\n",
    "        )\n",
    "        mp_data = [(batch_idx,data,embedded_data,embedded_data_grad,mis) \\\n",
    "           for batch_idx,(data,embedded_data,embedded_data_grad,mis) in enumerate(zip_data)]\n",
    "        with mp.Pool(processes=24 if len(mp_data) > 24 else len(mp_data)) as pool:\n",
    "            mp_results = pool.starmap(mp_func,mp_data)\n",
    "        mp_results = sorted(mp_results,key = lambda x: x[0])\n",
    "        for i in range(len(mp_results)):\n",
    "            batch_data.data[i] = torch.tensor(mp_results[i][1], dtype=torch.float, requires_grad=True).cuda()\n",
    "        \n",
    "        pred,embedded_batch_data = model(batch_data)\n",
    "        temp_label = torch.zeros((len(batch_label),2))\n",
    "        for idx,target in enumerate(batch_label.squeeze()): temp_label[idx,target] = 1\n",
    "        temp_label = temp_label.cuda() if CUDA else temp_label\n",
    "        pred = np.argmax(pred.detach().cpu().numpy(),1)\n",
    "        temp_acc = (batch_label.cpu().data.numpy() == pred).mean()\n",
    "        ls.append(temp_acc)\n",
    "        bar.set_description(f'acc: {temp_acc:.5f}')\n",
    "    results[step] = ls"
   ]
  },
  {
   "cell_type": "code",
   "execution_count": null,
   "id": "9dbd6b89",
   "metadata": {},
   "outputs": [],
   "source": []
  },
  {
   "cell_type": "code",
   "execution_count": null,
   "id": "cdf02223",
   "metadata": {},
   "outputs": [],
   "source": []
  },
  {
   "cell_type": "code",
   "execution_count": null,
   "id": "e9754237",
   "metadata": {},
   "outputs": [],
   "source": [
    "# zip_data = zip(\n",
    "#     batch_data.detach().cpu().numpy(),\n",
    "#     embedded_batch_data.detach().cpu().numpy(),\n",
    "#     embedded_batch_data.grad.detach().cpu().numpy()\n",
    "# )\n",
    "# for batch_idx,(data,embedded_data,embedded_data_grad) in enumerate(zip_data):\n",
    "#     for j,(num,zj,wj) in enumerate(zip(data,embedded_data,embedded_data_grad)):\n",
    "#         if num != 0: continue\n",
    "#         nj = -wj/np.linalg.norm(wj,2) if np.sum(wj) != 0 else np.zeros_like(wj)\n",
    "#         choose = 0\n",
    "#         max_di = float('inf')\n",
    "#         mis = torch.LongTensor([list(range(257))]).cuda() if CUDA else torch.LongTensor([list(range(257))])\n",
    "#         mis = model_embedding_layer(mis).squeeze()\n",
    "#         mis = mis.detach().cpu().numpy()\n",
    "#         for i,mi in enumerate(mis):\n",
    "#             si = nj.reshape(1,-1) @ (mi - zj)\n",
    "#             di = np.linalg.norm(mi - (zj + si*nj),ord=2)\n",
    "#             if si > 0 and di < max_di:\n",
    "#                 choose = i\n",
    "#                 max_idx = di\n",
    "#         batch_data.data[batch_idx][j] = choose"
   ]
  },
  {
   "cell_type": "code",
   "execution_count": null,
   "id": "d218540d",
   "metadata": {},
   "outputs": [],
   "source": []
  },
  {
   "cell_type": "code",
   "execution_count": null,
   "id": "22633c66",
   "metadata": {},
   "outputs": [],
   "source": []
  },
  {
   "cell_type": "code",
   "execution_count": null,
   "id": "25e28c42",
   "metadata": {},
   "outputs": [],
   "source": []
  }
 ],
 "metadata": {
  "kernelspec": {
   "display_name": "Python 3",
   "language": "python",
   "name": "python3"
  },
  "language_info": {
   "codemirror_mode": {
    "name": "ipython",
    "version": 3
   },
   "file_extension": ".py",
   "mimetype": "text/x-python",
   "name": "python",
   "nbconvert_exporter": "python",
   "pygments_lexer": "ipython3",
   "version": "3.6.9"
  }
 },
 "nbformat": 4,
 "nbformat_minor": 5
}
