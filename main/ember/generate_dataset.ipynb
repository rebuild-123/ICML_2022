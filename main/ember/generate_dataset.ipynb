{
 "cells": [
  {
   "cell_type": "code",
   "execution_count": 1,
   "id": "347c2d55",
   "metadata": {},
   "outputs": [],
   "source": [
    "import json\n",
    "import pickle\n",
    "from tqdm import tqdm\n",
    "from copy import deepcopy"
   ]
  },
  {
   "cell_type": "code",
   "execution_count": 2,
   "id": "51a29205",
   "metadata": {},
   "outputs": [],
   "source": [
    "leave_keys = ['histogram', 'byteentropy', 'strings', 'general', 'header', 'section', 'imports', 'exports']"
   ]
  },
  {
   "cell_type": "code",
   "execution_count": 3,
   "id": "1c341c1a",
   "metadata": {},
   "outputs": [],
   "source": [
    "pwd = '/workdir/security/home/junjiehuang2468/paper/data/ember/ember/'"
   ]
  },
  {
   "cell_type": "code",
   "execution_count": 146,
   "id": "f79dfdf3",
   "metadata": {
    "scrolled": true
   },
   "outputs": [],
   "source": [
    "for i in tqdm(range(6)):\n",
    "    with open(f'{pwd}train_features_{i}.jsonl','rb') as fp:\n",
    "        datas = fp.readlines()\n",
    "    for j in range(len(datas)):\n",
    "        data = eval(datas[j])\n",
    "        label = data['label']\n",
    "        name = data['sha256']\n",
    "        keys = deepcopy(list(data.keys()))\n",
    "        for key in keys: \n",
    "            if key not in leave_keys:\n",
    "                data.pop(key)\n",
    "        byte_data = json.dumps(data).encode()\n",
    "        if label != -1: store_pwd = pwd + 'data/'\n",
    "        elif label == -1: continue\n",
    "        with open(store_pwd + name + '.txt','wb') as fp:\n",
    "            pickle.dump(data,fp)"
   ]
  },
  {
   "cell_type": "code",
   "execution_count": 4,
   "id": "e5d9a14f",
   "metadata": {},
   "outputs": [],
   "source": [
    "with open(f'/workdir/security/home/junjiehuang2468/paper/data/original_ember2018/test_features.jsonl','rb') as fp:\n",
    "    datas = fp.readlines()\n",
    "for j in range(len(datas)):\n",
    "    data = eval(datas[j])\n",
    "    label = data['label']\n",
    "    name = data['sha256']\n",
    "    keys = deepcopy(list(data.keys()))\n",
    "    for key in keys: \n",
    "        if key not in leave_keys:\n",
    "            data.pop(key)\n",
    "    byte_data = json.dumps(data).encode()\n",
    "    if label != -1: store_pwd = '/workdir/security/home/junjiehuang2468/paper/data/ember2018/test_malwares/'\n",
    "    elif label == -1: continue\n",
    "    with open(store_pwd + name + '.txt','wb') as fp:\n",
    "        pickle.dump(data,fp)"
   ]
  }
 ],
 "metadata": {
  "kernelspec": {
   "display_name": "Python 3",
   "language": "python",
   "name": "python3"
  },
  "language_info": {
   "codemirror_mode": {
    "name": "ipython",
    "version": 3
   },
   "file_extension": ".py",
   "mimetype": "text/x-python",
   "name": "python",
   "nbconvert_exporter": "python",
   "pygments_lexer": "ipython3",
   "version": "3.6.9"
  }
 },
 "nbformat": 4,
 "nbformat_minor": 5
}
