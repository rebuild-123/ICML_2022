{
 "cells": [
  {
   "cell_type": "code",
   "execution_count": 22,
   "id": "347c2d55",
   "metadata": {},
   "outputs": [],
   "source": [
    "import json\n",
    "import pickle\n",
    "from tqdm import tqdm\n",
    "from copy import deepcopy"
   ]
  },
  {
   "cell_type": "code",
   "execution_count": 23,
   "id": "51a29205",
   "metadata": {},
   "outputs": [],
   "source": [
    "leave_keys = ['histogram', 'byteentropy', 'strings', 'general', 'header', 'section', 'imports', 'exports']"
   ]
  },
  {
   "cell_type": "code",
   "execution_count": 24,
   "id": "1c341c1a",
   "metadata": {},
   "outputs": [],
   "source": [
    "pwd = '/workdir/security/home/junjiehuang2468/paper/data/ember/ember/'"
   ]
  },
  {
   "cell_type": "code",
   "execution_count": 25,
   "id": "f79dfdf3",
   "metadata": {},
   "outputs": [
    {
     "name": "stderr",
     "output_type": "stream",
     "text": [
      "100%|██████████| 6/6 [24:35<00:00, 245.90s/it]\n"
     ]
    }
   ],
   "source": [
    "for i in tqdm(range(6)):\n",
    "    with open(f'{pwd}train_features_{i}.jsonl','rb') as fp:\n",
    "        datas = fp.readlines()\n",
    "    for j in range(len(datas)):\n",
    "        data = eval(datas[j])\n",
    "        label = data['label']\n",
    "        name = data['sha256']\n",
    "        keys = deepcopy(list(data.keys()))\n",
    "        for key in keys: \n",
    "            if key not in leave_keys:\n",
    "                data.pop(key)\n",
    "        byte_data = json.dumps(data).encode()\n",
    "        if label != -1: store_pwd = pwd + 'data/'\n",
    "        elif label == -1: continue\n",
    "        with open(store_pwd + name + '.txt','wb') as fp:\n",
    "            pickle.dump(data,fp)"
   ]
  }
 ],
 "metadata": {
  "kernelspec": {
   "display_name": "Python 3",
   "language": "python",
   "name": "python3"
  },
  "language_info": {
   "codemirror_mode": {
    "name": "ipython",
    "version": 3
   },
   "file_extension": ".py",
   "mimetype": "text/x-python",
   "name": "python",
   "nbconvert_exporter": "python",
   "pygments_lexer": "ipython3",
   "version": "3.6.9"
  }
 },
 "nbformat": 4,
 "nbformat_minor": 5
}
