{
 "cells": [
  {
   "cell_type": "code",
   "execution_count": 1,
   "id": "2ac8a951",
   "metadata": {},
   "outputs": [],
   "source": [
    "import os\n",
    "import numpy as np\n",
    "import pandas as pd\n",
    "from tqdm import tqdm\n",
    "import multiprocessing as mp\n",
    "from sklearn.model_selection import train_test_split\n",
    "import torch\n",
    "from torch import nn\n",
    "from torch.optim import Adam\n",
    "import torch.nn.functional as F\n",
    "from torch.utils.data import DataLoader, Dataset\n",
    "os.environ[\"CUDA_VISIBLE_DEVICES\"] = '3'"
   ]
  },
  {
   "cell_type": "code",
   "execution_count": null,
   "id": "3ef54173",
   "metadata": {},
   "outputs": [],
   "source": []
  },
  {
   "cell_type": "code",
   "execution_count": 2,
   "id": "373482b5",
   "metadata": {},
   "outputs": [],
   "source": [
    "trained_model_path = '/workdir/security/home/junjiehuang2468/paper/trained_models_weight/ember/'\n",
    "best_trained_model = '2022-01-18 14:55/2w_epoch:13_test_acc:0.896058.pt'\n",
    "data_path = \"/workdir/security/home/junjiehuang2468/paper/data/ember2018/\"\n",
    "train_data_path = data_path + \"malwares/\" \n",
    "train_label_path = data_path + \"train_labels.csv\" "
   ]
  },
  {
   "cell_type": "code",
   "execution_count": 3,
   "id": "c05c1730",
   "metadata": {},
   "outputs": [],
   "source": [
    "CUDA = True if torch.cuda.is_available() else False\n",
    "NUM_WORKERS = 24\n",
    "BATCH_SIZE = 100\n",
    "LEAVE_BIT_NUMBER = 20000\n",
    "KERNEL_SIZE = 500"
   ]
  },
  {
   "cell_type": "code",
   "execution_count": 4,
   "id": "0274cb27",
   "metadata": {},
   "outputs": [],
   "source": [
    "LEAVE_BIT_NUMBER_DICT = {10000:'1w',20000:'2w'}"
   ]
  },
  {
   "cell_type": "code",
   "execution_count": 5,
   "id": "f0179094",
   "metadata": {},
   "outputs": [],
   "source": [
    "trainset = pd.read_csv(data_path + 'train_dataset.csv')\n",
    "validset = pd.read_csv(data_path + 'valid_dataset.csv')\n",
    "validset = validset.iloc[np.argwhere(validset['labels'].values == 1).squeeze(),:]"
   ]
  },
  {
   "cell_type": "code",
   "execution_count": 6,
   "id": "4fb0d918",
   "metadata": {},
   "outputs": [],
   "source": [
    "class ExeDataset(Dataset):\n",
    "    def __init__(self, malware_names, data_path, labels, leave_bit_num):\n",
    "        self.malware_names = malware_names\n",
    "        self.data_path = data_path\n",
    "        self.labels = labels\n",
    "        self.leave_bit_num = leave_bit_num\n",
    "\n",
    "    def __len__(self):\n",
    "        return len(self.malware_names)\n",
    "\n",
    "    def __getitem__(self, idx):\n",
    "        with open(self.data_path + self.malware_names[idx] + '.txt','rb') as fp:\n",
    "            data = [bit+1 for bit in fp.read()[:self.leave_bit_num]]\n",
    "            padding = [0]*(self.leave_bit_num-len(data))\n",
    "            data = data + padding\n",
    "\n",
    "        return np.array(data), np.array([self.labels[idx]])"
   ]
  },
  {
   "cell_type": "code",
   "execution_count": 7,
   "id": "0dff087d",
   "metadata": {},
   "outputs": [],
   "source": [
    "train_dataset = ExeDataset(\n",
    "    trainset[\"id\"].tolist(), \n",
    "    train_data_path, \n",
    "    trainset[\"labels\"].tolist(), \n",
    "    LEAVE_BIT_NUMBER\n",
    ")\n",
    "valid_dataset = ExeDataset(\n",
    "    validset[\"id\"].tolist(), \n",
    "    train_data_path, \n",
    "    validset[\"labels\"].tolist(), \n",
    "    LEAVE_BIT_NUMBER\n",
    ")"
   ]
  },
  {
   "cell_type": "code",
   "execution_count": 8,
   "id": "d7d4339f",
   "metadata": {},
   "outputs": [],
   "source": [
    "trainloader = DataLoader(\n",
    "    dataset = train_dataset,\n",
    "    batch_size = BATCH_SIZE,\n",
    "    shuffle = False,\n",
    "    num_workers = NUM_WORKERS,\n",
    "    pin_memory = True\n",
    ")\n",
    "validloader = DataLoader(\n",
    "    dataset = valid_dataset,\n",
    "    batch_size = BATCH_SIZE,\n",
    "    shuffle = False,\n",
    "    num_workers = NUM_WORKERS,\n",
    "    pin_memory = True\n",
    ")"
   ]
  },
  {
   "cell_type": "code",
   "execution_count": null,
   "id": "0e2614b5",
   "metadata": {},
   "outputs": [],
   "source": []
  },
  {
   "cell_type": "code",
   "execution_count": 9,
   "id": "7a4156ed",
   "metadata": {},
   "outputs": [],
   "source": [
    "def mp_func(i,inpu,te,gr):\n",
    "    cum_grad = 0\n",
    "    for j,(inp,g,t) in enumerate(zip(inpu,gr,te)):\n",
    "        if inp != 0: continue\n",
    "        max_idx = np.argmin(g).tolist()\n",
    "        org_max_idx = np.argmax(t).tolist()\n",
    "        cum_grad += np.mean(g)\n",
    "        if g[max_idx] > 0: continue\n",
    "        te[j][org_max_idx] = 0\n",
    "        te[j][max_idx] = 1\n",
    "    return [i,te,cum_grad]"
   ]
  },
  {
   "cell_type": "code",
   "execution_count": 10,
   "id": "955b5f31",
   "metadata": {},
   "outputs": [],
   "source": [
    "class Model(nn.Module):\n",
    "    def __init__(self, data_length = 2e6, kernel_size = 500):\n",
    "        super().__init__()\n",
    "        self.embedding = nn.Embedding(257, 8, padding_idx=0)\n",
    "        self.conv_layer_1 = nn.Conv1d(4, 128, kernel_size, stride = kernel_size, bias = True)\n",
    "        # self.bn_1 = nn.BatchNorm1d(128)\n",
    "        self.conv_layer_2 = nn.Conv1d(4, 128, kernel_size, stride = kernel_size, bias = True)\n",
    "        self.pool_layer_2 = nn.MaxPool1d(data_length//kernel_size)\n",
    "        self.fc_layer_3 = nn.Linear(128, 128)\n",
    "        self.fc_layer_4 = nn.Linear(128, 2)\n",
    "\n",
    "    def forward(self, input_, loss_fn):\n",
    "        temp = F.one_hot(input_,num_classes=257).float()\n",
    "        temp.requires_grad = True\n",
    "        temp.retain_grad()\n",
    "        batch_acc = []\n",
    "        batch_grad = []\n",
    "        for _ in range(9):\n",
    "            x = temp @ self.embedding.weight\n",
    "            x = torch.transpose(x, -1, -2)\n",
    "\n",
    "            x_conv_1 = self.conv_layer_1(x[:,:4,:])\n",
    "            x_conv_2 = torch.sigmoid(self.conv_layer_2(x[:,4:,:]))\n",
    "\n",
    "            x = x_conv_1*x_conv_2\n",
    "            del x_conv_1,x_conv_2\n",
    "            x = self.pool_layer_2(x).squeeze()\n",
    "            \n",
    "            x = self.fc_layer_3(x)\n",
    "            x = self.fc_layer_4(x)\n",
    "            \n",
    "            acc = torch.argmax(torch.softmax(x,dim=-1),dim=-1).float().mean()\n",
    "            batch_acc.append(acc.tolist())\n",
    "            \n",
    "            mislead_labels = torch.cat((torch.ones(len(x)).reshape(-1,1),torch.zeros(len(x)).reshape(-1,1)),dim=1).cuda()\n",
    "            loss = loss_fn(x,mislead_labels)\n",
    "            loss.backward()\n",
    "            \n",
    "            data = [(i,inpu,te,gr) for i,(inpu,te,gr) in enumerate(zip(\n",
    "                input_.detach().cpu().numpy(),\n",
    "                temp.detach().cpu().numpy(),\n",
    "                temp.grad.detach().cpu().numpy()\n",
    "            ))]\n",
    "            with mp.Pool(processes=30 if len(data) > 30 else len(data)) as pool:\n",
    "                results = pool.starmap(mp_func,data)\n",
    "            results = sorted(results,key = lambda x: x[0])\n",
    "            for i in range(len(temp)):\n",
    "                temp.data[i] = torch.tensor(results[i][1], dtype=torch.float, requires_grad=True).cuda()\n",
    "            batch_grad.append(np.mean([result[2] for result in results]))\n",
    "            \n",
    "            # temp.grad.zero_()\n",
    "            \n",
    "        x = temp @ self.embedding.weight\n",
    "        x = torch.transpose(x, -1, -2)\n",
    "\n",
    "        x_conv_1 = self.conv_layer_1(x[:,:4,:])\n",
    "        x_conv_2 = torch.sigmoid(self.conv_layer_2(x[:,4:,:]))\n",
    "\n",
    "        x = x_conv_1*x_conv_2\n",
    "        del x_conv_1,x_conv_2\n",
    "        x = self.pool_layer_2(x).squeeze()\n",
    "\n",
    "        x = self.fc_layer_3(x)\n",
    "        x = self.fc_layer_4(x)\n",
    "        return x.detach().cpu().numpy(),batch_acc,batch_grad"
   ]
  },
  {
   "cell_type": "code",
   "execution_count": 11,
   "id": "0038f580",
   "metadata": {},
   "outputs": [],
   "source": [
    "model = Model(data_length=LEAVE_BIT_NUMBER,kernel_size=KERNEL_SIZE)\n",
    "\n",
    "ce_loss = nn.CrossEntropyLoss()\n",
    "optim = Adam(model.parameters())\n",
    "\n",
    "model = model.cuda() if CUDA else model\n",
    "ce_loss = ce_loss.cuda() if CUDA else ce_less"
   ]
  },
  {
   "cell_type": "code",
   "execution_count": 12,
   "id": "f674591a",
   "metadata": {},
   "outputs": [
    {
     "data": {
      "text/plain": [
       "<All keys matched successfully>"
      ]
     },
     "execution_count": 12,
     "metadata": {},
     "output_type": "execute_result"
    }
   ],
   "source": [
    "model.load_state_dict(torch.load(trained_model_path + best_trained_model))"
   ]
  },
  {
   "cell_type": "code",
   "execution_count": null,
   "id": "84791bf3",
   "metadata": {
    "scrolled": true
   },
   "outputs": [
    {
     "name": "stderr",
     "output_type": "stream",
     "text": [
      "  0%|          | 1/600 [05:18<52:58:53, 318.42s/it]"
     ]
    },
    {
     "name": "stdout",
     "output_type": "stream",
     "text": [
      "[0.8700000 0.1200000 0.0700000 0.0500000 0.0400000 0.0400000 0.0400000 0.0400000 0.0400000 0.0400000]\n",
      "[0.0000000 -0.0011380 -0.0002627 0.0011017 0.0010281 0.0010102 0.0009439 0.0009004 0.0008609 0.0008125]\n",
      "test：0.040000, test mean: 0.040000\n"
     ]
    },
    {
     "name": "stderr",
     "output_type": "stream",
     "text": [
      "\r",
      "  0%|          | 2/600 [10:31<52:23:34, 315.41s/it]"
     ]
    },
    {
     "name": "stdout",
     "output_type": "stream",
     "text": [
      "[0.8650000 0.1100000 0.0550000 0.0450000 0.0400000 0.0400000 0.0350000 0.0350000 0.0350000 0.0350000]\n",
      "[0.0000000 -0.0010860 -0.0004346 0.0004730 0.0004244 0.0004062 0.0003666 0.0003386 0.0003127 0.0002827]\n",
      "test：0.030000, test mean: 0.035000\n"
     ]
    },
    {
     "name": "stderr",
     "output_type": "stream",
     "text": [
      "\r",
      "  0%|          | 3/600 [15:38<51:40:18, 311.59s/it]"
     ]
    },
    {
     "name": "stdout",
     "output_type": "stream",
     "text": [
      "[0.8533333 0.1266667 0.0600000 0.0500000 0.0466667 0.0466667 0.0433333 0.0433333 0.0400000 0.0400000]\n",
      "[0.0000000 -0.0014283 -0.0003156 0.0006058 0.0005716 0.0005576 0.0005298 0.0005099 0.0004909 0.0004689]\n",
      "test：0.050000, test mean: 0.040000\n"
     ]
    },
    {
     "name": "stderr",
     "output_type": "stream",
     "text": [
      "\r",
      "  1%|          | 4/600 [21:07<52:44:16, 318.55s/it]"
     ]
    },
    {
     "name": "stdout",
     "output_type": "stream",
     "text": [
      "[0.8500000 0.1575000 0.0675000 0.0550000 0.0525000 0.0525000 0.0500000 0.0500000 0.0475000 0.0475000]\n",
      "[0.0000000 -0.0015826 -0.0010177 -0.0003387 -0.0003663 -0.0003775 -0.0004048 -0.0004216 -0.0004373 -0.0004554]\n",
      "test：0.070000, test mean: 0.047500\n"
     ]
    },
    {
     "name": "stderr",
     "output_type": "stream",
     "text": [
      "\r",
      "  1%|          | 5/600 [26:29<52:50:52, 319.75s/it]"
     ]
    },
    {
     "name": "stdout",
     "output_type": "stream",
     "text": [
      "[0.8560000 0.1560000 0.0780000 0.0640000 0.0600000 0.0580000 0.0560000 0.0560000 0.0540000 0.0540000]\n",
      "[0.0000000 -0.0014669 -0.0008273 -0.0002984 -0.0003431 -0.0003648 -0.0003934 -0.0004123 -0.0004325 -0.0004526]\n",
      "test：0.080000, test mean: 0.054000\n"
     ]
    },
    {
     "name": "stderr",
     "output_type": "stream",
     "text": [
      "\r",
      "  1%|          | 6/600 [31:29<51:36:28, 312.78s/it]"
     ]
    },
    {
     "name": "stdout",
     "output_type": "stream",
     "text": [
      "[0.8650000 0.1550000 0.0833333 0.0700000 0.0650000 0.0633333 0.0616667 0.0616667 0.0600000 0.0600000]\n",
      "[0.0000000 -0.0014066 -0.0009208 -0.0004854 -0.0005454 -0.0005677 -0.0005955 -0.0006160 -0.0006371 -0.0006601]\n",
      "test：0.090000, test mean: 0.060000\n"
     ]
    },
    {
     "name": "stderr",
     "output_type": "stream",
     "text": [
      "\r",
      "  1%|          | 7/600 [36:53<52:07:38, 316.46s/it]"
     ]
    },
    {
     "name": "stdout",
     "output_type": "stream",
     "text": [
      "[0.8714285 0.1628571 0.0857143 0.0714286 0.0671429 0.0657143 0.0642857 0.0642857 0.0628571 0.0628571]\n",
      "[0.0000000 -0.0012569 -0.0007852 -0.0002527 -0.0003065 -0.0003268 -0.0003514 -0.0003700 -0.0003891 -0.0004097]\n",
      "test：0.080000, test mean: 0.062857\n"
     ]
    },
    {
     "name": "stderr",
     "output_type": "stream",
     "text": [
      "\r",
      "  1%|▏         | 8/600 [42:01<51:36:15, 313.81s/it]"
     ]
    },
    {
     "name": "stdout",
     "output_type": "stream",
     "text": [
      "[0.8750000 0.1675000 0.0925000 0.0787500 0.0750000 0.0737500 0.0712500 0.0712500 0.0700000 0.0700000]\n",
      "[0.0000000 -0.0010554 -0.0006016 -0.0001389 -0.0001905 -0.0002113 -0.0002373 -0.0002568 -0.0002774 -0.0003003]\n",
      "test：0.120000, test mean: 0.070000\n"
     ]
    },
    {
     "name": "stderr",
     "output_type": "stream",
     "text": [
      "\r",
      "  2%|▏         | 9/600 [47:35<52:32:27, 320.05s/it]"
     ]
    },
    {
     "name": "stdout",
     "output_type": "stream",
     "text": [
      "[0.8811111 0.1700000 0.0922222 0.0777778 0.0744444 0.0733333 0.0711111 0.0700000 0.0688889 0.0688889]\n",
      "[0.0000000 -0.0011100 -0.0007159 -0.0003390 -0.0003907 -0.0004145 -0.0004430 -0.0004652 -0.0004899 -0.0005136]\n",
      "test：0.060000, test mean: 0.068889\n"
     ]
    },
    {
     "name": "stderr",
     "output_type": "stream",
     "text": [
      "\r",
      "  2%|▏         | 10/600 [52:38<51:36:54, 314.94s/it]"
     ]
    },
    {
     "name": "stdout",
     "output_type": "stream",
     "text": [
      "[0.8830000 0.1710000 0.0920000 0.0770000 0.0730000 0.0720000 0.0700000 0.0690000 0.0680000 0.0680000]\n",
      "[0.0000000 -0.0013503 -0.0008394 -0.0005196 -0.0005807 -0.0006054 -0.0006355 -0.0006603 -0.0006880 -0.0007147]\n",
      "test：0.060000, test mean: 0.068000\n"
     ]
    },
    {
     "name": "stderr",
     "output_type": "stream",
     "text": [
      "\r",
      "  2%|▏         | 11/600 [58:02<52:00:09, 317.84s/it]"
     ]
    },
    {
     "name": "stdout",
     "output_type": "stream",
     "text": [
      "[0.8890909 0.1745454 0.0945455 0.0781818 0.0745455 0.0736364 0.0709091 0.0690909 0.0681818 0.0681818]\n",
      "[0.0000000 -0.0014299 -0.0009672 -0.0005820 -0.0006412 -0.0006685 -0.0006948 -0.0007188 -0.0007455 -0.0007719]\n",
      "test：0.070000, test mean: 0.068182\n"
     ]
    },
    {
     "name": "stderr",
     "output_type": "stream",
     "text": [
      "\r",
      "  2%|▏         | 12/600 [1:03:45<53:09:23, 325.45s/it]"
     ]
    },
    {
     "name": "stdout",
     "output_type": "stream",
     "text": [
      "[0.8858333 0.1666667 0.0916667 0.0766667 0.0716667 0.0708333 0.0683333 0.0666667 0.0658333 0.0658333]\n",
      "[0.0000000 -0.0015132 -0.0010177 -0.0006744 -0.0007465 -0.0007723 -0.0008005 -0.0008266 -0.0008555 -0.0008843]\n",
      "test：0.040000, test mean: 0.065833\n"
     ]
    },
    {
     "name": "stderr",
     "output_type": "stream",
     "text": [
      "\r",
      "  2%|▏         | 13/600 [1:09:15<53:16:44, 326.75s/it]"
     ]
    },
    {
     "name": "stdout",
     "output_type": "stream",
     "text": [
      "[0.8907692 0.1653846 0.0915385 0.0761538 0.0715385 0.0707692 0.0676923 0.0661538 0.0653846 0.0653846]\n",
      "[0.0000000 -0.0016224 -0.0010289 -0.0006179 -0.0006865 -0.0007121 -0.0007394 -0.0007653 -0.0007934 -0.0008218]\n",
      "test：0.060000, test mean: 0.065385\n"
     ]
    },
    {
     "name": "stderr",
     "output_type": "stream",
     "text": [
      "\r",
      "  2%|▏         | 14/600 [1:14:28<52:31:37, 322.69s/it]"
     ]
    },
    {
     "name": "stdout",
     "output_type": "stream",
     "text": [
      "[0.8921428 0.1635714 0.0921429 0.0771429 0.0728571 0.0721429 0.0685714 0.0664286 0.0657143 0.0664286]\n",
      "[0.0000000 -0.0017160 -0.0011790 -0.0007998 -0.0008652 -0.0008910 -0.0009208 -0.0009488 -0.0009765 -0.0010059]\n",
      "test：0.080000, test mean: 0.066429\n"
     ]
    },
    {
     "name": "stderr",
     "output_type": "stream",
     "text": [
      "\r",
      "  2%|▎         | 15/600 [1:19:51<52:26:35, 322.73s/it]"
     ]
    },
    {
     "name": "stdout",
     "output_type": "stream",
     "text": [
      "[0.8933333 0.1626667 0.0900000 0.0753333 0.0713333 0.0706667 0.0673333 0.0653333 0.0646667 0.0653333]\n",
      "[0.0000000 -0.0017701 -0.0012147 -0.0008765 -0.0009391 -0.0009641 -0.0009931 -0.0010204 -0.0010477 -0.0010775]\n",
      "test：0.050000, test mean: 0.065333\n"
     ]
    },
    {
     "name": "stderr",
     "output_type": "stream",
     "text": [
      "\r",
      "  3%|▎         | 16/600 [1:25:17<52:31:41, 323.80s/it]"
     ]
    },
    {
     "name": "stdout",
     "output_type": "stream",
     "text": [
      "[0.8931250 0.1581250 0.0881250 0.0725000 0.0687500 0.0681250 0.0650000 0.0631250 0.0625000 0.0631250]\n",
      "[0.0000000 -0.0017968 -0.0012780 -0.0008924 -0.0009542 -0.0009799 -0.0010098 -0.0010378 -0.0010663 -0.0010961]\n",
      "test：0.030000, test mean: 0.063125\n"
     ]
    },
    {
     "name": "stderr",
     "output_type": "stream",
     "text": [
      "\r",
      "  3%|▎         | 17/600 [1:30:40<52:21:14, 323.28s/it]"
     ]
    },
    {
     "name": "stdout",
     "output_type": "stream",
     "text": [
      "[0.8941176 0.1611765 0.0917647 0.0747059 0.0711765 0.0705882 0.0676471 0.0658824 0.0652941 0.0658824]\n",
      "[0.0000000 -0.0017835 -0.0012400 -0.0008421 -0.0009005 -0.0009248 -0.0009534 -0.0009800 -0.0010070 -0.0010353]\n",
      "test：0.110000, test mean: 0.065882\n"
     ]
    },
    {
     "name": "stderr",
     "output_type": "stream",
     "text": [
      "\r",
      "  3%|▎         | 18/600 [1:36:21<53:09:57, 328.86s/it]"
     ]
    },
    {
     "name": "stdout",
     "output_type": "stream",
     "text": [
      "[0.8938889 0.1616667 0.0927778 0.0761111 0.0722222 0.0716667 0.0688889 0.0672222 0.0666667 0.0672222]\n",
      "[0.0000000 -0.0017433 -0.0011593 -0.0007839 -0.0008416 -0.0008674 -0.0008971 -0.0009246 -0.0009520 -0.0009812]\n",
      "test：0.090000, test mean: 0.067222\n"
     ]
    },
    {
     "name": "stderr",
     "output_type": "stream",
     "text": [
      "\r",
      "  3%|▎         | 19/600 [1:41:54<53:16:33, 330.11s/it]"
     ]
    },
    {
     "name": "stdout",
     "output_type": "stream",
     "text": [
      "[0.8947368 0.1610526 0.0926316 0.0752632 0.0715789 0.0710526 0.0684211 0.0668421 0.0663158 0.0668421]\n",
      "[0.0000000 -0.0018489 -0.0012354 -0.0007985 -0.0008534 -0.0008782 -0.0009070 -0.0009328 -0.0009593 -0.0009866]\n",
      "test：0.060000, test mean: 0.066842\n"
     ]
    },
    {
     "name": "stderr",
     "output_type": "stream",
     "text": [
      "\r",
      "  3%|▎         | 20/600 [1:47:32<53:33:08, 332.39s/it]"
     ]
    },
    {
     "name": "stdout",
     "output_type": "stream",
     "text": [
      "[0.8930000 0.1625000 0.0935000 0.0750000 0.0715000 0.0705000 0.0680000 0.0665000 0.0660000 0.0665000]\n",
      "[0.0000000 -0.0018776 -0.0011963 -0.0007428 -0.0007961 -0.0008206 -0.0008493 -0.0008737 -0.0008992 -0.0009259]\n",
      "test：0.060000, test mean: 0.066500\n"
     ]
    },
    {
     "name": "stderr",
     "output_type": "stream",
     "text": [
      "\r",
      "  4%|▎         | 21/600 [1:53:09<53:40:19, 333.71s/it]"
     ]
    },
    {
     "name": "stdout",
     "output_type": "stream",
     "text": [
      "[0.8923809 0.1638095 0.0938095 0.0761905 0.0723810 0.0714286 0.0690476 0.0676190 0.0671429 0.0676190]\n",
      "[0.0000000 -0.0018406 -0.0012259 -0.0007982 -0.0008522 -0.0008764 -0.0009047 -0.0009289 -0.0009545 -0.0009808]\n",
      "test：0.090000, test mean: 0.067619\n"
     ]
    },
    {
     "name": "stderr",
     "output_type": "stream",
     "text": [
      "\r",
      "  4%|▎         | 22/600 [1:58:15<52:16:00, 325.54s/it]"
     ]
    },
    {
     "name": "stdout",
     "output_type": "stream",
     "text": [
      "[0.8909091 0.1672727 0.0968182 0.0781818 0.0745455 0.0736364 0.0709091 0.0695455 0.0690909 0.0695455]\n",
      "[0.0000000 -0.0018644 -0.0012491 -0.0008451 -0.0008994 -0.0009250 -0.0009537 -0.0009780 -0.0010040 -0.0010305]\n",
      "test：0.110000, test mean: 0.069545\n"
     ]
    },
    {
     "name": "stderr",
     "output_type": "stream",
     "text": [
      "\r",
      "  4%|▍         | 23/600 [2:03:44<52:18:43, 326.38s/it]"
     ]
    },
    {
     "name": "stdout",
     "output_type": "stream",
     "text": [
      "[0.8908695 0.1678261 0.0978261 0.0795652 0.0760870 0.0752174 0.0726087 0.0713043 0.0708696 0.0708696]\n",
      "[0.0000000 -0.0018693 -0.0012745 -0.0008932 -0.0009457 -0.0009725 -0.0010039 -0.0010319 -0.0010613 -0.0010908]\n",
      "test：0.100000, test mean: 0.070870\n"
     ]
    },
    {
     "name": "stderr",
     "output_type": "stream",
     "text": [
      "\r",
      "  4%|▍         | 24/600 [2:09:11<52:15:11, 326.58s/it]"
     ]
    },
    {
     "name": "stdout",
     "output_type": "stream",
     "text": [
      "[0.8912500 0.1683333 0.0987500 0.0800000 0.0766667 0.0758333 0.0729167 0.0716667 0.0712500 0.0712500]\n",
      "[0.0000000 -0.0018847 -0.0013254 -0.0009524 -0.0010046 -0.0010316 -0.0010630 -0.0010913 -0.0011210 -0.0011508]\n",
      "test：0.080000, test mean: 0.071250\n"
     ]
    },
    {
     "name": "stderr",
     "output_type": "stream",
     "text": [
      "\r",
      "  4%|▍         | 25/600 [2:14:46<52:33:22, 329.05s/it]"
     ]
    },
    {
     "name": "stdout",
     "output_type": "stream",
     "text": [
      "[0.8912000 0.1672000 0.0976000 0.0796000 0.0764000 0.0756000 0.0728000 0.0716000 0.0712000 0.0712000]\n",
      "[0.0000000 -0.0018427 -0.0013110 -0.0009556 -0.0010085 -0.0010362 -0.0010698 -0.0011009 -0.0011331 -0.0011654]\n",
      "test：0.070000, test mean: 0.071200\n"
     ]
    },
    {
     "name": "stderr",
     "output_type": "stream",
     "text": [
      "\r",
      "  4%|▍         | 26/600 [2:20:09<52:12:06, 327.40s/it]"
     ]
    },
    {
     "name": "stdout",
     "output_type": "stream",
     "text": [
      "[0.8911538 0.1661538 0.0965385 0.0788462 0.0757692 0.0750000 0.0723077 0.0707692 0.0703846 0.0703846]\n",
      "[0.0000000 -0.0018608 -0.0013031 -0.0009641 -0.0010154 -0.0010447 -0.0010794 -0.0011114 -0.0011443 -0.0011781]\n",
      "test：0.050000, test mean: 0.070385\n"
     ]
    },
    {
     "name": "stderr",
     "output_type": "stream",
     "text": [
      "\r",
      "  4%|▍         | 27/600 [2:25:17<51:11:31, 321.63s/it]"
     ]
    },
    {
     "name": "stdout",
     "output_type": "stream",
     "text": [
      "[0.8914815 0.1696296 0.0974074 0.0800000 0.0770370 0.0762963 0.0737037 0.0718519 0.0714815 0.0714815]\n",
      "[0.0000000 -0.0018246 -0.0012723 -0.0009514 -0.0010070 -0.0010405 -0.0010801 -0.0011157 -0.0011528 -0.0011911]\n",
      "test：0.100000, test mean: 0.071481\n"
     ]
    },
    {
     "name": "stderr",
     "output_type": "stream",
     "text": [
      "\r",
      "  5%|▍         | 28/600 [2:30:35<50:54:02, 320.35s/it]"
     ]
    },
    {
     "name": "stdout",
     "output_type": "stream",
     "text": [
      "[0.8907143 0.1714286 0.0985714 0.0810714 0.0782143 0.0775000 0.0746429 0.0728571 0.0725000 0.0725000]\n",
      "[0.0000000 -0.0017508 -0.0011877 -0.0008778 -0.0009317 -0.0009646 -0.0010031 -0.0010379 -0.0010740 -0.0011111]\n",
      "test：0.100000, test mean: 0.072500\n"
     ]
    },
    {
     "name": "stderr",
     "output_type": "stream",
     "text": [
      "\r",
      "  5%|▍         | 29/600 [2:36:39<52:54:43, 333.60s/it]"
     ]
    },
    {
     "name": "stdout",
     "output_type": "stream",
     "text": [
      "[0.8900000 0.1713793 0.0982759 0.0806897 0.0775862 0.0768966 0.0741379 0.0720690 0.0717241 0.0717241]\n",
      "[0.0000000 -0.0017570 -0.0011293 -0.0008278 -0.0008820 -0.0009150 -0.0009531 -0.0009880 -0.0010238 -0.0010609]\n",
      "test：0.050000, test mean: 0.071724\n"
     ]
    },
    {
     "name": "stderr",
     "output_type": "stream",
     "text": [
      "\r",
      "  5%|▌         | 30/600 [2:42:00<52:12:03, 329.69s/it]"
     ]
    },
    {
     "name": "stdout",
     "output_type": "stream",
     "text": [
      "[0.8903333 0.1710000 0.0973333 0.0800000 0.0770000 0.0763333 0.0733333 0.0713333 0.0710000 0.0710000]\n",
      "[0.0000000 -0.0017500 -0.0010654 -0.0007738 -0.0008258 -0.0008583 -0.0008970 -0.0009310 -0.0009659 -0.0010018]\n",
      "test：0.050000, test mean: 0.071000\n"
     ]
    },
    {
     "name": "stderr",
     "output_type": "stream",
     "text": [
      "\r",
      "  5%|▌         | 31/600 [2:47:34<52:20:12, 331.13s/it]"
     ]
    },
    {
     "name": "stdout",
     "output_type": "stream",
     "text": [
      "[0.8909677 0.1706452 0.0983871 0.0812903 0.0780645 0.0774194 0.0741935 0.0722581 0.0719355 0.0712903]\n",
      "[0.0000000 -0.0017546 -0.0010804 -0.0007627 -0.0008152 -0.0008473 -0.0008852 -0.0009191 -0.0009538 -0.0009891]\n",
      "test：0.080000, test mean: 0.071290\n"
     ]
    },
    {
     "name": "stderr",
     "output_type": "stream",
     "text": [
      "\r",
      "  5%|▌         | 32/600 [2:52:51<51:34:41, 326.90s/it]"
     ]
    },
    {
     "name": "stdout",
     "output_type": "stream",
     "text": [
      "[0.8896875 0.1709375 0.0990625 0.0818750 0.0784375 0.0775000 0.0740625 0.0721875 0.0718750 0.0712500]\n",
      "[0.0000000 -0.0017525 -0.0009766 -0.0006762 -0.0007281 -0.0007616 -0.0008001 -0.0008338 -0.0008679 -0.0009026]\n",
      "test：0.070000, test mean: 0.071250\n"
     ]
    },
    {
     "name": "stderr",
     "output_type": "stream",
     "text": [
      "\r",
      "  6%|▌         | 33/600 [2:58:21<51:37:22, 327.76s/it]"
     ]
    },
    {
     "name": "stdout",
     "output_type": "stream",
     "text": [
      "[0.8903030 0.1712121 0.0993939 0.0821212 0.0787879 0.0775758 0.0739394 0.0721212 0.0718182 0.0712121]\n",
      "[0.0000000 -0.0017410 -0.0010257 -0.0006890 -0.0007449 -0.0007794 -0.0008199 -0.0008546 -0.0008899 -0.0009253]\n",
      "test：0.070000, test mean: 0.071212\n"
     ]
    },
    {
     "name": "stderr",
     "output_type": "stream",
     "text": [
      "\r",
      "  6%|▌         | 34/600 [3:03:09<49:38:02, 315.69s/it]"
     ]
    },
    {
     "name": "stdout",
     "output_type": "stream",
     "text": [
      "[0.8911764 0.1723529 0.0997059 0.0826471 0.0794118 0.0782353 0.0747059 0.0729412 0.0726471 0.0720588]\n",
      "[0.0000000 -0.0017365 -0.0010175 -0.0006937 -0.0007490 -0.0007835 -0.0008240 -0.0008586 -0.0008940 -0.0009294]\n",
      "test：0.100000, test mean: 0.072059\n"
     ]
    },
    {
     "name": "stderr",
     "output_type": "stream",
     "text": [
      "\r",
      "  6%|▌         | 35/600 [3:08:19<49:17:46, 314.10s/it]"
     ]
    },
    {
     "name": "stdout",
     "output_type": "stream",
     "text": [
      "[0.8911428 0.1705714 0.0985714 0.0817143 0.0785714 0.0774286 0.0740000 0.0722857 0.0720000 0.0714286]\n",
      "[0.0000000 -0.0017415 -0.0010705 -0.0007009 -0.0007552 -0.0007891 -0.0008288 -0.0008630 -0.0008978 -0.0009326]\n",
      "test：0.050000, test mean: 0.071429\n"
     ]
    },
    {
     "name": "stderr",
     "output_type": "stream",
     "text": [
      "\r",
      "  6%|▌         | 36/600 [3:14:00<50:28:30, 322.18s/it]"
     ]
    },
    {
     "name": "stdout",
     "output_type": "stream",
     "text": [
      "[0.8894444 0.1697222 0.0972222 0.0805556 0.0775000 0.0763889 0.0730556 0.0713889 0.0711111 0.0705556]\n",
      "[0.0000000 -0.0017336 -0.0010859 -0.0007284 -0.0007831 -0.0008171 -0.0008579 -0.0008929 -0.0009287 -0.0009646]\n",
      "test：0.040000, test mean: 0.070556\n"
     ]
    },
    {
     "name": "stderr",
     "output_type": "stream",
     "text": [
      "\r",
      "  6%|▌         | 37/600 [3:19:22<50:21:28, 322.01s/it]"
     ]
    },
    {
     "name": "stdout",
     "output_type": "stream",
     "text": [
      "[0.8889189 0.1708108 0.0983784 0.0816216 0.0786486 0.0775676 0.0740541 0.0724324 0.0721622 0.0716216]\n",
      "[0.0000000 -0.0017677 -0.0011259 -0.0007803 -0.0008346 -0.0008684 -0.0009090 -0.0009437 -0.0009792 -0.0010145]\n",
      "test：0.110000, test mean: 0.071622\n"
     ]
    },
    {
     "name": "stderr",
     "output_type": "stream",
     "text": [
      "\r",
      "  6%|▋         | 38/600 [3:24:57<50:54:32, 326.11s/it]"
     ]
    },
    {
     "name": "stdout",
     "output_type": "stream",
     "text": [
      "[0.8897368 0.1700000 0.0986842 0.0810526 0.0781579 0.0771053 0.0736842 0.0721053 0.0718421 0.0713158]\n",
      "[0.0000000 -0.0017461 -0.0011128 -0.0006921 -0.0007448 -0.0007778 -0.0008173 -0.0008513 -0.0008858 -0.0009202]\n",
      "test：0.060000, test mean: 0.071316\n"
     ]
    },
    {
     "name": "stderr",
     "output_type": "stream",
     "text": [
      "\r",
      "  6%|▋         | 39/600 [3:30:32<51:12:27, 328.60s/it]"
     ]
    },
    {
     "name": "stdout",
     "output_type": "stream",
     "text": [
      "[0.8892307 0.1689744 0.0982051 0.0802564 0.0774359 0.0764103 0.0730769 0.0712820 0.0710256 0.0705128]\n",
      "[0.0000000 -0.0017231 -0.0011155 -0.0006512 -0.0007044 -0.0007387 -0.0007793 -0.0008145 -0.0008504 -0.0008858]\n",
      "test：0.040000, test mean: 0.070513\n"
     ]
    },
    {
     "name": "stderr",
     "output_type": "stream",
     "text": [
      "\r",
      "  7%|▋         | 40/600 [3:36:47<53:18:24, 342.69s/it]"
     ]
    },
    {
     "name": "stdout",
     "output_type": "stream",
     "text": [
      "[0.8907500 0.1700000 0.0997500 0.0807500 0.0777500 0.0767500 0.0732500 0.0715000 0.0710000 0.0705000]\n",
      "[0.0000000 -0.0017370 -0.0010842 -0.0005975 -0.0006542 -0.0006897 -0.0007315 -0.0007674 -0.0008040 -0.0008404]\n",
      "test：0.070000, test mean: 0.070500\n"
     ]
    },
    {
     "name": "stderr",
     "output_type": "stream",
     "text": [
      "\r",
      "  7%|▋         | 41/600 [3:42:54<54:21:04, 350.03s/it]"
     ]
    },
    {
     "name": "stdout",
     "output_type": "stream",
     "text": [
      "[0.8900000 0.1712195 0.1004878 0.0809756 0.0780488 0.0770732 0.0734146 0.0717073 0.0712195 0.0707317]\n",
      "[0.0000000 -0.0017410 -0.0011105 -0.0006153 -0.0006712 -0.0007066 -0.0007482 -0.0007833 -0.0008192 -0.0008548]\n",
      "test：0.080000, test mean: 0.070732\n"
     ]
    },
    {
     "name": "stderr",
     "output_type": "stream",
     "text": [
      "\r",
      "  7%|▋         | 42/600 [3:47:58<52:05:39, 336.09s/it]"
     ]
    },
    {
     "name": "stdout",
     "output_type": "stream",
     "text": [
      "[0.8890476 0.1721429 0.1011905 0.0816667 0.0785714 0.0771429 0.0735714 0.0719048 0.0714286 0.0709524]\n",
      "[0.0000000 -0.0017244 -0.0011393 -0.0006204 -0.0006756 -0.0007113 -0.0007521 -0.0007866 -0.0008219 -0.0008569]\n",
      "test：0.080000, test mean: 0.070952\n"
     ]
    },
    {
     "name": "stderr",
     "output_type": "stream",
     "text": [
      "\r",
      "  7%|▋         | 43/600 [3:53:27<51:40:50, 334.02s/it]"
     ]
    },
    {
     "name": "stdout",
     "output_type": "stream",
     "text": [
      "[0.8881395 0.1720930 0.1016279 0.0823256 0.0793023 0.0779070 0.0744186 0.0727907 0.0723256 0.0718605]\n",
      "[0.0000000 -0.0017211 -0.0011519 -0.0006456 -0.0007004 -0.0007365 -0.0007779 -0.0008129 -0.0008489 -0.0008848]\n",
      "test：0.110000, test mean: 0.071860\n"
     ]
    },
    {
     "name": "stderr",
     "output_type": "stream",
     "text": [
      "\r",
      "  7%|▋         | 44/600 [3:58:46<50:52:56, 329.45s/it]"
     ]
    },
    {
     "name": "stdout",
     "output_type": "stream",
     "text": [
      "[0.8881818 0.1720455 0.1018182 0.0822727 0.0793182 0.0779545 0.0745455 0.0729545 0.0725000 0.0720455]\n",
      "[0.0000000 -0.0017540 -0.0011853 -0.0006672 -0.0007223 -0.0007587 -0.0008005 -0.0008361 -0.0008729 -0.0009097]\n",
      "test：0.080000, test mean: 0.072045\n"
     ]
    },
    {
     "name": "stderr",
     "output_type": "stream",
     "text": [
      "\r",
      "  8%|▊         | 45/600 [4:04:18<50:53:30, 330.11s/it]"
     ]
    },
    {
     "name": "stdout",
     "output_type": "stream",
     "text": [
      "[0.8886666 0.1711111 0.1011111 0.0817778 0.0786667 0.0773333 0.0740000 0.0722222 0.0717778 0.0713333]\n",
      "[0.0000000 -0.0017671 -0.0012096 -0.0007055 -0.0007603 -0.0007965 -0.0008380 -0.0008732 -0.0009098 -0.0009462]\n",
      "test：0.040000, test mean: 0.071333\n"
     ]
    },
    {
     "name": "stderr",
     "output_type": "stream",
     "text": [
      "\r",
      "  8%|▊         | 46/600 [4:09:20<49:31:16, 321.80s/it]"
     ]
    },
    {
     "name": "stdout",
     "output_type": "stream",
     "text": [
      "[0.8880435 0.1706522 0.1010870 0.0821739 0.0789130 0.0776087 0.0743478 0.0726087 0.0721739 0.0717391]\n",
      "[0.0000000 -0.0018175 -0.0012708 -0.0007828 -0.0008407 -0.0008768 -0.0009194 -0.0009557 -0.0009936 -0.0010314]\n",
      "test：0.090000, test mean: 0.071739\n"
     ]
    },
    {
     "name": "stderr",
     "output_type": "stream",
     "text": [
      "\r",
      "  8%|▊         | 47/600 [4:14:48<49:42:38, 323.61s/it]"
     ]
    },
    {
     "name": "stdout",
     "output_type": "stream",
     "text": [
      "[0.8878723 0.1693617 0.0997872 0.0812766 0.0780851 0.0768085 0.0736170 0.0719149 0.0714894 0.0708511]\n",
      "[0.0000000 -0.0018298 -0.0013060 -0.0008290 -0.0008865 -0.0009221 -0.0009649 -0.0010017 -0.0010400 -0.0010784]\n",
      "test：0.030000, test mean: 0.070851\n"
     ]
    },
    {
     "name": "stderr",
     "output_type": "stream",
     "text": [
      "\r",
      "  8%|▊         | 48/600 [4:21:15<52:31:20, 342.54s/it]"
     ]
    },
    {
     "name": "stdout",
     "output_type": "stream",
     "text": [
      "[0.8881250 0.1708333 0.1000000 0.0816667 0.0785417 0.0772917 0.0741667 0.0725000 0.0720833 0.0714583]\n",
      "[0.0000000 -0.0018635 -0.0013297 -0.0008639 -0.0009207 -0.0009560 -0.0009982 -0.0010347 -0.0010725 -0.0011104]\n",
      "test：0.100000, test mean: 0.071458\n"
     ]
    },
    {
     "name": "stderr",
     "output_type": "stream",
     "text": [
      "\r",
      "  8%|▊         | 49/600 [4:27:12<53:05:55, 346.93s/it]"
     ]
    },
    {
     "name": "stdout",
     "output_type": "stream",
     "text": [
      "[0.8881632 0.1681633 0.0981633 0.0802041 0.0771429 0.0759184 0.0728571 0.0712245 0.0708163 0.0702041]\n",
      "[0.0000000 -0.0018969 -0.0013687 -0.0009124 -0.0009675 -0.0010022 -0.0010435 -0.0010794 -0.0011165 -0.0011536]\n",
      "test：0.010000, test mean: 0.070204\n"
     ]
    },
    {
     "name": "stderr",
     "output_type": "stream",
     "text": [
      "\r",
      "  8%|▊         | 50/600 [4:33:06<53:19:36, 349.05s/it]"
     ]
    },
    {
     "name": "stdout",
     "output_type": "stream",
     "text": [
      "[0.8874000 0.1674000 0.0970000 0.0794000 0.0764000 0.0752000 0.0722000 0.0706000 0.0702000 0.0696000]\n",
      "[0.0000000 -0.0018915 -0.0013358 -0.0008898 -0.0009439 -0.0009785 -0.0010199 -0.0010562 -0.0010936 -0.0011309]\n",
      "test：0.040000, test mean: 0.069600\n"
     ]
    },
    {
     "name": "stderr",
     "output_type": "stream",
     "text": [
      "\r",
      "  8%|▊         | 51/600 [4:39:32<54:57:04, 360.34s/it]"
     ]
    },
    {
     "name": "stdout",
     "output_type": "stream",
     "text": [
      "[0.8874510 0.1652941 0.0960784 0.0782353 0.0752941 0.0741176 0.0711765 0.0696078 0.0692157 0.0686275]\n",
      "[0.0000000 -0.0019269 -0.0013813 -0.0009052 -0.0009586 -0.0009928 -0.0010338 -0.0010697 -0.0011069 -0.0011438]\n",
      "test：0.020000, test mean: 0.068627\n"
     ]
    },
    {
     "name": "stderr",
     "output_type": "stream",
     "text": [
      "\r",
      "  9%|▊         | 52/600 [4:45:29<54:41:15, 359.26s/it]"
     ]
    },
    {
     "name": "stdout",
     "output_type": "stream",
     "text": [
      "[0.8871154 0.1663461 0.0965385 0.0790385 0.0753846 0.0742308 0.0713462 0.0698077 0.0694231 0.0688462]\n",
      "[0.0000000 -0.0019073 -0.0013928 -0.0009163 -0.0009704 -0.0010047 -0.0010456 -0.0010817 -0.0011190 -0.0011559]\n",
      "test：0.080000, test mean: 0.068846\n"
     ]
    },
    {
     "name": "stderr",
     "output_type": "stream",
     "text": [
      "\r",
      "  9%|▉         | 53/600 [4:51:26<54:28:11, 358.49s/it]"
     ]
    },
    {
     "name": "stdout",
     "output_type": "stream",
     "text": [
      "[0.8871698 0.1658491 0.0969811 0.0792453 0.0756604 0.0745283 0.0716981 0.0701887 0.0698113 0.0692453]\n",
      "[0.0000000 -0.0019158 -0.0014112 -0.0009331 -0.0009869 -0.0010214 -0.0010620 -0.0010980 -0.0011353 -0.0011721]\n",
      "test：0.090000, test mean: 0.069245\n"
     ]
    },
    {
     "name": "stderr",
     "output_type": "stream",
     "text": [
      "\r",
      "  9%|▉         | 54/600 [4:57:38<55:00:06, 362.65s/it]"
     ]
    },
    {
     "name": "stdout",
     "output_type": "stream",
     "text": [
      "[0.8870370 0.1666667 0.0972222 0.0792593 0.0757407 0.0744444 0.0716667 0.0701852 0.0698148 0.0692593]\n",
      "[0.0000000 -0.0018904 -0.0013708 -0.0009053 -0.0009594 -0.0009937 -0.0010341 -0.0010699 -0.0011069 -0.0011433]\n",
      "test：0.070000, test mean: 0.069259\n"
     ]
    },
    {
     "name": "stderr",
     "output_type": "stream",
     "text": [
      "\r",
      "  9%|▉         | 55/600 [5:03:32<54:28:58, 359.89s/it]"
     ]
    },
    {
     "name": "stdout",
     "output_type": "stream",
     "text": [
      "[0.8867273 0.1669091 0.0972727 0.0794545 0.0758182 0.0743636 0.0716364 0.0701818 0.0698182 0.0692727]\n",
      "[0.0000000 -0.0018917 -0.0013798 -0.0009204 -0.0009754 -0.0010098 -0.0010507 -0.0010870 -0.0011246 -0.0011615]\n",
      "test：0.070000, test mean: 0.069273\n"
     ]
    },
    {
     "name": "stderr",
     "output_type": "stream",
     "text": [
      "\r",
      "  9%|▉         | 56/600 [5:10:10<56:08:52, 371.57s/it]"
     ]
    },
    {
     "name": "stdout",
     "output_type": "stream",
     "text": [
      "[0.8876786 0.1660714 0.0971429 0.0796429 0.0758929 0.0744643 0.0716071 0.0701786 0.0698214 0.0692857]\n",
      "[0.0000000 -0.0019023 -0.0013802 -0.0009199 -0.0009754 -0.0010103 -0.0010514 -0.0010878 -0.0011256 -0.0011627]\n",
      "test：0.070000, test mean: 0.069286\n"
     ]
    },
    {
     "name": "stderr",
     "output_type": "stream",
     "text": [
      "\r",
      " 10%|▉         | 57/600 [5:16:35<56:36:48, 375.34s/it]"
     ]
    },
    {
     "name": "stdout",
     "output_type": "stream",
     "text": [
      "[0.8873684 0.1657895 0.0970175 0.0791228 0.0754386 0.0740351 0.0712281 0.0696491 0.0692982 0.0687719]\n",
      "[0.0000000 -0.0018842 -0.0013502 -0.0009006 -0.0009559 -0.0009910 -0.0010318 -0.0010680 -0.0011057 -0.0011426]\n",
      "test：0.040000, test mean: 0.068772\n"
     ]
    },
    {
     "name": "stderr",
     "output_type": "stream",
     "text": [
      "\r",
      " 10%|▉         | 58/600 [5:23:12<57:30:06, 381.93s/it]"
     ]
    },
    {
     "name": "stdout",
     "output_type": "stream",
     "text": [
      "[0.8875862 0.1660345 0.0974138 0.0796552 0.0758621 0.0744828 0.0717241 0.0701724 0.0698276 0.0693103]\n",
      "[0.0000000 -0.0019087 -0.0013616 -0.0009188 -0.0009750 -0.0010102 -0.0010524 -0.0010899 -0.0011291 -0.0011675]\n",
      "test：0.100000, test mean: 0.069310\n"
     ]
    },
    {
     "name": "stderr",
     "output_type": "stream",
     "text": [
      "\r",
      " 10%|▉         | 59/600 [5:30:13<59:08:32, 393.55s/it]"
     ]
    },
    {
     "name": "stdout",
     "output_type": "stream",
     "text": [
      "[0.8879661 0.1667797 0.0981356 0.0803390 0.0764407 0.0747458 0.0720339 0.0705085 0.0701695 0.0696610]\n",
      "[0.0000000 -0.0019264 -0.0013444 -0.0009108 -0.0009690 -0.0010064 -0.0010484 -0.0010857 -0.0011244 -0.0011623]\n",
      "test：0.090000, test mean: 0.069661\n"
     ]
    },
    {
     "name": "stderr",
     "output_type": "stream",
     "text": [
      "\r",
      " 10%|█         | 60/600 [5:36:42<58:49:26, 392.16s/it]"
     ]
    },
    {
     "name": "stdout",
     "output_type": "stream",
     "text": [
      "[0.8883333 0.1673333 0.0985000 0.0810000 0.0771667 0.0755000 0.0728333 0.0713333 0.0710000 0.0705000]\n",
      "[0.0000000 -0.0019190 -0.0013212 -0.0008951 -0.0009528 -0.0009899 -0.0010316 -0.0010687 -0.0011072 -0.0011449]\n",
      "test：0.120000, test mean: 0.070500\n"
     ]
    },
    {
     "name": "stderr",
     "output_type": "stream",
     "text": [
      "\r",
      " 10%|█         | 61/600 [5:43:06<58:21:53, 389.82s/it]"
     ]
    },
    {
     "name": "stdout",
     "output_type": "stream",
     "text": [
      "[0.8885246 0.1675410 0.0988525 0.0809836 0.0772131 0.0755738 0.0729508 0.0714754 0.0711475 0.0706557]\n",
      "[0.0000000 -0.0019100 -0.0013332 -0.0009009 -0.0009587 -0.0009959 -0.0010382 -0.0010760 -0.0011152 -0.0011537]\n",
      "test：0.080000, test mean: 0.070656\n"
     ]
    },
    {
     "name": "stderr",
     "output_type": "stream",
     "text": [
      "\r",
      " 10%|█         | 62/600 [5:48:41<55:48:04, 373.39s/it]"
     ]
    },
    {
     "name": "stdout",
     "output_type": "stream",
     "text": [
      "[0.8888709 0.1683871 0.0987097 0.0806452 0.0769355 0.0751613 0.0725806 0.0711290 0.0708064 0.0703226]\n",
      "[0.0000000 -0.0018993 -0.0012781 -0.0008524 -0.0009096 -0.0009463 -0.0009878 -0.0010248 -0.0010633 -0.0011014]\n",
      "test：0.050000, test mean: 0.070323\n"
     ]
    },
    {
     "name": "stderr",
     "output_type": "stream",
     "text": [
      "\r",
      " 10%|█         | 63/600 [5:54:20<54:10:59, 363.24s/it]"
     ]
    },
    {
     "name": "stdout",
     "output_type": "stream",
     "text": [
      "[0.8895238 0.1687302 0.0985714 0.0806349 0.0769841 0.0752381 0.0725397 0.0711111 0.0707936 0.0703175]\n",
      "[0.0000000 -0.0018875 -0.0012590 -0.0008422 -0.0008998 -0.0009374 -0.0009803 -0.0010181 -0.0010574 -0.0010962]\n",
      "test：0.070000, test mean: 0.070317\n"
     ]
    },
    {
     "name": "stderr",
     "output_type": "stream",
     "text": [
      "\r",
      " 11%|█         | 64/600 [5:59:56<52:51:24, 355.01s/it]"
     ]
    },
    {
     "name": "stdout",
     "output_type": "stream",
     "text": [
      "[0.8885937 0.1684375 0.0984375 0.0804687 0.0768750 0.0751562 0.0725000 0.0710937 0.0707812 0.0703125]\n",
      "[0.0000000 -0.0018732 -0.0012651 -0.0008361 -0.0008936 -0.0009314 -0.0009745 -0.0010125 -0.0010519 -0.0010908]\n",
      "test：0.070000, test mean: 0.070312\n"
     ]
    },
    {
     "name": "stderr",
     "output_type": "stream",
     "text": [
      "\r",
      " 11%|█         | 65/600 [6:05:34<51:58:04, 349.69s/it]"
     ]
    },
    {
     "name": "stdout",
     "output_type": "stream",
     "text": [
      "[0.8889231 0.1686154 0.0984615 0.0806154 0.0770769 0.0753846 0.0727692 0.0713846 0.0710769 0.0706154]\n",
      "[0.0000000 -0.0018660 -0.0012579 -0.0008152 -0.0008725 -0.0009100 -0.0009533 -0.0009916 -0.0010312 -0.0010703]\n",
      "test：0.090000, test mean: 0.070615\n"
     ]
    },
    {
     "name": "stderr",
     "output_type": "stream",
     "text": [
      "\r",
      " 11%|█         | 66/600 [6:11:17<51:34:39, 347.71s/it]"
     ]
    },
    {
     "name": "stdout",
     "output_type": "stream",
     "text": [
      "[0.8881818 0.1677273 0.0978788 0.0800000 0.0765151 0.0746970 0.0721212 0.0707576 0.0704545 0.0700000]\n",
      "[0.0000000 -0.0018727 -0.0012691 -0.0008247 -0.0008804 -0.0009188 -0.0009614 -0.0009991 -0.0010381 -0.0010765]\n",
      "test：0.030000, test mean: 0.070000\n"
     ]
    },
    {
     "name": "stderr",
     "output_type": "stream",
     "text": [
      "\r",
      " 11%|█         | 67/600 [6:16:42<50:27:58, 340.86s/it]"
     ]
    },
    {
     "name": "stdout",
     "output_type": "stream",
     "text": [
      "[0.8882089 0.1680597 0.0983582 0.0802985 0.0768657 0.0750746 0.0725373 0.0711940 0.0708955 0.0704478]\n",
      "[0.0000000 -0.0018554 -0.0012441 -0.0007890 -0.0008445 -0.0008832 -0.0009256 -0.0009631 -0.0010022 -0.0010406]\n",
      "test：0.100000, test mean: 0.070448\n"
     ]
    },
    {
     "name": "stderr",
     "output_type": "stream",
     "text": [
      "\r",
      " 11%|█▏        | 68/600 [6:22:19<50:13:18, 339.85s/it]"
     ]
    },
    {
     "name": "stdout",
     "output_type": "stream",
     "text": [
      "[0.8875000 0.1670588 0.0976471 0.0798529 0.0764706 0.0747059 0.0722059 0.0708824 0.0705882 0.0700000]\n",
      "[0.0000000 -0.0018392 -0.0012003 -0.0007521 -0.0008067 -0.0008448 -0.0008865 -0.0009237 -0.0009623 -0.0010002]\n",
      "test：0.040000, test mean: 0.070000\n"
     ]
    },
    {
     "name": "stderr",
     "output_type": "stream",
     "text": [
      "\r",
      " 12%|█▏        | 69/600 [6:27:59<50:08:15, 339.92s/it]"
     ]
    },
    {
     "name": "stdout",
     "output_type": "stream",
     "text": [
      "[0.8873913 0.1671014 0.0973913 0.0797101 0.0763768 0.0746377 0.0721739 0.0708696 0.0705797 0.0700000]\n",
      "[0.0000000 -0.0018515 -0.0012056 -0.0007653 -0.0008198 -0.0008579 -0.0008997 -0.0009369 -0.0009758 -0.0010139]\n",
      "test：0.070000, test mean: 0.070000\n"
     ]
    },
    {
     "name": "stderr",
     "output_type": "stream",
     "text": [
      "\r",
      " 12%|█▏        | 70/600 [6:33:32<49:43:23, 337.74s/it]"
     ]
    },
    {
     "name": "stdout",
     "output_type": "stream",
     "text": [
      "[0.8871428 0.1670000 0.0980000 0.0802857 0.0770000 0.0752857 0.0727143 0.0714286 0.0711429 0.0705714]\n",
      "[0.0000000 -0.0018528 -0.0012147 -0.0007820 -0.0008368 -0.0008762 -0.0009182 -0.0009557 -0.0009952 -0.0010338]\n",
      "test：0.110000, test mean: 0.070571\n"
     ]
    },
    {
     "name": "stderr",
     "output_type": "stream",
     "text": [
      "\r",
      " 12%|█▏        | 71/600 [6:39:18<50:01:17, 340.41s/it]"
     ]
    },
    {
     "name": "stdout",
     "output_type": "stream",
     "text": [
      "[0.8869014 0.1671831 0.0980282 0.0807042 0.0771831 0.0754930 0.0729577 0.0716901 0.0714084 0.0708451]\n",
      "[0.0000000 -0.0018648 -0.0012090 -0.0007796 -0.0008372 -0.0008766 -0.0009186 -0.0009563 -0.0009958 -0.0010344]\n",
      "test：0.090000, test mean: 0.070845\n"
     ]
    },
    {
     "name": "stderr",
     "output_type": "stream",
     "text": [
      "\r",
      " 12%|█▏        | 72/600 [6:44:56<49:48:19, 339.58s/it]"
     ]
    },
    {
     "name": "stdout",
     "output_type": "stream",
     "text": [
      "[0.8873611 0.1665278 0.0975000 0.0801389 0.0766667 0.0750000 0.0725000 0.0712500 0.0709722 0.0704167]\n",
      "[0.0000000 -0.0018709 -0.0012122 -0.0007814 -0.0008381 -0.0008770 -0.0009186 -0.0009560 -0.0009946 -0.0010327]\n",
      "test：0.040000, test mean: 0.070417\n"
     ]
    },
    {
     "name": "stderr",
     "output_type": "stream",
     "text": [
      "\r",
      " 12%|█▏        | 73/600 [6:50:40<49:53:08, 340.77s/it]"
     ]
    },
    {
     "name": "stdout",
     "output_type": "stream",
     "text": [
      "[0.8872603 0.1653425 0.0967123 0.0795890 0.0761644 0.0745205 0.0720548 0.0708219 0.0705479 0.0700000]\n",
      "[0.0000000 -0.0018814 -0.0012104 -0.0007857 -0.0008416 -0.0008800 -0.0009211 -0.0009580 -0.0009961 -0.0010338]\n",
      "test：0.040000, test mean: 0.070000\n"
     ]
    },
    {
     "name": "stderr",
     "output_type": "stream",
     "text": [
      "\r",
      " 12%|█▏        | 74/600 [6:56:11<49:23:22, 338.03s/it]"
     ]
    },
    {
     "name": "stdout",
     "output_type": "stream",
     "text": [
      "[0.8881081 0.1654054 0.0966216 0.0797297 0.0762162 0.0745946 0.0721622 0.0709459 0.0706757 0.0701351]\n",
      "[0.0000000 -0.0018828 -0.0012189 -0.0008006 -0.0008563 -0.0008947 -0.0009358 -0.0009729 -0.0010111 -0.0010489]\n",
      "test：0.080000, test mean: 0.070135\n"
     ]
    },
    {
     "name": "stderr",
     "output_type": "stream",
     "text": [
      "\r",
      " 12%|█▎        | 75/600 [7:02:01<49:47:57, 341.48s/it]"
     ]
    },
    {
     "name": "stdout",
     "output_type": "stream",
     "text": [
      "[0.8880000 0.1649333 0.0968000 0.0797333 0.0761333 0.0745333 0.0721333 0.0709333 0.0706667 0.0701333]\n",
      "[0.0000000 -0.0018900 -0.0012140 -0.0007932 -0.0008491 -0.0008871 -0.0009284 -0.0009654 -0.0010037 -0.0010414]\n",
      "test：0.070000, test mean: 0.070133\n"
     ]
    },
    {
     "name": "stderr",
     "output_type": "stream",
     "text": [
      "\r",
      " 13%|█▎        | 76/600 [7:07:47<49:55:22, 342.98s/it]"
     ]
    },
    {
     "name": "stdout",
     "output_type": "stream",
     "text": [
      "[0.8876316 0.1643421 0.0965789 0.0796053 0.0759211 0.0743421 0.0719737 0.0707895 0.0705263 0.0698684]\n",
      "[0.0000000 -0.0018901 -0.0012144 -0.0007888 -0.0008450 -0.0008826 -0.0009234 -0.0009601 -0.0009981 -0.0010354]\n",
      "test：0.050000, test mean: 0.069868\n"
     ]
    },
    {
     "name": "stderr",
     "output_type": "stream",
     "text": [
      "\r",
      " 13%|█▎        | 77/600 [7:13:24<49:33:02, 341.08s/it]"
     ]
    },
    {
     "name": "stdout",
     "output_type": "stream",
     "text": [
      "[0.8871428 0.1638961 0.0966234 0.0797403 0.0759740 0.0744156 0.0720779 0.0709091 0.0706493 0.0698701]\n",
      "[0.0000000 -0.0018891 -0.0012344 -0.0008028 -0.0008593 -0.0008971 -0.0009375 -0.0009744 -0.0010127 -0.0010503]\n",
      "test：0.070000, test mean: 0.069870\n"
     ]
    },
    {
     "name": "stderr",
     "output_type": "stream",
     "text": [
      "\r",
      " 13%|█▎        | 78/600 [7:18:43<48:28:47, 334.34s/it]"
     ]
    },
    {
     "name": "stdout",
     "output_type": "stream",
     "text": [
      "[0.8870513 0.1628205 0.0957692 0.0789744 0.0751282 0.0735897 0.0712820 0.0701282 0.0698718 0.0691026]\n",
      "[0.0000000 -0.0018818 -0.0012342 -0.0008008 -0.0008580 -0.0008953 -0.0009352 -0.0009716 -0.0010095 -0.0010466]\n",
      "test：0.010000, test mean: 0.069103\n"
     ]
    },
    {
     "name": "stderr",
     "output_type": "stream",
     "text": [
      "\r",
      " 13%|█▎        | 79/600 [7:24:40<49:23:28, 341.28s/it]"
     ]
    },
    {
     "name": "stdout",
     "output_type": "stream",
     "text": [
      "[0.8868354 0.1620253 0.0953165 0.0786076 0.0748101 0.0731646 0.0708861 0.0697468 0.0694937 0.0687342]\n",
      "[0.0000000 -0.0018975 -0.0012595 -0.0008262 -0.0008828 -0.0009198 -0.0009594 -0.0009955 -0.0010330 -0.0010698]\n",
      "test：0.040000, test mean: 0.068734\n"
     ]
    },
    {
     "name": "stderr",
     "output_type": "stream",
     "text": [
      "\r",
      " 13%|█▎        | 80/600 [7:30:23<49:21:52, 341.75s/it]"
     ]
    },
    {
     "name": "stdout",
     "output_type": "stream",
     "text": [
      "[0.8866250 0.1616250 0.0948750 0.0783750 0.0745000 0.0727500 0.0705000 0.0693750 0.0691250 0.0683750]\n",
      "[0.0000000 -0.0019070 -0.0012670 -0.0008397 -0.0008963 -0.0009333 -0.0009730 -0.0010093 -0.0010467 -0.0010834]\n",
      "test：0.040000, test mean: 0.068375\n"
     ]
    },
    {
     "name": "stderr",
     "output_type": "stream",
     "text": [
      "\r",
      " 14%|█▎        | 81/600 [7:35:53<48:45:17, 338.18s/it]"
     ]
    },
    {
     "name": "stdout",
     "output_type": "stream",
     "text": [
      "[0.8862963 0.1607407 0.0944444 0.0777778 0.0738272 0.0720988 0.0697531 0.0686420 0.0683951 0.0676543]\n",
      "[0.0000000 -0.0019177 -0.0012767 -0.0008337 -0.0008903 -0.0009268 -0.0009619 -0.0009978 -0.0010349 -0.0010711]\n",
      "test：0.010000, test mean: 0.067654\n"
     ]
    },
    {
     "name": "stderr",
     "output_type": "stream",
     "text": [
      "\r",
      " 14%|█▎        | 82/600 [7:41:19<48:08:53, 334.62s/it]"
     ]
    },
    {
     "name": "stdout",
     "output_type": "stream",
     "text": [
      "[0.8860975 0.1614634 0.0946341 0.0779268 0.0740244 0.0723171 0.0700000 0.0689024 0.0686585 0.0679268]\n",
      "[0.0000000 -0.0019154 -0.0012683 -0.0008118 -0.0008683 -0.0009049 -0.0009404 -0.0009768 -0.0010143 -0.0010510]\n",
      "test：0.090000, test mean: 0.067927\n"
     ]
    },
    {
     "name": "stderr",
     "output_type": "stream",
     "text": [
      "\r",
      " 14%|█▍        | 83/600 [7:46:44<47:37:36, 331.64s/it]"
     ]
    },
    {
     "name": "stdout",
     "output_type": "stream",
     "text": [
      "[0.8859036 0.1614458 0.0945783 0.0778313 0.0738554 0.0721687 0.0698795 0.0687952 0.0684337 0.0677108]\n",
      "[0.0000000 -0.0019147 -0.0012753 -0.0008122 -0.0008694 -0.0009063 -0.0009421 -0.0009789 -0.0010168 -0.0010539]\n",
      "test：0.050000, test mean: 0.067711\n"
     ]
    },
    {
     "name": "stderr",
     "output_type": "stream",
     "text": [
      "\r",
      " 14%|█▍        | 84/600 [7:52:19<47:41:05, 332.68s/it]"
     ]
    },
    {
     "name": "stdout",
     "output_type": "stream",
     "text": [
      "[0.8864286 0.1615476 0.0942857 0.0776190 0.0735714 0.0719048 0.0696429 0.0685714 0.0682143 0.0675000]\n",
      "[0.0000000 -0.0019051 -0.0012582 -0.0008020 -0.0008586 -0.0008951 -0.0009306 -0.0009670 -0.0010045 -0.0010412]\n",
      "test：0.050000, test mean: 0.067500\n"
     ]
    },
    {
     "name": "stderr",
     "output_type": "stream",
     "text": [
      "\r",
      " 14%|█▍        | 85/600 [7:57:46<47:21:42, 331.07s/it]"
     ]
    },
    {
     "name": "stdout",
     "output_type": "stream",
     "text": [
      "[0.8872941 0.1618823 0.0942353 0.0776471 0.0736471 0.0718824 0.0696471 0.0685882 0.0682353 0.0675294]\n",
      "[0.0000000 -0.0019090 -0.0012601 -0.0008098 -0.0008660 -0.0009022 -0.0009374 -0.0009734 -0.0010106 -0.0010469]\n",
      "test：0.070000, test mean: 0.067529\n"
     ]
    },
    {
     "name": "stderr",
     "output_type": "stream",
     "text": [
      "\r",
      " 14%|█▍        | 86/600 [8:03:30<47:49:34, 334.97s/it]"
     ]
    },
    {
     "name": "stdout",
     "output_type": "stream",
     "text": [
      "[0.8876744 0.1619767 0.0941860 0.0775581 0.0736046 0.0718605 0.0696512 0.0686046 0.0682558 0.0675581]\n",
      "[0.0000000 -0.0018933 -0.0012515 -0.0008081 -0.0008658 -0.0009035 -0.0009398 -0.0009778 -0.0010162 -0.0010536]\n",
      "test：0.070000, test mean: 0.067558\n"
     ]
    },
    {
     "name": "stderr",
     "output_type": "stream",
     "text": [
      "\r",
      " 14%|█▍        | 87/600 [8:09:11<47:58:15, 336.64s/it]"
     ]
    },
    {
     "name": "stdout",
     "output_type": "stream",
     "text": [
      "[0.8871264 0.1621839 0.0940230 0.0775862 0.0736782 0.0719540 0.0697701 0.0687356 0.0683908 0.0677011]\n",
      "[0.0000000 -0.0018823 -0.0012511 -0.0008130 -0.0008702 -0.0009073 -0.0009430 -0.0009804 -0.0010183 -0.0010550]\n",
      "test：0.080000, test mean: 0.067701\n"
     ]
    },
    {
     "name": "stderr",
     "output_type": "stream",
     "text": [
      "\r",
      " 15%|█▍        | 88/600 [8:14:28<47:02:20, 330.74s/it]"
     ]
    },
    {
     "name": "stdout",
     "output_type": "stream",
     "text": [
      "[0.8876136 0.1628409 0.0942045 0.0778409 0.0738636 0.0721591 0.0700000 0.0689773 0.0686364 0.0679545]\n",
      "[0.0000000 -0.0018880 -0.0012623 -0.0008286 -0.0008858 -0.0009229 -0.0009590 -0.0009968 -0.0010349 -0.0010719]\n",
      "test：0.090000, test mean: 0.067955\n"
     ]
    },
    {
     "name": "stderr",
     "output_type": "stream",
     "text": [
      "\r",
      " 15%|█▍        | 89/600 [8:20:20<47:51:06, 337.12s/it]"
     ]
    },
    {
     "name": "stdout",
     "output_type": "stream",
     "text": [
      "[0.8879775 0.1619101 0.0935955 0.0773034 0.0733708 0.0716854 0.0695506 0.0685393 0.0682022 0.0675281]\n",
      "[0.0000000 -0.0018922 -0.0012719 -0.0008272 -0.0008844 -0.0009211 -0.0009574 -0.0009953 -0.0010335 -0.0010708]\n",
      "test：0.030000, test mean: 0.067528\n"
     ]
    },
    {
     "name": "stderr",
     "output_type": "stream",
     "text": [
      "\r",
      " 15%|█▌        | 90/600 [8:26:15<48:30:48, 342.45s/it]"
     ]
    },
    {
     "name": "stdout",
     "output_type": "stream",
     "text": [
      "[0.8872222 0.1617778 0.0934444 0.0773333 0.0734444 0.0717778 0.0696667 0.0686667 0.0683333 0.0676667]\n",
      "[0.0000000 -0.0018996 -0.0012845 -0.0008452 -0.0009020 -0.0009385 -0.0009750 -0.0010130 -0.0010515 -0.0010890]\n",
      "test：0.080000, test mean: 0.067667\n"
     ]
    },
    {
     "name": "stderr",
     "output_type": "stream",
     "text": [
      "\r",
      " 15%|█▌        | 91/600 [8:32:25<49:35:32, 350.75s/it]"
     ]
    },
    {
     "name": "stdout",
     "output_type": "stream",
     "text": [
      "[0.8868132 0.1614286 0.0934066 0.0772527 0.0734066 0.0716483 0.0694505 0.0684615 0.0681319 0.0674725]\n",
      "[0.0000000 -0.0018940 -0.0012659 -0.0008199 -0.0008767 -0.0009134 -0.0009503 -0.0009883 -0.0010266 -0.0010639]\n",
      "test：0.050000, test mean: 0.067473\n"
     ]
    },
    {
     "name": "stderr",
     "output_type": "stream",
     "text": [
      "\r",
      " 15%|█▌        | 92/600 [8:37:42<48:04:17, 340.66s/it]"
     ]
    },
    {
     "name": "stdout",
     "output_type": "stream",
     "text": [
      "[0.8867391 0.1620652 0.0940217 0.0777174 0.0739130 0.0721739 0.0700000 0.0690217 0.0686957 0.0680435]\n",
      "[0.0000000 -0.0018944 -0.0012577 -0.0008111 -0.0008676 -0.0009041 -0.0009409 -0.0009787 -0.0010168 -0.0010539]\n",
      "test：0.120000, test mean: 0.068043\n"
     ]
    },
    {
     "name": "stderr",
     "output_type": "stream",
     "text": [
      "\r",
      " 16%|█▌        | 93/600 [8:43:05<47:15:00, 335.50s/it]"
     ]
    },
    {
     "name": "stdout",
     "output_type": "stream",
     "text": [
      "[0.8861290 0.1619355 0.0938710 0.0775269 0.0737634 0.0720430 0.0698925 0.0689247 0.0686021 0.0679570]\n",
      "[0.0000000 -0.0018823 -0.0012474 -0.0008054 -0.0008624 -0.0008991 -0.0009368 -0.0009755 -0.0010146 -0.0010527]\n",
      "test：0.060000, test mean: 0.067957\n"
     ]
    },
    {
     "name": "stderr",
     "output_type": "stream",
     "text": [
      "\r",
      " 16%|█▌        | 94/600 [8:49:02<48:03:34, 341.93s/it]"
     ]
    },
    {
     "name": "stdout",
     "output_type": "stream",
     "text": [
      "[0.8867021 0.1623404 0.0940426 0.0774468 0.0737234 0.0720213 0.0698936 0.0689362 0.0686170 0.0679787]\n",
      "[0.0000000 -0.0018824 -0.0012619 -0.0008272 -0.0008840 -0.0009209 -0.0009587 -0.0009974 -0.0010365 -0.0010748]\n",
      "test：0.070000, test mean: 0.067979\n"
     ]
    },
    {
     "name": "stderr",
     "output_type": "stream",
     "text": [
      "\r",
      " 16%|█▌        | 95/600 [8:54:55<48:26:22, 345.31s/it]"
     ]
    },
    {
     "name": "stdout",
     "output_type": "stream",
     "text": [
      "[0.8866316 0.1624210 0.0942105 0.0776842 0.0740000 0.0721053 0.0700000 0.0690526 0.0687368 0.0681053]\n",
      "[0.0000000 -0.0018861 -0.0012669 -0.0008355 -0.0008920 -0.0009294 -0.0009669 -0.0010052 -0.0010440 -0.0010820]\n",
      "test：0.080000, test mean: 0.068105\n"
     ]
    },
    {
     "name": "stderr",
     "output_type": "stream",
     "text": [
      "\r",
      " 16%|█▌        | 96/600 [8:59:47<46:04:36, 329.12s/it]"
     ]
    },
    {
     "name": "stdout",
     "output_type": "stream",
     "text": [
      "[0.8864583 0.1620833 0.0939583 0.0775000 0.0738542 0.0719792 0.0698958 0.0689583 0.0686458 0.0680208]\n",
      "[0.0000000 -0.0018985 -0.0012765 -0.0008371 -0.0008933 -0.0009305 -0.0009677 -0.0010057 -0.0010442 -0.0010821]\n",
      "test：0.060000, test mean: 0.068021\n"
     ]
    },
    {
     "name": "stderr",
     "output_type": "stream",
     "text": [
      "\r",
      " 16%|█▌        | 97/600 [9:05:42<47:03:34, 336.81s/it]"
     ]
    },
    {
     "name": "stdout",
     "output_type": "stream",
     "text": [
      "[0.8864948 0.1621649 0.0941237 0.0776289 0.0740206 0.0720619 0.0700000 0.0690722 0.0687629 0.0681443]\n",
      "[0.0000000 -0.0018976 -0.0012739 -0.0008311 -0.0008875 -0.0009245 -0.0009618 -0.0009998 -0.0010384 -0.0010764]\n",
      "test：0.080000, test mean: 0.068144\n"
     ]
    },
    {
     "name": "stderr",
     "output_type": "stream",
     "text": [
      "\r",
      " 16%|█▋        | 98/600 [9:11:29<47:24:15, 339.95s/it]"
     ]
    },
    {
     "name": "stdout",
     "output_type": "stream",
     "text": [
      "[0.8863265 0.1624490 0.0946939 0.0779592 0.0742857 0.0723469 0.0703061 0.0693878 0.0690816 0.0684694]\n",
      "[0.0000000 -0.0018868 -0.0012654 -0.0008112 -0.0008680 -0.0009048 -0.0009424 -0.0009807 -0.0010195 -0.0010579]\n",
      "test：0.100000, test mean: 0.068469\n"
     ]
    },
    {
     "name": "stderr",
     "output_type": "stream",
     "text": [
      "\r",
      " 16%|█▋        | 99/600 [9:17:13<47:28:39, 341.16s/it]"
     ]
    },
    {
     "name": "stdout",
     "output_type": "stream",
     "text": [
      "[0.8865656 0.1624242 0.0944444 0.0778788 0.0741414 0.0722222 0.0702020 0.0692929 0.0689899 0.0683838]\n",
      "[0.0000000 -0.0018823 -0.0012636 -0.0008145 -0.0008707 -0.0009072 -0.0009443 -0.0009822 -0.0010205 -0.0010585]\n",
      "test：0.060000, test mean: 0.068384\n"
     ]
    },
    {
     "name": "stderr",
     "output_type": "stream",
     "text": [
      "\r",
      " 17%|█▋        | 100/600 [9:22:55<47:25:46, 341.49s/it]"
     ]
    },
    {
     "name": "stdout",
     "output_type": "stream",
     "text": [
      "[0.8867000 0.1628000 0.0942000 0.0776000 0.0739000 0.0720000 0.0700000 0.0691000 0.0688000 0.0682000]\n",
      "[0.0000000 -0.0018831 -0.0012462 -0.0007894 -0.0008453 -0.0008817 -0.0009186 -0.0009563 -0.0009946 -0.0010324]\n",
      "test：0.050000, test mean: 0.068200\n"
     ]
    },
    {
     "name": "stderr",
     "output_type": "stream",
     "text": [
      "\r",
      " 17%|█▋        | 101/600 [9:29:06<48:34:48, 350.48s/it]"
     ]
    },
    {
     "name": "stdout",
     "output_type": "stream",
     "text": [
      "[0.8862376 0.1625743 0.0941584 0.0774257 0.0737624 0.0718812 0.0699010 0.0690099 0.0687129 0.0681188]\n",
      "[0.0000000 -0.0018728 -0.0012296 -0.0007669 -0.0008224 -0.0008585 -0.0008952 -0.0009326 -0.0009706 -0.0010081]\n",
      "test：0.060000, test mean: 0.068119\n"
     ]
    },
    {
     "name": "stderr",
     "output_type": "stream",
     "text": [
      "\r",
      " 17%|█▋        | 102/600 [9:35:33<49:58:18, 361.24s/it]"
     ]
    },
    {
     "name": "stdout",
     "output_type": "stream",
     "text": [
      "[0.8863725 0.1621569 0.0938235 0.0771569 0.0735294 0.0716667 0.0697059 0.0688235 0.0685294 0.0679412]\n",
      "[0.0000000 -0.0018540 -0.0012131 -0.0007552 -0.0008103 -0.0008463 -0.0008827 -0.0009199 -0.0009578 -0.0009951]\n",
      "test：0.050000, test mean: 0.067941\n"
     ]
    },
    {
     "name": "stderr",
     "output_type": "stream",
     "text": [
      "\r",
      " 17%|█▋        | 103/600 [9:41:19<49:13:35, 356.57s/it]"
     ]
    },
    {
     "name": "stdout",
     "output_type": "stream",
     "text": [
      "[0.8862136 0.1621359 0.0938835 0.0771845 0.0735922 0.0716505 0.0697087 0.0688349 0.0685437 0.0679612]\n",
      "[0.0000000 -0.0018603 -0.0012292 -0.0007775 -0.0008327 -0.0008690 -0.0009056 -0.0009429 -0.0009808 -0.0010182]\n",
      "test：0.070000, test mean: 0.067961\n"
     ]
    },
    {
     "name": "stderr",
     "output_type": "stream",
     "text": [
      "\r",
      " 17%|█▋        | 104/600 [9:47:01<48:33:39, 352.46s/it]"
     ]
    },
    {
     "name": "stdout",
     "output_type": "stream",
     "text": [
      "[0.8867308 0.1624038 0.0938462 0.0773077 0.0737500 0.0718269 0.0699038 0.0690385 0.0687500 0.0681731]\n",
      "[0.0000000 -0.0018609 -0.0012365 -0.0007895 -0.0008443 -0.0008806 -0.0009171 -0.0009544 -0.0009922 -0.0010295]\n",
      "test：0.090000, test mean: 0.068173\n"
     ]
    },
    {
     "name": "stderr",
     "output_type": "stream",
     "text": [
      "\r",
      " 18%|█▊        | 105/600 [9:52:53<48:25:11, 352.14s/it]"
     ]
    },
    {
     "name": "stdout",
     "output_type": "stream",
     "text": [
      "[0.8868571 0.1618095 0.0935238 0.0771429 0.0735238 0.0716190 0.0697143 0.0688571 0.0685714 0.0680000]\n",
      "[0.0000000 -0.0018811 -0.0012590 -0.0008168 -0.0008716 -0.0009076 -0.0009441 -0.0009813 -0.0010188 -0.0010559]\n",
      "test：0.050000, test mean: 0.068000\n"
     ]
    },
    {
     "name": "stderr",
     "output_type": "stream",
     "text": [
      "\r",
      " 18%|█▊        | 106/600 [9:58:25<47:29:42, 346.12s/it]"
     ]
    },
    {
     "name": "stdout",
     "output_type": "stream",
     "text": [
      "[0.8867924 0.1614151 0.0935849 0.0770755 0.0733962 0.0715094 0.0696226 0.0687736 0.0684906 0.0679245]\n",
      "[0.0000000 -0.0018950 -0.0012786 -0.0008392 -0.0008932 -0.0009290 -0.0009653 -0.0010022 -0.0010393 -0.0010762]\n",
      "test：0.060000, test mean: 0.067925\n"
     ]
    },
    {
     "name": "stderr",
     "output_type": "stream",
     "text": [
      "\r",
      " 18%|█▊        | 107/600 [10:03:47<46:23:56, 338.82s/it]"
     ]
    },
    {
     "name": "stdout",
     "output_type": "stream",
     "text": [
      "[0.8868224 0.1614953 0.0942056 0.0775701 0.0739252 0.0720561 0.0700935 0.0692523 0.0689720 0.0684112]\n",
      "[0.0000000 -0.0018987 -0.0012821 -0.0008359 -0.0008895 -0.0009250 -0.0009610 -0.0009974 -0.0010343 -0.0010708]\n",
      "test：0.120000, test mean: 0.068411\n"
     ]
    },
    {
     "name": "stderr",
     "output_type": "stream",
     "text": [
      "\r",
      " 18%|█▊        | 108/600 [10:09:26<46:20:04, 339.03s/it]"
     ]
    },
    {
     "name": "stdout",
     "output_type": "stream",
     "text": [
      "[0.8870370 0.1612037 0.0940741 0.0773148 0.0737037 0.0718518 0.0699074 0.0690741 0.0687963 0.0682407]\n",
      "[0.0000000 -0.0018928 -0.0012774 -0.0008321 -0.0008853 -0.0009204 -0.0009560 -0.0009920 -0.0010285 -0.0010646]\n",
      "test：0.050000, test mean: 0.068241\n"
     ]
    },
    {
     "name": "stderr",
     "output_type": "stream",
     "text": [
      "\r",
      " 18%|█▊        | 109/600 [10:15:36<47:30:51, 348.37s/it]"
     ]
    },
    {
     "name": "stdout",
     "output_type": "stream",
     "text": [
      "[0.8872477 0.1611009 0.0939450 0.0773394 0.0737615 0.0719266 0.0700000 0.0691743 0.0688991 0.0683486]\n",
      "[0.0000000 -0.0018809 -0.0012732 -0.0008318 -0.0008844 -0.0009193 -0.0009547 -0.0009905 -0.0010266 -0.0010624]\n",
      "test：0.080000, test mean: 0.068349\n"
     ]
    },
    {
     "name": "stderr",
     "output_type": "stream",
     "text": [
      "\r",
      " 18%|█▊        | 110/600 [10:21:23<47:20:15, 347.79s/it]"
     ]
    },
    {
     "name": "stdout",
     "output_type": "stream",
     "text": [
      "[0.8875454 0.1613636 0.0939091 0.0773636 0.0738182 0.0720000 0.0700909 0.0691818 0.0689091 0.0683636]\n",
      "[0.0000000 -0.0018813 -0.0012738 -0.0008368 -0.0008889 -0.0009235 -0.0009588 -0.0009945 -0.0010305 -0.0010662]\n",
      "test：0.070000, test mean: 0.068364\n"
     ]
    },
    {
     "name": "stderr",
     "output_type": "stream",
     "text": [
      "\r",
      " 18%|█▊        | 111/600 [10:27:12<47:19:09, 348.36s/it]"
     ]
    },
    {
     "name": "stdout",
     "output_type": "stream",
     "text": [
      "[0.8877477 0.1614414 0.0941441 0.0775676 0.0740541 0.0722523 0.0703604 0.0694595 0.0691892 0.0686486]\n",
      "[0.0000000 -0.0018852 -0.0012748 -0.0008375 -0.0008895 -0.0009241 -0.0009593 -0.0009950 -0.0010310 -0.0010667]\n",
      "test：0.100000, test mean: 0.068649\n"
     ]
    },
    {
     "name": "stderr",
     "output_type": "stream",
     "text": [
      "\r",
      " 19%|█▊        | 112/600 [10:33:23<48:08:02, 355.09s/it]"
     ]
    },
    {
     "name": "stdout",
     "output_type": "stream",
     "text": [
      "[0.8878571 0.1612500 0.0938393 0.0773214 0.0738393 0.0720536 0.0700893 0.0691964 0.0689286 0.0683929]\n",
      "[0.0000000 -0.0018736 -0.0012660 -0.0008338 -0.0008856 -0.0009202 -0.0009557 -0.0009912 -0.0010270 -0.0010625]\n",
      "test：0.040000, test mean: 0.068393\n"
     ]
    },
    {
     "name": "stderr",
     "output_type": "stream",
     "text": [
      "\r",
      " 19%|█▉        | 113/600 [10:39:19<48:03:25, 355.25s/it]"
     ]
    },
    {
     "name": "stdout",
     "output_type": "stream",
     "text": [
      "[0.8876991 0.1615044 0.0939823 0.0776106 0.0741593 0.0723009 0.0703540 0.0694690 0.0692035 0.0686726]\n",
      "[0.0000000 -0.0018674 -0.0012604 -0.0008311 -0.0008828 -0.0009176 -0.0009533 -0.0009889 -0.0010247 -0.0010603]\n",
      "test：0.100000, test mean: 0.068673\n"
     ]
    },
    {
     "name": "stderr",
     "output_type": "stream",
     "text": [
      "\r",
      " 19%|█▉        | 114/600 [10:44:54<47:09:41, 349.35s/it]"
     ]
    },
    {
     "name": "stdout",
     "output_type": "stream",
     "text": [
      "[0.8878070 0.1614035 0.0937719 0.0775439 0.0741228 0.0722807 0.0703509 0.0694737 0.0692105 0.0686842]\n",
      "[0.0000000 -0.0018826 -0.0012608 -0.0008354 -0.0008866 -0.0009212 -0.0009567 -0.0009921 -0.0010276 -0.0010629]\n",
      "test：0.070000, test mean: 0.068684\n"
     ]
    },
    {
     "name": "stderr",
     "output_type": "stream",
     "text": [
      "\r",
      " 19%|█▉        | 115/600 [10:50:32<46:34:10, 345.67s/it]"
     ]
    },
    {
     "name": "stdout",
     "output_type": "stream",
     "text": [
      "[0.8880000 0.1615652 0.0935652 0.0774783 0.0740870 0.0722609 0.0703478 0.0694783 0.0692174 0.0686957]\n",
      "[0.0000000 -0.0018817 -0.0012543 -0.0008331 -0.0008843 -0.0009186 -0.0009542 -0.0009896 -0.0010252 -0.0010606]\n",
      "test：0.070000, test mean: 0.068696\n"
     ]
    },
    {
     "name": "stderr",
     "output_type": "stream",
     "text": [
      "\r",
      " 19%|█▉        | 116/600 [10:56:12<46:14:52, 343.99s/it]"
     ]
    },
    {
     "name": "stdout",
     "output_type": "stream",
     "text": [
      "[0.8879310 0.1613793 0.0934483 0.0773276 0.0739655 0.0721552 0.0702586 0.0693965 0.0691379 0.0686207]\n",
      "[0.0000000 -0.0018848 -0.0012440 -0.0008274 -0.0008781 -0.0009121 -0.0009473 -0.0009824 -0.0010176 -0.0010527]\n",
      "test：0.060000, test mean: 0.068621\n"
     ]
    },
    {
     "name": "stderr",
     "output_type": "stream",
     "text": [
      "\r",
      " 20%|█▉        | 117/600 [11:01:58<46:15:59, 344.84s/it]"
     ]
    },
    {
     "name": "stdout",
     "output_type": "stream",
     "text": [
      "[0.8876923 0.1615385 0.0935043 0.0774359 0.0741026 0.0723077 0.0704273 0.0695726 0.0693162 0.0688034]\n",
      "[0.0000000 -0.0018967 -0.0012421 -0.0008297 -0.0008801 -0.0009142 -0.0009499 -0.0009854 -0.0010212 -0.0010569]\n",
      "test：0.090000, test mean: 0.068803\n"
     ]
    },
    {
     "name": "stderr",
     "output_type": "stream",
     "text": [
      "\r",
      " 20%|█▉        | 118/600 [11:07:48<46:22:33, 346.38s/it]"
     ]
    },
    {
     "name": "stdout",
     "output_type": "stream",
     "text": [
      "[0.8879661 0.1612712 0.0934746 0.0773729 0.0740678 0.0722034 0.0703390 0.0694915 0.0692373 0.0687288]\n",
      "[0.0000000 -0.0018928 -0.0012423 -0.0008346 -0.0008859 -0.0009210 -0.0009577 -0.0009940 -0.0010306 -0.0010671]\n",
      "test：0.060000, test mean: 0.068729\n"
     ]
    },
    {
     "name": "stderr",
     "output_type": "stream",
     "text": [
      "\r",
      " 20%|█▉        | 119/600 [11:14:01<47:20:52, 354.37s/it]"
     ]
    },
    {
     "name": "stdout",
     "output_type": "stream",
     "text": [
      "[0.8880672 0.1612605 0.0933613 0.0773950 0.0740336 0.0721849 0.0703361 0.0694958 0.0692437 0.0687395]\n",
      "[0.0000000 -0.0018984 -0.0012505 -0.0008474 -0.0008898 -0.0009246 -0.0009611 -0.0009973 -0.0010336 -0.0010698]\n",
      "test：0.070000, test mean: 0.068739\n"
     ]
    },
    {
     "name": "stderr",
     "output_type": "stream",
     "text": [
      "\r",
      " 20%|██        | 120/600 [11:20:13<47:55:32, 359.44s/it]"
     ]
    },
    {
     "name": "stdout",
     "output_type": "stream",
     "text": [
      "[0.8881666 0.1607500 0.0931667 0.0772500 0.0739167 0.0720833 0.0702500 0.0694167 0.0691667 0.0686667]\n",
      "[0.0000000 -0.0018997 -0.0012580 -0.0008525 -0.0008951 -0.0009300 -0.0009669 -0.0010035 -0.0010404 -0.0010769]\n",
      "test：0.060000, test mean: 0.068667\n"
     ]
    },
    {
     "name": "stderr",
     "output_type": "stream",
     "text": [
      "\r",
      " 20%|██        | 121/600 [11:25:49<46:54:00, 352.49s/it]"
     ]
    },
    {
     "name": "stdout",
     "output_type": "stream",
     "text": [
      "[0.8884297 0.1605785 0.0932231 0.0772727 0.0739669 0.0721488 0.0703306 0.0694215 0.0691736 0.0686777]\n",
      "[0.0000000 -0.0018972 -0.0012466 -0.0008452 -0.0008879 -0.0009230 -0.0009598 -0.0009963 -0.0010331 -0.0010696]\n",
      "test：0.070000, test mean: 0.068678\n"
     ]
    },
    {
     "name": "stderr",
     "output_type": "stream",
     "text": [
      "\r",
      " 20%|██        | 122/600 [11:32:04<47:42:52, 359.36s/it]"
     ]
    },
    {
     "name": "stdout",
     "output_type": "stream",
     "text": [
      "[0.8889344 0.1603279 0.0929508 0.0770492 0.0737705 0.0719672 0.0701639 0.0692623 0.0690164 0.0685246]\n",
      "[0.0000000 -0.0018946 -0.0012381 -0.0008375 -0.0008798 -0.0009146 -0.0009511 -0.0009874 -0.0010239 -0.0010601]\n",
      "test：0.050000, test mean: 0.068525\n"
     ]
    },
    {
     "name": "stderr",
     "output_type": "stream",
     "text": [
      "\r",
      " 20%|██        | 123/600 [11:37:44<46:48:52, 353.32s/it]"
     ]
    },
    {
     "name": "stdout",
     "output_type": "stream",
     "text": [
      "[0.8888618 0.1606504 0.0931707 0.0771545 0.0739024 0.0721138 0.0702439 0.0693496 0.0691057 0.0686179]\n",
      "[0.0000000 -0.0018934 -0.0012389 -0.0008399 -0.0008820 -0.0009168 -0.0009531 -0.0009892 -0.0010255 -0.0010614]\n",
      "test：0.080000, test mean: 0.068618\n"
     ]
    },
    {
     "name": "stderr",
     "output_type": "stream",
     "text": [
      "\r",
      " 21%|██        | 124/600 [11:43:33<46:34:22, 352.23s/it]"
     ]
    },
    {
     "name": "stdout",
     "output_type": "stream",
     "text": [
      "[0.8887097 0.1606452 0.0933064 0.0772581 0.0740323 0.0722581 0.0704032 0.0695161 0.0691935 0.0687097]\n",
      "[0.0000000 -0.0019071 -0.0012589 -0.0008619 -0.0009038 -0.0009385 -0.0009747 -0.0010106 -0.0010467 -0.0010824]\n",
      "test：0.080000, test mean: 0.068710\n"
     ]
    },
    {
     "name": "stderr",
     "output_type": "stream",
     "text": [
      "\r",
      " 21%|██        | 125/600 [11:49:30<46:39:32, 353.63s/it]"
     ]
    },
    {
     "name": "stdout",
     "output_type": "stream",
     "text": [
      "[0.8891200 0.1612000 0.0936000 0.0775200 0.0743200 0.0725600 0.0707200 0.0698400 0.0695200 0.0690400]\n",
      "[0.0000000 -0.0019187 -0.0012537 -0.0008500 -0.0008920 -0.0009274 -0.0009637 -0.0009999 -0.0010361 -0.0010723]\n",
      "test：0.110000, test mean: 0.069040\n"
     ]
    },
    {
     "name": "stderr",
     "output_type": "stream",
     "text": [
      "\r",
      " 21%|██        | 126/600 [11:55:30<46:47:22, 355.36s/it]"
     ]
    },
    {
     "name": "stdout",
     "output_type": "stream",
     "text": [
      "[0.8891270 0.1611111 0.0937302 0.0775397 0.0742857 0.0725397 0.0707143 0.0698413 0.0695238 0.0690476]\n",
      "[0.0000000 -0.0019102 -0.0012549 -0.0008556 -0.0008977 -0.0009333 -0.0009695 -0.0010058 -0.0010421 -0.0010783]\n",
      "test：0.070000, test mean: 0.069048\n"
     ]
    },
    {
     "name": "stderr",
     "output_type": "stream",
     "text": [
      "\r",
      " 21%|██        | 127/600 [12:01:11<46:08:06, 351.13s/it]"
     ]
    },
    {
     "name": "stdout",
     "output_type": "stream",
     "text": [
      "[0.8886614 0.1609449 0.0937008 0.0775591 0.0742520 0.0725197 0.0707087 0.0698425 0.0695276 0.0690551]\n",
      "[0.0000000 -0.0019152 -0.0012726 -0.0008769 -0.0009193 -0.0009549 -0.0009916 -0.0010283 -0.0010651 -0.0011018]\n",
      "test：0.070000, test mean: 0.069055\n"
     ]
    },
    {
     "name": "stderr",
     "output_type": "stream",
     "text": [
      "\r",
      " 21%|██▏       | 128/600 [12:06:45<45:23:00, 346.14s/it]"
     ]
    },
    {
     "name": "stdout",
     "output_type": "stream",
     "text": [
      "[0.8887500 0.1608594 0.0938281 0.0776562 0.0743750 0.0726562 0.0708594 0.0700000 0.0696875 0.0691406]\n",
      "[0.0000000 -0.0019011 -0.0012645 -0.0008717 -0.0009139 -0.0009496 -0.0009862 -0.0010229 -0.0010596 -0.0010964]\n",
      "test：0.080000, test mean: 0.069141\n"
     ]
    },
    {
     "name": "stderr",
     "output_type": "stream",
     "text": [
      "\r",
      " 22%|██▏       | 129/600 [12:12:33<45:20:04, 346.51s/it]"
     ]
    },
    {
     "name": "stdout",
     "output_type": "stream",
     "text": [
      "[0.8884496 0.1608527 0.0938760 0.0777519 0.0744961 0.0727907 0.0710078 0.0700000 0.0696899 0.0691473]\n",
      "[0.0000000 -0.0018853 -0.0012515 -0.0008536 -0.0008959 -0.0009312 -0.0009678 -0.0010043 -0.0010409 -0.0010773]\n",
      "test：0.070000, test mean: 0.069147\n"
     ]
    },
    {
     "name": "stderr",
     "output_type": "stream",
     "text": [
      "\r",
      " 22%|██▏       | 130/600 [12:18:47<46:19:03, 354.77s/it]"
     ]
    },
    {
     "name": "stdout",
     "output_type": "stream",
     "text": [
      "[0.8883846 0.1607692 0.0940769 0.0776923 0.0744615 0.0727692 0.0710000 0.0700000 0.0696154 0.0690769]\n",
      "[0.0000000 -0.0018774 -0.0012304 -0.0008312 -0.0008740 -0.0009097 -0.0009468 -0.0009840 -0.0010212 -0.0010583]\n",
      "test：0.060000, test mean: 0.069077\n"
     ]
    },
    {
     "name": "stderr",
     "output_type": "stream",
     "text": [
      "\r",
      " 22%|██▏       | 131/600 [12:24:45<46:21:30, 355.84s/it]"
     ]
    },
    {
     "name": "stdout",
     "output_type": "stream",
     "text": [
      "[0.8883969 0.1603817 0.0939695 0.0777099 0.0745038 0.0728244 0.0710687 0.0700763 0.0696947 0.0690840]\n",
      "[0.0000000 -0.0018875 -0.0012246 -0.0008249 -0.0008676 -0.0009032 -0.0009400 -0.0009771 -0.0010141 -0.0010510]\n",
      "test：0.070000, test mean: 0.069084\n"
     ]
    },
    {
     "name": "stderr",
     "output_type": "stream",
     "text": [
      "\r",
      " 22%|██▏       | 132/600 [12:31:06<47:13:59, 363.33s/it]"
     ]
    },
    {
     "name": "stdout",
     "output_type": "stream",
     "text": [
      "[0.8885606 0.1606818 0.0940151 0.0777273 0.0745455 0.0728788 0.0711364 0.0701515 0.0697727 0.0691667]\n",
      "[0.0000000 -0.0018853 -0.0012256 -0.0008291 -0.0008718 -0.0009073 -0.0009442 -0.0009812 -0.0010182 -0.0010553]\n",
      "test：0.080000, test mean: 0.069167\n"
     ]
    },
    {
     "name": "stderr",
     "output_type": "stream",
     "text": [
      "\r",
      " 22%|██▏       | 133/600 [12:37:19<47:31:41, 366.38s/it]"
     ]
    },
    {
     "name": "stdout",
     "output_type": "stream",
     "text": [
      "[0.8887970 0.1604511 0.0939098 0.0775188 0.0743609 0.0727068 0.0709774 0.0700000 0.0696241 0.0690226]\n",
      "[0.0000000 -0.0018893 -0.0012265 -0.0008237 -0.0008662 -0.0009016 -0.0009382 -0.0009749 -0.0010117 -0.0010486]\n",
      "test：0.050000, test mean: 0.069023\n"
     ]
    },
    {
     "name": "stderr",
     "output_type": "stream",
     "text": [
      "\r",
      " 22%|██▏       | 134/600 [12:43:16<47:01:57, 363.34s/it]"
     ]
    },
    {
     "name": "stdout",
     "output_type": "stream",
     "text": [
      "[0.8886567 0.1601492 0.0936567 0.0773881 0.0742537 0.0726119 0.0708955 0.0699254 0.0695522 0.0689552]\n",
      "[0.0000000 -0.0018907 -0.0012220 -0.0008210 -0.0008633 -0.0008988 -0.0009354 -0.0009722 -0.0010089 -0.0010457]\n",
      "test：0.060000, test mean: 0.068955\n"
     ]
    },
    {
     "name": "stderr",
     "output_type": "stream",
     "text": [
      "\r",
      " 22%|██▎       | 135/600 [12:49:27<47:13:49, 365.66s/it]"
     ]
    },
    {
     "name": "stdout",
     "output_type": "stream",
     "text": [
      "[0.8885185 0.1608148 0.0940000 0.0774815 0.0742963 0.0726667 0.0709630 0.0700000 0.0696296 0.0690370]\n",
      "[0.0000000 -0.0018941 -0.0012167 -0.0008175 -0.0008601 -0.0008958 -0.0009325 -0.0009695 -0.0010063 -0.0010434]\n",
      "test：0.080000, test mean: 0.069037\n"
     ]
    },
    {
     "name": "stderr",
     "output_type": "stream",
     "text": [
      "\r",
      " 23%|██▎       | 136/600 [12:55:39<47:23:47, 367.73s/it]"
     ]
    },
    {
     "name": "stdout",
     "output_type": "stream",
     "text": [
      "[0.8886029 0.1610294 0.0941912 0.0777941 0.0745588 0.0728676 0.0711765 0.0702206 0.0698529 0.0692647]\n",
      "[0.0000000 -0.0019024 -0.0012209 -0.0008250 -0.0008678 -0.0009041 -0.0009409 -0.0009781 -0.0010152 -0.0010525]\n",
      "test：0.100000, test mean: 0.069265\n"
     ]
    },
    {
     "name": "stderr",
     "output_type": "stream",
     "text": [
      "\r",
      " 23%|██▎       | 137/600 [13:01:29<46:36:37, 362.41s/it]"
     ]
    },
    {
     "name": "stdout",
     "output_type": "stream",
     "text": [
      "[0.8885401 0.1609489 0.0942336 0.0779562 0.0746715 0.0729927 0.0713139 0.0703650 0.0700000 0.0694161]\n",
      "[0.0000000 -0.0018986 -0.0012159 -0.0008224 -0.0008657 -0.0009020 -0.0009390 -0.0009762 -0.0010135 -0.0010509]\n",
      "test：0.090000, test mean: 0.069416\n"
     ]
    },
    {
     "name": "stderr",
     "output_type": "stream",
     "text": [
      "\r",
      " 23%|██▎       | 138/600 [13:07:33<46:33:05, 362.74s/it]"
     ]
    },
    {
     "name": "stdout",
     "output_type": "stream",
     "text": [
      "[0.8888406 0.1612319 0.0946377 0.0783333 0.0750725 0.0734058 0.0717391 0.0707971 0.0704348 0.0698551]\n",
      "[0.0000000 -0.0018983 -0.0012220 -0.0008237 -0.0008678 -0.0009044 -0.0009424 -0.0009804 -0.0010183 -0.0010566]\n",
      "test：0.130000, test mean: 0.069855\n"
     ]
    },
    {
     "name": "stderr",
     "output_type": "stream",
     "text": [
      "\r",
      " 23%|██▎       | 139/600 [13:13:27<46:08:14, 360.29s/it]"
     ]
    },
    {
     "name": "stdout",
     "output_type": "stream",
     "text": [
      "[0.8887050 0.1610791 0.0945324 0.0782734 0.0748921 0.0732374 0.0715827 0.0706475 0.0702878 0.0697122]\n",
      "[0.0000000 -0.0019046 -0.0012220 -0.0008174 -0.0008616 -0.0008981 -0.0009360 -0.0009739 -0.0010116 -0.0010498]\n",
      "test：0.050000, test mean: 0.069712\n"
     ]
    },
    {
     "name": "stderr",
     "output_type": "stream",
     "text": [
      "\r",
      " 23%|██▎       | 140/600 [13:19:08<45:17:40, 354.48s/it]"
     ]
    },
    {
     "name": "stdout",
     "output_type": "stream",
     "text": [
      "[0.8885000 0.1612143 0.0942857 0.0781429 0.0747857 0.0731429 0.0715000 0.0705714 0.0702143 0.0696429]\n",
      "[0.0000000 -0.0019042 -0.0012132 -0.0008116 -0.0008555 -0.0008918 -0.0009295 -0.0009671 -0.0010046 -0.0010425]\n",
      "test：0.060000, test mean: 0.069643\n"
     ]
    },
    {
     "name": "stderr",
     "output_type": "stream",
     "text": [
      "\r",
      " 24%|██▎       | 141/600 [13:25:31<46:16:31, 362.94s/it]"
     ]
    },
    {
     "name": "stdout",
     "output_type": "stream",
     "text": [
      "[0.8886525 0.1609220 0.0942553 0.0782269 0.0748936 0.0732624 0.0716312 0.0707092 0.0703546 0.0697872]\n",
      "[0.0000000 -0.0019189 -0.0012291 -0.0008305 -0.0008744 -0.0009105 -0.0009483 -0.0009860 -0.0010236 -0.0010616]\n",
      "test：0.090000, test mean: 0.069787\n"
     ]
    },
    {
     "name": "stderr",
     "output_type": "stream",
     "text": [
      "\r",
      " 24%|██▎       | 142/600 [13:31:22<45:43:56, 359.47s/it]"
     ]
    },
    {
     "name": "stdout",
     "output_type": "stream",
     "text": [
      "[0.8887324 0.1610563 0.0944366 0.0784507 0.0750704 0.0734507 0.0718310 0.0709155 0.0705634 0.0700000]\n",
      "[0.0000000 -0.0019169 -0.0012266 -0.0008267 -0.0008707 -0.0009067 -0.0009445 -0.0009822 -0.0010198 -0.0010578]\n",
      "test：0.100000, test mean: 0.070000\n"
     ]
    },
    {
     "name": "stderr",
     "output_type": "stream",
     "text": [
      "\r",
      " 24%|██▍       | 143/600 [13:37:25<45:45:33, 360.47s/it]"
     ]
    },
    {
     "name": "stdout",
     "output_type": "stream",
     "text": [
      "[0.8891608 0.1609790 0.0942657 0.0783217 0.0749650 0.0733566 0.0717482 0.0708392 0.0704895 0.0699301]\n",
      "[0.0000000 -0.0019213 -0.0012225 -0.0008234 -0.0008677 -0.0009038 -0.0009418 -0.0009799 -0.0010179 -0.0010564]\n",
      "test：0.060000, test mean: 0.069930\n"
     ]
    },
    {
     "name": "stderr",
     "output_type": "stream",
     "text": [
      "\r",
      " 24%|██▍       | 144/600 [13:43:15<45:16:33, 357.44s/it]"
     ]
    },
    {
     "name": "stdout",
     "output_type": "stream",
     "text": [
      "[0.8893750 0.1607639 0.0939583 0.0781250 0.0747917 0.0731944 0.0715972 0.0706944 0.0703472 0.0697917]\n",
      "[0.0000000 -0.0019163 -0.0012149 -0.0008188 -0.0008629 -0.0008989 -0.0009369 -0.0009748 -0.0010128 -0.0010512]\n",
      "test：0.050000, test mean: 0.069792\n"
     ]
    },
    {
     "name": "stderr",
     "output_type": "stream",
     "text": [
      "\r",
      " 24%|██▍       | 145/600 [13:48:59<44:37:53, 353.13s/it]"
     ]
    },
    {
     "name": "stdout",
     "output_type": "stream",
     "text": [
      "[0.8895172 0.1604828 0.0938621 0.0780000 0.0746897 0.0731034 0.0715172 0.0706207 0.0702759 0.0697241]\n",
      "[0.0000000 -0.0019179 -0.0012063 -0.0008093 -0.0008533 -0.0008891 -0.0009268 -0.0009645 -0.0010022 -0.0010404]\n",
      "test：0.060000, test mean: 0.069724\n"
     ]
    },
    {
     "name": "stderr",
     "output_type": "stream",
     "text": [
      "\r",
      " 24%|██▍       | 146/600 [13:54:51<44:30:24, 352.92s/it]"
     ]
    },
    {
     "name": "stdout",
     "output_type": "stream",
     "text": [
      "[0.8896575 0.1605479 0.0936301 0.0777397 0.0744521 0.0728767 0.0713014 0.0704110 0.0700685 0.0695205]\n",
      "[0.0000000 -0.0019242 -0.0012170 -0.0008208 -0.0008646 -0.0009002 -0.0009378 -0.0009755 -0.0010131 -0.0010512]\n",
      "test：0.040000, test mean: 0.069521\n"
     ]
    },
    {
     "name": "stderr",
     "output_type": "stream",
     "text": [
      "\r",
      " 24%|██▍       | 147/600 [14:00:58<44:56:36, 357.17s/it]"
     ]
    },
    {
     "name": "stdout",
     "output_type": "stream",
     "text": [
      "[0.8895238 0.1608843 0.0939456 0.0778231 0.0745578 0.0729932 0.0714286 0.0705442 0.0702041 0.0696599]\n",
      "[0.0000000 -0.0019219 -0.0012161 -0.0008189 -0.0008627 -0.0008984 -0.0009361 -0.0009737 -0.0010113 -0.0010495]\n",
      "test：0.090000, test mean: 0.069660\n"
     ]
    },
    {
     "name": "stderr",
     "output_type": "stream",
     "text": [
      "\r",
      " 25%|██▍       | 148/600 [14:06:47<44:32:45, 354.79s/it]"
     ]
    },
    {
     "name": "stdout",
     "output_type": "stream",
     "text": [
      "[0.8892567 0.1608784 0.0941216 0.0779054 0.0746622 0.0731081 0.0715541 0.0706757 0.0703378 0.0697973]\n",
      "[0.0000000 -0.0019290 -0.0012197 -0.0008255 -0.0008690 -0.0009045 -0.0009419 -0.0009793 -0.0010167 -0.0010546]\n",
      "test：0.090000, test mean: 0.069797\n"
     ]
    },
    {
     "name": "stderr",
     "output_type": "stream",
     "text": [
      "\r",
      " 25%|██▍       | 149/600 [14:12:31<44:01:59, 351.48s/it]"
     ]
    },
    {
     "name": "stdout",
     "output_type": "stream",
     "text": [
      "[0.8892617 0.1605369 0.0940268 0.0779195 0.0746980 0.0731544 0.0716107 0.0707383 0.0704027 0.0698658]\n",
      "[0.0000000 -0.0019227 -0.0012111 -0.0008198 -0.0008633 -0.0008988 -0.0009363 -0.0009737 -0.0010111 -0.0010491]\n",
      "test：0.080000, test mean: 0.069866\n"
     ]
    },
    {
     "name": "stderr",
     "output_type": "stream",
     "text": [
      "\r",
      " 25%|██▌       | 150/600 [14:18:53<45:03:42, 360.49s/it]"
     ]
    },
    {
     "name": "stdout",
     "output_type": "stream",
     "text": [
      "[0.8892000 0.1604667 0.0940000 0.0779333 0.0747333 0.0732000 0.0716667 0.0708000 0.0704667 0.0699333]\n",
      "[0.0000000 -0.0019253 -0.0012198 -0.0008324 -0.0008762 -0.0009118 -0.0009494 -0.0009870 -0.0010245 -0.0010626]\n",
      "test：0.080000, test mean: 0.069933\n"
     ]
    },
    {
     "name": "stderr",
     "output_type": "stream",
     "text": [
      "\r",
      " 25%|██▌       | 151/600 [14:25:10<45:35:28, 365.54s/it]"
     ]
    },
    {
     "name": "stdout",
     "output_type": "stream",
     "text": [
      "[0.8893377 0.1607947 0.0945033 0.0782781 0.0750993 0.0734437 0.0718543 0.0709272 0.0705960 0.0700662]\n",
      "[0.0000000 -0.0019230 -0.0012235 -0.0008233 -0.0008684 -0.0009044 -0.0009434 -0.0009817 -0.0010199 -0.0010588]\n",
      "test：0.090000, test mean: 0.070066\n"
     ]
    },
    {
     "name": "stderr",
     "output_type": "stream",
     "text": [
      "\r",
      " 25%|██▌       | 152/600 [14:31:10<45:17:04, 363.89s/it]"
     ]
    },
    {
     "name": "stdout",
     "output_type": "stream",
     "text": [
      "[0.8894079 0.1609210 0.0944737 0.0782895 0.0751316 0.0734868 0.0719079 0.0709868 0.0706579 0.0701316]\n",
      "[0.0000000 -0.0019263 -0.0012212 -0.0008234 -0.0008683 -0.0009042 -0.0009431 -0.0009812 -0.0010194 -0.0010580]\n",
      "test：0.080000, test mean: 0.070132\n"
     ]
    },
    {
     "name": "stderr",
     "output_type": "stream",
     "text": [
      "\r",
      " 26%|██▌       | 153/600 [14:37:08<44:58:12, 362.18s/it]"
     ]
    },
    {
     "name": "stdout",
     "output_type": "stream",
     "text": [
      "[0.8893464 0.1612418 0.0946405 0.0784314 0.0752941 0.0735948 0.0720261 0.0711111 0.0707843 0.0702614]\n",
      "[0.0000000 -0.0019156 -0.0011979 -0.0007955 -0.0008404 -0.0008757 -0.0009145 -0.0009528 -0.0009912 -0.0010300]\n",
      "test：0.090000, test mean: 0.070261\n"
     ]
    },
    {
     "name": "stderr",
     "output_type": "stream",
     "text": [
      "\r",
      " 26%|██▌       | 154/600 [14:42:39<43:41:34, 352.68s/it]"
     ]
    },
    {
     "name": "stdout",
     "output_type": "stream",
     "text": [
      "[0.8894805 0.1613636 0.0947403 0.0787013 0.0755195 0.0738312 0.0722727 0.0713636 0.0710390 0.0705195]\n",
      "[0.0000000 -0.0019085 -0.0011886 -0.0007886 -0.0008335 -0.0008688 -0.0009078 -0.0009463 -0.0009849 -0.0010240]\n",
      "test：0.110000, test mean: 0.070519\n"
     ]
    },
    {
     "name": "stderr",
     "output_type": "stream",
     "text": [
      "\r",
      " 26%|██▌       | 155/600 [14:47:50<42:03:36, 340.26s/it]"
     ]
    },
    {
     "name": "stdout",
     "output_type": "stream",
     "text": [
      "[0.8896774 0.1618710 0.0950968 0.0789032 0.0757419 0.0740000 0.0724516 0.0715484 0.0712258 0.0707097]\n",
      "[0.0000000 -0.0019083 -0.0011939 -0.0007852 -0.0008299 -0.0008653 -0.0009044 -0.0009430 -0.0009816 -0.0010207]\n",
      "test：0.100000, test mean: 0.070710\n"
     ]
    },
    {
     "name": "stderr",
     "output_type": "stream",
     "text": [
      "\r",
      " 26%|██▌       | 156/600 [14:52:59<40:48:45, 330.91s/it]"
     ]
    },
    {
     "name": "stdout",
     "output_type": "stream",
     "text": [
      "[0.8895513 0.1618590 0.0951282 0.0790385 0.0758974 0.0741667 0.0726282 0.0717308 0.0714103 0.0708974]\n",
      "[0.0000000 -0.0019075 -0.0011915 -0.0007853 -0.0008296 -0.0008647 -0.0009034 -0.0009416 -0.0009799 -0.0010187]\n",
      "test：0.100000, test mean: 0.070897\n"
     ]
    },
    {
     "name": "stderr",
     "output_type": "stream",
     "text": [
      "\r",
      " 26%|██▌       | 157/600 [14:58:29<40:41:23, 330.66s/it]"
     ]
    },
    {
     "name": "stdout",
     "output_type": "stream",
     "text": [
      "[0.8895541 0.1614013 0.0947771 0.0787261 0.0755414 0.0738217 0.0722930 0.0714013 0.0710828 0.0705732]\n",
      "[0.0000000 -0.0019089 -0.0011912 -0.0007808 -0.0008249 -0.0008597 -0.0008982 -0.0009362 -0.0009742 -0.0010128]\n",
      "test：0.020000, test mean: 0.070573\n"
     ]
    },
    {
     "name": "stderr",
     "output_type": "stream",
     "text": [
      "\r",
      " 26%|██▋       | 158/600 [15:03:59<40:34:12, 330.44s/it]"
     ]
    },
    {
     "name": "stdout",
     "output_type": "stream",
     "text": [
      "[0.8893671 0.1612658 0.0946835 0.0787342 0.0755696 0.0738608 0.0723418 0.0714557 0.0711392 0.0706329]\n",
      "[0.0000000 -0.0019142 -0.0011882 -0.0007806 -0.0008245 -0.0008595 -0.0008977 -0.0009355 -0.0009733 -0.0010117]\n",
      "test：0.080000, test mean: 0.070633\n"
     ]
    },
    {
     "name": "stderr",
     "output_type": "stream",
     "text": [
      "\r",
      " 26%|██▋       | 159/600 [15:09:34<40:39:40, 331.93s/it]"
     ]
    },
    {
     "name": "stdout",
     "output_type": "stream",
     "text": [
      "[0.8894968 0.1616352 0.0947170 0.0788050 0.0755975 0.0738994 0.0723899 0.0715094 0.0711321 0.0706289]\n",
      "[0.0000000 -0.0019210 -0.0012002 -0.0007952 -0.0008397 -0.0008746 -0.0009127 -0.0009506 -0.0009886 -0.0010273]\n",
      "test：0.070000, test mean: 0.070629\n"
     ]
    },
    {
     "name": "stderr",
     "output_type": "stream",
     "text": [
      "\r",
      " 27%|██▋       | 160/600 [15:15:07<40:35:40, 332.14s/it]"
     ]
    },
    {
     "name": "stdout",
     "output_type": "stream",
     "text": [
      "[0.8891875 0.1617500 0.0948125 0.0789375 0.0756875 0.0739375 0.0724375 0.0715625 0.0711875 0.0706875]\n",
      "[0.0000000 -0.0019245 -0.0011989 -0.0007938 -0.0008392 -0.0008741 -0.0009121 -0.0009500 -0.0009880 -0.0010266]\n",
      "test：0.080000, test mean: 0.070688\n"
     ]
    },
    {
     "name": "stderr",
     "output_type": "stream",
     "text": [
      "\r",
      " 27%|██▋       | 161/600 [15:20:20<39:48:19, 326.42s/it]"
     ]
    },
    {
     "name": "stdout",
     "output_type": "stream",
     "text": [
      "[0.8890683 0.1614907 0.0946584 0.0787578 0.0754658 0.0737267 0.0722360 0.0713043 0.0709317 0.0704348]\n",
      "[0.0000000 -0.0019262 -0.0012064 -0.0008005 -0.0008456 -0.0008802 -0.0009180 -0.0009557 -0.0009934 -0.0010318]\n",
      "test：0.030000, test mean: 0.070435\n"
     ]
    },
    {
     "name": "stderr",
     "output_type": "stream",
     "text": [
      "\r",
      " 27%|██▋       | 162/600 [15:25:18<38:39:34, 317.75s/it]"
     ]
    },
    {
     "name": "stdout",
     "output_type": "stream",
     "text": [
      "[0.8895062 0.1618518 0.0948765 0.0790741 0.0758025 0.0740741 0.0725926 0.0716667 0.0712963 0.0708025]\n",
      "[0.0000000 -0.0019335 -0.0012153 -0.0008127 -0.0008580 -0.0008929 -0.0009311 -0.0009691 -0.0010072 -0.0010461]\n",
      "test：0.130000, test mean: 0.070802\n"
     ]
    },
    {
     "name": "stderr",
     "output_type": "stream",
     "text": [
      "\r",
      " 27%|██▋       | 163/600 [15:30:14<37:46:51, 311.24s/it]"
     ]
    },
    {
     "name": "stdout",
     "output_type": "stream",
     "text": [
      "[0.8895092 0.1618405 0.0946626 0.0789571 0.0757055 0.0739877 0.0725153 0.0715951 0.0712270 0.0707362]\n",
      "[0.0000000 -0.0019351 -0.0012223 -0.0008226 -0.0008680 -0.0009030 -0.0009416 -0.0009797 -0.0010180 -0.0010571]\n",
      "test：0.060000, test mean: 0.070736\n"
     ]
    },
    {
     "name": "stderr",
     "output_type": "stream",
     "text": [
      "\r",
      " 27%|██▋       | 164/600 [15:34:59<36:45:25, 303.50s/it]"
     ]
    },
    {
     "name": "stdout",
     "output_type": "stream",
     "text": [
      "[0.8899390 0.1618902 0.0949390 0.0789634 0.0757317 0.0740244 0.0725610 0.0716463 0.0712805 0.0707927]\n",
      "[0.0000000 -0.0019400 -0.0012209 -0.0008284 -0.0008741 -0.0009090 -0.0009476 -0.0009857 -0.0010241 -0.0010631]\n",
      "test：0.080000, test mean: 0.070793\n"
     ]
    },
    {
     "name": "stderr",
     "output_type": "stream",
     "text": [
      "\r",
      " 28%|██▊       | 165/600 [15:40:05<36:45:54, 304.26s/it]"
     ]
    },
    {
     "name": "stdout",
     "output_type": "stream",
     "text": [
      "[0.8896363 0.1616970 0.0948485 0.0789091 0.0756970 0.0739394 0.0724848 0.0715758 0.0712121 0.0707273]\n",
      "[0.0000000 -0.0019452 -0.0012166 -0.0008177 -0.0008633 -0.0008981 -0.0009367 -0.0009747 -0.0010129 -0.0010519]\n",
      "test：0.060000, test mean: 0.070727\n"
     ]
    },
    {
     "name": "stderr",
     "output_type": "stream",
     "text": [
      "\r",
      " 28%|██▊       | 166/600 [15:44:42<35:40:59, 295.99s/it]"
     ]
    },
    {
     "name": "stdout",
     "output_type": "stream",
     "text": [
      "[0.8896988 0.1614458 0.0948193 0.0788554 0.0756024 0.0738554 0.0724096 0.0715060 0.0711446 0.0706627]\n",
      "[0.0000000 -0.0019444 -0.0012146 -0.0008127 -0.0008585 -0.0008936 -0.0009322 -0.0009703 -0.0010085 -0.0010477]\n",
      "test：0.060000, test mean: 0.070663\n"
     ]
    },
    {
     "name": "stderr",
     "output_type": "stream",
     "text": [
      "\r",
      " 28%|██▊       | 167/600 [15:49:37<35:33:58, 295.70s/it]"
     ]
    },
    {
     "name": "stdout",
     "output_type": "stream",
     "text": [
      "[0.8898203 0.1616168 0.0949102 0.0788623 0.0756287 0.0738922 0.0724551 0.0715569 0.0711976 0.0707186]\n",
      "[0.0000000 -0.0019456 -0.0012182 -0.0008175 -0.0008630 -0.0008979 -0.0009363 -0.0009742 -0.0010122 -0.0010511]\n",
      "test：0.080000, test mean: 0.070719\n"
     ]
    },
    {
     "name": "stderr",
     "output_type": "stream",
     "text": [
      "\r",
      " 28%|██▊       | 168/600 [15:54:44<35:53:51, 299.15s/it]"
     ]
    },
    {
     "name": "stdout",
     "output_type": "stream",
     "text": [
      "[0.8897024 0.1618452 0.0951190 0.0790476 0.0758333 0.0741071 0.0726786 0.0717857 0.0714286 0.0709524]\n",
      "[0.0000000 -0.0019480 -0.0012261 -0.0008208 -0.0008664 -0.0009013 -0.0009397 -0.0009777 -0.0010157 -0.0010545]\n",
      "test：0.110000, test mean: 0.070952\n"
     ]
    },
    {
     "name": "stderr",
     "output_type": "stream",
     "text": [
      "\r",
      " 28%|██▊       | 169/600 [15:59:43<35:47:35, 298.97s/it]"
     ]
    },
    {
     "name": "stdout",
     "output_type": "stream",
     "text": [
      "[0.8896450 0.1620118 0.0951479 0.0789941 0.0757396 0.0740237 0.0726035 0.0717160 0.0713609 0.0708876]\n",
      "[0.0000000 -0.0019475 -0.0012240 -0.0008155 -0.0008611 -0.0008959 -0.0009341 -0.0009718 -0.0010096 -0.0010483]\n",
      "test：0.060000, test mean: 0.070888\n"
     ]
    },
    {
     "name": "stderr",
     "output_type": "stream",
     "text": [
      "\r",
      " 28%|██▊       | 170/600 [16:04:42<35:43:42, 299.12s/it]"
     ]
    },
    {
     "name": "stdout",
     "output_type": "stream",
     "text": [
      "[0.8895882 0.1621176 0.0950588 0.0789412 0.0757059 0.0740000 0.0725294 0.0716471 0.0712941 0.0708235]\n",
      "[0.0000000 -0.0019442 -0.0012202 -0.0008150 -0.0008610 -0.0008958 -0.0009346 -0.0009726 -0.0010107 -0.0010496]\n",
      "test：0.060000, test mean: 0.070824\n"
     ]
    },
    {
     "name": "stderr",
     "output_type": "stream",
     "text": [
      "\r",
      " 28%|██▊       | 171/600 [16:09:31<35:15:48, 295.92s/it]"
     ]
    },
    {
     "name": "stdout",
     "output_type": "stream",
     "text": [
      "[0.8898245 0.1622807 0.0948538 0.0787719 0.0755556 0.0738596 0.0723977 0.0715205 0.0711696 0.0707018]\n",
      "[0.0000000 -0.0019406 -0.0012204 -0.0008180 -0.0008639 -0.0008987 -0.0009374 -0.0009753 -0.0010132 -0.0010522]\n",
      "test：0.050000, test mean: 0.070702\n"
     ]
    },
    {
     "name": "stderr",
     "output_type": "stream",
     "text": [
      "\r",
      " 29%|██▊       | 172/600 [16:14:44<35:48:56, 301.25s/it]"
     ]
    },
    {
     "name": "stdout",
     "output_type": "stream",
     "text": [
      "[0.8897674 0.1627907 0.0952326 0.0787209 0.0754070 0.0737209 0.0722674 0.0713953 0.0710465 0.0705814]\n",
      "[0.0000000 -0.0019376 -0.0012061 -0.0007987 -0.0008454 -0.0008804 -0.0009198 -0.0009584 -0.0009971 -0.0010367]\n",
      "test：0.050000, test mean: 0.070581\n"
     ]
    },
    {
     "name": "stderr",
     "output_type": "stream",
     "text": [
      "\r",
      " 29%|██▉       | 173/600 [16:19:50<35:53:15, 302.57s/it]"
     ]
    },
    {
     "name": "stdout",
     "output_type": "stream",
     "text": [
      "[0.8899422 0.1628902 0.0952023 0.0787283 0.0753757 0.0736994 0.0722543 0.0713873 0.0710405 0.0705780]\n",
      "[0.0000000 -0.0019411 -0.0012154 -0.0008094 -0.0008564 -0.0008915 -0.0009308 -0.0009693 -0.0010080 -0.0010476]\n",
      "test：0.070000, test mean: 0.070578\n"
     ]
    },
    {
     "name": "stderr",
     "output_type": "stream",
     "text": [
      "\r",
      " 29%|██▉       | 174/600 [16:24:45<35:33:18, 300.47s/it]"
     ]
    },
    {
     "name": "stdout",
     "output_type": "stream",
     "text": [
      "[0.8900000 0.1629310 0.0951149 0.0786207 0.0752299 0.0735632 0.0721264 0.0712644 0.0709195 0.0704598]\n",
      "[0.0000000 -0.0019354 -0.0012150 -0.0008118 -0.0008592 -0.0008943 -0.0009335 -0.0009719 -0.0010105 -0.0010500]\n",
      "test：0.050000, test mean: 0.070460\n"
     ]
    },
    {
     "name": "stderr",
     "output_type": "stream",
     "text": [
      "\r",
      " 29%|██▉       | 175/600 [16:30:07<36:14:05, 306.93s/it]"
     ]
    },
    {
     "name": "stdout",
     "output_type": "stream",
     "text": [
      "[0.8897143 0.1626286 0.0951429 0.0785143 0.0751429 0.0734857 0.0720571 0.0712000 0.0708571 0.0704000]\n",
      "[0.0000000 -0.0019439 -0.0012283 -0.0008243 -0.0008721 -0.0009072 -0.0009467 -0.0009854 -0.0010243 -0.0010641]\n",
      "test：0.060000, test mean: 0.070400\n"
     ]
    },
    {
     "name": "stderr",
     "output_type": "stream",
     "text": [
      "\r",
      " 29%|██▉       | 176/600 [16:35:04<35:46:31, 303.75s/it]"
     ]
    },
    {
     "name": "stdout",
     "output_type": "stream",
     "text": [
      "[0.8896023 0.1628409 0.0951705 0.0785227 0.0751705 0.0734091 0.0719886 0.0711364 0.0707955 0.0703409]\n",
      "[0.0000000 -0.0019541 -0.0012418 -0.0008405 -0.0008882 -0.0009225 -0.0009619 -0.0010004 -0.0010392 -0.0010789]\n",
      "test：0.060000, test mean: 0.070341\n"
     ]
    },
    {
     "name": "stderr",
     "output_type": "stream",
     "text": [
      "\r",
      " 30%|██▉       | 177/600 [16:39:44<34:51:55, 296.73s/it]"
     ]
    },
    {
     "name": "stdout",
     "output_type": "stream",
     "text": [
      "[0.8891525 0.1627684 0.0952542 0.0784746 0.0751412 0.0733333 0.0718644 0.0710169 0.0706780 0.0702260]\n",
      "[0.0000000 -0.0019506 -0.0012431 -0.0008439 -0.0008921 -0.0009267 -0.0009664 -0.0010050 -0.0010440 -0.0010837]\n",
      "test：0.050000, test mean: 0.070226\n"
     ]
    },
    {
     "name": "stderr",
     "output_type": "stream",
     "text": [
      "\r",
      " 30%|██▉       | 178/600 [16:44:49<35:03:18, 299.05s/it]"
     ]
    },
    {
     "name": "stdout",
     "output_type": "stream",
     "text": [
      "[0.8890449 0.1625843 0.0948876 0.0781461 0.0748315 0.0730337 0.0715730 0.0707303 0.0703933 0.0699438]\n",
      "[0.0000000 -0.0019480 -0.0012286 -0.0008319 -0.0008798 -0.0009143 -0.0009538 -0.0009922 -0.0010310 -0.0010705]\n",
      "test：0.020000, test mean: 0.069944\n"
     ]
    },
    {
     "name": "stderr",
     "output_type": "stream",
     "text": [
      "\r",
      " 30%|██▉       | 179/600 [16:49:48<34:59:06, 299.16s/it]"
     ]
    },
    {
     "name": "stdout",
     "output_type": "stream",
     "text": [
      "[0.8890503 0.1623464 0.0946927 0.0780447 0.0747486 0.0729609 0.0715084 0.0706704 0.0703352 0.0698883]\n",
      "[0.0000000 -0.0019380 -0.0012199 -0.0008209 -0.0008687 -0.0009030 -0.0009424 -0.0009806 -0.0010192 -0.0010585]\n",
      "test：0.060000, test mean: 0.069888\n"
     ]
    },
    {
     "name": "stderr",
     "output_type": "stream",
     "text": [
      "\r",
      " 30%|███       | 180/600 [16:54:30<34:18:56, 294.14s/it]"
     ]
    },
    {
     "name": "stdout",
     "output_type": "stream",
     "text": [
      "[0.8891666 0.1623333 0.0946667 0.0781111 0.0747222 0.0729444 0.0715000 0.0706667 0.0703333 0.0698889]\n",
      "[0.0000000 -0.0019388 -0.0012299 -0.0008332 -0.0008811 -0.0009154 -0.0009545 -0.0009926 -0.0010310 -0.0010702]\n",
      "test：0.070000, test mean: 0.069889\n"
     ]
    },
    {
     "name": "stderr",
     "output_type": "stream",
     "text": [
      "\r",
      " 30%|███       | 181/600 [16:59:27<34:18:37, 294.79s/it]"
     ]
    },
    {
     "name": "stdout",
     "output_type": "stream",
     "text": [
      "[0.8892265 0.1624309 0.0946961 0.0780663 0.0746409 0.0728177 0.0713812 0.0705525 0.0702210 0.0697790]\n",
      "[0.0000000 -0.0019383 -0.0012166 -0.0008218 -0.0008700 -0.0009045 -0.0009437 -0.0009820 -0.0010204 -0.0010598]\n",
      "test：0.050000, test mean: 0.069779\n"
     ]
    },
    {
     "name": "stderr",
     "output_type": "stream",
     "text": [
      "\r",
      " 30%|███       | 182/600 [17:04:26<34:23:52, 296.25s/it]"
     ]
    },
    {
     "name": "stdout",
     "output_type": "stream",
     "text": [
      "[0.8892857 0.1625824 0.0946154 0.0779670 0.0745604 0.0726923 0.0712637 0.0704396 0.0701099 0.0696703]\n",
      "[0.0000000 -0.0019340 -0.0012157 -0.0008176 -0.0008660 -0.0009004 -0.0009394 -0.0009775 -0.0010158 -0.0010549]\n",
      "test：0.050000, test mean: 0.069670\n"
     ]
    },
    {
     "name": "stderr",
     "output_type": "stream",
     "text": [
      "\r",
      " 30%|███       | 183/600 [17:09:41<34:56:47, 301.70s/it]"
     ]
    },
    {
     "name": "stdout",
     "output_type": "stream",
     "text": [
      "[0.8896175 0.1628415 0.0948087 0.0781967 0.0746995 0.0728415 0.0714208 0.0706011 0.0702732 0.0698361]\n",
      "[0.0000000 -0.0019337 -0.0012254 -0.0008292 -0.0008773 -0.0009114 -0.0009502 -0.0009879 -0.0010259 -0.0010648]\n",
      "test：0.100000, test mean: 0.069836\n"
     ]
    },
    {
     "name": "stderr",
     "output_type": "stream",
     "text": [
      "\r",
      " 31%|███       | 184/600 [17:14:52<35:11:54, 304.60s/it]"
     ]
    },
    {
     "name": "stdout",
     "output_type": "stream",
     "text": [
      "[0.8897282 0.1628261 0.0947283 0.0781522 0.0746739 0.0727717 0.0713587 0.0705435 0.0702174 0.0697826]\n",
      "[0.0000000 -0.0019447 -0.0012369 -0.0008430 -0.0008909 -0.0009250 -0.0009637 -0.0010012 -0.0010390 -0.0010777]\n",
      "test：0.060000, test mean: 0.069783\n"
     ]
    },
    {
     "name": "stderr",
     "output_type": "stream",
     "text": [
      "\r",
      " 31%|███       | 185/600 [17:19:47<34:46:48, 301.71s/it]"
     ]
    },
    {
     "name": "stdout",
     "output_type": "stream",
     "text": [
      "[0.8897838 0.1630811 0.0949189 0.0782703 0.0747568 0.0728649 0.0714595 0.0706486 0.0703243 0.0698919]\n",
      "[0.0000000 -0.0019472 -0.0012447 -0.0008528 -0.0009006 -0.0009345 -0.0009728 -0.0010102 -0.0010478 -0.0010862]\n",
      "test：0.090000, test mean: 0.069892\n"
     ]
    },
    {
     "name": "stderr",
     "output_type": "stream",
     "text": [
      "\r",
      " 31%|███       | 186/600 [17:24:42<34:26:44, 299.53s/it]"
     ]
    },
    {
     "name": "stdout",
     "output_type": "stream",
     "text": [
      "[0.8896236 0.1626344 0.0947312 0.0781183 0.0745699 0.0726882 0.0712903 0.0704839 0.0701613 0.0697312]\n",
      "[0.0000000 -0.0019488 -0.0012543 -0.0008646 -0.0009127 -0.0009468 -0.0009855 -0.0010233 -0.0010612 -0.0011000]\n",
      "test：0.040000, test mean: 0.069731\n"
     ]
    },
    {
     "name": "stderr",
     "output_type": "stream",
     "text": [
      "\r",
      " 31%|███       | 187/600 [17:29:58<34:56:36, 304.59s/it]"
     ]
    },
    {
     "name": "stdout",
     "output_type": "stream",
     "text": [
      "[0.8892513 0.1624599 0.0947059 0.0781283 0.0745989 0.0726738 0.0712834 0.0704813 0.0701604 0.0697326]\n",
      "[0.0000000 -0.0019455 -0.0012556 -0.0008639 -0.0009121 -0.0009463 -0.0009851 -0.0010228 -0.0010608 -0.0010997]\n",
      "test：0.070000, test mean: 0.069733\n"
     ]
    },
    {
     "name": "stderr",
     "output_type": "stream",
     "text": [
      "\r",
      " 31%|███▏      | 188/600 [17:34:51<34:27:48, 301.14s/it]"
     ]
    },
    {
     "name": "stdout",
     "output_type": "stream",
     "text": [
      "[0.8893617 0.1622340 0.0945745 0.0780319 0.0745213 0.0726064 0.0712234 0.0704255 0.0701064 0.0696809]\n",
      "[0.0000000 -0.0019447 -0.0012554 -0.0008620 -0.0009101 -0.0009443 -0.0009829 -0.0010205 -0.0010583 -0.0010971]\n",
      "test：0.060000, test mean: 0.069681\n"
     ]
    },
    {
     "name": "stderr",
     "output_type": "stream",
     "text": [
      "\r",
      " 32%|███▏      | 189/600 [17:39:42<34:01:48, 298.08s/it]"
     ]
    },
    {
     "name": "stdout",
     "output_type": "stream",
     "text": [
      "[0.8891534 0.1621693 0.0944444 0.0779365 0.0744444 0.0725397 0.0711640 0.0703704 0.0700000 0.0695767]\n",
      "[0.0000000 -0.0019431 -0.0012580 -0.0008669 -0.0009151 -0.0009493 -0.0009883 -0.0010263 -0.0010645 -0.0011036]\n",
      "test：0.050000, test mean: 0.069577\n"
     ]
    },
    {
     "name": "stderr",
     "output_type": "stream",
     "text": [
      "\r",
      " 32%|███▏      | 190/600 [17:44:51<34:20:07, 301.48s/it]"
     ]
    },
    {
     "name": "stdout",
     "output_type": "stream",
     "text": [
      "[0.8892631 0.1620526 0.0944737 0.0779474 0.0744211 0.0725263 0.0711579 0.0703684 0.0700000 0.0695789]\n",
      "[0.0000000 -0.0019406 -0.0012534 -0.0008586 -0.0008998 -0.0009339 -0.0009728 -0.0010106 -0.0010487 -0.0010877]\n",
      "test：0.070000, test mean: 0.069579\n"
     ]
    },
    {
     "name": "stderr",
     "output_type": "stream",
     "text": [
      "\r",
      " 32%|███▏      | 191/600 [17:49:53<34:14:56, 301.46s/it]"
     ]
    },
    {
     "name": "stdout",
     "output_type": "stream",
     "text": [
      "[0.8894764 0.1619895 0.0945550 0.0780628 0.0745026 0.0725654 0.0712042 0.0704188 0.0701047 0.0696335]\n",
      "[0.0000000 -0.0019433 -0.0012505 -0.0008549 -0.0008963 -0.0009307 -0.0009697 -0.0010077 -0.0010459 -0.0010855]\n",
      "test：0.080000, test mean: 0.069634\n"
     ]
    },
    {
     "name": "stderr",
     "output_type": "stream",
     "text": [
      "\r",
      " 32%|███▏      | 192/600 [17:54:41<33:42:10, 297.38s/it]"
     ]
    },
    {
     "name": "stdout",
     "output_type": "stream",
     "text": [
      "[0.8894271 0.1621354 0.0948958 0.0783333 0.0747396 0.0728125 0.0714583 0.0706771 0.0703646 0.0698958]\n",
      "[0.0000000 -0.0019463 -0.0012584 -0.0008662 -0.0009077 -0.0009422 -0.0009813 -0.0010193 -0.0010576 -0.0010972]\n",
      "test：0.120000, test mean: 0.069896\n"
     ]
    }
   ],
   "source": [
    "model.eval()\n",
    "acc = []\n",
    "preds = []\n",
    "labels = []\n",
    "total_batch_acc = []\n",
    "total_batch_grad = []\n",
    "bar = tqdm(validloader)\n",
    "for step, (batch_data,batch_label) in enumerate(bar):\n",
    "    batch_data = batch_data.cuda() if CUDA else batch_data\n",
    "    batch_label = batch_label.cuda() if CUDA else batch_label\n",
    "    batch_label = batch_label.squeeze()\n",
    "    temp = torch.zeros((len(batch_label),2))\n",
    "    for idx,target in enumerate(batch_label.squeeze()): temp[idx,target] = 1\n",
    "    temp_label = temp.cuda() if CUDA else temp\n",
    "\n",
    "    pred,batch_acc,batch_grad = model(batch_data,ce_loss)\n",
    "    \n",
    "    pred = np.argmax(pred,1)\n",
    "    batch_label = batch_label.cpu().data.numpy()\n",
    "    \n",
    "    preds.extend(pred.tolist())\n",
    "    labels.extend(batch_label.tolist())\n",
    "    \n",
    "    temp_acc = (batch_label == pred).mean()\n",
    "    acc.append(temp_acc)\n",
    "    total_batch_acc.append(batch_acc + [temp_acc])\n",
    "    total_batch_grad.append([0] + batch_grad)\n",
    "    total_batch_acc_str = '[' + ' '.join(map(lambda x: '%.7f'%x,np.mean(total_batch_acc,axis=0))) + ']'\n",
    "    total_batch_grad_str = '[' + ' '.join(map(lambda x: '%.7f'%x,np.mean(total_batch_grad,axis=0))) + ']'\n",
    "    print(total_batch_acc_str)\n",
    "    print(total_batch_grad_str)\n",
    "    print(f\"test：{temp_acc:4f}, test mean: {np.mean(acc):4f}\")"
   ]
  },
  {
   "cell_type": "code",
   "execution_count": null,
   "id": "22633c66",
   "metadata": {},
   "outputs": [],
   "source": []
  }
 ],
 "metadata": {
  "kernelspec": {
   "display_name": "Python 3",
   "language": "python",
   "name": "python3"
  },
  "language_info": {
   "codemirror_mode": {
    "name": "ipython",
    "version": 3
   },
   "file_extension": ".py",
   "mimetype": "text/x-python",
   "name": "python",
   "nbconvert_exporter": "python",
   "pygments_lexer": "ipython3",
   "version": "3.6.9"
  }
 },
 "nbformat": 4,
 "nbformat_minor": 5
}
