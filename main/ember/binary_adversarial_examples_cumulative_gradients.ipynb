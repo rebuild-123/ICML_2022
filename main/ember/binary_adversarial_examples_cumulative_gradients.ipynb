{
 "cells": [
  {
   "cell_type": "code",
   "execution_count": 1,
   "id": "2ac8a951",
   "metadata": {},
   "outputs": [],
   "source": [
    "import os\n",
    "import numpy as np\n",
    "import pandas as pd\n",
    "from tqdm import tqdm\n",
    "import multiprocessing as mp\n",
    "from sklearn.model_selection import train_test_split\n",
    "import torch\n",
    "from torch import nn\n",
    "from torch.optim import Adam\n",
    "import torch.nn.functional as F\n",
    "from torch.utils.data import DataLoader, Dataset\n",
    "os.environ[\"CUDA_VISIBLE_DEVICES\"] = '3'"
   ]
  },
  {
   "cell_type": "code",
   "execution_count": null,
   "id": "3ef54173",
   "metadata": {},
   "outputs": [],
   "source": []
  },
  {
   "cell_type": "code",
   "execution_count": 2,
   "id": "373482b5",
   "metadata": {},
   "outputs": [],
   "source": [
    "trained_model_path = '/workdir/security/home/junjiehuang2468/paper/trained_models_weight/ember/'\n",
    "best_trained_model = '2022-01-18 14:55/2w_epoch:13_test_acc:0.896058.pt'\n",
    "data_path = \"/workdir/security/home/junjiehuang2468/paper/data/ember2018/\"\n",
    "train_data_path = data_path + \"malwares/\" \n",
    "train_label_path = data_path + \"train_labels.csv\" "
   ]
  },
  {
   "cell_type": "code",
   "execution_count": 3,
   "id": "c05c1730",
   "metadata": {},
   "outputs": [],
   "source": [
    "CUDA = True if torch.cuda.is_available() else False\n",
    "NUM_WORKERS = 24\n",
    "BATCH_SIZE = 100\n",
    "LEAVE_BIT_NUMBER = 20000\n",
    "KERNEL_SIZE = 500"
   ]
  },
  {
   "cell_type": "code",
   "execution_count": 4,
   "id": "0274cb27",
   "metadata": {},
   "outputs": [],
   "source": [
    "LEAVE_BIT_NUMBER_DICT = {10000:'1w',20000:'2w'}"
   ]
  },
  {
   "cell_type": "code",
   "execution_count": 5,
   "id": "f0179094",
   "metadata": {},
   "outputs": [],
   "source": [
    "trainset = pd.read_csv(data_path + 'train_dataset.csv')\n",
    "validset = pd.read_csv(data_path + 'valid_dataset.csv')\n",
    "validset = validset.iloc[np.argwhere(validset['labels'].values == 1).squeeze(),:]"
   ]
  },
  {
   "cell_type": "code",
   "execution_count": 6,
   "id": "4fb0d918",
   "metadata": {},
   "outputs": [],
   "source": [
    "class ExeDataset(Dataset):\n",
    "    def __init__(self, malware_names, data_path, labels, leave_bit_num):\n",
    "        self.malware_names = malware_names\n",
    "        self.data_path = data_path\n",
    "        self.labels = labels\n",
    "        self.leave_bit_num = leave_bit_num\n",
    "\n",
    "    def __len__(self):\n",
    "        return len(self.malware_names)\n",
    "\n",
    "    def __getitem__(self, idx):\n",
    "        with open(self.data_path + self.malware_names[idx] + '.txt','rb') as fp:\n",
    "            data = [bit+1 for bit in fp.read()[:self.leave_bit_num]]\n",
    "            padding = [0]*(self.leave_bit_num-len(data))\n",
    "            data = data + padding\n",
    "\n",
    "        return np.array(data), np.array([self.labels[idx]])"
   ]
  },
  {
   "cell_type": "code",
   "execution_count": 7,
   "id": "0dff087d",
   "metadata": {},
   "outputs": [],
   "source": [
    "train_dataset = ExeDataset(\n",
    "    trainset[\"id\"].tolist(), \n",
    "    train_data_path, \n",
    "    trainset[\"labels\"].tolist(), \n",
    "    LEAVE_BIT_NUMBER\n",
    ")\n",
    "valid_dataset = ExeDataset(\n",
    "    validset[\"id\"].tolist(), \n",
    "    train_data_path, \n",
    "    validset[\"labels\"].tolist(), \n",
    "    LEAVE_BIT_NUMBER\n",
    ")"
   ]
  },
  {
   "cell_type": "code",
   "execution_count": 8,
   "id": "d7d4339f",
   "metadata": {},
   "outputs": [],
   "source": [
    "trainloader = DataLoader(\n",
    "    dataset = train_dataset,\n",
    "    batch_size = BATCH_SIZE,\n",
    "    shuffle = False,\n",
    "    num_workers = NUM_WORKERS,\n",
    "    pin_memory = True\n",
    ")\n",
    "validloader = DataLoader(\n",
    "    dataset = valid_dataset,\n",
    "    batch_size = BATCH_SIZE,\n",
    "    shuffle = False,\n",
    "    num_workers = NUM_WORKERS,\n",
    "    pin_memory = True\n",
    ")"
   ]
  },
  {
   "cell_type": "code",
   "execution_count": null,
   "id": "0e2614b5",
   "metadata": {},
   "outputs": [],
   "source": []
  },
  {
   "cell_type": "code",
   "execution_count": 9,
   "id": "7a4156ed",
   "metadata": {},
   "outputs": [],
   "source": [
    "def mp_func(i,inpu,te,gr):\n",
    "    cum_grad = 0\n",
    "    for j,(inp,g,t) in enumerate(zip(inpu,gr,te)):\n",
    "        if inp != 0: continue\n",
    "        max_idx = np.argmin(g).tolist()\n",
    "        org_max_idx = np.argmax(t).tolist()\n",
    "        cum_grad += np.mean(g)\n",
    "        if g[max_idx] > 0: continue\n",
    "        te[j][org_max_idx] = 0\n",
    "        te[j][max_idx] = 1\n",
    "    return [i,te,cum_grad]"
   ]
  },
  {
   "cell_type": "code",
   "execution_count": 10,
   "id": "955b5f31",
   "metadata": {},
   "outputs": [],
   "source": [
    "class Model(nn.Module):\n",
    "    def __init__(self, data_length = 2e6, kernel_size = 500):\n",
    "        super().__init__()\n",
    "        self.embedding = nn.Embedding(257, 8, padding_idx=0)\n",
    "        self.conv_layer_1 = nn.Conv1d(4, 128, kernel_size, stride = kernel_size, bias = True)\n",
    "        # self.bn_1 = nn.BatchNorm1d(128)\n",
    "        self.conv_layer_2 = nn.Conv1d(4, 128, kernel_size, stride = kernel_size, bias = True)\n",
    "        self.pool_layer_2 = nn.MaxPool1d(data_length//kernel_size)\n",
    "        self.fc_layer_3 = nn.Linear(128, 128)\n",
    "        self.fc_layer_4 = nn.Linear(128, 2)\n",
    "\n",
    "    def forward(self, input_, loss_fn):\n",
    "        temp = F.one_hot(input_,num_classes=257).float()\n",
    "        temp.requires_grad = True\n",
    "        temp.retain_grad()\n",
    "        batch_acc = []\n",
    "        batch_grad = []\n",
    "        for _ in range(9):\n",
    "            x = temp @ self.embedding.weight\n",
    "            x = torch.transpose(x, -1, -2)\n",
    "\n",
    "            x_conv_1 = self.conv_layer_1(x[:,:4,:])\n",
    "            x_conv_2 = torch.sigmoid(self.conv_layer_2(x[:,4:,:]))\n",
    "\n",
    "            x = x_conv_1*x_conv_2\n",
    "            del x_conv_1,x_conv_2\n",
    "            x = self.pool_layer_2(x).squeeze()\n",
    "            \n",
    "            x = self.fc_layer_3(x)\n",
    "            x = self.fc_layer_4(x)\n",
    "            \n",
    "            acc = torch.argmax(torch.softmax(x,dim=-1),dim=-1).float().mean()\n",
    "            batch_acc.append(acc.tolist())\n",
    "            \n",
    "            mislead_labels = torch.cat((torch.ones(len(x)).reshape(-1,1),torch.zeros(len(x)).reshape(-1,1)),dim=1).cuda()\n",
    "            loss = loss_fn(x,mislead_labels)\n",
    "            loss.backward()\n",
    "            \n",
    "            data = [(i,inpu,te,gr) for i,(inpu,te,gr) in enumerate(zip(\n",
    "                input_.detach().cpu().numpy(),\n",
    "                temp.detach().cpu().numpy(),\n",
    "                temp.grad.detach().cpu().numpy()\n",
    "            ))]\n",
    "            with mp.Pool(processes=30 if len(data) > 30 else len(data)) as pool:\n",
    "                results = pool.starmap(mp_func,data)\n",
    "            results = sorted(results,key = lambda x: x[0])\n",
    "            for i in range(len(temp)):\n",
    "                temp.data[i] = torch.tensor(results[i][1], dtype=torch.float, requires_grad=True).cuda()\n",
    "            batch_grad.append(np.mean([result[2] for result in results]))\n",
    "            \n",
    "            # temp.grad.zero_()\n",
    "            \n",
    "        x = temp @ self.embedding.weight\n",
    "        x = torch.transpose(x, -1, -2)\n",
    "\n",
    "        x_conv_1 = self.conv_layer_1(x[:,:4,:])\n",
    "        x_conv_2 = torch.sigmoid(self.conv_layer_2(x[:,4:,:]))\n",
    "\n",
    "        x = x_conv_1*x_conv_2\n",
    "        del x_conv_1,x_conv_2\n",
    "        x = self.pool_layer_2(x).squeeze()\n",
    "\n",
    "        x = self.fc_layer_3(x)\n",
    "        x = self.fc_layer_4(x)\n",
    "        return x.detach().cpu().numpy(),batch_acc,batch_grad"
   ]
  },
  {
   "cell_type": "code",
   "execution_count": 11,
   "id": "0038f580",
   "metadata": {},
   "outputs": [],
   "source": [
    "model = Model(data_length=LEAVE_BIT_NUMBER,kernel_size=KERNEL_SIZE)\n",
    "\n",
    "ce_loss = nn.CrossEntropyLoss()\n",
    "optim = Adam(model.parameters())\n",
    "\n",
    "model = model.cuda() if CUDA else model\n",
    "ce_loss = ce_loss.cuda() if CUDA else ce_less"
   ]
  },
  {
   "cell_type": "code",
   "execution_count": 12,
   "id": "f674591a",
   "metadata": {},
   "outputs": [
    {
     "data": {
      "text/plain": [
       "<All keys matched successfully>"
      ]
     },
     "execution_count": 12,
     "metadata": {},
     "output_type": "execute_result"
    }
   ],
   "source": [
    "model.load_state_dict(torch.load(trained_model_path + best_trained_model))"
   ]
  },
  {
   "cell_type": "code",
   "execution_count": 13,
   "id": "84791bf3",
   "metadata": {
    "scrolled": true
   },
   "outputs": [
    {
     "name": "stderr",
     "output_type": "stream",
     "text": [
      "  0%|          | 1/600 [04:57<49:34:19, 297.93s/it]"
     ]
    },
    {
     "name": "stdout",
     "output_type": "stream",
     "text": [
      "[0.8700000 0.1200000 0.0700000 0.0500000 0.0400000 0.0400000 0.0400000 0.0400000 0.0400000 0.0400000]\n",
      "[0.0000000 -0.0011380 -0.0002627 0.0011017 0.0010281 0.0010102 0.0009439 0.0009004 0.0008609 0.0008125]\n",
      "test：0.040000, test mean: 0.040000\n"
     ]
    },
    {
     "name": "stderr",
     "output_type": "stream",
     "text": [
      "\r",
      "  0%|          | 2/600 [09:56<49:33:39, 298.36s/it]"
     ]
    },
    {
     "name": "stdout",
     "output_type": "stream",
     "text": [
      "[0.8650000 0.1100000 0.0550000 0.0450000 0.0400000 0.0400000 0.0350000 0.0350000 0.0350000 0.0350000]\n",
      "[0.0000000 -0.0010860 -0.0004346 0.0004730 0.0004244 0.0004062 0.0003666 0.0003386 0.0003127 0.0002827]\n",
      "test：0.030000, test mean: 0.035000\n"
     ]
    },
    {
     "name": "stderr",
     "output_type": "stream",
     "text": [
      "\r",
      "  0%|          | 3/600 [14:52<49:18:09, 297.30s/it]"
     ]
    },
    {
     "name": "stdout",
     "output_type": "stream",
     "text": [
      "[0.8533333 0.1266667 0.0600000 0.0500000 0.0466667 0.0466667 0.0433333 0.0433333 0.0400000 0.0400000]\n",
      "[0.0000000 -0.0014283 -0.0003156 0.0006058 0.0005716 0.0005576 0.0005298 0.0005099 0.0004909 0.0004689]\n",
      "test：0.050000, test mean: 0.040000\n"
     ]
    },
    {
     "name": "stderr",
     "output_type": "stream",
     "text": [
      "\r",
      "  1%|          | 4/600 [19:46<49:01:13, 296.10s/it]"
     ]
    },
    {
     "name": "stdout",
     "output_type": "stream",
     "text": [
      "[0.8500000 0.1575000 0.0675000 0.0550000 0.0525000 0.0525000 0.0500000 0.0500000 0.0475000 0.0475000]\n",
      "[0.0000000 -0.0015826 -0.0010177 -0.0003387 -0.0003663 -0.0003775 -0.0004048 -0.0004216 -0.0004373 -0.0004554]\n",
      "test：0.070000, test mean: 0.047500\n"
     ]
    },
    {
     "name": "stderr",
     "output_type": "stream",
     "text": [
      "\r",
      "  1%|          | 5/600 [24:40<48:47:12, 295.18s/it]"
     ]
    },
    {
     "name": "stdout",
     "output_type": "stream",
     "text": [
      "[0.8560000 0.1560000 0.0780000 0.0640000 0.0600000 0.0580000 0.0560000 0.0560000 0.0540000 0.0540000]\n",
      "[0.0000000 -0.0014669 -0.0008273 -0.0002984 -0.0003431 -0.0003648 -0.0003934 -0.0004123 -0.0004325 -0.0004526]\n",
      "test：0.080000, test mean: 0.054000\n"
     ]
    },
    {
     "name": "stderr",
     "output_type": "stream",
     "text": [
      "\r",
      "  1%|          | 6/600 [29:42<49:04:00, 297.38s/it]"
     ]
    },
    {
     "name": "stdout",
     "output_type": "stream",
     "text": [
      "[0.8650000 0.1550000 0.0833333 0.0700000 0.0650000 0.0633333 0.0616667 0.0616667 0.0600000 0.0600000]\n",
      "[0.0000000 -0.0014066 -0.0009208 -0.0004854 -0.0005454 -0.0005677 -0.0005955 -0.0006160 -0.0006371 -0.0006601]\n",
      "test：0.090000, test mean: 0.060000\n"
     ]
    },
    {
     "name": "stderr",
     "output_type": "stream",
     "text": [
      "\r",
      "  1%|          | 7/600 [34:36<48:51:04, 296.57s/it]"
     ]
    },
    {
     "name": "stdout",
     "output_type": "stream",
     "text": [
      "[0.8714285 0.1628571 0.0857143 0.0714286 0.0671429 0.0657143 0.0642857 0.0642857 0.0628571 0.0628571]\n",
      "[0.0000000 -0.0012569 -0.0007852 -0.0002527 -0.0003065 -0.0003268 -0.0003514 -0.0003700 -0.0003891 -0.0004097]\n",
      "test：0.080000, test mean: 0.062857\n"
     ]
    },
    {
     "name": "stderr",
     "output_type": "stream",
     "text": [
      "\r",
      "  1%|▏         | 8/600 [39:31<48:39:03, 295.85s/it]"
     ]
    },
    {
     "name": "stdout",
     "output_type": "stream",
     "text": [
      "[0.8750000 0.1675000 0.0925000 0.0787500 0.0750000 0.0737500 0.0712500 0.0712500 0.0700000 0.0700000]\n",
      "[0.0000000 -0.0010554 -0.0006016 -0.0001389 -0.0001905 -0.0002113 -0.0002373 -0.0002568 -0.0002774 -0.0003003]\n",
      "test：0.120000, test mean: 0.070000\n"
     ]
    },
    {
     "name": "stderr",
     "output_type": "stream",
     "text": [
      "\r",
      "  2%|▏         | 9/600 [44:28<48:39:36, 296.41s/it]"
     ]
    },
    {
     "name": "stdout",
     "output_type": "stream",
     "text": [
      "[0.8811111 0.1700000 0.0922222 0.0777778 0.0744444 0.0733333 0.0711111 0.0700000 0.0688889 0.0688889]\n",
      "[0.0000000 -0.0011100 -0.0007159 -0.0003390 -0.0003907 -0.0004145 -0.0004430 -0.0004652 -0.0004899 -0.0005136]\n",
      "test：0.060000, test mean: 0.068889\n"
     ]
    },
    {
     "name": "stderr",
     "output_type": "stream",
     "text": [
      "\r",
      "  2%|▏         | 10/600 [49:12<47:56:47, 292.55s/it]"
     ]
    },
    {
     "name": "stdout",
     "output_type": "stream",
     "text": [
      "[0.8830000 0.1710000 0.0920000 0.0770000 0.0730000 0.0720000 0.0700000 0.0690000 0.0680000 0.0680000]\n",
      "[0.0000000 -0.0013503 -0.0008394 -0.0005196 -0.0005807 -0.0006054 -0.0006355 -0.0006603 -0.0006880 -0.0007147]\n",
      "test：0.060000, test mean: 0.068000\n"
     ]
    },
    {
     "name": "stderr",
     "output_type": "stream",
     "text": [
      "\r",
      "  2%|▏         | 11/600 [54:06<47:55:53, 292.96s/it]"
     ]
    },
    {
     "name": "stdout",
     "output_type": "stream",
     "text": [
      "[0.8890909 0.1745454 0.0945455 0.0781818 0.0745455 0.0736364 0.0709091 0.0690909 0.0681818 0.0681818]\n",
      "[0.0000000 -0.0014299 -0.0009672 -0.0005820 -0.0006412 -0.0006685 -0.0006948 -0.0007188 -0.0007455 -0.0007719]\n",
      "test：0.070000, test mean: 0.068182\n"
     ]
    },
    {
     "name": "stderr",
     "output_type": "stream",
     "text": [
      "\r",
      "  2%|▏         | 12/600 [58:58<47:46:37, 292.51s/it]"
     ]
    },
    {
     "name": "stdout",
     "output_type": "stream",
     "text": [
      "[0.8858333 0.1666667 0.0916667 0.0766667 0.0716667 0.0708333 0.0683333 0.0666667 0.0658333 0.0658333]\n",
      "[0.0000000 -0.0015132 -0.0010177 -0.0006744 -0.0007465 -0.0007723 -0.0008005 -0.0008266 -0.0008555 -0.0008843]\n",
      "test：0.040000, test mean: 0.065833\n"
     ]
    },
    {
     "name": "stderr",
     "output_type": "stream",
     "text": [
      "\r",
      "  2%|▏         | 13/600 [1:03:42<47:17:02, 289.99s/it]"
     ]
    },
    {
     "name": "stdout",
     "output_type": "stream",
     "text": [
      "[0.8907692 0.1653846 0.0915385 0.0761538 0.0715385 0.0707692 0.0676923 0.0661538 0.0653846 0.0653846]\n",
      "[0.0000000 -0.0016224 -0.0010289 -0.0006179 -0.0006865 -0.0007121 -0.0007394 -0.0007653 -0.0007934 -0.0008218]\n",
      "test：0.060000, test mean: 0.065385\n"
     ]
    },
    {
     "name": "stderr",
     "output_type": "stream",
     "text": [
      "\r",
      "  2%|▏         | 14/600 [1:08:30<47:05:59, 289.35s/it]"
     ]
    },
    {
     "name": "stdout",
     "output_type": "stream",
     "text": [
      "[0.8921428 0.1635714 0.0921429 0.0771429 0.0728571 0.0721429 0.0685714 0.0664286 0.0657143 0.0664286]\n",
      "[0.0000000 -0.0017160 -0.0011790 -0.0007998 -0.0008652 -0.0008910 -0.0009208 -0.0009488 -0.0009765 -0.0010059]\n",
      "test：0.080000, test mean: 0.066429\n"
     ]
    },
    {
     "name": "stderr",
     "output_type": "stream",
     "text": [
      "\r",
      "  2%|▎         | 15/600 [1:13:20<47:02:32, 289.49s/it]"
     ]
    },
    {
     "name": "stdout",
     "output_type": "stream",
     "text": [
      "[0.8933333 0.1626667 0.0900000 0.0753333 0.0713333 0.0706667 0.0673333 0.0653333 0.0646667 0.0653333]\n",
      "[0.0000000 -0.0017701 -0.0012147 -0.0008765 -0.0009391 -0.0009641 -0.0009931 -0.0010204 -0.0010477 -0.0010775]\n",
      "test：0.050000, test mean: 0.065333\n"
     ]
    },
    {
     "name": "stderr",
     "output_type": "stream",
     "text": [
      "\r",
      "  3%|▎         | 16/600 [1:18:15<47:14:09, 291.18s/it]"
     ]
    },
    {
     "name": "stdout",
     "output_type": "stream",
     "text": [
      "[0.8931250 0.1581250 0.0881250 0.0725000 0.0687500 0.0681250 0.0650000 0.0631250 0.0625000 0.0631250]\n",
      "[0.0000000 -0.0017968 -0.0012780 -0.0008924 -0.0009542 -0.0009799 -0.0010098 -0.0010378 -0.0010663 -0.0010961]\n",
      "test：0.030000, test mean: 0.063125\n"
     ]
    },
    {
     "name": "stderr",
     "output_type": "stream",
     "text": [
      "\r",
      "  3%|▎         | 17/600 [1:23:05<47:07:49, 291.03s/it]"
     ]
    },
    {
     "name": "stdout",
     "output_type": "stream",
     "text": [
      "[0.8941176 0.1611765 0.0917647 0.0747059 0.0711765 0.0705882 0.0676471 0.0658824 0.0652941 0.0658824]\n",
      "[0.0000000 -0.0017835 -0.0012400 -0.0008421 -0.0009005 -0.0009248 -0.0009534 -0.0009800 -0.0010070 -0.0010353]\n",
      "test：0.110000, test mean: 0.065882\n"
     ]
    },
    {
     "name": "stderr",
     "output_type": "stream",
     "text": [
      "\r",
      "  3%|▎         | 18/600 [1:27:45<46:30:02, 287.63s/it]"
     ]
    },
    {
     "name": "stdout",
     "output_type": "stream",
     "text": [
      "[0.8938889 0.1616667 0.0927778 0.0761111 0.0722222 0.0716667 0.0688889 0.0672222 0.0666667 0.0672222]\n",
      "[0.0000000 -0.0017433 -0.0011593 -0.0007839 -0.0008416 -0.0008674 -0.0008971 -0.0009246 -0.0009520 -0.0009812]\n",
      "test：0.090000, test mean: 0.067222\n"
     ]
    },
    {
     "name": "stderr",
     "output_type": "stream",
     "text": [
      "\r",
      "  3%|▎         | 19/600 [1:32:34<46:29:42, 288.09s/it]"
     ]
    },
    {
     "name": "stdout",
     "output_type": "stream",
     "text": [
      "[0.8947368 0.1610526 0.0926316 0.0752632 0.0715789 0.0710526 0.0684211 0.0668421 0.0663158 0.0668421]\n",
      "[0.0000000 -0.0018489 -0.0012354 -0.0007985 -0.0008534 -0.0008782 -0.0009070 -0.0009328 -0.0009593 -0.0009866]\n",
      "test：0.060000, test mean: 0.066842\n"
     ]
    },
    {
     "name": "stderr",
     "output_type": "stream",
     "text": [
      "\r",
      "  3%|▎         | 20/600 [1:37:25<46:31:11, 288.74s/it]"
     ]
    },
    {
     "name": "stdout",
     "output_type": "stream",
     "text": [
      "[0.8930000 0.1625000 0.0935000 0.0750000 0.0715000 0.0705000 0.0680000 0.0665000 0.0660000 0.0665000]\n",
      "[0.0000000 -0.0018776 -0.0011963 -0.0007428 -0.0007961 -0.0008206 -0.0008493 -0.0008737 -0.0008992 -0.0009259]\n",
      "test：0.060000, test mean: 0.066500\n"
     ]
    },
    {
     "name": "stderr",
     "output_type": "stream",
     "text": [
      "\r",
      "  4%|▎         | 21/600 [1:42:14<46:29:34, 289.08s/it]"
     ]
    },
    {
     "name": "stdout",
     "output_type": "stream",
     "text": [
      "[0.8923809 0.1638095 0.0938095 0.0761905 0.0723810 0.0714286 0.0690476 0.0676190 0.0671429 0.0676190]\n",
      "[0.0000000 -0.0018406 -0.0012259 -0.0007982 -0.0008522 -0.0008764 -0.0009047 -0.0009289 -0.0009545 -0.0009808]\n",
      "test：0.090000, test mean: 0.067619\n"
     ]
    },
    {
     "name": "stderr",
     "output_type": "stream",
     "text": [
      "\r",
      "  4%|▎         | 22/600 [1:47:12<46:48:48, 291.57s/it]"
     ]
    },
    {
     "name": "stdout",
     "output_type": "stream",
     "text": [
      "[0.8909091 0.1672727 0.0968182 0.0781818 0.0745455 0.0736364 0.0709091 0.0695455 0.0690909 0.0695455]\n",
      "[0.0000000 -0.0018644 -0.0012491 -0.0008451 -0.0008994 -0.0009250 -0.0009537 -0.0009780 -0.0010040 -0.0010305]\n",
      "test：0.110000, test mean: 0.069545\n"
     ]
    },
    {
     "name": "stderr",
     "output_type": "stream",
     "text": [
      "\r",
      "  4%|▍         | 23/600 [1:52:05<46:48:39, 292.06s/it]"
     ]
    },
    {
     "name": "stdout",
     "output_type": "stream",
     "text": [
      "[0.8908695 0.1678261 0.0978261 0.0795652 0.0760870 0.0752174 0.0726087 0.0713043 0.0708696 0.0708696]\n",
      "[0.0000000 -0.0018693 -0.0012745 -0.0008932 -0.0009457 -0.0009725 -0.0010039 -0.0010319 -0.0010613 -0.0010908]\n",
      "test：0.100000, test mean: 0.070870\n"
     ]
    },
    {
     "name": "stderr",
     "output_type": "stream",
     "text": [
      "\r",
      "  4%|▍         | 24/600 [1:56:47<46:15:11, 289.08s/it]"
     ]
    },
    {
     "name": "stdout",
     "output_type": "stream",
     "text": [
      "[0.8912500 0.1683333 0.0987500 0.0800000 0.0766667 0.0758333 0.0729167 0.0716667 0.0712500 0.0712500]\n",
      "[0.0000000 -0.0018847 -0.0013254 -0.0009524 -0.0010046 -0.0010316 -0.0010630 -0.0010913 -0.0011210 -0.0011508]\n",
      "test：0.080000, test mean: 0.071250\n"
     ]
    },
    {
     "name": "stderr",
     "output_type": "stream",
     "text": [
      "\r",
      "  4%|▍         | 25/600 [2:01:29<45:50:20, 286.99s/it]"
     ]
    },
    {
     "name": "stdout",
     "output_type": "stream",
     "text": [
      "[0.8912000 0.1672000 0.0976000 0.0796000 0.0764000 0.0756000 0.0728000 0.0716000 0.0712000 0.0712000]\n",
      "[0.0000000 -0.0018427 -0.0013110 -0.0009556 -0.0010085 -0.0010362 -0.0010698 -0.0011009 -0.0011331 -0.0011654]\n",
      "test：0.070000, test mean: 0.071200\n"
     ]
    },
    {
     "name": "stderr",
     "output_type": "stream",
     "text": [
      "\r",
      "  4%|▍         | 26/600 [2:06:24<46:07:15, 289.26s/it]"
     ]
    },
    {
     "name": "stdout",
     "output_type": "stream",
     "text": [
      "[0.8911538 0.1661538 0.0965385 0.0788462 0.0757692 0.0750000 0.0723077 0.0707692 0.0703846 0.0703846]\n",
      "[0.0000000 -0.0018608 -0.0013031 -0.0009641 -0.0010154 -0.0010447 -0.0010794 -0.0011114 -0.0011443 -0.0011781]\n",
      "test：0.050000, test mean: 0.070385\n"
     ]
    },
    {
     "name": "stderr",
     "output_type": "stream",
     "text": [
      "\r",
      "  4%|▍         | 27/600 [2:11:14<46:06:24, 289.68s/it]"
     ]
    },
    {
     "name": "stdout",
     "output_type": "stream",
     "text": [
      "[0.8914815 0.1696296 0.0974074 0.0800000 0.0770370 0.0762963 0.0737037 0.0718519 0.0714815 0.0714815]\n",
      "[0.0000000 -0.0018246 -0.0012723 -0.0009514 -0.0010070 -0.0010405 -0.0010801 -0.0011157 -0.0011528 -0.0011911]\n",
      "test：0.100000, test mean: 0.071481\n"
     ]
    },
    {
     "name": "stderr",
     "output_type": "stream",
     "text": [
      "\r",
      "  5%|▍         | 28/600 [2:16:17<46:38:03, 293.50s/it]"
     ]
    },
    {
     "name": "stdout",
     "output_type": "stream",
     "text": [
      "[0.8907143 0.1714286 0.0985714 0.0810714 0.0782143 0.0775000 0.0746429 0.0728571 0.0725000 0.0725000]\n",
      "[0.0000000 -0.0017508 -0.0011877 -0.0008778 -0.0009317 -0.0009646 -0.0010031 -0.0010379 -0.0010740 -0.0011111]\n",
      "test：0.100000, test mean: 0.072500\n"
     ]
    },
    {
     "name": "stderr",
     "output_type": "stream",
     "text": [
      "\r",
      "  5%|▍         | 29/600 [2:21:17<46:51:38, 295.44s/it]"
     ]
    },
    {
     "name": "stdout",
     "output_type": "stream",
     "text": [
      "[0.8900000 0.1713793 0.0982759 0.0806897 0.0775862 0.0768966 0.0741379 0.0720690 0.0717241 0.0717241]\n",
      "[0.0000000 -0.0017570 -0.0011293 -0.0008278 -0.0008820 -0.0009150 -0.0009531 -0.0009880 -0.0010238 -0.0010609]\n",
      "test：0.050000, test mean: 0.071724\n"
     ]
    },
    {
     "name": "stderr",
     "output_type": "stream",
     "text": [
      "\r",
      "  5%|▌         | 30/600 [2:26:22<47:14:07, 298.33s/it]"
     ]
    },
    {
     "name": "stdout",
     "output_type": "stream",
     "text": [
      "[0.8903333 0.1710000 0.0973333 0.0800000 0.0770000 0.0763333 0.0733333 0.0713333 0.0710000 0.0710000]\n",
      "[0.0000000 -0.0017500 -0.0010654 -0.0007738 -0.0008258 -0.0008583 -0.0008970 -0.0009310 -0.0009659 -0.0010018]\n",
      "test：0.050000, test mean: 0.071000\n"
     ]
    },
    {
     "name": "stderr",
     "output_type": "stream",
     "text": [
      "\r",
      "  5%|▌         | 31/600 [2:31:09<46:37:30, 294.99s/it]"
     ]
    },
    {
     "name": "stdout",
     "output_type": "stream",
     "text": [
      "[0.8909677 0.1706452 0.0983871 0.0812903 0.0780645 0.0774194 0.0741935 0.0722581 0.0719355 0.0712903]\n",
      "[0.0000000 -0.0017546 -0.0010804 -0.0007627 -0.0008152 -0.0008473 -0.0008852 -0.0009191 -0.0009538 -0.0009891]\n",
      "test：0.080000, test mean: 0.071290\n"
     ]
    },
    {
     "name": "stderr",
     "output_type": "stream",
     "text": [
      "\r",
      "  5%|▌         | 32/600 [2:36:01<46:25:11, 294.21s/it]"
     ]
    },
    {
     "name": "stdout",
     "output_type": "stream",
     "text": [
      "[0.8896875 0.1709375 0.0990625 0.0818750 0.0784375 0.0775000 0.0740625 0.0721875 0.0718750 0.0712500]\n",
      "[0.0000000 -0.0017525 -0.0009766 -0.0006762 -0.0007281 -0.0007616 -0.0008001 -0.0008338 -0.0008679 -0.0009026]\n",
      "test：0.070000, test mean: 0.071250\n"
     ]
    },
    {
     "name": "stderr",
     "output_type": "stream",
     "text": [
      "\r",
      "  6%|▌         | 33/600 [2:41:09<46:57:38, 298.16s/it]"
     ]
    },
    {
     "name": "stdout",
     "output_type": "stream",
     "text": [
      "[0.8903030 0.1712121 0.0993939 0.0821212 0.0787879 0.0775758 0.0739394 0.0721212 0.0718182 0.0712121]\n",
      "[0.0000000 -0.0017410 -0.0010257 -0.0006890 -0.0007449 -0.0007794 -0.0008199 -0.0008546 -0.0008899 -0.0009253]\n",
      "test：0.070000, test mean: 0.071212\n"
     ]
    },
    {
     "name": "stderr",
     "output_type": "stream",
     "text": [
      "\r",
      "  6%|▌         | 34/600 [2:45:30<45:07:09, 286.98s/it]"
     ]
    },
    {
     "name": "stdout",
     "output_type": "stream",
     "text": [
      "[0.8911764 0.1723529 0.0997059 0.0826471 0.0794118 0.0782353 0.0747059 0.0729412 0.0726471 0.0720588]\n",
      "[0.0000000 -0.0017365 -0.0010175 -0.0006937 -0.0007490 -0.0007835 -0.0008240 -0.0008586 -0.0008940 -0.0009294]\n",
      "test：0.100000, test mean: 0.072059\n"
     ]
    },
    {
     "name": "stderr",
     "output_type": "stream",
     "text": [
      "\r",
      "  6%|▌         | 35/600 [2:50:01<44:18:40, 282.34s/it]"
     ]
    },
    {
     "name": "stdout",
     "output_type": "stream",
     "text": [
      "[0.8911428 0.1705714 0.0985714 0.0817143 0.0785714 0.0774286 0.0740000 0.0722857 0.0720000 0.0714286]\n",
      "[0.0000000 -0.0017415 -0.0010705 -0.0007009 -0.0007552 -0.0007891 -0.0008288 -0.0008630 -0.0008978 -0.0009326]\n",
      "test：0.050000, test mean: 0.071429\n"
     ]
    },
    {
     "name": "stderr",
     "output_type": "stream",
     "text": [
      "\r",
      "  6%|▌         | 36/600 [2:54:26<43:23:23, 276.96s/it]"
     ]
    },
    {
     "name": "stdout",
     "output_type": "stream",
     "text": [
      "[0.8894444 0.1697222 0.0972222 0.0805556 0.0775000 0.0763889 0.0730556 0.0713889 0.0711111 0.0705556]\n",
      "[0.0000000 -0.0017336 -0.0010859 -0.0007284 -0.0007831 -0.0008171 -0.0008579 -0.0008929 -0.0009287 -0.0009646]\n",
      "test：0.040000, test mean: 0.070556\n"
     ]
    },
    {
     "name": "stderr",
     "output_type": "stream",
     "text": [
      "\r",
      "  6%|▌         | 37/600 [2:58:52<42:50:06, 273.90s/it]"
     ]
    },
    {
     "name": "stdout",
     "output_type": "stream",
     "text": [
      "[0.8889189 0.1708108 0.0983784 0.0816216 0.0786486 0.0775676 0.0740541 0.0724324 0.0721622 0.0716216]\n",
      "[0.0000000 -0.0017677 -0.0011259 -0.0007803 -0.0008346 -0.0008684 -0.0009090 -0.0009437 -0.0009792 -0.0010145]\n",
      "test：0.110000, test mean: 0.071622\n"
     ]
    },
    {
     "name": "stderr",
     "output_type": "stream",
     "text": [
      "\r",
      "  6%|▋         | 38/600 [3:03:20<42:26:46, 271.90s/it]"
     ]
    },
    {
     "name": "stdout",
     "output_type": "stream",
     "text": [
      "[0.8897368 0.1700000 0.0986842 0.0810526 0.0781579 0.0771053 0.0736842 0.0721053 0.0718421 0.0713158]\n",
      "[0.0000000 -0.0017461 -0.0011128 -0.0006921 -0.0007448 -0.0007778 -0.0008173 -0.0008513 -0.0008858 -0.0009202]\n",
      "test：0.060000, test mean: 0.071316\n"
     ]
    },
    {
     "name": "stderr",
     "output_type": "stream",
     "text": [
      "\r",
      "  6%|▋         | 39/600 [3:07:52<42:23:59, 272.09s/it]"
     ]
    },
    {
     "name": "stdout",
     "output_type": "stream",
     "text": [
      "[0.8892307 0.1689744 0.0982051 0.0802564 0.0774359 0.0764103 0.0730769 0.0712820 0.0710256 0.0705128]\n",
      "[0.0000000 -0.0017231 -0.0011155 -0.0006512 -0.0007044 -0.0007387 -0.0007793 -0.0008145 -0.0008504 -0.0008858]\n",
      "test：0.040000, test mean: 0.070513\n"
     ]
    },
    {
     "name": "stderr",
     "output_type": "stream",
     "text": [
      "\r",
      "  7%|▋         | 40/600 [3:12:26<42:25:12, 272.70s/it]"
     ]
    },
    {
     "name": "stdout",
     "output_type": "stream",
     "text": [
      "[0.8907500 0.1700000 0.0997500 0.0807500 0.0777500 0.0767500 0.0732500 0.0715000 0.0710000 0.0705000]\n",
      "[0.0000000 -0.0017370 -0.0010842 -0.0005975 -0.0006542 -0.0006897 -0.0007315 -0.0007674 -0.0008040 -0.0008404]\n",
      "test：0.070000, test mean: 0.070500\n"
     ]
    },
    {
     "name": "stderr",
     "output_type": "stream",
     "text": [
      "\r",
      "  7%|▋         | 41/600 [3:17:03<42:30:48, 273.79s/it]"
     ]
    },
    {
     "name": "stdout",
     "output_type": "stream",
     "text": [
      "[0.8900000 0.1712195 0.1004878 0.0809756 0.0780488 0.0770732 0.0734146 0.0717073 0.0712195 0.0707317]\n",
      "[0.0000000 -0.0017410 -0.0011105 -0.0006153 -0.0006712 -0.0007066 -0.0007482 -0.0007833 -0.0008192 -0.0008548]\n",
      "test：0.080000, test mean: 0.070732\n"
     ]
    },
    {
     "name": "stderr",
     "output_type": "stream",
     "text": [
      "\r",
      "  7%|▋         | 42/600 [3:21:39<42:34:32, 274.68s/it]"
     ]
    },
    {
     "name": "stdout",
     "output_type": "stream",
     "text": [
      "[0.8890476 0.1721429 0.1011905 0.0816667 0.0785714 0.0771429 0.0735714 0.0719048 0.0714286 0.0709524]\n",
      "[0.0000000 -0.0017244 -0.0011393 -0.0006204 -0.0006756 -0.0007113 -0.0007521 -0.0007866 -0.0008219 -0.0008569]\n",
      "test：0.080000, test mean: 0.070952\n"
     ]
    },
    {
     "name": "stderr",
     "output_type": "stream",
     "text": [
      "\r",
      "  7%|▋         | 43/600 [3:26:09<42:16:44, 273.26s/it]"
     ]
    },
    {
     "name": "stdout",
     "output_type": "stream",
     "text": [
      "[0.8881395 0.1720930 0.1016279 0.0823256 0.0793023 0.0779070 0.0744186 0.0727907 0.0723256 0.0718605]\n",
      "[0.0000000 -0.0017211 -0.0011519 -0.0006456 -0.0007004 -0.0007365 -0.0007779 -0.0008129 -0.0008489 -0.0008848]\n",
      "test：0.110000, test mean: 0.071860\n"
     ]
    },
    {
     "name": "stderr",
     "output_type": "stream",
     "text": [
      "\r",
      "  7%|▋         | 44/600 [3:30:41<42:07:50, 272.79s/it]"
     ]
    },
    {
     "name": "stdout",
     "output_type": "stream",
     "text": [
      "[0.8881818 0.1720455 0.1018182 0.0822727 0.0793182 0.0779545 0.0745455 0.0729545 0.0725000 0.0720455]\n",
      "[0.0000000 -0.0017540 -0.0011853 -0.0006672 -0.0007223 -0.0007587 -0.0008005 -0.0008361 -0.0008729 -0.0009097]\n",
      "test：0.080000, test mean: 0.072045\n"
     ]
    },
    {
     "name": "stderr",
     "output_type": "stream",
     "text": [
      "\r",
      "  8%|▊         | 45/600 [3:34:57<41:17:21, 267.82s/it]"
     ]
    },
    {
     "name": "stdout",
     "output_type": "stream",
     "text": [
      "[0.8886666 0.1711111 0.1011111 0.0817778 0.0786667 0.0773333 0.0740000 0.0722222 0.0717778 0.0713333]\n",
      "[0.0000000 -0.0017671 -0.0012096 -0.0007055 -0.0007603 -0.0007965 -0.0008380 -0.0008732 -0.0009098 -0.0009462]\n",
      "test：0.040000, test mean: 0.071333\n"
     ]
    },
    {
     "name": "stderr",
     "output_type": "stream",
     "text": [
      "\r",
      "  8%|▊         | 46/600 [3:39:35<41:41:10, 270.89s/it]"
     ]
    },
    {
     "name": "stdout",
     "output_type": "stream",
     "text": [
      "[0.8880435 0.1706522 0.1010870 0.0821739 0.0789130 0.0776087 0.0743478 0.0726087 0.0721739 0.0717391]\n",
      "[0.0000000 -0.0018175 -0.0012708 -0.0007828 -0.0008407 -0.0008768 -0.0009194 -0.0009557 -0.0009936 -0.0010314]\n",
      "test：0.090000, test mean: 0.071739\n"
     ]
    },
    {
     "name": "stderr",
     "output_type": "stream",
     "text": [
      "\r",
      "  8%|▊         | 47/600 [3:44:14<41:59:35, 273.37s/it]"
     ]
    },
    {
     "name": "stdout",
     "output_type": "stream",
     "text": [
      "[0.8878723 0.1693617 0.0997872 0.0812766 0.0780851 0.0768085 0.0736170 0.0719149 0.0714894 0.0708511]\n",
      "[0.0000000 -0.0018298 -0.0013060 -0.0008290 -0.0008865 -0.0009221 -0.0009649 -0.0010017 -0.0010400 -0.0010784]\n",
      "test：0.030000, test mean: 0.070851\n"
     ]
    },
    {
     "name": "stderr",
     "output_type": "stream",
     "text": [
      "\r",
      "  8%|▊         | 48/600 [3:49:03<42:37:57, 278.04s/it]"
     ]
    },
    {
     "name": "stdout",
     "output_type": "stream",
     "text": [
      "[0.8881250 0.1708333 0.1000000 0.0816667 0.0785417 0.0772917 0.0741667 0.0725000 0.0720833 0.0714583]\n",
      "[0.0000000 -0.0018635 -0.0013297 -0.0008639 -0.0009207 -0.0009560 -0.0009982 -0.0010347 -0.0010725 -0.0011104]\n",
      "test：0.100000, test mean: 0.071458\n"
     ]
    },
    {
     "name": "stderr",
     "output_type": "stream",
     "text": [
      "\r",
      "  8%|▊         | 49/600 [3:53:35<42:16:51, 276.25s/it]"
     ]
    },
    {
     "name": "stdout",
     "output_type": "stream",
     "text": [
      "[0.8881632 0.1681633 0.0981633 0.0802041 0.0771429 0.0759184 0.0728571 0.0712245 0.0708163 0.0702041]\n",
      "[0.0000000 -0.0018969 -0.0013687 -0.0009124 -0.0009675 -0.0010022 -0.0010435 -0.0010794 -0.0011165 -0.0011536]\n",
      "test：0.010000, test mean: 0.070204\n"
     ]
    },
    {
     "name": "stderr",
     "output_type": "stream",
     "text": [
      "\r",
      "  8%|▊         | 50/600 [3:58:07<41:58:35, 274.75s/it]"
     ]
    },
    {
     "name": "stdout",
     "output_type": "stream",
     "text": [
      "[0.8874000 0.1674000 0.0970000 0.0794000 0.0764000 0.0752000 0.0722000 0.0706000 0.0702000 0.0696000]\n",
      "[0.0000000 -0.0018915 -0.0013358 -0.0008898 -0.0009439 -0.0009785 -0.0010199 -0.0010562 -0.0010936 -0.0011309]\n",
      "test：0.040000, test mean: 0.069600\n"
     ]
    },
    {
     "name": "stderr",
     "output_type": "stream",
     "text": [
      "\r",
      "  8%|▊         | 51/600 [4:02:17<40:47:12, 267.45s/it]"
     ]
    },
    {
     "name": "stdout",
     "output_type": "stream",
     "text": [
      "[0.8874510 0.1652941 0.0960784 0.0782353 0.0752941 0.0741176 0.0711765 0.0696078 0.0692157 0.0686275]\n",
      "[0.0000000 -0.0019269 -0.0013813 -0.0009052 -0.0009586 -0.0009928 -0.0010338 -0.0010697 -0.0011069 -0.0011438]\n",
      "test：0.020000, test mean: 0.068627\n"
     ]
    },
    {
     "name": "stderr",
     "output_type": "stream",
     "text": [
      "\r",
      "  9%|▊         | 52/600 [4:06:59<41:21:01, 271.65s/it]"
     ]
    },
    {
     "name": "stdout",
     "output_type": "stream",
     "text": [
      "[0.8871154 0.1663461 0.0965385 0.0790385 0.0753846 0.0742308 0.0713462 0.0698077 0.0694231 0.0688462]\n",
      "[0.0000000 -0.0019073 -0.0013928 -0.0009163 -0.0009704 -0.0010047 -0.0010456 -0.0010817 -0.0011190 -0.0011559]\n",
      "test：0.080000, test mean: 0.068846\n"
     ]
    },
    {
     "name": "stderr",
     "output_type": "stream",
     "text": [
      "\r",
      "  9%|▉         | 53/600 [4:11:20<40:47:08, 268.43s/it]"
     ]
    },
    {
     "name": "stdout",
     "output_type": "stream",
     "text": [
      "[0.8871698 0.1658491 0.0969811 0.0792453 0.0756604 0.0745283 0.0716981 0.0701887 0.0698113 0.0692453]\n",
      "[0.0000000 -0.0019158 -0.0014112 -0.0009331 -0.0009869 -0.0010214 -0.0010620 -0.0010980 -0.0011353 -0.0011721]\n",
      "test：0.090000, test mean: 0.069245\n"
     ]
    },
    {
     "name": "stderr",
     "output_type": "stream",
     "text": [
      "\r",
      "  9%|▉         | 54/600 [4:15:31<39:56:39, 263.37s/it]"
     ]
    },
    {
     "name": "stdout",
     "output_type": "stream",
     "text": [
      "[0.8870370 0.1666667 0.0972222 0.0792593 0.0757407 0.0744444 0.0716667 0.0701852 0.0698148 0.0692593]\n",
      "[0.0000000 -0.0018904 -0.0013708 -0.0009053 -0.0009594 -0.0009937 -0.0010341 -0.0010699 -0.0011069 -0.0011433]\n",
      "test：0.070000, test mean: 0.069259\n"
     ]
    },
    {
     "name": "stderr",
     "output_type": "stream",
     "text": [
      "\r",
      "  9%|▉         | 55/600 [4:20:15<40:49:31, 269.67s/it]"
     ]
    },
    {
     "name": "stdout",
     "output_type": "stream",
     "text": [
      "[0.8867273 0.1669091 0.0972727 0.0794545 0.0758182 0.0743636 0.0716364 0.0701818 0.0698182 0.0692727]\n",
      "[0.0000000 -0.0018917 -0.0013798 -0.0009204 -0.0009754 -0.0010098 -0.0010507 -0.0010870 -0.0011246 -0.0011615]\n",
      "test：0.070000, test mean: 0.069273\n"
     ]
    },
    {
     "name": "stderr",
     "output_type": "stream",
     "text": [
      "\r",
      "  9%|▉         | 56/600 [4:25:10<41:51:29, 277.00s/it]"
     ]
    },
    {
     "name": "stdout",
     "output_type": "stream",
     "text": [
      "[0.8876786 0.1660714 0.0971429 0.0796429 0.0758929 0.0744643 0.0716071 0.0701786 0.0698214 0.0692857]\n",
      "[0.0000000 -0.0019023 -0.0013802 -0.0009199 -0.0009754 -0.0010103 -0.0010514 -0.0010878 -0.0011256 -0.0011627]\n",
      "test：0.070000, test mean: 0.069286\n"
     ]
    },
    {
     "name": "stderr",
     "output_type": "stream",
     "text": [
      "\r",
      " 10%|▉         | 57/600 [4:30:01<42:25:06, 281.23s/it]"
     ]
    },
    {
     "name": "stdout",
     "output_type": "stream",
     "text": [
      "[0.8873684 0.1657895 0.0970175 0.0791228 0.0754386 0.0740351 0.0712281 0.0696491 0.0692982 0.0687719]\n",
      "[0.0000000 -0.0018842 -0.0013502 -0.0009006 -0.0009559 -0.0009910 -0.0010318 -0.0010680 -0.0011057 -0.0011426]\n",
      "test：0.040000, test mean: 0.068772\n"
     ]
    },
    {
     "name": "stderr",
     "output_type": "stream",
     "text": [
      "\r",
      " 10%|▉         | 58/600 [4:36:04<46:02:48, 305.85s/it]"
     ]
    },
    {
     "name": "stdout",
     "output_type": "stream",
     "text": [
      "[0.8875862 0.1660345 0.0974138 0.0796552 0.0758621 0.0744828 0.0717241 0.0701724 0.0698276 0.0693103]\n",
      "[0.0000000 -0.0019087 -0.0013616 -0.0009188 -0.0009750 -0.0010102 -0.0010524 -0.0010899 -0.0011291 -0.0011675]\n",
      "test：0.100000, test mean: 0.069310\n"
     ]
    },
    {
     "name": "stderr",
     "output_type": "stream",
     "text": [
      "\r",
      " 10%|▉         | 59/600 [4:42:18<49:01:37, 326.24s/it]"
     ]
    },
    {
     "name": "stdout",
     "output_type": "stream",
     "text": [
      "[0.8879661 0.1667797 0.0981356 0.0803390 0.0764407 0.0747458 0.0720339 0.0705085 0.0701695 0.0696610]\n",
      "[0.0000000 -0.0019264 -0.0013444 -0.0009108 -0.0009690 -0.0010064 -0.0010484 -0.0010857 -0.0011244 -0.0011623]\n",
      "test：0.090000, test mean: 0.069661\n"
     ]
    },
    {
     "name": "stderr",
     "output_type": "stream",
     "text": [
      "\r",
      " 10%|█         | 60/600 [4:49:35<53:56:25, 359.60s/it]"
     ]
    },
    {
     "name": "stdout",
     "output_type": "stream",
     "text": [
      "[0.8883333 0.1673333 0.0985000 0.0810000 0.0771667 0.0755000 0.0728333 0.0713333 0.0710000 0.0705000]\n",
      "[0.0000000 -0.0019190 -0.0013212 -0.0008951 -0.0009528 -0.0009899 -0.0010316 -0.0010687 -0.0011072 -0.0011449]\n",
      "test：0.120000, test mean: 0.070500\n"
     ]
    },
    {
     "name": "stderr",
     "output_type": "stream",
     "text": [
      "\r",
      " 10%|█         | 61/600 [4:56:36<56:34:03, 377.82s/it]"
     ]
    },
    {
     "name": "stdout",
     "output_type": "stream",
     "text": [
      "[0.8885246 0.1675410 0.0988525 0.0809836 0.0772131 0.0755738 0.0729508 0.0714754 0.0711475 0.0706557]\n",
      "[0.0000000 -0.0019100 -0.0013332 -0.0009009 -0.0009587 -0.0009959 -0.0010382 -0.0010760 -0.0011152 -0.0011537]\n",
      "test：0.080000, test mean: 0.070656\n"
     ]
    },
    {
     "name": "stderr",
     "output_type": "stream",
     "text": [
      "\r",
      " 10%|█         | 62/600 [5:03:35<58:18:39, 390.19s/it]"
     ]
    },
    {
     "name": "stdout",
     "output_type": "stream",
     "text": [
      "[0.8888709 0.1683871 0.0987097 0.0806452 0.0769355 0.0751613 0.0725806 0.0711290 0.0708064 0.0703226]\n",
      "[0.0000000 -0.0018993 -0.0012781 -0.0008524 -0.0009096 -0.0009463 -0.0009878 -0.0010248 -0.0010633 -0.0011014]\n",
      "test：0.050000, test mean: 0.070323\n"
     ]
    },
    {
     "name": "stderr",
     "output_type": "stream",
     "text": [
      "\r",
      " 10%|█         | 63/600 [5:10:58<60:34:04, 406.04s/it]"
     ]
    },
    {
     "name": "stdout",
     "output_type": "stream",
     "text": [
      "[0.8895238 0.1687302 0.0985714 0.0806349 0.0769841 0.0752381 0.0725397 0.0711111 0.0707936 0.0703175]\n",
      "[0.0000000 -0.0018875 -0.0012590 -0.0008422 -0.0008998 -0.0009374 -0.0009803 -0.0010181 -0.0010574 -0.0010962]\n",
      "test：0.070000, test mean: 0.070317\n"
     ]
    },
    {
     "name": "stderr",
     "output_type": "stream",
     "text": [
      "\r",
      " 11%|█         | 64/600 [5:18:31<62:34:47, 420.31s/it]"
     ]
    },
    {
     "name": "stdout",
     "output_type": "stream",
     "text": [
      "[0.8885937 0.1684375 0.0984375 0.0804687 0.0768750 0.0751562 0.0725000 0.0710937 0.0707812 0.0703125]\n",
      "[0.0000000 -0.0018732 -0.0012651 -0.0008361 -0.0008936 -0.0009314 -0.0009745 -0.0010125 -0.0010519 -0.0010908]\n",
      "test：0.070000, test mean: 0.070312\n"
     ]
    },
    {
     "name": "stderr",
     "output_type": "stream",
     "text": [
      "\r",
      " 11%|█         | 65/600 [5:25:45<63:02:40, 424.22s/it]"
     ]
    },
    {
     "name": "stdout",
     "output_type": "stream",
     "text": [
      "[0.8889231 0.1686154 0.0984615 0.0806154 0.0770769 0.0753846 0.0727692 0.0713846 0.0710769 0.0706154]\n",
      "[0.0000000 -0.0018660 -0.0012579 -0.0008152 -0.0008725 -0.0009100 -0.0009533 -0.0009916 -0.0010312 -0.0010703]\n",
      "test：0.090000, test mean: 0.070615\n"
     ]
    },
    {
     "name": "stderr",
     "output_type": "stream",
     "text": [
      "\r",
      " 11%|█         | 66/600 [5:32:45<62:45:55, 423.14s/it]"
     ]
    },
    {
     "name": "stdout",
     "output_type": "stream",
     "text": [
      "[0.8881818 0.1677273 0.0978788 0.0800000 0.0765151 0.0746970 0.0721212 0.0707576 0.0704545 0.0700000]\n",
      "[0.0000000 -0.0018727 -0.0012691 -0.0008247 -0.0008804 -0.0009188 -0.0009614 -0.0009991 -0.0010381 -0.0010765]\n",
      "test：0.030000, test mean: 0.070000\n"
     ]
    },
    {
     "name": "stderr",
     "output_type": "stream",
     "text": [
      "\r",
      " 11%|█         | 67/600 [5:40:45<65:08:43, 440.01s/it]"
     ]
    },
    {
     "name": "stdout",
     "output_type": "stream",
     "text": [
      "[0.8882089 0.1680597 0.0983582 0.0802985 0.0768657 0.0750746 0.0725373 0.0711940 0.0708955 0.0704478]\n",
      "[0.0000000 -0.0018554 -0.0012441 -0.0007890 -0.0008445 -0.0008832 -0.0009256 -0.0009631 -0.0010022 -0.0010406]\n",
      "test：0.100000, test mean: 0.070448\n"
     ]
    },
    {
     "name": "stderr",
     "output_type": "stream",
     "text": [
      "\r",
      " 11%|█▏        | 68/600 [5:50:00<70:07:59, 474.59s/it]"
     ]
    },
    {
     "name": "stdout",
     "output_type": "stream",
     "text": [
      "[0.8875000 0.1670588 0.0976471 0.0798529 0.0764706 0.0747059 0.0722059 0.0708824 0.0705882 0.0700000]\n",
      "[0.0000000 -0.0018392 -0.0012003 -0.0007521 -0.0008067 -0.0008448 -0.0008865 -0.0009237 -0.0009623 -0.0010002]\n",
      "test：0.040000, test mean: 0.070000\n"
     ]
    },
    {
     "name": "stderr",
     "output_type": "stream",
     "text": [
      "\r",
      " 12%|█▏        | 69/600 [5:58:13<70:48:09, 480.02s/it]"
     ]
    },
    {
     "name": "stdout",
     "output_type": "stream",
     "text": [
      "[0.8873913 0.1671014 0.0973913 0.0797101 0.0763768 0.0746377 0.0721739 0.0708696 0.0705797 0.0700000]\n",
      "[0.0000000 -0.0018515 -0.0012056 -0.0007653 -0.0008198 -0.0008579 -0.0008997 -0.0009369 -0.0009758 -0.0010139]\n",
      "test：0.070000, test mean: 0.070000\n"
     ]
    },
    {
     "name": "stderr",
     "output_type": "stream",
     "text": [
      "\r",
      " 12%|█▏        | 70/600 [6:05:38<69:07:54, 469.58s/it]"
     ]
    },
    {
     "name": "stdout",
     "output_type": "stream",
     "text": [
      "[0.8871428 0.1670000 0.0980000 0.0802857 0.0770000 0.0752857 0.0727143 0.0714286 0.0711429 0.0705714]\n",
      "[0.0000000 -0.0018528 -0.0012147 -0.0007820 -0.0008368 -0.0008762 -0.0009182 -0.0009557 -0.0009952 -0.0010338]\n",
      "test：0.110000, test mean: 0.070571\n"
     ]
    },
    {
     "name": "stderr",
     "output_type": "stream",
     "text": [
      "\r",
      " 12%|█▏        | 71/600 [6:12:43<67:02:19, 456.22s/it]"
     ]
    },
    {
     "name": "stdout",
     "output_type": "stream",
     "text": [
      "[0.8869014 0.1671831 0.0980282 0.0807042 0.0771831 0.0754930 0.0729577 0.0716901 0.0714084 0.0708451]\n",
      "[0.0000000 -0.0018648 -0.0012090 -0.0007796 -0.0008372 -0.0008766 -0.0009186 -0.0009563 -0.0009958 -0.0010344]\n",
      "test：0.090000, test mean: 0.070845\n"
     ]
    },
    {
     "name": "stderr",
     "output_type": "stream",
     "text": [
      "\r",
      " 12%|█▏        | 72/600 [6:20:13<66:38:30, 454.38s/it]"
     ]
    },
    {
     "name": "stdout",
     "output_type": "stream",
     "text": [
      "[0.8873611 0.1665278 0.0975000 0.0801389 0.0766667 0.0750000 0.0725000 0.0712500 0.0709722 0.0704167]\n",
      "[0.0000000 -0.0018709 -0.0012122 -0.0007814 -0.0008381 -0.0008770 -0.0009186 -0.0009560 -0.0009946 -0.0010327]\n",
      "test：0.040000, test mean: 0.070417\n"
     ]
    },
    {
     "name": "stderr",
     "output_type": "stream",
     "text": [
      "\r",
      " 12%|█▏        | 73/600 [6:26:57<64:18:50, 439.34s/it]"
     ]
    },
    {
     "name": "stdout",
     "output_type": "stream",
     "text": [
      "[0.8872603 0.1653425 0.0967123 0.0795890 0.0761644 0.0745205 0.0720548 0.0708219 0.0705479 0.0700000]\n",
      "[0.0000000 -0.0018814 -0.0012104 -0.0007857 -0.0008416 -0.0008800 -0.0009211 -0.0009580 -0.0009961 -0.0010338]\n",
      "test：0.040000, test mean: 0.070000\n"
     ]
    },
    {
     "name": "stderr",
     "output_type": "stream",
     "text": [
      "\r",
      " 12%|█▏        | 74/600 [6:34:48<65:34:04, 448.75s/it]"
     ]
    },
    {
     "name": "stdout",
     "output_type": "stream",
     "text": [
      "[0.8881081 0.1654054 0.0966216 0.0797297 0.0762162 0.0745946 0.0721622 0.0709459 0.0706757 0.0701351]\n",
      "[0.0000000 -0.0018828 -0.0012189 -0.0008006 -0.0008563 -0.0008947 -0.0009358 -0.0009729 -0.0010111 -0.0010489]\n",
      "test：0.080000, test mean: 0.070135\n"
     ]
    },
    {
     "name": "stderr",
     "output_type": "stream",
     "text": [
      "\r",
      " 12%|█▎        | 75/600 [6:42:08<65:03:13, 446.08s/it]"
     ]
    },
    {
     "name": "stdout",
     "output_type": "stream",
     "text": [
      "[0.8880000 0.1649333 0.0968000 0.0797333 0.0761333 0.0745333 0.0721333 0.0709333 0.0706667 0.0701333]\n",
      "[0.0000000 -0.0018900 -0.0012140 -0.0007932 -0.0008491 -0.0008871 -0.0009284 -0.0009654 -0.0010037 -0.0010414]\n",
      "test：0.070000, test mean: 0.070133\n"
     ]
    },
    {
     "name": "stderr",
     "output_type": "stream",
     "text": [
      "\r",
      " 13%|█▎        | 76/600 [6:49:36<65:02:45, 446.88s/it]"
     ]
    },
    {
     "name": "stdout",
     "output_type": "stream",
     "text": [
      "[0.8876316 0.1643421 0.0965789 0.0796053 0.0759211 0.0743421 0.0719737 0.0707895 0.0705263 0.0698684]\n",
      "[0.0000000 -0.0018901 -0.0012144 -0.0007888 -0.0008450 -0.0008826 -0.0009234 -0.0009601 -0.0009981 -0.0010354]\n",
      "test：0.050000, test mean: 0.069868\n"
     ]
    },
    {
     "name": "stderr",
     "output_type": "stream",
     "text": [
      "\r",
      " 13%|█▎        | 77/600 [6:57:21<65:42:54, 452.34s/it]"
     ]
    },
    {
     "name": "stdout",
     "output_type": "stream",
     "text": [
      "[0.8871428 0.1638961 0.0966234 0.0797403 0.0759740 0.0744156 0.0720779 0.0709091 0.0706493 0.0698701]\n",
      "[0.0000000 -0.0018891 -0.0012344 -0.0008028 -0.0008593 -0.0008971 -0.0009375 -0.0009744 -0.0010127 -0.0010503]\n",
      "test：0.070000, test mean: 0.069870\n"
     ]
    },
    {
     "name": "stderr",
     "output_type": "stream",
     "text": [
      " 13%|█▎        | 78/600 [7:04:38<47:21:50, 326.65s/it]"
     ]
    },
    {
     "name": "stdout",
     "output_type": "stream",
     "text": [
      "[0.8870513 0.1628205 0.0957692 0.0789744 0.0751282 0.0735897 0.0712820 0.0701282 0.0698718 0.0691026]\n",
      "[0.0000000 -0.0018818 -0.0012342 -0.0008008 -0.0008580 -0.0008953 -0.0009352 -0.0009716 -0.0010095 -0.0010466]\n",
      "test：0.010000, test mean: 0.069103\n"
     ]
    },
    {
     "name": "stderr",
     "output_type": "stream",
     "text": [
      "\n"
     ]
    },
    {
     "ename": "FileNotFoundError",
     "evalue": "Caught FileNotFoundError in DataLoader worker process 6.\nOriginal Traceback (most recent call last):\n  File \"/workdir/security/home/junjiehuang2468/.local/lib/python3.6/site-packages/torch/utils/data/_utils/worker.py\", line 287, in _worker_loop\n    data = fetcher.fetch(index)\n  File \"/workdir/security/home/junjiehuang2468/.local/lib/python3.6/site-packages/torch/utils/data/_utils/fetch.py\", line 49, in fetch\n    data = [self.dataset[idx] for idx in possibly_batched_index]\n  File \"/workdir/security/home/junjiehuang2468/.local/lib/python3.6/site-packages/torch/utils/data/_utils/fetch.py\", line 49, in <listcomp>\n    data = [self.dataset[idx] for idx in possibly_batched_index]\n  File \"<ipython-input-6-3d62378c0f3c>\", line 12, in __getitem__\n    with open(self.data_path + self.malware_names[idx] + '.txt','rb') as fp:\nFileNotFoundError: [Errno 2] No such file or directory: '/workdir/security/home/junjiehuang2468/paper/data/ember2018/malwares/69c7d2f0ba60104816b0fb87d5cf32de227013c2ff7923ef9fd7fe7564361148.txt'\n",
     "output_type": "error",
     "traceback": [
      "\u001b[0;31m---------------------------------------------------------------------------\u001b[0m",
      "\u001b[0;31mFileNotFoundError\u001b[0m                         Traceback (most recent call last)",
      "\u001b[0;32m<ipython-input-13-aa5cde5eb41f>\u001b[0m in \u001b[0;36m<module>\u001b[0;34m\u001b[0m\n\u001b[1;32m      6\u001b[0m \u001b[0mtotal_batch_grad\u001b[0m \u001b[0;34m=\u001b[0m \u001b[0;34m[\u001b[0m\u001b[0;34m]\u001b[0m\u001b[0;34m\u001b[0m\u001b[0;34m\u001b[0m\u001b[0m\n\u001b[1;32m      7\u001b[0m \u001b[0mbar\u001b[0m \u001b[0;34m=\u001b[0m \u001b[0mtqdm\u001b[0m\u001b[0;34m(\u001b[0m\u001b[0mvalidloader\u001b[0m\u001b[0;34m)\u001b[0m\u001b[0;34m\u001b[0m\u001b[0;34m\u001b[0m\u001b[0m\n\u001b[0;32m----> 8\u001b[0;31m \u001b[0;32mfor\u001b[0m \u001b[0mstep\u001b[0m\u001b[0;34m,\u001b[0m \u001b[0;34m(\u001b[0m\u001b[0mbatch_data\u001b[0m\u001b[0;34m,\u001b[0m\u001b[0mbatch_label\u001b[0m\u001b[0;34m)\u001b[0m \u001b[0;32min\u001b[0m \u001b[0menumerate\u001b[0m\u001b[0;34m(\u001b[0m\u001b[0mbar\u001b[0m\u001b[0;34m)\u001b[0m\u001b[0;34m:\u001b[0m\u001b[0;34m\u001b[0m\u001b[0;34m\u001b[0m\u001b[0m\n\u001b[0m\u001b[1;32m      9\u001b[0m     \u001b[0mbatch_data\u001b[0m \u001b[0;34m=\u001b[0m \u001b[0mbatch_data\u001b[0m\u001b[0;34m.\u001b[0m\u001b[0mcuda\u001b[0m\u001b[0;34m(\u001b[0m\u001b[0;34m)\u001b[0m \u001b[0;32mif\u001b[0m \u001b[0mCUDA\u001b[0m \u001b[0;32melse\u001b[0m \u001b[0mbatch_data\u001b[0m\u001b[0;34m\u001b[0m\u001b[0;34m\u001b[0m\u001b[0m\n\u001b[1;32m     10\u001b[0m     \u001b[0mbatch_label\u001b[0m \u001b[0;34m=\u001b[0m \u001b[0mbatch_label\u001b[0m\u001b[0;34m.\u001b[0m\u001b[0mcuda\u001b[0m\u001b[0;34m(\u001b[0m\u001b[0;34m)\u001b[0m \u001b[0;32mif\u001b[0m \u001b[0mCUDA\u001b[0m \u001b[0;32melse\u001b[0m \u001b[0mbatch_label\u001b[0m\u001b[0;34m\u001b[0m\u001b[0;34m\u001b[0m\u001b[0m\n",
      "\u001b[0;32m~/.local/lib/python3.6/site-packages/tqdm/std.py\u001b[0m in \u001b[0;36m__iter__\u001b[0;34m(self)\u001b[0m\n\u001b[1;32m   1178\u001b[0m \u001b[0;34m\u001b[0m\u001b[0m\n\u001b[1;32m   1179\u001b[0m         \u001b[0;32mtry\u001b[0m\u001b[0;34m:\u001b[0m\u001b[0;34m\u001b[0m\u001b[0;34m\u001b[0m\u001b[0m\n\u001b[0;32m-> 1180\u001b[0;31m             \u001b[0;32mfor\u001b[0m \u001b[0mobj\u001b[0m \u001b[0;32min\u001b[0m \u001b[0miterable\u001b[0m\u001b[0;34m:\u001b[0m\u001b[0;34m\u001b[0m\u001b[0;34m\u001b[0m\u001b[0m\n\u001b[0m\u001b[1;32m   1181\u001b[0m                 \u001b[0;32myield\u001b[0m \u001b[0mobj\u001b[0m\u001b[0;34m\u001b[0m\u001b[0;34m\u001b[0m\u001b[0m\n\u001b[1;32m   1182\u001b[0m                 \u001b[0;31m# Update and possibly print the progressbar.\u001b[0m\u001b[0;34m\u001b[0m\u001b[0;34m\u001b[0m\u001b[0;34m\u001b[0m\u001b[0m\n",
      "\u001b[0;32m~/.local/lib/python3.6/site-packages/torch/utils/data/dataloader.py\u001b[0m in \u001b[0;36m__next__\u001b[0;34m(self)\u001b[0m\n\u001b[1;32m    519\u001b[0m             \u001b[0;32mif\u001b[0m \u001b[0mself\u001b[0m\u001b[0;34m.\u001b[0m\u001b[0m_sampler_iter\u001b[0m \u001b[0;32mis\u001b[0m \u001b[0;32mNone\u001b[0m\u001b[0;34m:\u001b[0m\u001b[0;34m\u001b[0m\u001b[0;34m\u001b[0m\u001b[0m\n\u001b[1;32m    520\u001b[0m                 \u001b[0mself\u001b[0m\u001b[0;34m.\u001b[0m\u001b[0m_reset\u001b[0m\u001b[0;34m(\u001b[0m\u001b[0;34m)\u001b[0m\u001b[0;34m\u001b[0m\u001b[0;34m\u001b[0m\u001b[0m\n\u001b[0;32m--> 521\u001b[0;31m             \u001b[0mdata\u001b[0m \u001b[0;34m=\u001b[0m \u001b[0mself\u001b[0m\u001b[0;34m.\u001b[0m\u001b[0m_next_data\u001b[0m\u001b[0;34m(\u001b[0m\u001b[0;34m)\u001b[0m\u001b[0;34m\u001b[0m\u001b[0;34m\u001b[0m\u001b[0m\n\u001b[0m\u001b[1;32m    522\u001b[0m             \u001b[0mself\u001b[0m\u001b[0;34m.\u001b[0m\u001b[0m_num_yielded\u001b[0m \u001b[0;34m+=\u001b[0m \u001b[0;36m1\u001b[0m\u001b[0;34m\u001b[0m\u001b[0;34m\u001b[0m\u001b[0m\n\u001b[1;32m    523\u001b[0m             \u001b[0;32mif\u001b[0m \u001b[0mself\u001b[0m\u001b[0;34m.\u001b[0m\u001b[0m_dataset_kind\u001b[0m \u001b[0;34m==\u001b[0m \u001b[0m_DatasetKind\u001b[0m\u001b[0;34m.\u001b[0m\u001b[0mIterable\u001b[0m \u001b[0;32mand\u001b[0m\u001b[0;31m \u001b[0m\u001b[0;31m\\\u001b[0m\u001b[0;34m\u001b[0m\u001b[0;34m\u001b[0m\u001b[0m\n",
      "\u001b[0;32m~/.local/lib/python3.6/site-packages/torch/utils/data/dataloader.py\u001b[0m in \u001b[0;36m_next_data\u001b[0;34m(self)\u001b[0m\n\u001b[1;32m   1201\u001b[0m             \u001b[0;32melse\u001b[0m\u001b[0;34m:\u001b[0m\u001b[0;34m\u001b[0m\u001b[0;34m\u001b[0m\u001b[0m\n\u001b[1;32m   1202\u001b[0m                 \u001b[0;32mdel\u001b[0m \u001b[0mself\u001b[0m\u001b[0;34m.\u001b[0m\u001b[0m_task_info\u001b[0m\u001b[0;34m[\u001b[0m\u001b[0midx\u001b[0m\u001b[0;34m]\u001b[0m\u001b[0;34m\u001b[0m\u001b[0;34m\u001b[0m\u001b[0m\n\u001b[0;32m-> 1203\u001b[0;31m                 \u001b[0;32mreturn\u001b[0m \u001b[0mself\u001b[0m\u001b[0;34m.\u001b[0m\u001b[0m_process_data\u001b[0m\u001b[0;34m(\u001b[0m\u001b[0mdata\u001b[0m\u001b[0;34m)\u001b[0m\u001b[0;34m\u001b[0m\u001b[0;34m\u001b[0m\u001b[0m\n\u001b[0m\u001b[1;32m   1204\u001b[0m \u001b[0;34m\u001b[0m\u001b[0m\n\u001b[1;32m   1205\u001b[0m     \u001b[0;32mdef\u001b[0m \u001b[0m_try_put_index\u001b[0m\u001b[0;34m(\u001b[0m\u001b[0mself\u001b[0m\u001b[0;34m)\u001b[0m\u001b[0;34m:\u001b[0m\u001b[0;34m\u001b[0m\u001b[0;34m\u001b[0m\u001b[0m\n",
      "\u001b[0;32m~/.local/lib/python3.6/site-packages/torch/utils/data/dataloader.py\u001b[0m in \u001b[0;36m_process_data\u001b[0;34m(self, data)\u001b[0m\n\u001b[1;32m   1227\u001b[0m         \u001b[0mself\u001b[0m\u001b[0;34m.\u001b[0m\u001b[0m_try_put_index\u001b[0m\u001b[0;34m(\u001b[0m\u001b[0;34m)\u001b[0m\u001b[0;34m\u001b[0m\u001b[0;34m\u001b[0m\u001b[0m\n\u001b[1;32m   1228\u001b[0m         \u001b[0;32mif\u001b[0m \u001b[0misinstance\u001b[0m\u001b[0;34m(\u001b[0m\u001b[0mdata\u001b[0m\u001b[0;34m,\u001b[0m \u001b[0mExceptionWrapper\u001b[0m\u001b[0;34m)\u001b[0m\u001b[0;34m:\u001b[0m\u001b[0;34m\u001b[0m\u001b[0;34m\u001b[0m\u001b[0m\n\u001b[0;32m-> 1229\u001b[0;31m             \u001b[0mdata\u001b[0m\u001b[0;34m.\u001b[0m\u001b[0mreraise\u001b[0m\u001b[0;34m(\u001b[0m\u001b[0;34m)\u001b[0m\u001b[0;34m\u001b[0m\u001b[0;34m\u001b[0m\u001b[0m\n\u001b[0m\u001b[1;32m   1230\u001b[0m         \u001b[0;32mreturn\u001b[0m \u001b[0mdata\u001b[0m\u001b[0;34m\u001b[0m\u001b[0;34m\u001b[0m\u001b[0m\n\u001b[1;32m   1231\u001b[0m \u001b[0;34m\u001b[0m\u001b[0m\n",
      "\u001b[0;32m~/.local/lib/python3.6/site-packages/torch/_utils.py\u001b[0m in \u001b[0;36mreraise\u001b[0;34m(self)\u001b[0m\n\u001b[1;32m    432\u001b[0m             \u001b[0;31m# instantiate since we don't know how to\u001b[0m\u001b[0;34m\u001b[0m\u001b[0;34m\u001b[0m\u001b[0;34m\u001b[0m\u001b[0m\n\u001b[1;32m    433\u001b[0m             \u001b[0;32mraise\u001b[0m \u001b[0mRuntimeError\u001b[0m\u001b[0;34m(\u001b[0m\u001b[0mmsg\u001b[0m\u001b[0;34m)\u001b[0m \u001b[0;32mfrom\u001b[0m \u001b[0;32mNone\u001b[0m\u001b[0;34m\u001b[0m\u001b[0;34m\u001b[0m\u001b[0m\n\u001b[0;32m--> 434\u001b[0;31m         \u001b[0;32mraise\u001b[0m \u001b[0mexception\u001b[0m\u001b[0;34m\u001b[0m\u001b[0;34m\u001b[0m\u001b[0m\n\u001b[0m\u001b[1;32m    435\u001b[0m \u001b[0;34m\u001b[0m\u001b[0m\n\u001b[1;32m    436\u001b[0m \u001b[0;34m\u001b[0m\u001b[0m\n",
      "\u001b[0;31mFileNotFoundError\u001b[0m: Caught FileNotFoundError in DataLoader worker process 6.\nOriginal Traceback (most recent call last):\n  File \"/workdir/security/home/junjiehuang2468/.local/lib/python3.6/site-packages/torch/utils/data/_utils/worker.py\", line 287, in _worker_loop\n    data = fetcher.fetch(index)\n  File \"/workdir/security/home/junjiehuang2468/.local/lib/python3.6/site-packages/torch/utils/data/_utils/fetch.py\", line 49, in fetch\n    data = [self.dataset[idx] for idx in possibly_batched_index]\n  File \"/workdir/security/home/junjiehuang2468/.local/lib/python3.6/site-packages/torch/utils/data/_utils/fetch.py\", line 49, in <listcomp>\n    data = [self.dataset[idx] for idx in possibly_batched_index]\n  File \"<ipython-input-6-3d62378c0f3c>\", line 12, in __getitem__\n    with open(self.data_path + self.malware_names[idx] + '.txt','rb') as fp:\nFileNotFoundError: [Errno 2] No such file or directory: '/workdir/security/home/junjiehuang2468/paper/data/ember2018/malwares/69c7d2f0ba60104816b0fb87d5cf32de227013c2ff7923ef9fd7fe7564361148.txt'\n"
     ]
    }
   ],
   "source": [
    "model.eval()\n",
    "acc = []\n",
    "preds = []\n",
    "labels = []\n",
    "total_batch_acc = []\n",
    "total_batch_grad = []\n",
    "bar = tqdm(validloader)\n",
    "for step, (batch_data,batch_label) in enumerate(bar):\n",
    "    batch_data = batch_data.cuda() if CUDA else batch_data\n",
    "    batch_label = batch_label.cuda() if CUDA else batch_label\n",
    "    batch_label = batch_label.squeeze()\n",
    "    temp = torch.zeros((len(batch_label),2))\n",
    "    for idx,target in enumerate(batch_label.squeeze()): temp[idx,target] = 1\n",
    "    temp_label = temp.cuda() if CUDA else temp\n",
    "\n",
    "    pred,batch_acc,batch_grad = model(batch_data,ce_loss)\n",
    "    \n",
    "    pred = np.argmax(pred,1)\n",
    "    batch_label = batch_label.cpu().data.numpy()\n",
    "    \n",
    "    preds.extend(pred.tolist())\n",
    "    labels.extend(batch_label.tolist())\n",
    "    \n",
    "    temp_acc = (batch_label == pred).mean()\n",
    "    acc.append(temp_acc)\n",
    "    total_batch_acc.append(batch_acc + [temp_acc])\n",
    "    total_batch_grad.append([0] + batch_grad)\n",
    "    total_batch_acc_str = '[' + ' '.join(map(lambda x: '%.7f'%x,np.mean(total_batch_acc,axis=0))) + ']'\n",
    "    total_batch_grad_str = '[' + ' '.join(map(lambda x: '%.7f'%x,np.mean(total_batch_grad,axis=0))) + ']'\n",
    "    print(total_batch_acc_str)\n",
    "    print(total_batch_grad_str)\n",
    "    print(f\"test：{temp_acc:4f}, test mean: {np.mean(acc):4f}\")"
   ]
  }
 ],
 "metadata": {
  "kernelspec": {
   "display_name": "Python 3",
   "language": "python",
   "name": "python3"
  },
  "language_info": {
   "codemirror_mode": {
    "name": "ipython",
    "version": 3
   },
   "file_extension": ".py",
   "mimetype": "text/x-python",
   "name": "python",
   "nbconvert_exporter": "python",
   "pygments_lexer": "ipython3",
   "version": "3.6.9"
  }
 },
 "nbformat": 4,
 "nbformat_minor": 5
}
