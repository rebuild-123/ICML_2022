{
 "cells": [
  {
   "cell_type": "code",
   "execution_count": 1,
   "id": "2ac8a951",
   "metadata": {},
   "outputs": [],
   "source": [
    "import os\n",
    "import numpy as np\n",
    "import pandas as pd\n",
    "from tqdm import tqdm\n",
    "import multiprocessing as mp\n",
    "from sklearn.model_selection import train_test_split\n",
    "import torch\n",
    "from torch import nn\n",
    "from torch.optim import Adam\n",
    "import torch.nn.functional as F\n",
    "from torch.utils.data import DataLoader, Dataset\n",
    "os.environ[\"CUDA_VISIBLE_DEVICES\"] = '3'"
   ]
  },
  {
   "cell_type": "code",
   "execution_count": null,
   "id": "3ef54173",
   "metadata": {},
   "outputs": [],
   "source": []
  },
  {
   "cell_type": "code",
   "execution_count": 2,
   "id": "373482b5",
   "metadata": {},
   "outputs": [],
   "source": [
    "trained_model_path = '/workdir/security/home/junjiehuang2468/paper/trained_models_weight/ember/'\n",
    "best_trained_model = '2022-01-18 14:55/2w_epoch:0_test_acc:0.890858.pt'\n",
    "data_path = \"/workdir/security/home/junjiehuang2468/paper/data/ember2018/\"\n",
    "train_data_path = data_path + \"malwares/\" \n",
    "test_data_path = data_path + \"test_malwares/\" "
   ]
  },
  {
   "cell_type": "code",
   "execution_count": 3,
   "id": "c05c1730",
   "metadata": {},
   "outputs": [],
   "source": [
    "CUDA = True if torch.cuda.is_available() else False\n",
    "NUM_WORKERS = 24\n",
    "# BATCH_SIZE = 80\n",
    "BATCH_SIZE = 10\n",
    "LEAVE_BIT_NUMBER = 20000\n",
    "KERNEL_SIZE = 500"
   ]
  },
  {
   "cell_type": "code",
   "execution_count": 4,
   "id": "0274cb27",
   "metadata": {},
   "outputs": [],
   "source": [
    "LEAVE_BIT_NUMBER_DICT = {10000:'1w',20000:'2w'}"
   ]
  },
  {
   "cell_type": "code",
   "execution_count": 5,
   "id": "f0179094",
   "metadata": {},
   "outputs": [],
   "source": [
    "trainset = pd.read_csv(data_path + 'train_dataset.csv')\n",
    "validset = pd.read_csv(data_path + 'valid_dataset.csv')\n",
    "testset = pd.read_csv(data_path + 'test_dataset.csv')\n",
    "testset = testset.iloc[np.argwhere(testset['labels'].values == 1).squeeze(),:]"
   ]
  },
  {
   "cell_type": "code",
   "execution_count": 6,
   "id": "4fb0d918",
   "metadata": {},
   "outputs": [],
   "source": [
    "class ExeDataset(Dataset):\n",
    "    def __init__(self, malware_names, data_path, labels, leave_bit_num):\n",
    "        self.malware_names = malware_names\n",
    "        self.data_path = data_path\n",
    "        self.labels = labels\n",
    "        self.leave_bit_num = leave_bit_num\n",
    "\n",
    "    def __len__(self):\n",
    "        return len(self.malware_names)\n",
    "\n",
    "    def __getitem__(self, idx):\n",
    "        with open(self.data_path + self.malware_names[idx] + '.txt','rb') as fp:\n",
    "            data = [bit+1 for bit in fp.read()[:self.leave_bit_num]]\n",
    "            padding = [0]*(self.leave_bit_num-len(data))\n",
    "            data = data + padding\n",
    "\n",
    "        return np.array(data), np.array([self.labels[idx]])"
   ]
  },
  {
   "cell_type": "code",
   "execution_count": 7,
   "id": "0dff087d",
   "metadata": {},
   "outputs": [],
   "source": [
    "train_dataset = ExeDataset(\n",
    "    trainset[\"id\"].tolist(), \n",
    "    train_data_path, \n",
    "    trainset[\"labels\"].tolist(), \n",
    "    LEAVE_BIT_NUMBER\n",
    ")\n",
    "valid_dataset = ExeDataset(\n",
    "    validset[\"id\"].tolist(), \n",
    "    train_data_path, \n",
    "    validset[\"labels\"].tolist(), \n",
    "    LEAVE_BIT_NUMBER\n",
    ")\n",
    "test_dataset = ExeDataset(\n",
    "    testset[\"id\"].tolist(), \n",
    "    test_data_path, \n",
    "    testset[\"labels\"].tolist(), \n",
    "    LEAVE_BIT_NUMBER\n",
    ")"
   ]
  },
  {
   "cell_type": "code",
   "execution_count": 8,
   "id": "d7d4339f",
   "metadata": {},
   "outputs": [],
   "source": [
    "trainloader = DataLoader(\n",
    "    dataset = train_dataset,\n",
    "    batch_size = BATCH_SIZE,\n",
    "    shuffle = False,\n",
    "    num_workers = NUM_WORKERS,\n",
    "    pin_memory = True\n",
    ")\n",
    "validloader = DataLoader(\n",
    "    dataset = valid_dataset,\n",
    "    batch_size = BATCH_SIZE,\n",
    "    shuffle = False,\n",
    "    num_workers = NUM_WORKERS,\n",
    "    pin_memory = True\n",
    ")\n",
    "testloader = DataLoader(\n",
    "    dataset = test_dataset,\n",
    "    batch_size = BATCH_SIZE,\n",
    "    shuffle = False,\n",
    "    num_workers = NUM_WORKERS,\n",
    "    pin_memory = True\n",
    ")"
   ]
  },
  {
   "cell_type": "code",
   "execution_count": 21,
   "id": "b64b5832",
   "metadata": {},
   "outputs": [],
   "source": [
    "class Model(nn.Module):\n",
    "    def __init__(self, data_length = 2e6, kernel_size = 500):\n",
    "        super().__init__()\n",
    "        self.embedding = nn.Embedding(257, 8, padding_idx=0)\n",
    "        self.conv_layer_1 = nn.Conv1d(4, 128, kernel_size, stride = kernel_size, bias = True)\n",
    "        # self.bn_1 = nn.BatchNorm1d(128)\n",
    "        self.conv_layer_2 = nn.Conv1d(4, 128, kernel_size, stride = kernel_size, bias = True)\n",
    "        self.pool_layer_2 = nn.MaxPool1d(data_length//kernel_size)\n",
    "        self.fc_layer_3 = nn.Linear(128, 128)\n",
    "        self.fc_layer_4 = nn.Linear(128, 2)\n",
    "\n",
    "    def forward(self, input_, loss_fn):\n",
    "        one_hot_x = F.one_hot(input_,num_classes=257).float()\n",
    "        one_hot_x.requires_grad = True\n",
    "        one_hot_x.retain_grad()\n",
    "        batch_acc = []\n",
    "        batch_grad = []\n",
    "        for _ in range(13):\n",
    "            x = one_hot_x @ self.embedding.weight\n",
    "            x = torch.transpose(x, -1, -2)\n",
    "\n",
    "            x_conv_1 = self.conv_layer_1(x[:,:4,:])\n",
    "            x_conv_2 = torch.sigmoid(self.conv_layer_2(x[:,4:,:]))\n",
    "\n",
    "            x = x_conv_1*x_conv_2\n",
    "            del x_conv_1,x_conv_2\n",
    "            x = self.pool_layer_2(x).squeeze()\n",
    "            \n",
    "            x = self.fc_layer_3(x)\n",
    "            x = self.fc_layer_4(x)\n",
    "            \n",
    "            acc = torch.argmax(torch.softmax(x,dim=-1),dim=-1).float().mean()\n",
    "            batch_acc.append(acc.tolist())\n",
    "            \n",
    "            mislead_labels = torch.cat((torch.ones(len(x)).reshape(-1,1),torch.zeros(len(x)).reshape(-1,1)),dim=1).cuda()\n",
    "            loss = loss_fn(x,mislead_labels)\n",
    "            loss.backward()\n",
    "            \n",
    "            padding_place_mask = (input_ == 0)\n",
    "            shape = padding_place_mask.shape\n",
    "            expand_padding_place_mask = padding_place_mask.unsqueeze(-1).expand(shape[0],shape[1],257)\n",
    "            grad_min_idx = torch.argmin(one_hot_x.grad,dim=-1)\n",
    "            grad_sez_mask = (one_hot_x.grad <= 0)\n",
    "            grad_mask = (expand_padding_place_mask & grad_sez_mask)\n",
    "            batch_grad.append(torch.div(\n",
    "                input=(expand_padding_place_mask.float()*one_hot_x.grad).sum(),\n",
    "                other=expand_padding_place_mask.float().sum()\n",
    "            ).detach().cpu().numpy())\n",
    "            one_hot_x.data = F.one_hot(torch.argmin(\n",
    "                one_hot_x.grad,\n",
    "                dim=-1\n",
    "            ),num_classes=257).float()*(grad_mask.float()) + one_hot_x*(1 - grad_mask.float())\n",
    "#             new_x = torch.argmin(grad_mask.float()*one_hot_x.grad,dim=-1)\n",
    "#             grad_all_gz_mask = grad_sez_mask.sum(dim=-1) == 257\n",
    "#             mask = ((~grad_all_gz_mask) & padding_place_mask)\n",
    "#             temp = (1 - mask.float())*input_ + mask.float()*new_x\n",
    "#             one_hot_x.data = F.one_hot(temp.long(),num_classes=257).float()\n",
    "            \n",
    "            # one_hot_x.grad.zero_()\n",
    "            \n",
    "        x = one_hot_x @ self.embedding.weight\n",
    "        x = torch.transpose(x, -1, -2)\n",
    "\n",
    "        x_conv_1 = self.conv_layer_1(x[:,:4,:])\n",
    "        x_conv_2 = torch.sigmoid(self.conv_layer_2(x[:,4:,:]))\n",
    "\n",
    "        x = x_conv_1*x_conv_2\n",
    "        del x_conv_1,x_conv_2\n",
    "        x = self.pool_layer_2(x).squeeze()\n",
    "\n",
    "        x = self.fc_layer_3(x)\n",
    "        x = self.fc_layer_4(x)\n",
    "        return x.detach().cpu().numpy(),batch_acc,one_hot_x"
   ]
  },
  {
   "cell_type": "code",
   "execution_count": 22,
   "id": "0038f580",
   "metadata": {},
   "outputs": [],
   "source": [
    "model = Model(data_length=LEAVE_BIT_NUMBER,kernel_size=KERNEL_SIZE)\n",
    "\n",
    "ce_loss = nn.CrossEntropyLoss()\n",
    "optim = Adam(model.parameters())\n",
    "\n",
    "model = model.cuda() if CUDA else model\n",
    "ce_loss = ce_loss.cuda() if CUDA else ce_less"
   ]
  },
  {
   "cell_type": "code",
   "execution_count": 23,
   "id": "f674591a",
   "metadata": {},
   "outputs": [
    {
     "data": {
      "text/plain": [
       "<All keys matched successfully>"
      ]
     },
     "execution_count": 23,
     "metadata": {},
     "output_type": "execute_result"
    }
   ],
   "source": [
    "model.load_state_dict(torch.load(trained_model_path + best_trained_model))"
   ]
  },
  {
   "cell_type": "code",
   "execution_count": 24,
   "id": "ebeacc4c",
   "metadata": {
    "scrolled": true
   },
   "outputs": [
    {
     "name": "stderr",
     "output_type": "stream",
     "text": [
      "  0%|          | 0/10000 [00:01<?, ?it/s]\n"
     ]
    }
   ],
   "source": [
    "model.eval()\n",
    "acc = []\n",
    "preds = []\n",
    "labels = []\n",
    "total_batch_acc = []\n",
    "total_batch_grad = []\n",
    "bar = tqdm(testloader)\n",
    "# bar = tqdm(validloader)\n",
    "for step, (batch_data,batch_label) in enumerate(bar):\n",
    "    batch_data = batch_data.cuda() if CUDA else batch_data\n",
    "    batch_label = batch_label.cuda() if CUDA else batch_label\n",
    "    batch_label = batch_label.squeeze()\n",
    "    temp_label = torch.zeros((len(batch_label),2))\n",
    "    for idx,target in enumerate(batch_label.squeeze()): temp_label[idx,target] = 1\n",
    "    temp_label = temp_label.cuda() if CUDA else temp_label\n",
    "\n",
    "#     pred,input_,one_hot_x = model(batch_data,ce_loss)\n",
    "#     break\n",
    "    pred,batch_acc,one_hot_x = model(batch_data,ce_loss)\n",
    "    break\n",
    "    pred = np.argmax(pred,1)\n",
    "    batch_label = batch_label.cpu().data.numpy()\n",
    "    \n",
    "    preds.extend(pred.tolist())\n",
    "    labels.extend(batch_label.tolist())\n",
    "    \n",
    "    temp_acc = (batch_label == pred).mean()\n",
    "    acc.append(temp_acc)\n",
    "    total_batch_acc.append(batch_acc + [temp_acc])\n",
    "    total_batch_grad.append([0] + batch_grad)\n",
    "    total_batch_acc_str = '[' + ' '.join(map(lambda x: '%.10f'%x,np.mean(total_batch_acc,axis=0))) + ']'\n",
    "    total_batch_grad_str = '[' + ' '.join(map(lambda x: '%.10f'%x,np.mean(total_batch_grad,axis=0))) + ']'\n",
    "    print(total_batch_acc_str)\n",
    "    print(total_batch_grad_str)\n",
    "    print(f\"test：{temp_acc:4f}, test mean: {np.mean(acc):4f}\")"
   ]
  },
  {
   "cell_type": "code",
   "execution_count": null,
   "id": "8a79d678",
   "metadata": {},
   "outputs": [],
   "source": [
    "# import pickle"
   ]
  },
  {
   "cell_type": "code",
   "execution_count": null,
   "id": "4dddb0e4",
   "metadata": {},
   "outputs": [],
   "source": [
    "# with open('/workdir/security/home/junjiehuang2468/paper/results/ember/my_way/cumulative_gradients_v2_13iter_grad.txt','wb') as fp:\n",
    "#     pickle.dump(total_batch_grad,fp)"
   ]
  }
 ],
 "metadata": {
  "kernelspec": {
   "display_name": "Python 3",
   "language": "python",
   "name": "python3"
  },
  "language_info": {
   "codemirror_mode": {
    "name": "ipython",
    "version": 3
   },
   "file_extension": ".py",
   "mimetype": "text/x-python",
   "name": "python",
   "nbconvert_exporter": "python",
   "pygments_lexer": "ipython3",
   "version": "3.6.9"
  }
 },
 "nbformat": 4,
 "nbformat_minor": 5
}
