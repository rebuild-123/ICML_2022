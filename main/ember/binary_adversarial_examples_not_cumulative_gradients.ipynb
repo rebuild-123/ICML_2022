{
 "cells": [
  {
   "cell_type": "code",
   "execution_count": 1,
   "id": "2ac8a951",
   "metadata": {},
   "outputs": [],
   "source": [
    "import os\n",
    "import numpy as np\n",
    "import pandas as pd\n",
    "from tqdm import tqdm\n",
    "import multiprocessing as mp\n",
    "from sklearn.model_selection import train_test_split\n",
    "import torch\n",
    "from torch import nn\n",
    "from torch.optim import Adam\n",
    "import torch.nn.functional as F\n",
    "from torch.utils.data import DataLoader, Dataset\n",
    "os.environ[\"CUDA_VISIBLE_DEVICES\"] = '2'"
   ]
  },
  {
   "cell_type": "code",
   "execution_count": null,
   "id": "3ef54173",
   "metadata": {},
   "outputs": [],
   "source": []
  },
  {
   "cell_type": "code",
   "execution_count": 2,
   "id": "373482b5",
   "metadata": {},
   "outputs": [],
   "source": [
    "trained_model_path = '/workdir/security/home/junjiehuang2468/paper/trained_models_weight/ember/'\n",
    "best_trained_model = '2022-01-18 14:55/2w_epoch:13_test_acc:0.896058.pt'\n",
    "data_path = \"/workdir/security/home/junjiehuang2468/paper/data/ember2018/\"\n",
    "train_data_path = data_path + \"malwares/\" \n",
    "train_label_path = data_path + \"train_labels.csv\" "
   ]
  },
  {
   "cell_type": "code",
   "execution_count": 3,
   "id": "c05c1730",
   "metadata": {},
   "outputs": [],
   "source": [
    "CUDA = True if torch.cuda.is_available() else False\n",
    "NUM_WORKERS = 24\n",
    "BATCH_SIZE = 100\n",
    "LEAVE_BIT_NUMBER = 20000\n",
    "KERNEL_SIZE = 500"
   ]
  },
  {
   "cell_type": "code",
   "execution_count": 4,
   "id": "0274cb27",
   "metadata": {},
   "outputs": [],
   "source": [
    "LEAVE_BIT_NUMBER_DICT = {10000:'1w',20000:'2w'}"
   ]
  },
  {
   "cell_type": "code",
   "execution_count": 5,
   "id": "f0179094",
   "metadata": {},
   "outputs": [],
   "source": [
    "trainset = pd.read_csv(data_path + 'train_dataset.csv')\n",
    "validset = pd.read_csv(data_path + 'valid_dataset.csv')\n",
    "validset = validset.iloc[np.argwhere(validset['labels'].values == 1).squeeze(),:]"
   ]
  },
  {
   "cell_type": "code",
   "execution_count": 6,
   "id": "4fb0d918",
   "metadata": {},
   "outputs": [],
   "source": [
    "class ExeDataset(Dataset): # ExeDataset不是我取的，要記得改\n",
    "    def __init__(self, malware_names, data_path, labels, leave_bit_num):\n",
    "        self.malware_names = malware_names\n",
    "        self.data_path = data_path\n",
    "        self.labels = labels\n",
    "        self.leave_bit_num = leave_bit_num\n",
    "\n",
    "    def __len__(self):\n",
    "        return len(self.malware_names)\n",
    "\n",
    "    def __getitem__(self, idx):\n",
    "        with open(self.data_path + self.malware_names[idx] + '.txt','rb') as fp:\n",
    "            data = [bit+1 for bit in fp.read()[:self.leave_bit_num]]\n",
    "            padding = [0]*(self.leave_bit_num-len(data))\n",
    "            data = data + padding\n",
    "\n",
    "        return np.array(data), np.array([self.labels[idx]])"
   ]
  },
  {
   "cell_type": "code",
   "execution_count": 7,
   "id": "0dff087d",
   "metadata": {},
   "outputs": [],
   "source": [
    "train_dataset = ExeDataset(\n",
    "    trainset[\"id\"].tolist(), \n",
    "    train_data_path, \n",
    "    trainset[\"labels\"].tolist(), \n",
    "    LEAVE_BIT_NUMBER\n",
    ")\n",
    "valid_dataset = ExeDataset(\n",
    "    validset[\"id\"].tolist(), \n",
    "    train_data_path, \n",
    "    validset[\"labels\"].tolist(), \n",
    "    LEAVE_BIT_NUMBER\n",
    ")"
   ]
  },
  {
   "cell_type": "code",
   "execution_count": 8,
   "id": "d7d4339f",
   "metadata": {},
   "outputs": [],
   "source": [
    "trainloader = DataLoader(\n",
    "    dataset = train_dataset,\n",
    "    batch_size = BATCH_SIZE,\n",
    "    shuffle = False,\n",
    "    num_workers = NUM_WORKERS,\n",
    "    pin_memory = True\n",
    ")\n",
    "validloader = DataLoader(\n",
    "    dataset = valid_dataset,\n",
    "    batch_size = BATCH_SIZE,\n",
    "    shuffle = False,\n",
    "    num_workers = NUM_WORKERS,\n",
    "    pin_memory = True\n",
    ")"
   ]
  },
  {
   "cell_type": "code",
   "execution_count": null,
   "id": "0e2614b5",
   "metadata": {},
   "outputs": [],
   "source": []
  },
  {
   "cell_type": "code",
   "execution_count": 9,
   "id": "7a4156ed",
   "metadata": {},
   "outputs": [],
   "source": [
    "def mp_func(i,inpu,te,gr):\n",
    "    cum_grad = 0\n",
    "    for j,(inp,g,t) in enumerate(zip(inpu,gr,te)):\n",
    "        if inp != 0: continue\n",
    "        max_idx = np.argmin(g).tolist()\n",
    "        org_max_idx = np.argmax(t).tolist()\n",
    "        cum_grad += np.mean(g)\n",
    "        if g[max_idx] > 0: continue\n",
    "        te[j][org_max_idx] = 0\n",
    "        te[j][max_idx] = 1\n",
    "    return [i,te,cum_grad]"
   ]
  },
  {
   "cell_type": "code",
   "execution_count": 10,
   "id": "955b5f31",
   "metadata": {},
   "outputs": [],
   "source": [
    "class Model(nn.Module):\n",
    "    def __init__(self, data_length = 2e6, kernel_size = 500):\n",
    "        super().__init__()\n",
    "        self.embedding = nn.Embedding(257, 8, padding_idx=0)\n",
    "        self.conv_layer_1 = nn.Conv1d(4, 128, kernel_size, stride = kernel_size, bias = True)\n",
    "        # self.bn_1 = nn.BatchNorm1d(128)\n",
    "        self.conv_layer_2 = nn.Conv1d(4, 128, kernel_size, stride = kernel_size, bias = True)\n",
    "        self.pool_layer_2 = nn.MaxPool1d(data_length//kernel_size)\n",
    "        self.fc_layer_3 = nn.Linear(128, 128)\n",
    "        self.fc_layer_4 = nn.Linear(128, 2)\n",
    "\n",
    "    def forward(self, input_, loss_fn):\n",
    "        temp = F.one_hot(input_,num_classes=257).float()\n",
    "        temp.requires_grad = True\n",
    "        temp.retain_grad()\n",
    "        batch_acc = []\n",
    "        batch_grad = []\n",
    "        for _ in range(9):\n",
    "            x = temp @ self.embedding.weight\n",
    "            x = torch.transpose(x, -1, -2)\n",
    "\n",
    "            x_conv_1 = self.conv_layer_1(x[:,:4,:])\n",
    "            x_conv_2 = torch.sigmoid(self.conv_layer_2(x[:,4:,:]))\n",
    "\n",
    "            x = x_conv_1*x_conv_2\n",
    "            del x_conv_1,x_conv_2\n",
    "            x = self.pool_layer_2(x).squeeze()\n",
    "            \n",
    "            x = self.fc_layer_3(x)\n",
    "            x = self.fc_layer_4(x)\n",
    "            \n",
    "            acc = torch.argmax(torch.softmax(x,dim=-1),dim=-1).float().mean()\n",
    "            batch_acc.append(acc.tolist())\n",
    "            \n",
    "            mislead_labels = torch.cat((torch.ones(len(x)).reshape(-1,1),torch.zeros(len(x)).reshape(-1,1)),dim=1).cuda()\n",
    "            loss = loss_fn(x,mislead_labels)\n",
    "            loss.backward()\n",
    "            \n",
    "            data = [(i,inpu,te,gr) for i,(inpu,te,gr) in enumerate(zip(\n",
    "                input_.detach().cpu().numpy(),\n",
    "                temp.detach().cpu().numpy(),\n",
    "                temp.grad.detach().cpu().numpy()\n",
    "            ))]\n",
    "            with mp.Pool(processes=30 if len(data) > 30 else len(data)) as pool:\n",
    "                results = pool.starmap(mp_func,data)\n",
    "            results = sorted(results,key = lambda x: x[0])\n",
    "            for i in range(len(temp)):\n",
    "                temp.data[i] = torch.tensor(results[i][1], dtype=torch.float, requires_grad=True).cuda()\n",
    "            batch_grad.append(np.mean([result[2] for result in results]))\n",
    "            \n",
    "            temp.grad.zero_()\n",
    "            \n",
    "        x = temp @ self.embedding.weight\n",
    "        x = torch.transpose(x, -1, -2)\n",
    "\n",
    "        x_conv_1 = self.conv_layer_1(x[:,:4,:])\n",
    "        x_conv_2 = torch.sigmoid(self.conv_layer_2(x[:,4:,:]))\n",
    "\n",
    "        x = x_conv_1*x_conv_2\n",
    "        del x_conv_1,x_conv_2\n",
    "        x = self.pool_layer_2(x).squeeze()\n",
    "\n",
    "        x = self.fc_layer_3(x)\n",
    "        x = self.fc_layer_4(x)\n",
    "        return x.detach().cpu().numpy(),batch_acc,batch_grad"
   ]
  },
  {
   "cell_type": "code",
   "execution_count": 11,
   "id": "0038f580",
   "metadata": {},
   "outputs": [],
   "source": [
    "model = Model(data_length=LEAVE_BIT_NUMBER,kernel_size=KERNEL_SIZE)\n",
    "\n",
    "ce_loss = nn.CrossEntropyLoss()\n",
    "optim = Adam(model.parameters())\n",
    "\n",
    "model = model.cuda() if CUDA else model\n",
    "ce_loss = ce_loss.cuda() if CUDA else ce_less"
   ]
  },
  {
   "cell_type": "code",
   "execution_count": 12,
   "id": "f674591a",
   "metadata": {},
   "outputs": [
    {
     "data": {
      "text/plain": [
       "<All keys matched successfully>"
      ]
     },
     "execution_count": 12,
     "metadata": {},
     "output_type": "execute_result"
    }
   ],
   "source": [
    "model.load_state_dict(torch.load(trained_model_path + best_trained_model))"
   ]
  },
  {
   "cell_type": "code",
   "execution_count": null,
   "id": "84791bf3",
   "metadata": {
    "scrolled": true
   },
   "outputs": [
    {
     "name": "stderr",
     "output_type": "stream",
     "text": [
      "  0%|          | 1/600 [05:21<53:24:45, 321.01s/it]"
     ]
    },
    {
     "name": "stdout",
     "output_type": "stream",
     "text": [
      "[0.8700000 0.1200000 0.2900000 0.1000000 0.3500000 0.1500000 0.2900000 0.1600000 0.3900000 0.1000000]\n",
      "[0.0000000 -0.0011380 0.0008753 0.0023526 -0.0006273 -0.0010835 0.0000943 -0.0011837 0.0017727 -0.0020172]\n",
      "test：0.100000, test mean: 0.100000\n"
     ]
    },
    {
     "name": "stderr",
     "output_type": "stream",
     "text": [
      "\r",
      "  0%|          | 2/600 [10:21<51:21:06, 309.14s/it]"
     ]
    },
    {
     "name": "stdout",
     "output_type": "stream",
     "text": [
      "[0.8650000 0.1100000 0.2350000 0.1050000 0.3000000 0.1500000 0.2700000 0.1300000 0.3400000 0.1200000]\n",
      "[0.0000000 -0.0010860 0.0006515 0.0012957 -0.0005290 -0.0013705 0.0002178 -0.0010544 0.0012077 -0.0018794]\n",
      "test：0.140000, test mean: 0.120000\n"
     ]
    },
    {
     "name": "stderr",
     "output_type": "stream",
     "text": [
      "\r",
      "  0%|          | 3/600 [15:34<51:30:12, 310.57s/it]"
     ]
    },
    {
     "name": "stdout",
     "output_type": "stream",
     "text": [
      "[0.8533333 0.1266667 0.2533333 0.1100000 0.3266667 0.1433333 0.2800000 0.1333333 0.3566667 0.1300000]\n",
      "[0.0000000 -0.0014283 0.0011127 0.0006999 -0.0005213 -0.0015729 0.0007286 -0.0015244 0.0006277 -0.0013001]\n",
      "test：0.150000, test mean: 0.130000\n"
     ]
    },
    {
     "name": "stderr",
     "output_type": "stream",
     "text": [
      "\r",
      "  1%|          | 4/600 [20:45<51:27:13, 310.79s/it]"
     ]
    },
    {
     "name": "stdout",
     "output_type": "stream",
     "text": [
      "[0.8500000 0.1575000 0.2550000 0.1250000 0.3400000 0.1575000 0.2925000 0.1325000 0.3750000 0.1500000]\n",
      "[0.0000000 -0.0015826 0.0005648 0.0003034 -0.0003986 -0.0014687 0.0001380 -0.0013102 0.0003358 -0.0013363]\n",
      "test：0.210000, test mean: 0.150000\n"
     ]
    },
    {
     "name": "stderr",
     "output_type": "stream",
     "text": [
      "\r",
      "  1%|          | 5/600 [25:51<51:07:27, 309.32s/it]"
     ]
    },
    {
     "name": "stdout",
     "output_type": "stream",
     "text": [
      "[0.8560000 0.1560000 0.2780000 0.1340000 0.3600000 0.1640000 0.2980000 0.1440000 0.3840000 0.1560000]\n",
      "[0.0000000 -0.0014669 0.0006396 -0.0003207 -0.0004533 -0.0016213 0.0002197 -0.0014025 0.0003650 -0.0014825]\n",
      "test：0.180000, test mean: 0.156000\n"
     ]
    },
    {
     "name": "stderr",
     "output_type": "stream",
     "text": [
      "\r",
      "  1%|          | 6/600 [31:11<51:35:46, 312.70s/it]"
     ]
    },
    {
     "name": "stdout",
     "output_type": "stream",
     "text": [
      "[0.8650000 0.1550000 0.2866667 0.1383333 0.3783333 0.1616667 0.3116667 0.1450000 0.3950000 0.1566667]\n",
      "[0.0000000 -0.0014066 0.0004858 -0.0004865 -0.0003598 -0.0016933 0.0001792 -0.0014534 0.0003099 -0.0014853]\n",
      "test：0.160000, test mean: 0.156667\n"
     ]
    },
    {
     "name": "stderr",
     "output_type": "stream",
     "text": [
      "\r",
      "  1%|          | 7/600 [36:09<50:42:42, 307.86s/it]"
     ]
    },
    {
     "name": "stdout",
     "output_type": "stream",
     "text": [
      "[0.8714285 0.1628571 0.2857143 0.1471429 0.3757143 0.1728571 0.3085714 0.1528571 0.3914286 0.1557143]\n",
      "[0.0000000 -0.0012569 0.0004718 -0.0003502 -0.0004316 -0.0016078 0.0002339 -0.0013267 0.0007354 -0.0014338]\n",
      "test：0.150000, test mean: 0.155714\n"
     ]
    },
    {
     "name": "stderr",
     "output_type": "stream",
     "text": [
      "\r",
      "  1%|▏         | 8/600 [41:40<51:51:27, 315.35s/it]"
     ]
    },
    {
     "name": "stdout",
     "output_type": "stream",
     "text": [
      "[0.8750000 0.1675000 0.2850000 0.1612500 0.3762500 0.1887500 0.3150000 0.1562500 0.3912500 0.1675000]\n",
      "[0.0000000 -0.0010554 0.0004538 -0.0004474 -0.0005237 -0.0014276 0.0001938 -0.0012498 0.0005926 -0.0013290]\n",
      "test：0.250000, test mean: 0.167500\n"
     ]
    },
    {
     "name": "stderr",
     "output_type": "stream",
     "text": [
      "\r",
      "  2%|▏         | 9/600 [47:15<52:45:22, 321.36s/it]"
     ]
    },
    {
     "name": "stdout",
     "output_type": "stream",
     "text": [
      "[0.8811111 0.1700000 0.2822222 0.1655556 0.3711111 0.1911111 0.3133333 0.1600000 0.3888889 0.1755556]\n",
      "[0.0000000 -0.0011100 0.0003940 -0.0005945 -0.0005231 -0.0014211 0.0000310 -0.0012542 0.0004092 -0.0013119]\n",
      "test：0.240000, test mean: 0.175556\n"
     ]
    },
    {
     "name": "stderr",
     "output_type": "stream",
     "text": [
      "\r",
      "  2%|▏         | 10/600 [52:54<53:34:00, 326.85s/it]"
     ]
    },
    {
     "name": "stdout",
     "output_type": "stream",
     "text": [
      "[0.8830000 0.1710000 0.2860000 0.1620000 0.3750000 0.1900000 0.3150000 0.1570000 0.3910000 0.1770000]\n",
      "[0.0000000 -0.0013503 0.0005109 -0.0006233 -0.0004676 -0.0015466 0.0001164 -0.0013514 0.0003281 -0.0013032]\n",
      "test：0.190000, test mean: 0.177000\n"
     ]
    },
    {
     "name": "stderr",
     "output_type": "stream",
     "text": [
      "\r",
      "  2%|▏         | 11/600 [58:18<53:21:31, 326.13s/it]"
     ]
    },
    {
     "name": "stdout",
     "output_type": "stream",
     "text": [
      "[0.8890909 0.1745454 0.2909091 0.1690909 0.3772727 0.1954545 0.3209091 0.1636364 0.3954545 0.1790909]\n",
      "[0.0000000 -0.0014299 0.0004627 -0.0005771 -0.0005322 -0.0015345 -0.0000058 -0.0013993 0.0004073 -0.0013915]\n",
      "test：0.200000, test mean: 0.179091\n"
     ]
    },
    {
     "name": "stderr",
     "output_type": "stream",
     "text": [
      "\r",
      "  2%|▏         | 12/600 [1:03:34<52:45:08, 322.97s/it]"
     ]
    },
    {
     "name": "stdout",
     "output_type": "stream",
     "text": [
      "[0.8858333 0.1666667 0.2841667 0.1650000 0.3750000 0.1875000 0.3166667 0.1591667 0.3966667 0.1766667]\n",
      "[0.0000000 -0.0015132 0.0004955 -0.0005676 -0.0005262 -0.0014791 -0.0000292 -0.0013804 0.0003161 -0.0013602]\n",
      "test：0.150000, test mean: 0.176667\n"
     ]
    },
    {
     "name": "stderr",
     "output_type": "stream",
     "text": [
      "\r",
      "  2%|▏         | 13/600 [1:08:51<52:21:32, 321.11s/it]"
     ]
    },
    {
     "name": "stdout",
     "output_type": "stream",
     "text": [
      "[0.8907692 0.1653846 0.2815385 0.1638461 0.3738461 0.1946154 0.3115385 0.1592308 0.3969231 0.1769231]\n",
      "[0.0000000 -0.0016224 0.0005935 -0.0004955 -0.0005052 -0.0014985 0.0000047 -0.0013945 0.0003272 -0.0013576]\n",
      "test：0.180000, test mean: 0.176923\n"
     ]
    },
    {
     "name": "stderr",
     "output_type": "stream",
     "text": [
      "\r",
      "  2%|▏         | 14/600 [1:14:06<51:57:29, 319.20s/it]"
     ]
    },
    {
     "name": "stdout",
     "output_type": "stream",
     "text": [
      "[0.8921428 0.1635714 0.2835714 0.1642857 0.3778571 0.1950000 0.3142857 0.1571429 0.4007143 0.1771429]\n",
      "[0.0000000 -0.0017160 0.0005369 -0.0006024 -0.0005129 -0.0015357 0.0000168 -0.0014127 0.0002799 -0.0014373]\n",
      "test：0.180000, test mean: 0.177143\n"
     ]
    },
    {
     "name": "stderr",
     "output_type": "stream",
     "text": [
      "\r",
      "  2%|▎         | 15/600 [1:19:43<52:46:23, 324.76s/it]"
     ]
    },
    {
     "name": "stdout",
     "output_type": "stream",
     "text": [
      "[0.8933333 0.1626667 0.2833333 0.1606667 0.3773333 0.1913333 0.3153333 0.1546667 0.4026667 0.1753333]\n",
      "[0.0000000 -0.0017701 0.0005555 -0.0005340 -0.0005212 -0.0015889 0.0000675 -0.0014082 0.0002538 -0.0015098]\n",
      "test：0.150000, test mean: 0.175333\n"
     ]
    },
    {
     "name": "stderr",
     "output_type": "stream",
     "text": [
      "\r",
      "  3%|▎         | 16/600 [1:25:25<53:31:38, 329.96s/it]"
     ]
    },
    {
     "name": "stdout",
     "output_type": "stream",
     "text": [
      "[0.8931250 0.1581250 0.2793750 0.1625000 0.3718750 0.1862500 0.3168750 0.1518750 0.3968750 0.1775000]\n",
      "[0.0000000 -0.0017968 0.0005188 -0.0004909 -0.0005462 -0.0016385 0.0000419 -0.0014252 0.0002674 -0.0015194]\n",
      "test：0.210000, test mean: 0.177500\n"
     ]
    },
    {
     "name": "stderr",
     "output_type": "stream",
     "text": [
      "\r",
      "  3%|▎         | 17/600 [1:30:54<53:22:08, 329.55s/it]"
     ]
    },
    {
     "name": "stdout",
     "output_type": "stream",
     "text": [
      "[0.8941176 0.1611765 0.2829412 0.1664706 0.3735294 0.1900000 0.3176470 0.1529412 0.3976470 0.1805882]\n",
      "[0.0000000 -0.0017835 0.0005434 -0.0005013 -0.0005741 -0.0016492 0.0000613 -0.0014400 0.0002849 -0.0015288]\n",
      "test：0.230000, test mean: 0.180588\n"
     ]
    },
    {
     "name": "stderr",
     "output_type": "stream",
     "text": [
      "\r",
      "  3%|▎         | 18/600 [1:36:08<52:31:49, 324.93s/it]"
     ]
    },
    {
     "name": "stdout",
     "output_type": "stream",
     "text": [
      "[0.8938889 0.1616667 0.2872222 0.1655556 0.3766667 0.1894444 0.3183333 0.1555556 0.4022222 0.1827778]\n",
      "[0.0000000 -0.0017433 0.0005841 -0.0003919 -0.0005380 -0.0016895 0.0001447 -0.0014380 0.0003263 -0.0015900]\n",
      "test：0.220000, test mean: 0.182778\n"
     ]
    },
    {
     "name": "stderr",
     "output_type": "stream",
     "text": [
      "\r",
      "  3%|▎         | 19/600 [1:41:51<53:18:31, 330.31s/it]"
     ]
    },
    {
     "name": "stdout",
     "output_type": "stream",
     "text": [
      "[0.8947368 0.1610526 0.2842105 0.1663158 0.3705263 0.1915789 0.3173684 0.1542105 0.3989474 0.1831579]\n",
      "[0.0000000 -0.0018489 0.0006135 -0.0004401 -0.0005528 -0.0016983 0.0002005 -0.0014874 0.0003106 -0.0016164]\n",
      "test：0.190000, test mean: 0.183158\n"
     ]
    },
    {
     "name": "stderr",
     "output_type": "stream",
     "text": [
      "\r",
      "  3%|▎         | 20/600 [1:47:12<52:46:38, 327.58s/it]"
     ]
    },
    {
     "name": "stdout",
     "output_type": "stream",
     "text": [
      "[0.8930000 0.1625000 0.2875000 0.1660000 0.3720000 0.1920000 0.3225000 0.1560000 0.4020000 0.1820000]\n",
      "[0.0000000 -0.0018776 0.0006813 -0.0005005 -0.0005525 -0.0017383 0.0002444 -0.0015196 0.0003585 -0.0016697]\n",
      "test：0.160000, test mean: 0.182000\n"
     ]
    },
    {
     "name": "stderr",
     "output_type": "stream",
     "text": [
      "\r",
      "  4%|▎         | 21/600 [1:52:56<53:28:56, 332.53s/it]"
     ]
    },
    {
     "name": "stdout",
     "output_type": "stream",
     "text": [
      "[0.8923809 0.1638095 0.2876190 0.1685714 0.3719048 0.1938095 0.3223809 0.1571429 0.4014286 0.1828571]\n",
      "[0.0000000 -0.0018406 0.0006147 -0.0005354 -0.0006013 -0.0017200 0.0002078 -0.0015025 0.0003318 -0.0016718]\n",
      "test：0.200000, test mean: 0.182857\n"
     ]
    },
    {
     "name": "stderr",
     "output_type": "stream",
     "text": [
      "\r",
      "  4%|▎         | 22/600 [1:58:09<52:25:11, 326.49s/it]"
     ]
    },
    {
     "name": "stdout",
     "output_type": "stream",
     "text": [
      "[0.8909091 0.1672727 0.2895454 0.1709091 0.3740909 0.1940909 0.3231818 0.1590909 0.4027273 0.1859091]\n",
      "[0.0000000 -0.0018644 0.0006154 -0.0005729 -0.0005886 -0.0017274 0.0001921 -0.0015321 0.0002849 -0.0017205]\n",
      "test：0.250000, test mean: 0.185909\n"
     ]
    },
    {
     "name": "stderr",
     "output_type": "stream",
     "text": [
      "\r",
      "  4%|▍         | 23/600 [2:03:16<51:23:17, 320.62s/it]"
     ]
    },
    {
     "name": "stdout",
     "output_type": "stream",
     "text": [
      "[0.8908695 0.1678261 0.2904348 0.1730435 0.3760869 0.1960869 0.3226087 0.1626087 0.4026087 0.1869565]\n",
      "[0.0000000 -0.0018693 0.0005948 -0.0005743 -0.0005770 -0.0017439 0.0001461 -0.0015274 0.0002453 -0.0016913]\n",
      "test：0.210000, test mean: 0.186957\n"
     ]
    },
    {
     "name": "stderr",
     "output_type": "stream",
     "text": [
      "\r",
      "  4%|▍         | 24/600 [2:08:40<51:30:23, 321.92s/it]"
     ]
    },
    {
     "name": "stdout",
     "output_type": "stream",
     "text": [
      "[0.8912500 0.1683333 0.2916667 0.1741667 0.3775000 0.1970833 0.3245833 0.1641667 0.4054167 0.1883333]\n",
      "[0.0000000 -0.0018847 0.0005593 -0.0006233 -0.0005627 -0.0017681 0.0001221 -0.0015374 0.0002168 -0.0017341]\n",
      "test：0.220000, test mean: 0.188333\n"
     ]
    },
    {
     "name": "stderr",
     "output_type": "stream",
     "text": [
      "\r",
      "  4%|▍         | 25/600 [2:14:00<51:17:30, 321.13s/it]"
     ]
    },
    {
     "name": "stdout",
     "output_type": "stream",
     "text": [
      "[0.8912000 0.1672000 0.2904000 0.1724000 0.3764000 0.1968000 0.3220000 0.1648000 0.4040000 0.1864000]\n",
      "[0.0000000 -0.0018427 0.0005317 -0.0006287 -0.0005572 -0.0017166 0.0001406 -0.0015474 0.0001894 -0.0016925]\n",
      "test：0.140000, test mean: 0.186400\n"
     ]
    },
    {
     "name": "stderr",
     "output_type": "stream",
     "text": [
      "\r",
      "  4%|▍         | 26/600 [2:19:00<50:11:47, 314.82s/it]"
     ]
    },
    {
     "name": "stdout",
     "output_type": "stream",
     "text": [
      "[0.8911538 0.1661538 0.2896154 0.1719231 0.3742308 0.1953846 0.3211538 0.1638461 0.4030769 0.1857692]\n",
      "[0.0000000 -0.0018608 0.0005577 -0.0006438 -0.0005593 -0.0017180 0.0001260 -0.0015194 0.0001821 -0.0017119]\n",
      "test：0.170000, test mean: 0.185769\n"
     ]
    },
    {
     "name": "stderr",
     "output_type": "stream",
     "text": [
      "\r",
      "  4%|▍         | 27/600 [2:24:08<49:48:07, 312.89s/it]"
     ]
    },
    {
     "name": "stdout",
     "output_type": "stream",
     "text": [
      "[0.8914815 0.1696296 0.2911111 0.1729630 0.3744444 0.1966667 0.3244444 0.1651852 0.4025926 0.1877778]\n",
      "[0.0000000 -0.0018246 0.0005523 -0.0006476 -0.0005560 -0.0017352 0.0001459 -0.0015189 0.0001617 -0.0017384]\n",
      "test：0.240000, test mean: 0.187778\n"
     ]
    },
    {
     "name": "stderr",
     "output_type": "stream",
     "text": [
      "\r",
      "  5%|▍         | 28/600 [2:29:47<50:57:40, 320.74s/it]"
     ]
    },
    {
     "name": "stdout",
     "output_type": "stream",
     "text": [
      "[0.8907143 0.1714286 0.2925000 0.1732143 0.3728571 0.1985714 0.3232143 0.1685714 0.4007143 0.1875000]\n",
      "[0.0000000 -0.0017508 0.0005631 -0.0005500 -0.0005636 -0.0016967 0.0001410 -0.0014660 0.0002275 -0.0017016]\n",
      "test：0.180000, test mean: 0.187500\n"
     ]
    },
    {
     "name": "stderr",
     "output_type": "stream",
     "text": [
      "\r",
      "  5%|▍         | 29/600 [2:35:11<51:01:11, 321.67s/it]"
     ]
    },
    {
     "name": "stdout",
     "output_type": "stream",
     "text": [
      "[0.8900000 0.1713793 0.2906896 0.1731034 0.3755172 0.1986207 0.3234483 0.1686207 0.4027586 0.1868966]\n",
      "[0.0000000 -0.0017570 0.0006277 -0.0005378 -0.0005490 -0.0016789 0.0001311 -0.0013773 0.0002097 -0.0016958]\n",
      "test：0.170000, test mean: 0.186897\n"
     ]
    },
    {
     "name": "stderr",
     "output_type": "stream",
     "text": [
      "\r",
      "  5%|▌         | 30/600 [2:41:01<52:15:36, 330.06s/it]"
     ]
    },
    {
     "name": "stdout",
     "output_type": "stream",
     "text": [
      "[0.8903333 0.1710000 0.2910000 0.1726667 0.3756667 0.1976667 0.3250000 0.1670000 0.4026667 0.1883333]\n",
      "[0.0000000 -0.0017500 0.0006845 -0.0005484 -0.0005531 -0.0016560 0.0001686 -0.0013813 0.0002459 -0.0016734]\n",
      "test：0.230000, test mean: 0.188333\n"
     ]
    },
    {
     "name": "stderr",
     "output_type": "stream",
     "text": [
      "\r",
      "  5%|▌         | 31/600 [2:46:16<51:27:26, 325.56s/it]"
     ]
    },
    {
     "name": "stdout",
     "output_type": "stream",
     "text": [
      "[0.8909677 0.1706452 0.2922581 0.1729032 0.3754839 0.1993548 0.3258064 0.1687097 0.4022581 0.1896774]\n",
      "[0.0000000 -0.0017546 0.0006742 -0.0005075 -0.0005323 -0.0016681 0.0001757 -0.0014024 0.0002950 -0.0016938]\n",
      "test：0.230000, test mean: 0.189677\n"
     ]
    },
    {
     "name": "stderr",
     "output_type": "stream",
     "text": [
      "\r",
      "  5%|▌         | 32/600 [2:51:44<51:28:00, 326.20s/it]"
     ]
    },
    {
     "name": "stdout",
     "output_type": "stream",
     "text": [
      "[0.8896875 0.1709375 0.2915625 0.1721875 0.3746875 0.2012500 0.3250000 0.1681250 0.4012500 0.1900000]\n",
      "[0.0000000 -0.0017525 0.0007759 -0.0005210 -0.0005108 -0.0016807 0.0002426 -0.0014009 0.0002870 -0.0016676]\n",
      "test：0.200000, test mean: 0.190000\n"
     ]
    },
    {
     "name": "stderr",
     "output_type": "stream",
     "text": [
      "\r",
      "  6%|▌         | 33/600 [2:57:02<51:01:32, 323.97s/it]"
     ]
    },
    {
     "name": "stdout",
     "output_type": "stream",
     "text": [
      "[0.8903030 0.1712121 0.2924242 0.1724242 0.3751515 0.2015151 0.3248485 0.1684848 0.4021212 0.1906061]\n",
      "[0.0000000 -0.0017410 0.0007153 -0.0005115 -0.0005106 -0.0016607 0.0002159 -0.0014373 0.0002870 -0.0016733]\n",
      "test：0.210000, test mean: 0.190606\n"
     ]
    },
    {
     "name": "stderr",
     "output_type": "stream",
     "text": [
      "\r",
      "  6%|▌         | 34/600 [3:02:40<51:35:35, 328.15s/it]"
     ]
    },
    {
     "name": "stdout",
     "output_type": "stream",
     "text": [
      "[0.8911764 0.1723529 0.2929412 0.1717647 0.3773529 0.2029412 0.3244118 0.1670588 0.4032353 0.1920588]\n",
      "[0.0000000 -0.0017365 0.0007190 -0.0005319 -0.0005196 -0.0016532 0.0001867 -0.0013916 0.0002740 -0.0016659]\n",
      "test：0.240000, test mean: 0.192059\n"
     ]
    },
    {
     "name": "stderr",
     "output_type": "stream",
     "text": [
      "\r",
      "  6%|▌         | 35/600 [3:07:45<50:23:33, 321.09s/it]"
     ]
    },
    {
     "name": "stdout",
     "output_type": "stream",
     "text": [
      "[0.8911428 0.1705714 0.2928571 0.1700000 0.3768571 0.2028571 0.3248571 0.1651429 0.4025714 0.1911429]\n",
      "[0.0000000 -0.0017415 0.0006710 -0.0005307 -0.0005092 -0.0016449 0.0001380 -0.0013963 0.0002609 -0.0016454]\n",
      "test：0.160000, test mean: 0.191143\n"
     ]
    },
    {
     "name": "stderr",
     "output_type": "stream",
     "text": [
      "\r",
      "  6%|▌         | 36/600 [3:13:16<50:47:18, 324.18s/it]"
     ]
    },
    {
     "name": "stdout",
     "output_type": "stream",
     "text": [
      "[0.8894444 0.1697222 0.2930555 0.1697222 0.3780555 0.2022222 0.3241667 0.1650000 0.4038889 0.1902778]\n",
      "[0.0000000 -0.0017336 0.0006476 -0.0005233 -0.0005182 -0.0016138 0.0001118 -0.0013961 0.0002559 -0.0016202]\n",
      "test：0.160000, test mean: 0.190278\n"
     ]
    },
    {
     "name": "stderr",
     "output_type": "stream",
     "text": [
      "\r",
      "  6%|▌         | 37/600 [3:18:32<50:19:04, 321.75s/it]"
     ]
    },
    {
     "name": "stdout",
     "output_type": "stream",
     "text": [
      "[0.8889189 0.1708108 0.2932432 0.1710811 0.3775676 0.2024324 0.3235135 0.1662162 0.4032432 0.1918919]\n",
      "[0.0000000 -0.0017677 0.0006419 -0.0005343 -0.0005062 -0.0015952 0.0001269 -0.0013953 0.0002432 -0.0015954]\n",
      "test：0.250000, test mean: 0.191892\n"
     ]
    },
    {
     "name": "stderr",
     "output_type": "stream",
     "text": [
      "\r",
      "  6%|▋         | 38/600 [3:24:04<50:41:19, 324.70s/it]"
     ]
    },
    {
     "name": "stdout",
     "output_type": "stream",
     "text": [
      "[0.8897368 0.1700000 0.2926316 0.1707895 0.3750000 0.2021053 0.3223684 0.1660526 0.4015789 0.1918421]\n",
      "[0.0000000 -0.0017461 0.0006333 -0.0005044 -0.0004880 -0.0015642 0.0001202 -0.0013733 0.0002373 -0.0015641]\n",
      "test：0.190000, test mean: 0.191842\n"
     ]
    },
    {
     "name": "stderr",
     "output_type": "stream",
     "text": [
      "\r",
      "  6%|▋         | 39/600 [3:29:19<50:09:15, 321.85s/it]"
     ]
    },
    {
     "name": "stdout",
     "output_type": "stream",
     "text": [
      "[0.8892307 0.1689744 0.2917949 0.1697436 0.3723077 0.2028205 0.3205128 0.1661538 0.3984615 0.1905128]\n",
      "[0.0000000 -0.0017231 0.0006076 -0.0004809 -0.0004789 -0.0015519 0.0000925 -0.0013693 0.0002400 -0.0015410]\n",
      "test：0.140000, test mean: 0.190513\n"
     ]
    },
    {
     "name": "stderr",
     "output_type": "stream",
     "text": [
      "\r",
      "  7%|▋         | 40/600 [3:35:20<51:52:23, 333.47s/it]"
     ]
    },
    {
     "name": "stdout",
     "output_type": "stream",
     "text": [
      "[0.8907500 0.1700000 0.2932500 0.1695000 0.3725000 0.2032500 0.3212500 0.1655000 0.3982500 0.1912500]\n",
      "[0.0000000 -0.0017370 0.0006528 -0.0004657 -0.0004862 -0.0015723 0.0000894 -0.0013940 0.0002588 -0.0015573]\n",
      "test：0.220000, test mean: 0.191250\n"
     ]
    },
    {
     "name": "stderr",
     "output_type": "stream",
     "text": [
      "\r",
      "  7%|▋         | 41/600 [3:41:56<54:42:17, 352.30s/it]"
     ]
    },
    {
     "name": "stdout",
     "output_type": "stream",
     "text": [
      "[0.8900000 0.1712195 0.2921951 0.1704878 0.3721951 0.2036585 0.3221951 0.1651219 0.3978049 0.1917073]\n",
      "[0.0000000 -0.0017410 0.0006305 -0.0004917 -0.0004784 -0.0015696 0.0000731 -0.0013942 0.0002475 -0.0015541]\n",
      "test：0.210000, test mean: 0.191707\n"
     ]
    },
    {
     "name": "stderr",
     "output_type": "stream",
     "text": [
      "\r",
      "  7%|▋         | 42/600 [3:47:33<53:54:24, 347.79s/it]"
     ]
    },
    {
     "name": "stdout",
     "output_type": "stream",
     "text": [
      "[0.8890476 0.1721429 0.2904762 0.1702381 0.3716667 0.2030952 0.3200000 0.1657143 0.3973809 0.1923810]\n",
      "[0.0000000 -0.0017244 0.0005851 -0.0004765 -0.0004795 -0.0015536 0.0000748 -0.0014019 0.0002276 -0.0015303]\n",
      "test：0.220000, test mean: 0.192381\n"
     ]
    },
    {
     "name": "stderr",
     "output_type": "stream",
     "text": [
      "\r",
      "  7%|▋         | 43/600 [3:52:49<52:21:04, 338.36s/it]"
     ]
    },
    {
     "name": "stdout",
     "output_type": "stream",
     "text": [
      "[0.8881395 0.1720930 0.2906977 0.1706977 0.3720930 0.2027907 0.3204651 0.1674419 0.3979070 0.1930233]\n",
      "[0.0000000 -0.0017211 0.0005692 -0.0004866 -0.0004709 -0.0015483 0.0000617 -0.0013995 0.0002016 -0.0015270]\n",
      "test：0.220000, test mean: 0.193023\n"
     ]
    },
    {
     "name": "stderr",
     "output_type": "stream",
     "text": [
      "\r",
      "  7%|▋         | 44/600 [3:58:32<52:27:44, 339.68s/it]"
     ]
    },
    {
     "name": "stdout",
     "output_type": "stream",
     "text": [
      "[0.8881818 0.1720455 0.2906818 0.1704545 0.3729545 0.2025000 0.3211364 0.1675000 0.3993182 0.1929545]\n",
      "[0.0000000 -0.0017540 0.0005687 -0.0005188 -0.0004710 -0.0015639 0.0000645 -0.0014165 0.0001796 -0.0015516]\n",
      "test：0.190000, test mean: 0.192955\n"
     ]
    },
    {
     "name": "stderr",
     "output_type": "stream",
     "text": [
      "\r",
      "  8%|▊         | 45/600 [4:03:35<50:38:35, 328.50s/it]"
     ]
    },
    {
     "name": "stdout",
     "output_type": "stream",
     "text": [
      "[0.8886666 0.1711111 0.2911111 0.1700000 0.3728889 0.2024444 0.3215555 0.1675556 0.3982222 0.1917778]\n",
      "[0.0000000 -0.0017671 0.0005575 -0.0005466 -0.0004595 -0.0015556 0.0000544 -0.0014193 0.0001651 -0.0015485]\n",
      "test：0.140000, test mean: 0.191778\n"
     ]
    },
    {
     "name": "stderr",
     "output_type": "stream",
     "text": [
      "\r",
      "  8%|▊         | 46/600 [4:09:00<50:25:15, 327.64s/it]"
     ]
    },
    {
     "name": "stdout",
     "output_type": "stream",
     "text": [
      "[0.8880435 0.1706522 0.2908696 0.1695652 0.3730435 0.2019565 0.3215217 0.1676087 0.3978261 0.1908696]\n",
      "[0.0000000 -0.0018175 0.0005467 -0.0005812 -0.0004602 -0.0015971 0.0000519 -0.0014390 0.0001416 -0.0015952]\n",
      "test：0.150000, test mean: 0.190870\n"
     ]
    },
    {
     "name": "stderr",
     "output_type": "stream",
     "text": [
      "\r",
      "  8%|▊         | 47/600 [4:14:06<49:19:00, 321.05s/it]"
     ]
    },
    {
     "name": "stdout",
     "output_type": "stream",
     "text": [
      "[0.8878723 0.1693617 0.2893617 0.1685106 0.3714894 0.2004255 0.3204255 0.1665957 0.3965957 0.1895745]\n",
      "[0.0000000 -0.0018298 0.0005238 -0.0005791 -0.0004582 -0.0016064 0.0000595 -0.0014578 0.0001643 -0.0016145]\n",
      "test：0.130000, test mean: 0.189574\n"
     ]
    },
    {
     "name": "stderr",
     "output_type": "stream",
     "text": [
      "\r",
      "  8%|▊         | 48/600 [4:19:15<48:40:23, 317.43s/it]"
     ]
    },
    {
     "name": "stdout",
     "output_type": "stream",
     "text": [
      "[0.8881250 0.1708333 0.2887500 0.1687500 0.3722917 0.2012500 0.3195833 0.1666667 0.3968750 0.1893750]\n",
      "[0.0000000 -0.0018635 0.0005338 -0.0005881 -0.0004619 -0.0015898 0.0000474 -0.0014697 0.0001542 -0.0015921]\n",
      "test：0.180000, test mean: 0.189375\n"
     ]
    },
    {
     "name": "stderr",
     "output_type": "stream",
     "text": [
      "\r",
      "  8%|▊         | 49/600 [4:24:27<48:19:37, 315.75s/it]"
     ]
    },
    {
     "name": "stdout",
     "output_type": "stream",
     "text": [
      "[0.8881632 0.1681633 0.2873469 0.1665306 0.3724490 0.1991837 0.3187755 0.1642857 0.3961224 0.1885714]\n",
      "[0.0000000 -0.0018969 0.0005282 -0.0006137 -0.0004506 -0.0016138 0.0000474 -0.0014896 0.0001476 -0.0016088]\n",
      "test：0.150000, test mean: 0.188571\n"
     ]
    },
    {
     "name": "stderr",
     "output_type": "stream",
     "text": [
      "\r",
      "  8%|▊         | 50/600 [4:29:32<47:45:01, 312.55s/it]"
     ]
    },
    {
     "name": "stdout",
     "output_type": "stream",
     "text": [
      "[0.8874000 0.1674000 0.2864000 0.1662000 0.3714000 0.1988000 0.3172000 0.1628000 0.3938000 0.1880000]\n",
      "[0.0000000 -0.0018915 0.0005557 -0.0006110 -0.0004394 -0.0016032 0.0000664 -0.0014538 0.0001437 -0.0016103]\n",
      "test：0.160000, test mean: 0.188000\n"
     ]
    },
    {
     "name": "stderr",
     "output_type": "stream",
     "text": [
      "\r",
      "  8%|▊         | 51/600 [4:34:48<47:49:32, 313.61s/it]"
     ]
    },
    {
     "name": "stdout",
     "output_type": "stream",
     "text": [
      "[0.8874510 0.1652941 0.2870588 0.1650980 0.3737255 0.1970588 0.3176471 0.1609804 0.3950980 0.1862745]\n",
      "[0.0000000 -0.0019269 0.0005456 -0.0006215 -0.0004466 -0.0016229 0.0000627 -0.0014826 0.0001750 -0.0016259]\n",
      "test：0.100000, test mean: 0.186275\n"
     ]
    },
    {
     "name": "stderr",
     "output_type": "stream",
     "text": [
      "\r",
      "  9%|▊         | 52/600 [4:39:45<46:59:13, 308.67s/it]"
     ]
    },
    {
     "name": "stdout",
     "output_type": "stream",
     "text": [
      "[0.8871154 0.1663461 0.2871154 0.1651923 0.3728846 0.1975000 0.3161538 0.1619231 0.3938461 0.1861538]\n",
      "[0.0000000 -0.0019073 0.0005145 -0.0005844 -0.0004628 -0.0015960 0.0000472 -0.0014792 0.0001922 -0.0016128]\n",
      "test：0.180000, test mean: 0.186154\n"
     ]
    },
    {
     "name": "stderr",
     "output_type": "stream",
     "text": [
      "\r",
      "  9%|▉         | 53/600 [4:44:35<46:01:43, 302.93s/it]"
     ]
    },
    {
     "name": "stdout",
     "output_type": "stream",
     "text": [
      "[0.8871698 0.1658491 0.2883019 0.1650943 0.3739623 0.1975472 0.3164151 0.1620755 0.3943396 0.1864151]\n",
      "[0.0000000 -0.0019158 0.0005046 -0.0005793 -0.0004606 -0.0016100 0.0000358 -0.0014838 0.0001787 -0.0016252]\n",
      "test：0.200000, test mean: 0.186415\n"
     ]
    },
    {
     "name": "stderr",
     "output_type": "stream",
     "text": [
      "\r",
      "  9%|▉         | 54/600 [4:49:42<46:09:03, 304.29s/it]"
     ]
    },
    {
     "name": "stdout",
     "output_type": "stream",
     "text": [
      "[0.8870370 0.1666667 0.2874074 0.1657407 0.3729630 0.1990741 0.3144444 0.1629630 0.3929630 0.1864815]\n",
      "[0.0000000 -0.0018904 0.0005196 -0.0005826 -0.0004676 -0.0015881 0.0000526 -0.0014735 0.0001751 -0.0016075]\n",
      "test：0.190000, test mean: 0.186481\n"
     ]
    },
    {
     "name": "stderr",
     "output_type": "stream",
     "text": [
      "\r",
      "  9%|▉         | 55/600 [4:55:13<47:15:53, 312.21s/it]"
     ]
    },
    {
     "name": "stdout",
     "output_type": "stream",
     "text": [
      "[0.8867273 0.1669091 0.2872727 0.1660000 0.3741818 0.1996364 0.3134545 0.1632727 0.3943636 0.1867273]\n",
      "[0.0000000 -0.0018917 0.0005119 -0.0005713 -0.0004826 -0.0015855 0.0000337 -0.0014722 0.0001711 -0.0016139]\n",
      "test：0.200000, test mean: 0.186727\n"
     ]
    },
    {
     "name": "stderr",
     "output_type": "stream",
     "text": [
      "\r",
      "  9%|▉         | 56/600 [5:00:30<47:25:26, 313.84s/it]"
     ]
    },
    {
     "name": "stdout",
     "output_type": "stream",
     "text": [
      "[0.8876786 0.1660714 0.2867857 0.1655357 0.3735714 0.2003571 0.3125000 0.1630357 0.3935714 0.1864286]\n",
      "[0.0000000 -0.0019023 0.0005221 -0.0005696 -0.0004946 -0.0015822 0.0000534 -0.0014752 0.0001797 -0.0016140]\n",
      "test：0.170000, test mean: 0.186429\n"
     ]
    },
    {
     "name": "stderr",
     "output_type": "stream",
     "text": [
      "\r",
      " 10%|▉         | 57/600 [5:05:38<47:04:09, 312.06s/it]"
     ]
    },
    {
     "name": "stdout",
     "output_type": "stream",
     "text": [
      "[0.8873684 0.1657895 0.2859649 0.1661403 0.3733333 0.2001754 0.3129824 0.1629825 0.3940351 0.1870175]\n",
      "[0.0000000 -0.0018842 0.0005341 -0.0005777 -0.0004866 -0.0015775 0.0000709 -0.0014715 0.0001814 -0.0015926]\n",
      "test：0.220000, test mean: 0.187018\n"
     ]
    },
    {
     "name": "stderr",
     "output_type": "stream",
     "text": [
      "\r",
      " 10%|▉         | 58/600 [5:10:56<47:15:21, 313.88s/it]"
     ]
    },
    {
     "name": "stdout",
     "output_type": "stream",
     "text": [
      "[0.8875862 0.1660345 0.2855172 0.1662069 0.3737931 0.2008621 0.3127586 0.1634483 0.3950000 0.1877586]\n",
      "[0.0000000 -0.0019087 0.0005471 -0.0005777 -0.0004873 -0.0015908 0.0000456 -0.0014635 0.0001650 -0.0016012]\n",
      "test：0.230000, test mean: 0.187759\n"
     ]
    },
    {
     "name": "stderr",
     "output_type": "stream",
     "text": [
      "\r",
      " 10%|▉         | 59/600 [5:16:52<49:02:53, 326.38s/it]"
     ]
    },
    {
     "name": "stdout",
     "output_type": "stream",
     "text": [
      "[0.8879661 0.1667797 0.2854237 0.1666102 0.3732203 0.2018644 0.3127119 0.1633898 0.3945763 0.1881356]\n",
      "[0.0000000 -0.0019264 0.0005820 -0.0005989 -0.0004846 -0.0016052 0.0000356 -0.0014750 0.0001704 -0.0016212]\n",
      "test：0.210000, test mean: 0.188136\n"
     ]
    },
    {
     "name": "stderr",
     "output_type": "stream",
     "text": [
      "\r",
      " 10%|█         | 60/600 [5:22:36<49:45:29, 331.72s/it]"
     ]
    },
    {
     "name": "stdout",
     "output_type": "stream",
     "text": [
      "[0.8883333 0.1673333 0.2861667 0.1665000 0.3736667 0.2030000 0.3125000 0.1645000 0.3948333 0.1888333]\n",
      "[0.0000000 -0.0019190 0.0005978 -0.0006048 -0.0004745 -0.0015950 0.0000527 -0.0014627 0.0001739 -0.0016093]\n",
      "test：0.230000, test mean: 0.188833\n"
     ]
    },
    {
     "name": "stderr",
     "output_type": "stream",
     "text": [
      "\r",
      " 10%|█         | 61/600 [5:28:44<51:16:54, 342.51s/it]"
     ]
    },
    {
     "name": "stdout",
     "output_type": "stream",
     "text": [
      "[0.8885246 0.1675410 0.2862295 0.1667213 0.3745902 0.2034426 0.3121311 0.1647541 0.3950820 0.1888525]\n",
      "[0.0000000 -0.0019100 0.0005767 -0.0006159 -0.0004713 -0.0016023 0.0000397 -0.0014482 0.0001616 -0.0016132]\n",
      "test：0.190000, test mean: 0.188852\n"
     ]
    },
    {
     "name": "stderr",
     "output_type": "stream",
     "text": [
      "\r",
      " 10%|█         | 62/600 [5:34:18<50:48:43, 340.01s/it]"
     ]
    },
    {
     "name": "stdout",
     "output_type": "stream",
     "text": [
      "[0.8888709 0.1683871 0.2858064 0.1666129 0.3753226 0.2041935 0.3111290 0.1656452 0.3956452 0.1885484]\n",
      "[0.0000000 -0.0018993 0.0006213 -0.0006039 -0.0004804 -0.0015667 0.0000500 -0.0014273 0.0001639 -0.0015887]\n",
      "test：0.170000, test mean: 0.188548\n"
     ]
    },
    {
     "name": "stderr",
     "output_type": "stream",
     "text": [
      "\r",
      " 10%|█         | 63/600 [5:40:18<51:37:46, 346.12s/it]"
     ]
    },
    {
     "name": "stdout",
     "output_type": "stream",
     "text": [
      "[0.8895238 0.1687302 0.2852381 0.1679365 0.3742857 0.2042857 0.3122222 0.1663492 0.3941270 0.1896825]\n",
      "[0.0000000 -0.0018875 0.0006284 -0.0006053 -0.0004852 -0.0015645 0.0000455 -0.0014177 0.0001738 -0.0015844]\n",
      "test：0.260000, test mean: 0.189683\n"
     ]
    },
    {
     "name": "stderr",
     "output_type": "stream",
     "text": [
      "\r",
      " 11%|█         | 64/600 [5:47:13<54:36:03, 366.72s/it]"
     ]
    },
    {
     "name": "stdout",
     "output_type": "stream",
     "text": [
      "[0.8885937 0.1684375 0.2840625 0.1676562 0.3735937 0.2045312 0.3118750 0.1664062 0.3932812 0.1892188]\n",
      "[0.0000000 -0.0018732 0.0006081 -0.0006139 -0.0004855 -0.0015574 0.0000413 -0.0014156 0.0001635 -0.0015787]\n",
      "test：0.160000, test mean: 0.189219\n"
     ]
    },
    {
     "name": "stderr",
     "output_type": "stream",
     "text": [
      "\r",
      " 11%|█         | 65/600 [5:54:11<56:47:10, 382.11s/it]"
     ]
    },
    {
     "name": "stdout",
     "output_type": "stream",
     "text": [
      "[0.8889231 0.1686154 0.2841538 0.1675385 0.3741538 0.2036923 0.3121538 0.1663077 0.3940000 0.1889231]\n",
      "[0.0000000 -0.0018660 0.0006081 -0.0006104 -0.0004849 -0.0015468 0.0000351 -0.0014119 0.0001790 -0.0015690]\n",
      "test：0.170000, test mean: 0.188923\n"
     ]
    },
    {
     "name": "stderr",
     "output_type": "stream",
     "text": [
      "\r",
      " 11%|█         | 66/600 [6:00:55<57:37:39, 388.50s/it]"
     ]
    },
    {
     "name": "stdout",
     "output_type": "stream",
     "text": [
      "[0.8881818 0.1677273 0.2827273 0.1671212 0.3728788 0.2028788 0.3113636 0.1651515 0.3931818 0.1892424]\n",
      "[0.0000000 -0.0018727 0.0006036 -0.0006132 -0.0004876 -0.0015407 0.0000343 -0.0014173 0.0001692 -0.0015465]\n",
      "test：0.210000, test mean: 0.189242\n"
     ]
    },
    {
     "name": "stderr",
     "output_type": "stream",
     "text": [
      "\r",
      " 11%|█         | 67/600 [6:07:22<57:29:11, 388.28s/it]"
     ]
    },
    {
     "name": "stdout",
     "output_type": "stream",
     "text": [
      "[0.8882089 0.1680597 0.2831343 0.1680597 0.3726866 0.2029851 0.3119403 0.1653731 0.3931343 0.1897015]\n",
      "[0.0000000 -0.0018554 0.0006113 -0.0006151 -0.0004934 -0.0015450 0.0000341 -0.0013924 0.0001745 -0.0015468]\n",
      "test：0.220000, test mean: 0.189701\n"
     ]
    },
    {
     "name": "stderr",
     "output_type": "stream",
     "text": [
      "\r",
      " 11%|█▏        | 68/600 [6:13:52<57:25:47, 388.62s/it]"
     ]
    },
    {
     "name": "stdout",
     "output_type": "stream",
     "text": [
      "[0.8875000 0.1670588 0.2817647 0.1675000 0.3729412 0.2022059 0.3122059 0.1641176 0.3929412 0.1888235]\n",
      "[0.0000000 -0.0018392 0.0006389 -0.0006150 -0.0004852 -0.0015285 0.0000503 -0.0013722 0.0001712 -0.0015431]\n",
      "test：0.130000, test mean: 0.188824\n"
     ]
    },
    {
     "name": "stderr",
     "output_type": "stream",
     "text": [
      "\r",
      " 12%|█▏        | 69/600 [6:19:54<56:09:42, 380.76s/it]"
     ]
    },
    {
     "name": "stdout",
     "output_type": "stream",
     "text": [
      "[0.8873913 0.1671014 0.2824638 0.1675362 0.3728985 0.2021739 0.3124638 0.1637681 0.3928985 0.1889855]\n",
      "[0.0000000 -0.0018515 0.0006459 -0.0006373 -0.0004781 -0.0015364 0.0000610 -0.0013876 0.0001819 -0.0015600]\n",
      "test：0.200000, test mean: 0.188986\n"
     ]
    },
    {
     "name": "stderr",
     "output_type": "stream",
     "text": [
      "\r",
      " 12%|█▏        | 70/600 [6:25:01<52:46:24, 358.46s/it]"
     ]
    },
    {
     "name": "stdout",
     "output_type": "stream",
     "text": [
      "[0.8871428 0.1670000 0.2827143 0.1681429 0.3730000 0.2015714 0.3132857 0.1640000 0.3930000 0.1894286]\n",
      "[0.0000000 -0.0018528 0.0006381 -0.0006544 -0.0004683 -0.0015477 0.0000603 -0.0013900 0.0001721 -0.0015821]\n",
      "test：0.220000, test mean: 0.189429\n"
     ]
    },
    {
     "name": "stderr",
     "output_type": "stream",
     "text": [
      "\r",
      " 12%|█▏        | 71/600 [6:29:58<49:59:04, 340.16s/it]"
     ]
    },
    {
     "name": "stdout",
     "output_type": "stream",
     "text": [
      "[0.8869014 0.1671831 0.2818310 0.1681690 0.3729577 0.2019718 0.3126760 0.1635211 0.3932394 0.1895775]\n",
      "[0.0000000 -0.0018648 0.0006558 -0.0006663 -0.0004563 -0.0015672 0.0000928 -0.0013997 0.0001641 -0.0015799]\n",
      "test：0.200000, test mean: 0.189577\n"
     ]
    },
    {
     "name": "stderr",
     "output_type": "stream",
     "text": [
      "\r",
      " 12%|█▏        | 72/600 [6:35:13<48:45:28, 332.44s/it]"
     ]
    },
    {
     "name": "stdout",
     "output_type": "stream",
     "text": [
      "[0.8873611 0.1665278 0.2802778 0.1672222 0.3734722 0.2018055 0.3113889 0.1629167 0.3936111 0.1884722]\n",
      "[0.0000000 -0.0018709 0.0006587 -0.0006662 -0.0004615 -0.0015807 0.0000854 -0.0014021 0.0001784 -0.0015836]\n",
      "test：0.110000, test mean: 0.188472\n"
     ]
    },
    {
     "name": "stderr",
     "output_type": "stream",
     "text": [
      "\r",
      " 12%|█▏        | 73/600 [6:40:20<47:35:09, 325.07s/it]"
     ]
    },
    {
     "name": "stdout",
     "output_type": "stream",
     "text": [
      "[0.8872603 0.1653425 0.2789041 0.1663014 0.3739726 0.2008219 0.3110959 0.1616438 0.3941096 0.1876712]\n",
      "[0.0000000 -0.0018814 0.0006709 -0.0006738 -0.0004551 -0.0015732 0.0001062 -0.0013994 0.0001713 -0.0015830]\n",
      "test：0.130000, test mean: 0.187671\n"
     ]
    },
    {
     "name": "stderr",
     "output_type": "stream",
     "text": [
      "\r",
      " 12%|█▏        | 74/600 [6:45:40<47:16:32, 323.56s/it]"
     ]
    },
    {
     "name": "stdout",
     "output_type": "stream",
     "text": [
      "[0.8881081 0.1654054 0.2787838 0.1662162 0.3743243 0.2006757 0.3109459 0.1621622 0.3948649 0.1875676]\n",
      "[0.0000000 -0.0018828 0.0006638 -0.0006855 -0.0004489 -0.0015717 0.0000893 -0.0014023 0.0001729 -0.0015874]\n",
      "test：0.180000, test mean: 0.187568\n"
     ]
    },
    {
     "name": "stderr",
     "output_type": "stream",
     "text": [
      "\r",
      " 12%|█▎        | 75/600 [6:50:56<46:51:16, 321.29s/it]"
     ]
    },
    {
     "name": "stdout",
     "output_type": "stream",
     "text": [
      "[0.8880000 0.1649333 0.2790667 0.1657333 0.3752000 0.2004000 0.3117333 0.1622667 0.3960000 0.1873333]\n",
      "[0.0000000 -0.0018900 0.0006760 -0.0006850 -0.0004455 -0.0015795 0.0001134 -0.0014100 0.0001710 -0.0015807]\n",
      "test：0.170000, test mean: 0.187333\n"
     ]
    },
    {
     "name": "stderr",
     "output_type": "stream",
     "text": [
      "\r",
      " 13%|█▎        | 76/600 [6:56:03<46:06:55, 316.82s/it]"
     ]
    },
    {
     "name": "stdout",
     "output_type": "stream",
     "text": [
      "[0.8876316 0.1643421 0.2793421 0.1655263 0.3746053 0.2000000 0.3114474 0.1611842 0.3951316 0.1875000]\n",
      "[0.0000000 -0.0018901 0.0006757 -0.0006607 -0.0004408 -0.0015744 0.0001114 -0.0014033 0.0001880 -0.0015783]\n",
      "test：0.200000, test mean: 0.187500\n"
     ]
    },
    {
     "name": "stderr",
     "output_type": "stream",
     "text": [
      "\r",
      " 13%|█▎        | 77/600 [7:01:04<45:20:00, 312.05s/it]"
     ]
    },
    {
     "name": "stdout",
     "output_type": "stream",
     "text": [
      "[0.8871428 0.1638961 0.2788312 0.1655844 0.3741558 0.1997403 0.3107792 0.1610390 0.3945454 0.1872727]\n",
      "[0.0000000 -0.0018891 0.0006546 -0.0006657 -0.0004476 -0.0015800 0.0000994 -0.0014110 0.0001813 -0.0015877]\n",
      "test：0.170000, test mean: 0.187273\n"
     ]
    },
    {
     "name": "stderr",
     "output_type": "stream",
     "text": [
      "\r",
      " 13%|█▎        | 78/600 [7:06:21<45:27:24, 313.50s/it]"
     ]
    },
    {
     "name": "stdout",
     "output_type": "stream",
     "text": [
      "[0.8870513 0.1628205 0.2780769 0.1653846 0.3737179 0.1985897 0.3101282 0.1597436 0.3933333 0.1866667]\n",
      "[0.0000000 -0.0018818 0.0006476 -0.0006708 -0.0004516 -0.0015779 0.0000996 -0.0014113 0.0001749 -0.0015754]\n",
      "test：0.140000, test mean: 0.186667\n"
     ]
    },
    {
     "name": "stderr",
     "output_type": "stream",
     "text": [
      "\r",
      " 13%|█▎        | 79/600 [7:11:44<45:47:14, 316.38s/it]"
     ]
    },
    {
     "name": "stdout",
     "output_type": "stream",
     "text": [
      "[0.8868354 0.1620253 0.2775949 0.1650633 0.3736709 0.1975949 0.3103797 0.1592405 0.3935443 0.1864557]\n",
      "[0.0000000 -0.0018975 0.0006380 -0.0006856 -0.0004533 -0.0015863 0.0000986 -0.0014302 0.0001702 -0.0015854]\n",
      "test：0.170000, test mean: 0.186456\n"
     ]
    },
    {
     "name": "stderr",
     "output_type": "stream",
     "text": [
      "\r",
      " 13%|█▎        | 80/600 [7:16:45<45:02:13, 311.79s/it]"
     ]
    },
    {
     "name": "stdout",
     "output_type": "stream",
     "text": [
      "[0.8866250 0.1616250 0.2770000 0.1645000 0.3730000 0.1975000 0.3097500 0.1593750 0.3926250 0.1860000]\n",
      "[0.0000000 -0.0019070 0.0006400 -0.0006831 -0.0004576 -0.0015916 0.0001181 -0.0014274 0.0001618 -0.0015945]\n",
      "test：0.150000, test mean: 0.186000\n"
     ]
    },
    {
     "name": "stderr",
     "output_type": "stream",
     "text": [
      "\r",
      " 14%|█▎        | 81/600 [7:22:01<45:07:41, 313.03s/it]"
     ]
    },
    {
     "name": "stdout",
     "output_type": "stream",
     "text": [
      "[0.8862963 0.1607407 0.2769136 0.1640741 0.3729630 0.1967901 0.3100000 0.1591358 0.3923457 0.1859259]\n",
      "[0.0000000 -0.0019177 0.0006409 -0.0006744 -0.0004667 -0.0016050 0.0001318 -0.0014521 0.0001732 -0.0016145]\n",
      "test：0.180000, test mean: 0.185926\n"
     ]
    },
    {
     "name": "stderr",
     "output_type": "stream",
     "text": [
      "\r",
      " 14%|█▎        | 82/600 [7:27:44<46:19:46, 321.98s/it]"
     ]
    },
    {
     "name": "stdout",
     "output_type": "stream",
     "text": [
      "[0.8860975 0.1614634 0.2759756 0.1642683 0.3726829 0.1965854 0.3102439 0.1602439 0.3913415 0.1860976]\n",
      "[0.0000000 -0.0019154 0.0006470 -0.0006821 -0.0004727 -0.0016247 0.0001396 -0.0014523 0.0001638 -0.0016154]\n",
      "test：0.200000, test mean: 0.186098\n"
     ]
    },
    {
     "name": "stderr",
     "output_type": "stream",
     "text": [
      "\r",
      " 14%|█▍        | 83/600 [7:33:14<46:37:01, 324.61s/it]"
     ]
    },
    {
     "name": "stdout",
     "output_type": "stream",
     "text": [
      "[0.8859036 0.1614458 0.2755422 0.1644578 0.3725301 0.1962651 0.3098795 0.1603614 0.3910843 0.1863855]\n",
      "[0.0000000 -0.0019147 0.0006395 -0.0006941 -0.0004668 -0.0016172 0.0001333 -0.0014531 0.0001626 -0.0016129]\n",
      "test：0.210000, test mean: 0.186386\n"
     ]
    },
    {
     "name": "stderr",
     "output_type": "stream",
     "text": [
      "\r",
      " 14%|█▍        | 84/600 [7:38:24<45:53:04, 320.13s/it]"
     ]
    },
    {
     "name": "stdout",
     "output_type": "stream",
     "text": [
      "[0.8864286 0.1615476 0.2754762 0.1646429 0.3721428 0.1960714 0.3097619 0.1602381 0.3908333 0.1864286]\n",
      "[0.0000000 -0.0019051 0.0006469 -0.0006723 -0.0004583 -0.0016046 0.0001285 -0.0014454 0.0001756 -0.0016003]\n",
      "test：0.190000, test mean: 0.186429\n"
     ]
    },
    {
     "name": "stderr",
     "output_type": "stream",
     "text": [
      "\r",
      " 14%|█▍        | 85/600 [7:43:54<46:12:29, 323.01s/it]"
     ]
    },
    {
     "name": "stdout",
     "output_type": "stream",
     "text": [
      "[0.8872941 0.1618823 0.2752941 0.1643529 0.3725882 0.1963529 0.3103529 0.1608235 0.3917647 0.1860000]\n",
      "[0.0000000 -0.0019090 0.0006489 -0.0006674 -0.0004560 -0.0016043 0.0001151 -0.0014440 0.0001681 -0.0015938]\n",
      "test：0.150000, test mean: 0.186000\n"
     ]
    },
    {
     "name": "stderr",
     "output_type": "stream",
     "text": [
      "\r",
      " 14%|█▍        | 86/600 [7:49:33<46:49:11, 327.92s/it]"
     ]
    },
    {
     "name": "stdout",
     "output_type": "stream",
     "text": [
      "[0.8876744 0.1619767 0.2748837 0.1645349 0.3729070 0.1961628 0.3102325 0.1604651 0.3922093 0.1858140]\n",
      "[0.0000000 -0.0018933 0.0006418 -0.0006545 -0.0004678 -0.0015913 0.0001093 -0.0014303 0.0001651 -0.0015958]\n",
      "test：0.170000, test mean: 0.185814\n"
     ]
    },
    {
     "name": "stderr",
     "output_type": "stream",
     "text": [
      "\r",
      " 14%|█▍        | 87/600 [7:55:01<46:44:43, 328.04s/it]"
     ]
    },
    {
     "name": "stdout",
     "output_type": "stream",
     "text": [
      "[0.8871264 0.1621839 0.2740230 0.1645977 0.3722988 0.1963218 0.3094253 0.1601149 0.3917241 0.1856322]\n",
      "[0.0000000 -0.0018823 0.0006312 -0.0006473 -0.0004592 -0.0015775 0.0001050 -0.0014224 0.0001624 -0.0015876]\n",
      "test：0.170000, test mean: 0.185632\n"
     ]
    },
    {
     "name": "stderr",
     "output_type": "stream",
     "text": [
      "\r",
      " 15%|█▍        | 88/600 [7:59:44<44:41:29, 314.24s/it]"
     ]
    },
    {
     "name": "stdout",
     "output_type": "stream",
     "text": [
      "[0.8876136 0.1628409 0.2746591 0.1648864 0.3726136 0.1967045 0.3102273 0.1604545 0.3921591 0.1857955]\n",
      "[0.0000000 -0.0018880 0.0006257 -0.0006542 -0.0004609 -0.0015852 0.0001005 -0.0014219 0.0001536 -0.0015962]\n",
      "test：0.200000, test mean: 0.185795\n"
     ]
    },
    {
     "name": "stderr",
     "output_type": "stream",
     "text": [
      "\r",
      " 15%|█▍        | 89/600 [8:05:16<45:23:36, 319.80s/it]"
     ]
    },
    {
     "name": "stdout",
     "output_type": "stream",
     "text": [
      "[0.8879775 0.1619101 0.2738202 0.1642697 0.3721348 0.1961798 0.3089888 0.1605618 0.3917977 0.1857303]\n",
      "[0.0000000 -0.0018922 0.0006203 -0.0006392 -0.0004628 -0.0015830 0.0000983 -0.0014215 0.0001573 -0.0015989]\n",
      "test：0.180000, test mean: 0.185730\n"
     ]
    },
    {
     "name": "stderr",
     "output_type": "stream",
     "text": [
      "\r",
      " 15%|█▌        | 90/600 [8:10:34<45:11:49, 319.04s/it]"
     ]
    },
    {
     "name": "stdout",
     "output_type": "stream",
     "text": [
      "[0.8872222 0.1617778 0.2742222 0.1642222 0.3722222 0.1960000 0.3086667 0.1602222 0.3918889 0.1858889]\n",
      "[0.0000000 -0.0018996 0.0006151 -0.0006648 -0.0004641 -0.0015931 0.0000901 -0.0014281 0.0001503 -0.0016083]\n",
      "test：0.200000, test mean: 0.185889\n"
     ]
    },
    {
     "name": "stderr",
     "output_type": "stream",
     "text": [
      "\r",
      " 15%|█▌        | 91/600 [8:15:52<45:03:48, 318.72s/it]"
     ]
    },
    {
     "name": "stdout",
     "output_type": "stream",
     "text": [
      "[0.8868132 0.1614286 0.2737363 0.1638461 0.3721978 0.1963736 0.3081319 0.1600000 0.3918681 0.1860440]\n",
      "[0.0000000 -0.0018940 0.0006280 -0.0006523 -0.0004628 -0.0015796 0.0000921 -0.0014105 0.0001392 -0.0015977]\n",
      "test：0.200000, test mean: 0.186044\n"
     ]
    },
    {
     "name": "stderr",
     "output_type": "stream",
     "text": [
      "\r",
      " 15%|█▌        | 92/600 [8:21:02<44:36:49, 316.16s/it]"
     ]
    },
    {
     "name": "stdout",
     "output_type": "stream",
     "text": [
      "[0.8867391 0.1620652 0.2746739 0.1640217 0.3728261 0.1968478 0.3082609 0.1607609 0.3927174 0.1867391]\n",
      "[0.0000000 -0.0018944 0.0006368 -0.0006425 -0.0004440 -0.0015807 0.0000915 -0.0013938 0.0001462 -0.0016059]\n",
      "test：0.250000, test mean: 0.186739\n"
     ]
    },
    {
     "name": "stderr",
     "output_type": "stream",
     "text": [
      "\r",
      " 16%|█▌        | 93/600 [8:26:10<44:12:39, 313.92s/it]"
     ]
    },
    {
     "name": "stdout",
     "output_type": "stream",
     "text": [
      "[0.8861290 0.1619355 0.2743011 0.1634409 0.3726882 0.1965591 0.3077419 0.1604301 0.3923656 0.1861290]\n",
      "[0.0000000 -0.0018823 0.0006349 -0.0006411 -0.0004431 -0.0015767 0.0000897 -0.0013920 0.0001477 -0.0015976]\n",
      "test：0.130000, test mean: 0.186129\n"
     ]
    },
    {
     "name": "stderr",
     "output_type": "stream",
     "text": [
      "\r",
      " 16%|█▌        | 94/600 [8:31:30<44:21:25, 315.58s/it]"
     ]
    },
    {
     "name": "stdout",
     "output_type": "stream",
     "text": [
      "[0.8867021 0.1623404 0.2747872 0.1635106 0.3731915 0.1970213 0.3079787 0.1603191 0.3926596 0.1863830]\n",
      "[0.0000000 -0.0018824 0.0006205 -0.0006460 -0.0004433 -0.0015835 0.0000999 -0.0014008 0.0001406 -0.0016050]\n",
      "test：0.210000, test mean: 0.186383\n"
     ]
    },
    {
     "name": "stderr",
     "output_type": "stream",
     "text": [
      "\r",
      " 16%|█▌        | 95/600 [8:36:33<43:43:52, 311.75s/it]"
     ]
    },
    {
     "name": "stdout",
     "output_type": "stream",
     "text": [
      "[0.8866316 0.1624210 0.2746316 0.1637895 0.3727368 0.1969474 0.3073684 0.1604210 0.3918947 0.1861053]\n",
      "[0.0000000 -0.0018861 0.0006192 -0.0006474 -0.0004398 -0.0015892 0.0000956 -0.0013971 0.0001356 -0.0016028]\n",
      "test：0.160000, test mean: 0.186105\n"
     ]
    },
    {
     "name": "stderr",
     "output_type": "stream",
     "text": [
      "\r",
      " 16%|█▌        | 96/600 [8:41:47<43:46:00, 312.62s/it]"
     ]
    },
    {
     "name": "stdout",
     "output_type": "stream",
     "text": [
      "[0.8864583 0.1620833 0.2751042 0.1635417 0.3721875 0.1965625 0.3072917 0.1605208 0.3921875 0.1859375]\n",
      "[0.0000000 -0.0018985 0.0006220 -0.0006392 -0.0004382 -0.0015949 0.0000912 -0.0014051 0.0001414 -0.0016063]\n",
      "test：0.170000, test mean: 0.185938\n"
     ]
    },
    {
     "name": "stderr",
     "output_type": "stream",
     "text": [
      "\r",
      " 16%|█▌        | 97/600 [8:47:18<44:25:19, 317.93s/it]"
     ]
    },
    {
     "name": "stdout",
     "output_type": "stream",
     "text": [
      "[0.8864948 0.1621649 0.2755670 0.1636082 0.3718557 0.1969072 0.3075258 0.1607216 0.3920618 0.1861856]\n",
      "[0.0000000 -0.0018976 0.0006237 -0.0006148 -0.0004348 -0.0015947 0.0000899 -0.0014115 0.0001552 -0.0016043]\n",
      "test：0.210000, test mean: 0.186186\n"
     ]
    },
    {
     "name": "stderr",
     "output_type": "stream",
     "text": [
      "\r",
      " 16%|█▋        | 98/600 [8:52:44<44:41:57, 320.55s/it]"
     ]
    },
    {
     "name": "stdout",
     "output_type": "stream",
     "text": [
      "[0.8863265 0.1624490 0.2759184 0.1639796 0.3724490 0.1969388 0.3075510 0.1611224 0.3926531 0.1866327]\n",
      "[0.0000000 -0.0018868 0.0006214 -0.0005829 -0.0004377 -0.0015929 0.0000920 -0.0014091 0.0001730 -0.0016055]\n",
      "test：0.230000, test mean: 0.186633\n"
     ]
    },
    {
     "name": "stderr",
     "output_type": "stream",
     "text": [
      "\r",
      " 16%|█▋        | 99/600 [8:58:16<45:05:00, 323.95s/it]"
     ]
    },
    {
     "name": "stdout",
     "output_type": "stream",
     "text": [
      "[0.8865656 0.1624242 0.2758586 0.1643434 0.3721212 0.1963636 0.3074747 0.1607071 0.3926263 0.1868687]\n",
      "[0.0000000 -0.0018823 0.0006187 -0.0005886 -0.0004368 -0.0015875 0.0000972 -0.0014100 0.0001846 -0.0016035]\n",
      "test：0.210000, test mean: 0.186869\n"
     ]
    },
    {
     "name": "stderr",
     "output_type": "stream",
     "text": [
      "\r",
      " 17%|█▋        | 100/600 [9:03:42<45:04:12, 324.50s/it]"
     ]
    },
    {
     "name": "stdout",
     "output_type": "stream",
     "text": [
      "[0.8867000 0.1628000 0.2754000 0.1642000 0.3709000 0.1960000 0.3067000 0.1604000 0.3917000 0.1864000]\n",
      "[0.0000000 -0.0018831 0.0006369 -0.0005924 -0.0004373 -0.0015838 0.0001079 -0.0014054 0.0001924 -0.0016068]\n",
      "test：0.140000, test mean: 0.186400\n"
     ]
    },
    {
     "name": "stderr",
     "output_type": "stream",
     "text": [
      "\r",
      " 17%|█▋        | 101/600 [9:09:13<45:15:20, 326.49s/it]"
     ]
    },
    {
     "name": "stdout",
     "output_type": "stream",
     "text": [
      "[0.8862376 0.1625743 0.2749505 0.1638614 0.3703960 0.1962376 0.3064356 0.1601980 0.3914851 0.1860396]\n",
      "[0.0000000 -0.0018728 0.0006433 -0.0005946 -0.0004378 -0.0015807 0.0001070 -0.0013893 0.0001927 -0.0016027]\n",
      "test：0.150000, test mean: 0.186040\n"
     ]
    },
    {
     "name": "stderr",
     "output_type": "stream",
     "text": [
      "\r",
      " 17%|█▋        | 102/600 [9:14:24<44:30:10, 321.71s/it]"
     ]
    },
    {
     "name": "stdout",
     "output_type": "stream",
     "text": [
      "[0.8863725 0.1621569 0.2746078 0.1637255 0.3701961 0.1963725 0.3062745 0.1597059 0.3907843 0.1861765]\n",
      "[0.0000000 -0.0018540 0.0006408 -0.0005861 -0.0004356 -0.0015717 0.0001144 -0.0013803 0.0001884 -0.0015904]\n",
      "test：0.200000, test mean: 0.186176\n"
     ]
    },
    {
     "name": "stderr",
     "output_type": "stream",
     "text": [
      "\r",
      " 17%|█▋        | 103/600 [9:19:27<43:40:12, 316.32s/it]"
     ]
    },
    {
     "name": "stdout",
     "output_type": "stream",
     "text": [
      "[0.8862136 0.1621359 0.2752427 0.1634951 0.3702913 0.1961165 0.3066990 0.1594175 0.3909709 0.1860194]\n",
      "[0.0000000 -0.0018603 0.0006311 -0.0005932 -0.0004362 -0.0015745 0.0001063 -0.0013920 0.0001840 -0.0015937]\n",
      "test：0.170000, test mean: 0.186019\n"
     ]
    },
    {
     "name": "stderr",
     "output_type": "stream",
     "text": [
      "\r",
      " 17%|█▋        | 104/600 [9:25:00<44:15:02, 321.17s/it]"
     ]
    },
    {
     "name": "stdout",
     "output_type": "stream",
     "text": [
      "[0.8867308 0.1624038 0.2753846 0.1645192 0.3698077 0.1966346 0.3077885 0.1598077 0.3907692 0.1868269]\n",
      "[0.0000000 -0.0018609 0.0006244 -0.0006057 -0.0004342 -0.0015756 0.0001014 -0.0013937 0.0001816 -0.0015902]\n",
      "test：0.270000, test mean: 0.186827\n"
     ]
    },
    {
     "name": "stderr",
     "output_type": "stream",
     "text": [
      "\r",
      " 18%|█▊        | 105/600 [9:30:46<45:11:38, 328.68s/it]"
     ]
    },
    {
     "name": "stdout",
     "output_type": "stream",
     "text": [
      "[0.8868571 0.1618095 0.2754286 0.1640952 0.3694286 0.1961905 0.3081905 0.1595238 0.3905714 0.1864762]\n",
      "[0.0000000 -0.0018811 0.0006221 -0.0006078 -0.0004374 -0.0015798 0.0000981 -0.0014028 0.0001769 -0.0015962]\n",
      "test：0.150000, test mean: 0.186476\n"
     ]
    },
    {
     "name": "stderr",
     "output_type": "stream",
     "text": [
      "\r",
      " 18%|█▊        | 106/600 [9:36:42<46:12:15, 336.71s/it]"
     ]
    },
    {
     "name": "stdout",
     "output_type": "stream",
     "text": [
      "[0.8867924 0.1614151 0.2760377 0.1638679 0.3694340 0.1954717 0.3086792 0.1590566 0.3907547 0.1866981]\n",
      "[0.0000000 -0.0018950 0.0006164 -0.0006160 -0.0004364 -0.0015835 0.0000947 -0.0014122 0.0001693 -0.0016036]\n",
      "test：0.210000, test mean: 0.186698\n"
     ]
    },
    {
     "name": "stderr",
     "output_type": "stream",
     "text": [
      "\r",
      " 18%|█▊        | 107/600 [9:42:23<46:19:23, 338.26s/it]"
     ]
    },
    {
     "name": "stdout",
     "output_type": "stream",
     "text": [
      "[0.8868224 0.1614953 0.2758878 0.1642056 0.3693458 0.1960748 0.3087850 0.1597196 0.3903738 0.1872897]\n",
      "[0.0000000 -0.0018987 0.0006167 -0.0006022 -0.0004380 -0.0015765 0.0000917 -0.0014088 0.0001677 -0.0015935]\n",
      "test：0.250000, test mean: 0.187290\n"
     ]
    },
    {
     "name": "stderr",
     "output_type": "stream",
     "text": [
      "\r",
      " 18%|█▊        | 108/600 [9:47:55<45:58:01, 336.35s/it]"
     ]
    },
    {
     "name": "stdout",
     "output_type": "stream",
     "text": [
      "[0.8870370 0.1612037 0.2750926 0.1635185 0.3687037 0.1962963 0.3083333 0.1598148 0.3900000 0.1866667]\n",
      "[0.0000000 -0.0018928 0.0006154 -0.0006001 -0.0004381 -0.0015676 0.0000858 -0.0014015 0.0001599 -0.0015879]\n",
      "test：0.120000, test mean: 0.186667\n"
     ]
    },
    {
     "name": "stderr",
     "output_type": "stream",
     "text": [
      "\r",
      " 18%|█▊        | 109/600 [9:53:21<45:26:39, 333.20s/it]"
     ]
    },
    {
     "name": "stdout",
     "output_type": "stream",
     "text": [
      "[0.8872477 0.1611009 0.2747706 0.1634862 0.3685321 0.1961468 0.3083486 0.1595413 0.3896330 0.1868807]\n",
      "[0.0000000 -0.0018809 0.0006077 -0.0005916 -0.0004348 -0.0015614 0.0000776 -0.0013997 0.0001585 -0.0015831]\n",
      "test：0.210000, test mean: 0.186881\n"
     ]
    },
    {
     "name": "stderr",
     "output_type": "stream",
     "text": [
      "\r",
      " 18%|█▊        | 110/600 [9:58:37<44:37:45, 327.89s/it]"
     ]
    },
    {
     "name": "stdout",
     "output_type": "stream",
     "text": [
      "[0.8875454 0.1613636 0.2748182 0.1630909 0.3690000 0.1961818 0.3085454 0.1592727 0.3900000 0.1865455]\n",
      "[0.0000000 -0.0018813 0.0006076 -0.0006001 -0.0004363 -0.0015614 0.0000749 -0.0013911 0.0001521 -0.0015938]\n",
      "test：0.150000, test mean: 0.186545\n"
     ]
    },
    {
     "name": "stderr",
     "output_type": "stream",
     "text": [
      "\r",
      " 18%|█▊        | 111/600 [10:03:23<42:51:25, 315.51s/it]"
     ]
    },
    {
     "name": "stdout",
     "output_type": "stream",
     "text": [
      "[0.8877477 0.1614414 0.2757658 0.1636036 0.3693694 0.1960360 0.3092793 0.1596396 0.3906306 0.1866667]\n",
      "[0.0000000 -0.0018852 0.0006104 -0.0005945 -0.0004393 -0.0015663 0.0000657 -0.0013941 0.0001574 -0.0015871]\n",
      "test：0.200000, test mean: 0.186667\n"
     ]
    },
    {
     "name": "stderr",
     "output_type": "stream",
     "text": [
      "\r",
      " 19%|█▊        | 112/600 [10:08:52<43:18:23, 319.47s/it]"
     ]
    },
    {
     "name": "stdout",
     "output_type": "stream",
     "text": [
      "[0.8878571 0.1612500 0.2752678 0.1637500 0.3692857 0.1958929 0.3091964 0.1593750 0.3906250 0.1869643]\n",
      "[0.0000000 -0.0018736 0.0006076 -0.0006033 -0.0004380 -0.0015590 0.0000698 -0.0013896 0.0001529 -0.0015794]\n",
      "test：0.220000, test mean: 0.186964\n"
     ]
    },
    {
     "name": "stderr",
     "output_type": "stream",
     "text": [
      "\r",
      " 19%|█▉        | 113/600 [10:14:24<43:44:34, 323.36s/it]"
     ]
    },
    {
     "name": "stdout",
     "output_type": "stream",
     "text": [
      "[0.8876991 0.1615044 0.2752212 0.1640708 0.3692035 0.1962832 0.3091150 0.1596460 0.3907965 0.1872566]\n",
      "[0.0000000 -0.0018674 0.0006070 -0.0006024 -0.0004326 -0.0015597 0.0000779 -0.0013841 0.0001490 -0.0015765]\n",
      "test：0.220000, test mean: 0.187257\n"
     ]
    },
    {
     "name": "stderr",
     "output_type": "stream",
     "text": [
      "\r",
      " 19%|█▉        | 114/600 [10:20:29<45:20:10, 335.82s/it]"
     ]
    },
    {
     "name": "stdout",
     "output_type": "stream",
     "text": [
      "[0.8878070 0.1614035 0.2754386 0.1636842 0.3697368 0.1961403 0.3089474 0.1594737 0.3912281 0.1873684]\n",
      "[0.0000000 -0.0018826 0.0006218 -0.0006038 -0.0004328 -0.0015714 0.0000933 -0.0013883 0.0001490 -0.0015832]\n",
      "test：0.200000, test mean: 0.187368\n"
     ]
    },
    {
     "name": "stderr",
     "output_type": "stream",
     "text": [
      "\r",
      " 19%|█▉        | 115/600 [10:25:54<44:48:32, 332.60s/it]"
     ]
    },
    {
     "name": "stdout",
     "output_type": "stream",
     "text": [
      "[0.8880000 0.1615652 0.2757391 0.1638261 0.3698261 0.1960870 0.3089565 0.1595652 0.3914783 0.1874783]\n",
      "[0.0000000 -0.0018817 0.0006274 -0.0006090 -0.0004236 -0.0015727 0.0000986 -0.0013878 0.0001500 -0.0015925]\n",
      "test：0.200000, test mean: 0.187478\n"
     ]
    },
    {
     "name": "stderr",
     "output_type": "stream",
     "text": [
      "\r",
      " 19%|█▉        | 116/600 [10:31:39<45:12:34, 336.27s/it]"
     ]
    },
    {
     "name": "stdout",
     "output_type": "stream",
     "text": [
      "[0.8879310 0.1613793 0.2759483 0.1637931 0.3700000 0.1957759 0.3095690 0.1600000 0.3913793 0.1871552]\n",
      "[0.0000000 -0.0018848 0.0006409 -0.0006162 -0.0004214 -0.0015792 0.0000978 -0.0013779 0.0001588 -0.0015982]\n",
      "test：0.150000, test mean: 0.187155\n"
     ]
    },
    {
     "name": "stderr",
     "output_type": "stream",
     "text": [
      "\r",
      " 20%|█▉        | 117/600 [10:37:55<46:41:44, 348.04s/it]"
     ]
    },
    {
     "name": "stdout",
     "output_type": "stream",
     "text": [
      "[0.8876923 0.1615385 0.2763248 0.1641026 0.3708547 0.1961538 0.3099145 0.1600855 0.3918803 0.1877778]\n",
      "[0.0000000 -0.0018967 0.0006545 -0.0006187 -0.0004185 -0.0015860 0.0001155 -0.0013807 0.0001609 -0.0016056]\n",
      "test：0.260000, test mean: 0.187778\n"
     ]
    },
    {
     "name": "stderr",
     "output_type": "stream",
     "text": [
      "\r",
      " 20%|█▉        | 118/600 [10:43:21<45:43:58, 341.57s/it]"
     ]
    },
    {
     "name": "stdout",
     "output_type": "stream",
     "text": [
      "[0.8879661 0.1612712 0.2765254 0.1635593 0.3710169 0.1955932 0.3100847 0.1599153 0.3919491 0.1871186]\n",
      "[0.0000000 -0.0018928 0.0006505 -0.0006176 -0.0004181 -0.0015897 0.0001148 -0.0013879 0.0001613 -0.0016119]\n",
      "test：0.110000, test mean: 0.187119\n"
     ]
    },
    {
     "name": "stderr",
     "output_type": "stream",
     "text": [
      "\r",
      " 20%|█▉        | 119/600 [10:49:40<47:06:37, 352.59s/it]"
     ]
    },
    {
     "name": "stdout",
     "output_type": "stream",
     "text": [
      "[0.8880672 0.1612605 0.2764706 0.1640336 0.3712605 0.1953781 0.3100840 0.1598319 0.3916807 0.1873109]\n",
      "[0.0000000 -0.0018984 0.0006479 -0.0006250 -0.0004088 -0.0015889 0.0001106 -0.0013907 0.0001572 -0.0016093]\n",
      "test：0.210000, test mean: 0.187311\n"
     ]
    },
    {
     "name": "stderr",
     "output_type": "stream",
     "text": [
      "\r",
      " 20%|██        | 120/600 [10:55:45<47:31:06, 356.39s/it]"
     ]
    },
    {
     "name": "stdout",
     "output_type": "stream",
     "text": [
      "[0.8881666 0.1607500 0.2765000 0.1637500 0.3715000 0.1949167 0.3100000 0.1595833 0.3916667 0.1876667]\n",
      "[0.0000000 -0.0018997 0.0006417 -0.0006174 -0.0004080 -0.0015863 0.0001081 -0.0013971 0.0001584 -0.0016059]\n",
      "test：0.230000, test mean: 0.187667\n"
     ]
    },
    {
     "name": "stderr",
     "output_type": "stream",
     "text": [
      "\r",
      " 20%|██        | 121/600 [11:01:40<47:22:54, 356.11s/it]"
     ]
    },
    {
     "name": "stdout",
     "output_type": "stream",
     "text": [
      "[0.8884297 0.1605785 0.2761983 0.1636364 0.3714876 0.1945454 0.3100826 0.1595041 0.3917355 0.1877686]\n",
      "[0.0000000 -0.0018972 0.0006506 -0.0006191 -0.0004083 -0.0015870 0.0001128 -0.0013880 0.0001565 -0.0016039]\n",
      "test：0.200000, test mean: 0.187769\n"
     ]
    },
    {
     "name": "stderr",
     "output_type": "stream",
     "text": [
      "\r",
      " 20%|██        | 122/600 [11:07:30<47:02:13, 354.25s/it]"
     ]
    },
    {
     "name": "stdout",
     "output_type": "stream",
     "text": [
      "[0.8889344 0.1603279 0.2761475 0.1631967 0.3717213 0.1947541 0.3099180 0.1593443 0.3921311 0.1873770]\n",
      "[0.0000000 -0.0018946 0.0006565 -0.0006203 -0.0004092 -0.0015899 0.0001160 -0.0013857 0.0001648 -0.0016047]\n",
      "test：0.140000, test mean: 0.187377\n"
     ]
    },
    {
     "name": "stderr",
     "output_type": "stream",
     "text": [
      "\r",
      " 20%|██        | 123/600 [11:13:19<46:43:12, 352.60s/it]"
     ]
    },
    {
     "name": "stdout",
     "output_type": "stream",
     "text": [
      "[0.8888618 0.1606504 0.2759350 0.1630894 0.3715447 0.1949593 0.3093496 0.1594309 0.3920325 0.1877236]\n",
      "[0.0000000 -0.0018934 0.0006545 -0.0006193 -0.0004049 -0.0015867 0.0001143 -0.0013832 0.0001708 -0.0016001]\n",
      "test：0.230000, test mean: 0.187724\n"
     ]
    },
    {
     "name": "stderr",
     "output_type": "stream",
     "text": [
      "\r",
      " 21%|██        | 124/600 [11:19:27<47:14:57, 357.35s/it]"
     ]
    },
    {
     "name": "stdout",
     "output_type": "stream",
     "text": [
      "[0.8887097 0.1606452 0.2760484 0.1630645 0.3727419 0.1945968 0.3095161 0.1595968 0.3929839 0.1878226]\n",
      "[0.0000000 -0.0019071 0.0006482 -0.0006288 -0.0004067 -0.0015951 0.0001103 -0.0013809 0.0001643 -0.0016141]\n",
      "test：0.200000, test mean: 0.187823\n"
     ]
    },
    {
     "name": "stderr",
     "output_type": "stream",
     "text": [
      "\r",
      " 21%|██        | 125/600 [11:24:30<45:00:08, 341.07s/it]"
     ]
    },
    {
     "name": "stdout",
     "output_type": "stream",
     "text": [
      "[0.8891200 0.1612000 0.2763200 0.1632000 0.3728000 0.1949600 0.3098400 0.1598400 0.3931200 0.1884800]\n",
      "[0.0000000 -0.0019187 0.0006650 -0.0006167 -0.0004061 -0.0015990 0.0001094 -0.0013758 0.0001735 -0.0016169]\n",
      "test：0.270000, test mean: 0.188480\n"
     ]
    },
    {
     "name": "stderr",
     "output_type": "stream",
     "text": [
      "\r",
      " 21%|██        | 126/600 [11:30:27<45:32:06, 345.84s/it]"
     ]
    },
    {
     "name": "stdout",
     "output_type": "stream",
     "text": [
      "[0.8891270 0.1611111 0.2762698 0.1628571 0.3729365 0.1950000 0.3096032 0.1600000 0.3933333 0.1882540]\n",
      "[0.0000000 -0.0019102 0.0006553 -0.0006167 -0.0004054 -0.0015921 0.0001052 -0.0013715 0.0001691 -0.0016131]\n",
      "test：0.160000, test mean: 0.188254\n"
     ]
    },
    {
     "name": "stderr",
     "output_type": "stream",
     "text": [
      "\r",
      " 21%|██        | 127/600 [11:36:38<46:25:37, 353.36s/it]"
     ]
    },
    {
     "name": "stdout",
     "output_type": "stream",
     "text": [
      "[0.8886614 0.1609449 0.2766929 0.1631496 0.3729921 0.1944094 0.3099213 0.1599213 0.3932283 0.1881890]\n",
      "[0.0000000 -0.0019152 0.0006426 -0.0006141 -0.0004048 -0.0015982 0.0000971 -0.0013739 0.0001652 -0.0016184]\n",
      "test：0.180000, test mean: 0.188189\n"
     ]
    },
    {
     "name": "stderr",
     "output_type": "stream",
     "text": [
      "\r",
      " 21%|██▏       | 128/600 [11:42:55<47:15:35, 360.46s/it]"
     ]
    },
    {
     "name": "stdout",
     "output_type": "stream",
     "text": [
      "[0.8887500 0.1608594 0.2764844 0.1628906 0.3735156 0.1942969 0.3096094 0.1596875 0.3934375 0.1879688]\n",
      "[0.0000000 -0.0019011 0.0006366 -0.0006126 -0.0004055 -0.0015869 0.0000972 -0.0013743 0.0001638 -0.0016150]\n",
      "test：0.160000, test mean: 0.187969\n"
     ]
    },
    {
     "name": "stderr",
     "output_type": "stream",
     "text": [
      "\r",
      " 22%|██▏       | 129/600 [11:48:59<47:17:26, 361.46s/it]"
     ]
    },
    {
     "name": "stdout",
     "output_type": "stream",
     "text": [
      "[0.8884496 0.1608527 0.2764341 0.1631008 0.3737984 0.1941085 0.3096124 0.1596124 0.3934884 0.1883721]\n",
      "[0.0000000 -0.0018853 0.0006338 -0.0005987 -0.0004058 -0.0015758 0.0000953 -0.0013672 0.0001698 -0.0016051]\n",
      "test：0.240000, test mean: 0.188372\n"
     ]
    },
    {
     "name": "stderr",
     "output_type": "stream",
     "text": [
      "\r",
      " 22%|██▏       | 130/600 [11:55:04<47:20:04, 362.56s/it]"
     ]
    },
    {
     "name": "stdout",
     "output_type": "stream",
     "text": [
      "[0.8883846 0.1607692 0.2763846 0.1630000 0.3733846 0.1939231 0.3098461 0.1596154 0.3930769 0.1882308]\n",
      "[0.0000000 -0.0018774 0.0006470 -0.0005979 -0.0004040 -0.0015744 0.0000956 -0.0013711 0.0001744 -0.0016026]\n",
      "test：0.170000, test mean: 0.188231\n"
     ]
    },
    {
     "name": "stderr",
     "output_type": "stream",
     "text": [
      "\r",
      " 22%|██▏       | 131/600 [12:00:56<46:48:37, 359.31s/it]"
     ]
    },
    {
     "name": "stdout",
     "output_type": "stream",
     "text": [
      "[0.8883969 0.1603817 0.2763359 0.1629008 0.3731298 0.1936641 0.3100763 0.1596183 0.3928244 0.1883206]\n",
      "[0.0000000 -0.0018875 0.0006628 -0.0006015 -0.0004002 -0.0015796 0.0000926 -0.0013769 0.0001869 -0.0015944]\n",
      "test：0.200000, test mean: 0.188321\n"
     ]
    },
    {
     "name": "stderr",
     "output_type": "stream",
     "text": [
      "\r",
      " 22%|██▏       | 132/600 [12:06:44<46:15:31, 355.84s/it]"
     ]
    },
    {
     "name": "stdout",
     "output_type": "stream",
     "text": [
      "[0.8885606 0.1606818 0.2764394 0.1633333 0.3728030 0.1939394 0.3102273 0.1596970 0.3928030 0.1888636]\n",
      "[0.0000000 -0.0018853 0.0006596 -0.0006001 -0.0003962 -0.0015792 0.0000896 -0.0013728 0.0001816 -0.0015938]\n",
      "test：0.260000, test mean: 0.188864\n"
     ]
    },
    {
     "name": "stderr",
     "output_type": "stream",
     "text": [
      "\r",
      " 22%|██▏       | 133/600 [12:12:41<46:13:53, 356.39s/it]"
     ]
    },
    {
     "name": "stdout",
     "output_type": "stream",
     "text": [
      "[0.8887970 0.1604511 0.2766165 0.1633835 0.3730827 0.1936842 0.3102256 0.1597744 0.3933834 0.1883459]\n",
      "[0.0000000 -0.0018893 0.0006628 -0.0005992 -0.0003996 -0.0015838 0.0000865 -0.0013728 0.0001872 -0.0015978]\n",
      "test：0.120000, test mean: 0.188346\n"
     ]
    },
    {
     "name": "stderr",
     "output_type": "stream",
     "text": [
      "\r",
      " 22%|██▏       | 134/600 [12:18:54<46:46:35, 361.36s/it]"
     ]
    },
    {
     "name": "stdout",
     "output_type": "stream",
     "text": [
      "[0.8886567 0.1601492 0.2762686 0.1630597 0.3726866 0.1934328 0.3098507 0.1597761 0.3929851 0.1880597]\n",
      "[0.0000000 -0.0018907 0.0006687 -0.0005957 -0.0003963 -0.0015886 0.0000900 -0.0013672 0.0001827 -0.0016038]\n",
      "test：0.150000, test mean: 0.188060\n"
     ]
    },
    {
     "name": "stderr",
     "output_type": "stream",
     "text": [
      "\r",
      " 22%|██▎       | 135/600 [12:24:57<46:44:20, 361.85s/it]"
     ]
    },
    {
     "name": "stdout",
     "output_type": "stream",
     "text": [
      "[0.8885185 0.1608148 0.2771111 0.1631111 0.3729630 0.1940000 0.3096296 0.1601481 0.3931111 0.1882963]\n",
      "[0.0000000 -0.0018941 0.0006774 -0.0005968 -0.0003944 -0.0015930 0.0000973 -0.0013683 0.0001803 -0.0016066]\n",
      "test：0.220000, test mean: 0.188296\n"
     ]
    },
    {
     "name": "stderr",
     "output_type": "stream",
     "text": [
      "\r",
      " 23%|██▎       | 136/600 [12:30:31<45:32:14, 353.31s/it]"
     ]
    },
    {
     "name": "stdout",
     "output_type": "stream",
     "text": [
      "[0.8886029 0.1610294 0.2772794 0.1633823 0.3730882 0.1938235 0.3102206 0.1600000 0.3933088 0.1886765]\n",
      "[0.0000000 -0.0019024 0.0006815 -0.0006117 -0.0003953 -0.0015983 0.0001030 -0.0013800 0.0001761 -0.0016073]\n",
      "test：0.240000, test mean: 0.188676\n"
     ]
    },
    {
     "name": "stderr",
     "output_type": "stream",
     "text": [
      "\r",
      " 23%|██▎       | 137/600 [12:36:23<45:22:57, 352.87s/it]"
     ]
    },
    {
     "name": "stdout",
     "output_type": "stream",
     "text": [
      "[0.8885401 0.1609489 0.2776642 0.1634307 0.3730657 0.1938686 0.3105839 0.1598540 0.3932847 0.1887591]\n",
      "[0.0000000 -0.0018986 0.0006826 -0.0006181 -0.0003948 -0.0016043 0.0001036 -0.0013843 0.0001752 -0.0016098]\n",
      "test：0.200000, test mean: 0.188759\n"
     ]
    },
    {
     "name": "stderr",
     "output_type": "stream",
     "text": [
      "\r",
      " 23%|██▎       | 138/600 [12:41:48<44:13:24, 344.60s/it]"
     ]
    },
    {
     "name": "stdout",
     "output_type": "stream",
     "text": [
      "[0.8888406 0.1612319 0.2774638 0.1636956 0.3734058 0.1942029 0.3106522 0.1603623 0.3938406 0.1890580]\n",
      "[0.0000000 -0.0018983 0.0006763 -0.0006227 -0.0003969 -0.0016024 0.0000998 -0.0013853 0.0001606 -0.0016077]\n",
      "test：0.230000, test mean: 0.189058\n"
     ]
    },
    {
     "name": "stderr",
     "output_type": "stream",
     "text": [
      "\r",
      " 23%|██▎       | 139/600 [12:48:03<45:17:33, 353.69s/it]"
     ]
    },
    {
     "name": "stdout",
     "output_type": "stream",
     "text": [
      "[0.8887050 0.1610791 0.2776259 0.1634532 0.3733093 0.1942446 0.3105755 0.1599281 0.3935971 0.1889928]\n",
      "[0.0000000 -0.0019046 0.0006826 -0.0006142 -0.0004007 -0.0016053 0.0001119 -0.0013879 0.0001615 -0.0015978]\n",
      "test：0.180000, test mean: 0.188993\n"
     ]
    },
    {
     "name": "stderr",
     "output_type": "stream",
     "text": [
      "\r",
      " 23%|██▎       | 140/600 [12:53:49<44:54:24, 351.44s/it]"
     ]
    },
    {
     "name": "stdout",
     "output_type": "stream",
     "text": [
      "[0.8885000 0.1612143 0.2777857 0.1633571 0.3737857 0.1940714 0.3106428 0.1602143 0.3940714 0.1888571]\n",
      "[0.0000000 -0.0019042 0.0006910 -0.0006160 -0.0004017 -0.0016133 0.0001206 -0.0013900 0.0001592 -0.0016028]\n",
      "test：0.170000, test mean: 0.188857\n"
     ]
    },
    {
     "name": "stderr",
     "output_type": "stream",
     "text": [
      "\r",
      " 24%|██▎       | 141/600 [12:59:51<45:13:09, 354.66s/it]"
     ]
    },
    {
     "name": "stdout",
     "output_type": "stream",
     "text": [
      "[0.8886525 0.1609220 0.2775886 0.1632624 0.3733333 0.1941135 0.3108511 0.1598582 0.3935461 0.1887943]\n",
      "[0.0000000 -0.0019189 0.0006898 -0.0006192 -0.0004081 -0.0016125 0.0001132 -0.0013920 0.0001607 -0.0016068]\n",
      "test：0.180000, test mean: 0.188794\n"
     ]
    },
    {
     "name": "stderr",
     "output_type": "stream",
     "text": [
      "\r",
      " 24%|██▎       | 142/600 [13:06:00<45:39:20, 358.87s/it]"
     ]
    },
    {
     "name": "stdout",
     "output_type": "stream",
     "text": [
      "[0.8887324 0.1610563 0.2776760 0.1631690 0.3730986 0.1940845 0.3107746 0.1597183 0.3933098 0.1885915]\n",
      "[0.0000000 -0.0019169 0.0006903 -0.0006180 -0.0004006 -0.0016022 0.0001120 -0.0013859 0.0001637 -0.0016061]\n",
      "test：0.160000, test mean: 0.188592\n"
     ]
    },
    {
     "name": "stderr",
     "output_type": "stream",
     "text": [
      "\r",
      " 24%|██▍       | 143/600 [13:12:19<46:19:18, 364.90s/it]"
     ]
    },
    {
     "name": "stdout",
     "output_type": "stream",
     "text": [
      "[0.8891608 0.1609790 0.2776224 0.1631468 0.3732867 0.1941958 0.3109790 0.1597902 0.3934266 0.1886014]\n",
      "[0.0000000 -0.0019213 0.0006988 -0.0006171 -0.0004043 -0.0016013 0.0001125 -0.0013943 0.0001791 -0.0016104]\n",
      "test：0.190000, test mean: 0.188601\n"
     ]
    },
    {
     "name": "stderr",
     "output_type": "stream",
     "text": [
      "\r",
      " 24%|██▍       | 144/600 [13:18:16<45:56:09, 362.65s/it]"
     ]
    },
    {
     "name": "stdout",
     "output_type": "stream",
     "text": [
      "[0.8893750 0.1607639 0.2777778 0.1628472 0.3734722 0.1943055 0.3109028 0.1595139 0.3936111 0.1886111]\n",
      "[0.0000000 -0.0019163 0.0007014 -0.0006101 -0.0004001 -0.0015972 0.0001180 -0.0013884 0.0001767 -0.0016113]\n",
      "test：0.190000, test mean: 0.188611\n"
     ]
    },
    {
     "name": "stderr",
     "output_type": "stream",
     "text": [
      "\r",
      " 24%|██▍       | 145/600 [13:23:59<45:03:51, 356.55s/it]"
     ]
    },
    {
     "name": "stdout",
     "output_type": "stream",
     "text": [
      "[0.8895172 0.1604828 0.2776552 0.1625517 0.3737241 0.1942759 0.3113103 0.1593793 0.3937931 0.1884138]\n",
      "[0.0000000 -0.0019179 0.0007116 -0.0006196 -0.0003959 -0.0016065 0.0001182 -0.0013879 0.0001802 -0.0016129]\n",
      "test：0.160000, test mean: 0.188414\n"
     ]
    },
    {
     "name": "stderr",
     "output_type": "stream",
     "text": [
      "\r",
      " 24%|██▍       | 146/600 [13:30:03<45:16:46, 359.05s/it]"
     ]
    },
    {
     "name": "stdout",
     "output_type": "stream",
     "text": [
      "[0.8896575 0.1605479 0.2773973 0.1622603 0.3734246 0.1939726 0.3109589 0.1589726 0.3934931 0.1881507]\n",
      "[0.0000000 -0.0019242 0.0007072 -0.0006160 -0.0003992 -0.0016097 0.0001212 -0.0013929 0.0001747 -0.0016176]\n",
      "test：0.150000, test mean: 0.188151\n"
     ]
    },
    {
     "name": "stderr",
     "output_type": "stream",
     "text": [
      "\r",
      " 24%|██▍       | 147/600 [13:36:22<45:54:44, 364.87s/it]"
     ]
    },
    {
     "name": "stdout",
     "output_type": "stream",
     "text": [
      "[0.8895238 0.1608843 0.2775510 0.1625850 0.3736054 0.1942177 0.3111565 0.1592517 0.3933333 0.1881633]\n",
      "[0.0000000 -0.0019219 0.0007059 -0.0006161 -0.0003978 -0.0016135 0.0001202 -0.0013927 0.0001731 -0.0016173]\n",
      "test：0.190000, test mean: 0.188163\n"
     ]
    },
    {
     "name": "stderr",
     "output_type": "stream",
     "text": [
      "\r",
      " 25%|██▍       | 148/600 [13:42:23<45:41:11, 363.87s/it]"
     ]
    },
    {
     "name": "stdout",
     "output_type": "stream",
     "text": [
      "[0.8892567 0.1608784 0.2775000 0.1625676 0.3739189 0.1939865 0.3112162 0.1590541 0.3937162 0.1882432]\n",
      "[0.0000000 -0.0019290 0.0007093 -0.0006192 -0.0003966 -0.0016190 0.0001190 -0.0013932 0.0001739 -0.0016235]\n",
      "test：0.200000, test mean: 0.188243\n"
     ]
    },
    {
     "name": "stderr",
     "output_type": "stream",
     "text": [
      "\r",
      " 25%|██▍       | 149/600 [13:48:24<45:26:35, 362.74s/it]"
     ]
    },
    {
     "name": "stdout",
     "output_type": "stream",
     "text": [
      "[0.8892617 0.1605369 0.2773154 0.1623490 0.3738926 0.1938926 0.3108054 0.1592617 0.3936242 0.1883221]\n",
      "[0.0000000 -0.0019227 0.0007116 -0.0006156 -0.0003960 -0.0016162 0.0001217 -0.0013893 0.0001790 -0.0016178]\n",
      "test：0.200000, test mean: 0.188322\n"
     ]
    },
    {
     "name": "stderr",
     "output_type": "stream",
     "text": [
      "\r",
      " 25%|██▌       | 150/600 [13:54:18<45:02:09, 360.29s/it]"
     ]
    },
    {
     "name": "stdout",
     "output_type": "stream",
     "text": [
      "[0.8892000 0.1604667 0.2776667 0.1625333 0.3738000 0.1936000 0.3114000 0.1593333 0.3934667 0.1882000]\n",
      "[0.0000000 -0.0019253 0.0007055 -0.0006208 -0.0003970 -0.0016204 0.0001198 -0.0013916 0.0001729 -0.0016195]\n",
      "test：0.170000, test mean: 0.188200\n"
     ]
    },
    {
     "name": "stderr",
     "output_type": "stream",
     "text": [
      "\r",
      " 25%|██▌       | 151/600 [13:59:58<44:09:34, 354.06s/it]"
     ]
    },
    {
     "name": "stdout",
     "output_type": "stream",
     "text": [
      "[0.8893377 0.1607947 0.2781457 0.1626490 0.3738411 0.1942384 0.3116556 0.1596026 0.3933775 0.1884106]\n",
      "[0.0000000 -0.0019230 0.0006994 -0.0006069 -0.0003945 -0.0016182 0.0001161 -0.0013926 0.0001842 -0.0016197]\n",
      "test：0.220000, test mean: 0.188411\n"
     ]
    },
    {
     "name": "stderr",
     "output_type": "stream",
     "text": [
      "\r",
      " 25%|██▌       | 152/600 [14:05:55<44:11:04, 355.05s/it]"
     ]
    },
    {
     "name": "stdout",
     "output_type": "stream",
     "text": [
      "[0.8894079 0.1609210 0.2777631 0.1625658 0.3738816 0.1942105 0.3117763 0.1595395 0.3932895 0.1882237]\n",
      "[0.0000000 -0.0019263 0.0007051 -0.0006079 -0.0003956 -0.0016176 0.0001223 -0.0013914 0.0001847 -0.0016186]\n",
      "test：0.160000, test mean: 0.188224\n"
     ]
    },
    {
     "name": "stderr",
     "output_type": "stream",
     "text": [
      "\r",
      " 26%|██▌       | 153/600 [14:11:03<42:20:33, 341.01s/it]"
     ]
    },
    {
     "name": "stdout",
     "output_type": "stream",
     "text": [
      "[0.8893464 0.1612418 0.2779738 0.1627451 0.3737255 0.1941176 0.3117647 0.1596078 0.3935294 0.1884967]\n",
      "[0.0000000 -0.0019156 0.0007177 -0.0006145 -0.0003921 -0.0016137 0.0001312 -0.0013861 0.0001868 -0.0016092]\n",
      "test：0.230000, test mean: 0.188497\n"
     ]
    },
    {
     "name": "stderr",
     "output_type": "stream",
     "text": [
      "\r",
      " 26%|██▌       | 154/600 [14:16:18<41:16:26, 333.15s/it]"
     ]
    },
    {
     "name": "stdout",
     "output_type": "stream",
     "text": [
      "[0.8894805 0.1613636 0.2775974 0.1626623 0.3733766 0.1942208 0.3116234 0.1596753 0.3934415 0.1885714]\n",
      "[0.0000000 -0.0019085 0.0007199 -0.0006164 -0.0003928 -0.0016054 0.0001353 -0.0013869 0.0001831 -0.0016022]\n",
      "test：0.200000, test mean: 0.188571\n"
     ]
    },
    {
     "name": "stderr",
     "output_type": "stream",
     "text": [
      "\r",
      " 26%|██▌       | 155/600 [14:21:57<41:23:38, 334.87s/it]"
     ]
    },
    {
     "name": "stdout",
     "output_type": "stream",
     "text": [
      "[0.8896774 0.1618710 0.2778064 0.1629032 0.3735484 0.1943871 0.3114193 0.1597419 0.3936129 0.1888387]\n",
      "[0.0000000 -0.0019083 0.0007144 -0.0006174 -0.0003919 -0.0016011 0.0001385 -0.0013856 0.0001823 -0.0015995]\n",
      "test：0.230000, test mean: 0.188839\n"
     ]
    },
    {
     "name": "stderr",
     "output_type": "stream",
     "text": [
      "\r",
      " 26%|██▌       | 156/600 [14:27:59<42:19:17, 343.15s/it]"
     ]
    },
    {
     "name": "stdout",
     "output_type": "stream",
     "text": [
      "[0.8895513 0.1618590 0.2775641 0.1631410 0.3733974 0.1940385 0.3116667 0.1596154 0.3933333 0.1892949]\n",
      "[0.0000000 -0.0019075 0.0007160 -0.0006219 -0.0003908 -0.0016034 0.0001396 -0.0013877 0.0001802 -0.0015999]\n",
      "test：0.260000, test mean: 0.189295\n"
     ]
    },
    {
     "name": "stderr",
     "output_type": "stream",
     "text": [
      "\r",
      " 26%|██▌       | 157/600 [14:33:31<41:47:55, 339.67s/it]"
     ]
    },
    {
     "name": "stdout",
     "output_type": "stream",
     "text": [
      "[0.8895541 0.1614013 0.2768790 0.1628025 0.3730573 0.1934395 0.3111465 0.1591720 0.3929936 0.1891083]\n",
      "[0.0000000 -0.0019089 0.0007177 -0.0006267 -0.0003902 -0.0016051 0.0001470 -0.0013918 0.0001805 -0.0016014]\n",
      "test：0.160000, test mean: 0.189108\n"
     ]
    },
    {
     "name": "stderr",
     "output_type": "stream",
     "text": [
      "\r",
      " 26%|██▋       | 158/600 [14:39:22<42:08:09, 343.19s/it]"
     ]
    },
    {
     "name": "stdout",
     "output_type": "stream",
     "text": [
      "[0.8893671 0.1612658 0.2768987 0.1624051 0.3731013 0.1932911 0.3109494 0.1592405 0.3931645 0.1888608]\n",
      "[0.0000000 -0.0019142 0.0007260 -0.0006261 -0.0003897 -0.0016068 0.0001566 -0.0013991 0.0001803 -0.0016043]\n",
      "test：0.150000, test mean: 0.188861\n"
     ]
    },
    {
     "name": "stderr",
     "output_type": "stream",
     "text": [
      "\r",
      " 26%|██▋       | 159/600 [14:44:56<41:42:26, 340.47s/it]"
     ]
    },
    {
     "name": "stdout",
     "output_type": "stream",
     "text": [
      "[0.8894968 0.1616352 0.2771698 0.1625157 0.3732704 0.1935220 0.3111950 0.1595597 0.3935220 0.1889937]\n",
      "[0.0000000 -0.0019210 0.0007209 -0.0006353 -0.0003920 -0.0016116 0.0001536 -0.0014085 0.0001796 -0.0016140]\n",
      "test：0.210000, test mean: 0.188994\n"
     ]
    },
    {
     "name": "stderr",
     "output_type": "stream",
     "text": [
      "\r",
      " 27%|██▋       | 160/600 [14:50:41<41:46:03, 341.73s/it]"
     ]
    },
    {
     "name": "stdout",
     "output_type": "stream",
     "text": [
      "[0.8891875 0.1617500 0.2771875 0.1626250 0.3731875 0.1934375 0.3111875 0.1594375 0.3935000 0.1889375]\n",
      "[0.0000000 -0.0019245 0.0007256 -0.0006428 -0.0003916 -0.0016096 0.0001559 -0.0014108 0.0001823 -0.0016156]\n",
      "test：0.180000, test mean: 0.188937\n"
     ]
    },
    {
     "name": "stderr",
     "output_type": "stream",
     "text": [
      "\r",
      " 27%|██▋       | 161/600 [14:56:21<41:36:36, 341.22s/it]"
     ]
    },
    {
     "name": "stdout",
     "output_type": "stream",
     "text": [
      "[0.8890683 0.1614907 0.2772050 0.1625466 0.3730435 0.1934161 0.3109317 0.1595652 0.3934161 0.1890062]\n",
      "[0.0000000 -0.0019262 0.0007198 -0.0006334 -0.0003897 -0.0016062 0.0001543 -0.0013987 0.0001803 -0.0016102]\n",
      "test：0.200000, test mean: 0.189006\n"
     ]
    },
    {
     "name": "stderr",
     "output_type": "stream",
     "text": [
      "\r",
      " 27%|██▋       | 162/600 [15:01:46<40:55:44, 336.40s/it]"
     ]
    },
    {
     "name": "stdout",
     "output_type": "stream",
     "text": [
      "[0.8895062 0.1618518 0.2772839 0.1627778 0.3733951 0.1940123 0.3111111 0.1596914 0.3937037 0.1895062]\n",
      "[0.0000000 -0.0019335 0.0007182 -0.0006412 -0.0003908 -0.0016082 0.0001537 -0.0014042 0.0001742 -0.0016099]\n",
      "test：0.270000, test mean: 0.189506\n"
     ]
    },
    {
     "name": "stderr",
     "output_type": "stream",
     "text": [
      "\r",
      " 27%|██▋       | 163/600 [15:07:16<40:36:05, 334.48s/it]"
     ]
    },
    {
     "name": "stdout",
     "output_type": "stream",
     "text": [
      "[0.8895092 0.1618405 0.2769939 0.1626380 0.3735583 0.1939877 0.3109816 0.1596319 0.3937423 0.1894479]\n",
      "[0.0000000 -0.0019351 0.0007128 -0.0006516 -0.0003869 -0.0016105 0.0001503 -0.0014078 0.0001699 -0.0016134]\n",
      "test：0.180000, test mean: 0.189448\n"
     ]
    },
    {
     "name": "stderr",
     "output_type": "stream",
     "text": [
      "\r",
      " 27%|██▋       | 164/600 [15:12:57<40:42:57, 336.19s/it]"
     ]
    },
    {
     "name": "stdout",
     "output_type": "stream",
     "text": [
      "[0.8899390 0.1618902 0.2774390 0.1629268 0.3738415 0.1947561 0.3113415 0.1600000 0.3940244 0.1895122]\n",
      "[0.0000000 -0.0019400 0.0007191 -0.0006565 -0.0003901 -0.0016157 0.0001513 -0.0014149 0.0001763 -0.0016197]\n",
      "test：0.200000, test mean: 0.189512\n"
     ]
    },
    {
     "name": "stderr",
     "output_type": "stream",
     "text": [
      "\r",
      " 28%|██▊       | 165/600 [15:18:19<40:07:51, 332.12s/it]"
     ]
    },
    {
     "name": "stdout",
     "output_type": "stream",
     "text": [
      "[0.8896363 0.1616970 0.2774545 0.1625454 0.3739394 0.1945454 0.3109697 0.1597576 0.3940606 0.1889697]\n",
      "[0.0000000 -0.0019452 0.0007286 -0.0006635 -0.0003925 -0.0016203 0.0001627 -0.0014222 0.0001784 -0.0016243]\n",
      "test：0.100000, test mean: 0.188970\n"
     ]
    },
    {
     "name": "stderr",
     "output_type": "stream",
     "text": [
      "\r",
      " 28%|██▊       | 166/600 [15:23:26<39:06:48, 324.44s/it]"
     ]
    },
    {
     "name": "stdout",
     "output_type": "stream",
     "text": [
      "[0.8896988 0.1614458 0.2773494 0.1624699 0.3741566 0.1945783 0.3108434 0.1596988 0.3942771 0.1888554]\n",
      "[0.0000000 -0.0019444 0.0007299 -0.0006560 -0.0003914 -0.0016194 0.0001675 -0.0014167 0.0001742 -0.0016212]\n",
      "test：0.170000, test mean: 0.188855\n"
     ]
    },
    {
     "name": "stderr",
     "output_type": "stream",
     "text": [
      "\r",
      " 28%|██▊       | 167/600 [15:28:26<38:10:12, 317.35s/it]"
     ]
    },
    {
     "name": "stdout",
     "output_type": "stream",
     "text": [
      "[0.8898203 0.1616168 0.2773653 0.1625150 0.3747305 0.1944311 0.3111976 0.1596407 0.3947904 0.1888623]\n",
      "[0.0000000 -0.0019456 0.0007274 -0.0006475 -0.0003905 -0.0016190 0.0001726 -0.0014244 0.0001764 -0.0016142]\n",
      "test：0.190000, test mean: 0.188862\n"
     ]
    },
    {
     "name": "stderr",
     "output_type": "stream",
     "text": [
      "\r",
      " 28%|██▊       | 168/600 [15:33:29<37:32:32, 312.85s/it]"
     ]
    },
    {
     "name": "stdout",
     "output_type": "stream",
     "text": [
      "[0.8897024 0.1618452 0.2777976 0.1626786 0.3752976 0.1947024 0.3112500 0.1598214 0.3954167 0.1890476]\n",
      "[0.0000000 -0.0019480 0.0007219 -0.0006420 -0.0003899 -0.0016199 0.0001689 -0.0014277 0.0001807 -0.0016153]\n",
      "test：0.220000, test mean: 0.189048\n"
     ]
    },
    {
     "name": "stderr",
     "output_type": "stream",
     "text": [
      "\r",
      " 28%|██▊       | 169/600 [15:38:22<36:44:27, 306.88s/it]"
     ]
    },
    {
     "name": "stdout",
     "output_type": "stream",
     "text": [
      "[0.8896450 0.1620118 0.2778698 0.1626035 0.3749704 0.1950296 0.3110651 0.1598225 0.3952663 0.1890533]\n",
      "[0.0000000 -0.0019475 0.0007235 -0.0006308 -0.0003936 -0.0016154 0.0001626 -0.0014182 0.0001827 -0.0016121]\n",
      "test：0.190000, test mean: 0.189053\n"
     ]
    },
    {
     "name": "stderr",
     "output_type": "stream",
     "text": [
      "\r",
      " 28%|██▊       | 170/600 [15:42:45<35:05:30, 293.79s/it]"
     ]
    },
    {
     "name": "stdout",
     "output_type": "stream",
     "text": [
      "[0.8895882 0.1621176 0.2778823 0.1623529 0.3751176 0.1950000 0.3108235 0.1600000 0.3952941 0.1890000]\n",
      "[0.0000000 -0.0019442 0.0007240 -0.0006309 -0.0003920 -0.0016131 0.0001658 -0.0014175 0.0001752 -0.0016150]\n",
      "test：0.180000, test mean: 0.189000\n"
     ]
    },
    {
     "name": "stderr",
     "output_type": "stream",
     "text": [
      "\r",
      " 28%|██▊       | 171/600 [15:47:38<34:58:53, 293.55s/it]"
     ]
    },
    {
     "name": "stdout",
     "output_type": "stream",
     "text": [
      "[0.8898245 0.1622807 0.2780702 0.1623392 0.3753216 0.1950877 0.3111111 0.1596491 0.3956725 0.1889474]\n",
      "[0.0000000 -0.0019406 0.0007202 -0.0006409 -0.0003898 -0.0016138 0.0001585 -0.0014259 0.0001749 -0.0016146]\n",
      "test：0.180000, test mean: 0.188947\n"
     ]
    },
    {
     "name": "stderr",
     "output_type": "stream",
     "text": [
      "\r",
      " 29%|██▊       | 172/600 [15:52:30<34:50:11, 293.02s/it]"
     ]
    },
    {
     "name": "stdout",
     "output_type": "stream",
     "text": [
      "[0.8897674 0.1627907 0.2780814 0.1623837 0.3751744 0.1954651 0.3112209 0.1599419 0.3954651 0.1889535]\n",
      "[0.0000000 -0.0019376 0.0007315 -0.0006311 -0.0003910 -0.0016135 0.0001599 -0.0014148 0.0001827 -0.0016147]\n",
      "test：0.190000, test mean: 0.188953\n"
     ]
    },
    {
     "name": "stderr",
     "output_type": "stream",
     "text": [
      "\r",
      " 29%|██▉       | 173/600 [15:57:26<34:52:23, 294.01s/it]"
     ]
    },
    {
     "name": "stdout",
     "output_type": "stream",
     "text": [
      "[0.8899422 0.1628902 0.2782659 0.1626012 0.3757225 0.1953757 0.3115029 0.1597688 0.3956647 0.1890751]\n",
      "[0.0000000 -0.0019411 0.0007258 -0.0006378 -0.0003904 -0.0016138 0.0001551 -0.0014174 0.0001795 -0.0016157]\n",
      "test：0.210000, test mean: 0.189075\n"
     ]
    },
    {
     "name": "stderr",
     "output_type": "stream",
     "text": [
      "\r",
      " 29%|██▉       | 174/600 [16:02:32<35:13:49, 297.72s/it]"
     ]
    },
    {
     "name": "stdout",
     "output_type": "stream",
     "text": [
      "[0.8900000 0.1629310 0.2779310 0.1625287 0.3754598 0.1952299 0.3116092 0.1597701 0.3953448 0.1889655]\n",
      "[0.0000000 -0.0019354 0.0007204 -0.0006404 -0.0003895 -0.0016083 0.0001493 -0.0014162 0.0001745 -0.0016130]\n",
      "test：0.170000, test mean: 0.188966\n"
     ]
    },
    {
     "name": "stderr",
     "output_type": "stream",
     "text": [
      "\r",
      " 29%|██▉       | 175/600 [16:07:31<35:09:58, 297.88s/it]"
     ]
    },
    {
     "name": "stdout",
     "output_type": "stream",
     "text": [
      "[0.8897143 0.1626286 0.2778286 0.1623429 0.3753143 0.1955429 0.3109143 0.1597714 0.3952571 0.1888000]\n",
      "[0.0000000 -0.0019439 0.0007156 -0.0006440 -0.0003904 -0.0016133 0.0001442 -0.0014183 0.0001727 -0.0016201]\n",
      "test：0.160000, test mean: 0.188800\n"
     ]
    },
    {
     "name": "stderr",
     "output_type": "stream",
     "text": [
      "\r",
      " 29%|██▉       | 176/600 [16:12:31<35:10:48, 298.70s/it]"
     ]
    },
    {
     "name": "stdout",
     "output_type": "stream",
     "text": [
      "[0.8896023 0.1628409 0.2776704 0.1625568 0.3755114 0.1953977 0.3105682 0.1598295 0.3953409 0.1888068]\n",
      "[0.0000000 -0.0019541 0.0007123 -0.0006521 -0.0003879 -0.0016170 0.0001417 -0.0014221 0.0001701 -0.0016254]\n",
      "test：0.190000, test mean: 0.188807\n"
     ]
    },
    {
     "name": "stderr",
     "output_type": "stream",
     "text": [
      "\r",
      " 30%|██▉       | 177/600 [16:17:28<35:01:49, 298.13s/it]"
     ]
    },
    {
     "name": "stdout",
     "output_type": "stream",
     "text": [
      "[0.8891525 0.1627684 0.2773446 0.1623164 0.3752542 0.1954802 0.3100565 0.1598305 0.3949717 0.1884746]\n",
      "[0.0000000 -0.0019506 0.0007075 -0.0006486 -0.0003878 -0.0016149 0.0001351 -0.0014188 0.0001683 -0.0016241]\n",
      "test：0.130000, test mean: 0.188475\n"
     ]
    },
    {
     "name": "stderr",
     "output_type": "stream",
     "text": [
      "\r",
      " 30%|██▉       | 178/600 [16:22:26<34:56:01, 298.01s/it]"
     ]
    },
    {
     "name": "stdout",
     "output_type": "stream",
     "text": [
      "[0.8890449 0.1625843 0.2769101 0.1621348 0.3750000 0.1950000 0.3097753 0.1593820 0.3948315 0.1884270]\n",
      "[0.0000000 -0.0019480 0.0007194 -0.0006503 -0.0003889 -0.0016131 0.0001438 -0.0014146 0.0001627 -0.0016163]\n",
      "test：0.180000, test mean: 0.188427\n"
     ]
    },
    {
     "name": "stderr",
     "output_type": "stream",
     "text": [
      "\r",
      " 30%|██▉       | 179/600 [16:27:32<35:08:26, 300.49s/it]"
     ]
    },
    {
     "name": "stdout",
     "output_type": "stream",
     "text": [
      "[0.8890503 0.1623464 0.2764246 0.1620112 0.3749162 0.1946369 0.3094972 0.1591061 0.3948603 0.1883240]\n",
      "[0.0000000 -0.0019380 0.0007181 -0.0006443 -0.0003880 -0.0016074 0.0001487 -0.0014086 0.0001625 -0.0016068]\n",
      "test：0.170000, test mean: 0.188324\n"
     ]
    },
    {
     "name": "stderr",
     "output_type": "stream",
     "text": [
      "\r",
      " 30%|███       | 180/600 [16:32:49<35:38:17, 305.47s/it]"
     ]
    },
    {
     "name": "stdout",
     "output_type": "stream",
     "text": [
      "[0.8891666 0.1623333 0.2766667 0.1621111 0.3751667 0.1946111 0.3097222 0.1590000 0.3951111 0.1885000]\n",
      "[0.0000000 -0.0019388 0.0007089 -0.0006420 -0.0003909 -0.0016134 0.0001460 -0.0014194 0.0001597 -0.0016046]\n",
      "test：0.220000, test mean: 0.188500\n"
     ]
    },
    {
     "name": "stderr",
     "output_type": "stream",
     "text": [
      "\r",
      " 30%|███       | 181/600 [16:37:56<35:35:46, 305.84s/it]"
     ]
    },
    {
     "name": "stdout",
     "output_type": "stream",
     "text": [
      "[0.8892265 0.1624309 0.2768508 0.1620994 0.3751381 0.1948066 0.3097237 0.1586740 0.3949171 0.1882320]\n",
      "[0.0000000 -0.0019383 0.0007216 -0.0006426 -0.0003830 -0.0016149 0.0001476 -0.0014160 0.0001653 -0.0016060]\n",
      "test：0.140000, test mean: 0.188232\n"
     ]
    },
    {
     "name": "stderr",
     "output_type": "stream",
     "text": [
      "\r",
      " 30%|███       | 182/600 [16:42:59<35:24:43, 304.98s/it]"
     ]
    },
    {
     "name": "stdout",
     "output_type": "stream",
     "text": [
      "[0.8892857 0.1625824 0.2769231 0.1621978 0.3751099 0.1946703 0.3098901 0.1589011 0.3949450 0.1885165]\n",
      "[0.0000000 -0.0019340 0.0007182 -0.0006500 -0.0003816 -0.0016149 0.0001491 -0.0014165 0.0001594 -0.0016074]\n",
      "test：0.240000, test mean: 0.188516\n"
     ]
    },
    {
     "name": "stderr",
     "output_type": "stream",
     "text": [
      "\r",
      " 30%|███       | 183/600 [16:48:04<35:19:45, 305.00s/it]"
     ]
    },
    {
     "name": "stdout",
     "output_type": "stream",
     "text": [
      "[0.8896175 0.1628415 0.2770492 0.1622404 0.3754645 0.1949727 0.3100546 0.1591257 0.3953005 0.1884153]\n",
      "[0.0000000 -0.0019337 0.0007083 -0.0006512 -0.0003799 -0.0016155 0.0001416 -0.0014207 0.0001590 -0.0016088]\n",
      "test：0.170000, test mean: 0.188415\n"
     ]
    },
    {
     "name": "stderr",
     "output_type": "stream",
     "text": [
      "\r",
      " 31%|███       | 184/600 [16:52:55<34:45:12, 300.75s/it]"
     ]
    },
    {
     "name": "stdout",
     "output_type": "stream",
     "text": [
      "[0.8897282 0.1628261 0.2769565 0.1624456 0.3751630 0.1950000 0.3103261 0.1588587 0.3950543 0.1885326]\n",
      "[0.0000000 -0.0019447 0.0007079 -0.0006595 -0.0003791 -0.0016221 0.0001423 -0.0014251 0.0001586 -0.0016148]\n",
      "test：0.210000, test mean: 0.188533\n"
     ]
    },
    {
     "name": "stderr",
     "output_type": "stream",
     "text": [
      "\r",
      " 31%|███       | 185/600 [16:58:08<35:06:08, 304.50s/it]"
     ]
    },
    {
     "name": "stdout",
     "output_type": "stream",
     "text": [
      "[0.8897838 0.1630811 0.2768649 0.1624865 0.3752973 0.1949730 0.3100540 0.1590270 0.3951351 0.1885405]\n",
      "[0.0000000 -0.0019472 0.0007025 -0.0006605 -0.0003786 -0.0016258 0.0001381 -0.0014243 0.0001555 -0.0016170]\n",
      "test：0.190000, test mean: 0.188541\n"
     ]
    },
    {
     "name": "stderr",
     "output_type": "stream",
     "text": [
      "\r",
      " 31%|███       | 186/600 [17:03:15<35:07:06, 305.38s/it]"
     ]
    },
    {
     "name": "stdout",
     "output_type": "stream",
     "text": [
      "[0.8896236 0.1626344 0.2763441 0.1623118 0.3746774 0.1944086 0.3096236 0.1587097 0.3947312 0.1882796]\n",
      "[0.0000000 -0.0019488 0.0006945 -0.0006660 -0.0003807 -0.0016285 0.0001368 -0.0014230 0.0001551 -0.0016250]\n",
      "test：0.140000, test mean: 0.188280\n"
     ]
    },
    {
     "name": "stderr",
     "output_type": "stream",
     "text": [
      "\r",
      " 31%|███       | 187/600 [17:07:42<33:42:03, 293.76s/it]"
     ]
    },
    {
     "name": "stdout",
     "output_type": "stream",
     "text": [
      "[0.8892513 0.1624599 0.2759358 0.1621390 0.3744385 0.1940642 0.3096791 0.1587700 0.3943850 0.1880214]\n",
      "[0.0000000 -0.0019455 0.0006900 -0.0006650 -0.0003801 -0.0016301 0.0001368 -0.0014238 0.0001565 -0.0016238]\n",
      "test：0.140000, test mean: 0.188021\n"
     ]
    },
    {
     "name": "stderr",
     "output_type": "stream",
     "text": [
      "\r",
      " 31%|███▏      | 188/600 [17:12:44<33:53:05, 296.08s/it]"
     ]
    },
    {
     "name": "stdout",
     "output_type": "stream",
     "text": [
      "[0.8893617 0.1622340 0.2759042 0.1618085 0.3745213 0.1936702 0.3097340 0.1588830 0.3944681 0.1876064]\n",
      "[0.0000000 -0.0019447 0.0006893 -0.0006649 -0.0003797 -0.0016326 0.0001361 -0.0014277 0.0001574 -0.0016224]\n",
      "test：0.110000, test mean: 0.187606\n"
     ]
    },
    {
     "name": "stderr",
     "output_type": "stream",
     "text": [
      "\r",
      " 32%|███▏      | 189/600 [17:17:56<34:20:39, 300.83s/it]"
     ]
    },
    {
     "name": "stdout",
     "output_type": "stream",
     "text": [
      "[0.8891534 0.1621693 0.2757143 0.1616402 0.3741799 0.1934921 0.3094709 0.1585714 0.3940741 0.1874074]\n",
      "[0.0000000 -0.0019431 0.0006851 -0.0006663 -0.0003819 -0.0016367 0.0001349 -0.0014305 0.0001554 -0.0016250]\n",
      "test：0.150000, test mean: 0.187407\n"
     ]
    },
    {
     "name": "stderr",
     "output_type": "stream",
     "text": [
      "\r",
      " 32%|███▏      | 190/600 [17:22:43<33:48:02, 296.79s/it]"
     ]
    },
    {
     "name": "stdout",
     "output_type": "stream",
     "text": [
      "[0.8892631 0.1620526 0.2757368 0.1616316 0.3740526 0.1936842 0.3096316 0.1587368 0.3937895 0.1874737]\n",
      "[0.0000000 -0.0019406 0.0006872 -0.0006624 -0.0003803 -0.0016381 0.0001385 -0.0014321 0.0001597 -0.0016258]\n",
      "test：0.200000, test mean: 0.187474\n"
     ]
    },
    {
     "name": "stderr",
     "output_type": "stream",
     "text": [
      "\r",
      " 32%|███▏      | 191/600 [17:27:41<33:46:02, 297.22s/it]"
     ]
    },
    {
     "name": "stdout",
     "output_type": "stream",
     "text": [
      "[0.8894764 0.1619895 0.2762304 0.1616754 0.3748691 0.1938743 0.3098429 0.1587958 0.3947644 0.1874869]\n",
      "[0.0000000 -0.0019433 0.0006928 -0.0006694 -0.0003821 -0.0016408 0.0001513 -0.0014348 0.0001525 -0.0016337]\n",
      "test：0.190000, test mean: 0.187487\n"
     ]
    },
    {
     "name": "stderr",
     "output_type": "stream",
     "text": [
      "\r",
      " 32%|███▏      | 192/600 [17:32:30<33:23:41, 294.66s/it]"
     ]
    },
    {
     "name": "stdout",
     "output_type": "stream",
     "text": [
      "[0.8894271 0.1621354 0.2764062 0.1618750 0.3752083 0.1940104 0.3100521 0.1588542 0.3950000 0.1876042]\n",
      "[0.0000000 -0.0019463 0.0006879 -0.0006714 -0.0003828 -0.0016439 0.0001518 -0.0014337 0.0001506 -0.0016372]\n",
      "test：0.210000, test mean: 0.187604\n"
     ]
    },
    {
     "name": "stderr",
     "output_type": "stream",
     "text": [
      "\r",
      " 32%|███▏      | 193/600 [17:37:25<33:19:25, 294.76s/it]"
     ]
    },
    {
     "name": "stdout",
     "output_type": "stream",
     "text": [
      "[0.8891710 0.1621243 0.2764249 0.1620207 0.3748705 0.1940933 0.3100518 0.1588083 0.3947150 0.1876684]\n",
      "[0.0000000 -0.0019478 0.0006854 -0.0006750 -0.0003821 -0.0016414 0.0001505 -0.0014361 0.0001481 -0.0016343]\n",
      "test：0.200000, test mean: 0.187668\n"
     ]
    },
    {
     "name": "stderr",
     "output_type": "stream",
     "text": [
      "\r",
      " 32%|███▏      | 194/600 [17:42:29<33:34:11, 297.66s/it]"
     ]
    },
    {
     "name": "stdout",
     "output_type": "stream",
     "text": [
      "[0.8892268 0.1621134 0.2764948 0.1620619 0.3754639 0.1940722 0.3102062 0.1589175 0.3954124 0.1875773]\n",
      "[0.0000000 -0.0019473 0.0006860 -0.0006761 -0.0003820 -0.0016422 0.0001546 -0.0014384 0.0001428 -0.0016347]\n",
      "test：0.170000, test mean: 0.187577\n"
     ]
    },
    {
     "name": "stderr",
     "output_type": "stream",
     "text": [
      "\r",
      " 32%|███▎      | 195/600 [17:47:44<34:03:13, 302.70s/it]"
     ]
    },
    {
     "name": "stdout",
     "output_type": "stream",
     "text": [
      "[0.8893846 0.1623077 0.2763077 0.1621538 0.3757949 0.1942051 0.3099487 0.1589744 0.3958974 0.1875897]\n",
      "[0.0000000 -0.0019508 0.0006841 -0.0006762 -0.0003797 -0.0016480 0.0001554 -0.0014329 0.0001402 -0.0016402]\n",
      "test：0.190000, test mean: 0.187590\n"
     ]
    },
    {
     "name": "stderr",
     "output_type": "stream",
     "text": [
      "\r",
      " 33%|███▎      | 196/600 [17:52:42<33:50:04, 301.50s/it]"
     ]
    },
    {
     "name": "stdout",
     "output_type": "stream",
     "text": [
      "[0.8892347 0.1625510 0.2764286 0.1623980 0.3760714 0.1945918 0.3102041 0.1591326 0.3960204 0.1878571]\n",
      "[0.0000000 -0.0019504 0.0006827 -0.0006754 -0.0003832 -0.0016468 0.0001543 -0.0014326 0.0001464 -0.0016368]\n",
      "test：0.240000, test mean: 0.187857\n"
     ]
    },
    {
     "name": "stderr",
     "output_type": "stream",
     "text": [
      "\r",
      " 33%|███▎      | 197/600 [17:57:41<33:38:43, 300.55s/it]"
     ]
    },
    {
     "name": "stdout",
     "output_type": "stream",
     "text": [
      "[0.8892893 0.1627411 0.2765990 0.1627411 0.3762436 0.1947208 0.3106091 0.1591878 0.3962436 0.1881218]\n",
      "[0.0000000 -0.0019536 0.0006834 -0.0006784 -0.0003853 -0.0016474 0.0001546 -0.0014298 0.0001448 -0.0016387]\n",
      "test：0.240000, test mean: 0.188122\n"
     ]
    }
   ],
   "source": [
    "model.eval()\n",
    "acc = []\n",
    "preds = []\n",
    "labels = []\n",
    "total_batch_acc = []\n",
    "total_batch_grad = []\n",
    "bar = tqdm(validloader)\n",
    "for step, (batch_data,batch_label) in enumerate(bar):\n",
    "    batch_data = batch_data.cuda() if CUDA else batch_data\n",
    "    batch_label = batch_label.cuda() if CUDA else batch_label\n",
    "    batch_label = batch_label.squeeze()\n",
    "    temp = torch.zeros((len(batch_label),2))\n",
    "    for idx,target in enumerate(batch_label.squeeze()): temp[idx,target] = 1\n",
    "    temp_label = temp.cuda() if CUDA else temp\n",
    "\n",
    "    pred,batch_acc,batch_grad = model(batch_data,ce_loss)\n",
    "    \n",
    "    pred = np.argmax(pred,1)\n",
    "    batch_label = batch_label.cpu().data.numpy()\n",
    "    \n",
    "    preds.extend(pred.tolist())\n",
    "    labels.extend(batch_label.tolist())\n",
    "    \n",
    "    temp_acc = (batch_label == pred).mean()\n",
    "    acc.append(temp_acc)\n",
    "    total_batch_acc.append(batch_acc + [temp_acc])\n",
    "    total_batch_grad.append([0] + batch_grad)\n",
    "    total_batch_acc_str = '[' + ' '.join(map(lambda x: '%.7f'%x,np.mean(total_batch_acc,axis=0))) + ']'\n",
    "    total_batch_grad_str = '[' + ' '.join(map(lambda x: '%.7f'%x,np.mean(total_batch_grad,axis=0))) + ']'\n",
    "    print(total_batch_acc_str)\n",
    "    print(total_batch_grad_str)\n",
    "    print(f\"test：{temp_acc:4f}, test mean: {np.mean(acc):4f}\")"
   ]
  },
  {
   "cell_type": "code",
   "execution_count": null,
   "id": "22633c66",
   "metadata": {},
   "outputs": [],
   "source": []
  }
 ],
 "metadata": {
  "kernelspec": {
   "display_name": "Python 3",
   "language": "python",
   "name": "python3"
  },
  "language_info": {
   "codemirror_mode": {
    "name": "ipython",
    "version": 3
   },
   "file_extension": ".py",
   "mimetype": "text/x-python",
   "name": "python",
   "nbconvert_exporter": "python",
   "pygments_lexer": "ipython3",
   "version": "3.6.9"
  }
 },
 "nbformat": 4,
 "nbformat_minor": 5
}
