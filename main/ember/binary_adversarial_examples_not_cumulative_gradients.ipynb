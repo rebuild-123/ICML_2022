{
 "cells": [
  {
   "cell_type": "code",
   "execution_count": 1,
   "id": "2ac8a951",
   "metadata": {},
   "outputs": [],
   "source": [
    "import os\n",
    "import numpy as np\n",
    "import pandas as pd\n",
    "from tqdm import tqdm\n",
    "import multiprocessing as mp\n",
    "from sklearn.model_selection import train_test_split\n",
    "import torch\n",
    "from torch import nn\n",
    "from torch.optim import Adam\n",
    "import torch.nn.functional as F\n",
    "from torch.utils.data import DataLoader, Dataset\n",
    "os.environ[\"CUDA_VISIBLE_DEVICES\"] = '2'"
   ]
  },
  {
   "cell_type": "code",
   "execution_count": null,
   "id": "3ef54173",
   "metadata": {},
   "outputs": [],
   "source": []
  },
  {
   "cell_type": "code",
   "execution_count": 2,
   "id": "373482b5",
   "metadata": {},
   "outputs": [],
   "source": [
    "trained_model_path = '/workdir/security/home/junjiehuang2468/paper/trained_models_weight/ember/'\n",
    "best_trained_model = '2022-01-18 14:55/2w_epoch:13_test_acc:0.896058.pt'\n",
    "data_path = \"/workdir/security/home/junjiehuang2468/paper/data/ember2018/\"\n",
    "train_data_path = data_path + \"malwares/\" \n",
    "train_label_path = data_path + \"train_labels.csv\" "
   ]
  },
  {
   "cell_type": "code",
   "execution_count": 3,
   "id": "c05c1730",
   "metadata": {},
   "outputs": [],
   "source": [
    "CUDA = True if torch.cuda.is_available() else False\n",
    "NUM_WORKERS = 24\n",
    "BATCH_SIZE = 100\n",
    "LEAVE_BIT_NUMBER = 20000\n",
    "KERNEL_SIZE = 500"
   ]
  },
  {
   "cell_type": "code",
   "execution_count": 4,
   "id": "0274cb27",
   "metadata": {},
   "outputs": [],
   "source": [
    "LEAVE_BIT_NUMBER_DICT = {10000:'1w',20000:'2w'}"
   ]
  },
  {
   "cell_type": "code",
   "execution_count": 5,
   "id": "f0179094",
   "metadata": {},
   "outputs": [],
   "source": [
    "trainset = pd.read_csv(data_path + 'train_dataset.csv')\n",
    "validset = pd.read_csv(data_path + 'valid_dataset.csv')\n",
    "validset = validset.iloc[np.argwhere(validset['labels'].values == 1).squeeze(),:]"
   ]
  },
  {
   "cell_type": "code",
   "execution_count": 6,
   "id": "4fb0d918",
   "metadata": {},
   "outputs": [],
   "source": [
    "class ExeDataset(Dataset): # ExeDataset不是我取的，要記得改\n",
    "    def __init__(self, malware_names, data_path, labels, leave_bit_num):\n",
    "        self.malware_names = malware_names\n",
    "        self.data_path = data_path\n",
    "        self.labels = labels\n",
    "        self.leave_bit_num = leave_bit_num\n",
    "\n",
    "    def __len__(self):\n",
    "        return len(self.malware_names)\n",
    "\n",
    "    def __getitem__(self, idx):\n",
    "        with open(self.data_path + self.malware_names[idx] + '.txt','rb') as fp:\n",
    "            data = [bit+1 for bit in fp.read()[:self.leave_bit_num]]\n",
    "            padding = [0]*(self.leave_bit_num-len(data))\n",
    "            data = data + padding\n",
    "\n",
    "        return np.array(data), np.array([self.labels[idx]])"
   ]
  },
  {
   "cell_type": "code",
   "execution_count": 7,
   "id": "0dff087d",
   "metadata": {},
   "outputs": [],
   "source": [
    "train_dataset = ExeDataset(\n",
    "    trainset[\"id\"].tolist(), \n",
    "    train_data_path, \n",
    "    trainset[\"labels\"].tolist(), \n",
    "    LEAVE_BIT_NUMBER\n",
    ")\n",
    "valid_dataset = ExeDataset(\n",
    "    validset[\"id\"].tolist(), \n",
    "    train_data_path, \n",
    "    validset[\"labels\"].tolist(), \n",
    "    LEAVE_BIT_NUMBER\n",
    ")"
   ]
  },
  {
   "cell_type": "code",
   "execution_count": 8,
   "id": "d7d4339f",
   "metadata": {},
   "outputs": [],
   "source": [
    "trainloader = DataLoader(\n",
    "    dataset = train_dataset,\n",
    "    batch_size = BATCH_SIZE,\n",
    "    shuffle = False,\n",
    "    num_workers = NUM_WORKERS,\n",
    "    pin_memory = True\n",
    ")\n",
    "validloader = DataLoader(\n",
    "    dataset = valid_dataset,\n",
    "    batch_size = BATCH_SIZE,\n",
    "    shuffle = False,\n",
    "    num_workers = NUM_WORKERS,\n",
    "    pin_memory = True\n",
    ")"
   ]
  },
  {
   "cell_type": "code",
   "execution_count": null,
   "id": "0e2614b5",
   "metadata": {},
   "outputs": [],
   "source": []
  },
  {
   "cell_type": "code",
   "execution_count": 9,
   "id": "7a4156ed",
   "metadata": {},
   "outputs": [],
   "source": [
    "def mp_func(i,inpu,te,gr):\n",
    "    cum_grad = 0\n",
    "    for j,(inp,g,t) in enumerate(zip(inpu,gr,te)):\n",
    "        if inp != 0: continue\n",
    "        max_idx = np.argmin(g).tolist()\n",
    "        org_max_idx = np.argmax(t).tolist()\n",
    "        cum_grad += np.mean(g)\n",
    "        if g[max_idx] > 0: continue\n",
    "        te[j][org_max_idx] = 0\n",
    "        te[j][max_idx] = 1\n",
    "    return [i,te,cum_grad]"
   ]
  },
  {
   "cell_type": "code",
   "execution_count": 10,
   "id": "955b5f31",
   "metadata": {},
   "outputs": [],
   "source": [
    "class Model(nn.Module):\n",
    "    def __init__(self, data_length = 2e6, kernel_size = 500):\n",
    "        super().__init__()\n",
    "        self.embedding = nn.Embedding(257, 8, padding_idx=0)\n",
    "        self.conv_layer_1 = nn.Conv1d(4, 128, kernel_size, stride = kernel_size, bias = True)\n",
    "        # self.bn_1 = nn.BatchNorm1d(128)\n",
    "        self.conv_layer_2 = nn.Conv1d(4, 128, kernel_size, stride = kernel_size, bias = True)\n",
    "        self.pool_layer_2 = nn.MaxPool1d(data_length//kernel_size)\n",
    "        self.fc_layer_3 = nn.Linear(128, 128)\n",
    "        self.fc_layer_4 = nn.Linear(128, 2)\n",
    "\n",
    "    def forward(self, input_, loss_fn):\n",
    "        temp = F.one_hot(input_,num_classes=257).float()\n",
    "        temp.requires_grad = True\n",
    "        temp.retain_grad()\n",
    "        batch_acc = []\n",
    "        batch_grad = []\n",
    "        for _ in range(9):\n",
    "            x = temp @ self.embedding.weight\n",
    "            x = torch.transpose(x, -1, -2)\n",
    "\n",
    "            x_conv_1 = self.conv_layer_1(x[:,:4,:])\n",
    "            x_conv_2 = torch.sigmoid(self.conv_layer_2(x[:,4:,:]))\n",
    "\n",
    "            x = x_conv_1*x_conv_2\n",
    "            del x_conv_1,x_conv_2\n",
    "            x = self.pool_layer_2(x).squeeze()\n",
    "            \n",
    "            x = self.fc_layer_3(x)\n",
    "            x = self.fc_layer_4(x)\n",
    "            \n",
    "            acc = torch.argmax(torch.softmax(x,dim=-1),dim=-1).float().mean()\n",
    "            batch_acc.append(acc.tolist())\n",
    "            \n",
    "            mislead_labels = torch.cat((torch.ones(len(x)).reshape(-1,1),torch.zeros(len(x)).reshape(-1,1)),dim=1).cuda()\n",
    "            loss = loss_fn(x,mislead_labels)\n",
    "            loss.backward()\n",
    "            \n",
    "            data = [(i,inpu,te,gr) for i,(inpu,te,gr) in enumerate(zip(\n",
    "                input_.detach().cpu().numpy(),\n",
    "                temp.detach().cpu().numpy(),\n",
    "                temp.grad.detach().cpu().numpy()\n",
    "            ))]\n",
    "            with mp.Pool(processes=30 if len(data) > 30 else len(data)) as pool:\n",
    "                results = pool.starmap(mp_func,data)\n",
    "            results = sorted(results,key = lambda x: x[0])\n",
    "            for i in range(len(temp)):\n",
    "                temp.data[i] = torch.tensor(results[i][1], dtype=torch.float, requires_grad=True).cuda()\n",
    "            batch_grad.append(np.mean([result[2] for result in results]))\n",
    "            \n",
    "            temp.grad.zero_()\n",
    "            \n",
    "        x = temp @ self.embedding.weight\n",
    "        x = torch.transpose(x, -1, -2)\n",
    "\n",
    "        x_conv_1 = self.conv_layer_1(x[:,:4,:])\n",
    "        x_conv_2 = torch.sigmoid(self.conv_layer_2(x[:,4:,:]))\n",
    "\n",
    "        x = x_conv_1*x_conv_2\n",
    "        del x_conv_1,x_conv_2\n",
    "        x = self.pool_layer_2(x).squeeze()\n",
    "\n",
    "        x = self.fc_layer_3(x)\n",
    "        x = self.fc_layer_4(x)\n",
    "        return x.detach().cpu().numpy(),batch_acc,batch_grad"
   ]
  },
  {
   "cell_type": "code",
   "execution_count": 11,
   "id": "0038f580",
   "metadata": {},
   "outputs": [],
   "source": [
    "model = Model(data_length=LEAVE_BIT_NUMBER,kernel_size=KERNEL_SIZE)\n",
    "\n",
    "ce_loss = nn.CrossEntropyLoss()\n",
    "optim = Adam(model.parameters())\n",
    "\n",
    "model = model.cuda() if CUDA else model\n",
    "ce_loss = ce_loss.cuda() if CUDA else ce_less"
   ]
  },
  {
   "cell_type": "code",
   "execution_count": 12,
   "id": "f674591a",
   "metadata": {},
   "outputs": [
    {
     "data": {
      "text/plain": [
       "<All keys matched successfully>"
      ]
     },
     "execution_count": 12,
     "metadata": {},
     "output_type": "execute_result"
    }
   ],
   "source": [
    "model.load_state_dict(torch.load(trained_model_path + best_trained_model))"
   ]
  },
  {
   "cell_type": "code",
   "execution_count": null,
   "id": "84791bf3",
   "metadata": {
    "scrolled": true
   },
   "outputs": [
    {
     "name": "stderr",
     "output_type": "stream",
     "text": [
      "  0%|          | 1/600 [05:08<51:21:11, 308.63s/it]"
     ]
    },
    {
     "name": "stdout",
     "output_type": "stream",
     "text": [
      "[0.8700000 0.1200000 0.2900000 0.1000000 0.3500000 0.1500000 0.2900000 0.1600000 0.3900000 0.1000000]\n",
      "[0.0000000 -0.0011380 0.0008753 0.0023526 -0.0006273 -0.0010835 0.0000943 -0.0011837 0.0017727 -0.0020172]\n",
      "test：0.100000, test mean: 0.100000\n"
     ]
    },
    {
     "name": "stderr",
     "output_type": "stream",
     "text": [
      "\r",
      "  0%|          | 2/600 [10:01<49:45:02, 299.50s/it]"
     ]
    },
    {
     "name": "stdout",
     "output_type": "stream",
     "text": [
      "[0.8650000 0.1100000 0.2350000 0.1050000 0.3000000 0.1500000 0.2700000 0.1300000 0.3400000 0.1200000]\n",
      "[0.0000000 -0.0010860 0.0006515 0.0012957 -0.0005290 -0.0013705 0.0002178 -0.0010544 0.0012077 -0.0018794]\n",
      "test：0.140000, test mean: 0.120000\n"
     ]
    },
    {
     "name": "stderr",
     "output_type": "stream",
     "text": [
      "\r",
      "  0%|          | 3/600 [14:57<49:22:04, 297.70s/it]"
     ]
    },
    {
     "name": "stdout",
     "output_type": "stream",
     "text": [
      "[0.8533333 0.1266667 0.2533333 0.1100000 0.3266667 0.1433333 0.2800000 0.1333333 0.3566667 0.1300000]\n",
      "[0.0000000 -0.0014283 0.0011127 0.0006999 -0.0005213 -0.0015729 0.0007286 -0.0015244 0.0006277 -0.0013001]\n",
      "test：0.150000, test mean: 0.130000\n"
     ]
    },
    {
     "name": "stderr",
     "output_type": "stream",
     "text": [
      "\r",
      "  1%|          | 4/600 [19:54<49:14:29, 297.43s/it]"
     ]
    },
    {
     "name": "stdout",
     "output_type": "stream",
     "text": [
      "[0.8500000 0.1575000 0.2550000 0.1250000 0.3400000 0.1575000 0.2925000 0.1325000 0.3750000 0.1500000]\n",
      "[0.0000000 -0.0015826 0.0005648 0.0003034 -0.0003986 -0.0014687 0.0001380 -0.0013102 0.0003358 -0.0013363]\n",
      "test：0.210000, test mean: 0.150000\n"
     ]
    },
    {
     "name": "stderr",
     "output_type": "stream",
     "text": [
      "\r",
      "  1%|          | 5/600 [24:55<49:23:21, 298.83s/it]"
     ]
    },
    {
     "name": "stdout",
     "output_type": "stream",
     "text": [
      "[0.8560000 0.1560000 0.2780000 0.1340000 0.3600000 0.1640000 0.2980000 0.1440000 0.3840000 0.1560000]\n",
      "[0.0000000 -0.0014669 0.0006396 -0.0003207 -0.0004533 -0.0016213 0.0002197 -0.0014025 0.0003650 -0.0014825]\n",
      "test：0.180000, test mean: 0.156000\n"
     ]
    },
    {
     "name": "stderr",
     "output_type": "stream",
     "text": [
      "\r",
      "  1%|          | 6/600 [29:46<48:50:59, 296.06s/it]"
     ]
    },
    {
     "name": "stdout",
     "output_type": "stream",
     "text": [
      "[0.8650000 0.1550000 0.2866667 0.1383333 0.3783333 0.1616667 0.3116667 0.1450000 0.3950000 0.1566667]\n",
      "[0.0000000 -0.0014066 0.0004858 -0.0004865 -0.0003598 -0.0016933 0.0001792 -0.0014534 0.0003099 -0.0014853]\n",
      "test：0.160000, test mean: 0.156667\n"
     ]
    },
    {
     "name": "stderr",
     "output_type": "stream",
     "text": [
      "\r",
      "  1%|          | 7/600 [34:45<48:54:59, 296.96s/it]"
     ]
    },
    {
     "name": "stdout",
     "output_type": "stream",
     "text": [
      "[0.8714285 0.1628571 0.2857143 0.1471429 0.3757143 0.1728571 0.3085714 0.1528571 0.3914286 0.1557143]\n",
      "[0.0000000 -0.0012569 0.0004718 -0.0003502 -0.0004316 -0.0016078 0.0002339 -0.0013267 0.0007354 -0.0014338]\n",
      "test：0.150000, test mean: 0.155714\n"
     ]
    },
    {
     "name": "stderr",
     "output_type": "stream",
     "text": [
      "\r",
      "  1%|▏         | 8/600 [39:37<48:36:48, 295.62s/it]"
     ]
    },
    {
     "name": "stdout",
     "output_type": "stream",
     "text": [
      "[0.8750000 0.1675000 0.2850000 0.1612500 0.3762500 0.1887500 0.3150000 0.1562500 0.3912500 0.1675000]\n",
      "[0.0000000 -0.0010554 0.0004538 -0.0004474 -0.0005237 -0.0014276 0.0001938 -0.0012498 0.0005926 -0.0013290]\n",
      "test：0.250000, test mean: 0.167500\n"
     ]
    },
    {
     "name": "stderr",
     "output_type": "stream",
     "text": [
      "\r",
      "  2%|▏         | 9/600 [44:49<49:22:38, 300.78s/it]"
     ]
    },
    {
     "name": "stdout",
     "output_type": "stream",
     "text": [
      "[0.8811111 0.1700000 0.2822222 0.1655556 0.3711111 0.1911111 0.3133333 0.1600000 0.3888889 0.1755556]\n",
      "[0.0000000 -0.0011100 0.0003940 -0.0005945 -0.0005231 -0.0014211 0.0000310 -0.0012542 0.0004092 -0.0013119]\n",
      "test：0.240000, test mean: 0.175556\n"
     ]
    },
    {
     "name": "stderr",
     "output_type": "stream",
     "text": [
      "\r",
      "  2%|▏         | 10/600 [50:45<52:03:57, 317.69s/it]"
     ]
    },
    {
     "name": "stdout",
     "output_type": "stream",
     "text": [
      "[0.8830000 0.1710000 0.2860000 0.1620000 0.3750000 0.1900000 0.3150000 0.1570000 0.3910000 0.1770000]\n",
      "[0.0000000 -0.0013503 0.0005109 -0.0006233 -0.0004676 -0.0015466 0.0001164 -0.0013514 0.0003281 -0.0013032]\n",
      "test：0.190000, test mean: 0.177000\n"
     ]
    },
    {
     "name": "stderr",
     "output_type": "stream",
     "text": [
      "\r",
      "  2%|▏         | 11/600 [55:47<51:10:27, 312.78s/it]"
     ]
    },
    {
     "name": "stdout",
     "output_type": "stream",
     "text": [
      "[0.8890909 0.1745454 0.2909091 0.1690909 0.3772727 0.1954545 0.3209091 0.1636364 0.3954545 0.1790909]\n",
      "[0.0000000 -0.0014299 0.0004627 -0.0005771 -0.0005322 -0.0015345 -0.0000058 -0.0013993 0.0004073 -0.0013915]\n",
      "test：0.200000, test mean: 0.179091\n"
     ]
    },
    {
     "name": "stderr",
     "output_type": "stream",
     "text": [
      "\r",
      "  2%|▏         | 12/600 [1:02:10<54:35:54, 334.28s/it]"
     ]
    },
    {
     "name": "stdout",
     "output_type": "stream",
     "text": [
      "[0.8858333 0.1666667 0.2841667 0.1650000 0.3750000 0.1875000 0.3166667 0.1591667 0.3966667 0.1766667]\n",
      "[0.0000000 -0.0015132 0.0004955 -0.0005676 -0.0005262 -0.0014791 -0.0000292 -0.0013804 0.0003161 -0.0013602]\n",
      "test：0.150000, test mean: 0.176667\n"
     ]
    },
    {
     "name": "stderr",
     "output_type": "stream",
     "text": [
      "\r",
      "  2%|▏         | 13/600 [1:09:28<59:38:31, 365.78s/it]"
     ]
    },
    {
     "name": "stdout",
     "output_type": "stream",
     "text": [
      "[0.8907692 0.1653846 0.2815385 0.1638461 0.3738461 0.1946154 0.3115385 0.1592308 0.3969231 0.1769231]\n",
      "[0.0000000 -0.0016224 0.0005935 -0.0004955 -0.0005052 -0.0014985 0.0000047 -0.0013945 0.0003272 -0.0013576]\n",
      "test：0.180000, test mean: 0.176923\n"
     ]
    },
    {
     "name": "stderr",
     "output_type": "stream",
     "text": [
      "\r",
      "  2%|▏         | 14/600 [1:17:20<64:43:08, 397.59s/it]"
     ]
    },
    {
     "name": "stdout",
     "output_type": "stream",
     "text": [
      "[0.8921428 0.1635714 0.2835714 0.1642857 0.3778571 0.1950000 0.3142857 0.1571429 0.4007143 0.1771429]\n",
      "[0.0000000 -0.0017160 0.0005369 -0.0006024 -0.0005129 -0.0015357 0.0000168 -0.0014127 0.0002799 -0.0014373]\n",
      "test：0.180000, test mean: 0.177143\n"
     ]
    },
    {
     "name": "stderr",
     "output_type": "stream",
     "text": [
      "\r",
      "  2%|▎         | 15/600 [1:25:14<68:23:04, 420.83s/it]"
     ]
    },
    {
     "name": "stdout",
     "output_type": "stream",
     "text": [
      "[0.8933333 0.1626667 0.2833333 0.1606667 0.3773333 0.1913333 0.3153333 0.1546667 0.4026667 0.1753333]\n",
      "[0.0000000 -0.0017701 0.0005555 -0.0005340 -0.0005212 -0.0015889 0.0000675 -0.0014082 0.0002538 -0.0015098]\n",
      "test：0.150000, test mean: 0.175333\n"
     ]
    },
    {
     "name": "stderr",
     "output_type": "stream",
     "text": [
      "\r",
      "  3%|▎         | 16/600 [1:32:14<68:14:25, 420.66s/it]"
     ]
    },
    {
     "name": "stdout",
     "output_type": "stream",
     "text": [
      "[0.8931250 0.1581250 0.2793750 0.1625000 0.3718750 0.1862500 0.3168750 0.1518750 0.3968750 0.1775000]\n",
      "[0.0000000 -0.0017968 0.0005188 -0.0004909 -0.0005462 -0.0016385 0.0000419 -0.0014252 0.0002674 -0.0015194]\n",
      "test：0.210000, test mean: 0.177500\n"
     ]
    },
    {
     "name": "stderr",
     "output_type": "stream",
     "text": [
      "\r",
      "  3%|▎         | 17/600 [1:39:32<68:58:01, 425.87s/it]"
     ]
    },
    {
     "name": "stdout",
     "output_type": "stream",
     "text": [
      "[0.8941176 0.1611765 0.2829412 0.1664706 0.3735294 0.1900000 0.3176470 0.1529412 0.3976470 0.1805882]\n",
      "[0.0000000 -0.0017835 0.0005434 -0.0005013 -0.0005741 -0.0016492 0.0000613 -0.0014400 0.0002849 -0.0015288]\n",
      "test：0.230000, test mean: 0.180588\n"
     ]
    },
    {
     "name": "stderr",
     "output_type": "stream",
     "text": [
      "\r",
      "  3%|▎         | 18/600 [1:47:36<71:39:19, 443.23s/it]"
     ]
    },
    {
     "name": "stdout",
     "output_type": "stream",
     "text": [
      "[0.8938889 0.1616667 0.2872222 0.1655556 0.3766667 0.1894444 0.3183333 0.1555556 0.4022222 0.1827778]\n",
      "[0.0000000 -0.0017433 0.0005841 -0.0003919 -0.0005380 -0.0016895 0.0001447 -0.0014380 0.0003263 -0.0015900]\n",
      "test：0.220000, test mean: 0.182778\n"
     ]
    },
    {
     "name": "stderr",
     "output_type": "stream",
     "text": [
      "\r",
      "  3%|▎         | 19/600 [1:55:03<71:42:59, 444.37s/it]"
     ]
    },
    {
     "name": "stdout",
     "output_type": "stream",
     "text": [
      "[0.8947368 0.1610526 0.2842105 0.1663158 0.3705263 0.1915789 0.3173684 0.1542105 0.3989474 0.1831579]\n",
      "[0.0000000 -0.0018489 0.0006135 -0.0004401 -0.0005528 -0.0016983 0.0002005 -0.0014874 0.0003106 -0.0016164]\n",
      "test：0.190000, test mean: 0.183158\n"
     ]
    },
    {
     "name": "stderr",
     "output_type": "stream",
     "text": [
      "\r",
      "  3%|▎         | 20/600 [2:02:59<73:06:13, 453.75s/it]"
     ]
    },
    {
     "name": "stdout",
     "output_type": "stream",
     "text": [
      "[0.8930000 0.1625000 0.2875000 0.1660000 0.3720000 0.1920000 0.3225000 0.1560000 0.4020000 0.1820000]\n",
      "[0.0000000 -0.0018776 0.0006813 -0.0005005 -0.0005525 -0.0017383 0.0002444 -0.0015196 0.0003585 -0.0016697]\n",
      "test：0.160000, test mean: 0.182000\n"
     ]
    },
    {
     "name": "stderr",
     "output_type": "stream",
     "text": [
      "\r",
      "  4%|▎         | 21/600 [2:10:38<73:14:24, 455.38s/it]"
     ]
    },
    {
     "name": "stdout",
     "output_type": "stream",
     "text": [
      "[0.8923809 0.1638095 0.2876190 0.1685714 0.3719048 0.1938095 0.3223809 0.1571429 0.4014286 0.1828571]\n",
      "[0.0000000 -0.0018406 0.0006147 -0.0005354 -0.0006013 -0.0017200 0.0002078 -0.0015025 0.0003318 -0.0016718]\n",
      "test：0.200000, test mean: 0.182857\n"
     ]
    },
    {
     "name": "stderr",
     "output_type": "stream",
     "text": [
      "\r",
      "  4%|▎         | 22/600 [2:18:36<74:12:25, 462.19s/it]"
     ]
    },
    {
     "name": "stdout",
     "output_type": "stream",
     "text": [
      "[0.8909091 0.1672727 0.2895454 0.1709091 0.3740909 0.1940909 0.3231818 0.1590909 0.4027273 0.1859091]\n",
      "[0.0000000 -0.0018644 0.0006154 -0.0005729 -0.0005886 -0.0017274 0.0001921 -0.0015321 0.0002849 -0.0017205]\n",
      "test：0.250000, test mean: 0.185909\n"
     ]
    },
    {
     "name": "stderr",
     "output_type": "stream",
     "text": [
      "\r",
      "  4%|▍         | 23/600 [2:26:55<75:49:54, 473.13s/it]"
     ]
    },
    {
     "name": "stdout",
     "output_type": "stream",
     "text": [
      "[0.8908695 0.1678261 0.2904348 0.1730435 0.3760869 0.1960869 0.3226087 0.1626087 0.4026087 0.1869565]\n",
      "[0.0000000 -0.0018693 0.0005948 -0.0005743 -0.0005770 -0.0017439 0.0001461 -0.0015274 0.0002453 -0.0016913]\n",
      "test：0.210000, test mean: 0.186957\n"
     ]
    },
    {
     "name": "stderr",
     "output_type": "stream",
     "text": [
      "\r",
      "  4%|▍         | 24/600 [2:35:07<76:37:49, 478.94s/it]"
     ]
    },
    {
     "name": "stdout",
     "output_type": "stream",
     "text": [
      "[0.8912500 0.1683333 0.2916667 0.1741667 0.3775000 0.1970833 0.3245833 0.1641667 0.4054167 0.1883333]\n",
      "[0.0000000 -0.0018847 0.0005593 -0.0006233 -0.0005627 -0.0017681 0.0001221 -0.0015374 0.0002168 -0.0017341]\n",
      "test：0.220000, test mean: 0.188333\n"
     ]
    },
    {
     "name": "stderr",
     "output_type": "stream",
     "text": [
      "\r",
      "  4%|▍         | 25/600 [2:42:51<75:45:14, 474.29s/it]"
     ]
    },
    {
     "name": "stdout",
     "output_type": "stream",
     "text": [
      "[0.8912000 0.1672000 0.2904000 0.1724000 0.3764000 0.1968000 0.3220000 0.1648000 0.4040000 0.1864000]\n",
      "[0.0000000 -0.0018427 0.0005317 -0.0006287 -0.0005572 -0.0017166 0.0001406 -0.0015474 0.0001894 -0.0016925]\n",
      "test：0.140000, test mean: 0.186400\n"
     ]
    },
    {
     "name": "stderr",
     "output_type": "stream",
     "text": [
      "\r",
      "  4%|▍         | 26/600 [2:51:18<77:13:31, 484.34s/it]"
     ]
    },
    {
     "name": "stdout",
     "output_type": "stream",
     "text": [
      "[0.8911538 0.1661538 0.2896154 0.1719231 0.3742308 0.1953846 0.3211538 0.1638461 0.4030769 0.1857692]\n",
      "[0.0000000 -0.0018608 0.0005577 -0.0006438 -0.0005593 -0.0017180 0.0001260 -0.0015194 0.0001821 -0.0017119]\n",
      "test：0.170000, test mean: 0.185769\n"
     ]
    },
    {
     "name": "stderr",
     "output_type": "stream",
     "text": [
      "\r",
      "  4%|▍         | 27/600 [2:59:46<78:10:54, 491.19s/it]"
     ]
    },
    {
     "name": "stdout",
     "output_type": "stream",
     "text": [
      "[0.8914815 0.1696296 0.2911111 0.1729630 0.3744444 0.1966667 0.3244444 0.1651852 0.4025926 0.1877778]\n",
      "[0.0000000 -0.0018246 0.0005523 -0.0006476 -0.0005560 -0.0017352 0.0001459 -0.0015189 0.0001617 -0.0017384]\n",
      "test：0.240000, test mean: 0.187778\n"
     ]
    },
    {
     "name": "stderr",
     "output_type": "stream",
     "text": [
      "\r",
      "  5%|▍         | 28/600 [3:07:38<77:08:22, 485.49s/it]"
     ]
    },
    {
     "name": "stdout",
     "output_type": "stream",
     "text": [
      "[0.8907143 0.1714286 0.2925000 0.1732143 0.3728571 0.1985714 0.3232143 0.1685714 0.4007143 0.1875000]\n",
      "[0.0000000 -0.0017508 0.0005631 -0.0005500 -0.0005636 -0.0016967 0.0001410 -0.0014660 0.0002275 -0.0017016]\n",
      "test：0.180000, test mean: 0.187500\n"
     ]
    },
    {
     "name": "stderr",
     "output_type": "stream",
     "text": [
      "\r",
      "  5%|▍         | 29/600 [3:15:48<77:14:10, 486.95s/it]"
     ]
    },
    {
     "name": "stdout",
     "output_type": "stream",
     "text": [
      "[0.8900000 0.1713793 0.2906896 0.1731034 0.3755172 0.1986207 0.3234483 0.1686207 0.4027586 0.1868966]\n",
      "[0.0000000 -0.0017570 0.0006277 -0.0005378 -0.0005490 -0.0016789 0.0001311 -0.0013773 0.0002097 -0.0016958]\n",
      "test：0.170000, test mean: 0.186897\n"
     ]
    },
    {
     "name": "stderr",
     "output_type": "stream",
     "text": [
      "\r",
      "  5%|▌         | 30/600 [3:23:39<76:19:46, 482.08s/it]"
     ]
    },
    {
     "name": "stdout",
     "output_type": "stream",
     "text": [
      "[0.8903333 0.1710000 0.2910000 0.1726667 0.3756667 0.1976667 0.3250000 0.1670000 0.4026667 0.1883333]\n",
      "[0.0000000 -0.0017500 0.0006845 -0.0005484 -0.0005531 -0.0016560 0.0001686 -0.0013813 0.0002459 -0.0016734]\n",
      "test：0.230000, test mean: 0.188333\n"
     ]
    },
    {
     "name": "stderr",
     "output_type": "stream",
     "text": [
      "\r",
      "  5%|▌         | 31/600 [3:36:22<89:31:30, 566.42s/it]"
     ]
    },
    {
     "name": "stdout",
     "output_type": "stream",
     "text": [
      "[0.8909677 0.1706452 0.2922581 0.1729032 0.3754839 0.1993548 0.3258064 0.1687097 0.4022581 0.1896774]\n",
      "[0.0000000 -0.0017546 0.0006742 -0.0005075 -0.0005323 -0.0016681 0.0001757 -0.0014024 0.0002950 -0.0016938]\n",
      "test：0.230000, test mean: 0.189677\n"
     ]
    },
    {
     "name": "stderr",
     "output_type": "stream",
     "text": [
      "\r",
      "  5%|▌         | 32/600 [3:51:33<105:40:50, 669.81s/it]"
     ]
    },
    {
     "name": "stdout",
     "output_type": "stream",
     "text": [
      "[0.8896875 0.1709375 0.2915625 0.1721875 0.3746875 0.2012500 0.3250000 0.1681250 0.4012500 0.1900000]\n",
      "[0.0000000 -0.0017525 0.0007759 -0.0005210 -0.0005108 -0.0016807 0.0002426 -0.0014009 0.0002870 -0.0016676]\n",
      "test：0.200000, test mean: 0.190000\n"
     ]
    },
    {
     "name": "stderr",
     "output_type": "stream",
     "text": [
      "\r",
      "  6%|▌         | 33/600 [4:07:13<118:16:26, 750.95s/it]"
     ]
    },
    {
     "name": "stdout",
     "output_type": "stream",
     "text": [
      "[0.8903030 0.1712121 0.2924242 0.1724242 0.3751515 0.2015151 0.3248485 0.1684848 0.4021212 0.1906061]\n",
      "[0.0000000 -0.0017410 0.0007153 -0.0005115 -0.0005106 -0.0016607 0.0002159 -0.0014373 0.0002870 -0.0016733]\n",
      "test：0.210000, test mean: 0.190606\n"
     ]
    },
    {
     "name": "stderr",
     "output_type": "stream",
     "text": [
      "\r",
      "  6%|▌         | 34/600 [4:22:40<126:20:54, 803.63s/it]"
     ]
    },
    {
     "name": "stdout",
     "output_type": "stream",
     "text": [
      "[0.8911764 0.1723529 0.2929412 0.1717647 0.3773529 0.2029412 0.3244118 0.1670588 0.4032353 0.1920588]\n",
      "[0.0000000 -0.0017365 0.0007190 -0.0005319 -0.0005196 -0.0016532 0.0001867 -0.0013916 0.0002740 -0.0016659]\n",
      "test：0.240000, test mean: 0.192059\n"
     ]
    },
    {
     "name": "stderr",
     "output_type": "stream",
     "text": [
      "\r",
      "  6%|▌         | 35/600 [4:37:29<130:09:32, 829.33s/it]"
     ]
    },
    {
     "name": "stdout",
     "output_type": "stream",
     "text": [
      "[0.8911428 0.1705714 0.2928571 0.1700000 0.3768571 0.2028571 0.3248571 0.1651429 0.4025714 0.1911429]\n",
      "[0.0000000 -0.0017415 0.0006710 -0.0005307 -0.0005092 -0.0016449 0.0001380 -0.0013963 0.0002609 -0.0016454]\n",
      "test：0.160000, test mean: 0.191143\n"
     ]
    },
    {
     "name": "stderr",
     "output_type": "stream",
     "text": [
      "\r",
      "  6%|▌         | 36/600 [4:52:58<134:37:21, 859.29s/it]"
     ]
    },
    {
     "name": "stdout",
     "output_type": "stream",
     "text": [
      "[0.8894444 0.1697222 0.2930555 0.1697222 0.3780555 0.2022222 0.3241667 0.1650000 0.4038889 0.1902778]\n",
      "[0.0000000 -0.0017336 0.0006476 -0.0005233 -0.0005182 -0.0016138 0.0001118 -0.0013961 0.0002559 -0.0016202]\n",
      "test：0.160000, test mean: 0.190278\n"
     ]
    },
    {
     "name": "stderr",
     "output_type": "stream",
     "text": [
      "\r",
      "  6%|▌         | 37/600 [5:08:08<136:44:38, 874.38s/it]"
     ]
    },
    {
     "name": "stdout",
     "output_type": "stream",
     "text": [
      "[0.8889189 0.1708108 0.2932432 0.1710811 0.3775676 0.2024324 0.3235135 0.1662162 0.4032432 0.1918919]\n",
      "[0.0000000 -0.0017677 0.0006419 -0.0005343 -0.0005062 -0.0015952 0.0001269 -0.0013953 0.0002432 -0.0015954]\n",
      "test：0.250000, test mean: 0.191892\n"
     ]
    },
    {
     "name": "stderr",
     "output_type": "stream",
     "text": [
      "\r",
      "  6%|▋         | 38/600 [5:23:42<139:16:50, 892.19s/it]"
     ]
    },
    {
     "name": "stdout",
     "output_type": "stream",
     "text": [
      "[0.8897368 0.1700000 0.2926316 0.1707895 0.3750000 0.2021053 0.3223684 0.1660526 0.4015789 0.1918421]\n",
      "[0.0000000 -0.0017461 0.0006333 -0.0005044 -0.0004880 -0.0015642 0.0001202 -0.0013733 0.0002373 -0.0015641]\n",
      "test：0.190000, test mean: 0.191842\n"
     ]
    },
    {
     "name": "stderr",
     "output_type": "stream",
     "text": [
      "\r",
      "  6%|▋         | 39/600 [5:39:36<141:56:37, 910.87s/it]"
     ]
    },
    {
     "name": "stdout",
     "output_type": "stream",
     "text": [
      "[0.8892307 0.1689744 0.2917949 0.1697436 0.3723077 0.2028205 0.3205128 0.1661538 0.3984615 0.1905128]\n",
      "[0.0000000 -0.0017231 0.0006076 -0.0004809 -0.0004789 -0.0015519 0.0000925 -0.0013693 0.0002400 -0.0015410]\n",
      "test：0.140000, test mean: 0.190513\n"
     ]
    },
    {
     "name": "stderr",
     "output_type": "stream",
     "text": [
      "\r",
      "  7%|▋         | 40/600 [5:57:34<149:28:48, 960.94s/it]"
     ]
    },
    {
     "name": "stdout",
     "output_type": "stream",
     "text": [
      "[0.8907500 0.1700000 0.2932500 0.1695000 0.3725000 0.2032500 0.3212500 0.1655000 0.3982500 0.1912500]\n",
      "[0.0000000 -0.0017370 0.0006528 -0.0004657 -0.0004862 -0.0015723 0.0000894 -0.0013940 0.0002588 -0.0015573]\n",
      "test：0.220000, test mean: 0.191250\n"
     ]
    },
    {
     "name": "stderr",
     "output_type": "stream",
     "text": [
      "\r",
      "  7%|▋         | 41/600 [6:17:10<159:14:22, 1025.51s/it]"
     ]
    },
    {
     "name": "stdout",
     "output_type": "stream",
     "text": [
      "[0.8900000 0.1712195 0.2921951 0.1704878 0.3721951 0.2036585 0.3221951 0.1651219 0.3978049 0.1917073]\n",
      "[0.0000000 -0.0017410 0.0006305 -0.0004917 -0.0004784 -0.0015696 0.0000731 -0.0013942 0.0002475 -0.0015541]\n",
      "test：0.210000, test mean: 0.191707\n"
     ]
    },
    {
     "name": "stderr",
     "output_type": "stream",
     "text": [
      "\r",
      "  7%|▋         | 42/600 [6:37:35<168:14:05, 1085.39s/it]"
     ]
    },
    {
     "name": "stdout",
     "output_type": "stream",
     "text": [
      "[0.8890476 0.1721429 0.2904762 0.1702381 0.3716667 0.2030952 0.3200000 0.1657143 0.3973809 0.1923810]\n",
      "[0.0000000 -0.0017244 0.0005851 -0.0004765 -0.0004795 -0.0015536 0.0000748 -0.0014019 0.0002276 -0.0015303]\n",
      "test：0.220000, test mean: 0.192381\n"
     ]
    },
    {
     "name": "stderr",
     "output_type": "stream",
     "text": [
      "\r",
      "  7%|▋         | 43/600 [6:56:22<169:51:15, 1097.80s/it]"
     ]
    },
    {
     "name": "stdout",
     "output_type": "stream",
     "text": [
      "[0.8881395 0.1720930 0.2906977 0.1706977 0.3720930 0.2027907 0.3204651 0.1674419 0.3979070 0.1930233]\n",
      "[0.0000000 -0.0017211 0.0005692 -0.0004866 -0.0004709 -0.0015483 0.0000617 -0.0013995 0.0002016 -0.0015270]\n",
      "test：0.220000, test mean: 0.193023\n"
     ]
    },
    {
     "name": "stderr",
     "output_type": "stream",
     "text": [
      "\r",
      "  7%|▋         | 44/600 [7:17:14<176:40:30, 1143.94s/it]"
     ]
    },
    {
     "name": "stdout",
     "output_type": "stream",
     "text": [
      "[0.8881818 0.1720455 0.2906818 0.1704545 0.3729545 0.2025000 0.3211364 0.1675000 0.3993182 0.1929545]\n",
      "[0.0000000 -0.0017540 0.0005687 -0.0005188 -0.0004710 -0.0015639 0.0000645 -0.0014165 0.0001796 -0.0015516]\n",
      "test：0.190000, test mean: 0.192955\n"
     ]
    },
    {
     "name": "stderr",
     "output_type": "stream",
     "text": [
      "\r",
      "  8%|▊         | 45/600 [7:37:33<179:50:39, 1166.56s/it]"
     ]
    },
    {
     "name": "stdout",
     "output_type": "stream",
     "text": [
      "[0.8886666 0.1711111 0.2911111 0.1700000 0.3728889 0.2024444 0.3215555 0.1675556 0.3982222 0.1917778]\n",
      "[0.0000000 -0.0017671 0.0005575 -0.0005466 -0.0004595 -0.0015556 0.0000544 -0.0014193 0.0001651 -0.0015485]\n",
      "test：0.140000, test mean: 0.191778\n"
     ]
    },
    {
     "name": "stderr",
     "output_type": "stream",
     "text": [
      "\r",
      "  8%|▊         | 46/600 [7:56:48<178:59:05, 1163.08s/it]"
     ]
    },
    {
     "name": "stdout",
     "output_type": "stream",
     "text": [
      "[0.8880435 0.1706522 0.2908696 0.1695652 0.3730435 0.2019565 0.3215217 0.1676087 0.3978261 0.1908696]\n",
      "[0.0000000 -0.0018175 0.0005467 -0.0005812 -0.0004602 -0.0015971 0.0000519 -0.0014390 0.0001416 -0.0015952]\n",
      "test：0.150000, test mean: 0.190870\n"
     ]
    },
    {
     "name": "stderr",
     "output_type": "stream",
     "text": [
      "\r",
      "  8%|▊         | 47/600 [8:17:19<181:49:02, 1183.62s/it]"
     ]
    },
    {
     "name": "stdout",
     "output_type": "stream",
     "text": [
      "[0.8878723 0.1693617 0.2893617 0.1685106 0.3714894 0.2004255 0.3204255 0.1665957 0.3965957 0.1895745]\n",
      "[0.0000000 -0.0018298 0.0005238 -0.0005791 -0.0004582 -0.0016064 0.0000595 -0.0014578 0.0001643 -0.0016145]\n",
      "test：0.130000, test mean: 0.189574\n"
     ]
    },
    {
     "name": "stderr",
     "output_type": "stream",
     "text": [
      "\r",
      "  8%|▊         | 48/600 [8:38:21<185:03:09, 1206.87s/it]"
     ]
    },
    {
     "name": "stdout",
     "output_type": "stream",
     "text": [
      "[0.8881250 0.1708333 0.2887500 0.1687500 0.3722917 0.2012500 0.3195833 0.1666667 0.3968750 0.1893750]\n",
      "[0.0000000 -0.0018635 0.0005338 -0.0005881 -0.0004619 -0.0015898 0.0000474 -0.0014697 0.0001542 -0.0015921]\n",
      "test：0.180000, test mean: 0.189375\n"
     ]
    },
    {
     "name": "stderr",
     "output_type": "stream",
     "text": [
      "\r",
      "  8%|▊         | 49/600 [8:56:02<178:01:41, 1163.16s/it]"
     ]
    },
    {
     "name": "stdout",
     "output_type": "stream",
     "text": [
      "[0.8881632 0.1681633 0.2873469 0.1665306 0.3724490 0.1991837 0.3187755 0.1642857 0.3961224 0.1885714]\n",
      "[0.0000000 -0.0018969 0.0005282 -0.0006137 -0.0004506 -0.0016138 0.0000474 -0.0014896 0.0001476 -0.0016088]\n",
      "test：0.150000, test mean: 0.188571\n"
     ]
    },
    {
     "name": "stderr",
     "output_type": "stream",
     "text": [
      "\r",
      "  8%|▊         | 50/600 [9:14:11<174:19:44, 1141.06s/it]"
     ]
    },
    {
     "name": "stdout",
     "output_type": "stream",
     "text": [
      "[0.8874000 0.1674000 0.2864000 0.1662000 0.3714000 0.1988000 0.3172000 0.1628000 0.3938000 0.1880000]\n",
      "[0.0000000 -0.0018915 0.0005557 -0.0006110 -0.0004394 -0.0016032 0.0000664 -0.0014538 0.0001437 -0.0016103]\n",
      "test：0.160000, test mean: 0.188000\n"
     ]
    },
    {
     "name": "stderr",
     "output_type": "stream",
     "text": [
      "\r",
      "  8%|▊         | 51/600 [9:35:01<178:59:58, 1173.77s/it]"
     ]
    },
    {
     "name": "stdout",
     "output_type": "stream",
     "text": [
      "[0.8874510 0.1652941 0.2870588 0.1650980 0.3737255 0.1970588 0.3176471 0.1609804 0.3950980 0.1862745]\n",
      "[0.0000000 -0.0019269 0.0005456 -0.0006215 -0.0004466 -0.0016229 0.0000627 -0.0014826 0.0001750 -0.0016259]\n",
      "test：0.100000, test mean: 0.186275\n"
     ]
    },
    {
     "name": "stderr",
     "output_type": "stream",
     "text": [
      "\r",
      "  9%|▊         | 52/600 [9:56:12<183:07:13, 1202.98s/it]"
     ]
    },
    {
     "name": "stdout",
     "output_type": "stream",
     "text": [
      "[0.8871154 0.1663461 0.2871154 0.1651923 0.3728846 0.1975000 0.3161538 0.1619231 0.3938461 0.1861538]\n",
      "[0.0000000 -0.0019073 0.0005145 -0.0005844 -0.0004628 -0.0015960 0.0000472 -0.0014792 0.0001922 -0.0016128]\n",
      "test：0.180000, test mean: 0.186154\n"
     ]
    },
    {
     "name": "stderr",
     "output_type": "stream",
     "text": [
      "\r",
      "  9%|▉         | 53/600 [10:16:02<182:09:23, 1198.84s/it]"
     ]
    },
    {
     "name": "stdout",
     "output_type": "stream",
     "text": [
      "[0.8871698 0.1658491 0.2883019 0.1650943 0.3739623 0.1975472 0.3164151 0.1620755 0.3943396 0.1864151]\n",
      "[0.0000000 -0.0019158 0.0005046 -0.0005793 -0.0004606 -0.0016100 0.0000358 -0.0014838 0.0001787 -0.0016252]\n",
      "test：0.200000, test mean: 0.186415\n"
     ]
    },
    {
     "name": "stderr",
     "output_type": "stream",
     "text": [
      "\r",
      "  9%|▉         | 54/600 [10:38:19<188:06:46, 1240.31s/it]"
     ]
    },
    {
     "name": "stdout",
     "output_type": "stream",
     "text": [
      "[0.8870370 0.1666667 0.2874074 0.1657407 0.3729630 0.1990741 0.3144444 0.1629630 0.3929630 0.1864815]\n",
      "[0.0000000 -0.0018904 0.0005196 -0.0005826 -0.0004676 -0.0015881 0.0000526 -0.0014735 0.0001751 -0.0016075]\n",
      "test：0.190000, test mean: 0.186481\n"
     ]
    },
    {
     "name": "stderr",
     "output_type": "stream",
     "text": [
      "\r",
      "  9%|▉         | 55/600 [11:02:09<196:24:01, 1297.32s/it]"
     ]
    },
    {
     "name": "stdout",
     "output_type": "stream",
     "text": [
      "[0.8867273 0.1669091 0.2872727 0.1660000 0.3741818 0.1996364 0.3134545 0.1632727 0.3943636 0.1867273]\n",
      "[0.0000000 -0.0018917 0.0005119 -0.0005713 -0.0004826 -0.0015855 0.0000337 -0.0014722 0.0001711 -0.0016139]\n",
      "test：0.200000, test mean: 0.186727\n"
     ]
    },
    {
     "name": "stderr",
     "output_type": "stream",
     "text": [
      "\r",
      "  9%|▉         | 56/600 [11:23:57<196:30:28, 1300.42s/it]"
     ]
    },
    {
     "name": "stdout",
     "output_type": "stream",
     "text": [
      "[0.8876786 0.1660714 0.2867857 0.1655357 0.3735714 0.2003571 0.3125000 0.1630357 0.3935714 0.1864286]\n",
      "[0.0000000 -0.0019023 0.0005221 -0.0005696 -0.0004946 -0.0015822 0.0000534 -0.0014752 0.0001797 -0.0016140]\n",
      "test：0.170000, test mean: 0.186429\n"
     ]
    },
    {
     "name": "stderr",
     "output_type": "stream",
     "text": [
      "\r",
      " 10%|▉         | 57/600 [11:40:27<182:08:09, 1207.53s/it]"
     ]
    },
    {
     "name": "stdout",
     "output_type": "stream",
     "text": [
      "[0.8873684 0.1657895 0.2859649 0.1661403 0.3733333 0.2001754 0.3129824 0.1629825 0.3940351 0.1870175]\n",
      "[0.0000000 -0.0018842 0.0005341 -0.0005777 -0.0004866 -0.0015775 0.0000709 -0.0014715 0.0001814 -0.0015926]\n",
      "test：0.220000, test mean: 0.187018\n"
     ]
    },
    {
     "name": "stderr",
     "output_type": "stream",
     "text": [
      "\r",
      " 10%|▉         | 58/600 [11:56:32<170:50:46, 1134.77s/it]"
     ]
    },
    {
     "name": "stdout",
     "output_type": "stream",
     "text": [
      "[0.8875862 0.1660345 0.2855172 0.1662069 0.3737931 0.2008621 0.3127586 0.1634483 0.3950000 0.1877586]\n",
      "[0.0000000 -0.0019087 0.0005471 -0.0005777 -0.0004873 -0.0015908 0.0000456 -0.0014635 0.0001650 -0.0016012]\n",
      "test：0.230000, test mean: 0.187759\n"
     ]
    },
    {
     "name": "stderr",
     "output_type": "stream",
     "text": [
      "\r",
      " 10%|▉         | 59/600 [12:09:56<155:36:56, 1035.52s/it]"
     ]
    },
    {
     "name": "stdout",
     "output_type": "stream",
     "text": [
      "[0.8879661 0.1667797 0.2854237 0.1666102 0.3732203 0.2018644 0.3127119 0.1633898 0.3945763 0.1881356]\n",
      "[0.0000000 -0.0019264 0.0005820 -0.0005989 -0.0004846 -0.0016052 0.0000356 -0.0014750 0.0001704 -0.0016212]\n",
      "test：0.210000, test mean: 0.188136\n"
     ]
    },
    {
     "name": "stderr",
     "output_type": "stream",
     "text": [
      "\r",
      " 10%|█         | 60/600 [12:25:16<150:05:32, 1000.62s/it]"
     ]
    },
    {
     "name": "stdout",
     "output_type": "stream",
     "text": [
      "[0.8883333 0.1673333 0.2861667 0.1665000 0.3736667 0.2030000 0.3125000 0.1645000 0.3948333 0.1888333]\n",
      "[0.0000000 -0.0019190 0.0005978 -0.0006048 -0.0004745 -0.0015950 0.0000527 -0.0014627 0.0001739 -0.0016093]\n",
      "test：0.230000, test mean: 0.188833\n"
     ]
    },
    {
     "name": "stderr",
     "output_type": "stream",
     "text": [
      "\r",
      " 10%|█         | 61/600 [12:40:08<144:58:20, 968.28s/it] "
     ]
    },
    {
     "name": "stdout",
     "output_type": "stream",
     "text": [
      "[0.8885246 0.1675410 0.2862295 0.1667213 0.3745902 0.2034426 0.3121311 0.1647541 0.3950820 0.1888525]\n",
      "[0.0000000 -0.0019100 0.0005767 -0.0006159 -0.0004713 -0.0016023 0.0000397 -0.0014482 0.0001616 -0.0016132]\n",
      "test：0.190000, test mean: 0.188852\n"
     ]
    },
    {
     "name": "stderr",
     "output_type": "stream",
     "text": [
      "\r",
      " 10%|█         | 62/600 [12:55:11<141:44:48, 948.49s/it]"
     ]
    },
    {
     "name": "stdout",
     "output_type": "stream",
     "text": [
      "[0.8888709 0.1683871 0.2858064 0.1666129 0.3753226 0.2041935 0.3111290 0.1656452 0.3956452 0.1885484]\n",
      "[0.0000000 -0.0018993 0.0006213 -0.0006039 -0.0004804 -0.0015667 0.0000500 -0.0014273 0.0001639 -0.0015887]\n",
      "test：0.170000, test mean: 0.188548\n"
     ]
    },
    {
     "name": "stderr",
     "output_type": "stream",
     "text": [
      "\r",
      " 10%|█         | 63/600 [13:08:52<135:47:48, 910.37s/it]"
     ]
    },
    {
     "name": "stdout",
     "output_type": "stream",
     "text": [
      "[0.8895238 0.1687302 0.2852381 0.1679365 0.3742857 0.2042857 0.3122222 0.1663492 0.3941270 0.1896825]\n",
      "[0.0000000 -0.0018875 0.0006284 -0.0006053 -0.0004852 -0.0015645 0.0000455 -0.0014177 0.0001738 -0.0015844]\n",
      "test：0.260000, test mean: 0.189683\n"
     ]
    },
    {
     "name": "stderr",
     "output_type": "stream",
     "text": [
      "\r",
      " 11%|█         | 64/600 [13:23:43<134:39:19, 904.40s/it]"
     ]
    },
    {
     "name": "stdout",
     "output_type": "stream",
     "text": [
      "[0.8885937 0.1684375 0.2840625 0.1676562 0.3735937 0.2045312 0.3118750 0.1664062 0.3932812 0.1892188]\n",
      "[0.0000000 -0.0018732 0.0006081 -0.0006139 -0.0004855 -0.0015574 0.0000413 -0.0014156 0.0001635 -0.0015787]\n",
      "test：0.160000, test mean: 0.189219\n"
     ]
    },
    {
     "name": "stderr",
     "output_type": "stream",
     "text": [
      "\r",
      " 11%|█         | 65/600 [13:38:47<134:22:58, 904.26s/it]"
     ]
    },
    {
     "name": "stdout",
     "output_type": "stream",
     "text": [
      "[0.8889231 0.1686154 0.2841538 0.1675385 0.3741538 0.2036923 0.3121538 0.1663077 0.3940000 0.1889231]\n",
      "[0.0000000 -0.0018660 0.0006081 -0.0006104 -0.0004849 -0.0015468 0.0000351 -0.0014119 0.0001790 -0.0015690]\n",
      "test：0.170000, test mean: 0.188923\n"
     ]
    },
    {
     "name": "stderr",
     "output_type": "stream",
     "text": [
      "\r",
      " 11%|█         | 66/600 [13:47:59<118:27:33, 798.60s/it]"
     ]
    },
    {
     "name": "stdout",
     "output_type": "stream",
     "text": [
      "[0.8881818 0.1677273 0.2827273 0.1671212 0.3728788 0.2028788 0.3113636 0.1651515 0.3931818 0.1892424]\n",
      "[0.0000000 -0.0018727 0.0006036 -0.0006132 -0.0004876 -0.0015407 0.0000343 -0.0014173 0.0001692 -0.0015465]\n",
      "test：0.210000, test mean: 0.189242\n"
     ]
    },
    {
     "name": "stderr",
     "output_type": "stream",
     "text": [
      "\r",
      " 11%|█         | 67/600 [13:58:20<110:22:04, 745.45s/it]"
     ]
    },
    {
     "name": "stdout",
     "output_type": "stream",
     "text": [
      "[0.8882089 0.1680597 0.2831343 0.1680597 0.3726866 0.2029851 0.3119403 0.1653731 0.3931343 0.1897015]\n",
      "[0.0000000 -0.0018554 0.0006113 -0.0006151 -0.0004934 -0.0015450 0.0000341 -0.0013924 0.0001745 -0.0015468]\n",
      "test：0.220000, test mean: 0.189701\n"
     ]
    },
    {
     "name": "stderr",
     "output_type": "stream",
     "text": [
      "\r",
      " 11%|█▏        | 68/600 [14:07:08<100:31:53, 680.29s/it]"
     ]
    },
    {
     "name": "stdout",
     "output_type": "stream",
     "text": [
      "[0.8875000 0.1670588 0.2817647 0.1675000 0.3729412 0.2022059 0.3122059 0.1641176 0.3929412 0.1888235]\n",
      "[0.0000000 -0.0018392 0.0006389 -0.0006150 -0.0004852 -0.0015285 0.0000503 -0.0013722 0.0001712 -0.0015431]\n",
      "test：0.130000, test mean: 0.188824\n"
     ]
    },
    {
     "name": "stderr",
     "output_type": "stream",
     "text": [
      "\r",
      " 12%|█▏        | 69/600 [14:20:00<104:22:21, 707.61s/it]"
     ]
    },
    {
     "name": "stdout",
     "output_type": "stream",
     "text": [
      "[0.8873913 0.1671014 0.2824638 0.1675362 0.3728985 0.2021739 0.3124638 0.1637681 0.3928985 0.1889855]\n",
      "[0.0000000 -0.0018515 0.0006459 -0.0006373 -0.0004781 -0.0015364 0.0000610 -0.0013876 0.0001819 -0.0015600]\n",
      "test：0.200000, test mean: 0.188986\n"
     ]
    },
    {
     "name": "stderr",
     "output_type": "stream",
     "text": [
      "\r",
      " 12%|█▏        | 70/600 [14:34:14<110:40:22, 751.74s/it]"
     ]
    },
    {
     "name": "stdout",
     "output_type": "stream",
     "text": [
      "[0.8871428 0.1670000 0.2827143 0.1681429 0.3730000 0.2015714 0.3132857 0.1640000 0.3930000 0.1894286]\n",
      "[0.0000000 -0.0018528 0.0006381 -0.0006544 -0.0004683 -0.0015477 0.0000603 -0.0013900 0.0001721 -0.0015821]\n",
      "test：0.220000, test mean: 0.189429\n"
     ]
    },
    {
     "name": "stderr",
     "output_type": "stream",
     "text": [
      "\r",
      " 12%|█▏        | 71/600 [14:46:12<108:57:09, 741.45s/it]"
     ]
    },
    {
     "name": "stdout",
     "output_type": "stream",
     "text": [
      "[0.8869014 0.1671831 0.2818310 0.1681690 0.3729577 0.2019718 0.3126760 0.1635211 0.3932394 0.1895775]\n",
      "[0.0000000 -0.0018648 0.0006558 -0.0006663 -0.0004563 -0.0015672 0.0000928 -0.0013997 0.0001641 -0.0015799]\n",
      "test：0.200000, test mean: 0.189577\n"
     ]
    },
    {
     "name": "stderr",
     "output_type": "stream",
     "text": [
      "\r",
      " 12%|█▏        | 72/600 [14:51:49<90:57:33, 620.18s/it] "
     ]
    },
    {
     "name": "stdout",
     "output_type": "stream",
     "text": [
      "[0.8873611 0.1665278 0.2802778 0.1672222 0.3734722 0.2018055 0.3113889 0.1629167 0.3936111 0.1884722]\n",
      "[0.0000000 -0.0018709 0.0006587 -0.0006662 -0.0004615 -0.0015807 0.0000854 -0.0014021 0.0001784 -0.0015836]\n",
      "test：0.110000, test mean: 0.188472\n"
     ]
    },
    {
     "name": "stderr",
     "output_type": "stream",
     "text": [
      "\r",
      " 12%|█▏        | 73/600 [14:59:07<82:47:52, 565.60s/it]"
     ]
    },
    {
     "name": "stdout",
     "output_type": "stream",
     "text": [
      "[0.8872603 0.1653425 0.2789041 0.1663014 0.3739726 0.2008219 0.3110959 0.1616438 0.3941096 0.1876712]\n",
      "[0.0000000 -0.0018814 0.0006709 -0.0006738 -0.0004551 -0.0015732 0.0001062 -0.0013994 0.0001713 -0.0015830]\n",
      "test：0.130000, test mean: 0.187671\n"
     ]
    },
    {
     "name": "stderr",
     "output_type": "stream",
     "text": [
      "\r",
      " 12%|█▏        | 74/600 [15:05:09<73:41:43, 504.38s/it]"
     ]
    },
    {
     "name": "stdout",
     "output_type": "stream",
     "text": [
      "[0.8881081 0.1654054 0.2787838 0.1662162 0.3743243 0.2006757 0.3109459 0.1621622 0.3948649 0.1875676]\n",
      "[0.0000000 -0.0018828 0.0006638 -0.0006855 -0.0004489 -0.0015717 0.0000893 -0.0014023 0.0001729 -0.0015874]\n",
      "test：0.180000, test mean: 0.187568\n"
     ]
    },
    {
     "name": "stderr",
     "output_type": "stream",
     "text": [
      "\r",
      " 12%|█▎        | 75/600 [15:10:21<65:09:44, 446.83s/it]"
     ]
    },
    {
     "name": "stdout",
     "output_type": "stream",
     "text": [
      "[0.8880000 0.1649333 0.2790667 0.1657333 0.3752000 0.2004000 0.3117333 0.1622667 0.3960000 0.1873333]\n",
      "[0.0000000 -0.0018900 0.0006760 -0.0006850 -0.0004455 -0.0015795 0.0001134 -0.0014100 0.0001710 -0.0015807]\n",
      "test：0.170000, test mean: 0.187333\n"
     ]
    },
    {
     "name": "stderr",
     "output_type": "stream",
     "text": [
      "\r",
      " 13%|█▎        | 76/600 [15:15:41<59:30:17, 408.81s/it]"
     ]
    },
    {
     "name": "stdout",
     "output_type": "stream",
     "text": [
      "[0.8876316 0.1643421 0.2793421 0.1655263 0.3746053 0.2000000 0.3114474 0.1611842 0.3951316 0.1875000]\n",
      "[0.0000000 -0.0018901 0.0006757 -0.0006607 -0.0004408 -0.0015744 0.0001114 -0.0014033 0.0001880 -0.0015783]\n",
      "test：0.200000, test mean: 0.187500\n"
     ]
    },
    {
     "name": "stderr",
     "output_type": "stream",
     "text": [
      "\r",
      " 13%|█▎        | 77/600 [15:20:57<55:20:45, 380.97s/it]"
     ]
    },
    {
     "name": "stdout",
     "output_type": "stream",
     "text": [
      "[0.8871428 0.1638961 0.2788312 0.1655844 0.3741558 0.1997403 0.3107792 0.1610390 0.3945454 0.1872727]\n",
      "[0.0000000 -0.0018891 0.0006546 -0.0006657 -0.0004476 -0.0015800 0.0000994 -0.0014110 0.0001813 -0.0015877]\n",
      "test：0.170000, test mean: 0.187273\n"
     ]
    },
    {
     "name": "stderr",
     "output_type": "stream",
     "text": [
      "\r",
      " 13%|█▎        | 78/600 [15:26:18<52:36:25, 362.81s/it]"
     ]
    },
    {
     "name": "stdout",
     "output_type": "stream",
     "text": [
      "[0.8870513 0.1628205 0.2780769 0.1653846 0.3737179 0.1985897 0.3101282 0.1597436 0.3933333 0.1866667]\n",
      "[0.0000000 -0.0018818 0.0006476 -0.0006708 -0.0004516 -0.0015779 0.0000996 -0.0014113 0.0001749 -0.0015754]\n",
      "test：0.140000, test mean: 0.186667\n"
     ]
    },
    {
     "name": "stderr",
     "output_type": "stream",
     "text": [
      "\r",
      " 13%|█▎        | 79/600 [15:31:07<49:18:35, 340.72s/it]"
     ]
    },
    {
     "name": "stdout",
     "output_type": "stream",
     "text": [
      "[0.8868354 0.1620253 0.2775949 0.1650633 0.3736709 0.1975949 0.3103797 0.1592405 0.3935443 0.1864557]\n",
      "[0.0000000 -0.0018975 0.0006380 -0.0006856 -0.0004533 -0.0015863 0.0000986 -0.0014302 0.0001702 -0.0015854]\n",
      "test：0.170000, test mean: 0.186456\n"
     ]
    },
    {
     "name": "stderr",
     "output_type": "stream",
     "text": [
      "\r",
      " 13%|█▎        | 80/600 [15:36:03<47:15:40, 327.19s/it]"
     ]
    },
    {
     "name": "stdout",
     "output_type": "stream",
     "text": [
      "[0.8866250 0.1616250 0.2770000 0.1645000 0.3730000 0.1975000 0.3097500 0.1593750 0.3926250 0.1860000]\n",
      "[0.0000000 -0.0019070 0.0006400 -0.0006831 -0.0004576 -0.0015916 0.0001181 -0.0014274 0.0001618 -0.0015945]\n",
      "test：0.150000, test mean: 0.186000\n"
     ]
    },
    {
     "name": "stderr",
     "output_type": "stream",
     "text": [
      "\r",
      " 14%|█▎        | 81/600 [15:40:53<45:33:33, 316.02s/it]"
     ]
    },
    {
     "name": "stdout",
     "output_type": "stream",
     "text": [
      "[0.8862963 0.1607407 0.2769136 0.1640741 0.3729630 0.1967901 0.3100000 0.1591358 0.3923457 0.1859259]\n",
      "[0.0000000 -0.0019177 0.0006409 -0.0006744 -0.0004667 -0.0016050 0.0001318 -0.0014521 0.0001732 -0.0016145]\n",
      "test：0.180000, test mean: 0.185926\n"
     ]
    }
   ],
   "source": [
    "model.eval()\n",
    "acc = []\n",
    "preds = []\n",
    "labels = []\n",
    "total_batch_acc = []\n",
    "total_batch_grad = []\n",
    "bar = tqdm(validloader)\n",
    "for step, (batch_data,batch_label) in enumerate(bar):\n",
    "    batch_data = batch_data.cuda() if CUDA else batch_data\n",
    "    batch_label = batch_label.cuda() if CUDA else batch_label\n",
    "    batch_label = batch_label.squeeze()\n",
    "    temp = torch.zeros((len(batch_label),2))\n",
    "    for idx,target in enumerate(batch_label.squeeze()): temp[idx,target] = 1\n",
    "    temp_label = temp.cuda() if CUDA else temp\n",
    "\n",
    "    pred,batch_acc,batch_grad = model(batch_data,ce_loss)\n",
    "    \n",
    "    pred = np.argmax(pred,1)\n",
    "    batch_label = batch_label.cpu().data.numpy()\n",
    "    \n",
    "    preds.extend(pred.tolist())\n",
    "    labels.extend(batch_label.tolist())\n",
    "    \n",
    "    temp_acc = (batch_label == pred).mean()\n",
    "    acc.append(temp_acc)\n",
    "    total_batch_acc.append(batch_acc + [temp_acc])\n",
    "    total_batch_grad.append([0] + batch_grad)\n",
    "    total_batch_acc_str = '[' + ' '.join(map(lambda x: '%.7f'%x,np.mean(total_batch_acc,axis=0))) + ']'\n",
    "    total_batch_grad_str = '[' + ' '.join(map(lambda x: '%.7f'%x,np.mean(total_batch_grad,axis=0))) + ']'\n",
    "    print(total_batch_acc_str)\n",
    "    print(total_batch_grad_str)\n",
    "    print(f\"test：{temp_acc:4f}, test mean: {np.mean(acc):4f}\")"
   ]
  },
  {
   "cell_type": "code",
   "execution_count": null,
   "id": "22633c66",
   "metadata": {},
   "outputs": [],
   "source": []
  }
 ],
 "metadata": {
  "kernelspec": {
   "display_name": "Python 3",
   "language": "python",
   "name": "python3"
  },
  "language_info": {
   "codemirror_mode": {
    "name": "ipython",
    "version": 3
   },
   "file_extension": ".py",
   "mimetype": "text/x-python",
   "name": "python",
   "nbconvert_exporter": "python",
   "pygments_lexer": "ipython3",
   "version": "3.6.9"
  }
 },
 "nbformat": 4,
 "nbformat_minor": 5
}
