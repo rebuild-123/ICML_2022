{
 "cells": [
  {
   "cell_type": "code",
   "execution_count": 1,
   "id": "2ac8a951",
   "metadata": {},
   "outputs": [],
   "source": [
    "import os\n",
    "import numpy as np\n",
    "import pandas as pd\n",
    "from tqdm import tqdm\n",
    "import multiprocessing as mp\n",
    "from sklearn.model_selection import train_test_split\n",
    "import torch\n",
    "from torch import nn\n",
    "from torch.optim import Adam\n",
    "import torch.nn.functional as F\n",
    "from torch.utils.data import DataLoader, Dataset\n",
    "os.environ[\"CUDA_VISIBLE_DEVICES\"] = '1'"
   ]
  },
  {
   "cell_type": "code",
   "execution_count": null,
   "id": "3ef54173",
   "metadata": {},
   "outputs": [],
   "source": []
  },
  {
   "cell_type": "code",
   "execution_count": 2,
   "id": "373482b5",
   "metadata": {},
   "outputs": [],
   "source": [
    "trained_model_path = '/workdir/security/home/junjiehuang2468/paper/trained_models_weight/ember/'\n",
    "best_trained_model = '2022-01-18 14:55/2w_epoch:13_test_acc:0.896058.pt'\n",
    "data_path = \"/workdir/security/home/junjiehuang2468/paper/data/ember2018/\"\n",
    "train_data_path = data_path + \"malwares/\" \n",
    "train_label_path = data_path + \"train_labels.csv\" "
   ]
  },
  {
   "cell_type": "code",
   "execution_count": 3,
   "id": "c05c1730",
   "metadata": {},
   "outputs": [],
   "source": [
    "CUDA = True if torch.cuda.is_available() else False\n",
    "NUM_WORKERS = 24\n",
    "BATCH_SIZE = 80\n",
    "LEAVE_BIT_NUMBER = 20000\n",
    "KERNEL_SIZE = 500"
   ]
  },
  {
   "cell_type": "code",
   "execution_count": 4,
   "id": "0274cb27",
   "metadata": {},
   "outputs": [],
   "source": [
    "LEAVE_BIT_NUMBER_DICT = {10000:'1w',20000:'2w'}"
   ]
  },
  {
   "cell_type": "code",
   "execution_count": 5,
   "id": "f0179094",
   "metadata": {},
   "outputs": [],
   "source": [
    "trainset = pd.read_csv(data_path + 'train_dataset.csv')\n",
    "validset = pd.read_csv(data_path + 'valid_dataset.csv')\n",
    "validset = validset.iloc[np.argwhere(validset['labels'].values == 1).squeeze(),:]"
   ]
  },
  {
   "cell_type": "code",
   "execution_count": 6,
   "id": "4fb0d918",
   "metadata": {},
   "outputs": [],
   "source": [
    "class ExeDataset(Dataset):\n",
    "    def __init__(self, malware_names, data_path, labels, leave_bit_num):\n",
    "        self.malware_names = malware_names\n",
    "        self.data_path = data_path\n",
    "        self.labels = labels\n",
    "        self.leave_bit_num = leave_bit_num\n",
    "\n",
    "    def __len__(self):\n",
    "        return len(self.malware_names)\n",
    "\n",
    "    def __getitem__(self, idx):\n",
    "        with open(self.data_path + self.malware_names[idx] + '.txt','rb') as fp:\n",
    "            data = [bit+1 for bit in fp.read()[:self.leave_bit_num]]\n",
    "            padding = [0]*(self.leave_bit_num-len(data))\n",
    "            data = data + padding\n",
    "\n",
    "        return np.array(data), np.array([self.labels[idx]])"
   ]
  },
  {
   "cell_type": "code",
   "execution_count": 7,
   "id": "0dff087d",
   "metadata": {},
   "outputs": [],
   "source": [
    "train_dataset = ExeDataset(\n",
    "    trainset[\"id\"].tolist(), \n",
    "    train_data_path, \n",
    "    trainset[\"labels\"].tolist(), \n",
    "    LEAVE_BIT_NUMBER\n",
    ")\n",
    "valid_dataset = ExeDataset(\n",
    "    validset[\"id\"].tolist(), \n",
    "    train_data_path, \n",
    "    validset[\"labels\"].tolist(), \n",
    "    LEAVE_BIT_NUMBER\n",
    ")"
   ]
  },
  {
   "cell_type": "code",
   "execution_count": 8,
   "id": "d7d4339f",
   "metadata": {},
   "outputs": [],
   "source": [
    "trainloader = DataLoader(\n",
    "    dataset = train_dataset,\n",
    "    batch_size = BATCH_SIZE,\n",
    "    shuffle = False,\n",
    "    num_workers = NUM_WORKERS,\n",
    "    pin_memory = True\n",
    ")\n",
    "validloader = DataLoader(\n",
    "    dataset = valid_dataset,\n",
    "    batch_size = BATCH_SIZE,\n",
    "    shuffle = False,\n",
    "    num_workers = NUM_WORKERS,\n",
    "    pin_memory = True\n",
    ")"
   ]
  },
  {
   "cell_type": "code",
   "execution_count": null,
   "id": "0e2614b5",
   "metadata": {},
   "outputs": [],
   "source": []
  },
  {
   "cell_type": "code",
   "execution_count": 9,
   "id": "7a4156ed",
   "metadata": {},
   "outputs": [],
   "source": [
    "def mp_func(i,inpu,te,gr):\n",
    "    cum_grad = 0\n",
    "    for j,(inp,g,t) in enumerate(zip(inpu,gr,te)):\n",
    "        if inp != 0: continue\n",
    "        max_idx = np.argmin(g).tolist()\n",
    "        org_max_idx = np.argmax(t).tolist()\n",
    "        cum_grad += np.mean(g)\n",
    "        if g[max_idx] > 0: continue\n",
    "        te[j][org_max_idx] = 0\n",
    "        te[j][max_idx] = 1\n",
    "    return [i,te,cum_grad]"
   ]
  },
  {
   "cell_type": "code",
   "execution_count": 10,
   "id": "98cea29a",
   "metadata": {},
   "outputs": [],
   "source": [
    "class Model(nn.Module):\n",
    "    def __init__(self, data_length = 2e6, kernel_size = 500):\n",
    "        super().__init__()\n",
    "        self.embedding = nn.Embedding(257, 8, padding_idx=0)\n",
    "        self.conv_layer_1 = nn.Conv1d(4, 128, kernel_size, stride = kernel_size, bias = True)\n",
    "        # self.bn_1 = nn.BatchNorm1d(128)\n",
    "        self.conv_layer_2 = nn.Conv1d(4, 128, kernel_size, stride = kernel_size, bias = True)\n",
    "        self.pool_layer_2 = nn.MaxPool1d(data_length//kernel_size)\n",
    "        self.fc_layer_3 = nn.Linear(128, 128)\n",
    "        self.fc_layer_4 = nn.Linear(128, 2)\n",
    "\n",
    "    def forward(self, input_, loss_fn):\n",
    "        one_hot_x = F.one_hot(input_,num_classes=257).float()\n",
    "        one_hot_x.requires_grad = True\n",
    "        one_hot_x.retain_grad()\n",
    "        batch_acc = []\n",
    "        batch_grad = []\n",
    "        for _ in range(9):\n",
    "            x = one_hot_x @ self.embedding.weight\n",
    "            x = torch.transpose(x, -1, -2)\n",
    "\n",
    "            x_conv_1 = self.conv_layer_1(x[:,:4,:])\n",
    "            x_conv_2 = torch.sigmoid(self.conv_layer_2(x[:,4:,:]))\n",
    "\n",
    "            x = x_conv_1*x_conv_2\n",
    "            del x_conv_1,x_conv_2\n",
    "            x = self.pool_layer_2(x).squeeze()\n",
    "            \n",
    "            x = self.fc_layer_3(x)\n",
    "            x = self.fc_layer_4(x)\n",
    "            \n",
    "            acc = torch.argmax(torch.softmax(x,dim=-1),dim=-1).float().mean()\n",
    "            batch_acc.append(acc.tolist())\n",
    "            \n",
    "            mislead_labels = torch.cat((torch.ones(len(x)).reshape(-1,1),torch.zeros(len(x)).reshape(-1,1)),dim=1).cuda()\n",
    "            loss = loss_fn(x,mislead_labels)\n",
    "            loss.backward()\n",
    "            \n",
    "            padding_place_mask = (input_ == 0)\n",
    "            shape = padding_place_mask.shape\n",
    "            expand_padding_place_mask = padding_place_mask.unsqueeze(-1).expand(shape[0],shape[1],257)\n",
    "            grad_min_idx = torch.argmin(one_hot_x.grad,dim=-1)\n",
    "            grad_sez_mask = (one_hot_x.grad <= 0)\n",
    "            grad_mask = (expand_padding_place_mask & grad_sez_mask)\n",
    "            batch_grad.append(torch.div(\n",
    "                input=(grad_mask.float()*one_hot_x.grad).sum(),\n",
    "                other=grad_mask.float().sum()\n",
    "            ).detach().cpu().numpy())\n",
    "            new_x = torch.argmin(grad_mask.float()*one_hot_x.grad,dim=-1)\n",
    "            grad_all_gz_mask = grad_sez_mask.sum(dim=-1) == 257\n",
    "            mask = ((~grad_all_gz_mask) & padding_place_mask)\n",
    "            temp = (1 - mask.float())*input_ + mask.float()*new_x\n",
    "            one_hot_x.data = F.one_hot(temp.long(),num_classes=257).float()\n",
    "            \n",
    "            # one_hot_x.grad.zero\n",
    "            \n",
    "        x = one_hot_x @ self.embedding.weight\n",
    "        x = torch.transpose(x, -1, -2)\n",
    "\n",
    "        x_conv_1 = self.conv_layer_1(x[:,:4,:])\n",
    "        x_conv_2 = torch.sigmoid(self.conv_layer_2(x[:,4:,:]))\n",
    "\n",
    "        x = x_conv_1*x_conv_2\n",
    "        del x_conv_1,x_conv_2\n",
    "        x = self.pool_layer_2(x).squeeze()\n",
    "\n",
    "        x = self.fc_layer_3(x)\n",
    "        x = self.fc_layer_4(x)\n",
    "        return x.detach().cpu().numpy(),batch_acc,batch_grad"
   ]
  },
  {
   "cell_type": "code",
   "execution_count": 11,
   "id": "0038f580",
   "metadata": {},
   "outputs": [],
   "source": [
    "model = Model(data_length=LEAVE_BIT_NUMBER,kernel_size=KERNEL_SIZE)\n",
    "\n",
    "ce_loss = nn.CrossEntropyLoss()\n",
    "optim = Adam(model.parameters())\n",
    "\n",
    "model = model.cuda() if CUDA else model\n",
    "ce_loss = ce_loss.cuda() if CUDA else ce_less"
   ]
  },
  {
   "cell_type": "code",
   "execution_count": 12,
   "id": "f674591a",
   "metadata": {},
   "outputs": [
    {
     "data": {
      "text/plain": [
       "<All keys matched successfully>"
      ]
     },
     "execution_count": 12,
     "metadata": {},
     "output_type": "execute_result"
    }
   ],
   "source": [
    "model.load_state_dict(torch.load(trained_model_path + best_trained_model))"
   ]
  },
  {
   "cell_type": "code",
   "execution_count": null,
   "id": "3af65e02",
   "metadata": {},
   "outputs": [
    {
     "name": "stderr",
     "output_type": "stream",
     "text": [
      "  0%|          | 1/750 [00:03<46:10,  3.70s/it]"
     ]
    },
    {
     "name": "stdout",
     "output_type": "stream",
     "text": [
      "[0.8750000 0.0875000 0.0625000 0.0375000 0.0375000 0.0375000 0.0375000 0.0375000 0.0375000 0.0375000]\n",
      "[0.0000000 -0.0000153 -0.0000193 -0.0000208 -0.0000209 -0.0000210 -0.0000210 -0.0000211 -0.0000212 -0.0000213]\n",
      "test：0.037500, test mean: 0.037500\n"
     ]
    },
    {
     "name": "stderr",
     "output_type": "stream",
     "text": [
      "\r",
      "  0%|          | 2/750 [00:04<27:22,  2.20s/it]"
     ]
    },
    {
     "name": "stdout",
     "output_type": "stream",
     "text": [
      "[0.8687500 0.1187500 0.0625000 0.0500000 0.0437500 0.0437500 0.0375000 0.0375000 0.0375000 0.0375000]\n",
      "[0.0000000 -0.0000145 -0.0000184 -0.0000194 -0.0000195 -0.0000196 -0.0000197 -0.0000198 -0.0000199 -0.0000200]\n",
      "test：0.037500, test mean: 0.037500\n"
     ]
    },
    {
     "name": "stderr",
     "output_type": "stream",
     "text": [
      "\r",
      "  0%|          | 3/750 [00:05<21:13,  1.70s/it]"
     ]
    },
    {
     "name": "stdout",
     "output_type": "stream",
     "text": [
      "[0.8625000 0.1166667 0.0541667 0.0416667 0.0375000 0.0375000 0.0333333 0.0333333 0.0333333 0.0333333]\n",
      "[0.0000000 -0.0000151 -0.0000183 -0.0000196 -0.0000197 -0.0000198 -0.0000198 -0.0000199 -0.0000200 -0.0000201]\n",
      "test：0.025000, test mean: 0.033333\n"
     ]
    },
    {
     "name": "stderr",
     "output_type": "stream",
     "text": [
      "\r",
      "  1%|          | 4/750 [00:06<17:47,  1.43s/it]"
     ]
    },
    {
     "name": "stdout",
     "output_type": "stream",
     "text": [
      "[0.8562500 0.1281250 0.0593750 0.0500000 0.0468750 0.0468750 0.0437500 0.0437500 0.0406250 0.0406250]\n",
      "[0.0000000 -0.0000152 -0.0000184 -0.0000194 -0.0000195 -0.0000195 -0.0000196 -0.0000197 -0.0000197 -0.0000198]\n",
      "test：0.062500, test mean: 0.040625\n"
     ]
    },
    {
     "name": "stderr",
     "output_type": "stream",
     "text": [
      "\r",
      "  1%|          | 5/750 [00:07<15:52,  1.28s/it]"
     ]
    },
    {
     "name": "stdout",
     "output_type": "stream",
     "text": [
      "[0.8500000 0.1575000 0.0675000 0.0550000 0.0525000 0.0525000 0.0500000 0.0500000 0.0475000 0.0475000]\n",
      "[0.0000000 -0.0000150 -0.0000186 -0.0000195 -0.0000195 -0.0000196 -0.0000197 -0.0000198 -0.0000198 -0.0000199]\n",
      "test：0.075000, test mean: 0.047500\n"
     ]
    },
    {
     "name": "stderr",
     "output_type": "stream",
     "text": [
      "\r",
      "  1%|          | 6/750 [00:08<14:44,  1.19s/it]"
     ]
    },
    {
     "name": "stdout",
     "output_type": "stream",
     "text": [
      "[0.8541667 0.1583333 0.0770833 0.0645833 0.0604167 0.0583333 0.0562500 0.0562500 0.0541667 0.0541667]\n",
      "[0.0000000 -0.0000149 -0.0000185 -0.0000192 -0.0000193 -0.0000194 -0.0000195 -0.0000195 -0.0000196 -0.0000197]\n",
      "test：0.087500, test mean: 0.054167\n"
     ]
    },
    {
     "name": "stderr",
     "output_type": "stream",
     "text": [
      "\r",
      "  1%|          | 7/750 [00:10<14:00,  1.13s/it]"
     ]
    },
    {
     "name": "stdout",
     "output_type": "stream",
     "text": [
      "[0.8589286 0.1517857 0.0767857 0.0642857 0.0607143 0.0589286 0.0571429 0.0571429 0.0553571 0.0553571]\n",
      "[0.0000000 -0.0000151 -0.0000182 -0.0000188 -0.0000189 -0.0000190 -0.0000191 -0.0000191 -0.0000192 -0.0000193]\n",
      "test：0.062500, test mean: 0.055357\n"
     ]
    },
    {
     "name": "stderr",
     "output_type": "stream",
     "text": [
      "\r",
      "  1%|          | 8/750 [00:11<13:30,  1.09s/it]"
     ]
    },
    {
     "name": "stdout",
     "output_type": "stream",
     "text": [
      "[0.8687500 0.1562500 0.0812500 0.0687500 0.0640625 0.0625000 0.0609375 0.0609375 0.0593750 0.0593750]\n",
      "[0.0000000 -0.0000154 -0.0000184 -0.0000189 -0.0000190 -0.0000191 -0.0000192 -0.0000193 -0.0000193 -0.0000194]\n",
      "test：0.087500, test mean: 0.059375\n"
     ]
    },
    {
     "name": "stderr",
     "output_type": "stream",
     "text": [
      "\r",
      "  1%|          | 9/750 [00:12<13:10,  1.07s/it]"
     ]
    },
    {
     "name": "stdout",
     "output_type": "stream",
     "text": [
      "[0.8722222 0.1638889 0.0875000 0.0736111 0.0694444 0.0680556 0.0666667 0.0666667 0.0652778 0.0652778]\n",
      "[0.0000000 -0.0000152 -0.0000183 -0.0000190 -0.0000191 -0.0000192 -0.0000193 -0.0000193 -0.0000194 -0.0000195]\n",
      "test：0.112500, test mean: 0.065278\n"
     ]
    },
    {
     "name": "stderr",
     "output_type": "stream",
     "text": [
      "\r",
      "  1%|▏         | 10/750 [00:13<12:57,  1.05s/it]"
     ]
    },
    {
     "name": "stdout",
     "output_type": "stream",
     "text": [
      "[0.8750000 0.1675000 0.0925000 0.0787500 0.0750000 0.0737500 0.0712500 0.0712500 0.0700000 0.0700000]\n",
      "[0.0000000 -0.0000154 -0.0000182 -0.0000189 -0.0000190 -0.0000191 -0.0000191 -0.0000192 -0.0000193 -0.0000193]\n",
      "test：0.112500, test mean: 0.070000\n"
     ]
    },
    {
     "name": "stderr",
     "output_type": "stream",
     "text": [
      "\r",
      "  1%|▏         | 11/750 [00:14<12:47,  1.04s/it]"
     ]
    },
    {
     "name": "stdout",
     "output_type": "stream",
     "text": [
      "[0.8818182 0.1715909 0.0931818 0.0784091 0.0750000 0.0738636 0.0715909 0.0704545 0.0693182 0.0693182]\n",
      "[0.0000000 -0.0000153 -0.0000184 -0.0000191 -0.0000192 -0.0000193 -0.0000193 -0.0000194 -0.0000195 -0.0000195]\n",
      "test：0.062500, test mean: 0.069318\n"
     ]
    },
    {
     "name": "stderr",
     "output_type": "stream",
     "text": [
      "\r",
      "  2%|▏         | 12/750 [00:15<12:40,  1.03s/it]"
     ]
    },
    {
     "name": "stdout",
     "output_type": "stream",
     "text": [
      "[0.8812500 0.1729167 0.0916667 0.0770833 0.0729167 0.0718750 0.0697917 0.0687500 0.0677083 0.0677083]\n",
      "[0.0000000 -0.0000154 -0.0000185 -0.0000192 -0.0000193 -0.0000194 -0.0000194 -0.0000195 -0.0000196 -0.0000196]\n",
      "test：0.050000, test mean: 0.067708\n"
     ]
    },
    {
     "name": "stderr",
     "output_type": "stream",
     "text": [
      "\r",
      "  2%|▏         | 13/750 [00:16<12:34,  1.02s/it]"
     ]
    },
    {
     "name": "stdout",
     "output_type": "stream",
     "text": [
      "[0.8855769 0.1721154 0.0913462 0.0759615 0.0721154 0.0711538 0.0682692 0.0673077 0.0663462 0.0663462]\n",
      "[0.0000000 -0.0000155 -0.0000186 -0.0000193 -0.0000194 -0.0000195 -0.0000195 -0.0000196 -0.0000197 -0.0000197]\n",
      "test：0.050000, test mean: 0.066346\n"
     ]
    },
    {
     "name": "stderr",
     "output_type": "stream",
     "text": [
      "\r",
      "  2%|▏         | 14/750 [00:17<12:30,  1.02s/it]"
     ]
    },
    {
     "name": "stdout",
     "output_type": "stream",
     "text": [
      "[0.8892857 0.1741071 0.0955357 0.0794643 0.0758929 0.0750000 0.0723214 0.0705357 0.0696429 0.0696429]\n",
      "[0.0000000 -0.0000154 -0.0000186 -0.0000193 -0.0000194 -0.0000194 -0.0000195 -0.0000196 -0.0000197 -0.0000197]\n",
      "test：0.112500, test mean: 0.069643\n"
     ]
    },
    {
     "name": "stderr",
     "output_type": "stream",
     "text": [
      "\r",
      "  2%|▏         | 15/750 [00:18<12:27,  1.02s/it]"
     ]
    },
    {
     "name": "stdout",
     "output_type": "stream",
     "text": [
      "[0.8858333 0.1666667 0.0916667 0.0766667 0.0716667 0.0708333 0.0683333 0.0666667 0.0658333 0.0658333]\n",
      "[0.0000000 -0.0000155 -0.0000185 -0.0000192 -0.0000193 -0.0000194 -0.0000194 -0.0000195 -0.0000196 -0.0000196]\n",
      "test：0.012500, test mean: 0.065833\n"
     ]
    },
    {
     "name": "stderr",
     "output_type": "stream",
     "text": [
      "\r",
      "  2%|▏         | 16/750 [00:19<12:25,  1.02s/it]"
     ]
    },
    {
     "name": "stdout",
     "output_type": "stream",
     "text": [
      "[0.8906250 0.1656250 0.0921875 0.0773438 0.0726563 0.0718750 0.0687500 0.0671875 0.0664063 0.0664063]\n",
      "[0.0000000 -0.0000156 -0.0000186 -0.0000193 -0.0000194 -0.0000195 -0.0000196 -0.0000196 -0.0000197 -0.0000198]\n",
      "test：0.075000, test mean: 0.066406\n"
     ]
    },
    {
     "name": "stderr",
     "output_type": "stream",
     "text": [
      "\r",
      "  2%|▏         | 17/750 [00:20<12:23,  1.01s/it]"
     ]
    },
    {
     "name": "stdout",
     "output_type": "stream",
     "text": [
      "[0.8911765 0.1625000 0.0919118 0.0764706 0.0720588 0.0713235 0.0683824 0.0669118 0.0661765 0.0661765]\n",
      "[0.0000000 -0.0000156 -0.0000186 -0.0000193 -0.0000194 -0.0000195 -0.0000195 -0.0000196 -0.0000197 -0.0000198]\n",
      "test：0.062500, test mean: 0.066176\n"
     ]
    },
    {
     "name": "stderr",
     "output_type": "stream",
     "text": [
      "\r",
      "  2%|▏         | 18/750 [00:21<12:21,  1.01s/it]"
     ]
    },
    {
     "name": "stdout",
     "output_type": "stream",
     "text": [
      "[0.8916667 0.1659722 0.0937500 0.0784722 0.0743056 0.0736111 0.0701389 0.0680556 0.0673611 0.0680556]\n",
      "[0.0000000 -0.0000156 -0.0000187 -0.0000194 -0.0000195 -0.0000196 -0.0000197 -0.0000197 -0.0000198 -0.0000199]\n",
      "test：0.100000, test mean: 0.068056\n"
     ]
    },
    {
     "name": "stderr",
     "output_type": "stream",
     "text": [
      "\r",
      "  3%|▎         | 19/750 [00:22<12:19,  1.01s/it]"
     ]
    },
    {
     "name": "stdout",
     "output_type": "stream",
     "text": [
      "[0.8934211 0.1611842 0.0888158 0.0743421 0.0703947 0.0697368 0.0664474 0.0644737 0.0638158 0.0644737]\n",
      "[0.0000000 -0.0000158 -0.0000188 -0.0000194 -0.0000195 -0.0000196 -0.0000197 -0.0000198 -0.0000198 -0.0000199]\n",
      "test：0.000000, test mean: 0.064474\n"
     ]
    },
    {
     "name": "stderr",
     "output_type": "stream",
     "text": [
      "\r",
      "  3%|▎         | 20/750 [00:23<12:17,  1.01s/it]"
     ]
    },
    {
     "name": "stdout",
     "output_type": "stream",
     "text": [
      "[0.8931250 0.1581250 0.0881250 0.0725000 0.0687500 0.0681250 0.0650000 0.0631250 0.0625000 0.0631250]\n",
      "[0.0000000 -0.0000157 -0.0000186 -0.0000193 -0.0000194 -0.0000195 -0.0000196 -0.0000196 -0.0000197 -0.0000198]\n",
      "test：0.037500, test mean: 0.063125\n"
     ]
    },
    {
     "name": "stderr",
     "output_type": "stream",
     "text": [
      "\r",
      "  3%|▎         | 21/750 [00:24<12:18,  1.01s/it]"
     ]
    },
    {
     "name": "stdout",
     "output_type": "stream",
     "text": [
      "[0.8934524 0.1583333 0.0886905 0.0720238 0.0684524 0.0678571 0.0648810 0.0630952 0.0625000 0.0630952]\n",
      "[0.0000000 -0.0000157 -0.0000185 -0.0000192 -0.0000193 -0.0000194 -0.0000194 -0.0000195 -0.0000196 -0.0000196]\n",
      "test：0.062500, test mean: 0.063095\n"
     ]
    },
    {
     "name": "stderr",
     "output_type": "stream",
     "text": [
      "\r",
      "  3%|▎         | 22/750 [00:25<12:17,  1.01s/it]"
     ]
    },
    {
     "name": "stdout",
     "output_type": "stream",
     "text": [
      "[0.8937500 0.1613636 0.0920455 0.0755682 0.0721591 0.0715909 0.0687500 0.0670455 0.0664773 0.0670455]\n",
      "[0.0000000 -0.0000156 -0.0000185 -0.0000191 -0.0000192 -0.0000193 -0.0000194 -0.0000195 -0.0000195 -0.0000196]\n",
      "test：0.150000, test mean: 0.067045\n"
     ]
    },
    {
     "name": "stderr",
     "output_type": "stream",
     "text": [
      "\r",
      "  3%|▎         | 23/750 [00:26<12:15,  1.01s/it]"
     ]
    },
    {
     "name": "stdout",
     "output_type": "stream",
     "text": [
      "[0.8940218 0.1614130 0.0929348 0.0750000 0.0711957 0.0706522 0.0679348 0.0663043 0.0657609 0.0663043]\n",
      "[0.0000000 -0.0000156 -0.0000186 -0.0000193 -0.0000194 -0.0000195 -0.0000195 -0.0000196 -0.0000197 -0.0000197]\n",
      "test：0.050000, test mean: 0.066304\n"
     ]
    },
    {
     "name": "stderr",
     "output_type": "stream",
     "text": [
      "\r",
      "  3%|▎         | 24/750 [00:27<12:14,  1.01s/it]"
     ]
    },
    {
     "name": "stdout",
     "output_type": "stream",
     "text": [
      "[0.8947917 0.1614583 0.0927083 0.0750000 0.0713542 0.0708333 0.0682292 0.0666667 0.0661458 0.0666667]\n",
      "[0.0000000 -0.0000157 -0.0000186 -0.0000193 -0.0000194 -0.0000195 -0.0000195 -0.0000196 -0.0000197 -0.0000197]\n",
      "test：0.075000, test mean: 0.066667\n"
     ]
    },
    {
     "name": "stderr",
     "output_type": "stream",
     "text": [
      "\r",
      "  3%|▎         | 25/750 [00:28<12:13,  1.01s/it]"
     ]
    },
    {
     "name": "stdout",
     "output_type": "stream",
     "text": [
      "[0.8930000 0.1625000 0.0935000 0.0750000 0.0715000 0.0705000 0.0680000 0.0665000 0.0660000 0.0665000]\n",
      "[0.0000000 -0.0000156 -0.0000186 -0.0000193 -0.0000194 -0.0000195 -0.0000196 -0.0000196 -0.0000197 -0.0000198]\n",
      "test：0.062500, test mean: 0.066500\n"
     ]
    },
    {
     "name": "stderr",
     "output_type": "stream",
     "text": [
      "\r",
      "  3%|▎         | 26/750 [00:29<12:13,  1.01s/it]"
     ]
    },
    {
     "name": "stdout",
     "output_type": "stream",
     "text": [
      "[0.8932692 0.1644231 0.0937500 0.0759615 0.0721154 0.0711538 0.0687500 0.0673077 0.0668269 0.0673077]\n",
      "[0.0000000 -0.0000156 -0.0000186 -0.0000193 -0.0000194 -0.0000195 -0.0000196 -0.0000196 -0.0000197 -0.0000198]\n",
      "test：0.087500, test mean: 0.067308\n"
     ]
    },
    {
     "name": "stderr",
     "output_type": "stream",
     "text": [
      "\r",
      "  4%|▎         | 27/750 [00:30<12:13,  1.01s/it]"
     ]
    },
    {
     "name": "stdout",
     "output_type": "stream",
     "text": [
      "[0.8916667 0.1666667 0.0962963 0.0777778 0.0740741 0.0731481 0.0703704 0.0689815 0.0685185 0.0689815]\n",
      "[0.0000000 -0.0000156 -0.0000185 -0.0000192 -0.0000193 -0.0000194 -0.0000195 -0.0000195 -0.0000196 -0.0000197]\n",
      "test：0.112500, test mean: 0.068981\n"
     ]
    },
    {
     "name": "stderr",
     "output_type": "stream",
     "text": [
      "\r",
      "  4%|▎         | 28/750 [00:31<12:12,  1.01s/it]"
     ]
    },
    {
     "name": "stdout",
     "output_type": "stream",
     "text": [
      "[0.8910714 0.1687500 0.0982143 0.0794643 0.0758929 0.0750000 0.0723214 0.0709821 0.0705357 0.0705357]\n",
      "[0.0000000 -0.0000156 -0.0000185 -0.0000191 -0.0000192 -0.0000193 -0.0000194 -0.0000195 -0.0000195 -0.0000196]\n",
      "test：0.112500, test mean: 0.070536\n"
     ]
    },
    {
     "name": "stderr",
     "output_type": "stream",
     "text": [
      "\r",
      "  4%|▍         | 29/750 [00:32<12:12,  1.02s/it]"
     ]
    },
    {
     "name": "stdout",
     "output_type": "stream",
     "text": [
      "[0.8905173 0.1676724 0.0978448 0.0797414 0.0762931 0.0754310 0.0728448 0.0715517 0.0711207 0.0711207]\n",
      "[0.0000000 -0.0000156 -0.0000184 -0.0000190 -0.0000191 -0.0000192 -0.0000193 -0.0000194 -0.0000194 -0.0000195]\n",
      "test：0.087500, test mean: 0.071121\n"
     ]
    },
    {
     "name": "stderr",
     "output_type": "stream",
     "text": [
      "\r",
      "  4%|▍         | 30/750 [00:33<12:10,  1.01s/it]"
     ]
    },
    {
     "name": "stdout",
     "output_type": "stream",
     "text": [
      "[0.8912500 0.1683333 0.0987500 0.0800000 0.0766667 0.0758333 0.0729167 0.0716667 0.0712500 0.0712500]\n",
      "[0.0000000 -0.0000156 -0.0000184 -0.0000191 -0.0000192 -0.0000192 -0.0000193 -0.0000194 -0.0000195 -0.0000195]\n",
      "test：0.075000, test mean: 0.071250\n"
     ]
    },
    {
     "name": "stderr",
     "output_type": "stream",
     "text": [
      "\r",
      "  4%|▍         | 31/750 [00:34<12:07,  1.01s/it]"
     ]
    },
    {
     "name": "stdout",
     "output_type": "stream",
     "text": [
      "[0.8911290 0.1677419 0.0975806 0.0794355 0.0762097 0.0754032 0.0725806 0.0713710 0.0709677 0.0709677]\n",
      "[0.0000000 -0.0000156 -0.0000183 -0.0000190 -0.0000191 -0.0000191 -0.0000192 -0.0000193 -0.0000194 -0.0000194]\n",
      "test：0.062500, test mean: 0.070968\n"
     ]
    },
    {
     "name": "stderr",
     "output_type": "stream",
     "text": [
      "\r",
      "  4%|▍         | 32/750 [00:35<12:05,  1.01s/it]"
     ]
    },
    {
     "name": "stdout",
     "output_type": "stream",
     "text": [
      "[0.8917969 0.1660156 0.0964844 0.0789063 0.0757813 0.0750000 0.0722656 0.0707031 0.0703125 0.0703125]\n",
      "[0.0000000 -0.0000155 -0.0000182 -0.0000189 -0.0000190 -0.0000191 -0.0000192 -0.0000192 -0.0000193 -0.0000194]\n",
      "test：0.050000, test mean: 0.070312\n"
     ]
    },
    {
     "name": "stderr",
     "output_type": "stream",
     "text": [
      "\r",
      "  4%|▍         | 33/750 [00:36<12:05,  1.01s/it]"
     ]
    },
    {
     "name": "stdout",
     "output_type": "stream",
     "text": [
      "[0.8909091 0.1674242 0.0969697 0.0791667 0.0761364 0.0753788 0.0727273 0.0712121 0.0708333 0.0708333]\n",
      "[0.0000000 -0.0000155 -0.0000184 -0.0000190 -0.0000191 -0.0000192 -0.0000193 -0.0000194 -0.0000195 -0.0000195]\n",
      "test：0.087500, test mean: 0.070833\n"
     ]
    },
    {
     "name": "stderr",
     "output_type": "stream",
     "text": [
      "\r",
      "  5%|▍         | 34/750 [00:37<12:05,  1.01s/it]"
     ]
    },
    {
     "name": "stdout",
     "output_type": "stream",
     "text": [
      "[0.8908088 0.1705882 0.0977941 0.0805147 0.0775735 0.0768382 0.0742647 0.0724265 0.0720588 0.0720588]\n",
      "[0.0000000 -0.0000155 -0.0000184 -0.0000190 -0.0000191 -0.0000192 -0.0000193 -0.0000193 -0.0000194 -0.0000195]\n",
      "test：0.112500, test mean: 0.072059\n"
     ]
    },
    {
     "name": "stderr",
     "output_type": "stream",
     "text": [
      "\r",
      "  5%|▍         | 35/750 [00:38<12:04,  1.01s/it]"
     ]
    },
    {
     "name": "stdout",
     "output_type": "stream",
     "text": [
      "[0.8907143 0.1714286 0.0985714 0.0810714 0.0782143 0.0775000 0.0746429 0.0728571 0.0725000 0.0725000]\n",
      "[0.0000000 -0.0000155 -0.0000183 -0.0000190 -0.0000191 -0.0000191 -0.0000192 -0.0000193 -0.0000194 -0.0000195]\n",
      "test：0.087500, test mean: 0.072500\n"
     ]
    },
    {
     "name": "stderr",
     "output_type": "stream",
     "text": [
      "\r",
      "  5%|▍         | 36/750 [00:39<12:03,  1.01s/it]"
     ]
    },
    {
     "name": "stdout",
     "output_type": "stream",
     "text": [
      "[0.8906250 0.1722222 0.0986111 0.0809028 0.0777778 0.0770833 0.0743056 0.0722222 0.0718750 0.0718750]\n",
      "[0.0000000 -0.0000155 -0.0000184 -0.0000190 -0.0000191 -0.0000192 -0.0000193 -0.0000194 -0.0000194 -0.0000195]\n",
      "test：0.050000, test mean: 0.071875\n"
     ]
    },
    {
     "name": "stderr",
     "output_type": "stream",
     "text": [
      "\r",
      "  5%|▍         | 37/750 [00:40<12:02,  1.01s/it]"
     ]
    },
    {
     "name": "stdout",
     "output_type": "stream",
     "text": [
      "[0.8902027 0.1709460 0.0972973 0.0797297 0.0766892 0.0760135 0.0733108 0.0712838 0.0709459 0.0709459]\n",
      "[0.0000000 -0.0000155 -0.0000184 -0.0000191 -0.0000192 -0.0000193 -0.0000193 -0.0000194 -0.0000195 -0.0000196]\n",
      "test：0.037500, test mean: 0.070946\n"
     ]
    },
    {
     "name": "stderr",
     "output_type": "stream",
     "text": [
      "\r",
      "  5%|▌         | 38/750 [00:41<12:01,  1.01s/it]"
     ]
    },
    {
     "name": "stdout",
     "output_type": "stream",
     "text": [
      "[0.8898026 0.1713816 0.0983553 0.0809211 0.0779605 0.0773026 0.0740132 0.0720395 0.0717105 0.0713816]\n",
      "[0.0000000 -0.0000155 -0.0000185 -0.0000191 -0.0000193 -0.0000193 -0.0000194 -0.0000195 -0.0000196 -0.0000197]\n",
      "test：0.087500, test mean: 0.071382\n"
     ]
    },
    {
     "name": "stderr",
     "output_type": "stream",
     "text": [
      "\r",
      "  5%|▌         | 39/750 [00:42<12:00,  1.01s/it]"
     ]
    },
    {
     "name": "stdout",
     "output_type": "stream",
     "text": [
      "[0.8907051 0.1717949 0.0993590 0.0823718 0.0788462 0.0778846 0.0743590 0.0724359 0.0721154 0.0714744]\n",
      "[0.0000000 -0.0000155 -0.0000185 -0.0000192 -0.0000193 -0.0000194 -0.0000195 -0.0000196 -0.0000196 -0.0000197]\n",
      "test：0.075000, test mean: 0.071474\n"
     ]
    },
    {
     "name": "stderr",
     "output_type": "stream",
     "text": [
      "\r",
      "  5%|▌         | 40/750 [00:43<12:00,  1.02s/it]"
     ]
    },
    {
     "name": "stdout",
     "output_type": "stream",
     "text": [
      "[0.8896875 0.1709375 0.0990625 0.0818750 0.0784375 0.0775000 0.0740625 0.0721875 0.0718750 0.0712500]\n",
      "[0.0000000 -0.0000155 -0.0000185 -0.0000192 -0.0000193 -0.0000194 -0.0000195 -0.0000195 -0.0000196 -0.0000197]\n",
      "test：0.062500, test mean: 0.071250\n"
     ]
    },
    {
     "name": "stderr",
     "output_type": "stream",
     "text": [
      "\r",
      "  5%|▌         | 41/750 [00:44<11:59,  1.01s/it]"
     ]
    },
    {
     "name": "stdout",
     "output_type": "stream",
     "text": [
      "[0.8899390 0.1716463 0.1000000 0.0826220 0.0792683 0.0780488 0.0743902 0.0725610 0.0722561 0.0716463]\n",
      "[0.0000000 -0.0000155 -0.0000186 -0.0000192 -0.0000193 -0.0000194 -0.0000195 -0.0000196 -0.0000197 -0.0000197]\n",
      "test：0.087500, test mean: 0.071646\n"
     ]
    },
    {
     "name": "stderr",
     "output_type": "stream",
     "text": [
      "\r",
      "  6%|▌         | 42/750 [00:45<11:57,  1.01s/it]"
     ]
    },
    {
     "name": "stdout",
     "output_type": "stream",
     "text": [
      "[0.8907738 0.1720238 0.0991071 0.0818452 0.0785714 0.0773810 0.0738095 0.0720238 0.0717262 0.0711310]\n",
      "[0.0000000 -0.0000155 -0.0000187 -0.0000193 -0.0000194 -0.0000195 -0.0000196 -0.0000197 -0.0000198 -0.0000199]\n",
      "test：0.050000, test mean: 0.071131\n"
     ]
    },
    {
     "name": "stderr",
     "output_type": "stream",
     "text": [
      "\r",
      "  6%|▌         | 43/750 [00:46<11:57,  1.01s/it]"
     ]
    },
    {
     "name": "stdout",
     "output_type": "stream",
     "text": [
      "[0.8909884 0.1712209 0.0994186 0.0822674 0.0790698 0.0779070 0.0744186 0.0726744 0.0723837 0.0718023]\n",
      "[0.0000000 -0.0000155 -0.0000186 -0.0000193 -0.0000194 -0.0000195 -0.0000196 -0.0000197 -0.0000197 -0.0000198]\n",
      "test：0.100000, test mean: 0.071802\n"
     ]
    },
    {
     "name": "stderr",
     "output_type": "stream",
     "text": [
      "\r",
      "  6%|▌         | 44/750 [00:47<11:56,  1.01s/it]"
     ]
    },
    {
     "name": "stdout",
     "output_type": "stream",
     "text": [
      "[0.8903409 0.1701705 0.0982955 0.0815341 0.0784091 0.0772727 0.0738636 0.0721591 0.0718750 0.0713068]\n",
      "[0.0000000 -0.0000156 -0.0000187 -0.0000193 -0.0000194 -0.0000195 -0.0000196 -0.0000197 -0.0000198 -0.0000198]\n",
      "test：0.050000, test mean: 0.071307\n"
     ]
    },
    {
     "name": "stderr",
     "output_type": "stream",
     "text": [
      "\r",
      "  6%|▌         | 45/750 [00:48<11:55,  1.02s/it]"
     ]
    },
    {
     "name": "stdout",
     "output_type": "stream",
     "text": [
      "[0.8894445 0.1697222 0.0972222 0.0805556 0.0775000 0.0763889 0.0730556 0.0713889 0.0711111 0.0705556]\n",
      "[0.0000000 -0.0000155 -0.0000186 -0.0000193 -0.0000194 -0.0000195 -0.0000196 -0.0000197 -0.0000197 -0.0000198]\n",
      "test：0.037500, test mean: 0.070556\n"
     ]
    },
    {
     "name": "stderr",
     "output_type": "stream",
     "text": [
      "\r",
      "  6%|▌         | 46/750 [00:49<11:54,  1.01s/it]"
     ]
    },
    {
     "name": "stdout",
     "output_type": "stream",
     "text": [
      "[0.8888587 0.1706522 0.0983696 0.0815217 0.0785326 0.0774457 0.0739130 0.0722826 0.0720109 0.0714674]\n",
      "[0.0000000 -0.0000155 -0.0000187 -0.0000193 -0.0000194 -0.0000195 -0.0000196 -0.0000197 -0.0000198 -0.0000198]\n",
      "test：0.112500, test mean: 0.071467\n"
     ]
    },
    {
     "name": "stderr",
     "output_type": "stream",
     "text": [
      "\r",
      "  6%|▋         | 47/750 [00:50<11:53,  1.01s/it]"
     ]
    },
    {
     "name": "stdout",
     "output_type": "stream",
     "text": [
      "[0.8898936 0.1704787 0.0989362 0.0813830 0.0784574 0.0773936 0.0739362 0.0723404 0.0720745 0.0715426]\n",
      "[0.0000000 -0.0000155 -0.0000186 -0.0000194 -0.0000195 -0.0000196 -0.0000197 -0.0000197 -0.0000198 -0.0000199]\n",
      "test：0.075000, test mean: 0.071543\n"
     ]
    },
    {
     "name": "stderr",
     "output_type": "stream",
     "text": [
      "\r",
      "  6%|▋         | 48/750 [00:51<11:52,  1.01s/it]"
     ]
    },
    {
     "name": "stdout",
     "output_type": "stream",
     "text": [
      "[0.8890625 0.1690104 0.0981771 0.0807292 0.0778646 0.0768229 0.0734375 0.0718750 0.0716146 0.0710937]\n",
      "[0.0000000 -0.0000155 -0.0000185 -0.0000193 -0.0000194 -0.0000195 -0.0000196 -0.0000196 -0.0000197 -0.0000198]\n",
      "test：0.050000, test mean: 0.071094\n"
     ]
    },
    {
     "name": "stderr",
     "output_type": "stream",
     "text": [
      "\r",
      "  7%|▋         | 49/750 [00:52<11:51,  1.02s/it]"
     ]
    },
    {
     "name": "stdout",
     "output_type": "stream",
     "text": [
      "[0.8895408 0.1686225 0.0982143 0.0798469 0.0770408 0.0760204 0.0727041 0.0709184 0.0706633 0.0701531]\n",
      "[0.0000000 -0.0000155 -0.0000185 -0.0000193 -0.0000195 -0.0000195 -0.0000196 -0.0000197 -0.0000198 -0.0000199]\n",
      "test：0.025000, test mean: 0.070153\n"
     ]
    },
    {
     "name": "stderr",
     "output_type": "stream",
     "text": [
      "\r",
      "  7%|▋         | 50/750 [00:53<11:50,  1.01s/it]"
     ]
    },
    {
     "name": "stdout",
     "output_type": "stream",
     "text": [
      "[0.8907500 0.1700000 0.0997500 0.0807500 0.0777500 0.0767500 0.0732500 0.0715000 0.0710000 0.0705000]\n",
      "[0.0000000 -0.0000155 -0.0000186 -0.0000194 -0.0000195 -0.0000196 -0.0000197 -0.0000197 -0.0000198 -0.0000199]\n",
      "test：0.087500, test mean: 0.070500\n"
     ]
    },
    {
     "name": "stderr",
     "output_type": "stream",
     "text": [
      "\r",
      "  7%|▋         | 51/750 [00:54<11:49,  1.01s/it]"
     ]
    },
    {
     "name": "stdout",
     "output_type": "stream",
     "text": [
      "[0.8897059 0.1708333 0.1000000 0.0808824 0.0779412 0.0769608 0.0735294 0.0718137 0.0713235 0.0708333]\n",
      "[0.0000000 -0.0000155 -0.0000185 -0.0000194 -0.0000195 -0.0000196 -0.0000197 -0.0000197 -0.0000198 -0.0000199]\n",
      "test：0.087500, test mean: 0.070833\n"
     ]
    },
    {
     "name": "stderr",
     "output_type": "stream",
     "text": [
      "\r",
      "  7%|▋         | 52/750 [00:55<11:47,  1.01s/it]"
     ]
    },
    {
     "name": "stdout",
     "output_type": "stream",
     "text": [
      "[0.8896635 0.1716346 0.1000000 0.0807692 0.0778846 0.0766827 0.0730769 0.0713942 0.0709135 0.0704327]\n",
      "[0.0000000 -0.0000155 -0.0000186 -0.0000194 -0.0000195 -0.0000196 -0.0000197 -0.0000198 -0.0000199 -0.0000199]\n",
      "test：0.050000, test mean: 0.070433\n"
     ]
    },
    {
     "name": "stderr",
     "output_type": "stream",
     "text": [
      "\r",
      "  7%|▋         | 53/750 [00:56<11:46,  1.01s/it]"
     ]
    },
    {
     "name": "stdout",
     "output_type": "stream",
     "text": [
      "[0.8884434 0.1728774 0.1021226 0.0825472 0.0794811 0.0780660 0.0745283 0.0728774 0.0724057 0.0719340]\n",
      "[0.0000000 -0.0000154 -0.0000185 -0.0000194 -0.0000195 -0.0000196 -0.0000197 -0.0000198 -0.0000198 -0.0000199]\n",
      "test：0.150000, test mean: 0.071934\n"
     ]
    },
    {
     "name": "stderr",
     "output_type": "stream",
     "text": [
      "\r",
      "  7%|▋         | 54/750 [00:57<11:45,  1.01s/it]"
     ]
    },
    {
     "name": "stdout",
     "output_type": "stream",
     "text": [
      "[0.8884259 0.1717593 0.1016204 0.0824074 0.0793981 0.0780093 0.0745370 0.0729167 0.0724537 0.0719907]\n",
      "[0.0000000 -0.0000154 -0.0000185 -0.0000193 -0.0000195 -0.0000196 -0.0000196 -0.0000197 -0.0000198 -0.0000199]\n",
      "test：0.075000, test mean: 0.071991\n"
     ]
    },
    {
     "name": "stderr",
     "output_type": "stream",
     "text": [
      "\r",
      "  7%|▋         | 55/750 [00:58<11:44,  1.01s/it]"
     ]
    },
    {
     "name": "stdout",
     "output_type": "stream",
     "text": [
      "[0.8881818 0.1720455 0.1018182 0.0822727 0.0793182 0.0779545 0.0745455 0.0729545 0.0725000 0.0720455]\n",
      "[0.0000000 -0.0000154 -0.0000185 -0.0000194 -0.0000195 -0.0000196 -0.0000197 -0.0000198 -0.0000198 -0.0000199]\n",
      "test：0.075000, test mean: 0.072045\n"
     ]
    },
    {
     "name": "stderr",
     "output_type": "stream",
     "text": [
      "\r",
      "  7%|▋         | 56/750 [00:59<11:44,  1.02s/it]"
     ]
    },
    {
     "name": "stdout",
     "output_type": "stream",
     "text": [
      "[0.8883929 0.1714286 0.1011161 0.0816964 0.0785714 0.0772321 0.0738839 0.0720982 0.0716518 0.0712054]\n",
      "[0.0000000 -0.0000154 -0.0000186 -0.0000194 -0.0000195 -0.0000196 -0.0000197 -0.0000198 -0.0000198 -0.0000199]\n",
      "test：0.025000, test mean: 0.071205\n"
     ]
    },
    {
     "name": "stderr",
     "output_type": "stream",
     "text": [
      "\r",
      "  8%|▊         | 57/750 [01:00<11:43,  1.02s/it]"
     ]
    },
    {
     "name": "stdout",
     "output_type": "stream",
     "text": [
      "[0.8877193 0.1699561 0.1006579 0.0815789 0.0782895 0.0769737 0.0736842 0.0719298 0.0714912 0.0710526]\n",
      "[0.0000000 -0.0000154 -0.0000185 -0.0000194 -0.0000195 -0.0000196 -0.0000196 -0.0000197 -0.0000198 -0.0000199]\n",
      "test：0.062500, test mean: 0.071053\n"
     ]
    },
    {
     "name": "stderr",
     "output_type": "stream",
     "text": [
      "\r",
      "  8%|▊         | 58/750 [01:01<11:42,  1.01s/it]"
     ]
    },
    {
     "name": "stdout",
     "output_type": "stream",
     "text": [
      "[0.8879310 0.1704741 0.1010776 0.0823276 0.0790948 0.0778017 0.0745690 0.0728448 0.0724138 0.0717672]\n",
      "[0.0000000 -0.0000154 -0.0000185 -0.0000193 -0.0000194 -0.0000195 -0.0000196 -0.0000197 -0.0000197 -0.0000198]\n",
      "test：0.112500, test mean: 0.071767\n"
     ]
    },
    {
     "name": "stderr",
     "output_type": "stream",
     "text": [
      "\r",
      "  8%|▊         | 59/750 [01:02<11:41,  1.01s/it]"
     ]
    },
    {
     "name": "stdout",
     "output_type": "stream",
     "text": [
      "[0.8877119 0.1690678 0.0995763 0.0809322 0.0777542 0.0764831 0.0733051 0.0716102 0.0711864 0.0705508]\n",
      "[0.0000000 -0.0000154 -0.0000185 -0.0000193 -0.0000194 -0.0000195 -0.0000196 -0.0000196 -0.0000197 -0.0000198]\n",
      "test：0.000000, test mean: 0.070551\n"
     ]
    },
    {
     "name": "stderr",
     "output_type": "stream",
     "text": [
      "\r",
      "  8%|▊         | 60/750 [01:03<11:39,  1.01s/it]"
     ]
    },
    {
     "name": "stdout",
     "output_type": "stream",
     "text": [
      "[0.8881250 0.1708333 0.1000000 0.0816667 0.0785417 0.0772917 0.0741667 0.0725000 0.0720833 0.0714583]\n",
      "[0.0000000 -0.0000153 -0.0000184 -0.0000193 -0.0000194 -0.0000195 -0.0000195 -0.0000196 -0.0000197 -0.0000198]\n",
      "test：0.125000, test mean: 0.071458\n"
     ]
    },
    {
     "name": "stderr",
     "output_type": "stream",
     "text": [
      "\r",
      "  8%|▊         | 61/750 [01:04<11:38,  1.01s/it]"
     ]
    },
    {
     "name": "stdout",
     "output_type": "stream",
     "text": [
      "[0.8879098 0.1686475 0.0985656 0.0805328 0.0774590 0.0762295 0.0731557 0.0715164 0.0711066 0.0704918]\n",
      "[0.0000000 -0.0000154 -0.0000184 -0.0000192 -0.0000193 -0.0000194 -0.0000195 -0.0000196 -0.0000197 -0.0000197]\n",
      "test：0.012500, test mean: 0.070492\n"
     ]
    },
    {
     "name": "stderr",
     "output_type": "stream",
     "text": [
      "\r",
      "  8%|▊         | 62/750 [01:05<11:37,  1.01s/it]"
     ]
    },
    {
     "name": "stdout",
     "output_type": "stream",
     "text": [
      "[0.8877016 0.1681452 0.0977823 0.0800403 0.0770161 0.0758065 0.0727823 0.0711694 0.0707661 0.0701613]\n",
      "[0.0000000 -0.0000154 -0.0000185 -0.0000192 -0.0000193 -0.0000194 -0.0000195 -0.0000196 -0.0000197 -0.0000197]\n",
      "test：0.050000, test mean: 0.070161\n"
     ]
    },
    {
     "name": "stderr",
     "output_type": "stream",
     "text": [
      "\r",
      "  8%|▊         | 63/750 [01:06<11:36,  1.01s/it]"
     ]
    },
    {
     "name": "stdout",
     "output_type": "stream",
     "text": [
      "[0.8876984 0.1664683 0.0964286 0.0787698 0.0757937 0.0746032 0.0716270 0.0700397 0.0696429 0.0690476]\n",
      "[0.0000000 -0.0000154 -0.0000185 -0.0000192 -0.0000194 -0.0000194 -0.0000195 -0.0000196 -0.0000197 -0.0000198]\n",
      "test：0.000000, test mean: 0.069048\n"
     ]
    },
    {
     "name": "stderr",
     "output_type": "stream",
     "text": [
      "\r",
      "  9%|▊         | 64/750 [01:07<11:35,  1.01s/it]"
     ]
    },
    {
     "name": "stdout",
     "output_type": "stream",
     "text": [
      "[0.8871094 0.1654297 0.0964844 0.0787109 0.0755859 0.0744141 0.0714844 0.0699219 0.0695313 0.0689453]\n",
      "[0.0000000 -0.0000154 -0.0000184 -0.0000192 -0.0000193 -0.0000194 -0.0000195 -0.0000196 -0.0000197 -0.0000197]\n",
      "test：0.062500, test mean: 0.068945\n"
     ]
    },
    {
     "name": "stderr",
     "output_type": "stream",
     "text": [
      "\r",
      "  9%|▊         | 65/750 [01:08<11:34,  1.01s/it]"
     ]
    },
    {
     "name": "stdout",
     "output_type": "stream",
     "text": [
      "[0.8871154 0.1663462 0.0965385 0.0790385 0.0753846 0.0742308 0.0713462 0.0698077 0.0694231 0.0688462]\n",
      "[0.0000000 -0.0000154 -0.0000184 -0.0000192 -0.0000193 -0.0000194 -0.0000195 -0.0000196 -0.0000196 -0.0000197]\n",
      "test：0.062500, test mean: 0.068846\n"
     ]
    },
    {
     "name": "stderr",
     "output_type": "stream",
     "text": [
      "\r",
      "  9%|▉         | 66/750 [01:09<11:33,  1.01s/it]"
     ]
    },
    {
     "name": "stdout",
     "output_type": "stream",
     "text": [
      "[0.8871212 0.1655303 0.0964015 0.0789773 0.0753788 0.0742424 0.0714015 0.0698864 0.0695076 0.0689394]\n",
      "[0.0000000 -0.0000154 -0.0000184 -0.0000192 -0.0000193 -0.0000194 -0.0000195 -0.0000195 -0.0000196 -0.0000197]\n",
      "test：0.075000, test mean: 0.068939\n"
     ]
    },
    {
     "name": "stderr",
     "output_type": "stream",
     "text": [
      "\r",
      "  9%|▉         | 67/750 [01:10<11:32,  1.01s/it]"
     ]
    },
    {
     "name": "stdout",
     "output_type": "stream",
     "text": [
      "[0.8871269 0.1664179 0.0972015 0.0791045 0.0755597 0.0742537 0.0714552 0.0699627 0.0695896 0.0690299]\n",
      "[0.0000000 -0.0000154 -0.0000184 -0.0000192 -0.0000193 -0.0000194 -0.0000194 -0.0000195 -0.0000196 -0.0000197]\n",
      "test：0.075000, test mean: 0.069030\n"
     ]
    },
    {
     "name": "stderr",
     "output_type": "stream",
     "text": [
      "\r",
      "  9%|▉         | 68/750 [01:11<11:31,  1.01s/it]"
     ]
    },
    {
     "name": "stdout",
     "output_type": "stream",
     "text": [
      "[0.8873162 0.1669118 0.0976103 0.0797794 0.0762868 0.0748162 0.0720588 0.0705882 0.0702206 0.0696691]\n",
      "[0.0000000 -0.0000154 -0.0000183 -0.0000191 -0.0000192 -0.0000193 -0.0000194 -0.0000195 -0.0000196 -0.0000196]\n",
      "test：0.112500, test mean: 0.069669\n"
     ]
    },
    {
     "name": "stderr",
     "output_type": "stream",
     "text": [
      "\r",
      "  9%|▉         | 69/750 [01:12<11:30,  1.01s/it]"
     ]
    },
    {
     "name": "stdout",
     "output_type": "stream",
     "text": [
      "[0.8871377 0.1670290 0.0974638 0.0797101 0.0760870 0.0746377 0.0719203 0.0704710 0.0701087 0.0695652]\n",
      "[0.0000000 -0.0000154 -0.0000184 -0.0000191 -0.0000193 -0.0000193 -0.0000194 -0.0000195 -0.0000196 -0.0000197]\n",
      "test：0.062500, test mean: 0.069565\n"
     ]
    },
    {
     "name": "stderr",
     "output_type": "stream",
     "text": [
      "\r",
      "  9%|▉         | 70/750 [01:13<11:30,  1.02s/it]"
     ]
    },
    {
     "name": "stdout",
     "output_type": "stream",
     "text": [
      "[0.8876786 0.1660714 0.0971429 0.0796429 0.0758929 0.0744643 0.0716071 0.0701786 0.0698214 0.0692857]\n",
      "[0.0000000 -0.0000154 -0.0000184 -0.0000191 -0.0000193 -0.0000193 -0.0000194 -0.0000195 -0.0000196 -0.0000196]\n",
      "test：0.050000, test mean: 0.069286\n"
     ]
    },
    {
     "name": "stderr",
     "output_type": "stream",
     "text": [
      "\r",
      "  9%|▉         | 71/750 [01:14<11:28,  1.01s/it]"
     ]
    },
    {
     "name": "stdout",
     "output_type": "stream",
     "text": [
      "[0.8871479 0.1660211 0.0971831 0.0792254 0.0755282 0.0741197 0.0713028 0.0697183 0.0693662 0.0688380]\n",
      "[0.0000000 -0.0000154 -0.0000183 -0.0000191 -0.0000192 -0.0000193 -0.0000194 -0.0000195 -0.0000195 -0.0000196]\n",
      "test：0.037500, test mean: 0.068838\n"
     ]
    },
    {
     "name": "stderr",
     "output_type": "stream",
     "text": [
      "\r",
      " 10%|▉         | 72/750 [01:15<11:27,  1.01s/it]"
     ]
    },
    {
     "name": "stdout",
     "output_type": "stream",
     "text": [
      "[0.8871528 0.1661458 0.0973958 0.0795139 0.0758681 0.0744792 0.0717014 0.0701389 0.0697917 0.0692708]\n",
      "[0.0000000 -0.0000154 -0.0000184 -0.0000191 -0.0000192 -0.0000193 -0.0000194 -0.0000195 -0.0000196 -0.0000196]\n",
      "test：0.100000, test mean: 0.069271\n"
     ]
    },
    {
     "name": "stderr",
     "output_type": "stream",
     "text": [
      "\r",
      " 10%|▉         | 73/750 [01:16<11:26,  1.01s/it]"
     ]
    },
    {
     "name": "stdout",
     "output_type": "stream",
     "text": [
      "[0.8875000 0.1660959 0.0974315 0.0796233 0.0756849 0.0743151 0.0715753 0.0700342 0.0696918 0.0691781]\n",
      "[0.0000000 -0.0000154 -0.0000184 -0.0000192 -0.0000193 -0.0000194 -0.0000194 -0.0000195 -0.0000196 -0.0000197]\n",
      "test：0.062500, test mean: 0.069178\n"
     ]
    },
    {
     "name": "stderr",
     "output_type": "stream",
     "text": [
      "\r",
      " 10%|▉         | 74/750 [01:17<11:25,  1.01s/it]"
     ]
    },
    {
     "name": "stdout",
     "output_type": "stream",
     "text": [
      "[0.8881757 0.1665541 0.0981419 0.0804054 0.0765203 0.0748311 0.0721284 0.0706081 0.0702703 0.0697635]\n",
      "[0.0000000 -0.0000154 -0.0000184 -0.0000191 -0.0000192 -0.0000193 -0.0000194 -0.0000195 -0.0000196 -0.0000196]\n",
      "test：0.112500, test mean: 0.069764\n"
     ]
    },
    {
     "name": "stderr",
     "output_type": "stream",
     "text": [
      "\r",
      " 10%|█         | 75/750 [01:18<11:24,  1.01s/it]"
     ]
    },
    {
     "name": "stdout",
     "output_type": "stream",
     "text": [
      "[0.8883333 0.1673333 0.0985000 0.0810000 0.0771667 0.0755000 0.0728333 0.0713333 0.0710000 0.0705000]\n",
      "[0.0000000 -0.0000154 -0.0000184 -0.0000192 -0.0000193 -0.0000194 -0.0000194 -0.0000195 -0.0000196 -0.0000197]\n",
      "test：0.125000, test mean: 0.070500\n"
     ]
    },
    {
     "name": "stderr",
     "output_type": "stream",
     "text": [
      "\r",
      " 10%|█         | 76/750 [01:19<11:24,  1.02s/it]"
     ]
    },
    {
     "name": "stdout",
     "output_type": "stream",
     "text": [
      "[0.8883224 0.1671053 0.0983553 0.0809211 0.0771382 0.0754934 0.0728618 0.0713816 0.0710526 0.0705592]\n",
      "[0.0000000 -0.0000154 -0.0000184 -0.0000192 -0.0000193 -0.0000194 -0.0000195 -0.0000195 -0.0000196 -0.0000197]\n",
      "test：0.075000, test mean: 0.070559\n"
     ]
    },
    {
     "name": "stderr",
     "output_type": "stream",
     "text": [
      "\r",
      " 10%|█         | 77/750 [01:20<11:22,  1.01s/it]"
     ]
    },
    {
     "name": "stdout",
     "output_type": "stream",
     "text": [
      "[0.8887987 0.1678571 0.0988636 0.0810065 0.0772727 0.0756494 0.0730519 0.0715909 0.0712662 0.0707792]\n",
      "[0.0000000 -0.0000154 -0.0000185 -0.0000192 -0.0000194 -0.0000194 -0.0000195 -0.0000196 -0.0000197 -0.0000198]\n",
      "test：0.087500, test mean: 0.070779\n"
     ]
    },
    {
     "name": "stderr",
     "output_type": "stream",
     "text": [
      "\r",
      " 10%|█         | 78/750 [01:21<11:21,  1.01s/it]"
     ]
    },
    {
     "name": "stdout",
     "output_type": "stream",
     "text": [
      "[0.8894231 0.1689103 0.0985577 0.0806090 0.0769231 0.0751603 0.0725962 0.0711538 0.0708333 0.0703526]\n",
      "[0.0000000 -0.0000154 -0.0000185 -0.0000193 -0.0000194 -0.0000195 -0.0000196 -0.0000196 -0.0000197 -0.0000198]\n",
      "test：0.037500, test mean: 0.070353\n"
     ]
    },
    {
     "name": "stderr",
     "output_type": "stream",
     "text": [
      "\r",
      " 11%|█         | 79/750 [01:22<11:21,  1.02s/it]"
     ]
    },
    {
     "name": "stdout",
     "output_type": "stream",
     "text": [
      "[0.8895570 0.1689873 0.0985760 0.0805380 0.0768987 0.0751582 0.0724684 0.0710443 0.0707278 0.0702532]\n",
      "[0.0000000 -0.0000154 -0.0000185 -0.0000193 -0.0000194 -0.0000195 -0.0000195 -0.0000196 -0.0000197 -0.0000198]\n",
      "test：0.062500, test mean: 0.070253\n"
     ]
    },
    {
     "name": "stderr",
     "output_type": "stream",
     "text": [
      "\r",
      " 11%|█         | 80/750 [01:23<11:20,  1.02s/it]"
     ]
    },
    {
     "name": "stdout",
     "output_type": "stream",
     "text": [
      "[0.8885938 0.1684375 0.0984375 0.0804688 0.0768750 0.0751563 0.0725000 0.0710938 0.0707813 0.0703125]\n",
      "[0.0000000 -0.0000154 -0.0000185 -0.0000193 -0.0000194 -0.0000195 -0.0000195 -0.0000196 -0.0000197 -0.0000198]\n",
      "test：0.075000, test mean: 0.070312\n"
     ]
    },
    {
     "name": "stderr",
     "output_type": "stream",
     "text": [
      "\r",
      " 11%|█         | 81/750 [01:25<11:18,  1.01s/it]"
     ]
    },
    {
     "name": "stdout",
     "output_type": "stream",
     "text": [
      "[0.8888889 0.1683642 0.0983025 0.0804012 0.0768519 0.0751543 0.0725309 0.0711420 0.0708333 0.0703704]\n",
      "[0.0000000 -0.0000154 -0.0000185 -0.0000193 -0.0000194 -0.0000195 -0.0000195 -0.0000196 -0.0000197 -0.0000198]\n",
      "test：0.075000, test mean: 0.070370\n"
     ]
    },
    {
     "name": "stderr",
     "output_type": "stream",
     "text": [
      "\r",
      " 11%|█         | 82/750 [01:26<11:17,  1.01s/it]"
     ]
    },
    {
     "name": "stdout",
     "output_type": "stream",
     "text": [
      "[0.8885671 0.1682927 0.0981707 0.0803354 0.0768293 0.0750000 0.0724085 0.0710366 0.0707317 0.0702744]\n",
      "[0.0000000 -0.0000154 -0.0000185 -0.0000193 -0.0000194 -0.0000195 -0.0000196 -0.0000196 -0.0000197 -0.0000198]\n",
      "test：0.062500, test mean: 0.070274\n"
     ]
    },
    {
     "name": "stderr",
     "output_type": "stream",
     "text": [
      "\r",
      " 11%|█         | 83/750 [01:27<11:16,  1.01s/it]"
     ]
    },
    {
     "name": "stdout",
     "output_type": "stream",
     "text": [
      "[0.8879518 0.1680723 0.0983434 0.0804217 0.0769578 0.0751506 0.0725904 0.0712349 0.0709337 0.0704819]\n",
      "[0.0000000 -0.0000154 -0.0000185 -0.0000192 -0.0000194 -0.0000194 -0.0000195 -0.0000196 -0.0000197 -0.0000198]\n",
      "test：0.087500, test mean: 0.070482\n"
     ]
    },
    {
     "name": "stderr",
     "output_type": "stream",
     "text": [
      "\r",
      " 11%|█         | 84/750 [01:28<11:17,  1.02s/it]"
     ]
    },
    {
     "name": "stdout",
     "output_type": "stream",
     "text": [
      "[0.8876488 0.1678571 0.0980655 0.0800595 0.0766369 0.0748512 0.0723214 0.0709821 0.0706845 0.0702381]\n",
      "[0.0000000 -0.0000153 -0.0000184 -0.0000192 -0.0000193 -0.0000194 -0.0000195 -0.0000196 -0.0000197 -0.0000198]\n",
      "test：0.050000, test mean: 0.070238\n"
     ]
    },
    {
     "name": "stderr",
     "output_type": "stream",
     "text": [
      "\r",
      " 11%|█▏        | 85/750 [01:29<11:15,  1.02s/it]"
     ]
    },
    {
     "name": "stdout",
     "output_type": "stream",
     "text": [
      "[0.8875000 0.1670588 0.0976471 0.0798529 0.0764706 0.0747059 0.0722059 0.0708824 0.0705882 0.0700000]\n",
      "[0.0000000 -0.0000154 -0.0000185 -0.0000192 -0.0000194 -0.0000194 -0.0000195 -0.0000196 -0.0000197 -0.0000198]\n",
      "test：0.050000, test mean: 0.070000\n"
     ]
    },
    {
     "name": "stderr",
     "output_type": "stream",
     "text": [
      "\r",
      " 11%|█▏        | 86/750 [01:30<11:14,  1.02s/it]"
     ]
    },
    {
     "name": "stdout",
     "output_type": "stream",
     "text": [
      "[0.8872093 0.1671512 0.0972384 0.0795058 0.0761628 0.0744186 0.0719477 0.0706395 0.0703488 0.0697674]\n",
      "[0.0000000 -0.0000154 -0.0000185 -0.0000192 -0.0000194 -0.0000194 -0.0000195 -0.0000196 -0.0000197 -0.0000198]\n",
      "test：0.050000, test mean: 0.069767\n"
     ]
    },
    {
     "name": "stderr",
     "output_type": "stream",
     "text": [
      "\r",
      " 12%|█▏        | 87/750 [01:31<11:13,  1.02s/it]"
     ]
    },
    {
     "name": "stdout",
     "output_type": "stream",
     "text": [
      "[0.8873563 0.1665230 0.0974138 0.0798851 0.0765805 0.0748563 0.0722701 0.0709770 0.0706897 0.0701149]\n",
      "[0.0000000 -0.0000154 -0.0000184 -0.0000192 -0.0000193 -0.0000194 -0.0000195 -0.0000196 -0.0000196 -0.0000197]\n",
      "test：0.100000, test mean: 0.070115\n"
     ]
    },
    {
     "name": "stderr",
     "output_type": "stream",
     "text": [
      "\r",
      " 12%|█▏        | 88/750 [01:32<11:10,  1.01s/it]"
     ]
    },
    {
     "name": "stdout",
     "output_type": "stream",
     "text": [
      "[0.8873580 0.1667614 0.0975852 0.0801136 0.0767045 0.0750000 0.0724432 0.0711648 0.0708807 0.0703125]\n",
      "[0.0000000 -0.0000154 -0.0000185 -0.0000192 -0.0000194 -0.0000194 -0.0000195 -0.0000196 -0.0000197 -0.0000198]\n",
      "test：0.087500, test mean: 0.070312\n"
     ]
    },
    {
     "name": "stderr",
     "output_type": "stream",
     "text": [
      "\r",
      " 12%|█▏        | 89/750 [01:33<11:08,  1.01s/it]"
     ]
    },
    {
     "name": "stdout",
     "output_type": "stream",
     "text": [
      "[0.8869382 0.1669944 0.0977528 0.0804775 0.0769663 0.0752809 0.0727528 0.0714888 0.0712079 0.0706461]\n",
      "[0.0000000 -0.0000153 -0.0000185 -0.0000192 -0.0000194 -0.0000194 -0.0000195 -0.0000196 -0.0000197 -0.0000198]\n",
      "test：0.100000, test mean: 0.070646\n"
     ]
    },
    {
     "name": "stderr",
     "output_type": "stream",
     "text": [
      "\r",
      " 12%|█▏        | 90/750 [01:34<11:05,  1.01s/it]"
     ]
    },
    {
     "name": "stdout",
     "output_type": "stream",
     "text": [
      "[0.8873611 0.1665278 0.0975000 0.0801389 0.0766667 0.0750000 0.0725000 0.0712500 0.0709722 0.0704167]\n",
      "[0.0000000 -0.0000153 -0.0000185 -0.0000192 -0.0000194 -0.0000194 -0.0000195 -0.0000196 -0.0000197 -0.0000198]\n",
      "test：0.050000, test mean: 0.070417\n"
     ]
    },
    {
     "name": "stderr",
     "output_type": "stream",
     "text": [
      "\r",
      " 12%|█▏        | 91/750 [01:35<11:04,  1.01s/it]"
     ]
    },
    {
     "name": "stdout",
     "output_type": "stream",
     "text": [
      "[0.8873626 0.1655220 0.0968407 0.0796703 0.0762363 0.0745879 0.0721154 0.0708791 0.0706044 0.0700549]\n",
      "[0.0000000 -0.0000154 -0.0000185 -0.0000193 -0.0000194 -0.0000195 -0.0000195 -0.0000196 -0.0000197 -0.0000198]\n",
      "test：0.037500, test mean: 0.070055\n"
     ]
    },
    {
     "name": "stderr",
     "output_type": "stream",
     "text": [
      "\r",
      " 12%|█▏        | 92/750 [01:36<11:02,  1.01s/it]"
     ]
    },
    {
     "name": "stdout",
     "output_type": "stream",
     "text": [
      "[0.8877718 0.1654891 0.0966033 0.0796196 0.0760870 0.0744565 0.0720109 0.0707880 0.0705163 0.0699728]\n",
      "[0.0000000 -0.0000154 -0.0000185 -0.0000193 -0.0000194 -0.0000195 -0.0000195 -0.0000196 -0.0000197 -0.0000198]\n",
      "test：0.062500, test mean: 0.069973\n"
     ]
    },
    {
     "name": "stderr",
     "output_type": "stream",
     "text": [
      "\r",
      " 12%|█▏        | 93/750 [01:37<11:01,  1.01s/it]"
     ]
    },
    {
     "name": "stdout",
     "output_type": "stream",
     "text": [
      "[0.8880376 0.1654570 0.0967742 0.0798387 0.0763441 0.0747312 0.0723118 0.0711022 0.0708333 0.0702957]\n",
      "[0.0000000 -0.0000154 -0.0000185 -0.0000192 -0.0000194 -0.0000195 -0.0000195 -0.0000196 -0.0000197 -0.0000198]\n",
      "test：0.100000, test mean: 0.070296\n"
     ]
    },
    {
     "name": "stderr",
     "output_type": "stream",
     "text": [
      "\r",
      " 13%|█▎        | 94/750 [01:38<11:02,  1.01s/it]"
     ]
    },
    {
     "name": "stdout",
     "output_type": "stream",
     "text": [
      "[0.8881649 0.1650266 0.0969415 0.0799202 0.0761968 0.0746011 0.0722074 0.0710106 0.0707447 0.0702128]\n",
      "[0.0000000 -0.0000154 -0.0000185 -0.0000192 -0.0000194 -0.0000194 -0.0000195 -0.0000196 -0.0000197 -0.0000198]\n",
      "test：0.062500, test mean: 0.070213\n"
     ]
    },
    {
     "name": "stderr",
     "output_type": "stream",
     "text": [
      "\r",
      " 13%|█▎        | 95/750 [01:39<11:02,  1.01s/it]"
     ]
    },
    {
     "name": "stdout",
     "output_type": "stream",
     "text": [
      "[0.8876316 0.1643421 0.0965789 0.0796053 0.0759211 0.0743421 0.0719737 0.0707895 0.0705263 0.0698684]\n",
      "[0.0000000 -0.0000154 -0.0000185 -0.0000193 -0.0000194 -0.0000195 -0.0000195 -0.0000196 -0.0000197 -0.0000198]\n",
      "test：0.037500, test mean: 0.069868\n"
     ]
    },
    {
     "name": "stderr",
     "output_type": "stream",
     "text": [
      "\r",
      " 13%|█▎        | 96/750 [01:40<11:02,  1.01s/it]"
     ]
    },
    {
     "name": "stdout",
     "output_type": "stream",
     "text": [
      "[0.8872396 0.1639323 0.0963542 0.0795573 0.0757813 0.0742188 0.0718750 0.0707031 0.0704427 0.0696615]\n",
      "[0.0000000 -0.0000154 -0.0000185 -0.0000192 -0.0000193 -0.0000194 -0.0000195 -0.0000196 -0.0000197 -0.0000197]\n",
      "test：0.050000, test mean: 0.069661\n"
     ]
    },
    {
     "name": "stderr",
     "output_type": "stream",
     "text": [
      "\r",
      " 13%|█▎        | 97/750 [01:41<11:01,  1.01s/it]"
     ]
    },
    {
     "name": "stdout",
     "output_type": "stream",
     "text": [
      "[0.8871134 0.1632732 0.0961340 0.0792526 0.0753866 0.0738402 0.0715206 0.0703608 0.0701031 0.0693299]\n",
      "[0.0000000 -0.0000154 -0.0000185 -0.0000192 -0.0000193 -0.0000194 -0.0000195 -0.0000196 -0.0000197 -0.0000198]\n",
      "test：0.037500, test mean: 0.069330\n"
     ]
    },
    {
     "name": "stderr",
     "output_type": "stream",
     "text": [
      "\r",
      " 13%|█▎        | 98/750 [01:42<11:00,  1.01s/it]"
     ]
    },
    {
     "name": "stdout",
     "output_type": "stream",
     "text": [
      "[0.8868623 0.1626276 0.0957908 0.0789541 0.0751276 0.0734694 0.0711735 0.0700255 0.0697704 0.0690051]\n",
      "[0.0000000 -0.0000154 -0.0000185 -0.0000192 -0.0000194 -0.0000194 -0.0000195 -0.0000196 -0.0000197 -0.0000198]\n",
      "test：0.037500, test mean: 0.069005\n"
     ]
    },
    {
     "name": "stderr",
     "output_type": "stream",
     "text": [
      "\r",
      " 13%|█▎        | 99/750 [01:43<10:59,  1.01s/it]"
     ]
    },
    {
     "name": "stdout",
     "output_type": "stream",
     "text": [
      "[0.8868687 0.1618687 0.0952020 0.0785354 0.0747475 0.0731061 0.0708333 0.0696970 0.0694444 0.0686869]\n",
      "[0.0000000 -0.0000154 -0.0000185 -0.0000192 -0.0000193 -0.0000194 -0.0000195 -0.0000196 -0.0000197 -0.0000197]\n",
      "test：0.037500, test mean: 0.068687\n"
     ]
    },
    {
     "name": "stderr",
     "output_type": "stream",
     "text": [
      "\r",
      " 13%|█▎        | 100/750 [01:44<10:58,  1.01s/it]"
     ]
    },
    {
     "name": "stdout",
     "output_type": "stream",
     "text": [
      "[0.8866250 0.1616250 0.0948750 0.0783750 0.0745000 0.0727500 0.0705000 0.0693750 0.0691250 0.0683750]\n",
      "[0.0000000 -0.0000155 -0.0000185 -0.0000192 -0.0000193 -0.0000194 -0.0000195 -0.0000196 -0.0000197 -0.0000197]\n",
      "test：0.037500, test mean: 0.068375\n"
     ]
    },
    {
     "name": "stderr",
     "output_type": "stream",
     "text": [
      "\r",
      " 13%|█▎        | 101/750 [01:45<10:57,  1.01s/it]"
     ]
    },
    {
     "name": "stdout",
     "output_type": "stream",
     "text": [
      "[0.8862624 0.1611386 0.0946782 0.0779703 0.0740099 0.0721535 0.0699257 0.0688119 0.0685644 0.0678218]\n",
      "[0.0000000 -0.0000154 -0.0000185 -0.0000193 -0.0000194 -0.0000195 -0.0000195 -0.0000196 -0.0000197 -0.0000198]\n",
      "test：0.012500, test mean: 0.067822\n"
     ]
    },
    {
     "name": "stderr",
     "output_type": "stream",
     "text": [
      "\r",
      " 14%|█▎        | 102/750 [01:46<10:56,  1.01s/it]"
     ]
    },
    {
     "name": "stdout",
     "output_type": "stream",
     "text": [
      "[0.8860294 0.1613971 0.0946078 0.0779412 0.0740196 0.0723039 0.0699755 0.0688726 0.0686275 0.0678922]\n",
      "[0.0000000 -0.0000154 -0.0000185 -0.0000193 -0.0000194 -0.0000195 -0.0000196 -0.0000196 -0.0000197 -0.0000198]\n",
      "test：0.075000, test mean: 0.067892\n"
     ]
    },
    {
     "name": "stderr",
     "output_type": "stream",
     "text": [
      "\r",
      " 14%|█▎        | 103/750 [01:47<10:56,  1.01s/it]"
     ]
    },
    {
     "name": "stdout",
     "output_type": "stream",
     "text": [
      "[0.8860437 0.1615291 0.0944175 0.0777913 0.0739078 0.0722087 0.0699029 0.0688107 0.0685680 0.0678398]\n",
      "[0.0000000 -0.0000154 -0.0000185 -0.0000193 -0.0000194 -0.0000195 -0.0000196 -0.0000197 -0.0000197 -0.0000198]\n",
      "test：0.062500, test mean: 0.067840\n"
     ]
    },
    {
     "name": "stderr",
     "output_type": "stream",
     "text": [
      "\r",
      " 14%|█▍        | 104/750 [01:48<10:55,  1.01s/it]"
     ]
    },
    {
     "name": "stdout",
     "output_type": "stream",
     "text": [
      "[0.8860577 0.1615385 0.0945913 0.0777644 0.0737981 0.0721154 0.0698317 0.0687500 0.0683894 0.0676683]\n",
      "[0.0000000 -0.0000154 -0.0000185 -0.0000193 -0.0000194 -0.0000195 -0.0000196 -0.0000197 -0.0000198 -0.0000198]\n",
      "test：0.050000, test mean: 0.067668\n"
     ]
    },
    {
     "name": "stderr",
     "output_type": "stream",
     "text": [
      "\r",
      " 14%|█▍        | 105/750 [01:49<10:54,  1.01s/it]"
     ]
    },
    {
     "name": "stdout",
     "output_type": "stream",
     "text": [
      "[0.8864286 0.1615476 0.0942857 0.0776190 0.0735714 0.0719048 0.0696429 0.0685714 0.0682143 0.0675000]\n",
      "[0.0000000 -0.0000154 -0.0000185 -0.0000193 -0.0000194 -0.0000195 -0.0000196 -0.0000197 -0.0000197 -0.0000198]\n",
      "test：0.050000, test mean: 0.067500\n"
     ]
    },
    {
     "name": "stderr",
     "output_type": "stream",
     "text": [
      "\r",
      " 14%|█▍        | 106/750 [01:50<10:53,  1.01s/it]"
     ]
    },
    {
     "name": "stdout",
     "output_type": "stream",
     "text": [
      "[0.8870283 0.1614387 0.0941038 0.0774764 0.0734670 0.0716981 0.0694575 0.0683962 0.0680425 0.0673349]\n",
      "[0.0000000 -0.0000154 -0.0000185 -0.0000193 -0.0000194 -0.0000195 -0.0000196 -0.0000197 -0.0000198 -0.0000198]\n",
      "test：0.050000, test mean: 0.067335\n"
     ]
    },
    {
     "name": "stderr",
     "output_type": "stream",
     "text": [
      "\r",
      " 14%|█▍        | 107/750 [01:51<10:52,  1.01s/it]"
     ]
    },
    {
     "name": "stdout",
     "output_type": "stream",
     "text": [
      "[0.8876168 0.1617991 0.0942757 0.0775701 0.0735981 0.0718458 0.0696262 0.0685748 0.0682243 0.0675234]\n",
      "[0.0000000 -0.0000154 -0.0000185 -0.0000193 -0.0000194 -0.0000195 -0.0000196 -0.0000197 -0.0000197 -0.0000198]\n",
      "test：0.087500, test mean: 0.067523\n"
     ]
    },
    {
     "name": "stderr",
     "output_type": "stream",
     "text": [
      "\r",
      " 14%|█▍        | 108/750 [01:52<10:50,  1.01s/it]"
     ]
    },
    {
     "name": "stdout",
     "output_type": "stream",
     "text": [
      "[0.8876158 0.1622685 0.0942130 0.0776620 0.0737269 0.0719907 0.0697917 0.0687500 0.0684028 0.0677083]\n",
      "[0.0000000 -0.0000154 -0.0000185 -0.0000193 -0.0000194 -0.0000195 -0.0000196 -0.0000197 -0.0000197 -0.0000198]\n",
      "test：0.087500, test mean: 0.067708\n"
     ]
    },
    {
     "name": "stderr",
     "output_type": "stream",
     "text": [
      "\r",
      " 15%|█▍        | 109/750 [01:53<11:42,  1.10s/it]"
     ]
    },
    {
     "name": "stdout",
     "output_type": "stream",
     "text": [
      "[0.8871560 0.1625000 0.0940367 0.0776376 0.0737385 0.0720183 0.0698395 0.0688073 0.0684633 0.0677752]\n",
      "[0.0000000 -0.0000154 -0.0000185 -0.0000192 -0.0000194 -0.0000194 -0.0000195 -0.0000196 -0.0000197 -0.0000198]\n",
      "test：0.075000, test mean: 0.067775\n"
     ]
    },
    {
     "name": "stderr",
     "output_type": "stream",
     "text": [
      "\r",
      " 15%|█▍        | 110/750 [01:54<11:26,  1.07s/it]"
     ]
    },
    {
     "name": "stdout",
     "output_type": "stream",
     "text": [
      "[0.8876136 0.1628409 0.0942045 0.0778409 0.0738636 0.0721591 0.0700000 0.0689773 0.0686364 0.0679545]\n",
      "[0.0000000 -0.0000154 -0.0000185 -0.0000193 -0.0000194 -0.0000195 -0.0000195 -0.0000196 -0.0000197 -0.0000198]\n",
      "test：0.087500, test mean: 0.067955\n"
     ]
    },
    {
     "name": "stderr",
     "output_type": "stream",
     "text": [
      "\r",
      " 15%|█▍        | 111/750 [01:55<11:14,  1.06s/it]"
     ]
    },
    {
     "name": "stdout",
     "output_type": "stream",
     "text": [
      "[0.8879505 0.1621622 0.0938063 0.0774775 0.0735360 0.0718468 0.0697072 0.0686937 0.0683559 0.0676802]\n",
      "[0.0000000 -0.0000155 -0.0000185 -0.0000192 -0.0000194 -0.0000194 -0.0000195 -0.0000196 -0.0000197 -0.0000198]\n",
      "test：0.037500, test mean: 0.067680\n"
     ]
    },
    {
     "name": "stderr",
     "output_type": "stream",
     "text": [
      "\r",
      " 15%|█▍        | 112/750 [01:56<11:05,  1.04s/it]"
     ]
    },
    {
     "name": "stdout",
     "output_type": "stream",
     "text": [
      "[0.8875000 0.1619420 0.0935268 0.0773438 0.0734375 0.0717634 0.0696429 0.0686384 0.0683036 0.0676339]\n",
      "[0.0000000 -0.0000154 -0.0000185 -0.0000192 -0.0000193 -0.0000194 -0.0000195 -0.0000196 -0.0000197 -0.0000198]\n",
      "test：0.062500, test mean: 0.067634\n"
     ]
    },
    {
     "name": "stderr",
     "output_type": "stream",
     "text": [
      "\r",
      " 15%|█▌        | 113/750 [01:57<10:59,  1.04s/it]"
     ]
    },
    {
     "name": "stdout",
     "output_type": "stream",
     "text": [
      "[0.8875000 0.1617257 0.0934735 0.0773230 0.0734513 0.0717920 0.0695796 0.0685841 0.0682522 0.0675885]\n",
      "[0.0000000 -0.0000154 -0.0000185 -0.0000192 -0.0000193 -0.0000194 -0.0000195 -0.0000196 -0.0000197 -0.0000197]\n",
      "test：0.062500, test mean: 0.067588\n"
     ]
    },
    {
     "name": "stderr",
     "output_type": "stream",
     "text": [
      "\r",
      " 15%|█▌        | 114/750 [01:58<10:54,  1.03s/it]"
     ]
    },
    {
     "name": "stdout",
     "output_type": "stream",
     "text": [
      "[0.8869518 0.1615132 0.0935307 0.0773026 0.0734649 0.0717105 0.0695175 0.0685307 0.0682018 0.0675439]\n",
      "[0.0000000 -0.0000154 -0.0000185 -0.0000193 -0.0000194 -0.0000194 -0.0000195 -0.0000196 -0.0000197 -0.0000198]\n",
      "test：0.062500, test mean: 0.067544\n"
     ]
    },
    {
     "name": "stderr",
     "output_type": "stream",
     "text": [
      "\r",
      " 15%|█▌        | 115/750 [01:59<10:50,  1.02s/it]"
     ]
    },
    {
     "name": "stdout",
     "output_type": "stream",
     "text": [
      "[0.8867391 0.1620652 0.0940217 0.0777174 0.0739130 0.0721739 0.0700000 0.0690217 0.0686957 0.0680435]\n",
      "[0.0000000 -0.0000154 -0.0000185 -0.0000192 -0.0000194 -0.0000194 -0.0000195 -0.0000196 -0.0000197 -0.0000198]\n",
      "test：0.125000, test mean: 0.068043\n"
     ]
    },
    {
     "name": "stderr",
     "output_type": "stream",
     "text": [
      "\r",
      " 15%|█▌        | 116/750 [02:00<10:48,  1.02s/it]"
     ]
    },
    {
     "name": "stdout",
     "output_type": "stream",
     "text": [
      "[0.8865302 0.1621767 0.0940733 0.0776940 0.0739224 0.0721983 0.0700431 0.0690733 0.0687500 0.0681034]\n",
      "[0.0000000 -0.0000154 -0.0000185 -0.0000192 -0.0000194 -0.0000194 -0.0000195 -0.0000196 -0.0000197 -0.0000198]\n",
      "test：0.075000, test mean: 0.068103\n"
     ]
    },
    {
     "name": "stderr",
     "output_type": "stream",
     "text": [
      "\r",
      " 16%|█▌        | 117/750 [02:01<10:46,  1.02s/it]"
     ]
    },
    {
     "name": "stdout",
     "output_type": "stream",
     "text": [
      "[0.8864316 0.1623932 0.0942308 0.0776709 0.0739316 0.0722222 0.0700855 0.0691239 0.0688034 0.0681624]\n",
      "[0.0000000 -0.0000154 -0.0000185 -0.0000192 -0.0000193 -0.0000194 -0.0000195 -0.0000196 -0.0000197 -0.0000197]\n",
      "test：0.075000, test mean: 0.068162\n"
     ]
    },
    {
     "name": "stderr",
     "output_type": "stream",
     "text": [
      "\r",
      " 16%|█▌        | 118/750 [02:02<10:43,  1.02s/it]"
     ]
    },
    {
     "name": "stdout",
     "output_type": "stream",
     "text": [
      "[0.8868644 0.1621822 0.0941737 0.0775424 0.0738347 0.0719280 0.0698093 0.0688559 0.0685381 0.0679025]\n",
      "[0.0000000 -0.0000154 -0.0000185 -0.0000192 -0.0000194 -0.0000194 -0.0000195 -0.0000196 -0.0000197 -0.0000198]\n",
      "test：0.037500, test mean: 0.067903\n"
     ]
    },
    {
     "name": "stderr",
     "output_type": "stream",
     "text": [
      "\r",
      " 16%|█▌        | 119/750 [02:03<10:42,  1.02s/it]"
     ]
    },
    {
     "name": "stdout",
     "output_type": "stream",
     "text": [
      "[0.8864496 0.1622899 0.0942227 0.0776261 0.0739496 0.0720588 0.0699580 0.0690126 0.0686975 0.0680672]\n",
      "[0.0000000 -0.0000154 -0.0000185 -0.0000192 -0.0000193 -0.0000194 -0.0000195 -0.0000196 -0.0000197 -0.0000197]\n",
      "test：0.087500, test mean: 0.068067\n"
     ]
    },
    {
     "name": "stderr",
     "output_type": "stream",
     "text": [
      "\r",
      " 16%|█▌        | 120/750 [02:04<10:44,  1.02s/it]"
     ]
    },
    {
     "name": "stdout",
     "output_type": "stream",
     "text": [
      "[0.8864583 0.1620833 0.0939583 0.0775000 0.0738542 0.0719792 0.0698958 0.0689583 0.0686458 0.0680208]\n",
      "[0.0000000 -0.0000154 -0.0000184 -0.0000192 -0.0000193 -0.0000194 -0.0000195 -0.0000196 -0.0000196 -0.0000197]\n",
      "test：0.062500, test mean: 0.068021\n"
     ]
    },
    {
     "name": "stderr",
     "output_type": "stream",
     "text": [
      "\r",
      " 16%|█▌        | 121/750 [02:05<10:41,  1.02s/it]"
     ]
    },
    {
     "name": "stdout",
     "output_type": "stream",
     "text": [
      "[0.8863636 0.1621901 0.0943182 0.0777893 0.0741736 0.0722107 0.0701446 0.0692149 0.0689050 0.0682851]\n",
      "[0.0000000 -0.0000154 -0.0000184 -0.0000192 -0.0000193 -0.0000194 -0.0000195 -0.0000196 -0.0000196 -0.0000197]\n",
      "test：0.100000, test mean: 0.068285\n"
     ]
    },
    {
     "name": "stderr",
     "output_type": "stream",
     "text": [
      "\r",
      " 16%|█▋        | 122/750 [02:06<10:39,  1.02s/it]"
     ]
    },
    {
     "name": "stdout",
     "output_type": "stream",
     "text": [
      "[0.8861680 0.1623975 0.0945697 0.0779713 0.0742828 0.0723361 0.0702869 0.0693648 0.0690574 0.0684426]\n",
      "[0.0000000 -0.0000154 -0.0000184 -0.0000192 -0.0000193 -0.0000194 -0.0000195 -0.0000196 -0.0000196 -0.0000197]\n",
      "test：0.087500, test mean: 0.068443\n"
     ]
    },
    {
     "name": "stderr",
     "output_type": "stream",
     "text": [
      "\r",
      " 16%|█▋        | 123/750 [02:07<10:37,  1.02s/it]"
     ]
    },
    {
     "name": "stdout",
     "output_type": "stream",
     "text": [
      "[0.8865854 0.1623984 0.0945122 0.0778455 0.0741870 0.0722561 0.0702236 0.0693089 0.0690041 0.0683943]\n",
      "[0.0000000 -0.0000154 -0.0000184 -0.0000192 -0.0000193 -0.0000194 -0.0000195 -0.0000195 -0.0000196 -0.0000197]\n",
      "test：0.062500, test mean: 0.068394\n"
     ]
    },
    {
     "name": "stderr",
     "output_type": "stream",
     "text": [
      "\r",
      " 17%|█▋        | 124/750 [02:08<10:36,  1.02s/it]"
     ]
    },
    {
     "name": "stdout",
     "output_type": "stream",
     "text": [
      "[0.8864919 0.1623992 0.0943548 0.0778226 0.0740927 0.0721774 0.0701613 0.0692540 0.0689516 0.0683468]\n",
      "[0.0000000 -0.0000154 -0.0000184 -0.0000192 -0.0000193 -0.0000194 -0.0000195 -0.0000195 -0.0000196 -0.0000197]\n",
      "test：0.062500, test mean: 0.068347\n"
     ]
    },
    {
     "name": "stderr",
     "output_type": "stream",
     "text": [
      "\r",
      " 17%|█▋        | 125/750 [02:09<10:35,  1.02s/it]"
     ]
    },
    {
     "name": "stdout",
     "output_type": "stream",
     "text": [
      "[0.8867000 0.1628000 0.0942000 0.0776000 0.0739000 0.0720000 0.0700000 0.0691000 0.0688000 0.0682000]\n",
      "[0.0000000 -0.0000154 -0.0000184 -0.0000192 -0.0000193 -0.0000194 -0.0000195 -0.0000196 -0.0000196 -0.0000197]\n",
      "test：0.050000, test mean: 0.068200\n"
     ]
    },
    {
     "name": "stderr",
     "output_type": "stream",
     "text": [
      "\r",
      " 17%|█▋        | 126/750 [02:10<10:34,  1.02s/it]"
     ]
    },
    {
     "name": "stdout",
     "output_type": "stream",
     "text": [
      "[0.8865079 0.1625000 0.0940476 0.0773810 0.0737103 0.0718254 0.0698413 0.0689484 0.0686508 0.0680556]\n",
      "[0.0000000 -0.0000154 -0.0000184 -0.0000192 -0.0000193 -0.0000194 -0.0000195 -0.0000195 -0.0000196 -0.0000197]\n",
      "test：0.050000, test mean: 0.068056\n"
     ]
    },
    {
     "name": "stderr",
     "output_type": "stream",
     "text": [
      "\r",
      " 17%|█▋        | 127/750 [02:11<10:33,  1.02s/it]"
     ]
    },
    {
     "name": "stdout",
     "output_type": "stream",
     "text": [
      "[0.8865158 0.1624016 0.0939961 0.0773622 0.0737205 0.0718504 0.0698819 0.0689961 0.0687008 0.0681102]\n",
      "[0.0000000 -0.0000154 -0.0000184 -0.0000192 -0.0000193 -0.0000194 -0.0000195 -0.0000196 -0.0000196 -0.0000197]\n",
      "test：0.075000, test mean: 0.068110\n"
     ]
    },
    {
     "name": "stderr",
     "output_type": "stream",
     "text": [
      "\r",
      " 17%|█▋        | 128/750 [02:12<10:33,  1.02s/it]"
     ]
    },
    {
     "name": "stdout",
     "output_type": "stream",
     "text": [
      "[0.8858399 0.1620117 0.0939453 0.0772461 0.0736328 0.0717773 0.0698242 0.0689453 0.0686523 0.0680664]\n",
      "[0.0000000 -0.0000154 -0.0000184 -0.0000192 -0.0000193 -0.0000194 -0.0000195 -0.0000195 -0.0000196 -0.0000197]\n",
      "test：0.062500, test mean: 0.068066\n"
     ]
    },
    {
     "name": "stderr",
     "output_type": "stream",
     "text": [
      "\r",
      " 17%|█▋        | 129/750 [02:13<10:30,  1.01s/it]"
     ]
    },
    {
     "name": "stdout",
     "output_type": "stream",
     "text": [
      "[0.8863372 0.1621124 0.0939922 0.0773256 0.0737403 0.0718023 0.0698643 0.0689922 0.0687016 0.0681202]\n",
      "[0.0000000 -0.0000154 -0.0000184 -0.0000192 -0.0000193 -0.0000194 -0.0000194 -0.0000195 -0.0000196 -0.0000197]\n",
      "test：0.075000, test mean: 0.068120\n"
     ]
    },
    {
     "name": "stderr",
     "output_type": "stream",
     "text": [
      "\r",
      " 17%|█▋        | 130/750 [02:14<10:27,  1.01s/it]"
     ]
    },
    {
     "name": "stdout",
     "output_type": "stream",
     "text": [
      "[0.8867308 0.1624038 0.0938462 0.0773077 0.0737500 0.0718269 0.0699038 0.0690385 0.0687500 0.0681731]\n",
      "[0.0000000 -0.0000154 -0.0000184 -0.0000192 -0.0000193 -0.0000194 -0.0000194 -0.0000195 -0.0000196 -0.0000197]\n",
      "test：0.075000, test mean: 0.068173\n"
     ]
    },
    {
     "name": "stderr",
     "output_type": "stream",
     "text": [
      "\r",
      " 17%|█▋        | 131/750 [02:15<10:25,  1.01s/it]"
     ]
    },
    {
     "name": "stdout",
     "output_type": "stream",
     "text": [
      "[0.8867367 0.1620229 0.0936069 0.0771947 0.0736641 0.0717557 0.0698473 0.0689886 0.0687023 0.0681298]\n",
      "[0.0000000 -0.0000154 -0.0000184 -0.0000192 -0.0000193 -0.0000194 -0.0000194 -0.0000195 -0.0000196 -0.0000197]\n",
      "test：0.062500, test mean: 0.068130\n"
     ]
    },
    {
     "name": "stderr",
     "output_type": "stream",
     "text": [
      "\r",
      " 18%|█▊        | 132/750 [02:16<10:24,  1.01s/it]"
     ]
    },
    {
     "name": "stdout",
     "output_type": "stream",
     "text": [
      "[0.8870265 0.1616477 0.0936553 0.0771780 0.0734848 0.0715909 0.0696970 0.0688447 0.0685606 0.0679924]\n",
      "[0.0000000 -0.0000154 -0.0000184 -0.0000192 -0.0000193 -0.0000194 -0.0000194 -0.0000195 -0.0000196 -0.0000197]\n",
      "test：0.050000, test mean: 0.067992\n"
     ]
    },
    {
     "name": "stderr",
     "output_type": "stream",
     "text": [
      "\r",
      " 18%|█▊        | 133/750 [02:18<10:22,  1.01s/it]"
     ]
    },
    {
     "name": "stdout",
     "output_type": "stream",
     "text": [
      "[0.8865602 0.1611842 0.0937030 0.0771617 0.0734962 0.0716165 0.0696429 0.0687970 0.0685150 0.0679511]\n",
      "[0.0000000 -0.0000154 -0.0000184 -0.0000191 -0.0000192 -0.0000193 -0.0000194 -0.0000195 -0.0000196 -0.0000196]\n",
      "test：0.062500, test mean: 0.067951\n"
     ]
    },
    {
     "name": "stderr",
     "output_type": "stream",
     "text": [
      "\r",
      " 18%|█▊        | 134/750 [02:19<10:22,  1.01s/it]"
     ]
    },
    {
     "name": "stdout",
     "output_type": "stream",
     "text": [
      "[0.8869403 0.1612873 0.0941231 0.0774254 0.0737873 0.0719216 0.0699627 0.0691231 0.0688433 0.0682836]\n",
      "[0.0000000 -0.0000154 -0.0000184 -0.0000192 -0.0000193 -0.0000193 -0.0000194 -0.0000195 -0.0000196 -0.0000197]\n",
      "test：0.112500, test mean: 0.068284\n"
     ]
    },
    {
     "name": "stderr",
     "output_type": "stream",
     "text": [
      "\r",
      " 18%|█▊        | 135/750 [02:20<10:20,  1.01s/it]"
     ]
    },
    {
     "name": "stdout",
     "output_type": "stream",
     "text": [
      "[0.8870370 0.1612037 0.0940741 0.0773148 0.0737037 0.0718519 0.0699074 0.0690741 0.0687963 0.0682407]\n",
      "[0.0000000 -0.0000154 -0.0000184 -0.0000192 -0.0000193 -0.0000193 -0.0000194 -0.0000195 -0.0000196 -0.0000197]\n",
      "test：0.062500, test mean: 0.068241\n"
     ]
    },
    {
     "name": "stderr",
     "output_type": "stream",
     "text": [
      "\r",
      " 18%|█▊        | 136/750 [02:21<10:19,  1.01s/it]"
     ]
    },
    {
     "name": "stdout",
     "output_type": "stream",
     "text": [
      "[0.8871324 0.1612132 0.0941176 0.0774816 0.0738971 0.0720588 0.0701287 0.0693015 0.0690257 0.0684743]\n",
      "[0.0000000 -0.0000154 -0.0000184 -0.0000191 -0.0000192 -0.0000193 -0.0000194 -0.0000195 -0.0000196 -0.0000196]\n",
      "test：0.100000, test mean: 0.068474\n"
     ]
    },
    {
     "name": "stderr",
     "output_type": "stream",
     "text": [
      "\r",
      " 18%|█▊        | 137/750 [02:22<10:18,  1.01s/it]"
     ]
    },
    {
     "name": "stdout",
     "output_type": "stream",
     "text": [
      "[0.8875913 0.1613139 0.0938869 0.0773723 0.0738139 0.0719891 0.0700730 0.0691606 0.0688869 0.0683394]\n",
      "[0.0000000 -0.0000154 -0.0000184 -0.0000191 -0.0000192 -0.0000193 -0.0000194 -0.0000195 -0.0000196 -0.0000196]\n",
      "test：0.050000, test mean: 0.068339\n"
     ]
    },
    {
     "name": "stderr",
     "output_type": "stream",
     "text": [
      "\r",
      " 18%|█▊        | 138/750 [02:23<10:18,  1.01s/it]"
     ]
    },
    {
     "name": "stdout",
     "output_type": "stream",
     "text": [
      "[0.8875000 0.1615942 0.0940217 0.0774457 0.0739130 0.0721015 0.0701993 0.0692935 0.0690217 0.0684783]\n",
      "[0.0000000 -0.0000154 -0.0000184 -0.0000191 -0.0000192 -0.0000193 -0.0000194 -0.0000195 -0.0000196 -0.0000196]\n",
      "test：0.087500, test mean: 0.068478\n"
     ]
    },
    {
     "name": "stderr",
     "output_type": "stream",
     "text": [
      "\r",
      " 19%|█▊        | 139/750 [02:24<10:17,  1.01s/it]"
     ]
    },
    {
     "name": "stdout",
     "output_type": "stream",
     "text": [
      "[0.8878597 0.1614209 0.0939748 0.0774281 0.0739209 0.0721223 0.0702338 0.0693345 0.0690647 0.0685252]\n",
      "[0.0000000 -0.0000154 -0.0000184 -0.0000192 -0.0000193 -0.0000193 -0.0000194 -0.0000195 -0.0000196 -0.0000197]\n",
      "test：0.075000, test mean: 0.068525\n"
     ]
    },
    {
     "name": "stderr",
     "output_type": "stream",
     "text": [
      "\r",
      " 19%|█▊        | 140/750 [02:25<10:17,  1.01s/it]"
     ]
    },
    {
     "name": "stdout",
     "output_type": "stream",
     "text": [
      "[0.8878572 0.1612500 0.0938393 0.0773214 0.0738393 0.0720536 0.0700893 0.0691964 0.0689286 0.0683929]\n",
      "[0.0000000 -0.0000154 -0.0000184 -0.0000192 -0.0000193 -0.0000193 -0.0000194 -0.0000195 -0.0000196 -0.0000197]\n",
      "test：0.050000, test mean: 0.068393\n"
     ]
    },
    {
     "name": "stderr",
     "output_type": "stream",
     "text": [
      "\r",
      " 19%|█▉        | 141/750 [02:26<10:16,  1.01s/it]"
     ]
    },
    {
     "name": "stdout",
     "output_type": "stream",
     "text": [
      "[0.8878546 0.1613475 0.0938830 0.0774823 0.0740248 0.0721631 0.0702128 0.0693262 0.0690603 0.0685284]\n",
      "[0.0000000 -0.0000154 -0.0000184 -0.0000191 -0.0000192 -0.0000193 -0.0000194 -0.0000195 -0.0000196 -0.0000196]\n",
      "test：0.087500, test mean: 0.068528\n"
     ]
    },
    {
     "name": "stderr",
     "output_type": "stream",
     "text": [
      "\r",
      " 19%|█▉        | 142/750 [02:27<10:15,  1.01s/it]"
     ]
    },
    {
     "name": "stdout",
     "output_type": "stream",
     "text": [
      "[0.8875880 0.1616197 0.0939261 0.0776408 0.0742077 0.0723592 0.0704225 0.0695423 0.0692782 0.0687500]\n",
      "[0.0000000 -0.0000154 -0.0000184 -0.0000191 -0.0000192 -0.0000193 -0.0000194 -0.0000195 -0.0000196 -0.0000196]\n",
      "test：0.100000, test mean: 0.068750\n"
     ]
    },
    {
     "name": "stderr",
     "output_type": "stream",
     "text": [
      "\r",
      " 19%|█▉        | 143/750 [02:28<10:15,  1.01s/it]"
     ]
    },
    {
     "name": "stdout",
     "output_type": "stream",
     "text": [
      "[0.8879371 0.1613636 0.0935315 0.0773601 0.0739510 0.0721154 0.0701923 0.0693182 0.0690559 0.0685315]\n",
      "[0.0000000 -0.0000154 -0.0000184 -0.0000191 -0.0000192 -0.0000193 -0.0000194 -0.0000195 -0.0000196 -0.0000196]\n",
      "test：0.037500, test mean: 0.068531\n"
     ]
    },
    {
     "name": "stderr",
     "output_type": "stream",
     "text": [
      "\r",
      " 19%|█▉        | 144/750 [02:29<10:15,  1.01s/it]"
     ]
    },
    {
     "name": "stdout",
     "output_type": "stream",
     "text": [
      "[0.8879340 0.1615451 0.0936632 0.0775174 0.0741319 0.0723090 0.0703993 0.0695313 0.0692708 0.0687500]\n",
      "[0.0000000 -0.0000154 -0.0000184 -0.0000191 -0.0000192 -0.0000193 -0.0000194 -0.0000195 -0.0000196 -0.0000196]\n",
      "test：0.100000, test mean: 0.068750\n"
     ]
    },
    {
     "name": "stderr",
     "output_type": "stream",
     "text": [
      "\r",
      " 19%|█▉        | 145/750 [02:30<10:14,  1.02s/it]"
     ]
    },
    {
     "name": "stdout",
     "output_type": "stream",
     "text": [
      "[0.8879310 0.1613793 0.0934483 0.0773276 0.0739655 0.0721552 0.0702586 0.0693966 0.0691379 0.0686207]\n",
      "[0.0000000 -0.0000154 -0.0000184 -0.0000191 -0.0000192 -0.0000193 -0.0000194 -0.0000195 -0.0000196 -0.0000196]\n",
      "test：0.050000, test mean: 0.068621\n"
     ]
    },
    {
     "name": "stderr",
     "output_type": "stream",
     "text": [
      "\r",
      " 19%|█▉        | 146/750 [02:31<10:14,  1.02s/it]"
     ]
    },
    {
     "name": "stdout",
     "output_type": "stream",
     "text": [
      "[0.8875856 0.1615582 0.0934932 0.0774829 0.0741438 0.0723459 0.0704623 0.0696062 0.0693493 0.0688356]\n",
      "[0.0000000 -0.0000154 -0.0000184 -0.0000191 -0.0000192 -0.0000193 -0.0000194 -0.0000195 -0.0000196 -0.0000196]\n",
      "test：0.100000, test mean: 0.068836\n"
     ]
    },
    {
     "name": "stderr",
     "output_type": "stream",
     "text": [
      "\r",
      " 20%|█▉        | 147/750 [02:32<10:14,  1.02s/it]"
     ]
    },
    {
     "name": "stdout",
     "output_type": "stream",
     "text": [
      "[0.8880952 0.1613946 0.0935374 0.0773810 0.0740646 0.0722789 0.0704082 0.0695578 0.0693027 0.0687925]\n",
      "[0.0000000 -0.0000154 -0.0000184 -0.0000191 -0.0000192 -0.0000193 -0.0000194 -0.0000195 -0.0000196 -0.0000196]\n",
      "test：0.062500, test mean: 0.068793\n"
     ]
    },
    {
     "name": "stderr",
     "output_type": "stream",
     "text": [
      "\r",
      " 20%|█▉        | 148/750 [02:33<10:12,  1.02s/it]"
     ]
    },
    {
     "name": "stdout",
     "output_type": "stream",
     "text": [
      "[0.8880912 0.1611487 0.0932432 0.0771959 0.0739020 0.0720439 0.0701858 0.0693412 0.0690878 0.0685811]\n",
      "[0.0000000 -0.0000155 -0.0000184 -0.0000191 -0.0000192 -0.0000193 -0.0000194 -0.0000195 -0.0000196 -0.0000196]\n",
      "test：0.037500, test mean: 0.068581\n"
     ]
    },
    {
     "name": "stderr",
     "output_type": "stream",
     "text": [
      "\r",
      " 20%|█▉        | 149/750 [02:34<10:11,  1.02s/it]"
     ]
    },
    {
     "name": "stdout",
     "output_type": "stream",
     "text": [
      "[0.8880873 0.1612416 0.0933725 0.0774329 0.0740772 0.0722315 0.0703859 0.0695470 0.0692953 0.0687919]\n",
      "[0.0000000 -0.0000155 -0.0000184 -0.0000191 -0.0000192 -0.0000193 -0.0000194 -0.0000195 -0.0000196 -0.0000196]\n",
      "test：0.100000, test mean: 0.068792\n"
     ]
    },
    {
     "name": "stderr",
     "output_type": "stream",
     "text": [
      "\r",
      " 20%|██        | 150/750 [02:35<10:09,  1.02s/it]"
     ]
    },
    {
     "name": "stdout",
     "output_type": "stream",
     "text": [
      "[0.8881667 0.1607500 0.0931667 0.0772500 0.0739167 0.0720833 0.0702500 0.0694167 0.0691667 0.0686667]\n",
      "[0.0000000 -0.0000155 -0.0000184 -0.0000191 -0.0000192 -0.0000193 -0.0000194 -0.0000195 -0.0000195 -0.0000196]\n",
      "test：0.050000, test mean: 0.068667\n"
     ]
    },
    {
     "name": "stderr",
     "output_type": "stream",
     "text": [
      "\r",
      " 20%|██        | 151/750 [02:36<10:08,  1.02s/it]"
     ]
    },
    {
     "name": "stdout",
     "output_type": "stream",
     "text": [
      "[0.8882450 0.1608444 0.0933775 0.0774007 0.0740894 0.0722682 0.0704470 0.0695364 0.0692881 0.0687914]\n",
      "[0.0000000 -0.0000155 -0.0000184 -0.0000191 -0.0000192 -0.0000193 -0.0000194 -0.0000195 -0.0000196 -0.0000196]\n",
      "test：0.087500, test mean: 0.068791\n"
     ]
    },
    {
     "name": "stderr",
     "output_type": "stream",
     "text": [
      "\r",
      " 20%|██        | 152/750 [02:37<10:06,  1.01s/it]"
     ]
    },
    {
     "name": "stdout",
     "output_type": "stream",
     "text": [
      "[0.8888158 0.1602796 0.0930921 0.0771382 0.0738487 0.0720395 0.0702303 0.0693257 0.0690789 0.0685855]\n",
      "[0.0000000 -0.0000155 -0.0000184 -0.0000191 -0.0000192 -0.0000193 -0.0000194 -0.0000195 -0.0000196 -0.0000196]\n",
      "test：0.037500, test mean: 0.068586\n"
     ]
    },
    {
     "name": "stderr",
     "output_type": "stream",
     "text": [
      "\r",
      " 20%|██        | 153/750 [02:38<10:05,  1.01s/it]"
     ]
    },
    {
     "name": "stdout",
     "output_type": "stream",
     "text": [
      "[0.8887255 0.1602124 0.0929739 0.0771242 0.0738562 0.0720588 0.0701797 0.0692810 0.0690359 0.0685458]\n",
      "[0.0000000 -0.0000155 -0.0000184 -0.0000191 -0.0000192 -0.0000193 -0.0000194 -0.0000195 -0.0000196 -0.0000196]\n",
      "test：0.062500, test mean: 0.068546\n"
     ]
    },
    {
     "name": "stderr",
     "output_type": "stream",
     "text": [
      "\r",
      " 21%|██        | 154/750 [02:39<10:05,  1.02s/it]"
     ]
    },
    {
     "name": "stdout",
     "output_type": "stream",
     "text": [
      "[0.8889610 0.1605520 0.0931007 0.0771104 0.0738636 0.0720779 0.0702110 0.0693182 0.0690747 0.0685877]\n",
      "[0.0000000 -0.0000155 -0.0000184 -0.0000191 -0.0000192 -0.0000193 -0.0000194 -0.0000195 -0.0000196 -0.0000196]\n",
      "test：0.075000, test mean: 0.068588\n"
     ]
    },
    {
     "name": "stderr",
     "output_type": "stream",
     "text": [
      "\r",
      " 21%|██        | 155/750 [02:40<10:04,  1.02s/it]"
     ]
    },
    {
     "name": "stdout",
     "output_type": "stream",
     "text": [
      "[0.8887097 0.1606452 0.0933065 0.0772581 0.0740323 0.0722581 0.0704032 0.0695161 0.0691935 0.0687097]\n",
      "[0.0000000 -0.0000155 -0.0000184 -0.0000191 -0.0000192 -0.0000193 -0.0000194 -0.0000195 -0.0000195 -0.0000196]\n",
      "test：0.087500, test mean: 0.068710\n"
     ]
    },
    {
     "name": "stderr",
     "output_type": "stream",
     "text": [
      "\r",
      " 21%|██        | 156/750 [02:41<10:03,  1.02s/it]"
     ]
    },
    {
     "name": "stdout",
     "output_type": "stream",
     "text": [
      "[0.8889423 0.1612180 0.0935096 0.0774038 0.0741987 0.0724359 0.0705929 0.0697115 0.0693910 0.0689103]\n",
      "[0.0000000 -0.0000155 -0.0000184 -0.0000191 -0.0000193 -0.0000193 -0.0000194 -0.0000195 -0.0000196 -0.0000197]\n",
      "test：0.100000, test mean: 0.068910\n"
     ]
    },
    {
     "name": "stderr",
     "output_type": "stream",
     "text": [
      "\r",
      " 21%|██        | 157/750 [02:42<10:02,  1.02s/it]"
     ]
    },
    {
     "name": "stdout",
     "output_type": "stream",
     "text": [
      "[0.8890127 0.1613057 0.0937898 0.0776274 0.0743631 0.0726115 0.0707803 0.0699045 0.0695860 0.0691083]\n",
      "[0.0000000 -0.0000155 -0.0000184 -0.0000191 -0.0000193 -0.0000193 -0.0000194 -0.0000195 -0.0000196 -0.0000197]\n",
      "test：0.100000, test mean: 0.069108\n"
     ]
    },
    {
     "name": "stderr",
     "output_type": "stream",
     "text": [
      "\r",
      " 21%|██        | 158/750 [02:43<10:01,  1.02s/it]"
     ]
    },
    {
     "name": "stdout",
     "output_type": "stream",
     "text": [
      "[0.8889241 0.1609177 0.0937500 0.0776108 0.0742880 0.0725475 0.0707278 0.0698576 0.0695411 0.0690665]\n",
      "[0.0000000 -0.0000155 -0.0000184 -0.0000191 -0.0000192 -0.0000193 -0.0000194 -0.0000195 -0.0000196 -0.0000196]\n",
      "test：0.062500, test mean: 0.069066\n"
     ]
    },
    {
     "name": "stderr",
     "output_type": "stream",
     "text": [
      "\r",
      " 21%|██        | 159/750 [02:44<09:59,  1.01s/it]"
     ]
    },
    {
     "name": "stdout",
     "output_type": "stream",
     "text": [
      "[0.8886006 0.1610063 0.0938679 0.0776730 0.0743711 0.0726415 0.0708333 0.0699686 0.0696541 0.0691824]\n",
      "[0.0000000 -0.0000155 -0.0000184 -0.0000191 -0.0000192 -0.0000193 -0.0000194 -0.0000195 -0.0000195 -0.0000196]\n",
      "test：0.087500, test mean: 0.069182\n"
     ]
    },
    {
     "name": "stderr",
     "output_type": "stream",
     "text": [
      "\r",
      " 21%|██▏       | 160/750 [02:45<09:59,  1.02s/it]"
     ]
    },
    {
     "name": "stdout",
     "output_type": "stream",
     "text": [
      "[0.8887500 0.1608594 0.0938281 0.0776563 0.0743750 0.0726563 0.0708594 0.0700000 0.0696875 0.0691406]\n",
      "[0.0000000 -0.0000155 -0.0000184 -0.0000191 -0.0000192 -0.0000193 -0.0000194 -0.0000195 -0.0000196 -0.0000196]\n",
      "test：0.062500, test mean: 0.069141\n"
     ]
    },
    {
     "name": "stderr",
     "output_type": "stream",
     "text": [
      "\r",
      " 21%|██▏       | 161/750 [02:46<09:58,  1.02s/it]"
     ]
    },
    {
     "name": "stdout",
     "output_type": "stream",
     "text": [
      "[0.8885870 0.1609472 0.0937888 0.0777174 0.0744565 0.0727484 0.0709627 0.0700311 0.0697205 0.0691770]\n",
      "[0.0000000 -0.0000155 -0.0000184 -0.0000191 -0.0000192 -0.0000193 -0.0000194 -0.0000195 -0.0000195 -0.0000196]\n",
      "test：0.075000, test mean: 0.069177\n"
     ]
    },
    {
     "name": "stderr",
     "output_type": "stream",
     "text": [
      "\r",
      " 22%|██▏       | 162/750 [02:47<09:57,  1.02s/it]"
     ]
    },
    {
     "name": "stdout",
     "output_type": "stream",
     "text": [
      "[0.8884259 0.1609568 0.0941358 0.0777778 0.0745370 0.0728395 0.0710648 0.0700617 0.0697531 0.0692130]\n",
      "[0.0000000 -0.0000155 -0.0000184 -0.0000191 -0.0000192 -0.0000193 -0.0000194 -0.0000195 -0.0000196 -0.0000196]\n",
      "test：0.075000, test mean: 0.069213\n"
     ]
    },
    {
     "name": "stderr",
     "output_type": "stream",
     "text": [
      "\r",
      " 22%|██▏       | 163/750 [02:48<09:55,  1.02s/it]"
     ]
    },
    {
     "name": "stdout",
     "output_type": "stream",
     "text": [
      "[0.8884203 0.1604295 0.0938650 0.0775307 0.0743098 0.0726227 0.0708589 0.0698620 0.0694785 0.0689417]\n",
      "[0.0000000 -0.0000155 -0.0000184 -0.0000191 -0.0000192 -0.0000193 -0.0000194 -0.0000195 -0.0000196 -0.0000196]\n",
      "test：0.025000, test mean: 0.068942\n"
     ]
    },
    {
     "name": "stderr",
     "output_type": "stream",
     "text": [
      "\r",
      " 22%|██▏       | 164/750 [02:49<09:54,  1.02s/it]"
     ]
    },
    {
     "name": "stdout",
     "output_type": "stream",
     "text": [
      "[0.8884909 0.1605183 0.0940549 0.0777439 0.0745427 0.0728659 0.0711128 0.0701220 0.0697409 0.0691311]\n",
      "[0.0000000 -0.0000155 -0.0000184 -0.0000191 -0.0000192 -0.0000193 -0.0000194 -0.0000195 -0.0000196 -0.0000196]\n",
      "test：0.100000, test mean: 0.069131\n"
     ]
    },
    {
     "name": "stderr",
     "output_type": "stream",
     "text": [
      "\r",
      " 22%|██▏       | 165/750 [02:50<09:53,  1.01s/it]"
     ]
    },
    {
     "name": "stdout",
     "output_type": "stream",
     "text": [
      "[0.8885606 0.1606818 0.0940152 0.0777273 0.0745455 0.0728788 0.0711364 0.0701515 0.0697727 0.0691667]\n",
      "[0.0000000 -0.0000155 -0.0000184 -0.0000191 -0.0000192 -0.0000193 -0.0000194 -0.0000195 -0.0000196 -0.0000196]\n",
      "test：0.075000, test mean: 0.069167\n"
     ]
    },
    {
     "name": "stderr",
     "output_type": "stream",
     "text": [
      "\r",
      " 22%|██▏       | 166/750 [02:51<09:53,  1.02s/it]"
     ]
    },
    {
     "name": "stdout",
     "output_type": "stream",
     "text": [
      "[0.8887048 0.1606175 0.0939759 0.0776355 0.0744729 0.0728163 0.0710843 0.0701054 0.0697289 0.0691265]\n",
      "[0.0000000 -0.0000155 -0.0000184 -0.0000191 -0.0000192 -0.0000193 -0.0000194 -0.0000195 -0.0000196 -0.0000196]\n",
      "test：0.062500, test mean: 0.069127\n"
     ]
    },
    {
     "name": "stderr",
     "output_type": "stream",
     "text": [
      "\r",
      " 22%|██▏       | 167/750 [02:52<09:52,  1.02s/it]"
     ]
    },
    {
     "name": "stdout",
     "output_type": "stream",
     "text": [
      "[0.8886228 0.1602545 0.0937126 0.0773952 0.0742515 0.0726048 0.0708832 0.0699102 0.0695359 0.0689371]\n",
      "[0.0000000 -0.0000155 -0.0000184 -0.0000191 -0.0000192 -0.0000193 -0.0000194 -0.0000195 -0.0000196 -0.0000197]\n",
      "test：0.037500, test mean: 0.068937\n"
     ]
    },
    {
     "name": "stderr",
     "output_type": "stream",
     "text": [
      "\r",
      " 22%|██▏       | 168/750 [02:53<09:51,  1.02s/it]"
     ]
    },
    {
     "name": "stdout",
     "output_type": "stream",
     "text": [
      "[0.8886161 0.1603423 0.0937500 0.0774554 0.0743304 0.0726935 0.0709821 0.0700149 0.0696429 0.0690476]\n",
      "[0.0000000 -0.0000155 -0.0000184 -0.0000191 -0.0000193 -0.0000193 -0.0000194 -0.0000195 -0.0000196 -0.0000197]\n",
      "test：0.087500, test mean: 0.069048\n"
     ]
    },
    {
     "name": "stderr",
     "output_type": "stream",
     "text": [
      "\r",
      " 23%|██▎       | 169/750 [02:54<09:50,  1.02s/it]"
     ]
    },
    {
     "name": "stdout",
     "output_type": "stream",
     "text": [
      "[0.8885355 0.1607249 0.0940089 0.0775148 0.0743343 0.0727071 0.0710059 0.0700444 0.0696746 0.0690828]\n",
      "[0.0000000 -0.0000155 -0.0000184 -0.0000191 -0.0000192 -0.0000193 -0.0000194 -0.0000195 -0.0000196 -0.0000196]\n",
      "test：0.075000, test mean: 0.069083\n"
     ]
    },
    {
     "name": "stderr",
     "output_type": "stream",
     "text": [
      "\r",
      " 23%|██▎       | 170/750 [02:55<09:48,  1.01s/it]"
     ]
    },
    {
     "name": "stdout",
     "output_type": "stream",
     "text": [
      "[0.8886030 0.1610294 0.0941912 0.0777941 0.0745588 0.0728676 0.0711765 0.0702206 0.0698529 0.0692647]\n",
      "[0.0000000 -0.0000155 -0.0000184 -0.0000191 -0.0000192 -0.0000193 -0.0000194 -0.0000195 -0.0000196 -0.0000196]\n",
      "test：0.100000, test mean: 0.069265\n"
     ]
    },
    {
     "name": "stderr",
     "output_type": "stream",
     "text": [
      "\r",
      " 23%|██▎       | 171/750 [02:56<09:48,  1.02s/it]"
     ]
    },
    {
     "name": "stdout",
     "output_type": "stream",
     "text": [
      "[0.8885965 0.1608187 0.0942251 0.0779240 0.0747076 0.0730263 0.0713450 0.0703947 0.0700292 0.0694444]\n",
      "[0.0000000 -0.0000155 -0.0000184 -0.0000191 -0.0000192 -0.0000193 -0.0000194 -0.0000195 -0.0000196 -0.0000196]\n",
      "test：0.100000, test mean: 0.069444\n"
     ]
    },
    {
     "name": "stderr",
     "output_type": "stream",
     "text": [
      "\r",
      " 23%|██▎       | 172/750 [02:57<09:47,  1.02s/it]"
     ]
    },
    {
     "name": "stdout",
     "output_type": "stream",
     "text": [
      "[0.8887355 0.1609738 0.0944041 0.0781250 0.0748547 0.0731831 0.0715116 0.0705669 0.0702035 0.0696221]\n",
      "[0.0000000 -0.0000155 -0.0000184 -0.0000191 -0.0000192 -0.0000193 -0.0000194 -0.0000195 -0.0000196 -0.0000196]\n",
      "test：0.100000, test mean: 0.069622\n"
     ]
    },
    {
     "name": "stderr",
     "output_type": "stream",
     "text": [
      "\r",
      " 23%|██▎       | 173/750 [02:58<09:46,  1.02s/it]"
     ]
    },
    {
     "name": "stdout",
     "output_type": "stream",
     "text": [
      "[0.8889451 0.1610549 0.0945087 0.0782514 0.0750000 0.0733382 0.0716763 0.0707370 0.0703757 0.0697977]\n",
      "[0.0000000 -0.0000155 -0.0000184 -0.0000191 -0.0000192 -0.0000193 -0.0000194 -0.0000195 -0.0000196 -0.0000196]\n",
      "test：0.100000, test mean: 0.069798\n"
     ]
    },
    {
     "name": "stderr",
     "output_type": "stream",
     "text": [
      "\r",
      " 23%|██▎       | 174/750 [02:59<09:47,  1.02s/it]"
     ]
    },
    {
     "name": "stdout",
     "output_type": "stream",
     "text": [
      "[0.8886494 0.1611351 0.0944684 0.0782328 0.0748563 0.0732040 0.0715517 0.0706178 0.0702586 0.0696839]\n",
      "[0.0000000 -0.0000155 -0.0000184 -0.0000191 -0.0000193 -0.0000193 -0.0000194 -0.0000195 -0.0000196 -0.0000197]\n",
      "test：0.050000, test mean: 0.069684\n"
     ]
    },
    {
     "name": "stderr",
     "output_type": "stream",
     "text": [
      "\r",
      " 23%|██▎       | 175/750 [03:00<09:45,  1.02s/it]"
     ]
    },
    {
     "name": "stdout",
     "output_type": "stream",
     "text": [
      "[0.8885000 0.1612143 0.0942857 0.0781429 0.0747857 0.0731429 0.0715000 0.0705714 0.0702143 0.0696429]\n",
      "[0.0000000 -0.0000155 -0.0000184 -0.0000192 -0.0000193 -0.0000194 -0.0000194 -0.0000195 -0.0000196 -0.0000197]\n",
      "test：0.062500, test mean: 0.069643\n"
     ]
    },
    {
     "name": "stderr",
     "output_type": "stream",
     "text": [
      "\r",
      " 23%|██▎       | 176/750 [03:01<09:43,  1.02s/it]"
     ]
    },
    {
     "name": "stdout",
     "output_type": "stream",
     "text": [
      "[0.8885654 0.1610795 0.0943182 0.0782670 0.0749290 0.0732955 0.0716619 0.0707386 0.0703835 0.0698153]\n",
      "[0.0000000 -0.0000155 -0.0000184 -0.0000192 -0.0000193 -0.0000194 -0.0000194 -0.0000195 -0.0000196 -0.0000197]\n",
      "test：0.100000, test mean: 0.069815\n"
     ]
    },
    {
     "name": "stderr",
     "output_type": "stream",
     "text": [
      "\r",
      " 24%|██▎       | 177/750 [03:02<09:41,  1.01s/it]"
     ]
    },
    {
     "name": "stdout",
     "output_type": "stream",
     "text": [
      "[0.8887712 0.1612288 0.0945621 0.0785311 0.0751412 0.0735170 0.0718927 0.0709746 0.0706215 0.0700565]\n",
      "[0.0000000 -0.0000155 -0.0000184 -0.0000192 -0.0000193 -0.0000194 -0.0000194 -0.0000195 -0.0000196 -0.0000197]\n",
      "test：0.112500, test mean: 0.070056\n"
     ]
    },
    {
     "name": "stderr",
     "output_type": "stream",
     "text": [
      "\r",
      " 24%|██▎       | 178/750 [03:03<09:39,  1.01s/it]"
     ]
    },
    {
     "name": "stdout",
     "output_type": "stream",
     "text": [
      "[0.8888343 0.1611657 0.0944522 0.0784410 0.0750702 0.0734551 0.0718399 0.0709270 0.0705758 0.0700140]\n",
      "[0.0000000 -0.0000155 -0.0000184 -0.0000191 -0.0000193 -0.0000193 -0.0000194 -0.0000195 -0.0000196 -0.0000197]\n",
      "test：0.062500, test mean: 0.070014\n"
     ]
    },
    {
     "name": "stderr",
     "output_type": "stream",
     "text": [
      "\r",
      " 24%|██▍       | 179/750 [03:04<09:39,  1.01s/it]"
     ]
    },
    {
     "name": "stdout",
     "output_type": "stream",
     "text": [
      "[0.8891062 0.1610335 0.0941341 0.0782123 0.0748603 0.0732542 0.0716480 0.0707402 0.0703911 0.0698324]\n",
      "[0.0000000 -0.0000155 -0.0000184 -0.0000192 -0.0000193 -0.0000194 -0.0000195 -0.0000195 -0.0000196 -0.0000197]\n",
      "test：0.037500, test mean: 0.069832\n"
     ]
    },
    {
     "name": "stderr",
     "output_type": "stream",
     "text": [
      "\r",
      " 24%|██▍       | 180/750 [03:05<09:38,  1.01s/it]"
     ]
    },
    {
     "name": "stdout",
     "output_type": "stream",
     "text": [
      "[0.8893750 0.1607639 0.0939583 0.0781250 0.0747917 0.0731944 0.0715972 0.0706944 0.0703472 0.0697917]\n",
      "[0.0000000 -0.0000155 -0.0000184 -0.0000192 -0.0000193 -0.0000194 -0.0000195 -0.0000195 -0.0000196 -0.0000197]\n",
      "test：0.062500, test mean: 0.069792\n"
     ]
    },
    {
     "name": "stderr",
     "output_type": "stream",
     "text": [
      "\r",
      " 24%|██▍       | 181/750 [03:06<09:37,  1.01s/it]"
     ]
    },
    {
     "name": "stdout",
     "output_type": "stream",
     "text": [
      "[0.8893647 0.1604972 0.0939227 0.0780387 0.0747238 0.0731354 0.0715470 0.0706492 0.0703039 0.0697514]\n",
      "[0.0000000 -0.0000155 -0.0000185 -0.0000192 -0.0000193 -0.0000194 -0.0000195 -0.0000195 -0.0000196 -0.0000197]\n",
      "test：0.062500, test mean: 0.069751\n"
     ]
    },
    {
     "name": "stderr",
     "output_type": "stream",
     "text": [
      "\r",
      " 24%|██▍       | 182/750 [03:07<09:36,  1.02s/it]"
     ]
    },
    {
     "name": "stdout",
     "output_type": "stream",
     "text": [
      "[0.8895605 0.1603709 0.0936126 0.0777473 0.0744506 0.0728709 0.0712912 0.0703984 0.0700549 0.0695055]\n",
      "[0.0000000 -0.0000155 -0.0000185 -0.0000192 -0.0000193 -0.0000194 -0.0000195 -0.0000195 -0.0000196 -0.0000197]\n",
      "test：0.025000, test mean: 0.069505\n"
     ]
    },
    {
     "name": "stderr",
     "output_type": "stream",
     "text": [
      "\r",
      " 24%|██▍       | 183/750 [03:08<09:36,  1.02s/it]"
     ]
    },
    {
     "name": "stdout",
     "output_type": "stream",
     "text": [
      "[0.8896175 0.1604508 0.0936475 0.0776639 0.0743852 0.0728142 0.0712432 0.0703552 0.0700137 0.0694672]\n",
      "[0.0000000 -0.0000155 -0.0000185 -0.0000192 -0.0000193 -0.0000194 -0.0000195 -0.0000195 -0.0000196 -0.0000197]\n",
      "test：0.062500, test mean: 0.069467\n"
     ]
    },
    {
     "name": "stderr",
     "output_type": "stream",
     "text": [
      "\r",
      " 25%|██▍       | 184/750 [03:09<09:35,  1.02s/it]"
     ]
    },
    {
     "name": "stdout",
     "output_type": "stream",
     "text": [
      "[0.8895381 0.1610054 0.0940897 0.0779891 0.0747283 0.0731658 0.0716033 0.0707201 0.0703804 0.0698370]\n",
      "[0.0000000 -0.0000155 -0.0000185 -0.0000192 -0.0000193 -0.0000194 -0.0000195 -0.0000195 -0.0000196 -0.0000197]\n",
      "test：0.137500, test mean: 0.069837\n"
     ]
    },
    {
     "name": "stderr",
     "output_type": "stream",
     "text": [
      "\r",
      " 25%|██▍       | 185/750 [03:10<09:34,  1.02s/it]"
     ]
    },
    {
     "name": "stdout",
     "output_type": "stream",
     "text": [
      "[0.8892568 0.1608784 0.0941216 0.0779054 0.0746622 0.0731081 0.0715541 0.0706757 0.0703378 0.0697973]\n",
      "[0.0000000 -0.0000155 -0.0000185 -0.0000192 -0.0000193 -0.0000194 -0.0000195 -0.0000196 -0.0000196 -0.0000197]\n",
      "test：0.062500, test mean: 0.069797\n"
     ]
    },
    {
     "name": "stderr",
     "output_type": "stream",
     "text": [
      "\r",
      " 25%|██▍       | 186/750 [03:11<09:33,  1.02s/it]"
     ]
    },
    {
     "name": "stdout",
     "output_type": "stream",
     "text": [
      "[0.8892473 0.1604839 0.0939516 0.0778226 0.0745968 0.0730511 0.0715054 0.0706317 0.0702957 0.0697581]\n",
      "[0.0000000 -0.0000155 -0.0000185 -0.0000192 -0.0000193 -0.0000194 -0.0000195 -0.0000195 -0.0000196 -0.0000197]\n",
      "test：0.062500, test mean: 0.069758\n"
     ]
    },
    {
     "name": "stderr",
     "output_type": "stream",
     "text": [
      "\r",
      " 25%|██▍       | 187/750 [03:12<09:32,  1.02s/it]"
     ]
    },
    {
     "name": "stdout",
     "output_type": "stream",
     "text": [
      "[0.8891711 0.1602941 0.0937834 0.0777406 0.0745321 0.0729947 0.0714572 0.0705882 0.0702540 0.0697193]\n",
      "[0.0000000 -0.0000155 -0.0000184 -0.0000192 -0.0000193 -0.0000194 -0.0000195 -0.0000195 -0.0000196 -0.0000197]\n",
      "test：0.062500, test mean: 0.069719\n"
     ]
    },
    {
     "name": "stderr",
     "output_type": "stream",
     "text": [
      "\r",
      " 25%|██▌       | 188/750 [03:13<09:31,  1.02s/it]"
     ]
    },
    {
     "name": "stdout",
     "output_type": "stream",
     "text": [
      "[0.8891622 0.1603723 0.0940824 0.0779255 0.0747340 0.0731383 0.0715426 0.0706782 0.0703457 0.0698138]\n",
      "[0.0000000 -0.0000155 -0.0000184 -0.0000192 -0.0000193 -0.0000194 -0.0000195 -0.0000195 -0.0000196 -0.0000197]\n",
      "test：0.087500, test mean: 0.069814\n"
     ]
    },
    {
     "name": "stderr",
     "output_type": "stream",
     "text": [
      "\r",
      " 25%|██▌       | 189/750 [03:14<09:30,  1.02s/it]"
     ]
    },
    {
     "name": "stdout",
     "output_type": "stream",
     "text": [
      "[0.8892196 0.1607804 0.0945106 0.0783069 0.0751323 0.0734788 0.0718915 0.0709656 0.0706349 0.0701058]\n",
      "[0.0000000 -0.0000155 -0.0000184 -0.0000192 -0.0000193 -0.0000194 -0.0000195 -0.0000195 -0.0000196 -0.0000197]\n",
      "test：0.125000, test mean: 0.070106\n"
     ]
    },
    {
     "name": "stderr",
     "output_type": "stream",
     "text": [
      "\r",
      " 25%|██▌       | 190/750 [03:15<09:29,  1.02s/it]"
     ]
    },
    {
     "name": "stdout",
     "output_type": "stream",
     "text": [
      "[0.8894079 0.1609211 0.0944737 0.0782895 0.0751316 0.0734868 0.0719079 0.0709868 0.0706579 0.0701316]\n",
      "[0.0000000 -0.0000155 -0.0000184 -0.0000192 -0.0000193 -0.0000194 -0.0000194 -0.0000195 -0.0000196 -0.0000197]\n",
      "test：0.075000, test mean: 0.070132\n"
     ]
    },
    {
     "name": "stderr",
     "output_type": "stream",
     "text": [
      "\r",
      " 25%|██▌       | 191/750 [03:16<09:28,  1.02s/it]"
     ]
    },
    {
     "name": "stdout",
     "output_type": "stream",
     "text": [
      "[0.8892670 0.1611911 0.0946990 0.0784686 0.0753272 0.0736257 0.0720550 0.0711387 0.0708115 0.0702880]\n",
      "[0.0000000 -0.0000155 -0.0000184 -0.0000192 -0.0000193 -0.0000194 -0.0000195 -0.0000195 -0.0000196 -0.0000197]\n",
      "test：0.100000, test mean: 0.070288\n"
     ]
    },
    {
     "name": "stderr",
     "output_type": "stream",
     "text": [
      "\r",
      " 26%|██▌       | 192/750 [03:17<09:27,  1.02s/it]"
     ]
    },
    {
     "name": "stdout",
     "output_type": "stream",
     "text": [
      "[0.8894531 0.1611328 0.0945964 0.0785156 0.0753255 0.0736328 0.0720703 0.0711589 0.0708333 0.0703125]\n",
      "[0.0000000 -0.0000155 -0.0000184 -0.0000192 -0.0000193 -0.0000194 -0.0000195 -0.0000195 -0.0000196 -0.0000197]\n",
      "test：0.075000, test mean: 0.070312\n"
     ]
    },
    {
     "name": "stderr",
     "output_type": "stream",
     "text": [
      "\r",
      " 26%|██▌       | 193/750 [03:18<09:26,  1.02s/it]"
     ]
    },
    {
     "name": "stdout",
     "output_type": "stream",
     "text": [
      "[0.8895078 0.1616580 0.0950130 0.0788212 0.0756477 0.0739637 0.0724093 0.0715026 0.0711788 0.0706606]\n",
      "[0.0000000 -0.0000155 -0.0000184 -0.0000192 -0.0000193 -0.0000194 -0.0000194 -0.0000195 -0.0000196 -0.0000197]\n",
      "test：0.137500, test mean: 0.070661\n"
     ]
    },
    {
     "name": "stderr",
     "output_type": "stream",
     "text": [
      "\r",
      " 26%|██▌       | 194/750 [03:19<09:25,  1.02s/it]"
     ]
    },
    {
     "name": "stdout",
     "output_type": "stream",
     "text": [
      "[0.8896907 0.1618557 0.0950387 0.0788660 0.0757088 0.0739691 0.0724227 0.0715206 0.0711985 0.0706830]\n",
      "[0.0000000 -0.0000155 -0.0000184 -0.0000192 -0.0000193 -0.0000194 -0.0000194 -0.0000195 -0.0000196 -0.0000197]\n",
      "test：0.075000, test mean: 0.070683\n"
     ]
    },
    {
     "name": "stderr",
     "output_type": "stream",
     "text": [
      "\r",
      " 26%|██▌       | 195/750 [03:20<09:24,  1.02s/it]"
     ]
    },
    {
     "name": "stdout",
     "output_type": "stream",
     "text": [
      "[0.8895513 0.1618590 0.0951282 0.0790385 0.0758974 0.0741667 0.0726282 0.0717308 0.0714103 0.0708974]\n",
      "[0.0000000 -0.0000155 -0.0000184 -0.0000192 -0.0000193 -0.0000194 -0.0000194 -0.0000195 -0.0000196 -0.0000197]\n",
      "test：0.112500, test mean: 0.070897\n"
     ]
    },
    {
     "name": "stderr",
     "output_type": "stream",
     "text": [
      "\r",
      " 26%|██▌       | 196/750 [03:21<09:23,  1.02s/it]"
     ]
    },
    {
     "name": "stdout",
     "output_type": "stream",
     "text": [
      "[0.8894771 0.1613520 0.0948980 0.0788265 0.0756378 0.0739158 0.0723852 0.0714923 0.0711735 0.0706633]\n",
      "[0.0000000 -0.0000155 -0.0000184 -0.0000192 -0.0000193 -0.0000194 -0.0000194 -0.0000195 -0.0000196 -0.0000197]\n",
      "test：0.025000, test mean: 0.070663\n"
     ]
    },
    {
     "name": "stderr",
     "output_type": "stream",
     "text": [
      "\r",
      " 26%|██▋       | 197/750 [03:22<09:22,  1.02s/it]"
     ]
    },
    {
     "name": "stdout",
     "output_type": "stream",
     "text": [
      "[0.8893401 0.1614213 0.0947970 0.0788071 0.0756345 0.0739213 0.0723985 0.0715102 0.0711929 0.0706853]\n",
      "[0.0000000 -0.0000155 -0.0000184 -0.0000192 -0.0000193 -0.0000194 -0.0000195 -0.0000195 -0.0000196 -0.0000197]\n",
      "test：0.075000, test mean: 0.070685\n"
     ]
    },
    {
     "name": "stderr",
     "output_type": "stream",
     "text": [
      "\r",
      " 26%|██▋       | 198/750 [03:24<09:21,  1.02s/it]"
     ]
    },
    {
     "name": "stdout",
     "output_type": "stream",
     "text": [
      "[0.8895202 0.1615530 0.0948232 0.0788510 0.0756944 0.0739899 0.0724747 0.0715909 0.0712121 0.0707071]\n",
      "[0.0000000 -0.0000155 -0.0000184 -0.0000192 -0.0000193 -0.0000194 -0.0000194 -0.0000195 -0.0000196 -0.0000197]\n",
      "test：0.075000, test mean: 0.070707\n"
     ]
    },
    {
     "name": "stderr",
     "output_type": "stream",
     "text": [
      "\r",
      " 27%|██▋       | 199/750 [03:25<09:20,  1.02s/it]"
     ]
    },
    {
     "name": "stdout",
     "output_type": "stream",
     "text": [
      "[0.8895101 0.1618090 0.0948492 0.0788945 0.0756910 0.0739950 0.0724874 0.0716080 0.0712312 0.0707286]\n",
      "[0.0000000 -0.0000155 -0.0000184 -0.0000192 -0.0000193 -0.0000194 -0.0000194 -0.0000195 -0.0000196 -0.0000197]\n",
      "test：0.075000, test mean: 0.070729\n"
     ]
    },
    {
     "name": "stderr",
     "output_type": "stream",
     "text": [
      "\r",
      " 27%|██▋       | 200/750 [03:26<09:19,  1.02s/it]"
     ]
    },
    {
     "name": "stdout",
     "output_type": "stream",
     "text": [
      "[0.8891875 0.1617500 0.0948125 0.0789375 0.0756875 0.0739375 0.0724375 0.0715625 0.0711875 0.0706875]\n",
      "[0.0000000 -0.0000155 -0.0000184 -0.0000192 -0.0000193 -0.0000194 -0.0000195 -0.0000195 -0.0000196 -0.0000197]\n",
      "test：0.062500, test mean: 0.070688\n"
     ]
    },
    {
     "name": "stderr",
     "output_type": "stream",
     "text": [
      "\r",
      " 27%|██▋       | 201/750 [03:27<09:18,  1.02s/it]"
     ]
    },
    {
     "name": "stdout",
     "output_type": "stream",
     "text": [
      "[0.8889925 0.1615672 0.0947139 0.0787935 0.0755597 0.0738184 0.0723259 0.0713930 0.0710199 0.0705224]\n",
      "[0.0000000 -0.0000155 -0.0000184 -0.0000192 -0.0000193 -0.0000194 -0.0000194 -0.0000195 -0.0000196 -0.0000197]\n",
      "test：0.037500, test mean: 0.070522\n"
     ]
    },
    {
     "name": "stderr",
     "output_type": "stream",
     "text": [
      "\r",
      " 27%|██▋       | 202/750 [03:28<09:17,  1.02s/it]"
     ]
    },
    {
     "name": "stdout",
     "output_type": "stream",
     "text": [
      "[0.8892946 0.1616337 0.0947401 0.0788985 0.0756188 0.0738861 0.0724010 0.0714728 0.0711015 0.0706064]\n",
      "[0.0000000 -0.0000155 -0.0000184 -0.0000192 -0.0000193 -0.0000194 -0.0000195 -0.0000195 -0.0000196 -0.0000197]\n",
      "test：0.087500, test mean: 0.070606\n"
     ]
    },
    {
     "name": "stderr",
     "output_type": "stream",
     "text": [
      "\r",
      " 27%|██▋       | 203/750 [03:29<09:16,  1.02s/it]"
     ]
    },
    {
     "name": "stdout",
     "output_type": "stream",
     "text": [
      "[0.8893473 0.1620074 0.0948276 0.0790640 0.0758005 0.0740764 0.0725985 0.0716749 0.0713054 0.0708128]\n",
      "[0.0000000 -0.0000155 -0.0000184 -0.0000192 -0.0000193 -0.0000194 -0.0000195 -0.0000195 -0.0000196 -0.0000197]\n",
      "test：0.112500, test mean: 0.070813\n"
     ]
    },
    {
     "name": "stderr",
     "output_type": "stream",
     "text": [
      "\r",
      " 27%|██▋       | 204/750 [03:30<09:15,  1.02s/it]"
     ]
    },
    {
     "name": "stdout",
     "output_type": "stream",
     "text": [
      "[0.8896446 0.1618260 0.0947304 0.0789828 0.0757353 0.0740196 0.0725490 0.0716299 0.0712623 0.0707721]\n",
      "[0.0000000 -0.0000155 -0.0000184 -0.0000192 -0.0000193 -0.0000194 -0.0000195 -0.0000195 -0.0000196 -0.0000197]\n",
      "test：0.062500, test mean: 0.070772\n"
     ]
    },
    {
     "name": "stderr",
     "output_type": "stream",
     "text": [
      "\r",
      " 27%|██▋       | 205/750 [03:31<09:14,  1.02s/it]"
     ]
    },
    {
     "name": "stdout",
     "output_type": "stream",
     "text": [
      "[0.8899390 0.1618902 0.0949390 0.0789634 0.0757317 0.0740244 0.0725610 0.0716463 0.0712805 0.0707927]\n",
      "[0.0000000 -0.0000155 -0.0000184 -0.0000192 -0.0000193 -0.0000194 -0.0000195 -0.0000195 -0.0000196 -0.0000197]\n",
      "test：0.075000, test mean: 0.070793\n"
     ]
    },
    {
     "name": "stderr",
     "output_type": "stream",
     "text": [
      "\r",
      " 27%|██▋       | 206/750 [03:32<09:13,  1.02s/it]"
     ]
    },
    {
     "name": "stdout",
     "output_type": "stream",
     "text": [
      "[0.8898665 0.1617718 0.0949029 0.0789442 0.0757282 0.0739684 0.0725121 0.0716019 0.0712379 0.0707524]\n",
      "[0.0000000 -0.0000155 -0.0000185 -0.0000192 -0.0000193 -0.0000194 -0.0000195 -0.0000196 -0.0000196 -0.0000197]\n",
      "test：0.062500, test mean: 0.070752\n"
     ]
    },
    {
     "name": "stderr",
     "output_type": "stream",
     "text": [
      "\r",
      " 28%|██▊       | 207/750 [03:33<09:13,  1.02s/it]"
     ]
    },
    {
     "name": "stdout",
     "output_type": "stream",
     "text": [
      "[0.8897343 0.1614734 0.0948068 0.0788647 0.0756039 0.0738527 0.0724034 0.0714976 0.0711353 0.0706522]\n",
      "[0.0000000 -0.0000155 -0.0000185 -0.0000192 -0.0000193 -0.0000194 -0.0000195 -0.0000196 -0.0000196 -0.0000197]\n",
      "test：0.050000, test mean: 0.070652\n"
     ]
    },
    {
     "name": "stderr",
     "output_type": "stream",
     "text": [
      "\r",
      " 28%|██▊       | 208/750 [03:34<09:14,  1.02s/it]"
     ]
    },
    {
     "name": "stdout",
     "output_type": "stream",
     "text": [
      "[0.8896635 0.1615385 0.0949519 0.0789663 0.0757212 0.0739784 0.0725361 0.0716346 0.0712740 0.0707933]\n",
      "[0.0000000 -0.0000155 -0.0000185 -0.0000192 -0.0000193 -0.0000194 -0.0000195 -0.0000196 -0.0000196 -0.0000197]\n",
      "test：0.100000, test mean: 0.070793\n"
     ]
    },
    {
     "name": "stderr",
     "output_type": "stream",
     "text": [
      "\r",
      " 28%|██▊       | 209/750 [03:35<09:13,  1.02s/it]"
     ]
    },
    {
     "name": "stdout",
     "output_type": "stream",
     "text": [
      "[0.8898325 0.1616029 0.0949163 0.0788876 0.0756579 0.0739234 0.0724880 0.0715909 0.0712321 0.0707536]\n",
      "[0.0000000 -0.0000155 -0.0000184 -0.0000192 -0.0000193 -0.0000194 -0.0000195 -0.0000196 -0.0000196 -0.0000197]\n",
      "test：0.062500, test mean: 0.070754\n"
     ]
    },
    {
     "name": "stderr",
     "output_type": "stream",
     "text": [
      "\r",
      " 28%|██▊       | 210/750 [03:36<09:11,  1.02s/it]"
     ]
    },
    {
     "name": "stdout",
     "output_type": "stream",
     "text": [
      "[0.8897024 0.1618452 0.0951190 0.0790476 0.0758333 0.0741071 0.0726786 0.0717857 0.0714286 0.0709524]\n",
      "[0.0000000 -0.0000155 -0.0000184 -0.0000192 -0.0000193 -0.0000194 -0.0000195 -0.0000196 -0.0000196 -0.0000197]\n",
      "test：0.112500, test mean: 0.070952\n"
     ]
    },
    {
     "name": "stderr",
     "output_type": "stream",
     "text": [
      "\r",
      " 28%|██▊       | 211/750 [03:37<09:10,  1.02s/it]"
     ]
    },
    {
     "name": "stdout",
     "output_type": "stream",
     "text": [
      "[0.8896327 0.1620261 0.0952014 0.0790284 0.0757701 0.0740521 0.0726303 0.0717417 0.0713863 0.0709123]\n",
      "[0.0000000 -0.0000155 -0.0000185 -0.0000192 -0.0000193 -0.0000194 -0.0000195 -0.0000196 -0.0000196 -0.0000197]\n",
      "test：0.062500, test mean: 0.070912\n"
     ]
    },
    {
     "name": "stderr",
     "output_type": "stream",
     "text": [
      "\r",
      " 28%|██▊       | 212/750 [03:38<09:06,  1.02s/it]"
     ]
    },
    {
     "name": "stdout",
     "output_type": "stream",
     "text": [
      "[0.8896816 0.1620873 0.0951651 0.0790094 0.0757665 0.0740566 0.0725825 0.0716981 0.0713443 0.0708726]\n",
      "[0.0000000 -0.0000155 -0.0000184 -0.0000192 -0.0000193 -0.0000194 -0.0000195 -0.0000196 -0.0000196 -0.0000197]\n",
      "test：0.062500, test mean: 0.070873\n"
     ]
    },
    {
     "name": "stderr",
     "output_type": "stream",
     "text": [
      "\r",
      " 28%|██▊       | 213/750 [03:39<09:04,  1.01s/it]"
     ]
    },
    {
     "name": "stdout",
     "output_type": "stream",
     "text": [
      "[0.8897301 0.1620892 0.0948944 0.0788146 0.0755869 0.0738850 0.0724178 0.0715376 0.0711854 0.0707160]\n",
      "[0.0000000 -0.0000155 -0.0000185 -0.0000192 -0.0000193 -0.0000194 -0.0000195 -0.0000196 -0.0000197 -0.0000197]\n",
      "test：0.037500, test mean: 0.070716\n"
     ]
    },
    {
     "name": "stderr",
     "output_type": "stream",
     "text": [
      "\r",
      " 29%|██▊       | 214/750 [03:40<09:02,  1.01s/it]"
     ]
    },
    {
     "name": "stdout",
     "output_type": "stream",
     "text": [
      "[0.8897780 0.1623832 0.0949182 0.0787383 0.0755257 0.0738318 0.0723715 0.0714953 0.0711449 0.0706776]\n",
      "[0.0000000 -0.0000155 -0.0000185 -0.0000192 -0.0000193 -0.0000194 -0.0000195 -0.0000196 -0.0000197 -0.0000198]\n",
      "test：0.062500, test mean: 0.070678\n"
     ]
    },
    {
     "name": "stderr",
     "output_type": "stream",
     "text": [
      "\r",
      " 29%|██▊       | 215/750 [03:41<09:00,  1.01s/it]"
     ]
    },
    {
     "name": "stdout",
     "output_type": "stream",
     "text": [
      "[0.8897675 0.1627907 0.0952326 0.0787209 0.0754070 0.0737209 0.0722674 0.0713953 0.0710465 0.0705814]\n",
      "[0.0000000 -0.0000155 -0.0000185 -0.0000192 -0.0000193 -0.0000194 -0.0000195 -0.0000196 -0.0000197 -0.0000198]\n",
      "test：0.050000, test mean: 0.070581\n"
     ]
    },
    {
     "name": "stderr",
     "output_type": "stream",
     "text": [
      "\r",
      " 29%|██▉       | 216/750 [03:42<09:00,  1.01s/it]"
     ]
    },
    {
     "name": "stdout",
     "output_type": "stream",
     "text": [
      "[0.8898148 0.1628472 0.0951968 0.0787616 0.0754630 0.0737847 0.0723380 0.0714699 0.0711227 0.0706597]\n",
      "[0.0000000 -0.0000155 -0.0000185 -0.0000192 -0.0000193 -0.0000194 -0.0000195 -0.0000196 -0.0000197 -0.0000197]\n",
      "test：0.087500, test mean: 0.070660\n"
     ]
    },
    {
     "name": "stderr",
     "output_type": "stream",
     "text": [
      "\r",
      " 29%|██▉       | 217/750 [03:43<09:00,  1.01s/it]"
     ]
    },
    {
     "name": "stdout",
     "output_type": "stream",
     "text": [
      "[0.8899770 0.1630184 0.0951613 0.0786866 0.0752880 0.0736175 0.0721774 0.0713134 0.0709677 0.0705069]\n",
      "[0.0000000 -0.0000155 -0.0000185 -0.0000192 -0.0000193 -0.0000194 -0.0000195 -0.0000196 -0.0000197 -0.0000197]\n",
      "test：0.037500, test mean: 0.070507\n"
     ]
    },
    {
     "name": "stderr",
     "output_type": "stream",
     "text": [
      "\r",
      " 29%|██▉       | 218/750 [03:44<09:00,  1.02s/it]"
     ]
    },
    {
     "name": "stdout",
     "output_type": "stream",
     "text": [
      "[0.8899656 0.1628440 0.0951835 0.0786124 0.0752294 0.0735665 0.0721330 0.0712729 0.0709289 0.0704702]\n",
      "[0.0000000 -0.0000155 -0.0000185 -0.0000192 -0.0000193 -0.0000194 -0.0000195 -0.0000196 -0.0000197 -0.0000197]\n",
      "test：0.062500, test mean: 0.070470\n"
     ]
    },
    {
     "name": "stderr",
     "output_type": "stream",
     "text": [
      "\r",
      " 29%|██▉       | 219/750 [03:45<08:59,  1.02s/it]"
     ]
    },
    {
     "name": "stdout",
     "output_type": "stream",
     "text": [
      "[0.8896119 0.1625000 0.0950342 0.0784247 0.0750571 0.0734018 0.0719749 0.0711187 0.0707763 0.0703196]\n",
      "[0.0000000 -0.0000155 -0.0000184 -0.0000192 -0.0000193 -0.0000194 -0.0000195 -0.0000196 -0.0000196 -0.0000197]\n",
      "test：0.037500, test mean: 0.070320\n"
     ]
    },
    {
     "name": "stderr",
     "output_type": "stream",
     "text": [
      "\r",
      " 29%|██▉       | 220/750 [03:46<08:58,  1.02s/it]"
     ]
    },
    {
     "name": "stdout",
     "output_type": "stream",
     "text": [
      "[0.8896023 0.1628409 0.0951705 0.0785227 0.0751705 0.0734091 0.0719886 0.0711364 0.0707955 0.0703409]\n",
      "[0.0000000 -0.0000155 -0.0000184 -0.0000192 -0.0000193 -0.0000194 -0.0000195 -0.0000196 -0.0000196 -0.0000197]\n",
      "test：0.075000, test mean: 0.070341\n"
     ]
    },
    {
     "name": "stderr",
     "output_type": "stream",
     "text": [
      "\r",
      " 29%|██▉       | 221/750 [03:47<08:57,  1.02s/it]"
     ]
    },
    {
     "name": "stdout",
     "output_type": "stream",
     "text": [
      "[0.8893665 0.1629525 0.0953620 0.0785633 0.0752262 0.0734163 0.0719457 0.0710973 0.0707579 0.0703054]\n",
      "[0.0000000 -0.0000155 -0.0000184 -0.0000192 -0.0000193 -0.0000194 -0.0000195 -0.0000196 -0.0000196 -0.0000197]\n",
      "test：0.062500, test mean: 0.070305\n"
     ]
    },
    {
     "name": "stderr",
     "output_type": "stream",
     "text": [
      "\r",
      " 30%|██▉       | 222/750 [03:48<08:55,  1.01s/it]"
     ]
    },
    {
     "name": "stdout",
     "output_type": "stream",
     "text": [
      "[0.8891329 0.1627252 0.0950450 0.0782658 0.0749437 0.0731419 0.0716779 0.0708333 0.0704955 0.0700450]\n",
      "[0.0000000 -0.0000155 -0.0000184 -0.0000192 -0.0000193 -0.0000194 -0.0000195 -0.0000196 -0.0000196 -0.0000197]\n",
      "test：0.012500, test mean: 0.070045\n"
     ]
    },
    {
     "name": "stderr",
     "output_type": "stream",
     "text": [
      "\r",
      " 30%|██▉       | 223/750 [03:49<08:53,  1.01s/it]"
     ]
    },
    {
     "name": "stdout",
     "output_type": "stream",
     "text": [
      "[0.8890695 0.1624439 0.0947309 0.0780269 0.0747197 0.0729260 0.0714686 0.0706278 0.0702915 0.0698430]\n",
      "[0.0000000 -0.0000155 -0.0000184 -0.0000192 -0.0000193 -0.0000194 -0.0000195 -0.0000196 -0.0000196 -0.0000197]\n",
      "test：0.025000, test mean: 0.069843\n"
     ]
    },
    {
     "name": "stderr",
     "output_type": "stream",
     "text": [
      "\r",
      " 30%|██▉       | 224/750 [03:50<08:51,  1.01s/it]"
     ]
    },
    {
     "name": "stdout",
     "output_type": "stream",
     "text": [
      "[0.8891183 0.1623884 0.0947545 0.0781250 0.0747768 0.0729911 0.0715402 0.0707031 0.0703683 0.0699219]\n",
      "[0.0000000 -0.0000155 -0.0000184 -0.0000192 -0.0000193 -0.0000194 -0.0000195 -0.0000196 -0.0000196 -0.0000197]\n",
      "test：0.087500, test mean: 0.069922\n"
     ]
    },
    {
     "name": "stderr",
     "output_type": "stream",
     "text": [
      "\r",
      " 30%|███       | 225/750 [03:51<08:50,  1.01s/it]"
     ]
    },
    {
     "name": "stdout",
     "output_type": "stream",
     "text": [
      "[0.8891667 0.1623333 0.0946667 0.0781111 0.0747222 0.0729444 0.0715000 0.0706667 0.0703333 0.0698889]\n",
      "[0.0000000 -0.0000155 -0.0000185 -0.0000192 -0.0000193 -0.0000194 -0.0000195 -0.0000196 -0.0000196 -0.0000197]\n",
      "test：0.062500, test mean: 0.069889\n"
     ]
    },
    {
     "name": "stderr",
     "output_type": "stream",
     "text": [
      "\r",
      " 30%|███       | 226/750 [03:52<08:49,  1.01s/it]"
     ]
    },
    {
     "name": "stdout",
     "output_type": "stream",
     "text": [
      "[0.8892146 0.1625000 0.0948009 0.0781527 0.0747235 0.0728982 0.0714602 0.0706305 0.0702987 0.0698562]\n",
      "[0.0000000 -0.0000155 -0.0000185 -0.0000192 -0.0000193 -0.0000194 -0.0000195 -0.0000196 -0.0000197 -0.0000197]\n",
      "test：0.062500, test mean: 0.069856\n"
     ]
    },
    {
     "name": "stderr",
     "output_type": "stream",
     "text": [
      "\r",
      " 30%|███       | 227/750 [03:53<08:48,  1.01s/it]"
     ]
    },
    {
     "name": "stdout",
     "output_type": "stream",
     "text": [
      "[0.8891520 0.1624449 0.0946586 0.0779736 0.0745595 0.0727423 0.0713106 0.0704846 0.0701542 0.0697137]\n",
      "[0.0000000 -0.0000155 -0.0000185 -0.0000192 -0.0000193 -0.0000194 -0.0000195 -0.0000196 -0.0000197 -0.0000197]\n",
      "test：0.037500, test mean: 0.069714\n"
     ]
    },
    {
     "name": "stderr",
     "output_type": "stream",
     "text": [
      "\r",
      " 30%|███       | 228/750 [03:54<08:47,  1.01s/it]"
     ]
    },
    {
     "name": "stdout",
     "output_type": "stream",
     "text": [
      "[0.8894737 0.1626645 0.0946820 0.0780702 0.0746711 0.0728070 0.0713816 0.0705592 0.0702303 0.0697917]\n",
      "[0.0000000 -0.0000155 -0.0000185 -0.0000192 -0.0000193 -0.0000194 -0.0000195 -0.0000196 -0.0000197 -0.0000198]\n",
      "test：0.087500, test mean: 0.069792\n"
     ]
    },
    {
     "name": "stderr",
     "output_type": "stream",
     "text": [
      "\r",
      " 31%|███       | 229/750 [03:55<08:47,  1.01s/it]"
     ]
    },
    {
     "name": "stdout",
     "output_type": "stream",
     "text": [
      "[0.8895742 0.1628275 0.0947598 0.0781114 0.0746179 0.0727620 0.0713428 0.0705240 0.0701965 0.0697598]\n",
      "[0.0000000 -0.0000155 -0.0000185 -0.0000192 -0.0000193 -0.0000194 -0.0000195 -0.0000196 -0.0000197 -0.0000198]\n",
      "test：0.062500, test mean: 0.069760\n"
     ]
    },
    {
     "name": "stderr",
     "output_type": "stream",
     "text": [
      "\r",
      " 31%|███       | 230/750 [03:56<08:46,  1.01s/it]"
     ]
    },
    {
     "name": "stdout",
     "output_type": "stream",
     "text": [
      "[0.8897283 0.1628261 0.0947283 0.0781522 0.0746739 0.0727717 0.0713587 0.0705435 0.0702174 0.0697826]\n",
      "[0.0000000 -0.0000155 -0.0000185 -0.0000192 -0.0000193 -0.0000194 -0.0000195 -0.0000196 -0.0000197 -0.0000197]\n",
      "test：0.075000, test mean: 0.069783\n"
     ]
    },
    {
     "name": "stderr",
     "output_type": "stream",
     "text": [
      "\r",
      " 31%|███       | 231/750 [03:57<08:45,  1.01s/it]"
     ]
    },
    {
     "name": "stdout",
     "output_type": "stream",
     "text": [
      "[0.8896645 0.1628788 0.0947511 0.0781385 0.0746753 0.0727814 0.0713745 0.0705628 0.0702381 0.0698052]\n",
      "[0.0000000 -0.0000155 -0.0000185 -0.0000192 -0.0000193 -0.0000194 -0.0000195 -0.0000196 -0.0000197 -0.0000198]\n",
      "test：0.075000, test mean: 0.069805\n"
     ]
    },
    {
     "name": "stderr",
     "output_type": "stream",
     "text": [
      "\r",
      " 31%|███       | 232/750 [03:58<08:45,  1.01s/it]"
     ]
    },
    {
     "name": "stdout",
     "output_type": "stream",
     "text": [
      "[0.8895474 0.1627694 0.0947198 0.0781250 0.0745690 0.0726832 0.0712823 0.0704741 0.0701509 0.0697198]\n",
      "[0.0000000 -0.0000155 -0.0000185 -0.0000192 -0.0000193 -0.0000194 -0.0000195 -0.0000196 -0.0000197 -0.0000198]\n",
      "test：0.050000, test mean: 0.069720\n"
     ]
    },
    {
     "name": "stderr",
     "output_type": "stream",
     "text": [
      "\r",
      " 31%|███       | 233/750 [03:59<08:44,  1.01s/it]"
     ]
    },
    {
     "name": "stdout",
     "output_type": "stream",
     "text": [
      "[0.8894313 0.1626609 0.0947961 0.0782189 0.0746781 0.0727468 0.0713519 0.0705472 0.0702253 0.0697961]\n",
      "[0.0000000 -0.0000155 -0.0000185 -0.0000192 -0.0000193 -0.0000194 -0.0000195 -0.0000196 -0.0000197 -0.0000198]\n",
      "test：0.087500, test mean: 0.069796\n"
     ]
    },
    {
     "name": "stderr",
     "output_type": "stream",
     "text": [
      "\r",
      " 31%|███       | 234/750 [04:00<08:43,  1.02s/it]"
     ]
    },
    {
     "name": "stdout",
     "output_type": "stream",
     "text": [
      "[0.8893163 0.1625000 0.0947650 0.0781517 0.0746261 0.0727030 0.0713141 0.0705128 0.0701923 0.0697650]\n",
      "[0.0000000 -0.0000155 -0.0000185 -0.0000192 -0.0000193 -0.0000194 -0.0000195 -0.0000196 -0.0000197 -0.0000197]\n",
      "test：0.062500, test mean: 0.069765\n"
     ]
    },
    {
     "name": "stderr",
     "output_type": "stream",
     "text": [
      "\r",
      " 31%|███▏      | 235/750 [04:01<08:42,  1.02s/it]"
     ]
    },
    {
     "name": "stdout",
     "output_type": "stream",
     "text": [
      "[0.8893617 0.1622340 0.0945745 0.0780319 0.0745213 0.0726064 0.0712234 0.0704255 0.0701064 0.0696809]\n",
      "[0.0000000 -0.0000155 -0.0000185 -0.0000192 -0.0000193 -0.0000194 -0.0000195 -0.0000196 -0.0000197 -0.0000197]\n",
      "test：0.050000, test mean: 0.069681\n"
     ]
    },
    {
     "name": "stderr",
     "output_type": "stream",
     "text": [
      "\r",
      " 31%|███▏      | 236/750 [04:02<08:42,  1.02s/it]"
     ]
    },
    {
     "name": "stdout",
     "output_type": "stream",
     "text": [
      "[0.8891949 0.1622352 0.0944386 0.0779661 0.0744703 0.0725636 0.0711864 0.0703920 0.0700212 0.0695975]\n",
      "[0.0000000 -0.0000155 -0.0000185 -0.0000192 -0.0000193 -0.0000194 -0.0000195 -0.0000196 -0.0000197 -0.0000197]\n",
      "test：0.050000, test mean: 0.069597\n"
     ]
    },
    {
     "name": "stderr",
     "output_type": "stream",
     "text": [
      "\r",
      " 32%|███▏      | 237/750 [04:03<08:41,  1.02s/it]"
     ]
    },
    {
     "name": "stdout",
     "output_type": "stream",
     "text": [
      "[0.8892405 0.1621835 0.0945148 0.0779536 0.0744198 0.0725211 0.0711498 0.0703587 0.0699895 0.0695675]\n",
      "[0.0000000 -0.0000155 -0.0000185 -0.0000192 -0.0000193 -0.0000194 -0.0000195 -0.0000196 -0.0000197 -0.0000197]\n",
      "test：0.062500, test mean: 0.069568\n"
     ]
    },
    {
     "name": "stderr",
     "output_type": "stream",
     "text": [
      "\r",
      " 32%|███▏      | 238/750 [04:04<08:40,  1.02s/it]"
     ]
    },
    {
     "name": "stdout",
     "output_type": "stream",
     "text": [
      "[0.8893908 0.1620273 0.0945378 0.0779937 0.0744223 0.0725315 0.0711660 0.0703782 0.0700105 0.0695903]\n",
      "[0.0000000 -0.0000155 -0.0000185 -0.0000192 -0.0000193 -0.0000194 -0.0000195 -0.0000196 -0.0000197 -0.0000197]\n",
      "test：0.075000, test mean: 0.069590\n"
     ]
    },
    {
     "name": "stderr",
     "output_type": "stream",
     "text": [
      "\r",
      " 32%|███▏      | 239/750 [04:05<08:39,  1.02s/it]"
     ]
    },
    {
     "name": "stdout",
     "output_type": "stream",
     "text": [
      "[0.8895398 0.1620293 0.0945607 0.0780858 0.0745293 0.0725941 0.0712343 0.0704498 0.0701360 0.0696653]\n",
      "[0.0000000 -0.0000155 -0.0000185 -0.0000192 -0.0000193 -0.0000194 -0.0000195 -0.0000196 -0.0000197 -0.0000197]\n",
      "test：0.087500, test mean: 0.069665\n"
     ]
    },
    {
     "name": "stderr",
     "output_type": "stream",
     "text": [
      "\r",
      " 32%|███▏      | 240/750 [04:06<08:38,  1.02s/it]"
     ]
    },
    {
     "name": "stdout",
     "output_type": "stream",
     "text": [
      "[0.8894271 0.1621354 0.0948958 0.0783333 0.0747396 0.0728125 0.0714583 0.0706771 0.0703646 0.0698958]\n",
      "[0.0000000 -0.0000155 -0.0000185 -0.0000192 -0.0000193 -0.0000194 -0.0000195 -0.0000196 -0.0000196 -0.0000197]\n",
      "test：0.125000, test mean: 0.069896\n"
     ]
    },
    {
     "name": "stderr",
     "output_type": "stream",
     "text": [
      "\r",
      " 32%|███▏      | 241/750 [04:07<08:37,  1.02s/it]"
     ]
    },
    {
     "name": "stdout",
     "output_type": "stream",
     "text": [
      "[0.8891598 0.1621369 0.0950726 0.0784751 0.0748963 0.0729772 0.0716286 0.0708506 0.0705394 0.0700726]\n",
      "[0.0000000 -0.0000155 -0.0000184 -0.0000192 -0.0000193 -0.0000194 -0.0000195 -0.0000196 -0.0000196 -0.0000197]\n",
      "test：0.112500, test mean: 0.070073\n"
     ]
    },
    {
     "name": "stderr",
     "output_type": "stream",
     "text": [
      "\r",
      " 32%|███▏      | 242/750 [04:08<08:35,  1.02s/it]"
     ]
    },
    {
     "name": "stdout",
     "output_type": "stream",
     "text": [
      "[0.8892046 0.1622417 0.0952479 0.0787190 0.0751550 0.0731921 0.0718492 0.0710744 0.0707645 0.0702996]\n",
      "[0.0000000 -0.0000155 -0.0000185 -0.0000192 -0.0000193 -0.0000194 -0.0000195 -0.0000196 -0.0000196 -0.0000197]\n",
      "test：0.125000, test mean: 0.070300\n"
     ]
    },
    {
     "name": "stderr",
     "output_type": "stream",
     "text": [
      "\r",
      " 32%|███▏      | 243/750 [04:09<08:35,  1.02s/it]"
     ]
    },
    {
     "name": "stdout",
     "output_type": "stream",
     "text": [
      "[0.8893004 0.1622942 0.0952161 0.0786523 0.0751029 0.0731481 0.0718107 0.0710391 0.0707305 0.0702675]\n",
      "[0.0000000 -0.0000155 -0.0000185 -0.0000192 -0.0000193 -0.0000194 -0.0000195 -0.0000196 -0.0000197 -0.0000197]\n",
      "test：0.062500, test mean: 0.070267\n"
     ]
    },
    {
     "name": "stderr",
     "output_type": "stream",
     "text": [
      "\r",
      " 33%|███▎      | 244/750 [04:10<08:34,  1.02s/it]"
     ]
    },
    {
     "name": "stdout",
     "output_type": "stream",
     "text": [
      "[0.8894467 0.1623463 0.0952357 0.0787398 0.0751537 0.0731557 0.0718238 0.0710553 0.0707480 0.0702869]\n",
      "[0.0000000 -0.0000156 -0.0000185 -0.0000192 -0.0000193 -0.0000194 -0.0000195 -0.0000196 -0.0000197 -0.0000197]\n",
      "test：0.075000, test mean: 0.070287\n"
     ]
    },
    {
     "name": "stderr",
     "output_type": "stream",
     "text": [
      "\r",
      " 33%|███▎      | 245/750 [04:11<08:31,  1.01s/it]"
     ]
    },
    {
     "name": "stdout",
     "output_type": "stream",
     "text": [
      "[0.8892347 0.1625510 0.0956122 0.0789796 0.0754082 0.0734184 0.0720918 0.0713265 0.0710204 0.0705612]\n",
      "[0.0000000 -0.0000155 -0.0000185 -0.0000192 -0.0000193 -0.0000194 -0.0000195 -0.0000196 -0.0000197 -0.0000197]\n",
      "test：0.137500, test mean: 0.070561\n"
     ]
    },
    {
     "name": "stderr",
     "output_type": "stream",
     "text": [
      "\r",
      " 33%|███▎      | 246/750 [04:12<08:29,  1.01s/it]"
     ]
    },
    {
     "name": "stdout",
     "output_type": "stream",
     "text": [
      "[0.8892785 0.1627033 0.0959350 0.0792175 0.0756606 0.0735772 0.0722053 0.0714431 0.0711382 0.0706809]\n",
      "[0.0000000 -0.0000155 -0.0000185 -0.0000192 -0.0000193 -0.0000194 -0.0000195 -0.0000196 -0.0000197 -0.0000197]\n",
      "test：0.100000, test mean: 0.070681\n"
     ]
    },
    {
     "name": "stderr",
     "output_type": "stream",
     "text": [
      "\r",
      " 33%|███▎      | 247/750 [04:13<08:27,  1.01s/it]"
     ]
    },
    {
     "name": "stdout",
     "output_type": "stream",
     "text": [
      "[0.8893219 0.1626012 0.0958502 0.0789980 0.0754049 0.0733300 0.0719636 0.0712045 0.0709008 0.0704453]\n",
      "[0.0000000 -0.0000155 -0.0000184 -0.0000192 -0.0000193 -0.0000194 -0.0000195 -0.0000196 -0.0000197 -0.0000197]\n",
      "test：0.012500, test mean: 0.070445\n"
     ]
    },
    {
     "name": "stderr",
     "output_type": "stream",
     "text": [
      "\r",
      " 33%|███▎      | 248/750 [04:14<08:26,  1.01s/it]"
     ]
    },
    {
     "name": "stdout",
     "output_type": "stream",
     "text": [
      "[0.8894657 0.1625000 0.0959173 0.0790827 0.0755040 0.0733871 0.0720262 0.0712702 0.0709677 0.0705141]\n",
      "[0.0000000 -0.0000155 -0.0000184 -0.0000192 -0.0000193 -0.0000194 -0.0000195 -0.0000196 -0.0000196 -0.0000197]\n",
      "test：0.087500, test mean: 0.070514\n"
     ]
    },
    {
     "name": "stderr",
     "output_type": "stream",
     "text": [
      "\r",
      " 33%|███▎      | 249/750 [04:15<08:24,  1.01s/it]"
     ]
    },
    {
     "name": "stdout",
     "output_type": "stream",
     "text": [
      "[0.8893072 0.1625000 0.0959337 0.0790161 0.0754518 0.0733434 0.0719880 0.0712349 0.0709337 0.0704819]\n",
      "[0.0000000 -0.0000155 -0.0000184 -0.0000192 -0.0000193 -0.0000194 -0.0000195 -0.0000196 -0.0000196 -0.0000197]\n",
      "test：0.062500, test mean: 0.070482\n"
     ]
    },
    {
     "name": "stderr",
     "output_type": "stream",
     "text": [
      "\r",
      " 33%|███▎      | 250/750 [04:16<08:23,  1.01s/it]"
     ]
    },
    {
     "name": "stdout",
     "output_type": "stream",
     "text": [
      "[0.8892500 0.1625000 0.0962000 0.0792000 0.0756500 0.0735500 0.0721500 0.0713500 0.0710500 0.0706000]\n",
      "[0.0000000 -0.0000155 -0.0000184 -0.0000192 -0.0000193 -0.0000194 -0.0000195 -0.0000195 -0.0000196 -0.0000197]\n",
      "test：0.100000, test mean: 0.070600\n"
     ]
    },
    {
     "name": "stderr",
     "output_type": "stream",
     "text": [
      "\r",
      " 33%|███▎      | 251/750 [04:17<08:23,  1.01s/it]"
     ]
    },
    {
     "name": "stdout",
     "output_type": "stream",
     "text": [
      "[0.8891932 0.1625498 0.0961653 0.0791833 0.0756474 0.0735060 0.0721116 0.0713147 0.0710159 0.0705677]\n",
      "[0.0000000 -0.0000155 -0.0000184 -0.0000192 -0.0000193 -0.0000194 -0.0000195 -0.0000195 -0.0000196 -0.0000197]\n",
      "test：0.062500, test mean: 0.070568\n"
     ]
    },
    {
     "name": "stderr",
     "output_type": "stream",
     "text": [
      "\r",
      " 34%|███▎      | 252/750 [04:18<08:23,  1.01s/it]"
     ]
    },
    {
     "name": "stdout",
     "output_type": "stream",
     "text": [
      "[0.8893849 0.1624504 0.0962302 0.0792163 0.0756944 0.0735615 0.0721726 0.0713790 0.0710814 0.0705853]\n",
      "[0.0000000 -0.0000155 -0.0000184 -0.0000192 -0.0000193 -0.0000194 -0.0000195 -0.0000195 -0.0000196 -0.0000197]\n",
      "test：0.075000, test mean: 0.070585\n"
     ]
    },
    {
     "name": "stderr",
     "output_type": "stream",
     "text": [
      "\r",
      " 34%|███▎      | 253/750 [04:19<08:23,  1.01s/it]"
     ]
    },
    {
     "name": "stdout",
     "output_type": "stream",
     "text": [
      "[0.8892787 0.1625000 0.0962451 0.0792490 0.0757411 0.0736166 0.0722332 0.0714427 0.0711462 0.0706522]\n",
      "[0.0000000 -0.0000155 -0.0000184 -0.0000192 -0.0000193 -0.0000194 -0.0000195 -0.0000195 -0.0000196 -0.0000197]\n",
      "test：0.087500, test mean: 0.070652\n"
     ]
    },
    {
     "name": "stderr",
     "output_type": "stream",
     "text": [
      "\r",
      " 34%|███▍      | 254/750 [04:20<08:23,  1.01s/it]"
     ]
    },
    {
     "name": "stdout",
     "output_type": "stream",
     "text": [
      "[0.8893701 0.1627461 0.0965059 0.0794291 0.0759350 0.0737697 0.0723917 0.0716043 0.0713091 0.0708169]\n",
      "[0.0000000 -0.0000155 -0.0000184 -0.0000192 -0.0000193 -0.0000194 -0.0000195 -0.0000195 -0.0000196 -0.0000197]\n",
      "test：0.112500, test mean: 0.070817\n"
     ]
    },
    {
     "name": "stderr",
     "output_type": "stream",
     "text": [
      "\r",
      " 34%|███▍      | 255/750 [04:21<08:22,  1.01s/it]"
     ]
    },
    {
     "name": "stdout",
     "output_type": "stream",
     "text": [
      "[0.8894118 0.1630392 0.0967157 0.0796569 0.0761765 0.0740196 0.0726471 0.0718627 0.0715686 0.0710784]\n",
      "[0.0000000 -0.0000155 -0.0000184 -0.0000192 -0.0000193 -0.0000194 -0.0000195 -0.0000195 -0.0000196 -0.0000197]\n",
      "test：0.137500, test mean: 0.071078\n"
     ]
    },
    {
     "name": "stderr",
     "output_type": "stream",
     "text": [
      "\r",
      " 34%|███▍      | 256/750 [04:22<08:21,  1.02s/it]"
     ]
    },
    {
     "name": "stdout",
     "output_type": "stream",
     "text": [
      "[0.8893067 0.1633301 0.0968750 0.0797852 0.0762695 0.0741211 0.0727539 0.0719727 0.0716797 0.0711914]\n",
      "[0.0000000 -0.0000155 -0.0000184 -0.0000192 -0.0000193 -0.0000194 -0.0000194 -0.0000195 -0.0000196 -0.0000197]\n",
      "test：0.100000, test mean: 0.071191\n"
     ]
    },
    {
     "name": "stderr",
     "output_type": "stream",
     "text": [
      "\r",
      " 34%|███▍      | 257/750 [04:23<08:20,  1.02s/it]"
     ]
    },
    {
     "name": "stdout",
     "output_type": "stream",
     "text": [
      "[0.8895428 0.1634241 0.0968872 0.0797665 0.0762646 0.0741245 0.0727626 0.0719844 0.0716926 0.0712062]\n",
      "[0.0000000 -0.0000155 -0.0000184 -0.0000192 -0.0000193 -0.0000194 -0.0000194 -0.0000195 -0.0000196 -0.0000197]\n",
      "test：0.075000, test mean: 0.071206\n"
     ]
    },
    {
     "name": "stderr",
     "output_type": "stream",
     "text": [
      "\r",
      " 34%|███▍      | 258/750 [04:24<08:20,  1.02s/it]"
     ]
    },
    {
     "name": "stdout",
     "output_type": "stream",
     "text": [
      "[0.8895349 0.1635659 0.0969961 0.0798450 0.0762597 0.0741279 0.0727713 0.0719961 0.0717054 0.0712209]\n",
      "[0.0000000 -0.0000155 -0.0000184 -0.0000191 -0.0000193 -0.0000194 -0.0000194 -0.0000195 -0.0000196 -0.0000197]\n",
      "test：0.075000, test mean: 0.071221\n"
     ]
    },
    {
     "name": "stderr",
     "output_type": "stream",
     "text": [
      "\r",
      " 35%|███▍      | 259/750 [04:25<08:18,  1.02s/it]"
     ]
    },
    {
     "name": "stdout",
     "output_type": "stream",
     "text": [
      "[0.8896236 0.1635618 0.0971525 0.0799710 0.0763996 0.0741795 0.0728282 0.0720077 0.0717181 0.0712355]\n",
      "[0.0000000 -0.0000155 -0.0000184 -0.0000191 -0.0000193 -0.0000193 -0.0000194 -0.0000195 -0.0000196 -0.0000197]\n",
      "test：0.075000, test mean: 0.071236\n"
     ]
    }
   ],
   "source": [
    "model.eval()\n",
    "acc = []\n",
    "preds = []\n",
    "labels = []\n",
    "total_batch_acc = []\n",
    "total_batch_grad = []\n",
    "bar = tqdm(validloader)\n",
    "for step, (batch_data,batch_label) in enumerate(bar):\n",
    "    batch_data = batch_data.cuda() if CUDA else batch_data\n",
    "    batch_label = batch_label.cuda() if CUDA else batch_label\n",
    "    batch_label = batch_label.squeeze()\n",
    "    temp_label = torch.zeros((len(batch_label),2))\n",
    "    for idx,target in enumerate(batch_label.squeeze()): temp_label[idx,target] = 1\n",
    "    temp_label = temp_label.cuda() if CUDA else temp_label\n",
    "\n",
    "#     pred,input_,one_hot_x = model(batch_data,ce_loss)\n",
    "#     break\n",
    "    pred,batch_acc,batch_grad = model(batch_data,ce_loss)\n",
    "    pred = np.argmax(pred,1)\n",
    "    batch_label = batch_label.cpu().data.numpy()\n",
    "    \n",
    "    preds.extend(pred.tolist())\n",
    "    labels.extend(batch_label.tolist())\n",
    "    \n",
    "    temp_acc = (batch_label == pred).mean()\n",
    "    acc.append(temp_acc)\n",
    "    total_batch_acc.append(batch_acc + [temp_acc])\n",
    "    total_batch_grad.append([0] + batch_grad)\n",
    "    total_batch_acc_str = '[' + ' '.join(map(lambda x: '%.7f'%x,np.mean(total_batch_acc,axis=0))) + ']'\n",
    "    total_batch_grad_str = '[' + ' '.join(map(lambda x: '%.7f'%x,np.mean(total_batch_grad,axis=0))) + ']'\n",
    "    print(total_batch_acc_str)\n",
    "    print(total_batch_grad_str)\n",
    "    print(f\"test：{temp_acc:4f}, test mean: {np.mean(acc):4f}\")"
   ]
  },
  {
   "cell_type": "code",
   "execution_count": 15,
   "id": "e05ccdb6",
   "metadata": {},
   "outputs": [],
   "source": [
    "# padding_place_mask = (input_ == 0)\n",
    "# shape = padding_place_mask.shape\n",
    "# expand_padding_place_mask = padding_place_mask.unsqueeze(-1).expand(shape[0],shape[1],257)\n",
    "# grad_min_idx = torch.argmin(one_hot_x.grad,dim=-1)\n",
    "# grad_sez_mask = (one_hot_x.grad <= 0)\n",
    "# grad_mask = (expand_padding_place_mask & grad_sez_mask)\n",
    "# new_x = torch.argmin(grad_mask.float()*one_hot_x.grad,dim=-1)\n",
    "# grad_all_gz_mask = grad_sez_mask.sum(dim=-1) == 257\n",
    "# mask = ((~grad_all_gz_mask) & padding_place_mask)\n",
    "# batch_data.data = (1 - mask.float())*input_ + mask.float()*new_x\n",
    "\n",
    "# preds,input_,one_hot_x = model(batch_data.long(),ce_loss)"
   ]
  },
  {
   "cell_type": "code",
   "execution_count": 37,
   "id": "5b4f81d6",
   "metadata": {},
   "outputs": [],
   "source": [
    "padding_place_mask = (input_ == 0)\n",
    "shape = padding_place_mask.shape\n",
    "expand_padding_place_mask = padding_place_mask.unsqueeze(-1).expand(shape[0],shape[1],257)"
   ]
  },
  {
   "cell_type": "code",
   "execution_count": 38,
   "id": "2ded5a7a",
   "metadata": {},
   "outputs": [],
   "source": [
    "grad_min_idx = torch.argmin(one_hot_x.grad,dim=-1)"
   ]
  },
  {
   "cell_type": "code",
   "execution_count": 39,
   "id": "f359cc37",
   "metadata": {},
   "outputs": [],
   "source": [
    "grad_sez_mask = (one_hot_x.grad <= 0)"
   ]
  },
  {
   "cell_type": "code",
   "execution_count": 40,
   "id": "1c47e460",
   "metadata": {},
   "outputs": [],
   "source": [
    "grad_mask = (expand_padding_place_mask & grad_sez_mask)"
   ]
  },
  {
   "cell_type": "code",
   "execution_count": 41,
   "id": "887dd383",
   "metadata": {},
   "outputs": [],
   "source": [
    "new_x = torch.argmin(grad_mask.float()*one_hot_x.grad,dim=-1)"
   ]
  },
  {
   "cell_type": "code",
   "execution_count": 42,
   "id": "43b9185a",
   "metadata": {},
   "outputs": [],
   "source": [
    "grad_all_gz_mask = grad_sez_mask.sum(dim=-1) == 257"
   ]
  },
  {
   "cell_type": "code",
   "execution_count": 43,
   "id": "85afbb8a",
   "metadata": {},
   "outputs": [],
   "source": [
    "mask = ((~grad_all_gz_mask) & padding_place_mask)"
   ]
  },
  {
   "cell_type": "code",
   "execution_count": 45,
   "id": "7d0a0ad6",
   "metadata": {},
   "outputs": [],
   "source": [
    "temp = (1 - mask.float())*input_ + mask.float()*new_x\n"
   ]
  },
  {
   "cell_type": "code",
   "execution_count": 48,
   "id": "bf3fa060",
   "metadata": {},
   "outputs": [],
   "source": [
    "one_hot_x.data = F.one_hot(temp.long(),num_classes=257).float()"
   ]
  },
  {
   "cell_type": "code",
   "execution_count": 24,
   "id": "f761c1d1",
   "metadata": {},
   "outputs": [],
   "source": [
    "# one_hot_x_max_idx = torch.argmax(one_hot_x,dim=-1)"
   ]
  },
  {
   "cell_type": "code",
   "execution_count": 28,
   "id": "22633c66",
   "metadata": {},
   "outputs": [],
   "source": [
    "# preds,input_,one_hot_x = model(batch_data.long(),ce_loss)"
   ]
  },
  {
   "cell_type": "code",
   "execution_count": 29,
   "id": "72cb159a",
   "metadata": {},
   "outputs": [
    {
     "data": {
      "text/plain": [
       "0.08333333333333333"
      ]
     },
     "execution_count": 29,
     "metadata": {},
     "output_type": "execute_result"
    }
   ],
   "source": [
    "# _, predicted = torch.max(preds, 1)\n",
    "# acc = (batch_label.cpu().data.numpy() == predicted.cpu().data.numpy()).mean()\n",
    "# acc"
   ]
  }
 ],
 "metadata": {
  "kernelspec": {
   "display_name": "Python 3",
   "language": "python",
   "name": "python3"
  },
  "language_info": {
   "codemirror_mode": {
    "name": "ipython",
    "version": 3
   },
   "file_extension": ".py",
   "mimetype": "text/x-python",
   "name": "python",
   "nbconvert_exporter": "python",
   "pygments_lexer": "ipython3",
   "version": "3.6.9"
  }
 },
 "nbformat": 4,
 "nbformat_minor": 5
}
